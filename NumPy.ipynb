{
  "nbformat": 4,
  "nbformat_minor": 5,
  "metadata": {
    "kernelspec": {
      "display_name": "Python 3",
      "language": "python",
      "name": "python3"
    },
    "language_info": {
      "codemirror_mode": {
        "name": "ipython",
        "version": 3
      },
      "file_extension": ".py",
      "mimetype": "text/x-python",
      "name": "python",
      "nbconvert_exporter": "python",
      "pygments_lexer": "ipython3",
      "version": "3.8.8"
    },
    "colab": {
      "name": "NumPy.ipynb",
      "provenance": [],
      "include_colab_link": true
    }
  },
  "cells": [
    {
      "cell_type": "markdown",
      "metadata": {
        "id": "view-in-github",
        "colab_type": "text"
      },
      "source": [
        "<a href=\"https://colab.research.google.com/github/deepikagoel1/Edufabrica-aiml/blob/main/NumPy.ipynb\" target=\"_parent\"><img src=\"https://colab.research.google.com/assets/colab-badge.svg\" alt=\"Open In Colab\"/></a>"
      ]
    },
    {
      "cell_type": "markdown",
      "metadata": {
        "id": "6d4a25d3"
      },
      "source": [
        "<img src = 'https://www.freecodecamp.org/news/content/images/2020/07/numpy.png' width=\"300\"/>"
      ],
      "id": "6d4a25d3"
    },
    {
      "cell_type": "markdown",
      "metadata": {
        "id": "53fadeed"
      },
      "source": [
        "#  What is NumPy ?\n",
        "\n",
        "NumPy stands for Numerical Python and is the core library for numeric and Scientific computing.It provides a high - performance multidimensional array object, and tools for working with these arrays.\n",
        "\n",
        "## Where is NumPy used ?\n",
        "Python NumPy Arrays provide tools for c , c ++ , etc. It is also used in the linear algebra, random no. capability\n",
        "\n",
        "## What is NumPy Array ?¶\n",
        "Np Array is a powerful N - dimensional Array object which is in the form of rows and columns.The most important object tht you define in numpy is N- dimensional Arrays is called as Ndarray. This describes the collection of items of the same dtype.\n",
        "\n",
        "## Dtype\n",
        "\n",
        "Every item in an ndarray takes the same size of block in the memory, each of them ahs a particuar data type that is called as dtype."
      ],
      "id": "53fadeed"
    },
    {
      "cell_type": "markdown",
      "metadata": {
        "id": "02d41360"
      },
      "source": [
        "# Importing the Package and checking its <font color = 'green'>Version</font>"
      ],
      "id": "02d41360"
    },
    {
      "cell_type": "code",
      "metadata": {
        "id": "6b681256"
      },
      "source": [
        "import numpy as np"
      ],
      "id": "6b681256",
      "execution_count": null,
      "outputs": []
    },
    {
      "cell_type": "code",
      "metadata": {
        "id": "76fac19f",
        "outputId": "eb7d112e-1120-4991-8eb2-a32ed175b91f"
      },
      "source": [
        "np.__version__"
      ],
      "id": "76fac19f",
      "execution_count": null,
      "outputs": [
        {
          "output_type": "execute_result",
          "data": {
            "text/plain": [
              "'1.20.1'"
            ]
          },
          "metadata": {
            "tags": []
          },
          "execution_count": 2
        }
      ]
    },
    {
      "cell_type": "markdown",
      "metadata": {
        "id": "b35051b9"
      },
      "source": [
        "## Creating an NumPy Array"
      ],
      "id": "b35051b9"
    },
    {
      "cell_type": "code",
      "metadata": {
        "id": "ad8bfaaa",
        "outputId": "3ad20635-06ec-4f32-e06a-fe8e8814095b"
      },
      "source": [
        "arr = np.array([1, 2, 3])\n",
        "arr"
      ],
      "id": "ad8bfaaa",
      "execution_count": null,
      "outputs": [
        {
          "output_type": "execute_result",
          "data": {
            "text/plain": [
              "array([1, 2, 3])"
            ]
          },
          "metadata": {
            "tags": []
          },
          "execution_count": 3
        }
      ]
    },
    {
      "cell_type": "code",
      "metadata": {
        "id": "b9afeb38",
        "outputId": "a3ca279d-a34e-451f-8e79-7c96c1964555"
      },
      "source": [
        "arr2d = np.array([[1, 2, 3] , [4, 5, 6]])\n",
        "arr2d"
      ],
      "id": "b9afeb38",
      "execution_count": null,
      "outputs": [
        {
          "output_type": "execute_result",
          "data": {
            "text/plain": [
              "array([[1, 2, 3],\n",
              "       [4, 5, 6]])"
            ]
          },
          "metadata": {
            "tags": []
          },
          "execution_count": 8
        }
      ]
    },
    {
      "cell_type": "code",
      "metadata": {
        "id": "46a36640",
        "outputId": "f46c2272-7363-4195-c23c-e7cbb836e626"
      },
      "source": [
        "arr0d = np.array(23)\n",
        "arr0d"
      ],
      "id": "46a36640",
      "execution_count": null,
      "outputs": [
        {
          "output_type": "execute_result",
          "data": {
            "text/plain": [
              "array(23)"
            ]
          },
          "metadata": {
            "tags": []
          },
          "execution_count": 11
        }
      ]
    },
    {
      "cell_type": "markdown",
      "metadata": {
        "id": "68995613"
      },
      "source": [
        "# Inspection of Arrays\n",
        "shape, len , ndim, ndmin, size, dtype, itemsize, astype, dtype.name"
      ],
      "id": "68995613"
    },
    {
      "cell_type": "markdown",
      "metadata": {
        "id": "6fc6e0a8"
      },
      "source": [
        "## `ndim` \n",
        "\n",
        "\n",
        "Returns Number of array dimensions"
      ],
      "id": "6fc6e0a8"
    },
    {
      "cell_type": "code",
      "metadata": {
        "id": "efd27274",
        "outputId": "a3f692bd-af76-46ab-bb1b-a2f40a0d3df4"
      },
      "source": [
        "arr.ndim"
      ],
      "id": "efd27274",
      "execution_count": null,
      "outputs": [
        {
          "output_type": "execute_result",
          "data": {
            "text/plain": [
              "1"
            ]
          },
          "metadata": {
            "tags": []
          },
          "execution_count": 4
        }
      ]
    },
    {
      "cell_type": "code",
      "metadata": {
        "id": "7bebdbf0",
        "outputId": "cbb82573-93c1-470b-f604-6b38b560759c"
      },
      "source": [
        "arr2d.ndim"
      ],
      "id": "7bebdbf0",
      "execution_count": null,
      "outputs": [
        {
          "output_type": "execute_result",
          "data": {
            "text/plain": [
              "2"
            ]
          },
          "metadata": {
            "tags": []
          },
          "execution_count": 12
        }
      ]
    },
    {
      "cell_type": "markdown",
      "metadata": {
        "id": "fdd7ab9b"
      },
      "source": [
        "## `len`\n",
        "\n",
        "Returns the length of the array"
      ],
      "id": "fdd7ab9b"
    },
    {
      "cell_type": "code",
      "metadata": {
        "id": "57827f07",
        "outputId": "22209490-0370-4f94-a5f7-bcc18d956d6b"
      },
      "source": [
        "len(arr)"
      ],
      "id": "57827f07",
      "execution_count": null,
      "outputs": [
        {
          "output_type": "execute_result",
          "data": {
            "text/plain": [
              "3"
            ]
          },
          "metadata": {
            "tags": []
          },
          "execution_count": 13
        }
      ]
    },
    {
      "cell_type": "code",
      "metadata": {
        "id": "e779974d",
        "outputId": "cd7c0bc2-45fb-4e00-e7b5-f42d3f4f7d83"
      },
      "source": [
        "arr"
      ],
      "id": "e779974d",
      "execution_count": null,
      "outputs": [
        {
          "output_type": "execute_result",
          "data": {
            "text/plain": [
              "array([1, 2, 3])"
            ]
          },
          "metadata": {
            "tags": []
          },
          "execution_count": 14
        }
      ]
    },
    {
      "cell_type": "code",
      "metadata": {
        "id": "86b59945",
        "outputId": "27ae4f85-c260-4361-e7d7-658e85a96f1a"
      },
      "source": [
        "arr2d"
      ],
      "id": "86b59945",
      "execution_count": null,
      "outputs": [
        {
          "output_type": "execute_result",
          "data": {
            "text/plain": [
              "array([[1, 2, 3],\n",
              "       [4, 5, 6]])"
            ]
          },
          "metadata": {
            "tags": []
          },
          "execution_count": 15
        }
      ]
    },
    {
      "cell_type": "code",
      "metadata": {
        "id": "8894dc96",
        "outputId": "6d866ce7-922f-4a49-8846-1df6ebb1f288"
      },
      "source": [
        "len(arr2d)"
      ],
      "id": "8894dc96",
      "execution_count": null,
      "outputs": [
        {
          "output_type": "execute_result",
          "data": {
            "text/plain": [
              "2"
            ]
          },
          "metadata": {
            "tags": []
          },
          "execution_count": 16
        }
      ]
    },
    {
      "cell_type": "markdown",
      "metadata": {
        "id": "c17ed021"
      },
      "source": [
        "## `size` \n",
        "\n",
        "Return the Number of array elements."
      ],
      "id": "c17ed021"
    },
    {
      "cell_type": "code",
      "metadata": {
        "id": "af2e2ebc",
        "outputId": "f0bab7e6-7950-4b0b-e28e-de4492aa5ac8"
      },
      "source": [
        "arr2d.size"
      ],
      "id": "af2e2ebc",
      "execution_count": null,
      "outputs": [
        {
          "output_type": "execute_result",
          "data": {
            "text/plain": [
              "6"
            ]
          },
          "metadata": {
            "tags": []
          },
          "execution_count": 17
        }
      ]
    },
    {
      "cell_type": "code",
      "metadata": {
        "id": "96a0d8d9",
        "outputId": "2d1a01a8-8854-4adf-d833-95e61fa55d64"
      },
      "source": [
        "arr.size"
      ],
      "id": "96a0d8d9",
      "execution_count": null,
      "outputs": [
        {
          "output_type": "execute_result",
          "data": {
            "text/plain": [
              "3"
            ]
          },
          "metadata": {
            "tags": []
          },
          "execution_count": 18
        }
      ]
    },
    {
      "cell_type": "markdown",
      "metadata": {
        "id": "f575fab5"
      },
      "source": [
        "## `shape` \n",
        "\n",
        "Returns the number of dimensions of the array in tuples(rows, cols)"
      ],
      "id": "f575fab5"
    },
    {
      "cell_type": "code",
      "metadata": {
        "id": "640d0e3d",
        "outputId": "121b89a6-b06b-467e-b62e-f2a53b4bbb76"
      },
      "source": [
        "arr2d.shape"
      ],
      "id": "640d0e3d",
      "execution_count": null,
      "outputs": [
        {
          "output_type": "execute_result",
          "data": {
            "text/plain": [
              "(2, 3)"
            ]
          },
          "metadata": {
            "tags": []
          },
          "execution_count": 19
        }
      ]
    },
    {
      "cell_type": "code",
      "metadata": {
        "id": "17e68590",
        "outputId": "e8436289-aad8-4e9a-fdca-ad635dd5cddb"
      },
      "source": [
        "arr2d"
      ],
      "id": "17e68590",
      "execution_count": null,
      "outputs": [
        {
          "output_type": "execute_result",
          "data": {
            "text/plain": [
              "array([[1, 2, 3],\n",
              "       [4, 5, 6]])"
            ]
          },
          "metadata": {
            "tags": []
          },
          "execution_count": 20
        }
      ]
    },
    {
      "cell_type": "markdown",
      "metadata": {
        "id": "83adced1"
      },
      "source": [
        "## `dtype`\n",
        "\n",
        "Returns the data types of the array"
      ],
      "id": "83adced1"
    },
    {
      "cell_type": "code",
      "metadata": {
        "id": "c8778406",
        "outputId": "fae4f089-ca5c-4384-c63d-91e45fa67c6c"
      },
      "source": [
        "np.array([1, 2.3])"
      ],
      "id": "c8778406",
      "execution_count": null,
      "outputs": [
        {
          "output_type": "execute_result",
          "data": {
            "text/plain": [
              "array([1. , 2.3])"
            ]
          },
          "metadata": {
            "tags": []
          },
          "execution_count": 22
        }
      ]
    },
    {
      "cell_type": "code",
      "metadata": {
        "id": "0d7f463d",
        "outputId": "3a0362a5-9a83-44b7-e2d6-d97244e2aac8"
      },
      "source": [
        "arr.dtype"
      ],
      "id": "0d7f463d",
      "execution_count": null,
      "outputs": [
        {
          "output_type": "execute_result",
          "data": {
            "text/plain": [
              "dtype('int64')"
            ]
          },
          "metadata": {
            "tags": []
          },
          "execution_count": 26
        }
      ]
    },
    {
      "cell_type": "code",
      "metadata": {
        "id": "40f66fcd",
        "outputId": "02712fae-4dda-450e-a39b-f6602a212bd8"
      },
      "source": [
        "[1, 2.3, 3j]"
      ],
      "id": "40f66fcd",
      "execution_count": null,
      "outputs": [
        {
          "output_type": "execute_result",
          "data": {
            "text/plain": [
              "[1, 2.3, 3j]"
            ]
          },
          "metadata": {
            "tags": []
          },
          "execution_count": 25
        }
      ]
    },
    {
      "cell_type": "markdown",
      "metadata": {
        "id": "f0d3bf18"
      },
      "source": [
        "## `dtype.name`\n",
        "\n",
        "Returns the data type name of the array "
      ],
      "id": "f0d3bf18"
    },
    {
      "cell_type": "code",
      "metadata": {
        "id": "59b79cf3",
        "outputId": "ee4a8986-995e-45f3-d39e-62fa5ad71079"
      },
      "source": [
        "arr"
      ],
      "id": "59b79cf3",
      "execution_count": null,
      "outputs": [
        {
          "output_type": "execute_result",
          "data": {
            "text/plain": [
              "array([1, 2, 3])"
            ]
          },
          "metadata": {
            "tags": []
          },
          "execution_count": 24
        }
      ]
    },
    {
      "cell_type": "code",
      "metadata": {
        "id": "973cb8c3",
        "outputId": "ea9261b8-3475-4f77-f484-bd961e17af61"
      },
      "source": [
        "arr.dtype.name"
      ],
      "id": "973cb8c3",
      "execution_count": null,
      "outputs": [
        {
          "output_type": "execute_result",
          "data": {
            "text/plain": [
              "'int64'"
            ]
          },
          "metadata": {
            "tags": []
          },
          "execution_count": 27
        }
      ]
    },
    {
      "cell_type": "code",
      "metadata": {
        "id": "6acb98a7",
        "outputId": "879f78f5-c274-4962-e0a1-87ac1b5c4f44"
      },
      "source": [
        "np.array([True, False]).dtype.name"
      ],
      "id": "6acb98a7",
      "execution_count": null,
      "outputs": [
        {
          "output_type": "execute_result",
          "data": {
            "text/plain": [
              "'bool'"
            ]
          },
          "metadata": {
            "tags": []
          },
          "execution_count": 29
        }
      ]
    },
    {
      "cell_type": "code",
      "metadata": {
        "id": "3c68248c",
        "outputId": "08d463c7-a5ff-49f9-f229-c67c87041a4a"
      },
      "source": [
        "np.array([23j, -5j]).dtype.name"
      ],
      "id": "3c68248c",
      "execution_count": null,
      "outputs": [
        {
          "output_type": "execute_result",
          "data": {
            "text/plain": [
              "'complex128'"
            ]
          },
          "metadata": {
            "tags": []
          },
          "execution_count": 31
        }
      ]
    },
    {
      "cell_type": "markdown",
      "metadata": {
        "id": "3262d853"
      },
      "source": [
        "## `ndmin` \n",
        "\n",
        "define the no of dimensions of your array"
      ],
      "id": "3262d853"
    },
    {
      "cell_type": "code",
      "metadata": {
        "id": "653e636b",
        "outputId": "7dcfd940-9244-4f46-b39c-e0f695086e2a"
      },
      "source": [
        "arr"
      ],
      "id": "653e636b",
      "execution_count": null,
      "outputs": [
        {
          "output_type": "execute_result",
          "data": {
            "text/plain": [
              "array([1, 2, 3])"
            ]
          },
          "metadata": {
            "tags": []
          },
          "execution_count": 32
        }
      ]
    },
    {
      "cell_type": "code",
      "metadata": {
        "id": "56a19ed3",
        "outputId": "fade9101-d48c-4a1b-f641-17116c426f71"
      },
      "source": [
        "np.array(arr2d, ndmin = 4)"
      ],
      "id": "56a19ed3",
      "execution_count": null,
      "outputs": [
        {
          "output_type": "execute_result",
          "data": {
            "text/plain": [
              "array([[[[1, 2, 3],\n",
              "         [4, 5, 6]]]])"
            ]
          },
          "metadata": {
            "tags": []
          },
          "execution_count": 34
        }
      ]
    },
    {
      "cell_type": "markdown",
      "metadata": {
        "id": "50c669e5"
      },
      "source": [
        "## `astype` "
      ],
      "id": "50c669e5"
    },
    {
      "cell_type": "code",
      "metadata": {
        "id": "d829b439",
        "outputId": "a1c8ea08-e4ed-4cf9-9fca-9119ba021c99"
      },
      "source": [
        "np.array([True, False]).astype('int')"
      ],
      "id": "d829b439",
      "execution_count": null,
      "outputs": [
        {
          "output_type": "execute_result",
          "data": {
            "text/plain": [
              "array([1, 0])"
            ]
          },
          "metadata": {
            "tags": []
          },
          "execution_count": 40
        }
      ]
    },
    {
      "cell_type": "code",
      "metadata": {
        "id": "dad576c9",
        "outputId": "9402810c-dd25-4050-ad11-a351c1585824"
      },
      "source": [
        "arr.astype('float')"
      ],
      "id": "dad576c9",
      "execution_count": null,
      "outputs": [
        {
          "output_type": "execute_result",
          "data": {
            "text/plain": [
              "array([1., 2., 3.])"
            ]
          },
          "metadata": {
            "tags": []
          },
          "execution_count": 42
        }
      ]
    },
    {
      "cell_type": "markdown",
      "metadata": {
        "id": "1902b93c"
      },
      "source": [
        "# Array mathematics\n",
        "\n",
        "add, subtract, multiply, divide, sqrt, log, sin, cos, dot"
      ],
      "id": "1902b93c"
    },
    {
      "cell_type": "code",
      "metadata": {
        "id": "b104f51f"
      },
      "source": [
        "a = np.array([1, 2, 3])\n",
        "b = np.array([(1.5, 2, 3), (4, 5, 6)])"
      ],
      "id": "b104f51f",
      "execution_count": null,
      "outputs": []
    },
    {
      "cell_type": "code",
      "metadata": {
        "id": "22ce5f7c",
        "outputId": "9f8b35c5-e1f7-4422-ae21-afce5f38389a"
      },
      "source": [
        "a,b"
      ],
      "id": "22ce5f7c",
      "execution_count": null,
      "outputs": [
        {
          "output_type": "execute_result",
          "data": {
            "text/plain": [
              "(array([1, 2, 3]),\n",
              " array([[1.5, 2. , 3. ],\n",
              "        [4. , 5. , 6. ]]))"
            ]
          },
          "metadata": {
            "tags": []
          },
          "execution_count": 50
        }
      ]
    },
    {
      "cell_type": "markdown",
      "metadata": {
        "id": "a6278106"
      },
      "source": [
        "## `add`\n",
        "\n",
        "performs addition on the array "
      ],
      "id": "a6278106"
    },
    {
      "cell_type": "code",
      "metadata": {
        "id": "3a4a03db",
        "outputId": "8d40bca0-765a-42e1-f05f-efbe1e6f1ca8"
      },
      "source": [
        "np.add(a,b)"
      ],
      "id": "3a4a03db",
      "execution_count": null,
      "outputs": [
        {
          "output_type": "execute_result",
          "data": {
            "text/plain": [
              "array([[2.5, 4. , 6. ],\n",
              "       [5. , 7. , 9. ]])"
            ]
          },
          "metadata": {
            "tags": []
          },
          "execution_count": 49
        }
      ]
    },
    {
      "cell_type": "code",
      "metadata": {
        "id": "eeabb08c",
        "outputId": "49a6938e-fed2-4d0f-cb08-1847a6acb1da"
      },
      "source": [
        "a + b"
      ],
      "id": "eeabb08c",
      "execution_count": null,
      "outputs": [
        {
          "output_type": "execute_result",
          "data": {
            "text/plain": [
              "array([[2.5, 4. , 6. ],\n",
              "       [5. , 7. , 9. ]])"
            ]
          },
          "metadata": {
            "tags": []
          },
          "execution_count": 51
        }
      ]
    },
    {
      "cell_type": "markdown",
      "metadata": {
        "id": "ce8eb861"
      },
      "source": [
        "## `subtraction`\n",
        "\n",
        "performs the subtraction of the array"
      ],
      "id": "ce8eb861"
    },
    {
      "cell_type": "code",
      "metadata": {
        "id": "086ef732",
        "outputId": "9c68482e-5b51-43c6-9a0a-89a2ff454a1d"
      },
      "source": [
        "np.subtract(a,b)"
      ],
      "id": "086ef732",
      "execution_count": null,
      "outputs": [
        {
          "output_type": "execute_result",
          "data": {
            "text/plain": [
              "array([[-0.5,  0. ,  0. ],\n",
              "       [-3. , -3. , -3. ]])"
            ]
          },
          "metadata": {
            "tags": []
          },
          "execution_count": 52
        }
      ]
    },
    {
      "cell_type": "code",
      "metadata": {
        "id": "47e64563",
        "outputId": "08a79692-edd1-434d-b00a-52cc7a7dcefb"
      },
      "source": [
        "a - b"
      ],
      "id": "47e64563",
      "execution_count": null,
      "outputs": [
        {
          "output_type": "execute_result",
          "data": {
            "text/plain": [
              "array([[-0.5,  0. ,  0. ],\n",
              "       [-3. , -3. , -3. ]])"
            ]
          },
          "metadata": {
            "tags": []
          },
          "execution_count": 53
        }
      ]
    },
    {
      "cell_type": "markdown",
      "metadata": {
        "id": "b6bf0d60"
      },
      "source": [
        "## `multiply`\n",
        "\n",
        "multiply the array "
      ],
      "id": "b6bf0d60"
    },
    {
      "cell_type": "code",
      "metadata": {
        "id": "7dcc65b5",
        "outputId": "f85e9d44-c1b7-4c03-9ec9-f11c9bc6dfe2"
      },
      "source": [
        "np.multiply(a,b)"
      ],
      "id": "7dcc65b5",
      "execution_count": null,
      "outputs": [
        {
          "output_type": "execute_result",
          "data": {
            "text/plain": [
              "array([[ 1.5,  4. ,  9. ],\n",
              "       [ 4. , 10. , 18. ]])"
            ]
          },
          "metadata": {
            "tags": []
          },
          "execution_count": 54
        }
      ]
    },
    {
      "cell_type": "code",
      "metadata": {
        "id": "54cb6545",
        "outputId": "13beb0b2-f82e-42bc-db87-be440dc1fd05"
      },
      "source": [
        "a * b"
      ],
      "id": "54cb6545",
      "execution_count": null,
      "outputs": [
        {
          "output_type": "execute_result",
          "data": {
            "text/plain": [
              "array([[ 1.5,  4. ,  9. ],\n",
              "       [ 4. , 10. , 18. ]])"
            ]
          },
          "metadata": {
            "tags": []
          },
          "execution_count": 55
        }
      ]
    },
    {
      "cell_type": "markdown",
      "metadata": {
        "id": "60b36839"
      },
      "source": [
        "## `divide`\n",
        "\n",
        "divide the array"
      ],
      "id": "60b36839"
    },
    {
      "cell_type": "code",
      "metadata": {
        "id": "bf0beb46",
        "outputId": "e9e44be5-65c0-405c-d05d-b29edff5985e"
      },
      "source": [
        "np.divide(a, b)"
      ],
      "id": "bf0beb46",
      "execution_count": null,
      "outputs": [
        {
          "output_type": "execute_result",
          "data": {
            "text/plain": [
              "array([[0.66666667, 1.        , 1.        ],\n",
              "       [0.25      , 0.4       , 0.5       ]])"
            ]
          },
          "metadata": {
            "tags": []
          },
          "execution_count": 56
        }
      ]
    },
    {
      "cell_type": "code",
      "metadata": {
        "id": "e6ccc93a",
        "outputId": "892cc6b7-f56c-4bc7-bf5b-4f4a3871cae6"
      },
      "source": [
        "a / b"
      ],
      "id": "e6ccc93a",
      "execution_count": null,
      "outputs": [
        {
          "output_type": "execute_result",
          "data": {
            "text/plain": [
              "array([[0.66666667, 1.        , 1.        ],\n",
              "       [0.25      , 0.4       , 0.5       ]])"
            ]
          },
          "metadata": {
            "tags": []
          },
          "execution_count": 57
        }
      ]
    },
    {
      "cell_type": "markdown",
      "metadata": {
        "id": "1cebc08a"
      },
      "source": [
        "## `exp` $e^{array}$\n",
        "\n",
        "find the exponentiation of array [e to the power of individual elements of array]"
      ],
      "id": "1cebc08a"
    },
    {
      "cell_type": "code",
      "metadata": {
        "id": "83943429",
        "outputId": "de9d4a71-2af9-41f5-846f-9ee61b81c5f6"
      },
      "source": [
        "np.exp(a)"
      ],
      "id": "83943429",
      "execution_count": null,
      "outputs": [
        {
          "output_type": "execute_result",
          "data": {
            "text/plain": [
              "array([ 2.71828183,  7.3890561 , 20.08553692])"
            ]
          },
          "metadata": {
            "tags": []
          },
          "execution_count": 58
        }
      ]
    },
    {
      "cell_type": "code",
      "metadata": {
        "id": "5d35bef7",
        "outputId": "b84aa33b-24ab-4464-9c01-220c0e044ec8"
      },
      "source": [
        "np.e"
      ],
      "id": "5d35bef7",
      "execution_count": null,
      "outputs": [
        {
          "output_type": "execute_result",
          "data": {
            "text/plain": [
              "2.718281828459045"
            ]
          },
          "metadata": {
            "tags": []
          },
          "execution_count": 59
        }
      ]
    },
    {
      "cell_type": "code",
      "metadata": {
        "id": "51de3c13",
        "outputId": "0b7c665f-bbfa-459f-a053-541ae0900076"
      },
      "source": [
        "a"
      ],
      "id": "51de3c13",
      "execution_count": null,
      "outputs": [
        {
          "output_type": "execute_result",
          "data": {
            "text/plain": [
              "array([1, 2, 3])"
            ]
          },
          "metadata": {
            "tags": []
          },
          "execution_count": 60
        }
      ]
    },
    {
      "cell_type": "markdown",
      "metadata": {
        "id": "7a20a3a0"
      },
      "source": [
        "## `sin`\n",
        "\n",
        "Returns the sine values of array"
      ],
      "id": "7a20a3a0"
    },
    {
      "cell_type": "code",
      "metadata": {
        "id": "d5808d06",
        "outputId": "c98e49d1-9379-471c-cd57-4f268126fab5"
      },
      "source": [
        "np.sin(a)"
      ],
      "id": "d5808d06",
      "execution_count": null,
      "outputs": [
        {
          "output_type": "execute_result",
          "data": {
            "text/plain": [
              "array([0.84147098, 0.90929743, 0.14112001])"
            ]
          },
          "metadata": {
            "tags": []
          },
          "execution_count": 61
        }
      ]
    },
    {
      "cell_type": "markdown",
      "metadata": {
        "id": "0a75a8fc"
      },
      "source": [
        "## `cos`\n",
        "\n",
        "Returns the cos values of array"
      ],
      "id": "0a75a8fc"
    },
    {
      "cell_type": "code",
      "metadata": {
        "id": "4ce643cb",
        "outputId": "d7c96548-c1d7-40ac-8d70-c25ff2b6bc19"
      },
      "source": [
        "np.cos(a)"
      ],
      "id": "4ce643cb",
      "execution_count": null,
      "outputs": [
        {
          "output_type": "execute_result",
          "data": {
            "text/plain": [
              "array([ 0.54030231, -0.41614684, -0.9899925 ])"
            ]
          },
          "metadata": {
            "tags": []
          },
          "execution_count": 62
        }
      ]
    },
    {
      "cell_type": "markdown",
      "metadata": {
        "id": "bbcf3c56"
      },
      "source": [
        "## `log`\n",
        "\n",
        "Returns the log vaues of array\n"
      ],
      "id": "bbcf3c56"
    },
    {
      "cell_type": "code",
      "metadata": {
        "id": "513b0129",
        "outputId": "64924818-b136-4ef7-9713-f15182d1d71e"
      },
      "source": [
        "np.log(a)"
      ],
      "id": "513b0129",
      "execution_count": null,
      "outputs": [
        {
          "output_type": "execute_result",
          "data": {
            "text/plain": [
              "array([0.        , 0.69314718, 1.09861229])"
            ]
          },
          "metadata": {
            "tags": []
          },
          "execution_count": 63
        }
      ]
    },
    {
      "cell_type": "markdown",
      "metadata": {
        "id": "cf43ad93"
      },
      "source": [
        "## `dot` \n",
        "\n",
        "Returns the dot product of the Matrix / Array.\n",
        "\n",
        "a = [A1, B1, C1]<br>\n",
        "b = [A2, B2, C2]\n",
        "\n",
        "dot = [A1* A2 + B1 * B2 + C1 * C2] = [A1A2 + B1B2 + C1C2]"
      ],
      "id": "cf43ad93"
    },
    {
      "cell_type": "code",
      "metadata": {
        "id": "222c2b3e"
      },
      "source": [
        "c = np.array([4, 2, -3])"
      ],
      "id": "222c2b3e",
      "execution_count": null,
      "outputs": []
    },
    {
      "cell_type": "code",
      "metadata": {
        "id": "6b0b0a5a",
        "outputId": "5fb32078-4c26-406b-f9a6-6d59701aa291"
      },
      "source": [
        "a"
      ],
      "id": "6b0b0a5a",
      "execution_count": null,
      "outputs": [
        {
          "output_type": "execute_result",
          "data": {
            "text/plain": [
              "array([1, 2, 3])"
            ]
          },
          "metadata": {
            "tags": []
          },
          "execution_count": 67
        }
      ]
    },
    {
      "cell_type": "code",
      "metadata": {
        "id": "d0ca20a5",
        "outputId": "936b8bfe-7226-4ae0-ec39-f199ec263cca"
      },
      "source": [
        "c"
      ],
      "id": "d0ca20a5",
      "execution_count": null,
      "outputs": [
        {
          "output_type": "execute_result",
          "data": {
            "text/plain": [
              "array([4, 5, 6])"
            ]
          },
          "metadata": {
            "tags": []
          },
          "execution_count": 68
        }
      ]
    },
    {
      "cell_type": "code",
      "metadata": {
        "id": "6326b63b",
        "outputId": "f2fb59d6-acd1-4b7b-db2e-b1675650ed82"
      },
      "source": [
        "np.dot(a,c)"
      ],
      "id": "6326b63b",
      "execution_count": null,
      "outputs": [
        {
          "output_type": "execute_result",
          "data": {
            "text/plain": [
              "32"
            ]
          },
          "metadata": {
            "tags": []
          },
          "execution_count": 70
        }
      ]
    },
    {
      "cell_type": "code",
      "metadata": {
        "id": "07384ef7",
        "outputId": "e93998a2-d76e-4203-8c6e-a288b29ecc51"
      },
      "source": [
        "1 * 4 + 2 * 5 + 3 * 6"
      ],
      "id": "07384ef7",
      "execution_count": null,
      "outputs": [
        {
          "output_type": "execute_result",
          "data": {
            "text/plain": [
              "32"
            ]
          },
          "metadata": {
            "tags": []
          },
          "execution_count": 71
        }
      ]
    },
    {
      "cell_type": "markdown",
      "metadata": {
        "id": "63dd90cc"
      },
      "source": [
        "# Comparing Arrays\n",
        "\n",
        "`Element Wise Comparison`"
      ],
      "id": "63dd90cc"
    },
    {
      "cell_type": "code",
      "metadata": {
        "id": "3ff2c7b0",
        "outputId": "1261c93b-a1b4-41a6-b040-85cfe468d431"
      },
      "source": [
        "a"
      ],
      "id": "3ff2c7b0",
      "execution_count": null,
      "outputs": [
        {
          "output_type": "execute_result",
          "data": {
            "text/plain": [
              "array([1, 2, 3])"
            ]
          },
          "metadata": {
            "tags": []
          },
          "execution_count": 72
        }
      ]
    },
    {
      "cell_type": "code",
      "metadata": {
        "id": "770e9b72",
        "outputId": "e4788776-9fe9-486e-8346-402243c7d4e3"
      },
      "source": [
        "c"
      ],
      "id": "770e9b72",
      "execution_count": null,
      "outputs": [
        {
          "output_type": "execute_result",
          "data": {
            "text/plain": [
              "array([ 4,  2, -3])"
            ]
          },
          "metadata": {
            "tags": []
          },
          "execution_count": 76
        }
      ]
    },
    {
      "cell_type": "code",
      "metadata": {
        "id": "8aea3bda",
        "outputId": "faeec6f7-716d-453d-9e04-5601dcf2bfba"
      },
      "source": [
        "a == c"
      ],
      "id": "8aea3bda",
      "execution_count": null,
      "outputs": [
        {
          "output_type": "execute_result",
          "data": {
            "text/plain": [
              "array([False,  True, False])"
            ]
          },
          "metadata": {
            "tags": []
          },
          "execution_count": 77
        }
      ]
    },
    {
      "cell_type": "code",
      "metadata": {
        "id": "c3aaa92c",
        "outputId": "61bcef83-93b8-44f7-a637-6f3b19e0b964"
      },
      "source": [
        "a < c"
      ],
      "id": "c3aaa92c",
      "execution_count": null,
      "outputs": [
        {
          "output_type": "execute_result",
          "data": {
            "text/plain": [
              "array([ True, False, False])"
            ]
          },
          "metadata": {
            "tags": []
          },
          "execution_count": 79
        }
      ]
    },
    {
      "cell_type": "code",
      "metadata": {
        "id": "fe574edf",
        "outputId": "78139f4f-d181-42e7-ce07-621a4b4e1fe2"
      },
      "source": [
        "a >= c"
      ],
      "id": "fe574edf",
      "execution_count": null,
      "outputs": [
        {
          "output_type": "execute_result",
          "data": {
            "text/plain": [
              "array([False,  True,  True])"
            ]
          },
          "metadata": {
            "tags": []
          },
          "execution_count": 80
        }
      ]
    },
    {
      "cell_type": "markdown",
      "metadata": {
        "id": "659cd777"
      },
      "source": [
        "`Array wise Comparison`"
      ],
      "id": "659cd777"
    },
    {
      "cell_type": "code",
      "metadata": {
        "id": "70878549",
        "outputId": "73b72a8e-1f03-4170-c642-34ad359de224"
      },
      "source": [
        "np.array_equal(a,b)"
      ],
      "id": "70878549",
      "execution_count": null,
      "outputs": [
        {
          "output_type": "execute_result",
          "data": {
            "text/plain": [
              "False"
            ]
          },
          "metadata": {
            "tags": []
          },
          "execution_count": 81
        }
      ]
    },
    {
      "cell_type": "code",
      "metadata": {
        "id": "3e39b106",
        "outputId": "cf982ce9-e58c-4a88-8fa4-31f68f417a5b"
      },
      "source": [
        "np.append(a, c)"
      ],
      "id": "3e39b106",
      "execution_count": null,
      "outputs": [
        {
          "output_type": "execute_result",
          "data": {
            "text/plain": [
              "array([ 1,  2,  3,  4,  2, -3])"
            ]
          },
          "metadata": {
            "tags": []
          },
          "execution_count": 82
        }
      ]
    },
    {
      "cell_type": "code",
      "metadata": {
        "id": "536107c3",
        "outputId": "5170d5b8-41ad-4f2a-9ec5-a8162400b596"
      },
      "source": [
        "arr2d"
      ],
      "id": "536107c3",
      "execution_count": null,
      "outputs": [
        {
          "output_type": "execute_result",
          "data": {
            "text/plain": [
              "array([[1, 2, 3],\n",
              "       [4, 5, 6]])"
            ]
          },
          "metadata": {
            "tags": []
          },
          "execution_count": 83
        }
      ]
    },
    {
      "cell_type": "code",
      "metadata": {
        "id": "4b357d10"
      },
      "source": [
        "arr2d[0][0] = 20"
      ],
      "id": "4b357d10",
      "execution_count": null,
      "outputs": []
    },
    {
      "cell_type": "code",
      "metadata": {
        "id": "a6bba114",
        "outputId": "4cddf5d4-f06d-4381-af02-9e3fbf4c28f3"
      },
      "source": [
        "arr2d"
      ],
      "id": "a6bba114",
      "execution_count": null,
      "outputs": [
        {
          "output_type": "execute_result",
          "data": {
            "text/plain": [
              "array([[20,  2,  3],\n",
              "       [ 4,  5,  6]])"
            ]
          },
          "metadata": {
            "tags": []
          },
          "execution_count": 86
        }
      ]
    }
  ]
}