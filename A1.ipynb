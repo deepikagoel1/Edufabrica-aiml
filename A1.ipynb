{
  "nbformat": 4,
  "nbformat_minor": 0,
  "metadata": {
    "kernelspec": {
      "display_name": "Python 3",
      "language": "python",
      "name": "python3"
    },
    "language_info": {
      "codemirror_mode": {
        "name": "ipython",
        "version": 3
      },
      "file_extension": ".py",
      "mimetype": "text/x-python",
      "name": "python",
      "nbconvert_exporter": "python",
      "pygments_lexer": "ipython3",
      "version": "3.7.6"
    },
    "colab": {
      "name": "A1.ipynb",
      "provenance": [],
      "collapsed_sections": [],
      "include_colab_link": true
    }
  },
  "cells": [
    {
      "cell_type": "markdown",
      "metadata": {
        "id": "view-in-github",
        "colab_type": "text"
      },
      "source": [
        "<a href=\"https://colab.research.google.com/github/deepikagoel1/Edufabrica-aiml/blob/main/A1.ipynb\" target=\"_parent\"><img src=\"https://colab.research.google.com/assets/colab-badge.svg\" alt=\"Open In Colab\"/></a>"
      ]
    },
    {
      "cell_type": "markdown",
      "metadata": {
        "id": "fUj7Z98AV5LU"
      },
      "source": [
        "<h2 align=center> You can be a Python Developer !</h2>\n",
        "<h1 align=center>Complete the <code>Assignment 1</code></h1>"
      ]
    },
    {
      "cell_type": "markdown",
      "metadata": {
        "id": "nYhxrTClV5LV"
      },
      "source": [
        "**Write a Python Program to calculate the length of a string given**\n",
        "\n",
        "string  = 'Goods and Prices'"
      ]
    },
    {
      "cell_type": "code",
      "metadata": {
        "id": "rIkeaT38V5LW",
        "colab": {
          "base_uri": "https://localhost:8080/"
        },
        "outputId": "7800bf9a-219f-485c-c5dd-eb119ac71013"
      },
      "source": [
        "string = 'Goods and Prices'\n",
        "len(string)"
      ],
      "execution_count": 1,
      "outputs": [
        {
          "output_type": "execute_result",
          "data": {
            "text/plain": [
              "16"
            ]
          },
          "metadata": {
            "tags": []
          },
          "execution_count": 1
        }
      ]
    },
    {
      "cell_type": "markdown",
      "metadata": {
        "id": "y4tqqbxzV5LW"
      },
      "source": [
        "**How would you check the Python version you are using in your system ?. Write the code.**"
      ]
    },
    {
      "cell_type": "code",
      "metadata": {
        "id": "nGR_B1HAV5LW"
      },
      "source": [
        ""
      ],
      "execution_count": null,
      "outputs": []
    },
    {
      "cell_type": "markdown",
      "metadata": {
        "id": "2_Wf5OK2V5LW"
      },
      "source": [
        "**Take the first name and last name from the user and get the last name printed first and the first in the last.**"
      ]
    },
    {
      "cell_type": "code",
      "metadata": {
        "id": "Hu2rrT-bV5LW"
      },
      "source": [
        ""
      ],
      "execution_count": null,
      "outputs": []
    },
    {
      "cell_type": "markdown",
      "metadata": {
        "id": "xyJdn1hUV5LW"
      },
      "source": [
        "**Lets Say num = 5 , Now calculate the the vaule of ( num  - cube + num - square + num ) using Operators**"
      ]
    },
    {
      "cell_type": "code",
      "metadata": {
        "id": "lTjhNfp1V5LX"
      },
      "source": [
        ""
      ],
      "execution_count": null,
      "outputs": []
    },
    {
      "cell_type": "markdown",
      "metadata": {
        "id": "SFnbtsG0V5LX"
      },
      "source": [
        "**Take 3 integer inputs from the user and return the sum of all the numbers to the user.**"
      ]
    },
    {
      "cell_type": "code",
      "metadata": {
        "id": "33Jc_KtGV5LX"
      },
      "source": [
        ""
      ],
      "execution_count": null,
      "outputs": []
    },
    {
      "cell_type": "markdown",
      "metadata": {
        "id": "7UT2eLk6V5LX"
      },
      "source": [
        "**Suppose x and y are the two variables having some values, and x-y = 5 and x + y = 5 . Then Find the value of ( x-square  -   y-square ).**"
      ]
    },
    {
      "cell_type": "code",
      "metadata": {
        "id": "JjgNigAMV5LX"
      },
      "source": [
        ""
      ],
      "execution_count": null,
      "outputs": []
    },
    {
      "cell_type": "markdown",
      "metadata": {
        "id": "9xWWvKNfV5LX"
      },
      "source": [
        "**Convert the following types to Integer Datatype**\n",
        "\n",
        "**Numbers :** 45.3, -0, 2.85, 05.45, 23.6"
      ]
    },
    {
      "cell_type": "code",
      "metadata": {
        "id": "DrWpzZsUV5LX"
      },
      "source": [
        ""
      ],
      "execution_count": null,
      "outputs": []
    },
    {
      "cell_type": "markdown",
      "metadata": {
        "id": "xUHj-jyUV5LX"
      },
      "source": [
        "**Which of the following is a variable and which of the following in a String ?. Discuss**\n",
        "\n",
        "x = 'variable'\n",
        "\n",
        "x = 56"
      ]
    },
    {
      "cell_type": "code",
      "metadata": {
        "id": "z7_mtKkNV5LX"
      },
      "source": [
        ""
      ],
      "execution_count": null,
      "outputs": []
    },
    {
      "cell_type": "markdown",
      "metadata": {
        "id": "fAV6-94sV5LX"
      },
      "source": [
        "**Name the Data Types learnt till now in Python**"
      ]
    },
    {
      "cell_type": "code",
      "metadata": {
        "id": "QZL8993gV5LX"
      },
      "source": [
        ""
      ],
      "execution_count": null,
      "outputs": []
    },
    {
      "cell_type": "markdown",
      "metadata": {
        "id": "ioKcB8O1V5LY"
      },
      "source": [
        "**What does the variable contain after the following code runs?**"
      ]
    },
    {
      "cell_type": "raw",
      "metadata": {
        "id": "d9KjLy7lV5LY"
      },
      "source": [
        "variable = 20\n",
        "variable + 1 "
      ]
    },
    {
      "cell_type": "code",
      "metadata": {
        "id": "2AFHdwRxV5LY"
      },
      "source": [
        ""
      ],
      "execution_count": null,
      "outputs": []
    },
    {
      "cell_type": "markdown",
      "metadata": {
        "id": "v_gzuX5mV5LY"
      },
      "source": [
        "**What will the two expressions will evaluate**?"
      ]
    },
    {
      "cell_type": "raw",
      "metadata": {
        "id": "o5c7XY7xV5LY"
      },
      "source": [
        "'expression_1' + 'expression_2'\n",
        "'expression_1' * 3"
      ]
    },
    {
      "cell_type": "code",
      "metadata": {
        "id": "HeNAMTGEV5LY"
      },
      "source": [
        ""
      ],
      "execution_count": null,
      "outputs": []
    },
    {
      "cell_type": "markdown",
      "metadata": {
        "id": "0_pdNxhlV5LY"
      },
      "source": [
        "**Why x is a Valid variable and 100 is invalid ?**"
      ]
    },
    {
      "cell_type": "code",
      "metadata": {
        "id": "UtrW3ZYZV5LY"
      },
      "source": [
        ""
      ],
      "execution_count": null,
      "outputs": []
    },
    {
      "cell_type": "markdown",
      "metadata": {
        "id": "igdgxIsVV5LY"
      },
      "source": [
        "**Why does the statement caiuse an error ?**"
      ]
    },
    {
      "cell_type": "raw",
      "metadata": {
        "id": "3G3NbSGmV5LY"
      },
      "source": [
        "print('Artificial Intelligence was first coined in the year = ' + 1999)"
      ]
    },
    {
      "cell_type": "code",
      "metadata": {
        "id": "ORHOrsXsV5LY"
      },
      "source": [
        ""
      ],
      "execution_count": null,
      "outputs": []
    },
    {
      "cell_type": "markdown",
      "metadata": {
        "id": "gXmLEH7uV5LY"
      },
      "source": [
        "Notebook created by: <a href = \"https://www.linkedin.com/in/sumitkumarshukla/\">Sumit Kumar Shukla</a>"
      ]
    }
  ]
}