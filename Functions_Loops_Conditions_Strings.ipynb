{
  "nbformat": 4,
  "nbformat_minor": 5,
  "metadata": {
    "kernelspec": {
      "display_name": "Python 3",
      "language": "python",
      "name": "python3"
    },
    "language_info": {
      "codemirror_mode": {
        "name": "ipython",
        "version": 3
      },
      "file_extension": ".py",
      "mimetype": "text/x-python",
      "name": "python",
      "nbconvert_exporter": "python",
      "pygments_lexer": "ipython3",
      "version": "3.8.8"
    },
    "colab": {
      "name": "Functions_Loops_Conditions_Strings.ipynb",
      "provenance": [],
      "include_colab_link": true
    }
  },
  "cells": [
    {
      "cell_type": "markdown",
      "metadata": {
        "id": "view-in-github",
        "colab_type": "text"
      },
      "source": [
        "<a href=\"https://colab.research.google.com/github/deepikagoel1/Edufabrica-aiml/blob/main/Functions_Loops_Conditions_Strings.ipynb\" target=\"_parent\"><img src=\"https://colab.research.google.com/assets/colab-badge.svg\" alt=\"Open In Colab\"/></a>"
      ]
    },
    {
      "cell_type": "markdown",
      "metadata": {
        "id": "5e197528"
      },
      "source": [
        "# <center> Assignment 3</center>"
      ],
      "id": "5e197528"
    },
    {
      "cell_type": "markdown",
      "metadata": {
        "id": "21dad820"
      },
      "source": [
        "**Check if the String contains only numbers**"
      ],
      "id": "21dad820"
    },
    {
      "cell_type": "code",
      "metadata": {
        "id": "12c320d4",
        "outputId": "145506e3-2113-4b89-c31b-eab0ac2a14f4",
        "colab": {
          "base_uri": "https://localhost:8080/"
        }
      },
      "source": [
        "s = '8000'\n",
        "if s.isnumeric:\n",
        "  print(\"True\")\n",
        "else:\n",
        "  print(\"False\")"
      ],
      "id": "12c320d4",
      "execution_count": 31,
      "outputs": [
        {
          "output_type": "stream",
          "text": [
            "True\n"
          ],
          "name": "stdout"
        }
      ]
    },
    {
      "cell_type": "markdown",
      "metadata": {
        "id": "57785691"
      },
      "source": [
        "Expected Output = True"
      ],
      "id": "57785691"
    },
    {
      "cell_type": "markdown",
      "metadata": {
        "id": "2eacf576"
      },
      "source": [
        "**Check if the string is compose of all lower characters**"
      ],
      "id": "2eacf576"
    },
    {
      "cell_type": "code",
      "metadata": {
        "id": "22205b00",
        "outputId": "f3331aba-165c-4c32-91e8-4000724af3bb",
        "colab": {
          "base_uri": "https://localhost:8080/"
        }
      },
      "source": [
        "d = 'loweRcase'\n",
        "\n",
        "d = d.lower()\n",
        "if d.islower():\n",
        "  print(\"True\")\n",
        "else:\n",
        "  print(\"False\")"
      ],
      "id": "22205b00",
      "execution_count": 34,
      "outputs": [
        {
          "output_type": "stream",
          "text": [
            "True\n"
          ],
          "name": "stdout"
        }
      ]
    },
    {
      "cell_type": "markdown",
      "metadata": {
        "id": "45597b4f"
      },
      "source": [
        "Expected Output = True"
      ],
      "id": "45597b4f"
    },
    {
      "cell_type": "markdown",
      "metadata": {
        "id": "8ff66efa"
      },
      "source": [
        "**Check if the first character in a string is lowercase**\n",
        "*italicized text*\n",
        "\n",
        "\n",
        "\n"
      ],
      "id": "8ff66efa"
    },
    {
      "cell_type": "code",
      "metadata": {
        "id": "c3b58a02",
        "outputId": "4f27bbcf-c131-462d-9fe0-f6b37f8a93bc",
        "colab": {
          "base_uri": "https://localhost:8080/"
        }
      },
      "source": [
        "a = 'aPPlE'\n",
        "\n",
        "if a[0].islower():\n",
        "  print(\"True\")\n",
        "else:\n",
        "  print(\"False\")"
      ],
      "id": "c3b58a02",
      "execution_count": 35,
      "outputs": [
        {
          "output_type": "stream",
          "text": [
            "True\n"
          ],
          "name": "stdout"
        }
      ]
    },
    {
      "cell_type": "markdown",
      "metadata": {
        "id": "d4c1bda7"
      },
      "source": [
        "Expected Output = True"
      ],
      "id": "d4c1bda7"
    },
    {
      "cell_type": "markdown",
      "metadata": {
        "id": "8f17d7a0"
      },
      "source": [
        "**Join a list of strings into a single string, delimited by hyphens**"
      ],
      "id": "8f17d7a0"
    },
    {
      "cell_type": "code",
      "metadata": {
        "id": "0e93b7ab",
        "outputId": "96e54b07-d0da-46e2-92d5-5e2df7022508",
        "colab": {
          "base_uri": "https://localhost:8080/",
          "height": 35
        }
      },
      "source": [
        "string_list = ['a','b','c']\n",
        "('-').join(string_list)"
      ],
      "id": "0e93b7ab",
      "execution_count": 28,
      "outputs": [
        {
          "output_type": "execute_result",
          "data": {
            "application/vnd.google.colaboratory.intrinsic+json": {
              "type": "string"
            },
            "text/plain": [
              "'a-b-c'"
            ]
          },
          "metadata": {
            "tags": []
          },
          "execution_count": 28
        }
      ]
    },
    {
      "cell_type": "markdown",
      "metadata": {
        "id": "8a1ee30d"
      },
      "source": [
        "Expected Output = 'a-b-c'"
      ],
      "id": "8a1ee30d"
    },
    {
      "cell_type": "markdown",
      "metadata": {
        "id": "797d8b51"
      },
      "source": [
        "**Write a program to display the last digit of the number given**"
      ],
      "id": "797d8b51"
    },
    {
      "cell_type": "code",
      "metadata": {
        "id": "4a5101cd",
        "outputId": "7ba4fb30-e592-4730-b913-d150af8c77f5",
        "colab": {
          "base_uri": "https://localhost:8080/"
        }
      },
      "source": [
        "number = 2345\n",
        "\n",
        "last = number % 10\n",
        "\n",
        "print(f\"Last Digit = {last}\")"
      ],
      "id": "4a5101cd",
      "execution_count": 27,
      "outputs": [
        {
          "output_type": "stream",
          "text": [
            "Last Digit = 5\n"
          ],
          "name": "stdout"
        }
      ]
    },
    {
      "cell_type": "markdown",
      "metadata": {
        "id": "f8482544"
      },
      "source": [
        "Expected Output = 5"
      ],
      "id": "f8482544"
    },
    {
      "cell_type": "markdown",
      "metadata": {
        "id": "82960657"
      },
      "source": [
        "**Given a number count the total number of digits in a number**"
      ],
      "id": "82960657"
    },
    {
      "cell_type": "code",
      "metadata": {
        "id": "c3a4576b",
        "outputId": "32f5e828-0e9d-467b-d751-d0b236a81e10",
        "colab": {
          "base_uri": "https://localhost:8080/"
        }
      },
      "source": [
        "c = 0\n",
        "number = 75869\n",
        "while number > 0:\n",
        "    number = number // 10\n",
        "    c += 1\n",
        "\n",
        "print(f\"Number of Digits in a Given Number = {c}\")\n"
      ],
      "id": "c3a4576b",
      "execution_count": 29,
      "outputs": [
        {
          "output_type": "stream",
          "text": [
            "Number of Digits in a Given Number = 5\n"
          ],
          "name": "stdout"
        }
      ]
    },
    {
      "cell_type": "markdown",
      "metadata": {
        "id": "e5545fbe"
      },
      "source": [
        "Expected Output = True"
      ],
      "id": "e5545fbe"
    },
    {
      "cell_type": "markdown",
      "metadata": {
        "id": "ba925ef7"
      },
      "source": [
        "**Reverse the following List using for loop**"
      ],
      "id": "ba925ef7"
    },
    {
      "cell_type": "code",
      "metadata": {
        "id": "cb656946"
      },
      "source": [
        "List = [10, 40, 160, 320]"
      ],
      "id": "cb656946",
      "execution_count": 10,
      "outputs": []
    },
    {
      "cell_type": "code",
      "metadata": {
        "id": "emDTzcnSh-ME",
        "outputId": "83b6a110-4541-4bc1-8e2e-eb24ff717a8f",
        "colab": {
          "base_uri": "https://localhost:8080/"
        }
      },
      "source": [
        "List2 = []\n",
        "for i in range(len(List)):\n",
        "  List2.append(List[len(List) - 1 - i])\n",
        "List2"
      ],
      "id": "emDTzcnSh-ME",
      "execution_count": 16,
      "outputs": [
        {
          "output_type": "execute_result",
          "data": {
            "text/plain": [
              "[320, 160, 40, 10]"
            ]
          },
          "metadata": {
            "tags": []
          },
          "execution_count": 16
        }
      ]
    },
    {
      "cell_type": "markdown",
      "metadata": {
        "id": "cdd36efe"
      },
      "source": [
        "Expected Output = [320, 160, 40, 10]"
      ],
      "id": "cdd36efe"
    },
    {
      "cell_type": "markdown",
      "metadata": {
        "id": "31f76fb8"
      },
      "source": [
        "**Display Numbers from -10 to 1 using for loop in a list**"
      ],
      "id": "31f76fb8"
    },
    {
      "cell_type": "code",
      "metadata": {
        "id": "ff74008b",
        "outputId": "a59dedcf-3a64-4ef0-eab3-7647c3fbe192",
        "colab": {
          "base_uri": "https://localhost:8080/"
        }
      },
      "source": [
        "l1 = [-i for i in range (1, 11)]\n",
        "l2 = []\n",
        "\n",
        "for i in range(len(l1)):\n",
        "  l2.append(l1[len(l1) - 1 - i])\n",
        "l2"
      ],
      "id": "ff74008b",
      "execution_count": 23,
      "outputs": [
        {
          "output_type": "execute_result",
          "data": {
            "text/plain": [
              "[-10, -9, -8, -7, -6, -5, -4, -3, -2, -1]"
            ]
          },
          "metadata": {
            "tags": []
          },
          "execution_count": 23
        }
      ]
    },
    {
      "cell_type": "markdown",
      "metadata": {
        "id": "deabb07f"
      },
      "source": [
        "Expected Output = [-10, -9, -8, -7, -6, -5, -4, -3, -2, -1]"
      ],
      "id": "deabb07f"
    },
    {
      "cell_type": "markdown",
      "metadata": {
        "id": "76ef9160"
      },
      "source": [
        "**Write a program to check whether a number is divisible by 7 or not**"
      ],
      "id": "76ef9160"
    },
    {
      "cell_type": "code",
      "metadata": {
        "id": "01765c9b",
        "outputId": "03321ed6-975d-4b7a-ee2b-3f5826eccdc7",
        "colab": {
          "base_uri": "https://localhost:8080/"
        }
      },
      "source": [
        "num = int(input(\"Enter a number\"))\n",
        "\n",
        "if num % 7 == 0:\n",
        "  print(\"Number is divisible by 7\")\n",
        "else:\n",
        "  print(\"Number is not divisible by 7\")"
      ],
      "id": "01765c9b",
      "execution_count": 25,
      "outputs": [
        {
          "output_type": "stream",
          "text": [
            "Enter a number40\n",
            "Number is not divisible by 7\n"
          ],
          "name": "stdout"
        }
      ]
    },
    {
      "cell_type": "markdown",
      "metadata": {
        "id": "b42ff89d"
      },
      "source": [
        "**Print the sum of first 5 Natural Numbers using loop**"
      ],
      "id": "b42ff89d"
    },
    {
      "cell_type": "code",
      "metadata": {
        "id": "53ef24cb",
        "outputId": "f0bcd862-9aa7-48bd-90c3-674f52934611",
        "colab": {
          "base_uri": "https://localhost:8080/"
        }
      },
      "source": [
        "sum = 0\n",
        "for i in range(6):\n",
        "  sum += i\n",
        "print(f\"Sum is = {sum}\")"
      ],
      "id": "53ef24cb",
      "execution_count": 26,
      "outputs": [
        {
          "output_type": "stream",
          "text": [
            "Sum is = 15\n"
          ],
          "name": "stdout"
        }
      ]
    },
    {
      "cell_type": "markdown",
      "metadata": {
        "id": "7985cdd4"
      },
      "source": [
        "Expected Output = 15"
      ],
      "id": "7985cdd4"
    },
    {
      "cell_type": "code",
      "metadata": {
        "id": "b6b2de0d"
      },
      "source": [
        ""
      ],
      "id": "b6b2de0d",
      "execution_count": null,
      "outputs": []
    },
    {
      "cell_type": "markdown",
      "metadata": {
        "id": "713f0763"
      },
      "source": [
        "Note: The Notebook is only for practice purpose, created by Sumit Kumar"
      ],
      "id": "713f0763"
    }
  ]
}