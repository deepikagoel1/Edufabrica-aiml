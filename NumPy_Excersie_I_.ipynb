{
  "nbformat": 4,
  "nbformat_minor": 5,
  "metadata": {
    "kernelspec": {
      "display_name": "Python 3",
      "language": "python",
      "name": "python3"
    },
    "language_info": {
      "codemirror_mode": {
        "name": "ipython",
        "version": 3
      },
      "file_extension": ".py",
      "mimetype": "text/x-python",
      "name": "python",
      "nbconvert_exporter": "python",
      "pygments_lexer": "ipython3",
      "version": "3.8.8"
    },
    "colab": {
      "name": "NumPy Excersie - I .ipynb",
      "provenance": [],
      "include_colab_link": true
    }
  },
  "cells": [
    {
      "cell_type": "markdown",
      "metadata": {
        "id": "view-in-github",
        "colab_type": "text"
      },
      "source": [
        "<a href=\"https://colab.research.google.com/github/deepikagoel1/Edufabrica-aiml/blob/main/NumPy_Excersie_I_.ipynb\" target=\"_parent\"><img src=\"https://colab.research.google.com/assets/colab-badge.svg\" alt=\"Open In Colab\"/></a>"
      ]
    },
    {
      "cell_type": "markdown",
      "metadata": {
        "id": "e1f8eb0f"
      },
      "source": [
        "# <center> Excercise - NumPy I </center>"
      ],
      "id": "e1f8eb0f"
    },
    {
      "cell_type": "markdown",
      "metadata": {
        "id": "c753ee2b"
      },
      "source": [
        "### 1. Import the Package under the name np"
      ],
      "id": "c753ee2b"
    },
    {
      "cell_type": "code",
      "metadata": {
        "id": "46d6d4c8"
      },
      "source": [
        "import numpy as np"
      ],
      "id": "46d6d4c8",
      "execution_count": 1,
      "outputs": []
    },
    {
      "cell_type": "markdown",
      "metadata": {
        "id": "1ff91835"
      },
      "source": [
        "### 2. Print the NumPy version"
      ],
      "id": "1ff91835"
    },
    {
      "cell_type": "code",
      "metadata": {
        "id": "20d27cac",
        "outputId": "78fc0e78-b28c-4271-f15a-6beb4d6f9597",
        "colab": {
          "base_uri": "https://localhost:8080/",
          "height": 35
        }
      },
      "source": [
        "np.__version__"
      ],
      "id": "20d27cac",
      "execution_count": 2,
      "outputs": [
        {
          "output_type": "execute_result",
          "data": {
            "application/vnd.google.colaboratory.intrinsic+json": {
              "type": "string"
            },
            "text/plain": [
              "'1.19.5'"
            ]
          },
          "metadata": {
            "tags": []
          },
          "execution_count": 2
        }
      ]
    },
    {
      "cell_type": "markdown",
      "metadata": {
        "id": "3f2b6408"
      },
      "source": [
        "### 3. Create a 2d Array"
      ],
      "id": "3f2b6408"
    },
    {
      "cell_type": "code",
      "metadata": {
        "id": "cb7c6e37",
        "outputId": "8231935a-1bb4-4f43-d1b4-4c2ae9a4d2f4",
        "colab": {
          "base_uri": "https://localhost:8080/"
        }
      },
      "source": [
        "arr2d = np.array([[1, 2, 3], [4, 5, 6]])\n",
        "arr2d"
      ],
      "id": "cb7c6e37",
      "execution_count": 3,
      "outputs": [
        {
          "output_type": "execute_result",
          "data": {
            "text/plain": [
              "array([[1, 2, 3],\n",
              "       [4, 5, 6]])"
            ]
          },
          "metadata": {
            "tags": []
          },
          "execution_count": 3
        }
      ]
    },
    {
      "cell_type": "markdown",
      "metadata": {
        "id": "d29788c6"
      },
      "source": [
        "### 4. Create an Array and find the sqrt, and sin vaules of it"
      ],
      "id": "d29788c6"
    },
    {
      "cell_type": "code",
      "metadata": {
        "id": "47ca8e4e",
        "outputId": "579254cf-62d7-484f-e5d2-d82c2a0d5efd",
        "colab": {
          "base_uri": "https://localhost:8080/"
        }
      },
      "source": [
        "np.sqrt(arr2d)"
      ],
      "id": "47ca8e4e",
      "execution_count": 4,
      "outputs": [
        {
          "output_type": "execute_result",
          "data": {
            "text/plain": [
              "array([[1.        , 1.41421356, 1.73205081],\n",
              "       [2.        , 2.23606798, 2.44948974]])"
            ]
          },
          "metadata": {
            "tags": []
          },
          "execution_count": 4
        }
      ]
    },
    {
      "cell_type": "code",
      "metadata": {
        "id": "IBFrVmTCZgn9",
        "outputId": "c34da598-f9bd-4be3-dc09-260585fe6e55",
        "colab": {
          "base_uri": "https://localhost:8080/"
        }
      },
      "source": [
        "np.sin(arr2d)"
      ],
      "id": "IBFrVmTCZgn9",
      "execution_count": 5,
      "outputs": [
        {
          "output_type": "execute_result",
          "data": {
            "text/plain": [
              "array([[ 0.84147098,  0.90929743,  0.14112001],\n",
              "       [-0.7568025 , -0.95892427, -0.2794155 ]])"
            ]
          },
          "metadata": {
            "tags": []
          },
          "execution_count": 5
        }
      ]
    },
    {
      "cell_type": "markdown",
      "metadata": {
        "id": "4c043ea1"
      },
      "source": [
        "### 5. Create a 6d Array using ndmin and convert it to Bool Type"
      ],
      "id": "4c043ea1"
    },
    {
      "cell_type": "code",
      "metadata": {
        "id": "0d14cc6c",
        "outputId": "2b63f103-87f5-4a8f-c9d5-8318d6b28c1e",
        "colab": {
          "base_uri": "https://localhost:8080/"
        }
      },
      "source": [
        "arr6d = np.array(arr2d, ndmin = 6)\n",
        "arr6d"
      ],
      "id": "0d14cc6c",
      "execution_count": 7,
      "outputs": [
        {
          "output_type": "execute_result",
          "data": {
            "text/plain": [
              "array([[[[[[1, 2, 3],\n",
              "           [4, 5, 6]]]]]])"
            ]
          },
          "metadata": {
            "tags": []
          },
          "execution_count": 7
        }
      ]
    },
    {
      "cell_type": "code",
      "metadata": {
        "id": "VFtoFliXZwim",
        "outputId": "3a8447fb-9bcf-40fc-a00e-249b51a00367",
        "colab": {
          "base_uri": "https://localhost:8080/"
        }
      },
      "source": [
        "np.all(arr6d)"
      ],
      "id": "VFtoFliXZwim",
      "execution_count": 12,
      "outputs": [
        {
          "output_type": "execute_result",
          "data": {
            "text/plain": [
              "True"
            ]
          },
          "metadata": {
            "tags": []
          },
          "execution_count": 12
        }
      ]
    },
    {
      "cell_type": "markdown",
      "metadata": {
        "id": "7b02b5dd"
      },
      "source": [
        "### 6. Given the array below, find the dot product of it"
      ],
      "id": "7b02b5dd"
    },
    {
      "cell_type": "code",
      "metadata": {
        "id": "7668bcda"
      },
      "source": [
        "arr1 = np.array([2, 3, 4])\n",
        "arr2 = np.array([3, 4, 5])"
      ],
      "id": "7668bcda",
      "execution_count": 13,
      "outputs": []
    },
    {
      "cell_type": "markdown",
      "metadata": {
        "id": "f89213cb"
      },
      "source": [
        "### 7. Check if All the elements of `arr1` is greater than `arr2`"
      ],
      "id": "f89213cb"
    },
    {
      "cell_type": "code",
      "metadata": {
        "id": "813e9025",
        "outputId": "19bb80a8-1e4f-47b7-b492-8bd8394df444",
        "colab": {
          "base_uri": "https://localhost:8080/"
        }
      },
      "source": [
        "arr3 = np.dot(arr1, arr2)\n",
        "arr3"
      ],
      "id": "813e9025",
      "execution_count": 14,
      "outputs": [
        {
          "output_type": "execute_result",
          "data": {
            "text/plain": [
              "38"
            ]
          },
          "metadata": {
            "tags": []
          },
          "execution_count": 14
        }
      ]
    },
    {
      "cell_type": "markdown",
      "metadata": {
        "id": "f173d23d"
      },
      "source": [
        "### 8. given below is an array find the number of rows of the array and the total number of elements"
      ],
      "id": "f173d23d"
    },
    {
      "cell_type": "code",
      "metadata": {
        "id": "f3e09bb8"
      },
      "source": [
        "arr3 = np.array([[1, 2], [2, 3], [3, 4], [5, 6]])"
      ],
      "id": "f3e09bb8",
      "execution_count": 15,
      "outputs": []
    },
    {
      "cell_type": "code",
      "metadata": {
        "id": "lzeDHDW0agib",
        "outputId": "b64230d3-02c9-4dba-b80e-19bda055e923",
        "colab": {
          "base_uri": "https://localhost:8080/"
        }
      },
      "source": [
        "arr3.shape[0]"
      ],
      "id": "lzeDHDW0agib",
      "execution_count": 16,
      "outputs": [
        {
          "output_type": "execute_result",
          "data": {
            "text/plain": [
              "4"
            ]
          },
          "metadata": {
            "tags": []
          },
          "execution_count": 16
        }
      ]
    },
    {
      "cell_type": "code",
      "metadata": {
        "id": "Vk6duRCDaldR",
        "outputId": "d19bd5fc-dca2-401d-e9b7-59f87d694e88",
        "colab": {
          "base_uri": "https://localhost:8080/"
        }
      },
      "source": [
        "arr3.size"
      ],
      "id": "Vk6duRCDaldR",
      "execution_count": 17,
      "outputs": [
        {
          "output_type": "execute_result",
          "data": {
            "text/plain": [
              "8"
            ]
          },
          "metadata": {
            "tags": []
          },
          "execution_count": 17
        }
      ]
    },
    {
      "cell_type": "markdown",
      "metadata": {
        "id": "9b85bebb"
      },
      "source": [
        "### 9. Create a 3d Array and find its shape"
      ],
      "id": "9b85bebb"
    },
    {
      "cell_type": "code",
      "metadata": {
        "id": "ffe5d9c1",
        "outputId": "1adcf304-c279-4ebf-cab4-1fd224d0096c",
        "colab": {
          "base_uri": "https://localhost:8080/"
        }
      },
      "source": [
        "arr4 = np.array([[[1, 2, 3]], [[4, 5, 6]], [[7, 8, 9]]])\n",
        "arr4"
      ],
      "id": "ffe5d9c1",
      "execution_count": 19,
      "outputs": [
        {
          "output_type": "execute_result",
          "data": {
            "text/plain": [
              "array([[[1, 2, 3]],\n",
              "\n",
              "       [[4, 5, 6]],\n",
              "\n",
              "       [[7, 8, 9]]])"
            ]
          },
          "metadata": {
            "tags": []
          },
          "execution_count": 19
        }
      ]
    },
    {
      "cell_type": "code",
      "metadata": {
        "id": "OXOfbavKbS39",
        "outputId": "707e56bf-52f8-48dd-d8fb-bda0a2993834",
        "colab": {
          "base_uri": "https://localhost:8080/"
        }
      },
      "source": [
        "arr4.ndim"
      ],
      "id": "OXOfbavKbS39",
      "execution_count": 20,
      "outputs": [
        {
          "output_type": "execute_result",
          "data": {
            "text/plain": [
              "3"
            ]
          },
          "metadata": {
            "tags": []
          },
          "execution_count": 20
        }
      ]
    },
    {
      "cell_type": "markdown",
      "metadata": {
        "id": "05947f7d"
      },
      "source": [
        "### 10. Compare whether arr1 and arr2 are equal ? "
      ],
      "id": "05947f7d"
    },
    {
      "cell_type": "code",
      "metadata": {
        "id": "17a7c485",
        "outputId": "91af5c1b-9907-49aa-e97f-ee91c1e6f56d",
        "colab": {
          "base_uri": "https://localhost:8080/"
        }
      },
      "source": [
        "arr1 == arr2"
      ],
      "id": "17a7c485",
      "execution_count": 21,
      "outputs": [
        {
          "output_type": "execute_result",
          "data": {
            "text/plain": [
              "array([False, False, False])"
            ]
          },
          "metadata": {
            "tags": []
          },
          "execution_count": 21
        }
      ]
    },
    {
      "cell_type": "code",
      "metadata": {
        "id": "a2dDYEosbacq"
      },
      "source": [
        ""
      ],
      "id": "a2dDYEosbacq",
      "execution_count": null,
      "outputs": []
    }
  ]
}