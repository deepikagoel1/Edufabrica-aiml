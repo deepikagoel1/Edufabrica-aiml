{
  "nbformat": 4,
  "nbformat_minor": 5,
  "metadata": {
    "kernelspec": {
      "display_name": "Python 3",
      "language": "python",
      "name": "python3"
    },
    "language_info": {
      "codemirror_mode": {
        "name": "ipython",
        "version": 3
      },
      "file_extension": ".py",
      "mimetype": "text/x-python",
      "name": "python",
      "nbconvert_exporter": "python",
      "pygments_lexer": "ipython3",
      "version": "3.8.8"
    },
    "colab": {
      "name": "25 June 2021-3.ipynb",
      "provenance": [],
      "include_colab_link": true
    }
  },
  "cells": [
    {
      "cell_type": "markdown",
      "metadata": {
        "id": "view-in-github",
        "colab_type": "text"
      },
      "source": [
        "<a href=\"https://colab.research.google.com/github/deepikagoel1/Edufabrica-aiml/blob/main/25_June_2021_3.ipynb\" target=\"_parent\"><img src=\"https://colab.research.google.com/assets/colab-badge.svg\" alt=\"Open In Colab\"/></a>"
      ]
    },
    {
      "cell_type": "markdown",
      "metadata": {
        "id": "82701373"
      },
      "source": [
        "# Series"
      ],
      "id": "82701373"
    },
    {
      "cell_type": "code",
      "metadata": {
        "id": "19d79584"
      },
      "source": [
        "import numpy as np \n",
        "import pandas as pd"
      ],
      "id": "19d79584",
      "execution_count": null,
      "outputs": []
    },
    {
      "cell_type": "markdown",
      "metadata": {
        "id": "85885fc9"
      },
      "source": [
        "## Creating a Series\n",
        "You can convert a list, numpy array, tuple, or a dictionary in a Series:"
      ],
      "id": "85885fc9"
    },
    {
      "cell_type": "code",
      "metadata": {
        "id": "083e82c6"
      },
      "source": [
        "labels  = ['a','b','c']\n",
        "my_list = [10, 20, 30]\n",
        "arr     = np.array([10, 20, 30])\n",
        "d       = {'a': 10, 'b': 20, 'c': 30}"
      ],
      "id": "083e82c6",
      "execution_count": null,
      "outputs": []
    },
    {
      "cell_type": "markdown",
      "metadata": {
        "id": "87a11dff"
      },
      "source": [
        "**Using Lists**"
      ],
      "id": "87a11dff"
    },
    {
      "cell_type": "code",
      "metadata": {
        "id": "5bb5f7d6",
        "outputId": "49eeaf46-5f0b-4ec4-b55d-ea5b9ad11f8a"
      },
      "source": [
        "pd.Series(data = my_list)"
      ],
      "id": "5bb5f7d6",
      "execution_count": null,
      "outputs": [
        {
          "output_type": "execute_result",
          "data": {
            "text/plain": [
              "0    10\n",
              "1    20\n",
              "2    30\n",
              "dtype: int64"
            ]
          },
          "metadata": {
            "tags": []
          },
          "execution_count": 3
        }
      ]
    },
    {
      "cell_type": "code",
      "metadata": {
        "id": "e00683de",
        "outputId": "ee47fed0-0056-45bd-f809-ba570146a2d9"
      },
      "source": [
        "pd.Series(data = arr)"
      ],
      "id": "e00683de",
      "execution_count": null,
      "outputs": [
        {
          "output_type": "execute_result",
          "data": {
            "text/plain": [
              "0    10\n",
              "1    20\n",
              "2    30\n",
              "dtype: int64"
            ]
          },
          "metadata": {
            "tags": []
          },
          "execution_count": 4
        }
      ]
    },
    {
      "cell_type": "code",
      "metadata": {
        "id": "12248aca",
        "outputId": "69d23675-c141-4b63-8df9-3cda3d54b5dc"
      },
      "source": [
        "pd.Series(arr, index= labels)"
      ],
      "id": "12248aca",
      "execution_count": null,
      "outputs": [
        {
          "output_type": "execute_result",
          "data": {
            "text/plain": [
              "a    10\n",
              "b    20\n",
              "c    30\n",
              "dtype: int64"
            ]
          },
          "metadata": {
            "tags": []
          },
          "execution_count": 5
        }
      ]
    },
    {
      "cell_type": "code",
      "metadata": {
        "id": "ccc7437c",
        "outputId": "14fd40cf-20b3-45dd-aa8c-0513ecf61706"
      },
      "source": [
        "pd.Series(d)"
      ],
      "id": "ccc7437c",
      "execution_count": null,
      "outputs": [
        {
          "output_type": "execute_result",
          "data": {
            "text/plain": [
              "a    10\n",
              "b    20\n",
              "c    30\n",
              "dtype: int64"
            ]
          },
          "metadata": {
            "tags": []
          },
          "execution_count": 6
        }
      ]
    },
    {
      "cell_type": "code",
      "metadata": {
        "id": "665aa10d",
        "outputId": "acf08c8c-5676-48e9-c13b-eed037fdb906"
      },
      "source": [
        "pd.Series([1, 2, 3,4, 5, 6], index = [11, 22, 33, 44, 55, 66], dtype = np.int32, name = 'random series')"
      ],
      "id": "665aa10d",
      "execution_count": null,
      "outputs": [
        {
          "output_type": "execute_result",
          "data": {
            "text/plain": [
              "11    1\n",
              "22    2\n",
              "33    3\n",
              "44    4\n",
              "55    5\n",
              "66    6\n",
              "Name: random series, dtype: int32"
            ]
          },
          "metadata": {
            "tags": []
          },
          "execution_count": 8
        }
      ]
    },
    {
      "cell_type": "code",
      "metadata": {
        "id": "e33811e5",
        "outputId": "8dbc8a7f-c0ae-4005-82b8-7dd7fba3c921"
      },
      "source": [
        "pd.Series([len , all, abs])"
      ],
      "id": "e33811e5",
      "execution_count": null,
      "outputs": [
        {
          "output_type": "execute_result",
          "data": {
            "text/plain": [
              "0    <built-in function len>\n",
              "1    <built-in function all>\n",
              "2    <built-in function abs>\n",
              "dtype: object"
            ]
          },
          "metadata": {
            "tags": []
          },
          "execution_count": 9
        }
      ]
    },
    {
      "cell_type": "markdown",
      "metadata": {
        "id": "093cd29f"
      },
      "source": [
        "## Not a Number: NaN\n",
        "\n",
        "Null Values or Missing Data in Pandas"
      ],
      "id": "093cd29f"
    },
    {
      "cell_type": "markdown",
      "metadata": {
        "id": "eda103ae"
      },
      "source": [
        "## Using Index"
      ],
      "id": "eda103ae"
    },
    {
      "cell_type": "code",
      "metadata": {
        "id": "37ebf070",
        "outputId": "25525bbc-b588-4623-e07a-c5a8a1435b5e"
      },
      "source": [
        "ser1 = pd.Series([1, 2, 3, 4], index = ['USA', 'Germany','USSR','Japan'])\n",
        "ser1"
      ],
      "id": "37ebf070",
      "execution_count": null,
      "outputs": [
        {
          "output_type": "execute_result",
          "data": {
            "text/plain": [
              "USA        1\n",
              "Germany    2\n",
              "USSR       3\n",
              "Japan      4\n",
              "dtype: int64"
            ]
          },
          "metadata": {
            "tags": []
          },
          "execution_count": 12
        }
      ]
    },
    {
      "cell_type": "code",
      "metadata": {
        "id": "65621f6d",
        "outputId": "548a83dc-f33b-46d9-f78e-5f3582e4f43c"
      },
      "source": [
        "ser2 = pd.Series([1, 2, 5, 4], index = ['USA', 'Germany','Italy','Japan'])\n",
        "ser2"
      ],
      "id": "65621f6d",
      "execution_count": null,
      "outputs": [
        {
          "output_type": "execute_result",
          "data": {
            "text/plain": [
              "USA        1\n",
              "Germany    2\n",
              "Italy      5\n",
              "Japan      4\n",
              "dtype: int64"
            ]
          },
          "metadata": {
            "tags": []
          },
          "execution_count": 15
        }
      ]
    },
    {
      "cell_type": "code",
      "metadata": {
        "id": "2f306177",
        "outputId": "f2dc19ce-e9fa-469f-cee6-1d953dc71a0e"
      },
      "source": [
        "ser2['Germany']"
      ],
      "id": "2f306177",
      "execution_count": null,
      "outputs": [
        {
          "output_type": "execute_result",
          "data": {
            "text/plain": [
              "2"
            ]
          },
          "metadata": {
            "tags": []
          },
          "execution_count": 16
        }
      ]
    },
    {
      "cell_type": "code",
      "metadata": {
        "id": "79773f65",
        "outputId": "b88b5a05-433c-4122-a7c8-fd1acc0d1240"
      },
      "source": [
        "ser2[['Germany','Japan']]"
      ],
      "id": "79773f65",
      "execution_count": null,
      "outputs": [
        {
          "output_type": "execute_result",
          "data": {
            "text/plain": [
              "Germany    2\n",
              "Japan      4\n",
              "dtype: int64"
            ]
          },
          "metadata": {
            "tags": []
          },
          "execution_count": 20
        }
      ]
    },
    {
      "cell_type": "markdown",
      "metadata": {
        "id": "4351e6a4"
      },
      "source": [
        "### Aggregate Functions\n",
        "\n",
        "sum, mean , median , mode, index, name, add, sub, mul, sqrt, div, std, exp, log, cos, sin , tan"
      ],
      "id": "4351e6a4"
    },
    {
      "cell_type": "code",
      "metadata": {
        "id": "9b8d2811",
        "outputId": "3585d327-4147-4451-9250-83bf8e3c7fc8"
      },
      "source": [
        "ser1.index"
      ],
      "id": "9b8d2811",
      "execution_count": null,
      "outputs": [
        {
          "output_type": "execute_result",
          "data": {
            "text/plain": [
              "Index(['USA', 'Germany', 'USSR', 'Japan'], dtype='object')"
            ]
          },
          "metadata": {
            "tags": []
          },
          "execution_count": 23
        }
      ]
    },
    {
      "cell_type": "code",
      "metadata": {
        "id": "3d402e02",
        "outputId": "d90813b9-3799-4e77-9851-b02206591101"
      },
      "source": [
        "ser2.index"
      ],
      "id": "3d402e02",
      "execution_count": null,
      "outputs": [
        {
          "output_type": "execute_result",
          "data": {
            "text/plain": [
              "Index(['USA', 'Germany', 'Italy', 'Japan'], dtype='object')"
            ]
          },
          "metadata": {
            "tags": []
          },
          "execution_count": 24
        }
      ]
    },
    {
      "cell_type": "code",
      "metadata": {
        "id": "798e7ae1",
        "outputId": "0278c69a-67ec-4250-ac51-76d15d5245fd"
      },
      "source": [
        "ser1.add(ser2)"
      ],
      "id": "798e7ae1",
      "execution_count": null,
      "outputs": [
        {
          "output_type": "execute_result",
          "data": {
            "text/plain": [
              "Germany    4.0\n",
              "Italy      NaN\n",
              "Japan      8.0\n",
              "USA        2.0\n",
              "USSR       NaN\n",
              "dtype: float64"
            ]
          },
          "metadata": {
            "tags": []
          },
          "execution_count": 25
        }
      ]
    },
    {
      "cell_type": "code",
      "metadata": {
        "id": "31cf176f",
        "outputId": "8b54e9ea-7dc6-4e09-ec71-64816e4bd621"
      },
      "source": [
        "ser1 * ser2"
      ],
      "id": "31cf176f",
      "execution_count": null,
      "outputs": [
        {
          "output_type": "execute_result",
          "data": {
            "text/plain": [
              "Germany     4.0\n",
              "Italy       NaN\n",
              "Japan      16.0\n",
              "USA         1.0\n",
              "USSR        NaN\n",
              "dtype: float64"
            ]
          },
          "metadata": {
            "tags": []
          },
          "execution_count": 26
        }
      ]
    },
    {
      "cell_type": "code",
      "metadata": {
        "id": "d23249ee",
        "outputId": "cbf070fd-f64d-46e4-d941-68d40438c444"
      },
      "source": [
        "ser1.std()"
      ],
      "id": "d23249ee",
      "execution_count": null,
      "outputs": [
        {
          "output_type": "execute_result",
          "data": {
            "text/plain": [
              "1.2909944487358056"
            ]
          },
          "metadata": {
            "tags": []
          },
          "execution_count": 29
        }
      ]
    },
    {
      "cell_type": "code",
      "metadata": {
        "id": "7315a304",
        "outputId": "6ea98883-ea3b-48a2-c13a-d14f79786967"
      },
      "source": [
        "ser1.max()"
      ],
      "id": "7315a304",
      "execution_count": null,
      "outputs": [
        {
          "output_type": "execute_result",
          "data": {
            "text/plain": [
              "4"
            ]
          },
          "metadata": {
            "tags": []
          },
          "execution_count": 31
        }
      ]
    },
    {
      "cell_type": "code",
      "metadata": {
        "id": "cb69c6b1"
      },
      "source": [
        "ser4 = pd.Series(np.random.random(5))"
      ],
      "id": "cb69c6b1",
      "execution_count": null,
      "outputs": []
    },
    {
      "cell_type": "code",
      "metadata": {
        "id": "6dd15fcf",
        "outputId": "57cb17cf-757f-478c-e57d-2f27e526e155"
      },
      "source": [
        "ser4"
      ],
      "id": "6dd15fcf",
      "execution_count": null,
      "outputs": [
        {
          "output_type": "execute_result",
          "data": {
            "text/plain": [
              "0    0.011203\n",
              "1    0.684586\n",
              "2    0.412322\n",
              "3    0.172761\n",
              "4    0.505440\n",
              "dtype: float64"
            ]
          },
          "metadata": {
            "tags": []
          },
          "execution_count": 33
        }
      ]
    },
    {
      "cell_type": "code",
      "metadata": {
        "id": "8e2d819e",
        "outputId": "9ec5ff2b-122b-481f-ee9e-9d7f5504713c"
      },
      "source": [
        "ser4[0] * ser2['Germany']"
      ],
      "id": "8e2d819e",
      "execution_count": null,
      "outputs": [
        {
          "output_type": "execute_result",
          "data": {
            "text/plain": [
              "0.022405854503296352"
            ]
          },
          "metadata": {
            "tags": []
          },
          "execution_count": 34
        }
      ]
    },
    {
      "cell_type": "code",
      "metadata": {
        "id": "01854017",
        "outputId": "50d938c5-e09b-4da7-e453-c1f3cefc6d7c"
      },
      "source": [
        "from scipy import stats\n",
        "stats.mode(ser1)"
      ],
      "id": "01854017",
      "execution_count": null,
      "outputs": [
        {
          "output_type": "execute_result",
          "data": {
            "text/plain": [
              "ModeResult(mode=array([1]), count=array([1]))"
            ]
          },
          "metadata": {
            "tags": []
          },
          "execution_count": 35
        }
      ]
    },
    {
      "cell_type": "code",
      "metadata": {
        "id": "583be00c",
        "outputId": "61e0f585-9017-4813-a21c-81953d740936"
      },
      "source": [
        "sum(ser1), max(ser1)"
      ],
      "id": "583be00c",
      "execution_count": null,
      "outputs": [
        {
          "output_type": "execute_result",
          "data": {
            "text/plain": [
              "(10, 4)"
            ]
          },
          "metadata": {
            "tags": []
          },
          "execution_count": 36
        }
      ]
    },
    {
      "cell_type": "code",
      "metadata": {
        "id": "ac4e8627",
        "outputId": "9160f354-0dc2-456c-9c47-a13732ec32f5"
      },
      "source": [
        "ser1.median()"
      ],
      "id": "ac4e8627",
      "execution_count": null,
      "outputs": [
        {
          "output_type": "execute_result",
          "data": {
            "text/plain": [
              "2.5"
            ]
          },
          "metadata": {
            "tags": []
          },
          "execution_count": 38
        }
      ]
    },
    {
      "cell_type": "code",
      "metadata": {
        "id": "01bc8913",
        "outputId": "2ad78114-efbc-4f18-df44-d8529d6a5b01"
      },
      "source": [
        "np.cos(ser2)"
      ],
      "id": "01bc8913",
      "execution_count": null,
      "outputs": [
        {
          "output_type": "execute_result",
          "data": {
            "text/plain": [
              "USA        0.540302\n",
              "Germany   -0.416147\n",
              "Italy      0.283662\n",
              "Japan     -0.653644\n",
              "dtype: float64"
            ]
          },
          "metadata": {
            "tags": []
          },
          "execution_count": 39
        }
      ]
    },
    {
      "cell_type": "markdown",
      "metadata": {
        "id": "9417d3cc"
      },
      "source": [
        "# Data Frames"
      ],
      "id": "9417d3cc"
    },
    {
      "cell_type": "code",
      "metadata": {
        "id": "efaed3c6"
      },
      "source": [
        "from numpy.random import randn"
      ],
      "id": "efaed3c6",
      "execution_count": null,
      "outputs": []
    },
    {
      "cell_type": "code",
      "metadata": {
        "id": "a2f6bd75"
      },
      "source": [
        "df1 = pd.DataFrame(data = randn(5, 4), index = 'A B C D E'.split(), columns= 'w x y z'.split())"
      ],
      "id": "a2f6bd75",
      "execution_count": null,
      "outputs": []
    },
    {
      "cell_type": "code",
      "metadata": {
        "id": "d8f6c01f",
        "outputId": "38695fe9-8570-41a3-b17b-faeea8f7e6cd"
      },
      "source": [
        "df1"
      ],
      "id": "d8f6c01f",
      "execution_count": null,
      "outputs": [
        {
          "output_type": "execute_result",
          "data": {
            "text/html": [
              "<div>\n",
              "<style scoped>\n",
              "    .dataframe tbody tr th:only-of-type {\n",
              "        vertical-align: middle;\n",
              "    }\n",
              "\n",
              "    .dataframe tbody tr th {\n",
              "        vertical-align: top;\n",
              "    }\n",
              "\n",
              "    .dataframe thead th {\n",
              "        text-align: right;\n",
              "    }\n",
              "</style>\n",
              "<table border=\"1\" class=\"dataframe\">\n",
              "  <thead>\n",
              "    <tr style=\"text-align: right;\">\n",
              "      <th></th>\n",
              "      <th>w</th>\n",
              "      <th>x</th>\n",
              "      <th>y</th>\n",
              "      <th>z</th>\n",
              "    </tr>\n",
              "  </thead>\n",
              "  <tbody>\n",
              "    <tr>\n",
              "      <th>A</th>\n",
              "      <td>0.040653</td>\n",
              "      <td>0.129842</td>\n",
              "      <td>-0.601770</td>\n",
              "      <td>-0.606664</td>\n",
              "    </tr>\n",
              "    <tr>\n",
              "      <th>B</th>\n",
              "      <td>0.262595</td>\n",
              "      <td>-0.152140</td>\n",
              "      <td>-0.283796</td>\n",
              "      <td>-1.239393</td>\n",
              "    </tr>\n",
              "    <tr>\n",
              "      <th>C</th>\n",
              "      <td>0.653475</td>\n",
              "      <td>0.328819</td>\n",
              "      <td>-0.113489</td>\n",
              "      <td>-0.341411</td>\n",
              "    </tr>\n",
              "    <tr>\n",
              "      <th>D</th>\n",
              "      <td>-1.007972</td>\n",
              "      <td>0.399544</td>\n",
              "      <td>0.146413</td>\n",
              "      <td>-0.954584</td>\n",
              "    </tr>\n",
              "    <tr>\n",
              "      <th>E</th>\n",
              "      <td>-0.333404</td>\n",
              "      <td>-1.024035</td>\n",
              "      <td>1.946649</td>\n",
              "      <td>0.405700</td>\n",
              "    </tr>\n",
              "  </tbody>\n",
              "</table>\n",
              "</div>"
            ],
            "text/plain": [
              "          w         x         y         z\n",
              "A  0.040653  0.129842 -0.601770 -0.606664\n",
              "B  0.262595 -0.152140 -0.283796 -1.239393\n",
              "C  0.653475  0.328819 -0.113489 -0.341411\n",
              "D -1.007972  0.399544  0.146413 -0.954584\n",
              "E -0.333404 -1.024035  1.946649  0.405700"
            ]
          },
          "metadata": {
            "tags": []
          },
          "execution_count": 123
        }
      ]
    },
    {
      "cell_type": "code",
      "metadata": {
        "id": "3eeb2626",
        "outputId": "1f486970-a0ab-4e90-c275-ffd611c0493b"
      },
      "source": [
        "d"
      ],
      "id": "3eeb2626",
      "execution_count": null,
      "outputs": [
        {
          "output_type": "execute_result",
          "data": {
            "text/plain": [
              "{'a': 10, 'b': 20, 'c': 30}"
            ]
          },
          "metadata": {
            "tags": []
          },
          "execution_count": 48
        }
      ]
    },
    {
      "cell_type": "code",
      "metadata": {
        "id": "a8598ffa"
      },
      "source": [
        "player_names = ['J Bumrah', 'MA Agrawal', 'R Ashwin', 'V Kohli',' RA Jadeja']\n",
        "mat = [20, 14, 79, 92, 52]\n",
        "runs = [43, 1052, 2865, 7547, 1985]\n",
        "SR   = [21.93,54.47, 53.76, 61.47, 56.85]"
      ],
      "id": "a8598ffa",
      "execution_count": null,
      "outputs": []
    },
    {
      "cell_type": "code",
      "metadata": {
        "id": "8d73fc56"
      },
      "source": [
        "cricket = {'player': player_names, 'mat': mat, 'Runs': runs, 'SR': SR}"
      ],
      "id": "8d73fc56",
      "execution_count": null,
      "outputs": []
    },
    {
      "cell_type": "code",
      "metadata": {
        "id": "4c98b3c8",
        "outputId": "a5e36e67-0aab-4b24-e6e3-239bfa686165"
      },
      "source": [
        "cr = pd.DataFrame(cricket)\n",
        "cr"
      ],
      "id": "4c98b3c8",
      "execution_count": null,
      "outputs": [
        {
          "output_type": "execute_result",
          "data": {
            "text/html": [
              "<div>\n",
              "<style scoped>\n",
              "    .dataframe tbody tr th:only-of-type {\n",
              "        vertical-align: middle;\n",
              "    }\n",
              "\n",
              "    .dataframe tbody tr th {\n",
              "        vertical-align: top;\n",
              "    }\n",
              "\n",
              "    .dataframe thead th {\n",
              "        text-align: right;\n",
              "    }\n",
              "</style>\n",
              "<table border=\"1\" class=\"dataframe\">\n",
              "  <thead>\n",
              "    <tr style=\"text-align: right;\">\n",
              "      <th></th>\n",
              "      <th>player</th>\n",
              "      <th>mat</th>\n",
              "      <th>Runs</th>\n",
              "      <th>SR</th>\n",
              "    </tr>\n",
              "  </thead>\n",
              "  <tbody>\n",
              "    <tr>\n",
              "      <th>0</th>\n",
              "      <td>J Bumrah</td>\n",
              "      <td>20</td>\n",
              "      <td>43</td>\n",
              "      <td>21.93</td>\n",
              "    </tr>\n",
              "    <tr>\n",
              "      <th>1</th>\n",
              "      <td>MA Agrawal</td>\n",
              "      <td>14</td>\n",
              "      <td>1052</td>\n",
              "      <td>54.47</td>\n",
              "    </tr>\n",
              "    <tr>\n",
              "      <th>2</th>\n",
              "      <td>R Ashwin</td>\n",
              "      <td>79</td>\n",
              "      <td>2865</td>\n",
              "      <td>53.76</td>\n",
              "    </tr>\n",
              "    <tr>\n",
              "      <th>3</th>\n",
              "      <td>V Kohli</td>\n",
              "      <td>92</td>\n",
              "      <td>7547</td>\n",
              "      <td>61.47</td>\n",
              "    </tr>\n",
              "    <tr>\n",
              "      <th>4</th>\n",
              "      <td>RA Jadeja</td>\n",
              "      <td>52</td>\n",
              "      <td>1985</td>\n",
              "      <td>56.85</td>\n",
              "    </tr>\n",
              "  </tbody>\n",
              "</table>\n",
              "</div>"
            ],
            "text/plain": [
              "       player  mat  Runs     SR\n",
              "0    J Bumrah   20    43  21.93\n",
              "1  MA Agrawal   14  1052  54.47\n",
              "2    R Ashwin   79  2865  53.76\n",
              "3     V Kohli   92  7547  61.47\n",
              "4   RA Jadeja   52  1985  56.85"
            ]
          },
          "metadata": {
            "tags": []
          },
          "execution_count": 62
        }
      ]
    },
    {
      "cell_type": "markdown",
      "metadata": {
        "id": "f1dfbf64"
      },
      "source": [
        "# Data I/O"
      ],
      "id": "f1dfbf64"
    },
    {
      "cell_type": "markdown",
      "metadata": {
        "id": "1df415d9"
      },
      "source": [
        "__reading csv file__"
      ],
      "id": "1df415d9"
    },
    {
      "cell_type": "code",
      "metadata": {
        "id": "dfe99c8a",
        "outputId": "46d8a4e3-c1c7-424d-ffb0-fc3eb25e9278"
      },
      "source": [
        "df = pd.read_csv('LifeExpectancy.csv')\n",
        "df"
      ],
      "id": "dfe99c8a",
      "execution_count": null,
      "outputs": [
        {
          "output_type": "execute_result",
          "data": {
            "text/html": [
              "<div>\n",
              "<style scoped>\n",
              "    .dataframe tbody tr th:only-of-type {\n",
              "        vertical-align: middle;\n",
              "    }\n",
              "\n",
              "    .dataframe tbody tr th {\n",
              "        vertical-align: top;\n",
              "    }\n",
              "\n",
              "    .dataframe thead th {\n",
              "        text-align: right;\n",
              "    }\n",
              "</style>\n",
              "<table border=\"1\" class=\"dataframe\">\n",
              "  <thead>\n",
              "    <tr style=\"text-align: right;\">\n",
              "      <th></th>\n",
              "      <th>Country</th>\n",
              "      <th>Year</th>\n",
              "      <th>Life expectancy</th>\n",
              "      <th>GDP</th>\n",
              "      <th>Population</th>\n",
              "    </tr>\n",
              "  </thead>\n",
              "  <tbody>\n",
              "    <tr>\n",
              "      <th>0</th>\n",
              "      <td>Afghanistan</td>\n",
              "      <td>2015</td>\n",
              "      <td>65.0</td>\n",
              "      <td>584.259210</td>\n",
              "      <td>33736494.0</td>\n",
              "    </tr>\n",
              "    <tr>\n",
              "      <th>1</th>\n",
              "      <td>Afghanistan</td>\n",
              "      <td>2014</td>\n",
              "      <td>59.9</td>\n",
              "      <td>612.696514</td>\n",
              "      <td>327582.0</td>\n",
              "    </tr>\n",
              "    <tr>\n",
              "      <th>2</th>\n",
              "      <td>Afghanistan</td>\n",
              "      <td>2013</td>\n",
              "      <td>59.9</td>\n",
              "      <td>631.744976</td>\n",
              "      <td>31731688.0</td>\n",
              "    </tr>\n",
              "    <tr>\n",
              "      <th>3</th>\n",
              "      <td>Afghanistan</td>\n",
              "      <td>2012</td>\n",
              "      <td>59.5</td>\n",
              "      <td>669.959000</td>\n",
              "      <td>3696958.0</td>\n",
              "    </tr>\n",
              "    <tr>\n",
              "      <th>4</th>\n",
              "      <td>Afghanistan</td>\n",
              "      <td>2011</td>\n",
              "      <td>59.2</td>\n",
              "      <td>63.537231</td>\n",
              "      <td>2978599.0</td>\n",
              "    </tr>\n",
              "    <tr>\n",
              "      <th>...</th>\n",
              "      <td>...</td>\n",
              "      <td>...</td>\n",
              "      <td>...</td>\n",
              "      <td>...</td>\n",
              "      <td>...</td>\n",
              "    </tr>\n",
              "    <tr>\n",
              "      <th>2933</th>\n",
              "      <td>Zimbabwe</td>\n",
              "      <td>2004</td>\n",
              "      <td>44.3</td>\n",
              "      <td>454.366654</td>\n",
              "      <td>12777511.0</td>\n",
              "    </tr>\n",
              "    <tr>\n",
              "      <th>2934</th>\n",
              "      <td>Zimbabwe</td>\n",
              "      <td>2003</td>\n",
              "      <td>44.5</td>\n",
              "      <td>453.351155</td>\n",
              "      <td>12633897.0</td>\n",
              "    </tr>\n",
              "    <tr>\n",
              "      <th>2935</th>\n",
              "      <td>Zimbabwe</td>\n",
              "      <td>2002</td>\n",
              "      <td>44.8</td>\n",
              "      <td>57.348340</td>\n",
              "      <td>125525.0</td>\n",
              "    </tr>\n",
              "    <tr>\n",
              "      <th>2936</th>\n",
              "      <td>Zimbabwe</td>\n",
              "      <td>2001</td>\n",
              "      <td>45.3</td>\n",
              "      <td>548.587312</td>\n",
              "      <td>12366165.0</td>\n",
              "    </tr>\n",
              "    <tr>\n",
              "      <th>2937</th>\n",
              "      <td>Zimbabwe</td>\n",
              "      <td>2000</td>\n",
              "      <td>46.0</td>\n",
              "      <td>547.358878</td>\n",
              "      <td>12222251.0</td>\n",
              "    </tr>\n",
              "  </tbody>\n",
              "</table>\n",
              "<p>2938 rows × 5 columns</p>\n",
              "</div>"
            ],
            "text/plain": [
              "          Country  Year  Life expectancy          GDP  Population\n",
              "0     Afghanistan  2015              65.0  584.259210  33736494.0\n",
              "1     Afghanistan  2014              59.9  612.696514    327582.0\n",
              "2     Afghanistan  2013              59.9  631.744976  31731688.0\n",
              "3     Afghanistan  2012              59.5  669.959000   3696958.0\n",
              "4     Afghanistan  2011              59.2   63.537231   2978599.0\n",
              "...           ...   ...               ...         ...         ...\n",
              "2933     Zimbabwe  2004              44.3  454.366654  12777511.0\n",
              "2934     Zimbabwe  2003              44.5  453.351155  12633897.0\n",
              "2935     Zimbabwe  2002              44.8   57.348340    125525.0\n",
              "2936     Zimbabwe  2001              45.3  548.587312  12366165.0\n",
              "2937     Zimbabwe  2000              46.0  547.358878  12222251.0\n",
              "\n",
              "[2938 rows x 5 columns]"
            ]
          },
          "metadata": {
            "tags": []
          },
          "execution_count": 55
        }
      ]
    },
    {
      "cell_type": "markdown",
      "metadata": {
        "id": "bf2faffa"
      },
      "source": [
        "__exporting to csv__"
      ],
      "id": "bf2faffa"
    },
    {
      "cell_type": "code",
      "metadata": {
        "id": "07f8c306"
      },
      "source": [
        "cr.to_csv('sample_cricket_data.csv', index = False)"
      ],
      "id": "07f8c306",
      "execution_count": null,
      "outputs": []
    },
    {
      "cell_type": "code",
      "metadata": {
        "id": "af859a7c"
      },
      "source": [
        "cr = pd.read_csv('sample_cricket_data.csv')"
      ],
      "id": "af859a7c",
      "execution_count": null,
      "outputs": []
    },
    {
      "cell_type": "markdown",
      "metadata": {
        "id": "e125a0f8"
      },
      "source": [
        "__reading excel file__"
      ],
      "id": "e125a0f8"
    },
    {
      "cell_type": "code",
      "metadata": {
        "id": "e8945ca0"
      },
      "source": [
        "excel = pd.read_excel('IBM-313 Marks.xlsx', sheet_name= 'Sheet1')"
      ],
      "id": "e8945ca0",
      "execution_count": null,
      "outputs": []
    },
    {
      "cell_type": "code",
      "metadata": {
        "id": "ad414a38",
        "outputId": "14c7b35c-ee32-4563-ea11-a2d07a6af6ae"
      },
      "source": [
        "excel"
      ],
      "id": "ad414a38",
      "execution_count": null,
      "outputs": [
        {
          "output_type": "execute_result",
          "data": {
            "text/html": [
              "<div>\n",
              "<style scoped>\n",
              "    .dataframe tbody tr th:only-of-type {\n",
              "        vertical-align: middle;\n",
              "    }\n",
              "\n",
              "    .dataframe tbody tr th {\n",
              "        vertical-align: top;\n",
              "    }\n",
              "\n",
              "    .dataframe thead th {\n",
              "        text-align: right;\n",
              "    }\n",
              "</style>\n",
              "<table border=\"1\" class=\"dataframe\">\n",
              "  <thead>\n",
              "    <tr style=\"text-align: right;\">\n",
              "      <th></th>\n",
              "      <th>S.No.</th>\n",
              "      <th>MTE (25)</th>\n",
              "      <th>Mini Project (25)</th>\n",
              "      <th>Total (50)</th>\n",
              "      <th>ETE (50)</th>\n",
              "      <th>Total</th>\n",
              "    </tr>\n",
              "  </thead>\n",
              "  <tbody>\n",
              "    <tr>\n",
              "      <th>0</th>\n",
              "      <td>1</td>\n",
              "      <td>5.00</td>\n",
              "      <td>20</td>\n",
              "      <td>25.00</td>\n",
              "      <td>12.0</td>\n",
              "      <td>37.00</td>\n",
              "    </tr>\n",
              "    <tr>\n",
              "      <th>1</th>\n",
              "      <td>2</td>\n",
              "      <td>11.05</td>\n",
              "      <td>20</td>\n",
              "      <td>31.05</td>\n",
              "      <td>26.0</td>\n",
              "      <td>57.05</td>\n",
              "    </tr>\n",
              "    <tr>\n",
              "      <th>2</th>\n",
              "      <td>3</td>\n",
              "      <td>8.10</td>\n",
              "      <td>20</td>\n",
              "      <td>28.10</td>\n",
              "      <td>14.0</td>\n",
              "      <td>42.10</td>\n",
              "    </tr>\n",
              "    <tr>\n",
              "      <th>3</th>\n",
              "      <td>4</td>\n",
              "      <td>6.00</td>\n",
              "      <td>10</td>\n",
              "      <td>16.00</td>\n",
              "      <td>13.0</td>\n",
              "      <td>29.00</td>\n",
              "    </tr>\n",
              "    <tr>\n",
              "      <th>4</th>\n",
              "      <td>5</td>\n",
              "      <td>11.35</td>\n",
              "      <td>20</td>\n",
              "      <td>31.35</td>\n",
              "      <td>17.0</td>\n",
              "      <td>48.35</td>\n",
              "    </tr>\n",
              "    <tr>\n",
              "      <th>...</th>\n",
              "      <td>...</td>\n",
              "      <td>...</td>\n",
              "      <td>...</td>\n",
              "      <td>...</td>\n",
              "      <td>...</td>\n",
              "      <td>...</td>\n",
              "    </tr>\n",
              "    <tr>\n",
              "      <th>74</th>\n",
              "      <td>75</td>\n",
              "      <td>12.05</td>\n",
              "      <td>10</td>\n",
              "      <td>22.05</td>\n",
              "      <td>20.0</td>\n",
              "      <td>42.05</td>\n",
              "    </tr>\n",
              "    <tr>\n",
              "      <th>75</th>\n",
              "      <td>76</td>\n",
              "      <td>12.25</td>\n",
              "      <td>10</td>\n",
              "      <td>22.25</td>\n",
              "      <td>28.0</td>\n",
              "      <td>50.25</td>\n",
              "    </tr>\n",
              "    <tr>\n",
              "      <th>76</th>\n",
              "      <td>77</td>\n",
              "      <td>1.75</td>\n",
              "      <td>10</td>\n",
              "      <td>11.75</td>\n",
              "      <td>NaN</td>\n",
              "      <td>0.00</td>\n",
              "    </tr>\n",
              "    <tr>\n",
              "      <th>77</th>\n",
              "      <td>78</td>\n",
              "      <td>3.00</td>\n",
              "      <td>10</td>\n",
              "      <td>13.00</td>\n",
              "      <td>NaN</td>\n",
              "      <td>0.00</td>\n",
              "    </tr>\n",
              "    <tr>\n",
              "      <th>78</th>\n",
              "      <td>79</td>\n",
              "      <td>5.80</td>\n",
              "      <td>10</td>\n",
              "      <td>15.80</td>\n",
              "      <td>12.0</td>\n",
              "      <td>27.80</td>\n",
              "    </tr>\n",
              "  </tbody>\n",
              "</table>\n",
              "<p>79 rows × 6 columns</p>\n",
              "</div>"
            ],
            "text/plain": [
              "    S.No.  MTE (25)  Mini Project (25)  Total (50)  ETE (50)  Total\n",
              "0       1      5.00                 20       25.00      12.0  37.00\n",
              "1       2     11.05                 20       31.05      26.0  57.05\n",
              "2       3      8.10                 20       28.10      14.0  42.10\n",
              "3       4      6.00                 10       16.00      13.0  29.00\n",
              "4       5     11.35                 20       31.35      17.0  48.35\n",
              "..    ...       ...                ...         ...       ...    ...\n",
              "74     75     12.05                 10       22.05      20.0  42.05\n",
              "75     76     12.25                 10       22.25      28.0  50.25\n",
              "76     77      1.75                 10       11.75       NaN   0.00\n",
              "77     78      3.00                 10       13.00       NaN   0.00\n",
              "78     79      5.80                 10       15.80      12.0  27.80\n",
              "\n",
              "[79 rows x 6 columns]"
            ]
          },
          "metadata": {
            "tags": []
          },
          "execution_count": 67
        }
      ]
    },
    {
      "cell_type": "code",
      "metadata": {
        "id": "7d5827d9"
      },
      "source": [
        "excel.to_excel('IBM-313 Marks.xlsx', sheet_name='Sheet1')"
      ],
      "id": "7d5827d9",
      "execution_count": null,
      "outputs": []
    },
    {
      "cell_type": "code",
      "metadata": {
        "id": "e67e57fe",
        "outputId": "951133c0-1c5a-4133-99a0-b5bcc80b6b4c"
      },
      "source": [
        "df"
      ],
      "id": "e67e57fe",
      "execution_count": null,
      "outputs": [
        {
          "output_type": "execute_result",
          "data": {
            "text/html": [
              "<div>\n",
              "<style scoped>\n",
              "    .dataframe tbody tr th:only-of-type {\n",
              "        vertical-align: middle;\n",
              "    }\n",
              "\n",
              "    .dataframe tbody tr th {\n",
              "        vertical-align: top;\n",
              "    }\n",
              "\n",
              "    .dataframe thead th {\n",
              "        text-align: right;\n",
              "    }\n",
              "</style>\n",
              "<table border=\"1\" class=\"dataframe\">\n",
              "  <thead>\n",
              "    <tr style=\"text-align: right;\">\n",
              "      <th></th>\n",
              "      <th>Country</th>\n",
              "      <th>Year</th>\n",
              "      <th>Life expectancy</th>\n",
              "      <th>GDP</th>\n",
              "      <th>Population</th>\n",
              "    </tr>\n",
              "  </thead>\n",
              "  <tbody>\n",
              "    <tr>\n",
              "      <th>0</th>\n",
              "      <td>Afghanistan</td>\n",
              "      <td>2015</td>\n",
              "      <td>65.0</td>\n",
              "      <td>584.259210</td>\n",
              "      <td>33736494.0</td>\n",
              "    </tr>\n",
              "    <tr>\n",
              "      <th>1</th>\n",
              "      <td>Afghanistan</td>\n",
              "      <td>2014</td>\n",
              "      <td>59.9</td>\n",
              "      <td>612.696514</td>\n",
              "      <td>327582.0</td>\n",
              "    </tr>\n",
              "    <tr>\n",
              "      <th>2</th>\n",
              "      <td>Afghanistan</td>\n",
              "      <td>2013</td>\n",
              "      <td>59.9</td>\n",
              "      <td>631.744976</td>\n",
              "      <td>31731688.0</td>\n",
              "    </tr>\n",
              "    <tr>\n",
              "      <th>3</th>\n",
              "      <td>Afghanistan</td>\n",
              "      <td>2012</td>\n",
              "      <td>59.5</td>\n",
              "      <td>669.959000</td>\n",
              "      <td>3696958.0</td>\n",
              "    </tr>\n",
              "    <tr>\n",
              "      <th>4</th>\n",
              "      <td>Afghanistan</td>\n",
              "      <td>2011</td>\n",
              "      <td>59.2</td>\n",
              "      <td>63.537231</td>\n",
              "      <td>2978599.0</td>\n",
              "    </tr>\n",
              "    <tr>\n",
              "      <th>...</th>\n",
              "      <td>...</td>\n",
              "      <td>...</td>\n",
              "      <td>...</td>\n",
              "      <td>...</td>\n",
              "      <td>...</td>\n",
              "    </tr>\n",
              "    <tr>\n",
              "      <th>2933</th>\n",
              "      <td>Zimbabwe</td>\n",
              "      <td>2004</td>\n",
              "      <td>44.3</td>\n",
              "      <td>454.366654</td>\n",
              "      <td>12777511.0</td>\n",
              "    </tr>\n",
              "    <tr>\n",
              "      <th>2934</th>\n",
              "      <td>Zimbabwe</td>\n",
              "      <td>2003</td>\n",
              "      <td>44.5</td>\n",
              "      <td>453.351155</td>\n",
              "      <td>12633897.0</td>\n",
              "    </tr>\n",
              "    <tr>\n",
              "      <th>2935</th>\n",
              "      <td>Zimbabwe</td>\n",
              "      <td>2002</td>\n",
              "      <td>44.8</td>\n",
              "      <td>57.348340</td>\n",
              "      <td>125525.0</td>\n",
              "    </tr>\n",
              "    <tr>\n",
              "      <th>2936</th>\n",
              "      <td>Zimbabwe</td>\n",
              "      <td>2001</td>\n",
              "      <td>45.3</td>\n",
              "      <td>548.587312</td>\n",
              "      <td>12366165.0</td>\n",
              "    </tr>\n",
              "    <tr>\n",
              "      <th>2937</th>\n",
              "      <td>Zimbabwe</td>\n",
              "      <td>2000</td>\n",
              "      <td>46.0</td>\n",
              "      <td>547.358878</td>\n",
              "      <td>12222251.0</td>\n",
              "    </tr>\n",
              "  </tbody>\n",
              "</table>\n",
              "<p>2938 rows × 5 columns</p>\n",
              "</div>"
            ],
            "text/plain": [
              "          Country  Year  Life expectancy          GDP  Population\n",
              "0     Afghanistan  2015              65.0  584.259210  33736494.0\n",
              "1     Afghanistan  2014              59.9  612.696514    327582.0\n",
              "2     Afghanistan  2013              59.9  631.744976  31731688.0\n",
              "3     Afghanistan  2012              59.5  669.959000   3696958.0\n",
              "4     Afghanistan  2011              59.2   63.537231   2978599.0\n",
              "...           ...   ...               ...         ...         ...\n",
              "2933     Zimbabwe  2004              44.3  454.366654  12777511.0\n",
              "2934     Zimbabwe  2003              44.5  453.351155  12633897.0\n",
              "2935     Zimbabwe  2002              44.8   57.348340    125525.0\n",
              "2936     Zimbabwe  2001              45.3  548.587312  12366165.0\n",
              "2937     Zimbabwe  2000              46.0  547.358878  12222251.0\n",
              "\n",
              "[2938 rows x 5 columns]"
            ]
          },
          "metadata": {
            "tags": []
          },
          "execution_count": 69
        }
      ]
    },
    {
      "cell_type": "markdown",
      "metadata": {
        "id": "15d5ee40"
      },
      "source": [
        "# retrieving Information of Series / Data Frames\n",
        "\n",
        "`Basic Information`\n",
        "\n",
        "shape, index, columns, info, count"
      ],
      "id": "15d5ee40"
    },
    {
      "cell_type": "code",
      "metadata": {
        "id": "30e28faf",
        "outputId": "06002e72-49c2-4759-c2dc-188a3e42649f"
      },
      "source": [
        "df.info()"
      ],
      "id": "30e28faf",
      "execution_count": null,
      "outputs": [
        {
          "output_type": "stream",
          "text": [
            "<class 'pandas.core.frame.DataFrame'>\n",
            "RangeIndex: 2938 entries, 0 to 2937\n",
            "Data columns (total 5 columns):\n",
            " #   Column            Non-Null Count  Dtype  \n",
            "---  ------            --------------  -----  \n",
            " 0   Country           2938 non-null   object \n",
            " 1   Year              2938 non-null   int64  \n",
            " 2   Life expectancy   2928 non-null   float64\n",
            " 3   GDP               2490 non-null   float64\n",
            " 4   Population        2286 non-null   float64\n",
            "dtypes: float64(3), int64(1), object(1)\n",
            "memory usage: 114.9+ KB\n"
          ],
          "name": "stdout"
        }
      ]
    },
    {
      "cell_type": "code",
      "metadata": {
        "id": "f47fa637",
        "outputId": "42638ed3-e5a4-403a-908a-61c1e782b231"
      },
      "source": [
        "df.shape"
      ],
      "id": "f47fa637",
      "execution_count": null,
      "outputs": [
        {
          "output_type": "execute_result",
          "data": {
            "text/plain": [
              "(2938, 5)"
            ]
          },
          "metadata": {
            "tags": []
          },
          "execution_count": 71
        }
      ]
    },
    {
      "cell_type": "code",
      "metadata": {
        "id": "14aa9f47",
        "outputId": "8bc02fc1-e2b9-48e7-c4c0-b12ca02c28f1"
      },
      "source": [
        "df.index"
      ],
      "id": "14aa9f47",
      "execution_count": null,
      "outputs": [
        {
          "output_type": "execute_result",
          "data": {
            "text/plain": [
              "RangeIndex(start=0, stop=2938, step=1)"
            ]
          },
          "metadata": {
            "tags": []
          },
          "execution_count": 72
        }
      ]
    },
    {
      "cell_type": "code",
      "metadata": {
        "id": "9d17340f",
        "outputId": "d9e2ba72-44c5-44b7-debe-827985f7f14e"
      },
      "source": [
        "df.columns"
      ],
      "id": "9d17340f",
      "execution_count": null,
      "outputs": [
        {
          "output_type": "execute_result",
          "data": {
            "text/plain": [
              "Index(['Country', 'Year', 'Life expectancy ', 'GDP', 'Population'], dtype='object')"
            ]
          },
          "metadata": {
            "tags": []
          },
          "execution_count": 73
        }
      ]
    },
    {
      "cell_type": "code",
      "metadata": {
        "id": "a2dc468f",
        "outputId": "9fb79e81-61d2-41b1-decc-ac1f74a2c18f"
      },
      "source": [
        "df.count()  # non - null counts"
      ],
      "id": "a2dc468f",
      "execution_count": null,
      "outputs": [
        {
          "output_type": "execute_result",
          "data": {
            "text/plain": [
              "Country             2938\n",
              "Year                2938\n",
              "Life expectancy     2928\n",
              "GDP                 2490\n",
              "Population          2286\n",
              "dtype: int64"
            ]
          },
          "metadata": {
            "tags": []
          },
          "execution_count": 75
        }
      ]
    },
    {
      "cell_type": "markdown",
      "metadata": {
        "id": "695f8022"
      },
      "source": [
        "`Summary`\n",
        "\n",
        "sum, cumsum, min, max, idxmin, idxmax, describe, mean, median"
      ],
      "id": "695f8022"
    },
    {
      "cell_type": "code",
      "metadata": {
        "id": "ed85ba18",
        "outputId": "fcc1ebd0-f6a2-41f7-c379-3a1612dc55a8"
      },
      "source": [
        "df.sum()"
      ],
      "id": "ed85ba18",
      "execution_count": null,
      "outputs": [
        {
          "output_type": "execute_result",
          "data": {
            "text/plain": [
              "Country             AfghanistanAfghanistanAfghanistanAfghanistanAf...\n",
              "Year                                                          5898090\n",
              "Life expectancy                                              202690.6\n",
              "GDP                                                   18633064.588155\n",
              "Population                                         29154215524.440002\n",
              "dtype: object"
            ]
          },
          "metadata": {
            "tags": []
          },
          "execution_count": 77
        }
      ]
    },
    {
      "cell_type": "code",
      "metadata": {
        "id": "f260bb13",
        "outputId": "d77df24e-e4e8-48a7-cb9d-4595cb547785"
      },
      "source": [
        "df.min()"
      ],
      "id": "f260bb13",
      "execution_count": null,
      "outputs": [
        {
          "output_type": "execute_result",
          "data": {
            "text/plain": [
              "Country             Afghanistan\n",
              "Year                       2000\n",
              "Life expectancy            36.3\n",
              "GDP                     1.68135\n",
              "Population                 34.0\n",
              "dtype: object"
            ]
          },
          "metadata": {
            "tags": []
          },
          "execution_count": 79
        }
      ]
    },
    {
      "cell_type": "code",
      "metadata": {
        "id": "3e1dc44b",
        "outputId": "29b3a7a5-f1c2-461d-dd32-9d574a58b184"
      },
      "source": [
        "df.max()"
      ],
      "id": "3e1dc44b",
      "execution_count": null,
      "outputs": [
        {
          "output_type": "execute_result",
          "data": {
            "text/plain": [
              "Country                 Zimbabwe\n",
              "Year                        2015\n",
              "Life expectancy             89.0\n",
              "GDP                  119172.7418\n",
              "Population          1293859294.0\n",
              "dtype: object"
            ]
          },
          "metadata": {
            "tags": []
          },
          "execution_count": 82
        }
      ]
    },
    {
      "cell_type": "code",
      "metadata": {
        "id": "5b1efea3",
        "outputId": "525322da-ee0c-4a1c-b32b-3f886b1b4d81"
      },
      "source": [
        "df.mean()"
      ],
      "id": "5b1efea3",
      "execution_count": null,
      "outputs": [
        {
          "output_type": "execute_result",
          "data": {
            "text/plain": [
              "Year                2.007519e+03\n",
              "Life expectancy     6.922493e+01\n",
              "GDP                 7.483158e+03\n",
              "Population          1.275338e+07\n",
              "dtype: float64"
            ]
          },
          "metadata": {
            "tags": []
          },
          "execution_count": 83
        }
      ]
    },
    {
      "cell_type": "code",
      "metadata": {
        "id": "7d2dc87f",
        "outputId": "1d8bfb49-ece9-4d3c-a68c-90ee08630a09"
      },
      "source": [
        "df.median()"
      ],
      "id": "7d2dc87f",
      "execution_count": null,
      "outputs": [
        {
          "output_type": "execute_result",
          "data": {
            "text/plain": [
              "Year                2.008000e+03\n",
              "Life expectancy     7.210000e+01\n",
              "GDP                 1.766948e+03\n",
              "Population          1.386542e+06\n",
              "dtype: float64"
            ]
          },
          "metadata": {
            "tags": []
          },
          "execution_count": 84
        }
      ]
    },
    {
      "cell_type": "code",
      "metadata": {
        "id": "3f620a97",
        "outputId": "669db3c4-77fa-4db2-ec12-9392c140e1dd"
      },
      "source": [
        ""
      ],
      "id": "3f620a97",
      "execution_count": null,
      "outputs": [
        {
          "output_type": "execute_result",
          "data": {
            "text/html": [
              "<div>\n",
              "<style scoped>\n",
              "    .dataframe tbody tr th:only-of-type {\n",
              "        vertical-align: middle;\n",
              "    }\n",
              "\n",
              "    .dataframe tbody tr th {\n",
              "        vertical-align: top;\n",
              "    }\n",
              "\n",
              "    .dataframe thead th {\n",
              "        text-align: right;\n",
              "    }\n",
              "</style>\n",
              "<table border=\"1\" class=\"dataframe\">\n",
              "  <thead>\n",
              "    <tr style=\"text-align: right;\">\n",
              "      <th></th>\n",
              "      <th>Country</th>\n",
              "      <th>Year</th>\n",
              "      <th>Life expectancy</th>\n",
              "      <th>GDP</th>\n",
              "      <th>Population</th>\n",
              "    </tr>\n",
              "  </thead>\n",
              "  <tbody>\n",
              "    <tr>\n",
              "      <th>0</th>\n",
              "      <td>Afghanistan</td>\n",
              "      <td>2015</td>\n",
              "      <td>65.0</td>\n",
              "      <td>584.259210</td>\n",
              "      <td>33736494.0</td>\n",
              "    </tr>\n",
              "    <tr>\n",
              "      <th>1</th>\n",
              "      <td>Afghanistan</td>\n",
              "      <td>2014</td>\n",
              "      <td>59.9</td>\n",
              "      <td>612.696514</td>\n",
              "      <td>327582.0</td>\n",
              "    </tr>\n",
              "    <tr>\n",
              "      <th>2</th>\n",
              "      <td>Afghanistan</td>\n",
              "      <td>2013</td>\n",
              "      <td>59.9</td>\n",
              "      <td>631.744976</td>\n",
              "      <td>31731688.0</td>\n",
              "    </tr>\n",
              "    <tr>\n",
              "      <th>3</th>\n",
              "      <td>Afghanistan</td>\n",
              "      <td>2012</td>\n",
              "      <td>59.5</td>\n",
              "      <td>669.959000</td>\n",
              "      <td>3696958.0</td>\n",
              "    </tr>\n",
              "    <tr>\n",
              "      <th>4</th>\n",
              "      <td>Afghanistan</td>\n",
              "      <td>2011</td>\n",
              "      <td>59.2</td>\n",
              "      <td>63.537231</td>\n",
              "      <td>2978599.0</td>\n",
              "    </tr>\n",
              "    <tr>\n",
              "      <th>...</th>\n",
              "      <td>...</td>\n",
              "      <td>...</td>\n",
              "      <td>...</td>\n",
              "      <td>...</td>\n",
              "      <td>...</td>\n",
              "    </tr>\n",
              "    <tr>\n",
              "      <th>2933</th>\n",
              "      <td>Zimbabwe</td>\n",
              "      <td>2004</td>\n",
              "      <td>44.3</td>\n",
              "      <td>454.366654</td>\n",
              "      <td>12777511.0</td>\n",
              "    </tr>\n",
              "    <tr>\n",
              "      <th>2934</th>\n",
              "      <td>Zimbabwe</td>\n",
              "      <td>2003</td>\n",
              "      <td>44.5</td>\n",
              "      <td>453.351155</td>\n",
              "      <td>12633897.0</td>\n",
              "    </tr>\n",
              "    <tr>\n",
              "      <th>2935</th>\n",
              "      <td>Zimbabwe</td>\n",
              "      <td>2002</td>\n",
              "      <td>44.8</td>\n",
              "      <td>57.348340</td>\n",
              "      <td>125525.0</td>\n",
              "    </tr>\n",
              "    <tr>\n",
              "      <th>2936</th>\n",
              "      <td>Zimbabwe</td>\n",
              "      <td>2001</td>\n",
              "      <td>45.3</td>\n",
              "      <td>548.587312</td>\n",
              "      <td>12366165.0</td>\n",
              "    </tr>\n",
              "    <tr>\n",
              "      <th>2937</th>\n",
              "      <td>Zimbabwe</td>\n",
              "      <td>2000</td>\n",
              "      <td>46.0</td>\n",
              "      <td>547.358878</td>\n",
              "      <td>12222251.0</td>\n",
              "    </tr>\n",
              "  </tbody>\n",
              "</table>\n",
              "<p>2938 rows × 5 columns</p>\n",
              "</div>"
            ],
            "text/plain": [
              "          Country  Year  Life expectancy          GDP  Population\n",
              "0     Afghanistan  2015              65.0  584.259210  33736494.0\n",
              "1     Afghanistan  2014              59.9  612.696514    327582.0\n",
              "2     Afghanistan  2013              59.9  631.744976  31731688.0\n",
              "3     Afghanistan  2012              59.5  669.959000   3696958.0\n",
              "4     Afghanistan  2011              59.2   63.537231   2978599.0\n",
              "...           ...   ...               ...         ...         ...\n",
              "2933     Zimbabwe  2004              44.3  454.366654  12777511.0\n",
              "2934     Zimbabwe  2003              44.5  453.351155  12633897.0\n",
              "2935     Zimbabwe  2002              44.8   57.348340    125525.0\n",
              "2936     Zimbabwe  2001              45.3  548.587312  12366165.0\n",
              "2937     Zimbabwe  2000              46.0  547.358878  12222251.0\n",
              "\n",
              "[2938 rows x 5 columns]"
            ]
          },
          "metadata": {
            "tags": []
          },
          "execution_count": 86
        }
      ]
    },
    {
      "cell_type": "code",
      "metadata": {
        "id": "ddde28a7",
        "outputId": "4ba72cb3-4144-490b-ea57-be19208db774"
      },
      "source": [
        "excel.idxmax()"
      ],
      "id": "ddde28a7",
      "execution_count": null,
      "outputs": [
        {
          "output_type": "execute_result",
          "data": {
            "text/plain": [
              "S.No.                78\n",
              "MTE (25)             25\n",
              "Mini Project (25)    12\n",
              "Total (50)           25\n",
              "ETE (50)             24\n",
              "Total                24\n",
              "dtype: int64"
            ]
          },
          "metadata": {
            "tags": []
          },
          "execution_count": 87
        }
      ]
    },
    {
      "cell_type": "code",
      "metadata": {
        "id": "c4a99bbe",
        "outputId": "8eae13d9-825e-45d7-da72-bffa126e48de"
      },
      "source": [
        "excel.idxmin()"
      ],
      "id": "c4a99bbe",
      "execution_count": null,
      "outputs": [
        {
          "output_type": "execute_result",
          "data": {
            "text/plain": [
              "S.No.                 0\n",
              "MTE (25)             48\n",
              "Mini Project (25)     3\n",
              "Total (50)           71\n",
              "ETE (50)             73\n",
              "Total                76\n",
              "dtype: int64"
            ]
          },
          "metadata": {
            "tags": []
          },
          "execution_count": 88
        }
      ]
    },
    {
      "cell_type": "code",
      "metadata": {
        "id": "484471e7",
        "outputId": "26696a72-ed7c-4a31-c715-6967f0e299c8"
      },
      "source": [
        "df.cumsum()"
      ],
      "id": "484471e7",
      "execution_count": null,
      "outputs": [
        {
          "output_type": "execute_result",
          "data": {
            "text/html": [
              "<div>\n",
              "<style scoped>\n",
              "    .dataframe tbody tr th:only-of-type {\n",
              "        vertical-align: middle;\n",
              "    }\n",
              "\n",
              "    .dataframe tbody tr th {\n",
              "        vertical-align: top;\n",
              "    }\n",
              "\n",
              "    .dataframe thead th {\n",
              "        text-align: right;\n",
              "    }\n",
              "</style>\n",
              "<table border=\"1\" class=\"dataframe\">\n",
              "  <thead>\n",
              "    <tr style=\"text-align: right;\">\n",
              "      <th></th>\n",
              "      <th>Country</th>\n",
              "      <th>Year</th>\n",
              "      <th>Life expectancy</th>\n",
              "      <th>GDP</th>\n",
              "      <th>Population</th>\n",
              "    </tr>\n",
              "  </thead>\n",
              "  <tbody>\n",
              "    <tr>\n",
              "      <th>0</th>\n",
              "      <td>Afghanistan</td>\n",
              "      <td>2015</td>\n",
              "      <td>65.0</td>\n",
              "      <td>5.842592e+02</td>\n",
              "      <td>3.373649e+07</td>\n",
              "    </tr>\n",
              "    <tr>\n",
              "      <th>1</th>\n",
              "      <td>AfghanistanAfghanistan</td>\n",
              "      <td>4029</td>\n",
              "      <td>124.9</td>\n",
              "      <td>1.196956e+03</td>\n",
              "      <td>3.406408e+07</td>\n",
              "    </tr>\n",
              "    <tr>\n",
              "      <th>2</th>\n",
              "      <td>AfghanistanAfghanistanAfghanistan</td>\n",
              "      <td>6042</td>\n",
              "      <td>184.8</td>\n",
              "      <td>1.828701e+03</td>\n",
              "      <td>6.579576e+07</td>\n",
              "    </tr>\n",
              "    <tr>\n",
              "      <th>3</th>\n",
              "      <td>AfghanistanAfghanistanAfghanistanAfghanistan</td>\n",
              "      <td>8054</td>\n",
              "      <td>244.3</td>\n",
              "      <td>2.498660e+03</td>\n",
              "      <td>6.949272e+07</td>\n",
              "    </tr>\n",
              "    <tr>\n",
              "      <th>4</th>\n",
              "      <td>AfghanistanAfghanistanAfghanistanAfghanistanAf...</td>\n",
              "      <td>10065</td>\n",
              "      <td>303.5</td>\n",
              "      <td>2.562197e+03</td>\n",
              "      <td>7.247132e+07</td>\n",
              "    </tr>\n",
              "    <tr>\n",
              "      <th>...</th>\n",
              "      <td>...</td>\n",
              "      <td>...</td>\n",
              "      <td>...</td>\n",
              "      <td>...</td>\n",
              "      <td>...</td>\n",
              "    </tr>\n",
              "    <tr>\n",
              "      <th>2933</th>\n",
              "      <td>AfghanistanAfghanistanAfghanistanAfghanistanAf...</td>\n",
              "      <td>5890084</td>\n",
              "      <td>202510.0</td>\n",
              "      <td>1.863146e+07</td>\n",
              "      <td>2.911687e+10</td>\n",
              "    </tr>\n",
              "    <tr>\n",
              "      <th>2934</th>\n",
              "      <td>AfghanistanAfghanistanAfghanistanAfghanistanAf...</td>\n",
              "      <td>5892087</td>\n",
              "      <td>202554.5</td>\n",
              "      <td>1.863191e+07</td>\n",
              "      <td>2.912950e+10</td>\n",
              "    </tr>\n",
              "    <tr>\n",
              "      <th>2935</th>\n",
              "      <td>AfghanistanAfghanistanAfghanistanAfghanistanAf...</td>\n",
              "      <td>5894089</td>\n",
              "      <td>202599.3</td>\n",
              "      <td>1.863197e+07</td>\n",
              "      <td>2.912963e+10</td>\n",
              "    </tr>\n",
              "    <tr>\n",
              "      <th>2936</th>\n",
              "      <td>AfghanistanAfghanistanAfghanistanAfghanistanAf...</td>\n",
              "      <td>5896090</td>\n",
              "      <td>202644.6</td>\n",
              "      <td>1.863252e+07</td>\n",
              "      <td>2.914199e+10</td>\n",
              "    </tr>\n",
              "    <tr>\n",
              "      <th>2937</th>\n",
              "      <td>AfghanistanAfghanistanAfghanistanAfghanistanAf...</td>\n",
              "      <td>5898090</td>\n",
              "      <td>202690.6</td>\n",
              "      <td>1.863306e+07</td>\n",
              "      <td>2.915422e+10</td>\n",
              "    </tr>\n",
              "  </tbody>\n",
              "</table>\n",
              "<p>2938 rows × 5 columns</p>\n",
              "</div>"
            ],
            "text/plain": [
              "                                                Country     Year  \\\n",
              "0                                           Afghanistan     2015   \n",
              "1                                AfghanistanAfghanistan     4029   \n",
              "2                     AfghanistanAfghanistanAfghanistan     6042   \n",
              "3          AfghanistanAfghanistanAfghanistanAfghanistan     8054   \n",
              "4     AfghanistanAfghanistanAfghanistanAfghanistanAf...    10065   \n",
              "...                                                 ...      ...   \n",
              "2933  AfghanistanAfghanistanAfghanistanAfghanistanAf...  5890084   \n",
              "2934  AfghanistanAfghanistanAfghanistanAfghanistanAf...  5892087   \n",
              "2935  AfghanistanAfghanistanAfghanistanAfghanistanAf...  5894089   \n",
              "2936  AfghanistanAfghanistanAfghanistanAfghanistanAf...  5896090   \n",
              "2937  AfghanistanAfghanistanAfghanistanAfghanistanAf...  5898090   \n",
              "\n",
              "      Life expectancy            GDP    Population  \n",
              "0                 65.0  5.842592e+02  3.373649e+07  \n",
              "1                124.9  1.196956e+03  3.406408e+07  \n",
              "2                184.8  1.828701e+03  6.579576e+07  \n",
              "3                244.3  2.498660e+03  6.949272e+07  \n",
              "4                303.5  2.562197e+03  7.247132e+07  \n",
              "...                ...           ...           ...  \n",
              "2933          202510.0  1.863146e+07  2.911687e+10  \n",
              "2934          202554.5  1.863191e+07  2.912950e+10  \n",
              "2935          202599.3  1.863197e+07  2.912963e+10  \n",
              "2936          202644.6  1.863252e+07  2.914199e+10  \n",
              "2937          202690.6  1.863306e+07  2.915422e+10  \n",
              "\n",
              "[2938 rows x 5 columns]"
            ]
          },
          "metadata": {
            "tags": []
          },
          "execution_count": 89
        }
      ]
    },
    {
      "cell_type": "code",
      "metadata": {
        "id": "9e1561f1",
        "outputId": "dda129f3-01fb-4cf1-d118-56252a20bb58"
      },
      "source": [
        "df.describe()"
      ],
      "id": "9e1561f1",
      "execution_count": null,
      "outputs": [
        {
          "output_type": "execute_result",
          "data": {
            "text/html": [
              "<div>\n",
              "<style scoped>\n",
              "    .dataframe tbody tr th:only-of-type {\n",
              "        vertical-align: middle;\n",
              "    }\n",
              "\n",
              "    .dataframe tbody tr th {\n",
              "        vertical-align: top;\n",
              "    }\n",
              "\n",
              "    .dataframe thead th {\n",
              "        text-align: right;\n",
              "    }\n",
              "</style>\n",
              "<table border=\"1\" class=\"dataframe\">\n",
              "  <thead>\n",
              "    <tr style=\"text-align: right;\">\n",
              "      <th></th>\n",
              "      <th>Year</th>\n",
              "      <th>Life expectancy</th>\n",
              "      <th>GDP</th>\n",
              "      <th>Population</th>\n",
              "    </tr>\n",
              "  </thead>\n",
              "  <tbody>\n",
              "    <tr>\n",
              "      <th>count</th>\n",
              "      <td>2938.000000</td>\n",
              "      <td>2928.000000</td>\n",
              "      <td>2490.000000</td>\n",
              "      <td>2.286000e+03</td>\n",
              "    </tr>\n",
              "    <tr>\n",
              "      <th>mean</th>\n",
              "      <td>2007.518720</td>\n",
              "      <td>69.224932</td>\n",
              "      <td>7483.158469</td>\n",
              "      <td>1.275338e+07</td>\n",
              "    </tr>\n",
              "    <tr>\n",
              "      <th>std</th>\n",
              "      <td>4.613841</td>\n",
              "      <td>9.523867</td>\n",
              "      <td>14270.169342</td>\n",
              "      <td>6.101210e+07</td>\n",
              "    </tr>\n",
              "    <tr>\n",
              "      <th>min</th>\n",
              "      <td>2000.000000</td>\n",
              "      <td>36.300000</td>\n",
              "      <td>1.681350</td>\n",
              "      <td>3.400000e+01</td>\n",
              "    </tr>\n",
              "    <tr>\n",
              "      <th>25%</th>\n",
              "      <td>2004.000000</td>\n",
              "      <td>63.100000</td>\n",
              "      <td>463.935626</td>\n",
              "      <td>1.957932e+05</td>\n",
              "    </tr>\n",
              "    <tr>\n",
              "      <th>50%</th>\n",
              "      <td>2008.000000</td>\n",
              "      <td>72.100000</td>\n",
              "      <td>1766.947595</td>\n",
              "      <td>1.386542e+06</td>\n",
              "    </tr>\n",
              "    <tr>\n",
              "      <th>75%</th>\n",
              "      <td>2012.000000</td>\n",
              "      <td>75.700000</td>\n",
              "      <td>5910.806335</td>\n",
              "      <td>7.420359e+06</td>\n",
              "    </tr>\n",
              "    <tr>\n",
              "      <th>max</th>\n",
              "      <td>2015.000000</td>\n",
              "      <td>89.000000</td>\n",
              "      <td>119172.741800</td>\n",
              "      <td>1.293859e+09</td>\n",
              "    </tr>\n",
              "  </tbody>\n",
              "</table>\n",
              "</div>"
            ],
            "text/plain": [
              "              Year  Life expectancy             GDP    Population\n",
              "count  2938.000000       2928.000000    2490.000000  2.286000e+03\n",
              "mean   2007.518720         69.224932    7483.158469  1.275338e+07\n",
              "std       4.613841          9.523867   14270.169342  6.101210e+07\n",
              "min    2000.000000         36.300000       1.681350  3.400000e+01\n",
              "25%    2004.000000         63.100000     463.935626  1.957932e+05\n",
              "50%    2008.000000         72.100000    1766.947595  1.386542e+06\n",
              "75%    2012.000000         75.700000    5910.806335  7.420359e+06\n",
              "max    2015.000000         89.000000  119172.741800  1.293859e+09"
            ]
          },
          "metadata": {
            "tags": []
          },
          "execution_count": 138
        }
      ]
    },
    {
      "cell_type": "markdown",
      "metadata": {
        "id": "8b586260"
      },
      "source": [
        "# Selecting and Indexing"
      ],
      "id": "8b586260"
    },
    {
      "cell_type": "code",
      "metadata": {
        "id": "1b05d6ed",
        "outputId": "af05d1d1-c670-4bfb-e1d4-7668f91c579f"
      },
      "source": [
        "df.columns"
      ],
      "id": "1b05d6ed",
      "execution_count": null,
      "outputs": [
        {
          "output_type": "execute_result",
          "data": {
            "text/plain": [
              "Index(['Country', 'Year', 'Life expectancy ', 'GDP', 'Population'], dtype='object')"
            ]
          },
          "metadata": {
            "tags": []
          },
          "execution_count": 90
        }
      ]
    },
    {
      "cell_type": "markdown",
      "metadata": {
        "id": "8edf1c3e"
      },
      "source": [
        "### First 5 rows : `head` "
      ],
      "id": "8edf1c3e"
    },
    {
      "cell_type": "code",
      "metadata": {
        "id": "6ac714ea",
        "outputId": "dc2a23b5-bbf8-4be1-83df-ff2985eb9e02"
      },
      "source": [
        "df.head()"
      ],
      "id": "6ac714ea",
      "execution_count": null,
      "outputs": [
        {
          "output_type": "execute_result",
          "data": {
            "text/html": [
              "<div>\n",
              "<style scoped>\n",
              "    .dataframe tbody tr th:only-of-type {\n",
              "        vertical-align: middle;\n",
              "    }\n",
              "\n",
              "    .dataframe tbody tr th {\n",
              "        vertical-align: top;\n",
              "    }\n",
              "\n",
              "    .dataframe thead th {\n",
              "        text-align: right;\n",
              "    }\n",
              "</style>\n",
              "<table border=\"1\" class=\"dataframe\">\n",
              "  <thead>\n",
              "    <tr style=\"text-align: right;\">\n",
              "      <th></th>\n",
              "      <th>Country</th>\n",
              "      <th>Year</th>\n",
              "      <th>Life expectancy</th>\n",
              "      <th>GDP</th>\n",
              "      <th>Population</th>\n",
              "    </tr>\n",
              "  </thead>\n",
              "  <tbody>\n",
              "    <tr>\n",
              "      <th>0</th>\n",
              "      <td>Afghanistan</td>\n",
              "      <td>2015</td>\n",
              "      <td>65.0</td>\n",
              "      <td>584.259210</td>\n",
              "      <td>33736494.0</td>\n",
              "    </tr>\n",
              "    <tr>\n",
              "      <th>1</th>\n",
              "      <td>Afghanistan</td>\n",
              "      <td>2014</td>\n",
              "      <td>59.9</td>\n",
              "      <td>612.696514</td>\n",
              "      <td>327582.0</td>\n",
              "    </tr>\n",
              "    <tr>\n",
              "      <th>2</th>\n",
              "      <td>Afghanistan</td>\n",
              "      <td>2013</td>\n",
              "      <td>59.9</td>\n",
              "      <td>631.744976</td>\n",
              "      <td>31731688.0</td>\n",
              "    </tr>\n",
              "    <tr>\n",
              "      <th>3</th>\n",
              "      <td>Afghanistan</td>\n",
              "      <td>2012</td>\n",
              "      <td>59.5</td>\n",
              "      <td>669.959000</td>\n",
              "      <td>3696958.0</td>\n",
              "    </tr>\n",
              "    <tr>\n",
              "      <th>4</th>\n",
              "      <td>Afghanistan</td>\n",
              "      <td>2011</td>\n",
              "      <td>59.2</td>\n",
              "      <td>63.537231</td>\n",
              "      <td>2978599.0</td>\n",
              "    </tr>\n",
              "  </tbody>\n",
              "</table>\n",
              "</div>"
            ],
            "text/plain": [
              "       Country  Year  Life expectancy          GDP  Population\n",
              "0  Afghanistan  2015              65.0  584.259210  33736494.0\n",
              "1  Afghanistan  2014              59.9  612.696514    327582.0\n",
              "2  Afghanistan  2013              59.9  631.744976  31731688.0\n",
              "3  Afghanistan  2012              59.5  669.959000   3696958.0\n",
              "4  Afghanistan  2011              59.2   63.537231   2978599.0"
            ]
          },
          "metadata": {
            "tags": []
          },
          "execution_count": 93
        }
      ]
    },
    {
      "cell_type": "code",
      "metadata": {
        "id": "125495b1",
        "outputId": "6b568074-0f52-4798-ecf3-00aa69831064"
      },
      "source": [
        "df.head(2)"
      ],
      "id": "125495b1",
      "execution_count": null,
      "outputs": [
        {
          "output_type": "execute_result",
          "data": {
            "text/html": [
              "<div>\n",
              "<style scoped>\n",
              "    .dataframe tbody tr th:only-of-type {\n",
              "        vertical-align: middle;\n",
              "    }\n",
              "\n",
              "    .dataframe tbody tr th {\n",
              "        vertical-align: top;\n",
              "    }\n",
              "\n",
              "    .dataframe thead th {\n",
              "        text-align: right;\n",
              "    }\n",
              "</style>\n",
              "<table border=\"1\" class=\"dataframe\">\n",
              "  <thead>\n",
              "    <tr style=\"text-align: right;\">\n",
              "      <th></th>\n",
              "      <th>Country</th>\n",
              "      <th>Year</th>\n",
              "      <th>Life expectancy</th>\n",
              "      <th>GDP</th>\n",
              "      <th>Population</th>\n",
              "    </tr>\n",
              "  </thead>\n",
              "  <tbody>\n",
              "    <tr>\n",
              "      <th>0</th>\n",
              "      <td>Afghanistan</td>\n",
              "      <td>2015</td>\n",
              "      <td>65.0</td>\n",
              "      <td>584.259210</td>\n",
              "      <td>33736494.0</td>\n",
              "    </tr>\n",
              "    <tr>\n",
              "      <th>1</th>\n",
              "      <td>Afghanistan</td>\n",
              "      <td>2014</td>\n",
              "      <td>59.9</td>\n",
              "      <td>612.696514</td>\n",
              "      <td>327582.0</td>\n",
              "    </tr>\n",
              "  </tbody>\n",
              "</table>\n",
              "</div>"
            ],
            "text/plain": [
              "       Country  Year  Life expectancy          GDP  Population\n",
              "0  Afghanistan  2015              65.0  584.259210  33736494.0\n",
              "1  Afghanistan  2014              59.9  612.696514    327582.0"
            ]
          },
          "metadata": {
            "tags": []
          },
          "execution_count": 99
        }
      ]
    },
    {
      "cell_type": "markdown",
      "metadata": {
        "id": "33d040e7"
      },
      "source": [
        "### Last 5 rows: `tail`"
      ],
      "id": "33d040e7"
    },
    {
      "cell_type": "code",
      "metadata": {
        "id": "b1d03373",
        "outputId": "35184116-787a-4457-9f66-5a64274092a1"
      },
      "source": [
        "df.tail()"
      ],
      "id": "b1d03373",
      "execution_count": null,
      "outputs": [
        {
          "output_type": "execute_result",
          "data": {
            "text/html": [
              "<div>\n",
              "<style scoped>\n",
              "    .dataframe tbody tr th:only-of-type {\n",
              "        vertical-align: middle;\n",
              "    }\n",
              "\n",
              "    .dataframe tbody tr th {\n",
              "        vertical-align: top;\n",
              "    }\n",
              "\n",
              "    .dataframe thead th {\n",
              "        text-align: right;\n",
              "    }\n",
              "</style>\n",
              "<table border=\"1\" class=\"dataframe\">\n",
              "  <thead>\n",
              "    <tr style=\"text-align: right;\">\n",
              "      <th></th>\n",
              "      <th>Country</th>\n",
              "      <th>Year</th>\n",
              "      <th>Life expectancy</th>\n",
              "      <th>GDP</th>\n",
              "      <th>Population</th>\n",
              "    </tr>\n",
              "  </thead>\n",
              "  <tbody>\n",
              "    <tr>\n",
              "      <th>2933</th>\n",
              "      <td>Zimbabwe</td>\n",
              "      <td>2004</td>\n",
              "      <td>44.3</td>\n",
              "      <td>454.366654</td>\n",
              "      <td>12777511.0</td>\n",
              "    </tr>\n",
              "    <tr>\n",
              "      <th>2934</th>\n",
              "      <td>Zimbabwe</td>\n",
              "      <td>2003</td>\n",
              "      <td>44.5</td>\n",
              "      <td>453.351155</td>\n",
              "      <td>12633897.0</td>\n",
              "    </tr>\n",
              "    <tr>\n",
              "      <th>2935</th>\n",
              "      <td>Zimbabwe</td>\n",
              "      <td>2002</td>\n",
              "      <td>44.8</td>\n",
              "      <td>57.348340</td>\n",
              "      <td>125525.0</td>\n",
              "    </tr>\n",
              "    <tr>\n",
              "      <th>2936</th>\n",
              "      <td>Zimbabwe</td>\n",
              "      <td>2001</td>\n",
              "      <td>45.3</td>\n",
              "      <td>548.587312</td>\n",
              "      <td>12366165.0</td>\n",
              "    </tr>\n",
              "    <tr>\n",
              "      <th>2937</th>\n",
              "      <td>Zimbabwe</td>\n",
              "      <td>2000</td>\n",
              "      <td>46.0</td>\n",
              "      <td>547.358878</td>\n",
              "      <td>12222251.0</td>\n",
              "    </tr>\n",
              "  </tbody>\n",
              "</table>\n",
              "</div>"
            ],
            "text/plain": [
              "       Country  Year  Life expectancy          GDP  Population\n",
              "2933  Zimbabwe  2004              44.3  454.366654  12777511.0\n",
              "2934  Zimbabwe  2003              44.5  453.351155  12633897.0\n",
              "2935  Zimbabwe  2002              44.8   57.348340    125525.0\n",
              "2936  Zimbabwe  2001              45.3  548.587312  12366165.0\n",
              "2937  Zimbabwe  2000              46.0  547.358878  12222251.0"
            ]
          },
          "metadata": {
            "tags": []
          },
          "execution_count": 96
        }
      ]
    },
    {
      "cell_type": "code",
      "metadata": {
        "id": "4a69fe3c",
        "outputId": "0c1178a3-05aa-462e-af67-34362c07b4c4"
      },
      "source": [
        "df.tail(3)"
      ],
      "id": "4a69fe3c",
      "execution_count": null,
      "outputs": [
        {
          "output_type": "execute_result",
          "data": {
            "text/html": [
              "<div>\n",
              "<style scoped>\n",
              "    .dataframe tbody tr th:only-of-type {\n",
              "        vertical-align: middle;\n",
              "    }\n",
              "\n",
              "    .dataframe tbody tr th {\n",
              "        vertical-align: top;\n",
              "    }\n",
              "\n",
              "    .dataframe thead th {\n",
              "        text-align: right;\n",
              "    }\n",
              "</style>\n",
              "<table border=\"1\" class=\"dataframe\">\n",
              "  <thead>\n",
              "    <tr style=\"text-align: right;\">\n",
              "      <th></th>\n",
              "      <th>Country</th>\n",
              "      <th>Year</th>\n",
              "      <th>Life expectancy</th>\n",
              "      <th>GDP</th>\n",
              "      <th>Population</th>\n",
              "    </tr>\n",
              "  </thead>\n",
              "  <tbody>\n",
              "    <tr>\n",
              "      <th>2935</th>\n",
              "      <td>Zimbabwe</td>\n",
              "      <td>2002</td>\n",
              "      <td>44.8</td>\n",
              "      <td>57.348340</td>\n",
              "      <td>125525.0</td>\n",
              "    </tr>\n",
              "    <tr>\n",
              "      <th>2936</th>\n",
              "      <td>Zimbabwe</td>\n",
              "      <td>2001</td>\n",
              "      <td>45.3</td>\n",
              "      <td>548.587312</td>\n",
              "      <td>12366165.0</td>\n",
              "    </tr>\n",
              "    <tr>\n",
              "      <th>2937</th>\n",
              "      <td>Zimbabwe</td>\n",
              "      <td>2000</td>\n",
              "      <td>46.0</td>\n",
              "      <td>547.358878</td>\n",
              "      <td>12222251.0</td>\n",
              "    </tr>\n",
              "  </tbody>\n",
              "</table>\n",
              "</div>"
            ],
            "text/plain": [
              "       Country  Year  Life expectancy          GDP  Population\n",
              "2935  Zimbabwe  2002              44.8   57.348340    125525.0\n",
              "2936  Zimbabwe  2001              45.3  548.587312  12366165.0\n",
              "2937  Zimbabwe  2000              46.0  547.358878  12222251.0"
            ]
          },
          "metadata": {
            "tags": []
          },
          "execution_count": 100
        }
      ]
    },
    {
      "cell_type": "markdown",
      "metadata": {
        "id": "8403b43a"
      },
      "source": [
        "### Ranging data index"
      ],
      "id": "8403b43a"
    },
    {
      "cell_type": "code",
      "metadata": {
        "id": "d2ccc464",
        "outputId": "cde3a93a-b791-4824-fa2a-7a225bde387d"
      },
      "source": [
        "df[25: 31]"
      ],
      "id": "d2ccc464",
      "execution_count": null,
      "outputs": [
        {
          "output_type": "execute_result",
          "data": {
            "text/html": [
              "<div>\n",
              "<style scoped>\n",
              "    .dataframe tbody tr th:only-of-type {\n",
              "        vertical-align: middle;\n",
              "    }\n",
              "\n",
              "    .dataframe tbody tr th {\n",
              "        vertical-align: top;\n",
              "    }\n",
              "\n",
              "    .dataframe thead th {\n",
              "        text-align: right;\n",
              "    }\n",
              "</style>\n",
              "<table border=\"1\" class=\"dataframe\">\n",
              "  <thead>\n",
              "    <tr style=\"text-align: right;\">\n",
              "      <th></th>\n",
              "      <th>Country</th>\n",
              "      <th>Year</th>\n",
              "      <th>Life expectancy</th>\n",
              "      <th>GDP</th>\n",
              "      <th>Population</th>\n",
              "    </tr>\n",
              "  </thead>\n",
              "  <tbody>\n",
              "    <tr>\n",
              "      <th>25</th>\n",
              "      <td>Albania</td>\n",
              "      <td>2006</td>\n",
              "      <td>74.2</td>\n",
              "      <td>35.129300</td>\n",
              "      <td>2992547.0</td>\n",
              "    </tr>\n",
              "    <tr>\n",
              "      <th>26</th>\n",
              "      <td>Albania</td>\n",
              "      <td>2005</td>\n",
              "      <td>73.5</td>\n",
              "      <td>279.142931</td>\n",
              "      <td>311487.0</td>\n",
              "    </tr>\n",
              "    <tr>\n",
              "      <th>27</th>\n",
              "      <td>Albania</td>\n",
              "      <td>2004</td>\n",
              "      <td>73.0</td>\n",
              "      <td>2416.588235</td>\n",
              "      <td>326939.0</td>\n",
              "    </tr>\n",
              "    <tr>\n",
              "      <th>28</th>\n",
              "      <td>Albania</td>\n",
              "      <td>2003</td>\n",
              "      <td>72.8</td>\n",
              "      <td>189.681557</td>\n",
              "      <td>339616.0</td>\n",
              "    </tr>\n",
              "    <tr>\n",
              "      <th>29</th>\n",
              "      <td>Albania</td>\n",
              "      <td>2002</td>\n",
              "      <td>73.3</td>\n",
              "      <td>1453.642777</td>\n",
              "      <td>3511.0</td>\n",
              "    </tr>\n",
              "    <tr>\n",
              "      <th>30</th>\n",
              "      <td>Albania</td>\n",
              "      <td>2001</td>\n",
              "      <td>73.6</td>\n",
              "      <td>1326.973390</td>\n",
              "      <td>36173.0</td>\n",
              "    </tr>\n",
              "  </tbody>\n",
              "</table>\n",
              "</div>"
            ],
            "text/plain": [
              "    Country  Year  Life expectancy           GDP  Population\n",
              "25  Albania  2006              74.2    35.129300   2992547.0\n",
              "26  Albania  2005              73.5   279.142931    311487.0\n",
              "27  Albania  2004              73.0  2416.588235    326939.0\n",
              "28  Albania  2003              72.8   189.681557    339616.0\n",
              "29  Albania  2002              73.3  1453.642777      3511.0\n",
              "30  Albania  2001              73.6  1326.973390     36173.0"
            ]
          },
          "metadata": {
            "tags": []
          },
          "execution_count": 101
        }
      ]
    },
    {
      "cell_type": "markdown",
      "metadata": {
        "id": "cc371ca0"
      },
      "source": [
        "### random value :  `sample`"
      ],
      "id": "cc371ca0"
    },
    {
      "cell_type": "code",
      "metadata": {
        "id": "d510fa73",
        "outputId": "2a2b38bd-4992-40c9-b57c-d5ef12e15353"
      },
      "source": [
        "df.sample()"
      ],
      "id": "d510fa73",
      "execution_count": null,
      "outputs": [
        {
          "output_type": "execute_result",
          "data": {
            "text/html": [
              "<div>\n",
              "<style scoped>\n",
              "    .dataframe tbody tr th:only-of-type {\n",
              "        vertical-align: middle;\n",
              "    }\n",
              "\n",
              "    .dataframe tbody tr th {\n",
              "        vertical-align: top;\n",
              "    }\n",
              "\n",
              "    .dataframe thead th {\n",
              "        text-align: right;\n",
              "    }\n",
              "</style>\n",
              "<table border=\"1\" class=\"dataframe\">\n",
              "  <thead>\n",
              "    <tr style=\"text-align: right;\">\n",
              "      <th></th>\n",
              "      <th>Country</th>\n",
              "      <th>Year</th>\n",
              "      <th>Life expectancy</th>\n",
              "      <th>GDP</th>\n",
              "      <th>Population</th>\n",
              "    </tr>\n",
              "  </thead>\n",
              "  <tbody>\n",
              "    <tr>\n",
              "      <th>2667</th>\n",
              "      <td>Tunisia</td>\n",
              "      <td>2013</td>\n",
              "      <td>74.9</td>\n",
              "      <td>4199.47253</td>\n",
              "      <td>1114558.0</td>\n",
              "    </tr>\n",
              "  </tbody>\n",
              "</table>\n",
              "</div>"
            ],
            "text/plain": [
              "      Country  Year  Life expectancy          GDP  Population\n",
              "2667  Tunisia  2013              74.9  4199.47253   1114558.0"
            ]
          },
          "metadata": {
            "tags": []
          },
          "execution_count": 103
        }
      ]
    },
    {
      "cell_type": "code",
      "metadata": {
        "id": "183bcb6d",
        "outputId": "e3cfc34a-d64c-4ca9-f1bf-e604a1bf89ab"
      },
      "source": [
        "df.sample(8)"
      ],
      "id": "183bcb6d",
      "execution_count": null,
      "outputs": [
        {
          "output_type": "execute_result",
          "data": {
            "text/html": [
              "<div>\n",
              "<style scoped>\n",
              "    .dataframe tbody tr th:only-of-type {\n",
              "        vertical-align: middle;\n",
              "    }\n",
              "\n",
              "    .dataframe tbody tr th {\n",
              "        vertical-align: top;\n",
              "    }\n",
              "\n",
              "    .dataframe thead th {\n",
              "        text-align: right;\n",
              "    }\n",
              "</style>\n",
              "<table border=\"1\" class=\"dataframe\">\n",
              "  <thead>\n",
              "    <tr style=\"text-align: right;\">\n",
              "      <th></th>\n",
              "      <th>Country</th>\n",
              "      <th>Year</th>\n",
              "      <th>Life expectancy</th>\n",
              "      <th>GDP</th>\n",
              "      <th>Population</th>\n",
              "    </tr>\n",
              "  </thead>\n",
              "  <tbody>\n",
              "    <tr>\n",
              "      <th>1208</th>\n",
              "      <td>Indonesia</td>\n",
              "      <td>2009</td>\n",
              "      <td>67.9</td>\n",
              "      <td>2254.445660</td>\n",
              "      <td>23934478.0</td>\n",
              "    </tr>\n",
              "    <tr>\n",
              "      <th>2933</th>\n",
              "      <td>Zimbabwe</td>\n",
              "      <td>2004</td>\n",
              "      <td>44.3</td>\n",
              "      <td>454.366654</td>\n",
              "      <td>12777511.0</td>\n",
              "    </tr>\n",
              "    <tr>\n",
              "      <th>1371</th>\n",
              "      <td>Kenya</td>\n",
              "      <td>2006</td>\n",
              "      <td>55.3</td>\n",
              "      <td>697.663850</td>\n",
              "      <td>37525.0</td>\n",
              "    </tr>\n",
              "    <tr>\n",
              "      <th>482</th>\n",
              "      <td>Cameroon</td>\n",
              "      <td>2013</td>\n",
              "      <td>56.4</td>\n",
              "      <td>1365.344190</td>\n",
              "      <td>21655715.0</td>\n",
              "    </tr>\n",
              "    <tr>\n",
              "      <th>1468</th>\n",
              "      <td>Lebanon</td>\n",
              "      <td>2005</td>\n",
              "      <td>73.9</td>\n",
              "      <td>5339.441291</td>\n",
              "      <td>3986852.0</td>\n",
              "    </tr>\n",
              "    <tr>\n",
              "      <th>17</th>\n",
              "      <td>Albania</td>\n",
              "      <td>2014</td>\n",
              "      <td>77.5</td>\n",
              "      <td>4575.763787</td>\n",
              "      <td>288914.0</td>\n",
              "    </tr>\n",
              "    <tr>\n",
              "      <th>2280</th>\n",
              "      <td>Serbia</td>\n",
              "      <td>2000</td>\n",
              "      <td>72.6</td>\n",
              "      <td>87.136525</td>\n",
              "      <td>7516346.0</td>\n",
              "    </tr>\n",
              "    <tr>\n",
              "      <th>59</th>\n",
              "      <td>Angola</td>\n",
              "      <td>2004</td>\n",
              "      <td>47.1</td>\n",
              "      <td>141.868440</td>\n",
              "      <td>18865716.0</td>\n",
              "    </tr>\n",
              "  </tbody>\n",
              "</table>\n",
              "</div>"
            ],
            "text/plain": [
              "        Country  Year  Life expectancy           GDP  Population\n",
              "1208  Indonesia  2009              67.9  2254.445660  23934478.0\n",
              "2933   Zimbabwe  2004              44.3   454.366654  12777511.0\n",
              "1371      Kenya  2006              55.3   697.663850     37525.0\n",
              "482    Cameroon  2013              56.4  1365.344190  21655715.0\n",
              "1468    Lebanon  2005              73.9  5339.441291   3986852.0\n",
              "17      Albania  2014              77.5  4575.763787    288914.0\n",
              "2280     Serbia  2000              72.6    87.136525   7516346.0\n",
              "59       Angola  2004              47.1   141.868440  18865716.0"
            ]
          },
          "metadata": {
            "tags": []
          },
          "execution_count": 104
        }
      ]
    },
    {
      "cell_type": "markdown",
      "metadata": {
        "id": "9b21af4b"
      },
      "source": [
        "### Selecting Columns"
      ],
      "id": "9b21af4b"
    },
    {
      "cell_type": "code",
      "metadata": {
        "id": "c653cd72",
        "outputId": "10a41380-36a9-49c6-f414-f94ad38325fe"
      },
      "source": [
        "df[['GDP','Population']].head(3)"
      ],
      "id": "c653cd72",
      "execution_count": null,
      "outputs": [
        {
          "output_type": "execute_result",
          "data": {
            "text/html": [
              "<div>\n",
              "<style scoped>\n",
              "    .dataframe tbody tr th:only-of-type {\n",
              "        vertical-align: middle;\n",
              "    }\n",
              "\n",
              "    .dataframe tbody tr th {\n",
              "        vertical-align: top;\n",
              "    }\n",
              "\n",
              "    .dataframe thead th {\n",
              "        text-align: right;\n",
              "    }\n",
              "</style>\n",
              "<table border=\"1\" class=\"dataframe\">\n",
              "  <thead>\n",
              "    <tr style=\"text-align: right;\">\n",
              "      <th></th>\n",
              "      <th>GDP</th>\n",
              "      <th>Population</th>\n",
              "    </tr>\n",
              "  </thead>\n",
              "  <tbody>\n",
              "    <tr>\n",
              "      <th>0</th>\n",
              "      <td>584.259210</td>\n",
              "      <td>33736494.0</td>\n",
              "    </tr>\n",
              "    <tr>\n",
              "      <th>1</th>\n",
              "      <td>612.696514</td>\n",
              "      <td>327582.0</td>\n",
              "    </tr>\n",
              "    <tr>\n",
              "      <th>2</th>\n",
              "      <td>631.744976</td>\n",
              "      <td>31731688.0</td>\n",
              "    </tr>\n",
              "  </tbody>\n",
              "</table>\n",
              "</div>"
            ],
            "text/plain": [
              "          GDP  Population\n",
              "0  584.259210  33736494.0\n",
              "1  612.696514    327582.0\n",
              "2  631.744976  31731688.0"
            ]
          },
          "metadata": {
            "tags": []
          },
          "execution_count": 107
        }
      ]
    },
    {
      "cell_type": "markdown",
      "metadata": {
        "id": "52af1865"
      },
      "source": [
        "### Series as data frame columns"
      ],
      "id": "52af1865"
    },
    {
      "cell_type": "code",
      "metadata": {
        "id": "159230f2",
        "outputId": "6ec67ab8-b9e2-4d3e-ec39-6461898e334e"
      },
      "source": [
        "df['GDP'][:10]"
      ],
      "id": "159230f2",
      "execution_count": null,
      "outputs": [
        {
          "output_type": "execute_result",
          "data": {
            "text/plain": [
              "0    584.259210\n",
              "1    612.696514\n",
              "2    631.744976\n",
              "3    669.959000\n",
              "4     63.537231\n",
              "5    553.328940\n",
              "6    445.893298\n",
              "7    373.361116\n",
              "8    369.835796\n",
              "9    272.563770\n",
              "Name: GDP, dtype: float64"
            ]
          },
          "metadata": {
            "tags": []
          },
          "execution_count": 109
        }
      ]
    },
    {
      "cell_type": "code",
      "metadata": {
        "id": "21e19f11",
        "outputId": "32620738-52ed-431a-b2ca-b67e6567ec92"
      },
      "source": [
        "df.GDP.sample()"
      ],
      "id": "21e19f11",
      "execution_count": null,
      "outputs": [
        {
          "output_type": "execute_result",
          "data": {
            "text/plain": [
              "1208    2254.44566\n",
              "Name: GDP, dtype: float64"
            ]
          },
          "metadata": {
            "tags": []
          },
          "execution_count": 111
        }
      ]
    },
    {
      "cell_type": "markdown",
      "metadata": {
        "id": "53e98b86"
      },
      "source": [
        "### Creating new column in df"
      ],
      "id": "53e98b86"
    },
    {
      "cell_type": "code",
      "metadata": {
        "id": "958ade52"
      },
      "source": [
        "df['new_col'] = df['GDP'] * df['Population']"
      ],
      "id": "958ade52",
      "execution_count": null,
      "outputs": []
    },
    {
      "cell_type": "code",
      "metadata": {
        "id": "051e2eb7",
        "outputId": "9ab93174-7f0a-450d-b7e0-261bc2c8c911"
      },
      "source": [
        "df.head()"
      ],
      "id": "051e2eb7",
      "execution_count": null,
      "outputs": [
        {
          "output_type": "execute_result",
          "data": {
            "text/html": [
              "<div>\n",
              "<style scoped>\n",
              "    .dataframe tbody tr th:only-of-type {\n",
              "        vertical-align: middle;\n",
              "    }\n",
              "\n",
              "    .dataframe tbody tr th {\n",
              "        vertical-align: top;\n",
              "    }\n",
              "\n",
              "    .dataframe thead th {\n",
              "        text-align: right;\n",
              "    }\n",
              "</style>\n",
              "<table border=\"1\" class=\"dataframe\">\n",
              "  <thead>\n",
              "    <tr style=\"text-align: right;\">\n",
              "      <th></th>\n",
              "      <th>Country</th>\n",
              "      <th>Year</th>\n",
              "      <th>Life expectancy</th>\n",
              "      <th>GDP</th>\n",
              "      <th>Population</th>\n",
              "      <th>new_col</th>\n",
              "    </tr>\n",
              "  </thead>\n",
              "  <tbody>\n",
              "    <tr>\n",
              "      <th>0</th>\n",
              "      <td>Afghanistan</td>\n",
              "      <td>2015</td>\n",
              "      <td>65.0</td>\n",
              "      <td>584.259210</td>\n",
              "      <td>33736494.0</td>\n",
              "      <td>1.971086e+10</td>\n",
              "    </tr>\n",
              "    <tr>\n",
              "      <th>1</th>\n",
              "      <td>Afghanistan</td>\n",
              "      <td>2014</td>\n",
              "      <td>59.9</td>\n",
              "      <td>612.696514</td>\n",
              "      <td>327582.0</td>\n",
              "      <td>2.007083e+08</td>\n",
              "    </tr>\n",
              "    <tr>\n",
              "      <th>2</th>\n",
              "      <td>Afghanistan</td>\n",
              "      <td>2013</td>\n",
              "      <td>59.9</td>\n",
              "      <td>631.744976</td>\n",
              "      <td>31731688.0</td>\n",
              "      <td>2.004633e+10</td>\n",
              "    </tr>\n",
              "    <tr>\n",
              "      <th>3</th>\n",
              "      <td>Afghanistan</td>\n",
              "      <td>2012</td>\n",
              "      <td>59.5</td>\n",
              "      <td>669.959000</td>\n",
              "      <td>3696958.0</td>\n",
              "      <td>2.476810e+09</td>\n",
              "    </tr>\n",
              "    <tr>\n",
              "      <th>4</th>\n",
              "      <td>Afghanistan</td>\n",
              "      <td>2011</td>\n",
              "      <td>59.2</td>\n",
              "      <td>63.537231</td>\n",
              "      <td>2978599.0</td>\n",
              "      <td>1.892519e+08</td>\n",
              "    </tr>\n",
              "  </tbody>\n",
              "</table>\n",
              "</div>"
            ],
            "text/plain": [
              "       Country  Year  Life expectancy          GDP  Population       new_col\n",
              "0  Afghanistan  2015              65.0  584.259210  33736494.0  1.971086e+10\n",
              "1  Afghanistan  2014              59.9  612.696514    327582.0  2.007083e+08\n",
              "2  Afghanistan  2013              59.9  631.744976  31731688.0  2.004633e+10\n",
              "3  Afghanistan  2012              59.5  669.959000   3696958.0  2.476810e+09\n",
              "4  Afghanistan  2011              59.2   63.537231   2978599.0  1.892519e+08"
            ]
          },
          "metadata": {
            "tags": []
          },
          "execution_count": 114
        }
      ]
    },
    {
      "cell_type": "code",
      "metadata": {
        "id": "c04fe424"
      },
      "source": [
        "del df['new_col']"
      ],
      "id": "c04fe424",
      "execution_count": null,
      "outputs": []
    },
    {
      "cell_type": "code",
      "metadata": {
        "id": "4f16c98f",
        "outputId": "11475cc4-2f87-4093-cee4-58e9e1d28461"
      },
      "source": [
        "df.head()"
      ],
      "id": "4f16c98f",
      "execution_count": null,
      "outputs": [
        {
          "output_type": "execute_result",
          "data": {
            "text/html": [
              "<div>\n",
              "<style scoped>\n",
              "    .dataframe tbody tr th:only-of-type {\n",
              "        vertical-align: middle;\n",
              "    }\n",
              "\n",
              "    .dataframe tbody tr th {\n",
              "        vertical-align: top;\n",
              "    }\n",
              "\n",
              "    .dataframe thead th {\n",
              "        text-align: right;\n",
              "    }\n",
              "</style>\n",
              "<table border=\"1\" class=\"dataframe\">\n",
              "  <thead>\n",
              "    <tr style=\"text-align: right;\">\n",
              "      <th></th>\n",
              "      <th>Country</th>\n",
              "      <th>Year</th>\n",
              "      <th>Life expectancy</th>\n",
              "      <th>GDP</th>\n",
              "      <th>Population</th>\n",
              "    </tr>\n",
              "  </thead>\n",
              "  <tbody>\n",
              "    <tr>\n",
              "      <th>0</th>\n",
              "      <td>Afghanistan</td>\n",
              "      <td>2015</td>\n",
              "      <td>65.0</td>\n",
              "      <td>584.259210</td>\n",
              "      <td>33736494.0</td>\n",
              "    </tr>\n",
              "    <tr>\n",
              "      <th>1</th>\n",
              "      <td>Afghanistan</td>\n",
              "      <td>2014</td>\n",
              "      <td>59.9</td>\n",
              "      <td>612.696514</td>\n",
              "      <td>327582.0</td>\n",
              "    </tr>\n",
              "    <tr>\n",
              "      <th>2</th>\n",
              "      <td>Afghanistan</td>\n",
              "      <td>2013</td>\n",
              "      <td>59.9</td>\n",
              "      <td>631.744976</td>\n",
              "      <td>31731688.0</td>\n",
              "    </tr>\n",
              "    <tr>\n",
              "      <th>3</th>\n",
              "      <td>Afghanistan</td>\n",
              "      <td>2012</td>\n",
              "      <td>59.5</td>\n",
              "      <td>669.959000</td>\n",
              "      <td>3696958.0</td>\n",
              "    </tr>\n",
              "    <tr>\n",
              "      <th>4</th>\n",
              "      <td>Afghanistan</td>\n",
              "      <td>2011</td>\n",
              "      <td>59.2</td>\n",
              "      <td>63.537231</td>\n",
              "      <td>2978599.0</td>\n",
              "    </tr>\n",
              "  </tbody>\n",
              "</table>\n",
              "</div>"
            ],
            "text/plain": [
              "       Country  Year  Life expectancy          GDP  Population\n",
              "0  Afghanistan  2015              65.0  584.259210  33736494.0\n",
              "1  Afghanistan  2014              59.9  612.696514    327582.0\n",
              "2  Afghanistan  2013              59.9  631.744976  31731688.0\n",
              "3  Afghanistan  2012              59.5  669.959000   3696958.0\n",
              "4  Afghanistan  2011              59.2   63.537231   2978599.0"
            ]
          },
          "metadata": {
            "tags": []
          },
          "execution_count": 116
        }
      ]
    },
    {
      "cell_type": "markdown",
      "metadata": {
        "id": "8d892ec9"
      },
      "source": [
        "### Selecting Rows"
      ],
      "id": "8d892ec9"
    },
    {
      "cell_type": "markdown",
      "metadata": {
        "id": "34b61918"
      },
      "source": [
        "`loc`"
      ],
      "id": "34b61918"
    },
    {
      "cell_type": "code",
      "metadata": {
        "id": "25be032a",
        "outputId": "35c84f13-8c4a-4f9a-b244-664343f57bb6"
      },
      "source": [
        "df.index.values"
      ],
      "id": "25be032a",
      "execution_count": null,
      "outputs": [
        {
          "output_type": "execute_result",
          "data": {
            "text/plain": [
              "array([   0,    1,    2, ..., 2935, 2936, 2937])"
            ]
          },
          "metadata": {
            "tags": []
          },
          "execution_count": 117
        }
      ]
    },
    {
      "cell_type": "code",
      "metadata": {
        "id": "5412b11e",
        "outputId": "1eb2db3e-9b3f-454b-c651-21a1ef705afc"
      },
      "source": [
        "df.loc[287]"
      ],
      "id": "5412b11e",
      "execution_count": null,
      "outputs": [
        {
          "output_type": "execute_result",
          "data": {
            "text/plain": [
              "Country                  Benin\n",
              "Year                      2000\n",
              "Life expectancy           55.4\n",
              "GDP                 374.192394\n",
              "Population           6865951.0\n",
              "Name: 287, dtype: object"
            ]
          },
          "metadata": {
            "tags": []
          },
          "execution_count": 118
        }
      ]
    },
    {
      "cell_type": "code",
      "metadata": {
        "id": "361e2120",
        "outputId": "63390eca-f5c5-4ec2-f1f4-b7d87dd81733"
      },
      "source": [
        "# if you want in 2d form \n",
        "df.loc[[287]]"
      ],
      "id": "361e2120",
      "execution_count": null,
      "outputs": [
        {
          "output_type": "execute_result",
          "data": {
            "text/html": [
              "<div>\n",
              "<style scoped>\n",
              "    .dataframe tbody tr th:only-of-type {\n",
              "        vertical-align: middle;\n",
              "    }\n",
              "\n",
              "    .dataframe tbody tr th {\n",
              "        vertical-align: top;\n",
              "    }\n",
              "\n",
              "    .dataframe thead th {\n",
              "        text-align: right;\n",
              "    }\n",
              "</style>\n",
              "<table border=\"1\" class=\"dataframe\">\n",
              "  <thead>\n",
              "    <tr style=\"text-align: right;\">\n",
              "      <th></th>\n",
              "      <th>Country</th>\n",
              "      <th>Year</th>\n",
              "      <th>Life expectancy</th>\n",
              "      <th>GDP</th>\n",
              "      <th>Population</th>\n",
              "    </tr>\n",
              "  </thead>\n",
              "  <tbody>\n",
              "    <tr>\n",
              "      <th>287</th>\n",
              "      <td>Benin</td>\n",
              "      <td>2000</td>\n",
              "      <td>55.4</td>\n",
              "      <td>374.192394</td>\n",
              "      <td>6865951.0</td>\n",
              "    </tr>\n",
              "  </tbody>\n",
              "</table>\n",
              "</div>"
            ],
            "text/plain": [
              "    Country  Year  Life expectancy          GDP  Population\n",
              "287   Benin  2000              55.4  374.192394   6865951.0"
            ]
          },
          "metadata": {
            "tags": []
          },
          "execution_count": 119
        }
      ]
    },
    {
      "cell_type": "markdown",
      "metadata": {
        "id": "46f98f47"
      },
      "source": [
        "`iloc`"
      ],
      "id": "46f98f47"
    },
    {
      "cell_type": "code",
      "metadata": {
        "id": "a9635e53",
        "outputId": "6e08586b-75b0-4f70-e9e3-ec6e3112629d"
      },
      "source": [
        "df.iloc[287]"
      ],
      "id": "a9635e53",
      "execution_count": null,
      "outputs": [
        {
          "output_type": "execute_result",
          "data": {
            "text/plain": [
              "Country                  Benin\n",
              "Year                      2000\n",
              "Life expectancy           55.4\n",
              "GDP                 374.192394\n",
              "Population           6865951.0\n",
              "Name: 287, dtype: object"
            ]
          },
          "metadata": {
            "tags": []
          },
          "execution_count": 120
        }
      ]
    },
    {
      "cell_type": "code",
      "metadata": {
        "id": "5d473fd8",
        "outputId": "60fbab63-8d58-4503-9d35-95accf86f46a"
      },
      "source": [
        "df.iloc[[287]]"
      ],
      "id": "5d473fd8",
      "execution_count": null,
      "outputs": [
        {
          "output_type": "execute_result",
          "data": {
            "text/html": [
              "<div>\n",
              "<style scoped>\n",
              "    .dataframe tbody tr th:only-of-type {\n",
              "        vertical-align: middle;\n",
              "    }\n",
              "\n",
              "    .dataframe tbody tr th {\n",
              "        vertical-align: top;\n",
              "    }\n",
              "\n",
              "    .dataframe thead th {\n",
              "        text-align: right;\n",
              "    }\n",
              "</style>\n",
              "<table border=\"1\" class=\"dataframe\">\n",
              "  <thead>\n",
              "    <tr style=\"text-align: right;\">\n",
              "      <th></th>\n",
              "      <th>Country</th>\n",
              "      <th>Year</th>\n",
              "      <th>Life expectancy</th>\n",
              "      <th>GDP</th>\n",
              "      <th>Population</th>\n",
              "    </tr>\n",
              "  </thead>\n",
              "  <tbody>\n",
              "    <tr>\n",
              "      <th>287</th>\n",
              "      <td>Benin</td>\n",
              "      <td>2000</td>\n",
              "      <td>55.4</td>\n",
              "      <td>374.192394</td>\n",
              "      <td>6865951.0</td>\n",
              "    </tr>\n",
              "  </tbody>\n",
              "</table>\n",
              "</div>"
            ],
            "text/plain": [
              "    Country  Year  Life expectancy          GDP  Population\n",
              "287   Benin  2000              55.4  374.192394   6865951.0"
            ]
          },
          "metadata": {
            "tags": []
          },
          "execution_count": 121
        }
      ]
    },
    {
      "cell_type": "code",
      "metadata": {
        "id": "27682465",
        "outputId": "8639dfa3-fb9d-4f3a-c021-cfe24519c7b8"
      },
      "source": [
        "df1"
      ],
      "id": "27682465",
      "execution_count": null,
      "outputs": [
        {
          "output_type": "execute_result",
          "data": {
            "text/html": [
              "<div>\n",
              "<style scoped>\n",
              "    .dataframe tbody tr th:only-of-type {\n",
              "        vertical-align: middle;\n",
              "    }\n",
              "\n",
              "    .dataframe tbody tr th {\n",
              "        vertical-align: top;\n",
              "    }\n",
              "\n",
              "    .dataframe thead th {\n",
              "        text-align: right;\n",
              "    }\n",
              "</style>\n",
              "<table border=\"1\" class=\"dataframe\">\n",
              "  <thead>\n",
              "    <tr style=\"text-align: right;\">\n",
              "      <th></th>\n",
              "      <th>w</th>\n",
              "      <th>x</th>\n",
              "      <th>y</th>\n",
              "      <th>z</th>\n",
              "    </tr>\n",
              "  </thead>\n",
              "  <tbody>\n",
              "    <tr>\n",
              "      <th>A</th>\n",
              "      <td>0.040653</td>\n",
              "      <td>0.129842</td>\n",
              "      <td>-0.601770</td>\n",
              "      <td>-0.606664</td>\n",
              "    </tr>\n",
              "    <tr>\n",
              "      <th>B</th>\n",
              "      <td>0.262595</td>\n",
              "      <td>-0.152140</td>\n",
              "      <td>-0.283796</td>\n",
              "      <td>-1.239393</td>\n",
              "    </tr>\n",
              "    <tr>\n",
              "      <th>C</th>\n",
              "      <td>0.653475</td>\n",
              "      <td>0.328819</td>\n",
              "      <td>-0.113489</td>\n",
              "      <td>-0.341411</td>\n",
              "    </tr>\n",
              "    <tr>\n",
              "      <th>D</th>\n",
              "      <td>-1.007972</td>\n",
              "      <td>0.399544</td>\n",
              "      <td>0.146413</td>\n",
              "      <td>-0.954584</td>\n",
              "    </tr>\n",
              "    <tr>\n",
              "      <th>E</th>\n",
              "      <td>-0.333404</td>\n",
              "      <td>-1.024035</td>\n",
              "      <td>1.946649</td>\n",
              "      <td>0.405700</td>\n",
              "    </tr>\n",
              "  </tbody>\n",
              "</table>\n",
              "</div>"
            ],
            "text/plain": [
              "          w         x         y         z\n",
              "A  0.040653  0.129842 -0.601770 -0.606664\n",
              "B  0.262595 -0.152140 -0.283796 -1.239393\n",
              "C  0.653475  0.328819 -0.113489 -0.341411\n",
              "D -1.007972  0.399544  0.146413 -0.954584\n",
              "E -0.333404 -1.024035  1.946649  0.405700"
            ]
          },
          "metadata": {
            "tags": []
          },
          "execution_count": 124
        }
      ]
    },
    {
      "cell_type": "code",
      "metadata": {
        "id": "9e3307a1",
        "outputId": "cfbb50d5-d988-48cc-ed40-713a3f2a3e5e"
      },
      "source": [
        "df1.index"
      ],
      "id": "9e3307a1",
      "execution_count": null,
      "outputs": [
        {
          "output_type": "execute_result",
          "data": {
            "text/plain": [
              "Index(['A', 'B', 'C', 'D', 'E'], dtype='object')"
            ]
          },
          "metadata": {
            "tags": []
          },
          "execution_count": 125
        }
      ]
    },
    {
      "cell_type": "code",
      "metadata": {
        "id": "1b18e3bd",
        "outputId": "7e36170b-45c8-4208-db1d-99a784764330"
      },
      "source": [
        "df1.iloc[[1]]"
      ],
      "id": "1b18e3bd",
      "execution_count": null,
      "outputs": [
        {
          "output_type": "execute_result",
          "data": {
            "text/html": [
              "<div>\n",
              "<style scoped>\n",
              "    .dataframe tbody tr th:only-of-type {\n",
              "        vertical-align: middle;\n",
              "    }\n",
              "\n",
              "    .dataframe tbody tr th {\n",
              "        vertical-align: top;\n",
              "    }\n",
              "\n",
              "    .dataframe thead th {\n",
              "        text-align: right;\n",
              "    }\n",
              "</style>\n",
              "<table border=\"1\" class=\"dataframe\">\n",
              "  <thead>\n",
              "    <tr style=\"text-align: right;\">\n",
              "      <th></th>\n",
              "      <th>w</th>\n",
              "      <th>x</th>\n",
              "      <th>y</th>\n",
              "      <th>z</th>\n",
              "    </tr>\n",
              "  </thead>\n",
              "  <tbody>\n",
              "    <tr>\n",
              "      <th>B</th>\n",
              "      <td>0.262595</td>\n",
              "      <td>-0.15214</td>\n",
              "      <td>-0.283796</td>\n",
              "      <td>-1.239393</td>\n",
              "    </tr>\n",
              "  </tbody>\n",
              "</table>\n",
              "</div>"
            ],
            "text/plain": [
              "          w        x         y         z\n",
              "B  0.262595 -0.15214 -0.283796 -1.239393"
            ]
          },
          "metadata": {
            "tags": []
          },
          "execution_count": 127
        }
      ]
    },
    {
      "cell_type": "code",
      "metadata": {
        "id": "c3fd4909",
        "outputId": "38443c5d-df10-40c3-b7c0-159506cb3eb4"
      },
      "source": [
        "df1.loc[['B']]"
      ],
      "id": "c3fd4909",
      "execution_count": null,
      "outputs": [
        {
          "output_type": "execute_result",
          "data": {
            "text/html": [
              "<div>\n",
              "<style scoped>\n",
              "    .dataframe tbody tr th:only-of-type {\n",
              "        vertical-align: middle;\n",
              "    }\n",
              "\n",
              "    .dataframe tbody tr th {\n",
              "        vertical-align: top;\n",
              "    }\n",
              "\n",
              "    .dataframe thead th {\n",
              "        text-align: right;\n",
              "    }\n",
              "</style>\n",
              "<table border=\"1\" class=\"dataframe\">\n",
              "  <thead>\n",
              "    <tr style=\"text-align: right;\">\n",
              "      <th></th>\n",
              "      <th>w</th>\n",
              "      <th>x</th>\n",
              "      <th>y</th>\n",
              "      <th>z</th>\n",
              "    </tr>\n",
              "  </thead>\n",
              "  <tbody>\n",
              "    <tr>\n",
              "      <th>B</th>\n",
              "      <td>0.262595</td>\n",
              "      <td>-0.15214</td>\n",
              "      <td>-0.283796</td>\n",
              "      <td>-1.239393</td>\n",
              "    </tr>\n",
              "  </tbody>\n",
              "</table>\n",
              "</div>"
            ],
            "text/plain": [
              "          w        x         y         z\n",
              "B  0.262595 -0.15214 -0.283796 -1.239393"
            ]
          },
          "metadata": {
            "tags": []
          },
          "execution_count": 128
        }
      ]
    },
    {
      "cell_type": "code",
      "metadata": {
        "id": "93f532a1",
        "outputId": "0bba11d5-e89c-44fb-bd62-26b45c76cf46"
      },
      "source": [
        "df1.loc['B']"
      ],
      "id": "93f532a1",
      "execution_count": null,
      "outputs": [
        {
          "output_type": "execute_result",
          "data": {
            "text/plain": [
              "w    0.262595\n",
              "x   -0.152140\n",
              "y   -0.283796\n",
              "z   -1.239393\n",
              "Name: B, dtype: float64"
            ]
          },
          "metadata": {
            "tags": []
          },
          "execution_count": 130
        }
      ]
    },
    {
      "cell_type": "code",
      "metadata": {
        "id": "fe56938c",
        "outputId": "a2aa471f-1050-4c40-cf95-bc7b7927a15b"
      },
      "source": [
        "df1.iloc[1]"
      ],
      "id": "fe56938c",
      "execution_count": null,
      "outputs": [
        {
          "output_type": "execute_result",
          "data": {
            "text/plain": [
              "w    0.262595\n",
              "x   -0.152140\n",
              "y   -0.283796\n",
              "z   -1.239393\n",
              "Name: B, dtype: float64"
            ]
          },
          "metadata": {
            "tags": []
          },
          "execution_count": 132
        }
      ]
    },
    {
      "cell_type": "code",
      "metadata": {
        "id": "68f0d45a",
        "outputId": "03b114b1-d760-40b9-a5bb-be121c749b06"
      },
      "source": [
        "df1.loc[['B','E']]"
      ],
      "id": "68f0d45a",
      "execution_count": null,
      "outputs": [
        {
          "output_type": "execute_result",
          "data": {
            "text/html": [
              "<div>\n",
              "<style scoped>\n",
              "    .dataframe tbody tr th:only-of-type {\n",
              "        vertical-align: middle;\n",
              "    }\n",
              "\n",
              "    .dataframe tbody tr th {\n",
              "        vertical-align: top;\n",
              "    }\n",
              "\n",
              "    .dataframe thead th {\n",
              "        text-align: right;\n",
              "    }\n",
              "</style>\n",
              "<table border=\"1\" class=\"dataframe\">\n",
              "  <thead>\n",
              "    <tr style=\"text-align: right;\">\n",
              "      <th></th>\n",
              "      <th>w</th>\n",
              "      <th>x</th>\n",
              "      <th>y</th>\n",
              "      <th>z</th>\n",
              "    </tr>\n",
              "  </thead>\n",
              "  <tbody>\n",
              "    <tr>\n",
              "      <th>B</th>\n",
              "      <td>0.262595</td>\n",
              "      <td>-0.152140</td>\n",
              "      <td>-0.283796</td>\n",
              "      <td>-1.239393</td>\n",
              "    </tr>\n",
              "    <tr>\n",
              "      <th>E</th>\n",
              "      <td>-0.333404</td>\n",
              "      <td>-1.024035</td>\n",
              "      <td>1.946649</td>\n",
              "      <td>0.405700</td>\n",
              "    </tr>\n",
              "  </tbody>\n",
              "</table>\n",
              "</div>"
            ],
            "text/plain": [
              "          w         x         y         z\n",
              "B  0.262595 -0.152140 -0.283796 -1.239393\n",
              "E -0.333404 -1.024035  1.946649  0.405700"
            ]
          },
          "metadata": {
            "tags": []
          },
          "execution_count": 134
        }
      ]
    },
    {
      "cell_type": "markdown",
      "metadata": {
        "id": "0f203d01"
      },
      "source": [
        "### Subsetting Rows and Cols\n",
        "\n",
        "df1.loc[[rows], [cols]]"
      ],
      "id": "0f203d01"
    },
    {
      "cell_type": "code",
      "metadata": {
        "id": "09774b7c",
        "outputId": "baf18a5c-d3a2-4f80-8738-9943c9ba7533"
      },
      "source": [
        "df1.loc[['B','E'], ['x','y']]"
      ],
      "id": "09774b7c",
      "execution_count": null,
      "outputs": [
        {
          "output_type": "execute_result",
          "data": {
            "text/html": [
              "<div>\n",
              "<style scoped>\n",
              "    .dataframe tbody tr th:only-of-type {\n",
              "        vertical-align: middle;\n",
              "    }\n",
              "\n",
              "    .dataframe tbody tr th {\n",
              "        vertical-align: top;\n",
              "    }\n",
              "\n",
              "    .dataframe thead th {\n",
              "        text-align: right;\n",
              "    }\n",
              "</style>\n",
              "<table border=\"1\" class=\"dataframe\">\n",
              "  <thead>\n",
              "    <tr style=\"text-align: right;\">\n",
              "      <th></th>\n",
              "      <th>x</th>\n",
              "      <th>y</th>\n",
              "    </tr>\n",
              "  </thead>\n",
              "  <tbody>\n",
              "    <tr>\n",
              "      <th>B</th>\n",
              "      <td>-0.152140</td>\n",
              "      <td>-0.283796</td>\n",
              "    </tr>\n",
              "    <tr>\n",
              "      <th>E</th>\n",
              "      <td>-1.024035</td>\n",
              "      <td>1.946649</td>\n",
              "    </tr>\n",
              "  </tbody>\n",
              "</table>\n",
              "</div>"
            ],
            "text/plain": [
              "          x         y\n",
              "B -0.152140 -0.283796\n",
              "E -1.024035  1.946649"
            ]
          },
          "metadata": {
            "tags": []
          },
          "execution_count": 135
        }
      ]
    },
    {
      "cell_type": "code",
      "metadata": {
        "id": "151de0e1",
        "outputId": "06ad2f1d-2510-444a-f688-11ba6a7e2a71"
      },
      "source": [
        "df.loc[[23, 87],['Country','Population','GDP']]"
      ],
      "id": "151de0e1",
      "execution_count": null,
      "outputs": [
        {
          "output_type": "execute_result",
          "data": {
            "text/html": [
              "<div>\n",
              "<style scoped>\n",
              "    .dataframe tbody tr th:only-of-type {\n",
              "        vertical-align: middle;\n",
              "    }\n",
              "\n",
              "    .dataframe tbody tr th {\n",
              "        vertical-align: top;\n",
              "    }\n",
              "\n",
              "    .dataframe thead th {\n",
              "        text-align: right;\n",
              "    }\n",
              "</style>\n",
              "<table border=\"1\" class=\"dataframe\">\n",
              "  <thead>\n",
              "    <tr style=\"text-align: right;\">\n",
              "      <th></th>\n",
              "      <th>Country</th>\n",
              "      <th>Population</th>\n",
              "      <th>GDP</th>\n",
              "    </tr>\n",
              "  </thead>\n",
              "  <tbody>\n",
              "    <tr>\n",
              "      <th>23</th>\n",
              "      <td>Albania</td>\n",
              "      <td>2947314.0</td>\n",
              "      <td>437.539647</td>\n",
              "    </tr>\n",
              "    <tr>\n",
              "      <th>87</th>\n",
              "      <td>Argentina</td>\n",
              "      <td>4382389.0</td>\n",
              "      <td>8953.359275</td>\n",
              "    </tr>\n",
              "  </tbody>\n",
              "</table>\n",
              "</div>"
            ],
            "text/plain": [
              "      Country  Population          GDP\n",
              "23    Albania   2947314.0   437.539647\n",
              "87  Argentina   4382389.0  8953.359275"
            ]
          },
          "metadata": {
            "tags": []
          },
          "execution_count": 137
        }
      ]
    },
    {
      "cell_type": "markdown",
      "metadata": {
        "id": "35566049"
      },
      "source": [
        "### Boolean Indexing"
      ],
      "id": "35566049"
    },
    {
      "cell_type": "code",
      "metadata": {
        "id": "6841c345",
        "outputId": "3fff6ebe-c925-4bcb-dd30-20bedbc4d57f"
      },
      "source": [
        "df['GDP'] > 1893"
      ],
      "id": "6841c345",
      "execution_count": null,
      "outputs": [
        {
          "output_type": "execute_result",
          "data": {
            "text/plain": [
              "0       False\n",
              "1       False\n",
              "2       False\n",
              "3       False\n",
              "4       False\n",
              "        ...  \n",
              "2933    False\n",
              "2934    False\n",
              "2935    False\n",
              "2936    False\n",
              "2937    False\n",
              "Name: GDP, Length: 2938, dtype: bool"
            ]
          },
          "metadata": {
            "tags": []
          },
          "execution_count": 139
        }
      ]
    },
    {
      "cell_type": "code",
      "metadata": {
        "id": "5418537f",
        "outputId": "dc5d05e2-58be-4a4e-da3f-a7ea916ef0dc"
      },
      "source": [
        "df[df['GDP'] > 1893].shape[0]"
      ],
      "id": "5418537f",
      "execution_count": null,
      "outputs": [
        {
          "output_type": "execute_result",
          "data": {
            "text/plain": [
              "1212"
            ]
          },
          "metadata": {
            "tags": []
          },
          "execution_count": 144
        }
      ]
    },
    {
      "cell_type": "code",
      "metadata": {
        "id": "3b62912b",
        "outputId": "6fd9b5e3-29c9-439b-8e87-00b61088e7f7"
      },
      "source": [
        "excel.head()"
      ],
      "id": "3b62912b",
      "execution_count": null,
      "outputs": [
        {
          "output_type": "execute_result",
          "data": {
            "text/html": [
              "<div>\n",
              "<style scoped>\n",
              "    .dataframe tbody tr th:only-of-type {\n",
              "        vertical-align: middle;\n",
              "    }\n",
              "\n",
              "    .dataframe tbody tr th {\n",
              "        vertical-align: top;\n",
              "    }\n",
              "\n",
              "    .dataframe thead th {\n",
              "        text-align: right;\n",
              "    }\n",
              "</style>\n",
              "<table border=\"1\" class=\"dataframe\">\n",
              "  <thead>\n",
              "    <tr style=\"text-align: right;\">\n",
              "      <th></th>\n",
              "      <th>S.No.</th>\n",
              "      <th>MTE (25)</th>\n",
              "      <th>Mini Project (25)</th>\n",
              "      <th>Total (50)</th>\n",
              "      <th>ETE (50)</th>\n",
              "      <th>Total</th>\n",
              "    </tr>\n",
              "  </thead>\n",
              "  <tbody>\n",
              "    <tr>\n",
              "      <th>0</th>\n",
              "      <td>1</td>\n",
              "      <td>5.00</td>\n",
              "      <td>20</td>\n",
              "      <td>25.00</td>\n",
              "      <td>12.0</td>\n",
              "      <td>37.00</td>\n",
              "    </tr>\n",
              "    <tr>\n",
              "      <th>1</th>\n",
              "      <td>2</td>\n",
              "      <td>11.05</td>\n",
              "      <td>20</td>\n",
              "      <td>31.05</td>\n",
              "      <td>26.0</td>\n",
              "      <td>57.05</td>\n",
              "    </tr>\n",
              "    <tr>\n",
              "      <th>2</th>\n",
              "      <td>3</td>\n",
              "      <td>8.10</td>\n",
              "      <td>20</td>\n",
              "      <td>28.10</td>\n",
              "      <td>14.0</td>\n",
              "      <td>42.10</td>\n",
              "    </tr>\n",
              "    <tr>\n",
              "      <th>3</th>\n",
              "      <td>4</td>\n",
              "      <td>6.00</td>\n",
              "      <td>10</td>\n",
              "      <td>16.00</td>\n",
              "      <td>13.0</td>\n",
              "      <td>29.00</td>\n",
              "    </tr>\n",
              "    <tr>\n",
              "      <th>4</th>\n",
              "      <td>5</td>\n",
              "      <td>11.35</td>\n",
              "      <td>20</td>\n",
              "      <td>31.35</td>\n",
              "      <td>17.0</td>\n",
              "      <td>48.35</td>\n",
              "    </tr>\n",
              "  </tbody>\n",
              "</table>\n",
              "</div>"
            ],
            "text/plain": [
              "   S.No.  MTE (25)  Mini Project (25)  Total (50)  ETE (50)  Total\n",
              "0      1      5.00                 20       25.00      12.0  37.00\n",
              "1      2     11.05                 20       31.05      26.0  57.05\n",
              "2      3      8.10                 20       28.10      14.0  42.10\n",
              "3      4      6.00                 10       16.00      13.0  29.00\n",
              "4      5     11.35                 20       31.35      17.0  48.35"
            ]
          },
          "metadata": {
            "tags": []
          },
          "execution_count": 146
        }
      ]
    },
    {
      "cell_type": "code",
      "metadata": {
        "id": "6b6b71a7"
      },
      "source": [
        "shorted_list = excel[(excel['MTE (25)'] > 13.0) & (excel['ETE (50)']> 17.0)]"
      ],
      "id": "6b6b71a7",
      "execution_count": null,
      "outputs": []
    },
    {
      "cell_type": "code",
      "metadata": {
        "id": "773eaec6",
        "outputId": "85c2f8bd-e2e5-42b2-d491-8ce43c133cbe"
      },
      "source": [
        "shorted_list[shorted_list['Total'] > 90.0]"
      ],
      "id": "773eaec6",
      "execution_count": null,
      "outputs": [
        {
          "output_type": "execute_result",
          "data": {
            "text/html": [
              "<div>\n",
              "<style scoped>\n",
              "    .dataframe tbody tr th:only-of-type {\n",
              "        vertical-align: middle;\n",
              "    }\n",
              "\n",
              "    .dataframe tbody tr th {\n",
              "        vertical-align: top;\n",
              "    }\n",
              "\n",
              "    .dataframe thead th {\n",
              "        text-align: right;\n",
              "    }\n",
              "</style>\n",
              "<table border=\"1\" class=\"dataframe\">\n",
              "  <thead>\n",
              "    <tr style=\"text-align: right;\">\n",
              "      <th></th>\n",
              "      <th>S.No.</th>\n",
              "      <th>MTE (25)</th>\n",
              "      <th>Mini Project (25)</th>\n",
              "      <th>Total (50)</th>\n",
              "      <th>ETE (50)</th>\n",
              "      <th>Total</th>\n",
              "    </tr>\n",
              "  </thead>\n",
              "  <tbody>\n",
              "    <tr>\n",
              "      <th>24</th>\n",
              "      <td>26</td>\n",
              "      <td>22.5</td>\n",
              "      <td>22</td>\n",
              "      <td>44.5</td>\n",
              "      <td>50.0</td>\n",
              "      <td>94.5</td>\n",
              "    </tr>\n",
              "    <tr>\n",
              "      <th>25</th>\n",
              "      <td>27</td>\n",
              "      <td>23.5</td>\n",
              "      <td>22</td>\n",
              "      <td>45.5</td>\n",
              "      <td>47.0</td>\n",
              "      <td>92.5</td>\n",
              "    </tr>\n",
              "  </tbody>\n",
              "</table>\n",
              "</div>"
            ],
            "text/plain": [
              "    S.No.  MTE (25)  Mini Project (25)  Total (50)  ETE (50)  Total\n",
              "24     26      22.5                 22        44.5      50.0   94.5\n",
              "25     27      23.5                 22        45.5      47.0   92.5"
            ]
          },
          "metadata": {
            "tags": []
          },
          "execution_count": 152
        }
      ]
    },
    {
      "cell_type": "code",
      "metadata": {
        "id": "c8920380"
      },
      "source": [
        ""
      ],
      "id": "c8920380",
      "execution_count": null,
      "outputs": []
    }
  ]
}