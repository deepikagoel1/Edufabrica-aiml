{
  "nbformat": 4,
  "nbformat_minor": 0,
  "metadata": {
    "kernelspec": {
      "display_name": "Python 3",
      "language": "python",
      "name": "python3"
    },
    "language_info": {
      "codemirror_mode": {
        "name": "ipython",
        "version": 3
      },
      "file_extension": ".py",
      "mimetype": "text/x-python",
      "name": "python",
      "nbconvert_exporter": "python",
      "pygments_lexer": "ipython3",
      "version": "3.7.6"
    },
    "colab": {
      "name": "A1_assignment.ipynb",
      "provenance": [],
      "collapsed_sections": [],
      "include_colab_link": true
    }
  },
  "cells": [
    {
      "cell_type": "markdown",
      "metadata": {
        "id": "view-in-github",
        "colab_type": "text"
      },
      "source": [
        "<a href=\"https://colab.research.google.com/github/deepikagoel1/Edufabrica-aiml/blob/main/A1_assignment.ipynb\" target=\"_parent\"><img src=\"https://colab.research.google.com/assets/colab-badge.svg\" alt=\"Open In Colab\"/></a>"
      ]
    },
    {
      "cell_type": "markdown",
      "metadata": {
        "id": "fUj7Z98AV5LU"
      },
      "source": [
        "<h2 align=center> You can be a Python Developer !</h2>\n",
        "<h1 align=center>Complete the <code>Assignment 1</code></h1>"
      ]
    },
    {
      "cell_type": "markdown",
      "metadata": {
        "id": "nYhxrTClV5LV"
      },
      "source": [
        "**Write a Python Program to calculate the length of a string given**\n",
        "\n",
        "string  = 'Goods and Prices'"
      ]
    },
    {
      "cell_type": "code",
      "metadata": {
        "id": "rIkeaT38V5LW",
        "colab": {
          "base_uri": "https://localhost:8080/"
        },
        "outputId": "7800bf9a-219f-485c-c5dd-eb119ac71013"
      },
      "source": [
        "string = 'Goods and Prices'\n",
        "len(string)"
      ],
      "execution_count": null,
      "outputs": [
        {
          "output_type": "execute_result",
          "data": {
            "text/plain": [
              "16"
            ]
          },
          "metadata": {
            "tags": []
          },
          "execution_count": 1
        }
      ]
    },
    {
      "cell_type": "markdown",
      "metadata": {
        "id": "y4tqqbxzV5LW"
      },
      "source": [
        "**How would you check the Python version you are using in your system ?. Write the code.**"
      ]
    },
    {
      "cell_type": "code",
      "metadata": {
        "id": "nGR_B1HAV5LW",
        "colab": {
          "base_uri": "https://localhost:8080/"
        },
        "outputId": "939cf98a-0fc9-46f7-b5f0-3f4902022a84"
      },
      "source": [
        "from platform import python_version\n",
        "print(python_version())"
      ],
      "execution_count": null,
      "outputs": [
        {
          "output_type": "stream",
          "text": [
            "3.7.10\n"
          ],
          "name": "stdout"
        }
      ]
    },
    {
      "cell_type": "markdown",
      "metadata": {
        "id": "2_Wf5OK2V5LW"
      },
      "source": [
        "**Take the first name and last name from the user and get the last name printed first and the first in the last.**"
      ]
    },
    {
      "cell_type": "code",
      "metadata": {
        "id": "Hu2rrT-bV5LW",
        "colab": {
          "base_uri": "https://localhost:8080/"
        },
        "outputId": "44ce7c08-a7ec-4025-a4ee-fa9cc07100f8"
      },
      "source": [
        "first = input(\"Enter your first name:\")\n",
        "last = input(\"Enter your last name\")\n",
        "\n",
        "print(last + \" \" + first)"
      ],
      "execution_count": null,
      "outputs": [
        {
          "output_type": "stream",
          "text": [
            "Enter your first name:Deepika\n",
            "Enter your last nameGoel\n",
            "Goel Deepika\n"
          ],
          "name": "stdout"
        }
      ]
    },
    {
      "cell_type": "markdown",
      "metadata": {
        "id": "xyJdn1hUV5LW"
      },
      "source": [
        "**Lets Say num = 5 , Now calculate the the vaule of ( num  - cube + num - square + num ) using Operators**"
      ]
    },
    {
      "cell_type": "code",
      "metadata": {
        "id": "lTjhNfp1V5LX",
        "colab": {
          "base_uri": "https://localhost:8080/"
        },
        "outputId": "84d3b11d-d2c2-4158-a77e-f631baae881e"
      },
      "source": [
        "num = 5\n",
        "\n",
        "print(num - num ** 3 + num - num ** 2)"
      ],
      "execution_count": null,
      "outputs": [
        {
          "output_type": "stream",
          "text": [
            "-140\n"
          ],
          "name": "stdout"
        }
      ]
    },
    {
      "cell_type": "markdown",
      "metadata": {
        "id": "SFnbtsG0V5LX"
      },
      "source": [
        "**Take 3 integer inputs from the user and return the sum of all the numbers to the user.**"
      ]
    },
    {
      "cell_type": "code",
      "metadata": {
        "id": "33Jc_KtGV5LX",
        "colab": {
          "base_uri": "https://localhost:8080/"
        },
        "outputId": "52c5d16b-5a79-4b5e-fca1-da2753f52823"
      },
      "source": [
        "a = int(input(\"Enter the first number\"))\n",
        "b = int(input(\"Enter the first number\"))\n",
        "c = int(input(\"Enter the first number\"))\n",
        "\n",
        "def sum1(a, b, c):\n",
        "  return a + b + c\n",
        "\n",
        "sum1(a, b, c)"
      ],
      "execution_count": null,
      "outputs": [
        {
          "output_type": "stream",
          "text": [
            "Enter the first number10\n",
            "Enter the first number20\n",
            "Enter the first number30\n"
          ],
          "name": "stdout"
        },
        {
          "output_type": "execute_result",
          "data": {
            "text/plain": [
              "60"
            ]
          },
          "metadata": {
            "tags": []
          },
          "execution_count": 7
        }
      ]
    },
    {
      "cell_type": "markdown",
      "metadata": {
        "id": "7UT2eLk6V5LX"
      },
      "source": [
        "**Suppose x and y are the two variables having some values, and x-y = 5 and x + y = 5 . Then Find the value of ( x-square  -   y-square ).**"
      ]
    },
    {
      "cell_type": "code",
      "metadata": {
        "id": "JjgNigAMV5LX",
        "colab": {
          "base_uri": "https://localhost:8080/"
        },
        "outputId": "b0621337-45da-493c-ff5b-36766325e947"
      },
      "source": [
        "import random\n",
        "\n",
        "x = random.randint(1, 100)\n",
        "\n",
        "y = random.randint(1, 100)\n",
        "\n",
        "x = y + 5\n",
        "x = 5 - y\n",
        "\n",
        "\n",
        "print(x ** 2 - y ** 2)"
      ],
      "execution_count": null,
      "outputs": [
        {
          "output_type": "stream",
          "text": [
            "-105\n"
          ],
          "name": "stdout"
        }
      ]
    },
    {
      "cell_type": "markdown",
      "metadata": {
        "id": "9xWWvKNfV5LX"
      },
      "source": [
        "**Convert the following types to Integer Datatype**\n",
        "\n",
        "**Numbers :** 45.3, -0, 2.85, 05.45, 23.6"
      ]
    },
    {
      "cell_type": "code",
      "metadata": {
        "id": "DrWpzZsUV5LX",
        "colab": {
          "base_uri": "https://localhost:8080/"
        },
        "outputId": "99f86329-ce5f-4622-8049-dcd863f1ed15"
      },
      "source": [
        "list1 = [45.3, -0, 2.85, 05.45, 23.6]\n",
        "new_list = []\n",
        "for i in list1:\n",
        "  d = int(i)\n",
        "  new_list.append(d)\n",
        "print(new_list)"
      ],
      "execution_count": null,
      "outputs": [
        {
          "output_type": "stream",
          "text": [
            "[45, 0, 2, 5, 23]\n"
          ],
          "name": "stdout"
        }
      ]
    },
    {
      "cell_type": "markdown",
      "metadata": {
        "id": "xUHj-jyUV5LX"
      },
      "source": [
        "**Which of the following is a variable and which of the following in a String ?. Discuss**\n",
        "\n",
        "x = 'variable'\n",
        "\n",
        "x = 56"
      ]
    },
    {
      "cell_type": "markdown",
      "metadata": {
        "id": "CJrW26JDehpY"
      },
      "source": [
        "## X is a string because it stores the value \"Variable\" that is defined within the single quotes or double quotes.\n",
        "\n",
        "## X is a variable of integer type that stores the value 56."
      ]
    },
    {
      "cell_type": "markdown",
      "metadata": {
        "id": "fAV6-94sV5LX"
      },
      "source": [
        "**Name the Data Types learnt till now in Python**"
      ]
    },
    {
      "cell_type": "markdown",
      "metadata": {
        "id": "bTTUMJGqe-BJ"
      },
      "source": [
        "## Data Types that learnt till now are: string, integer, float, list, dictionary, tuples."
      ]
    },
    {
      "cell_type": "markdown",
      "metadata": {
        "id": "ioKcB8O1V5LY"
      },
      "source": [
        "**What does the variable contain after the following code runs?**"
      ]
    },
    {
      "cell_type": "raw",
      "metadata": {
        "id": "d9KjLy7lV5LY"
      },
      "source": [
        "variable = 20\n",
        "variable + 1 "
      ]
    },
    {
      "cell_type": "code",
      "metadata": {
        "id": "2AFHdwRxV5LY",
        "colab": {
          "base_uri": "https://localhost:8080/"
        },
        "outputId": "9ed66919-5430-4058-a3d3-c21f39b636f6"
      },
      "source": [
        "variable = 20 \n",
        "variable + 1\n",
        "print(variable)"
      ],
      "execution_count": null,
      "outputs": [
        {
          "output_type": "stream",
          "text": [
            "20\n"
          ],
          "name": "stdout"
        }
      ]
    },
    {
      "cell_type": "markdown",
      "metadata": {
        "id": "52c0COktfah-"
      },
      "source": [
        "## It will contain the value as 20 only because of the post increment. First assign then increment. "
      ]
    },
    {
      "cell_type": "markdown",
      "metadata": {
        "id": "v_gzuX5mV5LY"
      },
      "source": [
        "**What will the two expressions will evaluate**?"
      ]
    },
    {
      "cell_type": "raw",
      "metadata": {
        "id": "o5c7XY7xV5LY"
      },
      "source": [
        "*italicized text*'expression_1' + 'expression_2'\n",
        "'expression_1' * 3"
      ]
    },
    {
      "cell_type": "code",
      "metadata": {
        "id": "HeNAMTGEV5LY",
        "colab": {
          "base_uri": "https://localhost:8080/",
          "height": 35
        },
        "outputId": "c496f60e-cc9d-4a13-b2d1-aed16e527275"
      },
      "source": [
        "'expression_1' + 'expression_2'\n"
      ],
      "execution_count": null,
      "outputs": [
        {
          "output_type": "execute_result",
          "data": {
            "application/vnd.google.colaboratory.intrinsic+json": {
              "type": "string"
            },
            "text/plain": [
              "'expression_1expression_2'"
            ]
          },
          "metadata": {
            "tags": []
          },
          "execution_count": 14
        }
      ]
    },
    {
      "cell_type": "code",
      "metadata": {
        "colab": {
          "base_uri": "https://localhost:8080/",
          "height": 35
        },
        "id": "3aZ7SOWif5eT",
        "outputId": "108a1f44-d3d7-45ac-d24a-ffa6d0d4416b"
      },
      "source": [
        "'expression_1' * 3"
      ],
      "execution_count": null,
      "outputs": [
        {
          "output_type": "execute_result",
          "data": {
            "application/vnd.google.colaboratory.intrinsic+json": {
              "type": "string"
            },
            "text/plain": [
              "'expression_1expression_1expression_1'"
            ]
          },
          "metadata": {
            "tags": []
          },
          "execution_count": 15
        }
      ]
    },
    {
      "cell_type": "markdown",
      "metadata": {
        "id": "0_pdNxhlV5LY"
      },
      "source": [
        "**Why x is a Valid variable and 100 is invalid ?**"
      ]
    },
    {
      "cell_type": "markdown",
      "metadata": {
        "id": "vo3jFqGxgXsR"
      },
      "source": [
        "## X is a valid variable because it contains the name of the container and in any coding language we have to follow some protocols so variable names never starts with a number."
      ]
    },
    {
      "cell_type": "markdown",
      "metadata": {
        "id": "igdgxIsVV5LY"
      },
      "source": [
        "**Why does the statement caiuse an error ?**"
      ]
    },
    {
      "cell_type": "raw",
      "metadata": {
        "id": "3G3NbSGmV5LY"
      },
      "source": [
        "print('Artificial Intelligence was first coined in the year = ' + 1999)"
      ]
    },
    {
      "cell_type": "markdown",
      "metadata": {
        "id": "iQw0OFo9gGZ7"
      },
      "source": [
        "## Because we try to concatenate the string with the integer that is without doing typecasting the integer to strings."
      ]
    },
    {
      "cell_type": "code",
      "metadata": {
        "id": "ORHOrsXsV5LY"
      },
      "source": [
        ""
      ],
      "execution_count": null,
      "outputs": []
    },
    {
      "cell_type": "markdown",
      "metadata": {
        "id": "gXmLEH7uV5LY"
      },
      "source": [
        "Notebook created by: <a href = \"https://www.linkedin.com/in/sumitkumarshukla/\">Sumit Kumar Shukla</a>"
      ]
    }
  ]
}