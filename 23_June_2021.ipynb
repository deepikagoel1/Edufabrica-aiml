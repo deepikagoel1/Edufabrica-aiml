{
  "nbformat": 4,
  "nbformat_minor": 5,
  "metadata": {
    "kernelspec": {
      "display_name": "Python 3",
      "language": "python",
      "name": "python3"
    },
    "language_info": {
      "codemirror_mode": {
        "name": "ipython",
        "version": 3
      },
      "file_extension": ".py",
      "mimetype": "text/x-python",
      "name": "python",
      "nbconvert_exporter": "python",
      "pygments_lexer": "ipython3",
      "version": "3.8.8"
    },
    "colab": {
      "name": "23 June 2021.ipynb",
      "provenance": [],
      "include_colab_link": true
    }
  },
  "cells": [
    {
      "cell_type": "markdown",
      "metadata": {
        "id": "view-in-github",
        "colab_type": "text"
      },
      "source": [
        "<a href=\"https://colab.research.google.com/github/deepikagoel1/Edufabrica-aiml/blob/main/23_June_2021.ipynb\" target=\"_parent\"><img src=\"https://colab.research.google.com/assets/colab-badge.svg\" alt=\"Open In Colab\"/></a>"
      ]
    },
    {
      "cell_type": "code",
      "metadata": {
        "id": "446d55b0"
      },
      "source": [
        "import numpy as np "
      ],
      "id": "446d55b0",
      "execution_count": null,
      "outputs": []
    },
    {
      "cell_type": "code",
      "metadata": {
        "id": "60c055c1",
        "outputId": "1109de59-009d-4e75-cfd8-5f4586441179"
      },
      "source": [
        "np.zeros(10)"
      ],
      "id": "60c055c1",
      "execution_count": null,
      "outputs": [
        {
          "output_type": "execute_result",
          "data": {
            "text/plain": [
              "array([0., 0., 0., 0., 0., 0., 0., 0., 0., 0.])"
            ]
          },
          "metadata": {
            "tags": []
          },
          "execution_count": 2
        }
      ]
    },
    {
      "cell_type": "code",
      "metadata": {
        "id": "41145c15",
        "outputId": "4009cf5a-fc78-4e06-8892-72169d62d06e"
      },
      "source": [
        "Z = np.zeros(10)\n",
        "Z[4]=1\n",
        "Z"
      ],
      "id": "41145c15",
      "execution_count": null,
      "outputs": [
        {
          "output_type": "execute_result",
          "data": {
            "text/plain": [
              "array([0., 0., 0., 0., 1., 0., 0., 0., 0., 0.])"
            ]
          },
          "metadata": {
            "tags": []
          },
          "execution_count": 4
        }
      ]
    },
    {
      "cell_type": "code",
      "metadata": {
        "id": "ce885fc3",
        "outputId": "e620fe98-7a88-4614-c1cc-daa3e5e4ffa7"
      },
      "source": [
        "np.arange(10,50)[::-1]"
      ],
      "id": "ce885fc3",
      "execution_count": null,
      "outputs": [
        {
          "output_type": "execute_result",
          "data": {
            "text/plain": [
              "array([49, 48, 47, 46, 45, 44, 43, 42, 41, 40, 39, 38, 37, 36, 35, 34, 33,\n",
              "       32, 31, 30, 29, 28, 27, 26, 25, 24, 23, 22, 21, 20, 19, 18, 17, 16,\n",
              "       15, 14, 13, 12, 11, 10])"
            ]
          },
          "metadata": {
            "tags": []
          },
          "execution_count": 7
        }
      ]
    },
    {
      "cell_type": "code",
      "metadata": {
        "id": "89b450cf",
        "outputId": "421dbef1-e426-41e8-e49b-a69b42e548ff"
      },
      "source": [
        "np.arange(9).reshape(3,3)"
      ],
      "id": "89b450cf",
      "execution_count": null,
      "outputs": [
        {
          "output_type": "execute_result",
          "data": {
            "text/plain": [
              "array([[0, 1, 2],\n",
              "       [3, 4, 5],\n",
              "       [6, 7, 8]])"
            ]
          },
          "metadata": {
            "tags": []
          },
          "execution_count": 8
        }
      ]
    },
    {
      "cell_type": "code",
      "metadata": {
        "id": "343f4c84"
      },
      "source": [
        "b = np.array([1, 2, 0, 0, 4, 0])\n",
        "a = np.nonzero(b)"
      ],
      "id": "343f4c84",
      "execution_count": null,
      "outputs": []
    },
    {
      "cell_type": "code",
      "metadata": {
        "id": "76d91f44",
        "outputId": "f7e62eb1-c5c2-4b0e-f47e-74726aa92a3b"
      },
      "source": [
        "b"
      ],
      "id": "76d91f44",
      "execution_count": null,
      "outputs": [
        {
          "output_type": "execute_result",
          "data": {
            "text/plain": [
              "array([1, 2, 0, 0, 4, 0])"
            ]
          },
          "metadata": {
            "tags": []
          },
          "execution_count": 18
        }
      ]
    },
    {
      "cell_type": "code",
      "metadata": {
        "id": "61d48e17",
        "outputId": "63337844-8732-40bd-e178-41a4e341f954"
      },
      "source": [
        "a"
      ],
      "id": "61d48e17",
      "execution_count": null,
      "outputs": [
        {
          "output_type": "execute_result",
          "data": {
            "text/plain": [
              "(array([0, 1, 4]),)"
            ]
          },
          "metadata": {
            "tags": []
          },
          "execution_count": 19
        }
      ]
    },
    {
      "cell_type": "code",
      "metadata": {
        "id": "26d68f9a",
        "outputId": "07b5a9c0-1ff9-4b6f-abc9-046316647910"
      },
      "source": [
        "b[[0 ,1, 4]]"
      ],
      "id": "26d68f9a",
      "execution_count": null,
      "outputs": [
        {
          "output_type": "execute_result",
          "data": {
            "text/plain": [
              "array([1, 2, 4])"
            ]
          },
          "metadata": {
            "tags": []
          },
          "execution_count": 21
        }
      ]
    },
    {
      "cell_type": "code",
      "metadata": {
        "id": "55192897",
        "outputId": "67aa2a2f-1bdf-4a5c-bb61-cbcda571b77a"
      },
      "source": [
        "x =  np.random.random(30)\n",
        "x"
      ],
      "id": "55192897",
      "execution_count": null,
      "outputs": [
        {
          "output_type": "execute_result",
          "data": {
            "text/plain": [
              "array([0.59980164, 0.73090837, 0.87488159, 0.5596454 , 0.00901225,\n",
              "       0.58742981, 0.61615648, 0.27199062, 0.02814152, 0.73830244,\n",
              "       0.96752012, 0.0425118 , 0.93102714, 0.98968224, 0.63673413,\n",
              "       0.53470849, 0.9878008 , 0.0352646 , 0.92286136, 0.40227153,\n",
              "       0.85470573, 0.57251015, 0.03503852, 0.29457975, 0.20438801,\n",
              "       0.54205102, 0.35525051, 0.82089872, 0.11478294, 0.550363  ])"
            ]
          },
          "metadata": {
            "tags": []
          },
          "execution_count": 24
        }
      ]
    },
    {
      "cell_type": "code",
      "metadata": {
        "id": "3b7ecb00",
        "outputId": "392d4e26-f5f3-4919-9160-aaa81c5d44bd"
      },
      "source": [
        "x.mean()"
      ],
      "id": "3b7ecb00",
      "execution_count": null,
      "outputs": [
        {
          "output_type": "execute_result",
          "data": {
            "text/plain": [
              "0.5270406888867716"
            ]
          },
          "metadata": {
            "tags": []
          },
          "execution_count": 25
        }
      ]
    },
    {
      "cell_type": "code",
      "metadata": {
        "id": "16bebf72"
      },
      "source": [
        "a = np.zeros((8,8), dtype = 'int')"
      ],
      "id": "16bebf72",
      "execution_count": null,
      "outputs": []
    },
    {
      "cell_type": "code",
      "metadata": {
        "id": "574c4e4b",
        "outputId": "306f7e5e-c50a-4ff8-fc32-c2aa0806d7f2"
      },
      "source": [
        "a"
      ],
      "id": "574c4e4b",
      "execution_count": null,
      "outputs": [
        {
          "output_type": "execute_result",
          "data": {
            "text/plain": [
              "array([[0, 0, 0, 0, 0, 0, 0, 0],\n",
              "       [0, 0, 0, 0, 0, 0, 0, 0],\n",
              "       [0, 0, 0, 0, 0, 0, 0, 0],\n",
              "       [0, 0, 0, 0, 0, 0, 0, 0],\n",
              "       [0, 0, 0, 0, 0, 0, 0, 0],\n",
              "       [0, 0, 0, 0, 0, 0, 0, 0],\n",
              "       [0, 0, 0, 0, 0, 0, 0, 0],\n",
              "       [0, 0, 0, 0, 0, 0, 0, 0]])"
            ]
          },
          "metadata": {
            "tags": []
          },
          "execution_count": 31
        }
      ]
    },
    {
      "cell_type": "code",
      "metadata": {
        "id": "3f64e2c2"
      },
      "source": [
        "a[1::2, ::2] = 1"
      ],
      "id": "3f64e2c2",
      "execution_count": null,
      "outputs": []
    },
    {
      "cell_type": "code",
      "metadata": {
        "id": "8f4d3228"
      },
      "source": [
        "a[::2, 1::2 ] = 1"
      ],
      "id": "8f4d3228",
      "execution_count": null,
      "outputs": []
    },
    {
      "cell_type": "code",
      "metadata": {
        "id": "ea31a5fc",
        "outputId": "2f06f6cb-bdd8-42d4-db07-e3095bfd9029"
      },
      "source": [
        "a"
      ],
      "id": "ea31a5fc",
      "execution_count": null,
      "outputs": [
        {
          "output_type": "execute_result",
          "data": {
            "text/plain": [
              "array([[0, 1, 0, 1, 0, 1, 0, 1],\n",
              "       [1, 0, 1, 0, 1, 0, 1, 0],\n",
              "       [0, 1, 0, 1, 0, 1, 0, 1],\n",
              "       [1, 0, 1, 0, 1, 0, 1, 0],\n",
              "       [0, 1, 0, 1, 0, 1, 0, 1],\n",
              "       [1, 0, 1, 0, 1, 0, 1, 0],\n",
              "       [0, 1, 0, 1, 0, 1, 0, 1],\n",
              "       [1, 0, 1, 0, 1, 0, 1, 0]])"
            ]
          },
          "metadata": {
            "tags": []
          },
          "execution_count": 39
        }
      ]
    },
    {
      "cell_type": "code",
      "metadata": {
        "id": "d7f898d6",
        "outputId": "0596ad03-ab99-4bf1-cd3d-9d0bfc354678"
      },
      "source": [
        "a = np.ones((5,5))\n",
        "a[1:-1, 1:-1] = 0\n",
        "a"
      ],
      "id": "d7f898d6",
      "execution_count": null,
      "outputs": [
        {
          "output_type": "execute_result",
          "data": {
            "text/plain": [
              "array([[1., 1., 1., 1., 1.],\n",
              "       [1., 0., 0., 0., 1.],\n",
              "       [1., 0., 0., 0., 1.],\n",
              "       [1., 0., 0., 0., 1.],\n",
              "       [1., 1., 1., 1., 1.]])"
            ]
          },
          "metadata": {
            "tags": []
          },
          "execution_count": 41
        }
      ]
    },
    {
      "cell_type": "code",
      "metadata": {
        "id": "ba5fe271",
        "outputId": "cded7dcf-9559-4936-d08c-87195177a8ff"
      },
      "source": [
        "np.diag(np.arange(1,5), k= -1)"
      ],
      "id": "ba5fe271",
      "execution_count": null,
      "outputs": [
        {
          "output_type": "execute_result",
          "data": {
            "text/plain": [
              "array([[0, 0, 0, 0, 0],\n",
              "       [1, 0, 0, 0, 0],\n",
              "       [0, 2, 0, 0, 0],\n",
              "       [0, 0, 3, 0, 0],\n",
              "       [0, 0, 0, 4, 0]])"
            ]
          },
          "metadata": {
            "tags": []
          },
          "execution_count": 43
        }
      ]
    },
    {
      "cell_type": "code",
      "metadata": {
        "id": "0c0b9430",
        "outputId": "19932fd4-9b96-4745-cf20-30db7464dde6"
      },
      "source": [
        "x = np.random.random((5, 5))\n",
        "x"
      ],
      "id": "0c0b9430",
      "execution_count": null,
      "outputs": [
        {
          "output_type": "execute_result",
          "data": {
            "text/plain": [
              "array([[0.65111967, 0.12566455, 0.69669637, 0.73007169, 0.11525562],\n",
              "       [0.27877736, 0.80586735, 0.53246386, 0.25967855, 0.39717585],\n",
              "       [0.12148452, 0.41923704, 0.47732693, 0.30385366, 0.22698909],\n",
              "       [0.67042662, 0.96530559, 0.25285677, 0.16531293, 0.44167534],\n",
              "       [0.60211191, 0.37004441, 0.57303465, 0.55134697, 0.11582709]])"
            ]
          },
          "metadata": {
            "tags": []
          },
          "execution_count": 45
        }
      ]
    },
    {
      "cell_type": "markdown",
      "metadata": {
        "id": "78d95426"
      },
      "source": [
        "$Normalise = \\frac{x - xmin}{xmax - xmin}$"
      ],
      "id": "78d95426"
    },
    {
      "cell_type": "code",
      "metadata": {
        "id": "f0f6a00b"
      },
      "source": [
        "xmax, xmin = x.max(), x.min()"
      ],
      "id": "f0f6a00b",
      "execution_count": null,
      "outputs": []
    },
    {
      "cell_type": "code",
      "metadata": {
        "id": "0248656a"
      },
      "source": [
        "N = (x - xmin)/(xmax - xmin)"
      ],
      "id": "0248656a",
      "execution_count": null,
      "outputs": []
    },
    {
      "cell_type": "code",
      "metadata": {
        "id": "e5e08ab3",
        "outputId": "51870665-6165-45c1-ab18-24baff0c8145"
      },
      "source": [
        "print(N)"
      ],
      "id": "e5e08ab3",
      "execution_count": null,
      "outputs": [
        {
          "output_type": "stream",
          "text": [
            "[[6.30391236e-01 1.22450784e-02 6.84007734e-01 7.23270500e-01\n",
            "  0.00000000e+00]\n",
            " [1.92367209e-01 8.12436630e-01 4.90804370e-01 1.69899339e-01\n",
            "  3.31651359e-01]\n",
            " [7.32768940e-03 3.57604183e-01 4.25941203e-01 2.21867004e-01\n",
            "  1.31443415e-01]\n",
            " [6.53103962e-01 1.00000000e+00 1.61874191e-01 5.88874934e-02\n",
            "  3.84000624e-01]\n",
            " [5.72738441e-01 2.99733901e-01 5.38531910e-01 5.13018495e-01\n",
            "  6.72282443e-04]]\n"
          ],
          "name": "stdout"
        }
      ]
    },
    {
      "cell_type": "code",
      "metadata": {
        "id": "b076f5fe",
        "outputId": "489a0c36-a032-4b7c-8027-1164cd542c09"
      },
      "source": [
        "np.unravel_index(100, (6, 7, 8))"
      ],
      "id": "b076f5fe",
      "execution_count": null,
      "outputs": [
        {
          "output_type": "execute_result",
          "data": {
            "text/plain": [
              "(1, 5, 4)"
            ]
          },
          "metadata": {
            "tags": []
          },
          "execution_count": 50
        }
      ]
    },
    {
      "cell_type": "code",
      "metadata": {
        "id": "ae11b5a0",
        "outputId": "d6ff7bf1-7a7c-4776-d984-6a08800a2faf"
      },
      "source": [
        "np.unravel_index([22, 41, 37], (8, 7))"
      ],
      "id": "ae11b5a0",
      "execution_count": null,
      "outputs": [
        {
          "output_type": "execute_result",
          "data": {
            "text/plain": [
              "(array([3, 5, 5]), array([1, 6, 2]))"
            ]
          },
          "metadata": {
            "tags": []
          },
          "execution_count": 54
        }
      ]
    },
    {
      "cell_type": "code",
      "metadata": {
        "id": "733018c1",
        "outputId": "e29c049c-37e4-418c-be1d-928f1100fc7e"
      },
      "source": [
        "x"
      ],
      "id": "733018c1",
      "execution_count": null,
      "outputs": [
        {
          "output_type": "execute_result",
          "data": {
            "text/plain": [
              "array([[0.65111967, 0.12566455, 0.69669637, 0.73007169, 0.11525562],\n",
              "       [0.27877736, 0.80586735, 0.53246386, 0.25967855, 0.39717585],\n",
              "       [0.12148452, 0.41923704, 0.47732693, 0.30385366, 0.22698909],\n",
              "       [0.67042662, 0.96530559, 0.25285677, 0.16531293, 0.44167534],\n",
              "       [0.60211191, 0.37004441, 0.57303465, 0.55134697, 0.11582709]])"
            ]
          },
          "metadata": {
            "tags": []
          },
          "execution_count": 55
        }
      ]
    },
    {
      "cell_type": "code",
      "metadata": {
        "id": "1fd10fcd",
        "outputId": "cd09172e-dfb5-4a24-cba3-300bc14c842d"
      },
      "source": [
        "x[0][1]"
      ],
      "id": "1fd10fcd",
      "execution_count": null,
      "outputs": [
        {
          "output_type": "execute_result",
          "data": {
            "text/plain": [
              "0.1256645486763487"
            ]
          },
          "metadata": {
            "tags": []
          },
          "execution_count": 56
        }
      ]
    },
    {
      "cell_type": "code",
      "metadata": {
        "id": "b3942446",
        "outputId": "4aff2cf4-e897-4b96-bd37-a862ceb153c2"
      },
      "source": [
        "x[0,1]"
      ],
      "id": "b3942446",
      "execution_count": null,
      "outputs": [
        {
          "output_type": "execute_result",
          "data": {
            "text/plain": [
              "0.1256645486763487"
            ]
          },
          "metadata": {
            "tags": []
          },
          "execution_count": 58
        }
      ]
    },
    {
      "cell_type": "code",
      "metadata": {
        "id": "c9ff0668"
      },
      "source": [
        "string = 'abcdefghijklmnop'"
      ],
      "id": "c9ff0668",
      "execution_count": null,
      "outputs": []
    },
    {
      "cell_type": "markdown",
      "metadata": {
        "id": "843ae6dd"
      },
      "source": [
        "**create an array consistiing of 100 rows and 10 cols filled with string values in combinations of 3**<br>\n",
        "Ex = 'abc', 'ade', 'klm'"
      ],
      "id": "843ae6dd"
    },
    {
      "cell_type": "code",
      "metadata": {
        "id": "92394f19"
      },
      "source": [
        "import random \n",
        "cs = []\n",
        "for i in np.arange(20):\n",
        "    val = ''.join(random.sample(string,3))\n",
        "    if val in cs:\n",
        "        continue\n",
        "    else:\n",
        "        cs.append(val)"
      ],
      "id": "92394f19",
      "execution_count": null,
      "outputs": []
    },
    {
      "cell_type": "code",
      "metadata": {
        "id": "e94369c2",
        "outputId": "5b9f8aaf-369e-44a1-93e3-b9cea3a76cb5"
      },
      "source": [
        "cs.sort()\n",
        "np.array(cs).reshape(5,4)"
      ],
      "id": "e94369c2",
      "execution_count": null,
      "outputs": [
        {
          "output_type": "execute_result",
          "data": {
            "text/plain": [
              "array([['afe', 'bde', 'bdh', 'bhi'],\n",
              "       ['bih', 'bij', 'caj', 'che'],\n",
              "       ['fhe', 'gef', 'gfj', 'haf'],\n",
              "       ['hcg', 'hjg', 'iba', 'idh'],\n",
              "       ['igh', 'ijf', 'jhc', 'jhg']], dtype='<U3')"
            ]
          },
          "metadata": {
            "tags": []
          },
          "execution_count": 77
        }
      ]
    },
    {
      "cell_type": "code",
      "metadata": {
        "id": "be1bad52",
        "outputId": "a7794576-7334-4700-c6a8-99d082816ef4"
      },
      "source": [
        "np.where(cs == 'bed')"
      ],
      "id": "be1bad52",
      "execution_count": null,
      "outputs": [
        {
          "output_type": "execute_result",
          "data": {
            "text/plain": [
              "(array([75]), array([3]))"
            ]
          },
          "metadata": {
            "tags": []
          },
          "execution_count": 65
        }
      ]
    },
    {
      "cell_type": "code",
      "metadata": {
        "id": "d3144cbb",
        "outputId": "5ca7d254-f5d4-492a-dd88-5b9d3e1d887c"
      },
      "source": [
        "cs[75,3]"
      ],
      "id": "d3144cbb",
      "execution_count": null,
      "outputs": [
        {
          "output_type": "execute_result",
          "data": {
            "text/plain": [
              "'bed'"
            ]
          },
          "metadata": {
            "tags": []
          },
          "execution_count": 66
        }
      ]
    },
    {
      "cell_type": "code",
      "metadata": {
        "id": "991a656b",
        "outputId": "70531ef0-de1d-4036-9467-735b012b8934"
      },
      "source": [
        "cs[75]"
      ],
      "id": "991a656b",
      "execution_count": null,
      "outputs": [
        {
          "output_type": "execute_result",
          "data": {
            "text/plain": [
              "array(['jbg', 'dbh', 'gaj', 'bed', 'igb', 'dji', 'jic', 'dje', 'ief',\n",
              "       'jgh'], dtype='<U3')"
            ]
          },
          "metadata": {
            "tags": []
          },
          "execution_count": 67
        }
      ]
    },
    {
      "cell_type": "code",
      "metadata": {
        "id": "4e0f08a8"
      },
      "source": [
        "g_code = []\n",
        "for i in np.arange(10000):\n",
        "    code = 'G-' + ''.join(random.sample('0123456789',6))\n",
        "    g_code.append(code)\n",
        "codes = np.array(g_code).reshape(1000, 10)"
      ],
      "id": "4e0f08a8",
      "execution_count": null,
      "outputs": []
    },
    {
      "cell_type": "code",
      "metadata": {
        "id": "40addf71"
      },
      "source": [
        "import pandas as pd"
      ],
      "id": "40addf71",
      "execution_count": null,
      "outputs": []
    },
    {
      "cell_type": "code",
      "metadata": {
        "id": "a9bb6406"
      },
      "source": [
        "df = pd.DataFrame(codes)[:10]"
      ],
      "id": "a9bb6406",
      "execution_count": null,
      "outputs": []
    },
    {
      "cell_type": "code",
      "metadata": {
        "id": "7566c216",
        "outputId": "b4769b47-9e34-490d-fca8-8d79ebc9be8b"
      },
      "source": [
        "df"
      ],
      "id": "7566c216",
      "execution_count": null,
      "outputs": [
        {
          "output_type": "execute_result",
          "data": {
            "text/html": [
              "<div>\n",
              "<style scoped>\n",
              "    .dataframe tbody tr th:only-of-type {\n",
              "        vertical-align: middle;\n",
              "    }\n",
              "\n",
              "    .dataframe tbody tr th {\n",
              "        vertical-align: top;\n",
              "    }\n",
              "\n",
              "    .dataframe thead th {\n",
              "        text-align: right;\n",
              "    }\n",
              "</style>\n",
              "<table border=\"1\" class=\"dataframe\">\n",
              "  <thead>\n",
              "    <tr style=\"text-align: right;\">\n",
              "      <th></th>\n",
              "      <th>0</th>\n",
              "      <th>1</th>\n",
              "      <th>2</th>\n",
              "      <th>3</th>\n",
              "      <th>4</th>\n",
              "      <th>5</th>\n",
              "      <th>6</th>\n",
              "      <th>7</th>\n",
              "      <th>8</th>\n",
              "      <th>9</th>\n",
              "    </tr>\n",
              "  </thead>\n",
              "  <tbody>\n",
              "    <tr>\n",
              "      <th>0</th>\n",
              "      <td>G-712460</td>\n",
              "      <td>G-704361</td>\n",
              "      <td>G-679340</td>\n",
              "      <td>G-860723</td>\n",
              "      <td>G-854190</td>\n",
              "      <td>G-153762</td>\n",
              "      <td>G-083649</td>\n",
              "      <td>G-075319</td>\n",
              "      <td>G-593482</td>\n",
              "      <td>G-287305</td>\n",
              "    </tr>\n",
              "    <tr>\n",
              "      <th>1</th>\n",
              "      <td>G-943017</td>\n",
              "      <td>G-069547</td>\n",
              "      <td>G-134650</td>\n",
              "      <td>G-243569</td>\n",
              "      <td>G-120347</td>\n",
              "      <td>G-763084</td>\n",
              "      <td>G-319764</td>\n",
              "      <td>G-632401</td>\n",
              "      <td>G-653807</td>\n",
              "      <td>G-632947</td>\n",
              "    </tr>\n",
              "    <tr>\n",
              "      <th>2</th>\n",
              "      <td>G-796824</td>\n",
              "      <td>G-312794</td>\n",
              "      <td>G-087465</td>\n",
              "      <td>G-126854</td>\n",
              "      <td>G-169207</td>\n",
              "      <td>G-206793</td>\n",
              "      <td>G-302964</td>\n",
              "      <td>G-412970</td>\n",
              "      <td>G-273518</td>\n",
              "      <td>G-368029</td>\n",
              "    </tr>\n",
              "    <tr>\n",
              "      <th>3</th>\n",
              "      <td>G-758230</td>\n",
              "      <td>G-148362</td>\n",
              "      <td>G-896217</td>\n",
              "      <td>G-537814</td>\n",
              "      <td>G-963514</td>\n",
              "      <td>G-619507</td>\n",
              "      <td>G-801752</td>\n",
              "      <td>G-194358</td>\n",
              "      <td>G-182503</td>\n",
              "      <td>G-298753</td>\n",
              "    </tr>\n",
              "    <tr>\n",
              "      <th>4</th>\n",
              "      <td>G-032765</td>\n",
              "      <td>G-401932</td>\n",
              "      <td>G-285147</td>\n",
              "      <td>G-907684</td>\n",
              "      <td>G-603721</td>\n",
              "      <td>G-190638</td>\n",
              "      <td>G-154892</td>\n",
              "      <td>G-407586</td>\n",
              "      <td>G-450732</td>\n",
              "      <td>G-794632</td>\n",
              "    </tr>\n",
              "    <tr>\n",
              "      <th>5</th>\n",
              "      <td>G-618527</td>\n",
              "      <td>G-164503</td>\n",
              "      <td>G-716390</td>\n",
              "      <td>G-375419</td>\n",
              "      <td>G-463792</td>\n",
              "      <td>G-421809</td>\n",
              "      <td>G-748093</td>\n",
              "      <td>G-174805</td>\n",
              "      <td>G-346015</td>\n",
              "      <td>G-463590</td>\n",
              "    </tr>\n",
              "    <tr>\n",
              "      <th>6</th>\n",
              "      <td>G-718249</td>\n",
              "      <td>G-297348</td>\n",
              "      <td>G-923017</td>\n",
              "      <td>G-270439</td>\n",
              "      <td>G-671428</td>\n",
              "      <td>G-912053</td>\n",
              "      <td>G-765038</td>\n",
              "      <td>G-791306</td>\n",
              "      <td>G-361279</td>\n",
              "      <td>G-952043</td>\n",
              "    </tr>\n",
              "    <tr>\n",
              "      <th>7</th>\n",
              "      <td>G-127453</td>\n",
              "      <td>G-389276</td>\n",
              "      <td>G-543102</td>\n",
              "      <td>G-319064</td>\n",
              "      <td>G-415396</td>\n",
              "      <td>G-958241</td>\n",
              "      <td>G-015928</td>\n",
              "      <td>G-035817</td>\n",
              "      <td>G-467935</td>\n",
              "      <td>G-609381</td>\n",
              "    </tr>\n",
              "    <tr>\n",
              "      <th>8</th>\n",
              "      <td>G-918206</td>\n",
              "      <td>G-468791</td>\n",
              "      <td>G-085937</td>\n",
              "      <td>G-915873</td>\n",
              "      <td>G-574863</td>\n",
              "      <td>G-712693</td>\n",
              "      <td>G-645913</td>\n",
              "      <td>G-869570</td>\n",
              "      <td>G-985172</td>\n",
              "      <td>G-356809</td>\n",
              "    </tr>\n",
              "    <tr>\n",
              "      <th>9</th>\n",
              "      <td>G-965174</td>\n",
              "      <td>G-749610</td>\n",
              "      <td>G-092586</td>\n",
              "      <td>G-760891</td>\n",
              "      <td>G-062937</td>\n",
              "      <td>G-457321</td>\n",
              "      <td>G-508174</td>\n",
              "      <td>G-874092</td>\n",
              "      <td>G-945271</td>\n",
              "      <td>G-067259</td>\n",
              "    </tr>\n",
              "  </tbody>\n",
              "</table>\n",
              "</div>"
            ],
            "text/plain": [
              "          0         1         2         3         4         5         6  \\\n",
              "0  G-712460  G-704361  G-679340  G-860723  G-854190  G-153762  G-083649   \n",
              "1  G-943017  G-069547  G-134650  G-243569  G-120347  G-763084  G-319764   \n",
              "2  G-796824  G-312794  G-087465  G-126854  G-169207  G-206793  G-302964   \n",
              "3  G-758230  G-148362  G-896217  G-537814  G-963514  G-619507  G-801752   \n",
              "4  G-032765  G-401932  G-285147  G-907684  G-603721  G-190638  G-154892   \n",
              "5  G-618527  G-164503  G-716390  G-375419  G-463792  G-421809  G-748093   \n",
              "6  G-718249  G-297348  G-923017  G-270439  G-671428  G-912053  G-765038   \n",
              "7  G-127453  G-389276  G-543102  G-319064  G-415396  G-958241  G-015928   \n",
              "8  G-918206  G-468791  G-085937  G-915873  G-574863  G-712693  G-645913   \n",
              "9  G-965174  G-749610  G-092586  G-760891  G-062937  G-457321  G-508174   \n",
              "\n",
              "          7         8         9  \n",
              "0  G-075319  G-593482  G-287305  \n",
              "1  G-632401  G-653807  G-632947  \n",
              "2  G-412970  G-273518  G-368029  \n",
              "3  G-194358  G-182503  G-298753  \n",
              "4  G-407586  G-450732  G-794632  \n",
              "5  G-174805  G-346015  G-463590  \n",
              "6  G-791306  G-361279  G-952043  \n",
              "7  G-035817  G-467935  G-609381  \n",
              "8  G-869570  G-985172  G-356809  \n",
              "9  G-874092  G-945271  G-067259  "
            ]
          },
          "metadata": {
            "tags": []
          },
          "execution_count": 88
        }
      ]
    },
    {
      "cell_type": "code",
      "metadata": {
        "id": "576e0ecf"
      },
      "source": [
        "a,b,c = np.unique(codes, return_index= True, return_counts= True)"
      ],
      "id": "576e0ecf",
      "execution_count": null,
      "outputs": []
    },
    {
      "cell_type": "code",
      "metadata": {
        "id": "ecb46058",
        "outputId": "a9f60edf-f131-437b-b14b-d14e271ff902"
      },
      "source": [
        "a[:50]"
      ],
      "id": "ecb46058",
      "execution_count": null,
      "outputs": [
        {
          "output_type": "execute_result",
          "data": {
            "text/plain": [
              "array(['G-012368', 'G-012379', 'G-012385', 'G-012653', 'G-012675',\n",
              "       'G-012685', 'G-012695', 'G-012845', 'G-012849', 'G-012935',\n",
              "       'G-012943', 'G-012968', 'G-012986', 'G-013284', 'G-013294',\n",
              "       'G-013296', 'G-013465', 'G-013546', 'G-013574', 'G-013578',\n",
              "       'G-013598', 'G-013629', 'G-013645', 'G-013726', 'G-013729',\n",
              "       'G-013764', 'G-013768', 'G-013845', 'G-013852', 'G-013857',\n",
              "       'G-013862', 'G-013865', 'G-013985', 'G-014239', 'G-014253',\n",
              "       'G-014259', 'G-014327', 'G-014365', 'G-014368', 'G-014598',\n",
              "       'G-014628', 'G-014698', 'G-014765', 'G-014769', 'G-014786',\n",
              "       'G-014857', 'G-014926', 'G-014986', 'G-015246', 'G-015274'],\n",
              "      dtype='<U8')"
            ]
          },
          "metadata": {
            "tags": []
          },
          "execution_count": 96
        }
      ]
    },
    {
      "cell_type": "code",
      "metadata": {
        "id": "daaf4574",
        "outputId": "9f993293-aced-491e-85f2-b8e08763c720"
      },
      "source": [
        "b[:50]"
      ],
      "id": "daaf4574",
      "execution_count": null,
      "outputs": [
        {
          "output_type": "execute_result",
          "data": {
            "text/plain": [
              "array([5411,  570, 8245, 9755,  443, 6565, 3376, 5905, 2723, 6149, 4258,\n",
              "       5376, 9480, 6754, 6887, 6671, 2262, 3062, 9167, 1113, 7848, 8244,\n",
              "       6756, 9897, 5207, 6252, 7581, 8072, 7540, 4621, 8158, 4824, 4903,\n",
              "       9535, 1326, 4077, 2825, 5825, 6523, 3075, 5819, 7412, 1161,  784,\n",
              "       9836, 2497, 4612, 8699, 7831,  847])"
            ]
          },
          "metadata": {
            "tags": []
          },
          "execution_count": 97
        }
      ]
    },
    {
      "cell_type": "code",
      "metadata": {
        "id": "55db97c5",
        "outputId": "d37cd336-9e06-42ed-8684-e3a290e82449"
      },
      "source": [
        "c[:50]"
      ],
      "id": "55db97c5",
      "execution_count": null,
      "outputs": [
        {
          "output_type": "execute_result",
          "data": {
            "text/plain": [
              "array([1, 1, 1, 1, 1, 1, 1, 1, 1, 1, 1, 1, 1, 1, 1, 1, 1, 1, 1, 1, 1, 1,\n",
              "       1, 1, 1, 1, 1, 1, 1, 1, 2, 1, 1, 1, 1, 1, 1, 1, 1, 1, 1, 1, 1, 1,\n",
              "       1, 1, 1, 1, 1, 2])"
            ]
          },
          "metadata": {
            "tags": []
          },
          "execution_count": 98
        }
      ]
    },
    {
      "cell_type": "code",
      "metadata": {
        "id": "b9c4324e",
        "outputId": "9df74a74-c5dd-4ae6-bf7a-c9bcd3714b02"
      },
      "source": [
        "a[5058]"
      ],
      "id": "b9c4324e",
      "execution_count": null,
      "outputs": [
        {
          "output_type": "execute_result",
          "data": {
            "text/plain": [
              "'G-520367'"
            ]
          },
          "metadata": {
            "tags": []
          },
          "execution_count": 102
        }
      ]
    },
    {
      "cell_type": "code",
      "metadata": {
        "id": "3dddbdb3",
        "outputId": "63da130f-e7c2-4049-af37-932e8f2f962b"
      },
      "source": [
        "np.where(codes =='G-015274' )"
      ],
      "id": "3dddbdb3",
      "execution_count": null,
      "outputs": [
        {
          "output_type": "execute_result",
          "data": {
            "text/plain": [
              "(array([ 84, 235]), array([7, 8]))"
            ]
          },
          "metadata": {
            "tags": []
          },
          "execution_count": 107
        }
      ]
    },
    {
      "cell_type": "code",
      "metadata": {
        "id": "53ae790d",
        "outputId": "c97594a4-2ebf-488d-a9ff-f5055cb25f95"
      },
      "source": [
        "codes[[84, 235],[7, 8]]"
      ],
      "id": "53ae790d",
      "execution_count": null,
      "outputs": [
        {
          "output_type": "execute_result",
          "data": {
            "text/plain": [
              "array(['G-015274', 'G-015274'], dtype='<U8')"
            ]
          },
          "metadata": {
            "tags": []
          },
          "execution_count": 108
        }
      ]
    },
    {
      "cell_type": "code",
      "metadata": {
        "id": "3446cd07",
        "outputId": "dbc3b585-7a36-4e1c-9983-1902b7d676b9"
      },
      "source": [
        "a[49]"
      ],
      "id": "3446cd07",
      "execution_count": null,
      "outputs": [
        {
          "output_type": "execute_result",
          "data": {
            "text/plain": [
              "'G-015274'"
            ]
          },
          "metadata": {
            "tags": []
          },
          "execution_count": 110
        }
      ]
    },
    {
      "cell_type": "code",
      "metadata": {
        "id": "081c0f6e",
        "outputId": "ea0dd789-65cf-4e76-f17d-88f797138947"
      },
      "source": [
        "np.where(c>1)"
      ],
      "id": "081c0f6e",
      "execution_count": null,
      "outputs": [
        {
          "output_type": "execute_result",
          "data": {
            "text/plain": [
              "(array([  30,   49,   96,  126,  155,  164,  188,  207,  241,  243,  245,\n",
              "         275,  295,  296,  316,  350,  372,  425,  479,  484,  498,  528,\n",
              "         539,  544,  590,  597,  701,  756,  777,  889,  910,  983,  994,\n",
              "        1004, 1027, 1045, 1055, 1067, 1084, 1177, 1214, 1215, 1269, 1325,\n",
              "        1326, 1377, 1379, 1381, 1451, 1469, 1478, 1502, 1523, 1538, 1544,\n",
              "        1559, 1581, 1617, 1642, 1645, 1667, 1687, 1691, 1693, 1712, 1718,\n",
              "        1827, 1830, 1831, 1834, 1869, 1919, 1929, 1942, 1945, 1954, 1988,\n",
              "        1993, 1996, 2134, 2138, 2151, 2191, 2202, 2209, 2240, 2250, 2278,\n",
              "        2282, 2290, 2297, 2318, 2334, 2346, 2377, 2379, 2421, 2437, 2474,\n",
              "        2521, 2590, 2644, 2686, 2721, 2798, 2803, 2806, 2822, 2826, 2872,\n",
              "        2891, 2913, 2939, 2941, 2991, 3052, 3069, 3093, 3154, 3223, 3276,\n",
              "        3283, 3288, 3336, 3360, 3375, 3376, 3382, 3412, 3421, 3483, 3496,\n",
              "        3524, 3536, 3593, 3604, 3625, 3632, 3633, 3657, 3705, 3716, 3718,\n",
              "        3729, 3743, 3932, 3969, 3980, 3988, 4004, 4093, 4110, 4121, 4154,\n",
              "        4230, 4234, 4298, 4308, 4356, 4374, 4376, 4386, 4389, 4391, 4398,\n",
              "        4438, 4449, 4471, 4496, 4538, 4544, 4564, 4578, 4609, 4634, 4661,\n",
              "        4681, 4691, 4722, 4735, 4746, 4790, 4853, 4873, 4880, 4896, 4898,\n",
              "        4902, 4926, 4963, 4973, 4985, 5019, 5032, 5039, 5074, 5096, 5138,\n",
              "        5149, 5166, 5221, 5260, 5262, 5278, 5308, 5315, 5342, 5354, 5404,\n",
              "        5492, 5503, 5523, 5625, 5634, 5700, 5716, 5718, 5739, 5766, 5791,\n",
              "        5879, 5898, 5902, 5917, 5959, 6025, 6129, 6145, 6146, 6164, 6169,\n",
              "        6207, 6225, 6286, 6296, 6342, 6344, 6350, 6363, 6372, 6377, 6452,\n",
              "        6461, 6530, 6542, 6687, 6720, 6736, 6752, 6763, 6770, 6778, 6787,\n",
              "        6817, 6819, 6890, 6912, 6963, 7013, 7014, 7015, 7057, 7066, 7118,\n",
              "        7153, 7202, 7208, 7221, 7248, 7307, 7316, 7323, 7431, 7435, 7498,\n",
              "        7506, 7548, 7557, 7571, 7581, 7592, 7612, 7676, 7684, 7690, 7706,\n",
              "        7709, 7792, 7799, 7807, 7809, 7818, 7828, 7844, 7869, 7899, 7913,\n",
              "        7917, 7955, 7980, 7982, 8033, 8055, 8067, 8079, 8168, 8202, 8207,\n",
              "        8232, 8236, 8261, 8273, 8281, 8343, 8345, 8347, 8362, 8384, 8431,\n",
              "        8442, 8520, 8535, 8552, 8618, 8713, 8749, 8752, 8753, 8781, 8788,\n",
              "        8806, 8808, 8875, 8934, 8974, 8978, 8995, 9008, 9024, 9063, 9065,\n",
              "        9163, 9192, 9254, 9276, 9338, 9361, 9389, 9397, 9399, 9412, 9453,\n",
              "        9475, 9510, 9532, 9544, 9583, 9596, 9628]),)"
            ]
          },
          "metadata": {
            "tags": []
          },
          "execution_count": 111
        }
      ]
    },
    {
      "cell_type": "code",
      "metadata": {
        "id": "fdedc7c7",
        "outputId": "73a2e96e-6c3e-48e6-fe6e-0716de84f70c"
      },
      "source": [
        "np.tile([3],5)"
      ],
      "id": "fdedc7c7",
      "execution_count": null,
      "outputs": [
        {
          "output_type": "execute_result",
          "data": {
            "text/plain": [
              "array([3, 3, 3, 3, 3])"
            ]
          },
          "metadata": {
            "tags": []
          },
          "execution_count": 112
        }
      ]
    },
    {
      "cell_type": "code",
      "metadata": {
        "id": "8753f87d",
        "outputId": "19be984a-9279-464b-e427-be088edb8506"
      },
      "source": [
        "np.tile(np.array([[0,1],[1,0]]),(4,4))"
      ],
      "id": "8753f87d",
      "execution_count": null,
      "outputs": [
        {
          "output_type": "execute_result",
          "data": {
            "text/plain": [
              "array([[0, 1, 0, 1, 0, 1, 0, 1],\n",
              "       [1, 0, 1, 0, 1, 0, 1, 0],\n",
              "       [0, 1, 0, 1, 0, 1, 0, 1],\n",
              "       [1, 0, 1, 0, 1, 0, 1, 0],\n",
              "       [0, 1, 0, 1, 0, 1, 0, 1],\n",
              "       [1, 0, 1, 0, 1, 0, 1, 0],\n",
              "       [0, 1, 0, 1, 0, 1, 0, 1],\n",
              "       [1, 0, 1, 0, 1, 0, 1, 0]])"
            ]
          },
          "metadata": {
            "tags": []
          },
          "execution_count": 118
        }
      ]
    },
    {
      "cell_type": "code",
      "metadata": {
        "id": "9b4f927d",
        "outputId": "0d881a0b-c654-4994-df75-45cb135ff8ef"
      },
      "source": [
        "a = np.arange(9)\n",
        "a[(a<6) & (a>2)] *= -1\n",
        "a"
      ],
      "id": "9b4f927d",
      "execution_count": null,
      "outputs": [
        {
          "output_type": "execute_result",
          "data": {
            "text/plain": [
              "array([ 0,  1,  2, -3, -4, -5,  6,  7,  8])"
            ]
          },
          "metadata": {
            "tags": []
          },
          "execution_count": 122
        }
      ]
    },
    {
      "cell_type": "code",
      "metadata": {
        "id": "43bc2e6d",
        "outputId": "5380ccde-cf1e-4b7c-f53d-9b98161e2fe6"
      },
      "source": [
        "a[3:6]"
      ],
      "id": "43bc2e6d",
      "execution_count": null,
      "outputs": [
        {
          "output_type": "execute_result",
          "data": {
            "text/plain": [
              "array([-3, -4, -5])"
            ]
          },
          "metadata": {
            "tags": []
          },
          "execution_count": 124
        }
      ]
    },
    {
      "cell_type": "code",
      "metadata": {
        "id": "ab49fa64"
      },
      "source": [
        "a[-2:]*= -2"
      ],
      "id": "ab49fa64",
      "execution_count": null,
      "outputs": []
    },
    {
      "cell_type": "code",
      "metadata": {
        "id": "7fb45306",
        "outputId": "4a078f00-67d1-4182-ef55-a826ba5f0420"
      },
      "source": [
        "a"
      ],
      "id": "7fb45306",
      "execution_count": null,
      "outputs": [
        {
          "output_type": "execute_result",
          "data": {
            "text/plain": [
              "array([  0,   1,   2,  -3,  -4,  -5,   6, -14, -16])"
            ]
          },
          "metadata": {
            "tags": []
          },
          "execution_count": 127
        }
      ]
    },
    {
      "cell_type": "code",
      "metadata": {
        "id": "d1e8ecfc",
        "outputId": "e3b38d73-61eb-4735-bf19-20be4ea0a7ea"
      },
      "source": [
        "a[a>3]"
      ],
      "id": "d1e8ecfc",
      "execution_count": null,
      "outputs": [
        {
          "output_type": "execute_result",
          "data": {
            "text/plain": [
              "array([6])"
            ]
          },
          "metadata": {
            "tags": []
          },
          "execution_count": 130
        }
      ]
    },
    {
      "cell_type": "code",
      "metadata": {
        "id": "3549b5ac",
        "outputId": "d8235ab7-363f-4f40-890f-8cd1621dbed7"
      },
      "source": [
        "np.tile([1, 2], 5)"
      ],
      "id": "3549b5ac",
      "execution_count": null,
      "outputs": [
        {
          "output_type": "execute_result",
          "data": {
            "text/plain": [
              "array([1, 2, 1, 2, 1, 2, 1, 2, 1, 2])"
            ]
          },
          "metadata": {
            "tags": []
          },
          "execution_count": 131
        }
      ]
    },
    {
      "cell_type": "code",
      "metadata": {
        "id": "3bb8fbcf",
        "outputId": "4ad55220-2521-4df5-a2fc-91b88e4309d6"
      },
      "source": [
        "np.tile(3, 5)"
      ],
      "id": "3bb8fbcf",
      "execution_count": null,
      "outputs": [
        {
          "output_type": "execute_result",
          "data": {
            "text/plain": [
              "array([3, 3, 3, 3, 3])"
            ]
          },
          "metadata": {
            "tags": []
          },
          "execution_count": 132
        }
      ]
    }
  ]
}