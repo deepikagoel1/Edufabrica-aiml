{
  "nbformat": 4,
  "nbformat_minor": 5,
  "metadata": {
    "kernelspec": {
      "display_name": "Python 3",
      "language": "python",
      "name": "python3"
    },
    "language_info": {
      "codemirror_mode": {
        "name": "ipython",
        "version": 3
      },
      "file_extension": ".py",
      "mimetype": "text/x-python",
      "name": "python",
      "nbconvert_exporter": "python",
      "pygments_lexer": "ipython3",
      "version": "3.8.8"
    },
    "colab": {
      "name": "29 June 2021.ipynb",
      "provenance": [],
      "include_colab_link": true
    }
  },
  "cells": [
    {
      "cell_type": "markdown",
      "metadata": {
        "id": "view-in-github",
        "colab_type": "text"
      },
      "source": [
        "<a href=\"https://colab.research.google.com/github/deepikagoel1/Edufabrica-aiml/blob/main/29_June_2021.ipynb\" target=\"_parent\"><img src=\"https://colab.research.google.com/assets/colab-badge.svg\" alt=\"Open In Colab\"/></a>"
      ]
    },
    {
      "cell_type": "code",
      "metadata": {
        "id": "3c2a66e8"
      },
      "source": [
        "import pandas as pd\n",
        "import numpy as np"
      ],
      "id": "3c2a66e8",
      "execution_count": null,
      "outputs": []
    },
    {
      "cell_type": "code",
      "metadata": {
        "id": "69bd4e2d"
      },
      "source": [
        "df = pd.read_csv('IPL 2008_17.csv')"
      ],
      "id": "69bd4e2d",
      "execution_count": null,
      "outputs": []
    },
    {
      "cell_type": "code",
      "metadata": {
        "id": "79fb1a0e"
      },
      "source": [
        "del df['Unnamed: 17']"
      ],
      "id": "79fb1a0e",
      "execution_count": null,
      "outputs": []
    },
    {
      "cell_type": "code",
      "metadata": {
        "id": "8f9453b4",
        "outputId": "4a9b8df0-64f5-4597-ccf7-ab4fafef3fd2"
      },
      "source": [
        "df.head(1)"
      ],
      "id": "8f9453b4",
      "execution_count": null,
      "outputs": [
        {
          "output_type": "execute_result",
          "data": {
            "text/html": [
              "<div>\n",
              "<style scoped>\n",
              "    .dataframe tbody tr th:only-of-type {\n",
              "        vertical-align: middle;\n",
              "    }\n",
              "\n",
              "    .dataframe tbody tr th {\n",
              "        vertical-align: top;\n",
              "    }\n",
              "\n",
              "    .dataframe thead th {\n",
              "        text-align: right;\n",
              "    }\n",
              "</style>\n",
              "<table border=\"1\" class=\"dataframe\">\n",
              "  <thead>\n",
              "    <tr style=\"text-align: right;\">\n",
              "      <th></th>\n",
              "      <th>sno</th>\n",
              "      <th>season</th>\n",
              "      <th>city</th>\n",
              "      <th>date</th>\n",
              "      <th>team1</th>\n",
              "      <th>team2</th>\n",
              "      <th>toss_winner</th>\n",
              "      <th>toss_decision</th>\n",
              "      <th>result</th>\n",
              "      <th>dl_applied</th>\n",
              "      <th>winner</th>\n",
              "      <th>win_by_runs</th>\n",
              "      <th>win_by_wickets</th>\n",
              "      <th>Man_of_Match</th>\n",
              "      <th>venue</th>\n",
              "      <th>F_umpire</th>\n",
              "      <th>S_Umpire</th>\n",
              "    </tr>\n",
              "  </thead>\n",
              "  <tbody>\n",
              "    <tr>\n",
              "      <th>0</th>\n",
              "      <td>1</td>\n",
              "      <td>2008</td>\n",
              "      <td>Bangalore</td>\n",
              "      <td>18/04/08</td>\n",
              "      <td>KKR</td>\n",
              "      <td>RCB</td>\n",
              "      <td>RCB</td>\n",
              "      <td>field</td>\n",
              "      <td>normal</td>\n",
              "      <td>N</td>\n",
              "      <td>KKR</td>\n",
              "      <td>140</td>\n",
              "      <td>0</td>\n",
              "      <td>BB McCullum</td>\n",
              "      <td>M Chinnaswamy Stadium</td>\n",
              "      <td>Asad Rauf</td>\n",
              "      <td>RE Koertzen</td>\n",
              "    </tr>\n",
              "  </tbody>\n",
              "</table>\n",
              "</div>"
            ],
            "text/plain": [
              "   sno  season       city      date team1 team2 toss_winner toss_decision  \\\n",
              "0    1    2008  Bangalore  18/04/08   KKR   RCB         RCB         field   \n",
              "\n",
              "   result dl_applied winner  win_by_runs  win_by_wickets Man_of_Match  \\\n",
              "0  normal          N    KKR          140               0  BB McCullum   \n",
              "\n",
              "                   venue   F_umpire     S_Umpire  \n",
              "0  M Chinnaswamy Stadium  Asad Rauf  RE Koertzen  "
            ]
          },
          "metadata": {
            "tags": []
          },
          "execution_count": 59
        }
      ]
    },
    {
      "cell_type": "code",
      "metadata": {
        "id": "90893194",
        "outputId": "1e466a4e-90dc-45ee-f6e7-5e2b75fa1f79"
      },
      "source": [
        "ipl = df[['season','team1','team2','toss_winner','toss_decision','winner','win_by_wickets','win_by_runs']]\n",
        "ipl.head(1)"
      ],
      "id": "90893194",
      "execution_count": null,
      "outputs": [
        {
          "output_type": "execute_result",
          "data": {
            "text/html": [
              "<div>\n",
              "<style scoped>\n",
              "    .dataframe tbody tr th:only-of-type {\n",
              "        vertical-align: middle;\n",
              "    }\n",
              "\n",
              "    .dataframe tbody tr th {\n",
              "        vertical-align: top;\n",
              "    }\n",
              "\n",
              "    .dataframe thead th {\n",
              "        text-align: right;\n",
              "    }\n",
              "</style>\n",
              "<table border=\"1\" class=\"dataframe\">\n",
              "  <thead>\n",
              "    <tr style=\"text-align: right;\">\n",
              "      <th></th>\n",
              "      <th>season</th>\n",
              "      <th>team1</th>\n",
              "      <th>team2</th>\n",
              "      <th>toss_winner</th>\n",
              "      <th>toss_decision</th>\n",
              "      <th>winner</th>\n",
              "      <th>win_by_wickets</th>\n",
              "      <th>win_by_runs</th>\n",
              "    </tr>\n",
              "  </thead>\n",
              "  <tbody>\n",
              "    <tr>\n",
              "      <th>0</th>\n",
              "      <td>2008</td>\n",
              "      <td>KKR</td>\n",
              "      <td>RCB</td>\n",
              "      <td>RCB</td>\n",
              "      <td>field</td>\n",
              "      <td>KKR</td>\n",
              "      <td>0</td>\n",
              "      <td>140</td>\n",
              "    </tr>\n",
              "  </tbody>\n",
              "</table>\n",
              "</div>"
            ],
            "text/plain": [
              "   season team1 team2 toss_winner toss_decision winner  win_by_wickets  \\\n",
              "0    2008   KKR   RCB         RCB         field    KKR               0   \n",
              "\n",
              "   win_by_runs  \n",
              "0          140  "
            ]
          },
          "metadata": {
            "tags": []
          },
          "execution_count": 60
        }
      ]
    },
    {
      "cell_type": "markdown",
      "metadata": {
        "id": "a6e843da"
      },
      "source": [
        "### no of matches played in every season"
      ],
      "id": "a6e843da"
    },
    {
      "cell_type": "code",
      "metadata": {
        "id": "06eb9739",
        "outputId": "95438be3-b064-4842-f3bc-0eef28921c9b"
      },
      "source": [
        "season_counts = ipl.season.value_counts().tolist()\n",
        "season        = ipl.season.unique().tolist()\n",
        "dictionary    = dict(zip(season, season_counts))\n",
        "for values in dictionary:\n",
        "    print(f'No of matches played in Season {values} is : {dictionary[values]}')"
      ],
      "id": "06eb9739",
      "execution_count": null,
      "outputs": [
        {
          "output_type": "stream",
          "text": [
            "No of matches played in Season 2008 is : 76\n",
            "No of matches played in Season 2009 is : 74\n",
            "No of matches played in Season 2010 is : 73\n",
            "No of matches played in Season 2011 is : 60\n",
            "No of matches played in Season 2012 is : 60\n",
            "No of matches played in Season 2013 is : 60\n",
            "No of matches played in Season 2014 is : 59\n",
            "No of matches played in Season 2015 is : 59\n",
            "No of matches played in Season 2016 is : 58\n",
            "No of matches played in Season 2017 is : 57\n"
          ],
          "name": "stdout"
        }
      ]
    },
    {
      "cell_type": "markdown",
      "metadata": {
        "id": "79a258ed"
      },
      "source": [
        "### Evaluating the Winning Percentage of MI based on factors :\n",
        "\n",
        "i.   When MI is winning the toss <br>\n",
        "ii.  When MI is Batting <br>\n",
        "iii. When MI is fileding <br>\n",
        "iv.  When MI is playing with other teams <br>"
      ],
      "id": "79a258ed"
    },
    {
      "cell_type": "markdown",
      "metadata": {
        "id": "2c1cf34f"
      },
      "source": [
        "`Evaluating pieces`"
      ],
      "id": "2c1cf34f"
    },
    {
      "cell_type": "code",
      "metadata": {
        "id": "5a6e4e54"
      },
      "source": [
        "Teams_playing = ipl.team1.unique().tolist()\n",
        "mi_matches = ipl[(ipl.team1 == 'MI') |(ipl.team2 == 'MI') ]\n",
        "mi_toss_win = mi_matches[(mi_matches.toss_winner == 'MI') & (mi_matches.winner == 'MI')]\n",
        "Total_MI_won = mi_matches[(mi_matches.winner == 'MI')].shape[0]\n",
        "TotalMItoss_win = mi_matches[mi_matches.toss_winner == 'MI'].shape[0]\n",
        "TotalMatches_MI = mi_matches.shape[0]\n",
        "Totaltoss_winning_MI = mi_toss_win.shape[0]"
      ],
      "id": "5a6e4e54",
      "execution_count": null,
      "outputs": []
    },
    {
      "cell_type": "markdown",
      "metadata": {
        "id": "d75d74e6"
      },
      "source": [
        "`i. Win Percentage when MI win the toss`"
      ],
      "id": "d75d74e6"
    },
    {
      "cell_type": "code",
      "metadata": {
        "id": "266c876a",
        "outputId": "c713f831-2593-42c2-c429-6f458b4278f6"
      },
      "source": [
        "mi_toss_win.shape"
      ],
      "id": "266c876a",
      "execution_count": null,
      "outputs": [
        {
          "output_type": "execute_result",
          "data": {
            "text/plain": [
              "(48, 8)"
            ]
          },
          "metadata": {
            "tags": []
          },
          "execution_count": 15
        }
      ]
    },
    {
      "cell_type": "code",
      "metadata": {
        "id": "505fbf39",
        "outputId": "d712ca30-4abc-4180-f476-361bd452ec01"
      },
      "source": [
        "print('Total Matches MI played: ', TotalMatches_MI)\n",
        "print('Total Matches MI won   : ', Total_MI_won )\n",
        "print('Total Toss MI Won      : ', TotalMItoss_win)\n",
        "print('Total Matches MI WON along Toss Win : ', Totaltoss_winning_MI)"
      ],
      "id": "505fbf39",
      "execution_count": null,
      "outputs": [
        {
          "output_type": "stream",
          "text": [
            "Total Matches MI played:  157\n",
            "Total Matches MI won   :  92\n",
            "Total Toss MI Won      :  85\n",
            "Total Matches MI WON along Toss Win :  48\n"
          ],
          "name": "stdout"
        }
      ]
    },
    {
      "cell_type": "code",
      "metadata": {
        "id": "4d6511c7",
        "outputId": "bac266ff-e26d-497d-e1cb-edf1df68ac36"
      },
      "source": [
        "win_percentage_MI = round((Totaltoss_winning_MI / TotalMItoss_win)*100, 2)\n",
        "print('Chances of winning of MI when MI wins the toss is : ', win_percentage_MI,'%')"
      ],
      "id": "4d6511c7",
      "execution_count": null,
      "outputs": [
        {
          "output_type": "stream",
          "text": [
            "Chances of winning of MI when MI wins the toss is :  56.47 %\n"
          ],
          "name": "stdout"
        }
      ]
    },
    {
      "cell_type": "markdown",
      "metadata": {
        "id": "c8c68bd9"
      },
      "source": [
        "`ii. when MI is batting`"
      ],
      "id": "c8c68bd9"
    },
    {
      "cell_type": "code",
      "metadata": {
        "id": "d6443f6b"
      },
      "source": [
        "Toss_decision= mi_matches[mi_matches['toss_decision'] == 'bat']\n",
        "MI_batting_count = Toss_decision.shape[0]\n",
        "winning_with_batting = Toss_decision[Toss_decision['winner'] == 'MI']\n",
        "win_with_bat_count = winning_with_batting.shape[0]"
      ],
      "id": "d6443f6b",
      "execution_count": null,
      "outputs": []
    },
    {
      "cell_type": "code",
      "metadata": {
        "id": "a0279251",
        "outputId": "1e701fb9-5b67-4216-8b89-6fee5d227c96"
      },
      "source": [
        "print('Total Matches MI played: ', TotalMatches_MI)\n",
        "print('Total Matches MI won   : ', Total_MI_won )\n",
        "print('Total MI Batting Count : ', MI_batting_count)\n",
        "print('Total Matches MI WON while Batting : ', win_with_bat_count)\n",
        "print('Total Lost Matches while Batting : ', MI_batting_count - win_with_bat_count)"
      ],
      "id": "a0279251",
      "execution_count": null,
      "outputs": [
        {
          "output_type": "stream",
          "text": [
            "Total Matches MI played:  157\n",
            "Total Matches MI won   :  92\n",
            "Total MI Batting Count :  70\n",
            "Total Matches MI WON while Batting :  41\n",
            "Total Lost Matches while Batting :  29\n"
          ],
          "name": "stdout"
        }
      ]
    },
    {
      "cell_type": "code",
      "metadata": {
        "id": "8bf5439f",
        "outputId": "474e6fbe-53b6-4dfe-912c-a03880f9e6cd"
      },
      "source": [
        "win_percentage_MI = round((win_with_bat_count / MI_batting_count)*100, 2)\n",
        "print('Chances of winning of MI when MI choose to bat is : ', win_percentage_MI,'%')"
      ],
      "id": "8bf5439f",
      "execution_count": null,
      "outputs": [
        {
          "output_type": "stream",
          "text": [
            "Chances of winning of MI when MI choose to bat is :  58.57 %\n"
          ],
          "name": "stdout"
        }
      ]
    },
    {
      "cell_type": "markdown",
      "metadata": {
        "id": "c466aaba"
      },
      "source": [
        "`iii. When MI is fielding`"
      ],
      "id": "c466aaba"
    },
    {
      "cell_type": "code",
      "metadata": {
        "id": "f60f746f"
      },
      "source": [
        "Toss_decision = mi_matches[mi_matches['toss_decision'] == 'field']\n",
        "MI_fielding_count = Toss_decision.shape[0]\n",
        "winning_while_field = Toss_decision[Toss_decision['winner'] == 'MI']\n",
        "win_while_field_count = winning_while_field.shape[0]"
      ],
      "id": "f60f746f",
      "execution_count": null,
      "outputs": []
    },
    {
      "cell_type": "code",
      "metadata": {
        "id": "140a4465",
        "outputId": "f9f9a7f9-5af5-465d-8fd8-3b33df230b6c"
      },
      "source": [
        "print('Total Matches MI played: ', TotalMatches_MI)\n",
        "print('Total Matches MI won   : ', Total_MI_won )\n",
        "print('Total MI Fielding Count : ', MI_fielding_count)\n",
        "print('Total Matches MI WON while Fielding : ', win_while_field_count)\n",
        "print('Total Lost Matches while Fielding : ', MI_fielding_count - win_while_field_count)"
      ],
      "id": "140a4465",
      "execution_count": null,
      "outputs": [
        {
          "output_type": "stream",
          "text": [
            "Total Matches MI played:  157\n",
            "Total Matches MI won   :  92\n",
            "Total MI Fielding Count :  87\n",
            "Total Matches MI WON while Fielding :  51\n",
            "Total Lost Matches while Fielding :  36\n"
          ],
          "name": "stdout"
        }
      ]
    },
    {
      "cell_type": "code",
      "metadata": {
        "id": "339839f6",
        "outputId": "7a599dc2-9dfb-41fe-8277-ee238bfe9b93"
      },
      "source": [
        "win_percentage_MI = round((win_while_field_count / MI_fielding_count)*100, 2)\n",
        "print('Chances of winning of MI when MI choose to bat is : ', win_percentage_MI,'%')"
      ],
      "id": "339839f6",
      "execution_count": null,
      "outputs": [
        {
          "output_type": "stream",
          "text": [
            "Chances of winning of MI when MI choose to bat is :  58.62 %\n"
          ],
          "name": "stdout"
        }
      ]
    },
    {
      "cell_type": "code",
      "metadata": {
        "id": "8684969a",
        "outputId": "d24b08c8-fbbc-43b7-946a-424b796a2b34"
      },
      "source": [
        "mi_matches['winner'].value_counts()[1:]"
      ],
      "id": "8684969a",
      "execution_count": null,
      "outputs": [
        {
          "output_type": "execute_result",
          "data": {
            "text/plain": [
              "KXIP    10\n",
              "CSK     10\n",
              "DD       9\n",
              "RCB      8\n",
              "RR       6\n",
              "SH       5\n",
              "KKR      5\n",
              "RPS      4\n",
              "DC       4\n",
              "GL       2\n",
              "KTK      1\n",
              "PW       1\n",
              "Name: winner, dtype: int64"
            ]
          },
          "metadata": {
            "tags": []
          },
          "execution_count": 67
        }
      ]
    },
    {
      "cell_type": "code",
      "metadata": {
        "id": "842bae95",
        "outputId": "2fa2b85d-6026-42b3-8270-e999879a21dc"
      },
      "source": [
        "total_teams_matches = mi_matches['team1'].value_counts() +  mi_matches['team2'].value_counts()\n",
        "total_teams_matches.fillna(1.0, inplace= True)\n",
        "total_teams_matches.sort_values()[:-1]"
      ],
      "id": "842bae95",
      "execution_count": null,
      "outputs": [
        {
          "output_type": "execute_result",
          "data": {
            "text/plain": [
              "KTK      1.0\n",
              "GL       4.0\n",
              "PW       6.0\n",
              "RPS      6.0\n",
              "DC      10.0\n",
              "SH      10.0\n",
              "RR      16.0\n",
              "DD      20.0\n",
              "KXIP    20.0\n",
              "KKR     21.0\n",
              "RCB     21.0\n",
              "CSK     22.0\n",
              "dtype: float64"
            ]
          },
          "metadata": {
            "tags": []
          },
          "execution_count": 81
        }
      ]
    },
    {
      "cell_type": "code",
      "metadata": {
        "id": "463f3367",
        "outputId": "1b29af2a-a954-4325-a5cf-44f53d535695"
      },
      "source": [
        "mi_matches"
      ],
      "id": "463f3367",
      "execution_count": null,
      "outputs": [
        {
          "output_type": "execute_result",
          "data": {
            "text/html": [
              "<div>\n",
              "<style scoped>\n",
              "    .dataframe tbody tr th:only-of-type {\n",
              "        vertical-align: middle;\n",
              "    }\n",
              "\n",
              "    .dataframe tbody tr th {\n",
              "        vertical-align: top;\n",
              "    }\n",
              "\n",
              "    .dataframe thead th {\n",
              "        text-align: right;\n",
              "    }\n",
              "</style>\n",
              "<table border=\"1\" class=\"dataframe\">\n",
              "  <thead>\n",
              "    <tr style=\"text-align: right;\">\n",
              "      <th></th>\n",
              "      <th>season</th>\n",
              "      <th>team1</th>\n",
              "      <th>team2</th>\n",
              "      <th>toss_winner</th>\n",
              "      <th>toss_decision</th>\n",
              "      <th>winner</th>\n",
              "      <th>win_by_wickets</th>\n",
              "      <th>win_by_runs</th>\n",
              "    </tr>\n",
              "  </thead>\n",
              "  <tbody>\n",
              "    <tr>\n",
              "      <th>3</th>\n",
              "      <td>2008</td>\n",
              "      <td>MI</td>\n",
              "      <td>RCB</td>\n",
              "      <td>MI</td>\n",
              "      <td>bat</td>\n",
              "      <td>RCB</td>\n",
              "      <td>5</td>\n",
              "      <td>0</td>\n",
              "    </tr>\n",
              "    <tr>\n",
              "      <th>7</th>\n",
              "      <td>2008</td>\n",
              "      <td>CSK</td>\n",
              "      <td>MI</td>\n",
              "      <td>MI</td>\n",
              "      <td>field</td>\n",
              "      <td>CSK</td>\n",
              "      <td>0</td>\n",
              "      <td>6</td>\n",
              "    </tr>\n",
              "    <tr>\n",
              "      <th>9</th>\n",
              "      <td>2008</td>\n",
              "      <td>KXIP</td>\n",
              "      <td>MI</td>\n",
              "      <td>MI</td>\n",
              "      <td>field</td>\n",
              "      <td>KXIP</td>\n",
              "      <td>0</td>\n",
              "      <td>66</td>\n",
              "    </tr>\n",
              "    <tr>\n",
              "      <th>12</th>\n",
              "      <td>2008</td>\n",
              "      <td>MI</td>\n",
              "      <td>DC</td>\n",
              "      <td>DC</td>\n",
              "      <td>field</td>\n",
              "      <td>DC</td>\n",
              "      <td>10</td>\n",
              "      <td>0</td>\n",
              "    </tr>\n",
              "    <tr>\n",
              "      <th>15</th>\n",
              "      <td>2008</td>\n",
              "      <td>KKR</td>\n",
              "      <td>MI</td>\n",
              "      <td>KKR</td>\n",
              "      <td>bat</td>\n",
              "      <td>MI</td>\n",
              "      <td>7</td>\n",
              "      <td>0</td>\n",
              "    </tr>\n",
              "    <tr>\n",
              "      <th>...</th>\n",
              "      <td>...</td>\n",
              "      <td>...</td>\n",
              "      <td>...</td>\n",
              "      <td>...</td>\n",
              "      <td>...</td>\n",
              "      <td>...</td>\n",
              "      <td>...</td>\n",
              "      <td>...</td>\n",
              "    </tr>\n",
              "    <tr>\n",
              "      <th>626</th>\n",
              "      <td>2017</td>\n",
              "      <td>KXIP</td>\n",
              "      <td>MI</td>\n",
              "      <td>MI</td>\n",
              "      <td>field</td>\n",
              "      <td>KXIP</td>\n",
              "      <td>0</td>\n",
              "      <td>7</td>\n",
              "    </tr>\n",
              "    <tr>\n",
              "      <th>629</th>\n",
              "      <td>2017</td>\n",
              "      <td>MI</td>\n",
              "      <td>KKR</td>\n",
              "      <td>KKR</td>\n",
              "      <td>field</td>\n",
              "      <td>MI</td>\n",
              "      <td>0</td>\n",
              "      <td>9</td>\n",
              "    </tr>\n",
              "    <tr>\n",
              "      <th>632</th>\n",
              "      <td>2017</td>\n",
              "      <td>RPS</td>\n",
              "      <td>MI</td>\n",
              "      <td>MI</td>\n",
              "      <td>field</td>\n",
              "      <td>RPS</td>\n",
              "      <td>0</td>\n",
              "      <td>20</td>\n",
              "    </tr>\n",
              "    <tr>\n",
              "      <th>634</th>\n",
              "      <td>2017</td>\n",
              "      <td>KKR</td>\n",
              "      <td>MI</td>\n",
              "      <td>MI</td>\n",
              "      <td>field</td>\n",
              "      <td>MI</td>\n",
              "      <td>6</td>\n",
              "      <td>0</td>\n",
              "    </tr>\n",
              "    <tr>\n",
              "      <th>635</th>\n",
              "      <td>2017</td>\n",
              "      <td>MI</td>\n",
              "      <td>RPS</td>\n",
              "      <td>MI</td>\n",
              "      <td>bat</td>\n",
              "      <td>MI</td>\n",
              "      <td>0</td>\n",
              "      <td>1</td>\n",
              "    </tr>\n",
              "  </tbody>\n",
              "</table>\n",
              "<p>157 rows × 8 columns</p>\n",
              "</div>"
            ],
            "text/plain": [
              "     season team1 team2 toss_winner toss_decision winner  win_by_wickets  \\\n",
              "3      2008    MI   RCB          MI           bat    RCB               5   \n",
              "7      2008   CSK    MI          MI         field    CSK               0   \n",
              "9      2008  KXIP    MI          MI         field   KXIP               0   \n",
              "12     2008    MI    DC          DC         field     DC              10   \n",
              "15     2008   KKR    MI         KKR           bat     MI               7   \n",
              "..      ...   ...   ...         ...           ...    ...             ...   \n",
              "626    2017  KXIP    MI          MI         field   KXIP               0   \n",
              "629    2017    MI   KKR         KKR         field     MI               0   \n",
              "632    2017   RPS    MI          MI         field    RPS               0   \n",
              "634    2017   KKR    MI          MI         field     MI               6   \n",
              "635    2017    MI   RPS          MI           bat     MI               0   \n",
              "\n",
              "     win_by_runs  \n",
              "3              0  \n",
              "7              6  \n",
              "9             66  \n",
              "12             0  \n",
              "15             0  \n",
              "..           ...  \n",
              "626            7  \n",
              "629            9  \n",
              "632           20  \n",
              "634            0  \n",
              "635            1  \n",
              "\n",
              "[157 rows x 8 columns]"
            ]
          },
          "metadata": {
            "tags": []
          },
          "execution_count": 68
        }
      ]
    },
    {
      "cell_type": "code",
      "metadata": {
        "id": "1eb6a379",
        "outputId": "f8929b3e-33b1-4059-a2de-d5829b570f74"
      },
      "source": [
        "mi_matches[mi_matches.team1 != 'MI']['team1'].value_counts()"
      ],
      "id": "1eb6a379",
      "execution_count": null,
      "outputs": [
        {
          "output_type": "execute_result",
          "data": {
            "text/plain": [
              "KXIP    13\n",
              "KKR     12\n",
              "RCB     10\n",
              "CSK     10\n",
              "SH       6\n",
              "RR       6\n",
              "DC       5\n",
              "DD       5\n",
              "RPS      3\n",
              "PW       3\n",
              "GL       2\n",
              "Name: team1, dtype: int64"
            ]
          },
          "metadata": {
            "tags": []
          },
          "execution_count": 86
        }
      ]
    },
    {
      "cell_type": "code",
      "metadata": {
        "id": "04098a10"
      },
      "source": [
        ""
      ],
      "id": "04098a10",
      "execution_count": null,
      "outputs": []
    }
  ]
}