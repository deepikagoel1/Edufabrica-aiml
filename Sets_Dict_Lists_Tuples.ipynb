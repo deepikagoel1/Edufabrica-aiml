{
  "nbformat": 4,
  "nbformat_minor": 5,
  "metadata": {
    "kernelspec": {
      "display_name": "Python 3",
      "language": "python",
      "name": "python3"
    },
    "language_info": {
      "codemirror_mode": {
        "name": "ipython",
        "version": 3
      },
      "file_extension": ".py",
      "mimetype": "text/x-python",
      "name": "python",
      "nbconvert_exporter": "python",
      "pygments_lexer": "ipython3",
      "version": "3.8.8"
    },
    "colab": {
      "name": "Sets_Dict_Lists_Tuples.ipynb",
      "provenance": [],
      "include_colab_link": true
    }
  },
  "cells": [
    {
      "cell_type": "markdown",
      "metadata": {
        "id": "view-in-github",
        "colab_type": "text"
      },
      "source": [
        "<a href=\"https://colab.research.google.com/github/deepikagoel1/Edufabrica-aiml/blob/main/Sets_Dict_Lists_Tuples.ipynb\" target=\"_parent\"><img src=\"https://colab.research.google.com/assets/colab-badge.svg\" alt=\"Open In Colab\"/></a>"
      ]
    },
    {
      "cell_type": "markdown",
      "metadata": {
        "id": "ccf29557"
      },
      "source": [
        "# <center> Assignment 2"
      ],
      "id": "ccf29557"
    },
    {
      "cell_type": "markdown",
      "metadata": {
        "id": "91fc148f"
      },
      "source": [
        "**What does a Dictionary value with a key 'foo' and a value 42 look like ?**"
      ],
      "id": "91fc148f"
    },
    {
      "cell_type": "code",
      "metadata": {
        "id": "3e6ed99a",
        "outputId": "ed9e82b4-9a78-4422-fb7f-00d23a277441",
        "colab": {
          "base_uri": "https://localhost:8080/"
        }
      },
      "source": [
        "a = {'foo' : 42}\n",
        "a"
      ],
      "id": "3e6ed99a",
      "execution_count": 1,
      "outputs": [
        {
          "output_type": "execute_result",
          "data": {
            "text/plain": [
              "{'foo': 42}"
            ]
          },
          "metadata": {
            "tags": []
          },
          "execution_count": 1
        }
      ]
    },
    {
      "cell_type": "markdown",
      "metadata": {
        "id": "0cd5e301"
      },
      "source": [
        "**Below are two given lists convert it in dictionary**"
      ],
      "id": "0cd5e301"
    },
    {
      "cell_type": "code",
      "metadata": {
        "id": "ad494607"
      },
      "source": [
        "Keys = ['Ten','Twenty','Thirty']\n",
        "Values = [10, 20, 30]"
      ],
      "id": "ad494607",
      "execution_count": 37,
      "outputs": []
    },
    {
      "cell_type": "code",
      "metadata": {
        "id": "lh3XW7uEJvcV",
        "outputId": "bc2f657a-5670-4f0a-ef7c-084eda7248e7",
        "colab": {
          "base_uri": "https://localhost:8080/"
        }
      },
      "source": [
        "dict1 = {'Ten': 10, 'Twenty': 20, 'Thirty': 30}\n",
        "dict1"
      ],
      "id": "lh3XW7uEJvcV",
      "execution_count": 41,
      "outputs": [
        {
          "output_type": "execute_result",
          "data": {
            "text/plain": [
              "{'Ten': 10, 'Thirty': 30, 'Twenty': 20}"
            ]
          },
          "metadata": {
            "tags": []
          },
          "execution_count": 41
        }
      ]
    },
    {
      "cell_type": "markdown",
      "metadata": {
        "id": "27525b80"
      },
      "source": [
        "**Check if a value 200 exists in a dictionary**"
      ],
      "id": "27525b80"
    },
    {
      "cell_type": "code",
      "metadata": {
        "id": "6dd82877"
      },
      "source": [
        "sampleDict = {'a': 100, 'b': 200, 'c': 300}"
      ],
      "id": "6dd82877",
      "execution_count": 19,
      "outputs": []
    },
    {
      "cell_type": "code",
      "metadata": {
        "id": "IjFJT_QVMfLT",
        "outputId": "320f1dd3-d469-40ca-89b0-300d93a4fbed",
        "colab": {
          "base_uri": "https://localhost:8080/"
        }
      },
      "source": [
        "200 in sampleDict.values()"
      ],
      "id": "IjFJT_QVMfLT",
      "execution_count": 20,
      "outputs": [
        {
          "output_type": "execute_result",
          "data": {
            "text/plain": [
              "True"
            ]
          },
          "metadata": {
            "tags": []
          },
          "execution_count": 20
        }
      ]
    },
    {
      "cell_type": "markdown",
      "metadata": {
        "id": "a20c84e7"
      },
      "source": [
        "**Concatenate Lists index-wise**"
      ],
      "id": "a20c84e7"
    },
    {
      "cell_type": "code",
      "metadata": {
        "id": "d82c613a"
      },
      "source": [
        "list1 = ['A','B','C','D']\n",
        "list2 = ['a','b','c','d']"
      ],
      "id": "d82c613a",
      "execution_count": 21,
      "outputs": []
    },
    {
      "cell_type": "code",
      "metadata": {
        "id": "g1XdSXdEMpUf",
        "outputId": "b2b1f7fa-9617-475c-aac6-85de896fe838",
        "colab": {
          "base_uri": "https://localhost:8080/"
        }
      },
      "source": [
        "for i in range(len(list2)):\n",
        "  list1[i] = list1[i] + list2[i]\n",
        "list1\n"
      ],
      "id": "g1XdSXdEMpUf",
      "execution_count": 23,
      "outputs": [
        {
          "output_type": "execute_result",
          "data": {
            "text/plain": [
              "['Aa', 'Bb', 'Cc', 'Dd']"
            ]
          },
          "metadata": {
            "tags": []
          },
          "execution_count": 23
        }
      ]
    },
    {
      "cell_type": "markdown",
      "metadata": {
        "id": "02e3b3ca"
      },
      "source": [
        "**Access Grey from the following Tuple**"
      ],
      "id": "02e3b3ca"
    },
    {
      "cell_type": "code",
      "metadata": {
        "id": "dc1a81e0"
      },
      "source": [
        "Tup = ('orange',['Black','Grey',30],(5, 10, 15))"
      ],
      "id": "dc1a81e0",
      "execution_count": 3,
      "outputs": []
    },
    {
      "cell_type": "code",
      "metadata": {
        "id": "6we39cPBJ8hd",
        "outputId": "46197dc6-041f-463b-d9f2-f3480e5e0975",
        "colab": {
          "base_uri": "https://localhost:8080/",
          "height": 35
        }
      },
      "source": [
        "Tup[1][1]"
      ],
      "id": "6we39cPBJ8hd",
      "execution_count": 4,
      "outputs": [
        {
          "output_type": "execute_result",
          "data": {
            "application/vnd.google.colaboratory.intrinsic+json": {
              "type": "string"
            },
            "text/plain": [
              "'Grey'"
            ]
          },
          "metadata": {
            "tags": []
          },
          "execution_count": 4
        }
      ]
    },
    {
      "cell_type": "markdown",
      "metadata": {
        "id": "31ca498f"
      },
      "source": [
        "**Swap the following Tuples**"
      ],
      "id": "31ca498f"
    },
    {
      "cell_type": "code",
      "metadata": {
        "id": "39a318d6"
      },
      "source": [
        "tuple1 = (11, 22)\n",
        "tuple2 = (99, 88)\n",
        "#Expected Output : tuple1 = (99, 88), tuple2= (11, 22)"
      ],
      "id": "39a318d6",
      "execution_count": 6,
      "outputs": []
    },
    {
      "cell_type": "code",
      "metadata": {
        "id": "xGG6tHYYKF8Z",
        "outputId": "5cdcd788-2393-4981-d01c-d8dc1f978280",
        "colab": {
          "base_uri": "https://localhost:8080/"
        }
      },
      "source": [
        "tuple3 = tuple1\n",
        "tuple1 = tuple2\n",
        "tuple2 = tuple3\n",
        "print(\"tuple1 = \", tuple1, \" tuple2 = \", tuple2)"
      ],
      "id": "xGG6tHYYKF8Z",
      "execution_count": 7,
      "outputs": [
        {
          "output_type": "stream",
          "text": [
            "tuple1 =  (99, 88)  tuple2 =  (11, 22)\n"
          ],
          "name": "stdout"
        }
      ]
    },
    {
      "cell_type": "markdown",
      "metadata": {
        "id": "37650db3"
      },
      "source": [
        "**Write 2 ways to remove elements from a List**"
      ],
      "id": "37650db3"
    },
    {
      "cell_type": "markdown",
      "metadata": {
        "id": "SgzGtGdnKfxp"
      },
      "source": [
        "## Pop function is used to delete the last element from the list.\n",
        "## Remove function is used to delete the particular element from the list."
      ],
      "id": "SgzGtGdnKfxp"
    },
    {
      "cell_type": "markdown",
      "metadata": {
        "id": "35b2b8fb"
      },
      "source": [
        "**Write a Difference between lists and tuples**"
      ],
      "id": "35b2b8fb"
    },
    {
      "cell_type": "markdown",
      "metadata": {
        "id": "luFQBAXzNZDo"
      },
      "source": [
        "## ![image.png](data:image/png;base64,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)"
      ],
      "id": "luFQBAXzNZDo"
    },
    {
      "cell_type": "markdown",
      "metadata": {
        "id": "e66e727a"
      },
      "source": [
        "**Sort the Following List**"
      ],
      "id": "e66e727a"
    },
    {
      "cell_type": "code",
      "metadata": {
        "id": "88599b1d"
      },
      "source": [
        "spam = ['Alice','Dog','Assure','ants','Bob','Carol','Flower']"
      ],
      "id": "88599b1d",
      "execution_count": 12,
      "outputs": []
    },
    {
      "cell_type": "code",
      "metadata": {
        "id": "CFOPSM2_Kz3_"
      },
      "source": [
        "spam.sort()\n"
      ],
      "id": "CFOPSM2_Kz3_",
      "execution_count": 13,
      "outputs": []
    },
    {
      "cell_type": "code",
      "metadata": {
        "id": "I7cHHY7LLI_H",
        "outputId": "09c2948d-d6b7-4ee5-ff28-ef71435f7cbb",
        "colab": {
          "base_uri": "https://localhost:8080/"
        }
      },
      "source": [
        "spam"
      ],
      "id": "I7cHHY7LLI_H",
      "execution_count": 14,
      "outputs": [
        {
          "output_type": "execute_result",
          "data": {
            "text/plain": [
              "['Alice', 'Assure', 'Bob', 'Carol', 'Dog', 'Flower', 'ants']"
            ]
          },
          "metadata": {
            "tags": []
          },
          "execution_count": 14
        }
      ]
    },
    {
      "cell_type": "markdown",
      "metadata": {
        "id": "e1afad26"
      },
      "source": [
        "**Find the Maximum of three numbers**"
      ],
      "id": "e1afad26"
    },
    {
      "cell_type": "code",
      "metadata": {
        "id": "1cb8e5fb",
        "outputId": "ec7783bf-76af-47cd-bf88-c1d4e9be457f",
        "colab": {
          "base_uri": "https://localhost:8080/"
        }
      },
      "source": [
        "import random\n",
        "\n",
        "a = random.randint(1, 100)\n",
        "b = random.randint(1, 100)\n",
        "c = random.randint(1, 100)\n",
        "\n",
        "print(f\"value of a: {a}, value of b: {b}, value of c: {c}\")\n",
        "\n",
        "if a > b and a > c:\n",
        "  print(f\"a is largest: {a}\")\n",
        "elif b > a and b > c:\n",
        "  print(f\"b is largest: {b}\")\n",
        "else:\n",
        "  print(f\"a is largest: {a}\")"
      ],
      "id": "1cb8e5fb",
      "execution_count": 24,
      "outputs": [
        {
          "output_type": "stream",
          "text": [
            "value of a: 32, value of b: 85, value of c: 30\n",
            "b is largest: 85\n"
          ],
          "name": "stdout"
        }
      ]
    },
    {
      "cell_type": "markdown",
      "metadata": {
        "id": "1de464f0"
      },
      "source": [
        "**Give an Example of Replacing Elements of a String**"
      ],
      "id": "1de464f0"
    },
    {
      "cell_type": "code",
      "metadata": {
        "id": "eec73f88",
        "outputId": "d34015ca-db9e-447c-ca0e-2e04fcca42cd",
        "colab": {
          "base_uri": "https://localhost:8080/",
          "height": 35
        }
      },
      "source": [
        "str1 = \"Hello World\"\n",
        "str1 = str1.replace(\"World\", \"India\")\n",
        "str1"
      ],
      "id": "eec73f88",
      "execution_count": 26,
      "outputs": [
        {
          "output_type": "execute_result",
          "data": {
            "application/vnd.google.colaboratory.intrinsic+json": {
              "type": "string"
            },
            "text/plain": [
              "'Hello India'"
            ]
          },
          "metadata": {
            "tags": []
          },
          "execution_count": 26
        }
      ]
    },
    {
      "cell_type": "markdown",
      "metadata": {
        "id": "ddead945"
      },
      "source": [
        "**Find the uncommon elements from both the sets**"
      ],
      "id": "ddead945"
    },
    {
      "cell_type": "code",
      "metadata": {
        "id": "3ebb4153"
      },
      "source": [
        "set1 = {'a','b','c'}\n",
        "set2 = {'c','d','e'}"
      ],
      "id": "3ebb4153",
      "execution_count": 34,
      "outputs": []
    },
    {
      "cell_type": "code",
      "metadata": {
        "id": "Im230ASRUqra",
        "outputId": "c05152c8-0a7b-4723-eeba-596c9aa0532b",
        "colab": {
          "base_uri": "https://localhost:8080/"
        }
      },
      "source": [
        "set1.symmetric_difference(set2)"
      ],
      "id": "Im230ASRUqra",
      "execution_count": 36,
      "outputs": [
        {
          "output_type": "execute_result",
          "data": {
            "text/plain": [
              "{'a', 'b', 'd', 'e'}"
            ]
          },
          "metadata": {
            "tags": []
          },
          "execution_count": 36
        }
      ]
    },
    {
      "cell_type": "markdown",
      "metadata": {
        "id": "7f025b7e"
      },
      "source": [
        "**Check the Divisibilty of a Number by another Number**"
      ],
      "id": "7f025b7e"
    },
    {
      "cell_type": "code",
      "metadata": {
        "id": "34aaecbb",
        "outputId": "47906bc5-8e74-4121-d1a9-a01b808b60e7",
        "colab": {
          "base_uri": "https://localhost:8080/"
        }
      },
      "source": [
        "print(\"Enter a Number (Numerator): \")\n",
        "numn = int(input())\n",
        "print(\"Enter a Number (denominator): \")\n",
        "numd = int(input())\n",
        "\n",
        "if numn%numd==0:\n",
        "  print(\"\\n\" +str(numn)+ \" is divisible by \" +str(numd))\n",
        "else:\n",
        "  print(\"\\n\" +str(numn)+ \" is not divisible by \" +str(numd))"
      ],
      "id": "34aaecbb",
      "execution_count": 33,
      "outputs": [
        {
          "output_type": "stream",
          "text": [
            "Enter a Number (Numerator): \n",
            "45\n",
            "Enter a Number (denominator): \n",
            "7\n",
            "\n",
            "45 is not divisible by 7\n"
          ],
          "name": "stdout"
        }
      ]
    },
    {
      "cell_type": "markdown",
      "metadata": {
        "id": "c5ae895a"
      },
      "source": [
        "**use Random Number to generate 5 digit system generated password**"
      ],
      "id": "c5ae895a"
    },
    {
      "cell_type": "code",
      "metadata": {
        "id": "c72aa807",
        "outputId": "41419af5-7858-4f50-9a30-6c1b51b3ad5c",
        "colab": {
          "base_uri": "https://localhost:8080/"
        }
      },
      "source": [
        "num1 = random.randrange(10000, 99999)\n",
        "\n",
        "print(str(num1) + ' is your Facebook/Instagram Password Reset Code.')"
      ],
      "id": "c72aa807",
      "execution_count": 28,
      "outputs": [
        {
          "output_type": "stream",
          "text": [
            "39707 is your Facebook/Instagram Password Reset Code.\n"
          ],
          "name": "stdout"
        }
      ]
    },
    {
      "cell_type": "markdown",
      "metadata": {
        "id": "677cbd83"
      },
      "source": [
        "**Calculate th area of a circle with the input of radius given by user**"
      ],
      "id": "677cbd83"
    },
    {
      "cell_type": "code",
      "metadata": {
        "id": "a9c92d5e",
        "outputId": "fe56a8ee-0170-4c28-d057-b6dd2d0333af",
        "colab": {
          "base_uri": "https://localhost:8080/"
        }
      },
      "source": [
        "import numpy as np\n",
        "\n",
        "radius = int(input(\"Enter the radius of a circle:\"))\n",
        "\n",
        "area = np.pi * (radius ** 2)\n",
        "\n",
        "print(f\"Area of a circle is: {area}\")"
      ],
      "id": "a9c92d5e",
      "execution_count": 25,
      "outputs": [
        {
          "output_type": "stream",
          "text": [
            "Enter the radius of a circle:10\n",
            "Area of a circle is: 314.1592653589793\n"
          ],
          "name": "stdout"
        }
      ]
    },
    {
      "cell_type": "markdown",
      "metadata": {
        "id": "1fb5fa0e"
      },
      "source": [
        "**What is the difference betwen Append and Insert in List, Explain with Example** "
      ],
      "id": "1fb5fa0e"
    },
    {
      "cell_type": "code",
      "metadata": {
        "id": "cf53c68f",
        "outputId": "b3dbcd6e-cd02-4c94-b6df-6c5316c61b81",
        "colab": {
          "base_uri": "https://localhost:8080/"
        }
      },
      "source": [
        "l1 = [10,20,30]\n",
        "l1.append(40)\n",
        "l1"
      ],
      "id": "cf53c68f",
      "execution_count": 29,
      "outputs": [
        {
          "output_type": "execute_result",
          "data": {
            "text/plain": [
              "[10, 20, 30, 40]"
            ]
          },
          "metadata": {
            "tags": []
          },
          "execution_count": 29
        }
      ]
    },
    {
      "cell_type": "code",
      "metadata": {
        "id": "x68gnYL1TAfa",
        "outputId": "a55790ab-9d8c-4b07-9f83-1fbfe4e5aaa7",
        "colab": {
          "base_uri": "https://localhost:8080/"
        }
      },
      "source": [
        "l1.insert(1, [60, 70, 80, 90])\n",
        "l1"
      ],
      "id": "x68gnYL1TAfa",
      "execution_count": 31,
      "outputs": [
        {
          "output_type": "execute_result",
          "data": {
            "text/plain": [
              "[10, [60, 70, 80, 90], 20, 30, 40, [60, 70, 80, 90]]"
            ]
          },
          "metadata": {
            "tags": []
          },
          "execution_count": 31
        }
      ]
    },
    {
      "cell_type": "markdown",
      "metadata": {
        "id": "e---yRZFTZef"
      },
      "source": [
        "## Using Append function we can add only one element in the list and element gets added at the end of the list.\n",
        "\n",
        "## Using insert function we can add multiple elements together in a list and that too at any position(while passing index number as the first argument)."
      ],
      "id": "e---yRZFTZef"
    },
    {
      "cell_type": "markdown",
      "metadata": {
        "id": "7e40943e"
      },
      "source": [
        "code created only for practice purpose by Sumit Kumar Shukla"
      ],
      "id": "7e40943e"
    }
  ]
}