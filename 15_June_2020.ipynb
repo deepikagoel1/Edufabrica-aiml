{
  "nbformat": 4,
  "nbformat_minor": 5,
  "metadata": {
    "kernelspec": {
      "display_name": "Python 3",
      "language": "python",
      "name": "python3"
    },
    "language_info": {
      "codemirror_mode": {
        "name": "ipython",
        "version": 3
      },
      "file_extension": ".py",
      "mimetype": "text/x-python",
      "name": "python",
      "nbconvert_exporter": "python",
      "pygments_lexer": "ipython3",
      "version": "3.8.8"
    },
    "colab": {
      "name": "15 June 2020.ipynb",
      "provenance": [],
      "include_colab_link": true
    }
  },
  "cells": [
    {
      "cell_type": "markdown",
      "metadata": {
        "id": "view-in-github",
        "colab_type": "text"
      },
      "source": [
        "<a href=\"https://colab.research.google.com/github/deepikagoel1/Edufabrica-aiml/blob/main/15_June_2020.ipynb\" target=\"_parent\"><img src=\"https://colab.research.google.com/assets/colab-badge.svg\" alt=\"Open In Colab\"/></a>"
      ]
    },
    {
      "cell_type": "markdown",
      "metadata": {
        "id": "75c1478b"
      },
      "source": [
        "$x-y = 5$, $x+y = 5$, $x^2 - y^2 = (x+y) * (x-y)$"
      ],
      "id": "75c1478b"
    },
    {
      "cell_type": "code",
      "metadata": {
        "id": "860098ef",
        "outputId": "2acbb41d-d2cc-40eb-8a42-c86fbd8d7c17"
      },
      "source": [
        "xm = 5\n",
        "xp = 5 \n",
        "xm * xp"
      ],
      "id": "860098ef",
      "execution_count": null,
      "outputs": [
        {
          "output_type": "execute_result",
          "data": {
            "text/plain": [
              "25"
            ]
          },
          "metadata": {
            "tags": []
          },
          "execution_count": 1
        }
      ]
    },
    {
      "cell_type": "markdown",
      "metadata": {
        "id": "5948568b"
      },
      "source": [
        "### Data Structures\n",
        "`Data Structures` allows you to organize your data in such a way that it enables you to store collections of data , relate them with operations accordingly.\n",
        "\n",
        "Python Implicit data Strucutres __list, tuples, sets, dictionary__"
      ],
      "id": "5948568b"
    },
    {
      "cell_type": "markdown",
      "metadata": {
        "id": "d7f68dc5"
      },
      "source": [
        "# List\n",
        "Lists are used to store data of different types in a sequential manner.Addresses assgined to every elements will be called as index."
      ],
      "id": "d7f68dc5"
    },
    {
      "cell_type": "code",
      "metadata": {
        "id": "79d5aef7",
        "outputId": "64c5acae-f5ca-466f-f2bf-4708038f6333"
      },
      "source": [
        "my_list = [1, 2, 3, 4, 5]\n",
        "my_list, type(my_list)"
      ],
      "id": "79d5aef7",
      "execution_count": null,
      "outputs": [
        {
          "output_type": "execute_result",
          "data": {
            "text/plain": [
              "([1, 2, 3, 4, 5], list)"
            ]
          },
          "metadata": {
            "tags": []
          },
          "execution_count": 3
        }
      ]
    },
    {
      "cell_type": "code",
      "metadata": {
        "id": "78246480",
        "outputId": "2cd10ea0-a6da-490e-c148-759884ce313b"
      },
      "source": [
        "my_list[0] + my_list[-5]"
      ],
      "id": "78246480",
      "execution_count": null,
      "outputs": [
        {
          "output_type": "execute_result",
          "data": {
            "text/plain": [
              "2"
            ]
          },
          "metadata": {
            "tags": []
          },
          "execution_count": 6
        }
      ]
    },
    {
      "cell_type": "markdown",
      "metadata": {
        "id": "6f53028d"
      },
      "source": [
        "### Creating an Empty List"
      ],
      "id": "6f53028d"
    },
    {
      "cell_type": "code",
      "metadata": {
        "id": "5e558aab"
      },
      "source": [
        "List = []"
      ],
      "id": "5e558aab",
      "execution_count": null,
      "outputs": []
    },
    {
      "cell_type": "code",
      "metadata": {
        "id": "463f8d45",
        "outputId": "bef66cc5-ae03-4045-cf4d-978138b381e7"
      },
      "source": [
        "List"
      ],
      "id": "463f8d45",
      "execution_count": null,
      "outputs": [
        {
          "output_type": "execute_result",
          "data": {
            "text/plain": [
              "[]"
            ]
          },
          "metadata": {
            "tags": []
          },
          "execution_count": 8
        }
      ]
    },
    {
      "cell_type": "markdown",
      "metadata": {
        "id": "0f6fe13e"
      },
      "source": [
        "### Adding values in a list"
      ],
      "id": "0f6fe13e"
    },
    {
      "cell_type": "code",
      "metadata": {
        "id": "3c7cdc40"
      },
      "source": [
        "# append takes the input and add the element to the last of the list\n",
        "List.append(5)"
      ],
      "id": "3c7cdc40",
      "execution_count": null,
      "outputs": []
    },
    {
      "cell_type": "code",
      "metadata": {
        "id": "7fb5f40c",
        "outputId": "f2321c1f-2f3f-4426-d579-0aa0754e8d4c"
      },
      "source": [
        "List"
      ],
      "id": "7fb5f40c",
      "execution_count": null,
      "outputs": [
        {
          "output_type": "execute_result",
          "data": {
            "text/plain": [
              "[5]"
            ]
          },
          "metadata": {
            "tags": []
          },
          "execution_count": 10
        }
      ]
    },
    {
      "cell_type": "code",
      "metadata": {
        "id": "d76512fe"
      },
      "source": [
        "List.extend([5, 6.3, 7.2, 8j,'strings'])"
      ],
      "id": "d76512fe",
      "execution_count": null,
      "outputs": []
    },
    {
      "cell_type": "code",
      "metadata": {
        "id": "8aa1ae1f",
        "outputId": "d0f9aa70-3850-4829-8999-eb6cee980966"
      },
      "source": [
        "List"
      ],
      "id": "8aa1ae1f",
      "execution_count": null,
      "outputs": [
        {
          "output_type": "execute_result",
          "data": {
            "text/plain": [
              "[5, 5, 6.3, 7.2, 8j, 'strings']"
            ]
          },
          "metadata": {
            "tags": []
          },
          "execution_count": 12
        }
      ]
    },
    {
      "cell_type": "code",
      "metadata": {
        "id": "fb0c0c3b",
        "outputId": "1b08dfbb-7980-4780-e34b-98887157ff80"
      },
      "source": [
        "help(list.append)"
      ],
      "id": "fb0c0c3b",
      "execution_count": null,
      "outputs": [
        {
          "output_type": "stream",
          "text": [
            "Help on method_descriptor:\n",
            "\n",
            "append(self, object, /)\n",
            "    Append object to the end of the list.\n",
            "\n"
          ],
          "name": "stdout"
        }
      ]
    },
    {
      "cell_type": "code",
      "metadata": {
        "id": "4ed03d26",
        "outputId": "11c086aa-4cbb-4b94-8b7e-4fab81faecff"
      },
      "source": [
        "help(list.extend)"
      ],
      "id": "4ed03d26",
      "execution_count": null,
      "outputs": [
        {
          "output_type": "stream",
          "text": [
            "Help on method_descriptor:\n",
            "\n",
            "extend(self, iterable, /)\n",
            "    Extend list by appending elements from the iterable.\n",
            "\n"
          ],
          "name": "stdout"
        }
      ]
    },
    {
      "cell_type": "code",
      "metadata": {
        "id": "94c8c548"
      },
      "source": [
        "List.insert(5,[10, 12, 13])"
      ],
      "id": "94c8c548",
      "execution_count": null,
      "outputs": []
    },
    {
      "cell_type": "code",
      "metadata": {
        "id": "4f7f1092",
        "outputId": "9c1f96f4-417b-4b6b-f6d3-8d026ba1ee21"
      },
      "source": [
        "List"
      ],
      "id": "4f7f1092",
      "execution_count": null,
      "outputs": [
        {
          "output_type": "execute_result",
          "data": {
            "text/plain": [
              "[5, 5, [10, 12, 13], 6.3, 7.2, [10, 12, 13], 8j, 'strings']"
            ]
          },
          "metadata": {
            "tags": []
          },
          "execution_count": 21
        }
      ]
    },
    {
      "cell_type": "markdown",
      "metadata": {
        "id": "e7c7f51f"
      },
      "source": [
        "### Copying the Lists"
      ],
      "id": "e7c7f51f"
    },
    {
      "cell_type": "code",
      "metadata": {
        "id": "876490a5",
        "outputId": "90b8ea25-876e-49f2-f323-6bdb866776be"
      },
      "source": [
        "List_copy = List.copy()\n",
        "List_copy"
      ],
      "id": "876490a5",
      "execution_count": null,
      "outputs": [
        {
          "output_type": "execute_result",
          "data": {
            "text/plain": [
              "[5, 5, [10, 12, 13], 6.3, 7.2, 8j, 'strings']"
            ]
          },
          "metadata": {
            "tags": []
          },
          "execution_count": 17
        }
      ]
    },
    {
      "cell_type": "markdown",
      "metadata": {
        "id": "2cc8eda3"
      },
      "source": [
        "### Removing the Elements from the List"
      ],
      "id": "2cc8eda3"
    },
    {
      "cell_type": "code",
      "metadata": {
        "id": "12188766"
      },
      "source": [
        "List_copy.remove(6.3)"
      ],
      "id": "12188766",
      "execution_count": null,
      "outputs": []
    },
    {
      "cell_type": "code",
      "metadata": {
        "id": "4032f7cf",
        "outputId": "0a59ce29-3854-4236-fea2-94bcfa69cf77"
      },
      "source": [
        "List_copy"
      ],
      "id": "4032f7cf",
      "execution_count": null,
      "outputs": [
        {
          "output_type": "execute_result",
          "data": {
            "text/plain": [
              "[5, 5, [10, 12, 13], 7.2, 8j, 'strings']"
            ]
          },
          "metadata": {
            "tags": []
          },
          "execution_count": 24
        }
      ]
    },
    {
      "cell_type": "code",
      "metadata": {
        "id": "45bd3afe",
        "outputId": "0309ce05-226a-49c1-a4b9-faf38d88c372"
      },
      "source": [
        "List_copy.pop()"
      ],
      "id": "45bd3afe",
      "execution_count": null,
      "outputs": [
        {
          "output_type": "execute_result",
          "data": {
            "text/plain": [
              "'strings'"
            ]
          },
          "metadata": {
            "tags": []
          },
          "execution_count": 25
        }
      ]
    },
    {
      "cell_type": "code",
      "metadata": {
        "id": "ffda30a9",
        "outputId": "b43c136c-f764-449d-df57-ec3aa09cf726"
      },
      "source": [
        "List_copy"
      ],
      "id": "ffda30a9",
      "execution_count": null,
      "outputs": [
        {
          "output_type": "execute_result",
          "data": {
            "text/plain": [
              "[5, 5, [10, 12, 13], 7.2, 8j]"
            ]
          },
          "metadata": {
            "tags": []
          },
          "execution_count": 26
        }
      ]
    },
    {
      "cell_type": "code",
      "metadata": {
        "id": "1c841ac0",
        "outputId": "49e9c78c-8888-4ccf-ae8b-883fa6c09978"
      },
      "source": [
        "len(List_copy)"
      ],
      "id": "1c841ac0",
      "execution_count": null,
      "outputs": [
        {
          "output_type": "execute_result",
          "data": {
            "text/plain": [
              "5"
            ]
          },
          "metadata": {
            "tags": []
          },
          "execution_count": 27
        }
      ]
    },
    {
      "cell_type": "code",
      "metadata": {
        "id": "10d2b021",
        "outputId": "1304f382-18fa-4d9c-f498-026cb5b054b3"
      },
      "source": [
        "List_copy[2]"
      ],
      "id": "10d2b021",
      "execution_count": null,
      "outputs": [
        {
          "output_type": "execute_result",
          "data": {
            "text/plain": [
              "[10, 12, 13]"
            ]
          },
          "metadata": {
            "tags": []
          },
          "execution_count": 35
        }
      ]
    },
    {
      "cell_type": "code",
      "metadata": {
        "id": "e8789690",
        "outputId": "211da0e2-c6a8-4d1a-f169-172000e495cd"
      },
      "source": [
        "List_copy.count(5)"
      ],
      "id": "e8789690",
      "execution_count": null,
      "outputs": [
        {
          "output_type": "execute_result",
          "data": {
            "text/plain": [
              "2"
            ]
          },
          "metadata": {
            "tags": []
          },
          "execution_count": 36
        }
      ]
    },
    {
      "cell_type": "code",
      "metadata": {
        "id": "9b45566d",
        "outputId": "e4402773-d409-4297-9dc4-8b52cd5f2c6c"
      },
      "source": [
        "List_copy.index(5)"
      ],
      "id": "9b45566d",
      "execution_count": null,
      "outputs": [
        {
          "output_type": "execute_result",
          "data": {
            "text/plain": [
              "0"
            ]
          },
          "metadata": {
            "tags": []
          },
          "execution_count": 37
        }
      ]
    },
    {
      "cell_type": "code",
      "metadata": {
        "id": "cdbde56a"
      },
      "source": [
        "l = [0, -64, 105, -345, 23, 56, 98, 12]\n",
        "l.sort()"
      ],
      "id": "cdbde56a",
      "execution_count": null,
      "outputs": []
    },
    {
      "cell_type": "code",
      "metadata": {
        "id": "9bc4a77e",
        "outputId": "931d7593-672e-40e2-cf23-0b0ddb1e0e9e"
      },
      "source": [
        "l"
      ],
      "id": "9bc4a77e",
      "execution_count": null,
      "outputs": [
        {
          "output_type": "execute_result",
          "data": {
            "text/plain": [
              "[-345, -64, 0, 12, 23, 56, 98, 105]"
            ]
          },
          "metadata": {
            "tags": []
          },
          "execution_count": 40
        }
      ]
    },
    {
      "cell_type": "code",
      "metadata": {
        "id": "01dd06c9"
      },
      "source": [
        "l.reverse()"
      ],
      "id": "01dd06c9",
      "execution_count": null,
      "outputs": []
    },
    {
      "cell_type": "code",
      "metadata": {
        "id": "c2c38b58",
        "outputId": "f5c96d87-3d17-4770-aff5-108f9d1121c9"
      },
      "source": [
        "l[0] = 100\n",
        "l"
      ],
      "id": "c2c38b58",
      "execution_count": null,
      "outputs": [
        {
          "output_type": "execute_result",
          "data": {
            "text/plain": [
              "[100, 98, 56, 23, 12, 0, -64, -345]"
            ]
          },
          "metadata": {
            "tags": []
          },
          "execution_count": 43
        }
      ]
    },
    {
      "cell_type": "markdown",
      "metadata": {
        "id": "f3cd8018"
      },
      "source": [
        "### Tuple"
      ],
      "id": "f3cd8018"
    },
    {
      "cell_type": "code",
      "metadata": {
        "id": "ec9585fd"
      },
      "source": [
        "t = tuple()"
      ],
      "id": "ec9585fd",
      "execution_count": null,
      "outputs": []
    },
    {
      "cell_type": "code",
      "metadata": {
        "id": "d910f35f",
        "outputId": "a4bf9ec4-0cf4-4464-e51f-088692a573e7"
      },
      "source": [
        "type(t)"
      ],
      "id": "d910f35f",
      "execution_count": null,
      "outputs": [
        {
          "output_type": "execute_result",
          "data": {
            "text/plain": [
              "tuple"
            ]
          },
          "metadata": {
            "tags": []
          },
          "execution_count": 45
        }
      ]
    },
    {
      "cell_type": "code",
      "metadata": {
        "id": "e775a2d1",
        "outputId": "58214f26-fc74-44b3-df2e-789ac1490478"
      },
      "source": [
        "t = tuple(List)\n",
        "t"
      ],
      "id": "e775a2d1",
      "execution_count": null,
      "outputs": [
        {
          "output_type": "execute_result",
          "data": {
            "text/plain": [
              "(5, 5, [10, 12, 13], 6.3, 7.2, [10, 12, 13], 8j, 'strings')"
            ]
          },
          "metadata": {
            "tags": []
          },
          "execution_count": 46
        }
      ]
    },
    {
      "cell_type": "code",
      "metadata": {
        "id": "52f0069f",
        "outputId": "b92eb3fc-ee3f-4734-8e4f-137644caf293"
      },
      "source": [
        "t[0], t[-1], t[2][1]"
      ],
      "id": "52f0069f",
      "execution_count": null,
      "outputs": [
        {
          "output_type": "execute_result",
          "data": {
            "text/plain": [
              "(5, 'strings', 12)"
            ]
          },
          "metadata": {
            "tags": []
          },
          "execution_count": 47
        }
      ]
    },
    {
      "cell_type": "code",
      "metadata": {
        "id": "83d3971f",
        "outputId": "d4065339-ccab-4e87-b981-fc20365377dd"
      },
      "source": [
        "s = (5,)\n",
        "s"
      ],
      "id": "83d3971f",
      "execution_count": null,
      "outputs": [
        {
          "output_type": "execute_result",
          "data": {
            "text/plain": [
              "(5,)"
            ]
          },
          "metadata": {
            "tags": []
          },
          "execution_count": 50
        }
      ]
    },
    {
      "cell_type": "code",
      "metadata": {
        "id": "3f8fd90a",
        "outputId": "324c54b8-817e-4ae3-fe90-114488743483"
      },
      "source": [
        "t.index(5)"
      ],
      "id": "3f8fd90a",
      "execution_count": null,
      "outputs": [
        {
          "output_type": "execute_result",
          "data": {
            "text/plain": [
              "0"
            ]
          },
          "metadata": {
            "tags": []
          },
          "execution_count": 51
        }
      ]
    },
    {
      "cell_type": "code",
      "metadata": {
        "id": "39d62976",
        "outputId": "5662e898-bdb9-470d-f650-2731f0028f84"
      },
      "source": [
        "t.count(5)"
      ],
      "id": "39d62976",
      "execution_count": null,
      "outputs": [
        {
          "output_type": "execute_result",
          "data": {
            "text/plain": [
              "2"
            ]
          },
          "metadata": {
            "tags": []
          },
          "execution_count": 52
        }
      ]
    },
    {
      "cell_type": "markdown",
      "metadata": {
        "id": "4733e040"
      },
      "source": [
        "### Sets"
      ],
      "id": "4733e040"
    },
    {
      "cell_type": "code",
      "metadata": {
        "id": "080a08bf"
      },
      "source": [
        "a = {1, -2, 3, 4}\n",
        "b = {3,  4, 5, 6}"
      ],
      "id": "080a08bf",
      "execution_count": null,
      "outputs": []
    },
    {
      "cell_type": "code",
      "metadata": {
        "id": "87908892",
        "outputId": "1fc34939-7bdb-40c3-e739-7a85b173568b"
      },
      "source": [
        "a,b"
      ],
      "id": "87908892",
      "execution_count": null,
      "outputs": [
        {
          "output_type": "execute_result",
          "data": {
            "text/plain": [
              "({-2, 1, 3, 4}, {3, 4, 5, 6})"
            ]
          },
          "metadata": {
            "tags": []
          },
          "execution_count": 59
        }
      ]
    },
    {
      "cell_type": "code",
      "metadata": {
        "id": "c5926c15",
        "outputId": "9e3c9540-98f5-459f-ac21-de3ad9deafe6"
      },
      "source": [
        "# union \n",
        "a.union(b)"
      ],
      "id": "c5926c15",
      "execution_count": null,
      "outputs": [
        {
          "output_type": "execute_result",
          "data": {
            "text/plain": [
              "{-2, 1, 3, 4, 5, 6}"
            ]
          },
          "metadata": {
            "tags": []
          },
          "execution_count": 61
        }
      ]
    },
    {
      "cell_type": "code",
      "metadata": {
        "id": "c9cde5c0",
        "outputId": "9b928f3b-8232-4e6c-8b6c-f118b2b0b7fa"
      },
      "source": [
        "a | b"
      ],
      "id": "c9cde5c0",
      "execution_count": null,
      "outputs": [
        {
          "output_type": "execute_result",
          "data": {
            "text/plain": [
              "{-2, 1, 3, 4, 5, 6}"
            ]
          },
          "metadata": {
            "tags": []
          },
          "execution_count": 62
        }
      ]
    },
    {
      "cell_type": "code",
      "metadata": {
        "id": "85cb160f",
        "outputId": "261ef021-7b50-4d58-a998-7f9d0a378b0f"
      },
      "source": [
        "# intersection - common elements\n",
        "a.intersection(b)"
      ],
      "id": "85cb160f",
      "execution_count": null,
      "outputs": [
        {
          "output_type": "execute_result",
          "data": {
            "text/plain": [
              "{3, 4}"
            ]
          },
          "metadata": {
            "tags": []
          },
          "execution_count": 63
        }
      ]
    },
    {
      "cell_type": "code",
      "metadata": {
        "id": "9c8dd08c",
        "outputId": "700e325e-8a93-4dee-d432-48c7a4780564"
      },
      "source": [
        "a & b"
      ],
      "id": "9c8dd08c",
      "execution_count": null,
      "outputs": [
        {
          "output_type": "execute_result",
          "data": {
            "text/plain": [
              "{3, 4}"
            ]
          },
          "metadata": {
            "tags": []
          },
          "execution_count": 64
        }
      ]
    },
    {
      "cell_type": "code",
      "metadata": {
        "id": "f3c57eac"
      },
      "source": [
        "a.add(5)"
      ],
      "id": "f3c57eac",
      "execution_count": null,
      "outputs": []
    },
    {
      "cell_type": "code",
      "metadata": {
        "id": "0dd63338",
        "outputId": "45768873-0377-411b-8c4f-c025ecb75c57"
      },
      "source": [
        "a"
      ],
      "id": "0dd63338",
      "execution_count": null,
      "outputs": [
        {
          "output_type": "execute_result",
          "data": {
            "text/plain": [
              "{-2, 1, 3, 4, 5}"
            ]
          },
          "metadata": {
            "tags": []
          },
          "execution_count": 66
        }
      ]
    },
    {
      "cell_type": "code",
      "metadata": {
        "id": "f8dc2f12"
      },
      "source": [
        "a.add(0)"
      ],
      "id": "f8dc2f12",
      "execution_count": null,
      "outputs": []
    },
    {
      "cell_type": "code",
      "metadata": {
        "id": "f5793fe8",
        "outputId": "cc61d756-7ba8-4617-b341-3752ba8dca08"
      },
      "source": [
        "a"
      ],
      "id": "f5793fe8",
      "execution_count": null,
      "outputs": [
        {
          "output_type": "execute_result",
          "data": {
            "text/plain": [
              "{-2, 0, 1, 3, 4, 5}"
            ]
          },
          "metadata": {
            "tags": []
          },
          "execution_count": 68
        }
      ]
    },
    {
      "cell_type": "code",
      "metadata": {
        "id": "b89ba66b"
      },
      "source": [
        "a.update({2, 3, 4, 5 ,6 ,7 ,8, 9})"
      ],
      "id": "b89ba66b",
      "execution_count": null,
      "outputs": []
    },
    {
      "cell_type": "code",
      "metadata": {
        "id": "1bdf91a0",
        "outputId": "4827c9cd-2df2-43bc-8d3e-a3384b878a4c"
      },
      "source": [
        "a"
      ],
      "id": "1bdf91a0",
      "execution_count": null,
      "outputs": [
        {
          "output_type": "execute_result",
          "data": {
            "text/plain": [
              "{-2, 0, 1, 2, 3, 4, 5, 6, 7, 8, 9}"
            ]
          },
          "metadata": {
            "tags": []
          },
          "execution_count": 72
        }
      ]
    },
    {
      "cell_type": "code",
      "metadata": {
        "id": "46bbc47e",
        "outputId": "21fb069e-954f-4f58-c7da-b581214aa5ba"
      },
      "source": [
        "a, b"
      ],
      "id": "46bbc47e",
      "execution_count": null,
      "outputs": [
        {
          "output_type": "execute_result",
          "data": {
            "text/plain": [
              "({-2, 0, 1, 2, 3, 4, 5, 6, 7, 8, 9}, {3, 4, 5, 6})"
            ]
          },
          "metadata": {
            "tags": []
          },
          "execution_count": 73
        }
      ]
    },
    {
      "cell_type": "code",
      "metadata": {
        "id": "52ec5c01",
        "outputId": "7003f62d-5d18-4a8b-bc73-efd8e5b0b5d4"
      },
      "source": [
        "a - b"
      ],
      "id": "52ec5c01",
      "execution_count": null,
      "outputs": [
        {
          "output_type": "execute_result",
          "data": {
            "text/plain": [
              "{-2, 0, 1, 2, 7, 8, 9}"
            ]
          },
          "metadata": {
            "tags": []
          },
          "execution_count": 74
        }
      ]
    },
    {
      "cell_type": "code",
      "metadata": {
        "id": "e4a735e9",
        "outputId": "70b5b905-c463-4ed0-a8f3-ac4ed6937252"
      },
      "source": [
        "a.difference(b)"
      ],
      "id": "e4a735e9",
      "execution_count": null,
      "outputs": [
        {
          "output_type": "execute_result",
          "data": {
            "text/plain": [
              "{-2, 0, 1, 2, 7, 8, 9}"
            ]
          },
          "metadata": {
            "tags": []
          },
          "execution_count": 75
        }
      ]
    },
    {
      "cell_type": "code",
      "metadata": {
        "id": "14daf04b",
        "outputId": "632f38be-3cfc-46ea-cfde-230718b6d378"
      },
      "source": [
        "b - a"
      ],
      "id": "14daf04b",
      "execution_count": null,
      "outputs": [
        {
          "output_type": "execute_result",
          "data": {
            "text/plain": [
              "set()"
            ]
          },
          "metadata": {
            "tags": []
          },
          "execution_count": 77
        }
      ]
    },
    {
      "cell_type": "code",
      "metadata": {
        "id": "dd8b3ac6",
        "outputId": "7e227ee0-48b3-4ab5-8269-ca5da9f66c42"
      },
      "source": [
        "a.symmetric_difference(b)"
      ],
      "id": "dd8b3ac6",
      "execution_count": null,
      "outputs": [
        {
          "output_type": "execute_result",
          "data": {
            "text/plain": [
              "{-2, 0, 1, 2, 7, 8, 9}"
            ]
          },
          "metadata": {
            "tags": []
          },
          "execution_count": 78
        }
      ]
    },
    {
      "cell_type": "code",
      "metadata": {
        "id": "1142b266"
      },
      "source": [
        "a = {1, 2, 3, 4}\n",
        "b = {3, 4, 5, 6}"
      ],
      "id": "1142b266",
      "execution_count": null,
      "outputs": []
    },
    {
      "cell_type": "code",
      "metadata": {
        "id": "1679f710",
        "outputId": "a4f510c4-6973-47a6-fc02-2d06283496ca"
      },
      "source": [
        "a - b"
      ],
      "id": "1679f710",
      "execution_count": null,
      "outputs": [
        {
          "output_type": "execute_result",
          "data": {
            "text/plain": [
              "{1, 2}"
            ]
          },
          "metadata": {
            "tags": []
          },
          "execution_count": 80
        }
      ]
    },
    {
      "cell_type": "code",
      "metadata": {
        "id": "9fed0c0e",
        "outputId": "8f4280d5-e575-4c16-d4f3-0a386b65ee09"
      },
      "source": [
        "a.symmetric_difference(b)"
      ],
      "id": "9fed0c0e",
      "execution_count": null,
      "outputs": [
        {
          "output_type": "execute_result",
          "data": {
            "text/plain": [
              "{1, 2, 5, 6}"
            ]
          },
          "metadata": {
            "tags": []
          },
          "execution_count": 81
        }
      ]
    },
    {
      "cell_type": "code",
      "metadata": {
        "id": "a2e0b0fe"
      },
      "source": [
        "a = {'Phy','Chem','Bio','Math'}\n",
        "b = {'Chem','Bio'}"
      ],
      "id": "a2e0b0fe",
      "execution_count": null,
      "outputs": []
    },
    {
      "cell_type": "code",
      "metadata": {
        "id": "fa026f66",
        "outputId": "13e06481-f55d-4f50-90dc-980f1cf14eb8"
      },
      "source": [
        "b.issubset(a)"
      ],
      "id": "fa026f66",
      "execution_count": null,
      "outputs": [
        {
          "output_type": "execute_result",
          "data": {
            "text/plain": [
              "True"
            ]
          },
          "metadata": {
            "tags": []
          },
          "execution_count": 83
        }
      ]
    },
    {
      "cell_type": "code",
      "metadata": {
        "id": "ba8e9e30",
        "outputId": "ed6e2f0e-706e-4e18-8f93-0481663284dc"
      },
      "source": [
        "a.issuperset(b)"
      ],
      "id": "ba8e9e30",
      "execution_count": null,
      "outputs": [
        {
          "output_type": "execute_result",
          "data": {
            "text/plain": [
              "True"
            ]
          },
          "metadata": {
            "tags": []
          },
          "execution_count": 84
        }
      ]
    },
    {
      "cell_type": "code",
      "metadata": {
        "id": "e756b35d",
        "outputId": "3d7faf79-3b1c-4c26-ced3-fafdb2129b61"
      },
      "source": [
        "a.pop()"
      ],
      "id": "e756b35d",
      "execution_count": null,
      "outputs": [
        {
          "output_type": "execute_result",
          "data": {
            "text/plain": [
              "1"
            ]
          },
          "metadata": {
            "tags": []
          },
          "execution_count": 86
        }
      ]
    },
    {
      "cell_type": "code",
      "metadata": {
        "id": "e5f25661",
        "outputId": "bbd7514c-1d57-4210-a739-9e2656296eae"
      },
      "source": [
        "a"
      ],
      "id": "e5f25661",
      "execution_count": null,
      "outputs": [
        {
          "output_type": "execute_result",
          "data": {
            "text/plain": [
              "{2, 3, 4}"
            ]
          },
          "metadata": {
            "tags": []
          },
          "execution_count": 87
        }
      ]
    },
    {
      "cell_type": "code",
      "metadata": {
        "id": "be293341"
      },
      "source": [
        "a.remove(3)"
      ],
      "id": "be293341",
      "execution_count": null,
      "outputs": []
    },
    {
      "cell_type": "code",
      "metadata": {
        "id": "03255ddc",
        "outputId": "01c0370f-0ab6-4dba-e085-9c31b551bc25"
      },
      "source": [
        "a.remove(5)"
      ],
      "id": "03255ddc",
      "execution_count": null,
      "outputs": [
        {
          "output_type": "error",
          "ename": "KeyError",
          "evalue": "5",
          "traceback": [
            "\u001b[0;31m---------------------------------------------------------------------------\u001b[0m",
            "\u001b[0;31mKeyError\u001b[0m                                  Traceback (most recent call last)",
            "\u001b[0;32m<ipython-input-90-fa8c667230ef>\u001b[0m in \u001b[0;36m<module>\u001b[0;34m\u001b[0m\n\u001b[0;32m----> 1\u001b[0;31m \u001b[0ma\u001b[0m\u001b[0;34m.\u001b[0m\u001b[0mremove\u001b[0m\u001b[0;34m(\u001b[0m\u001b[0;36m5\u001b[0m\u001b[0;34m)\u001b[0m\u001b[0;34m\u001b[0m\u001b[0;34m\u001b[0m\u001b[0m\n\u001b[0m",
            "\u001b[0;31mKeyError\u001b[0m: 5"
          ]
        }
      ]
    },
    {
      "cell_type": "code",
      "metadata": {
        "id": "c12ebe23"
      },
      "source": [
        "a.discard(5)"
      ],
      "id": "c12ebe23",
      "execution_count": null,
      "outputs": []
    },
    {
      "cell_type": "code",
      "metadata": {
        "id": "7a38826b"
      },
      "source": [
        "a.discard(2)"
      ],
      "id": "7a38826b",
      "execution_count": null,
      "outputs": []
    },
    {
      "cell_type": "code",
      "metadata": {
        "id": "c293501c",
        "outputId": "e354654d-f96b-4df8-8086-73f3bcb81d6d"
      },
      "source": [
        "a"
      ],
      "id": "c293501c",
      "execution_count": null,
      "outputs": [
        {
          "output_type": "execute_result",
          "data": {
            "text/plain": [
              "{4}"
            ]
          },
          "metadata": {
            "tags": []
          },
          "execution_count": 93
        }
      ]
    },
    {
      "cell_type": "code",
      "metadata": {
        "id": "99651d73"
      },
      "source": [
        "del a"
      ],
      "id": "99651d73",
      "execution_count": null,
      "outputs": []
    },
    {
      "cell_type": "code",
      "metadata": {
        "id": "e54ab092",
        "outputId": "8c6551e0-70a0-47d8-df11-0e8a487c12b9"
      },
      "source": [
        "b"
      ],
      "id": "e54ab092",
      "execution_count": null,
      "outputs": [
        {
          "output_type": "execute_result",
          "data": {
            "text/plain": [
              "{3, 4, 5, 6}"
            ]
          },
          "metadata": {
            "tags": []
          },
          "execution_count": 95
        }
      ]
    },
    {
      "cell_type": "code",
      "metadata": {
        "id": "d671ffcb"
      },
      "source": [
        "b.discard(3)"
      ],
      "id": "d671ffcb",
      "execution_count": null,
      "outputs": []
    },
    {
      "cell_type": "code",
      "metadata": {
        "id": "a231a3e6",
        "outputId": "1d8a4bab-4df9-481b-d588-83b843f37242"
      },
      "source": [
        "b"
      ],
      "id": "a231a3e6",
      "execution_count": null,
      "outputs": [
        {
          "output_type": "execute_result",
          "data": {
            "text/plain": [
              "{4, 5, 6}"
            ]
          },
          "metadata": {
            "tags": []
          },
          "execution_count": 97
        }
      ]
    },
    {
      "cell_type": "code",
      "metadata": {
        "id": "87b88167"
      },
      "source": [
        "b.discard(6)"
      ],
      "id": "87b88167",
      "execution_count": null,
      "outputs": []
    },
    {
      "cell_type": "markdown",
      "metadata": {
        "id": "5ae49cc9"
      },
      "source": [
        "### Dictionary"
      ],
      "id": "5ae49cc9"
    },
    {
      "cell_type": "code",
      "metadata": {
        "id": "5666a32a"
      },
      "source": [
        "d = dict()"
      ],
      "id": "5666a32a",
      "execution_count": null,
      "outputs": []
    },
    {
      "cell_type": "code",
      "metadata": {
        "id": "0bc2e632",
        "outputId": "5d2f5fd2-bf6e-4743-a916-3ca7119d389a"
      },
      "source": [
        "d"
      ],
      "id": "0bc2e632",
      "execution_count": null,
      "outputs": [
        {
          "output_type": "execute_result",
          "data": {
            "text/plain": [
              "{}"
            ]
          },
          "metadata": {
            "tags": []
          },
          "execution_count": 100
        }
      ]
    },
    {
      "cell_type": "code",
      "metadata": {
        "id": "bf1b5987"
      },
      "source": [
        "d = {'A': 'Anaconda','B':'Navigator', 'C': 'Python'}"
      ],
      "id": "bf1b5987",
      "execution_count": null,
      "outputs": []
    },
    {
      "cell_type": "code",
      "metadata": {
        "id": "08c98000",
        "outputId": "0bb23ed9-973f-4f4d-d109-82aaa279cb53"
      },
      "source": [
        "d"
      ],
      "id": "08c98000",
      "execution_count": null,
      "outputs": [
        {
          "output_type": "execute_result",
          "data": {
            "text/plain": [
              "{'A': 'Anaconda', 'B': 'Navigator', 'C': 'Python'}"
            ]
          },
          "metadata": {
            "tags": []
          },
          "execution_count": 102
        }
      ]
    },
    {
      "cell_type": "code",
      "metadata": {
        "id": "825fba0f",
        "outputId": "2086b68f-3ccd-4bb5-b457-10db77e618f3"
      },
      "source": [
        "d.keys()"
      ],
      "id": "825fba0f",
      "execution_count": null,
      "outputs": [
        {
          "output_type": "execute_result",
          "data": {
            "text/plain": [
              "dict_keys(['A', 'B', 'C'])"
            ]
          },
          "metadata": {
            "tags": []
          },
          "execution_count": 103
        }
      ]
    },
    {
      "cell_type": "code",
      "metadata": {
        "id": "6e823188",
        "outputId": "481ca59a-ccbb-4959-dd3d-a06467b69596"
      },
      "source": [
        "d.values()"
      ],
      "id": "6e823188",
      "execution_count": null,
      "outputs": [
        {
          "output_type": "execute_result",
          "data": {
            "text/plain": [
              "dict_values(['Anaconda', 'Navigator', 'Python'])"
            ]
          },
          "metadata": {
            "tags": []
          },
          "execution_count": 104
        }
      ]
    },
    {
      "cell_type": "code",
      "metadata": {
        "id": "19c595d5",
        "outputId": "5a0d8cf3-b24d-4331-b2a6-ae58bb514e42"
      },
      "source": [
        "d.items()"
      ],
      "id": "19c595d5",
      "execution_count": null,
      "outputs": [
        {
          "output_type": "execute_result",
          "data": {
            "text/plain": [
              "dict_items([('A', 'Anaconda'), ('B', 'Navigator'), ('C', 'Python')])"
            ]
          },
          "metadata": {
            "tags": []
          },
          "execution_count": 105
        }
      ]
    },
    {
      "cell_type": "code",
      "metadata": {
        "id": "3d12dcf8"
      },
      "source": [
        "f = dict([(1, 23), (2, 46)])"
      ],
      "id": "3d12dcf8",
      "execution_count": null,
      "outputs": []
    },
    {
      "cell_type": "code",
      "metadata": {
        "id": "2a27528e",
        "outputId": "226c154a-93f5-42cb-a2aa-c88edfcb914c"
      },
      "source": [
        "f"
      ],
      "id": "2a27528e",
      "execution_count": null,
      "outputs": [
        {
          "output_type": "execute_result",
          "data": {
            "text/plain": [
              "{1: 23, 2: 46}"
            ]
          },
          "metadata": {
            "tags": []
          },
          "execution_count": 107
        }
      ]
    },
    {
      "cell_type": "code",
      "metadata": {
        "id": "ae01f6a5",
        "outputId": "a8b8d85f-9109-4774-a482-620cd8442736"
      },
      "source": [
        "d"
      ],
      "id": "ae01f6a5",
      "execution_count": null,
      "outputs": [
        {
          "output_type": "execute_result",
          "data": {
            "text/plain": [
              "{'A': 'Anaconda', 'B': 'Navigator', 'C': 'Python'}"
            ]
          },
          "metadata": {
            "tags": []
          },
          "execution_count": 108
        }
      ]
    },
    {
      "cell_type": "code",
      "metadata": {
        "id": "0e58b823",
        "outputId": "525a6946-b456-47e3-b6ec-22ee1f63a7e9"
      },
      "source": [
        "d['D'] = 'Dictionary'\n",
        "d"
      ],
      "id": "0e58b823",
      "execution_count": null,
      "outputs": [
        {
          "output_type": "execute_result",
          "data": {
            "text/plain": [
              "{'A': 'Anaconda', 'B': 'Navigator', 'C': 'Python', 'D': 'Dictionary'}"
            ]
          },
          "metadata": {
            "tags": []
          },
          "execution_count": 109
        }
      ]
    },
    {
      "cell_type": "code",
      "metadata": {
        "id": "6ce425b1",
        "outputId": "308436f1-5785-44fb-f4ef-5a94bb4afbbe"
      },
      "source": [
        "sd = {'Phy': 45, 'Che': 37, 'Mat': 49, 'Bio': 42}\n",
        "sd"
      ],
      "id": "6ce425b1",
      "execution_count": null,
      "outputs": [
        {
          "output_type": "execute_result",
          "data": {
            "text/plain": [
              "{'Phy': 45, 'Che': 37, 'Mat': 49, 'Bio': 42}"
            ]
          },
          "metadata": {
            "tags": []
          },
          "execution_count": 110
        }
      ]
    },
    {
      "cell_type": "code",
      "metadata": {
        "id": "546c955f",
        "outputId": "3317e51c-6b74-42a9-c96d-c7840a2d0d20"
      },
      "source": [
        "sd.get('Phy')"
      ],
      "id": "546c955f",
      "execution_count": null,
      "outputs": [
        {
          "output_type": "execute_result",
          "data": {
            "text/plain": [
              "45"
            ]
          },
          "metadata": {
            "tags": []
          },
          "execution_count": 112
        }
      ]
    },
    {
      "cell_type": "code",
      "metadata": {
        "id": "3a18446c",
        "outputId": "980d1cb3-baac-4ead-a9c7-9368d3803896"
      },
      "source": [
        "max(sd, key = sd.get)"
      ],
      "id": "3a18446c",
      "execution_count": null,
      "outputs": [
        {
          "output_type": "execute_result",
          "data": {
            "text/plain": [
              "'Mat'"
            ]
          },
          "metadata": {
            "tags": []
          },
          "execution_count": 123
        }
      ]
    },
    {
      "cell_type": "code",
      "metadata": {
        "id": "81109ad2",
        "outputId": "a6824766-4679-4999-9dc3-c9d7406f46d3"
      },
      "source": [
        "max(sd.values())"
      ],
      "id": "81109ad2",
      "execution_count": null,
      "outputs": [
        {
          "output_type": "execute_result",
          "data": {
            "text/plain": [
              "49"
            ]
          },
          "metadata": {
            "tags": []
          },
          "execution_count": 121
        }
      ]
    },
    {
      "cell_type": "code",
      "metadata": {
        "id": "9659c5e3"
      },
      "source": [
        "import pandas as pd "
      ],
      "id": "9659c5e3",
      "execution_count": null,
      "outputs": []
    },
    {
      "cell_type": "code",
      "metadata": {
        "id": "a96de2c9"
      },
      "source": [
        "names = ['Smruti','Vansh','Anirudh','Amrutha' ,'Saurabh']\n",
        "city  = ['Bhubneshwar' ,'Agra' ,'Hyderabad' ,'Vishakapatnam','bareli']\n",
        "gender = ['F','M','M','F','M']"
      ],
      "id": "a96de2c9",
      "execution_count": null,
      "outputs": []
    },
    {
      "cell_type": "code",
      "metadata": {
        "id": "62f027a2",
        "outputId": "4f22fcdd-52be-4665-e96c-b84d74609e83"
      },
      "source": [
        "d = {'Names': names, 'City': city, 'Sex': gender}\n",
        "d"
      ],
      "id": "62f027a2",
      "execution_count": null,
      "outputs": [
        {
          "output_type": "execute_result",
          "data": {
            "text/plain": [
              "{'Names': ['Smruti', 'Vansh', 'Anirudh', 'Amrutha', 'Saurabh'],\n",
              " 'City': ['Bhubneshwar', 'Agra', 'Hyderabad', 'Vishakapatnam', 'bareli'],\n",
              " 'Sex': ['F', 'M', 'M', 'F', 'M']}"
            ]
          },
          "metadata": {
            "tags": []
          },
          "execution_count": 129
        }
      ]
    },
    {
      "cell_type": "code",
      "metadata": {
        "id": "1927927f",
        "outputId": "fdc83823-38a7-4e2e-94e8-9e057f26d48b"
      },
      "source": [
        "d['Names']"
      ],
      "id": "1927927f",
      "execution_count": null,
      "outputs": [
        {
          "output_type": "execute_result",
          "data": {
            "text/plain": [
              "['Smruti', 'Vansh', 'Anirudh', 'Amrutha', 'Saurabh']"
            ]
          },
          "metadata": {
            "tags": []
          },
          "execution_count": 130
        }
      ]
    },
    {
      "cell_type": "code",
      "metadata": {
        "id": "7d1482de",
        "outputId": "347a7bc2-6bb5-44ab-d169-9143db12155a"
      },
      "source": [
        "pd.DataFrame(data = d).iloc[0]"
      ],
      "id": "7d1482de",
      "execution_count": null,
      "outputs": [
        {
          "output_type": "execute_result",
          "data": {
            "text/plain": [
              "Names         Smruti\n",
              "City     Bhubneshwar\n",
              "Sex                F\n",
              "Name: 0, dtype: object"
            ]
          },
          "metadata": {
            "tags": []
          },
          "execution_count": 132
        }
      ]
    },
    {
      "cell_type": "code",
      "metadata": {
        "id": "c21c844b"
      },
      "source": [
        ""
      ],
      "id": "c21c844b",
      "execution_count": null,
      "outputs": []
    }
  ]
}