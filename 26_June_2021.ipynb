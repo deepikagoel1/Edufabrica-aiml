{
  "nbformat": 4,
  "nbformat_minor": 5,
  "metadata": {
    "kernelspec": {
      "display_name": "Python 3",
      "language": "python",
      "name": "python3"
    },
    "language_info": {
      "codemirror_mode": {
        "name": "ipython",
        "version": 3
      },
      "file_extension": ".py",
      "mimetype": "text/x-python",
      "name": "python",
      "nbconvert_exporter": "python",
      "pygments_lexer": "ipython3",
      "version": "3.8.8"
    },
    "colab": {
      "name": "26 June 2021.ipynb",
      "provenance": [],
      "include_colab_link": true
    }
  },
  "cells": [
    {
      "cell_type": "markdown",
      "metadata": {
        "id": "view-in-github",
        "colab_type": "text"
      },
      "source": [
        "<a href=\"https://colab.research.google.com/github/deepikagoel1/Edufabrica-aiml/blob/main/26_June_2021.ipynb\" target=\"_parent\"><img src=\"https://colab.research.google.com/assets/colab-badge.svg\" alt=\"Open In Colab\"/></a>"
      ]
    },
    {
      "cell_type": "markdown",
      "metadata": {
        "id": "97eddf44"
      },
      "source": [
        "## Pandas:  Phase 2 - 3"
      ],
      "id": "97eddf44"
    },
    {
      "cell_type": "code",
      "metadata": {
        "id": "1a35e22e",
        "outputId": "a07521ef-4013-4bd5-8e61-742f6d9fd6c1"
      },
      "source": [
        "import pandas as pd \n",
        "df = pd.read_csv('ICMR.csv')\n",
        "df.info()"
      ],
      "id": "1a35e22e",
      "execution_count": null,
      "outputs": [
        {
          "output_type": "stream",
          "text": [
            "<class 'pandas.core.frame.DataFrame'>\n",
            "RangeIndex: 267 entries, 0 to 266\n",
            "Data columns (total 6 columns):\n",
            " #   Column   Non-Null Count  Dtype \n",
            "---  ------   --------------  ----- \n",
            " 0   lab      267 non-null    object\n",
            " 1   address  267 non-null    object\n",
            " 2   pincode  267 non-null    int64 \n",
            " 3   city     267 non-null    object\n",
            " 4   state    267 non-null    object\n",
            " 5   type     267 non-null    object\n",
            "dtypes: int64(1), object(5)\n",
            "memory usage: 12.6+ KB\n"
          ],
          "name": "stdout"
        }
      ]
    },
    {
      "cell_type": "code",
      "metadata": {
        "id": "c2f8f1fe",
        "outputId": "e8ff71e3-54f4-4844-9fab-ad3631d9759c"
      },
      "source": [
        "df.head()"
      ],
      "id": "c2f8f1fe",
      "execution_count": null,
      "outputs": [
        {
          "output_type": "execute_result",
          "data": {
            "text/html": [
              "<div>\n",
              "<style scoped>\n",
              "    .dataframe tbody tr th:only-of-type {\n",
              "        vertical-align: middle;\n",
              "    }\n",
              "\n",
              "    .dataframe tbody tr th {\n",
              "        vertical-align: top;\n",
              "    }\n",
              "\n",
              "    .dataframe thead th {\n",
              "        text-align: right;\n",
              "    }\n",
              "</style>\n",
              "<table border=\"1\" class=\"dataframe\">\n",
              "  <thead>\n",
              "    <tr style=\"text-align: right;\">\n",
              "      <th></th>\n",
              "      <th>lab</th>\n",
              "      <th>address</th>\n",
              "      <th>pincode</th>\n",
              "      <th>city</th>\n",
              "      <th>state</th>\n",
              "      <th>type</th>\n",
              "    </tr>\n",
              "  </thead>\n",
              "  <tbody>\n",
              "    <tr>\n",
              "      <th>0</th>\n",
              "      <td>ICMR-Regional Medical Research Centre, Port Blair</td>\n",
              "      <td>ICMR-Regional Medical Research Centre, Post Ba...</td>\n",
              "      <td>744103</td>\n",
              "      <td>Port Blair</td>\n",
              "      <td>Andaman and Nicobar Islands</td>\n",
              "      <td>Government Laboratory</td>\n",
              "    </tr>\n",
              "    <tr>\n",
              "      <th>1</th>\n",
              "      <td>Tomo Riba Institute of Health &amp; Medical Scienc...</td>\n",
              "      <td>National Highway 52A, Old Assembly Complex, Na...</td>\n",
              "      <td>791110</td>\n",
              "      <td>Naharlagun</td>\n",
              "      <td>Arunachal Pradesh</td>\n",
              "      <td>Collection Site</td>\n",
              "    </tr>\n",
              "    <tr>\n",
              "      <th>2</th>\n",
              "      <td>Sri Venkateswara Institute of Medical Sciences...</td>\n",
              "      <td>Sri Venkateswara Institute of Medical Sciences...</td>\n",
              "      <td>517507</td>\n",
              "      <td>Tirupati</td>\n",
              "      <td>Andhra Pradesh</td>\n",
              "      <td>Government Laboratory</td>\n",
              "    </tr>\n",
              "    <tr>\n",
              "      <th>3</th>\n",
              "      <td>Rangaraya Medical College, Kakinada</td>\n",
              "      <td>Rangaraya Medical College, Kakinada Pithampura...</td>\n",
              "      <td>533001</td>\n",
              "      <td>Kakinada</td>\n",
              "      <td>Andhra Pradesh</td>\n",
              "      <td>Government Laboratory</td>\n",
              "    </tr>\n",
              "    <tr>\n",
              "      <th>4</th>\n",
              "      <td>Sidhartha Medical College, Vijaywada</td>\n",
              "      <td>Siddhartha Medical College, Vijayawada NH 16 S...</td>\n",
              "      <td>520008</td>\n",
              "      <td>Vijayawada</td>\n",
              "      <td>Andhra Pradesh</td>\n",
              "      <td>Government Laboratory</td>\n",
              "    </tr>\n",
              "  </tbody>\n",
              "</table>\n",
              "</div>"
            ],
            "text/plain": [
              "                                                 lab  \\\n",
              "0  ICMR-Regional Medical Research Centre, Port Blair   \n",
              "1  Tomo Riba Institute of Health & Medical Scienc...   \n",
              "2  Sri Venkateswara Institute of Medical Sciences...   \n",
              "3                Rangaraya Medical College, Kakinada   \n",
              "4               Sidhartha Medical College, Vijaywada   \n",
              "\n",
              "                                             address  pincode        city  \\\n",
              "0  ICMR-Regional Medical Research Centre, Post Ba...   744103  Port Blair   \n",
              "1  National Highway 52A, Old Assembly Complex, Na...   791110  Naharlagun   \n",
              "2  Sri Venkateswara Institute of Medical Sciences...   517507    Tirupati   \n",
              "3  Rangaraya Medical College, Kakinada Pithampura...   533001    Kakinada   \n",
              "4  Siddhartha Medical College, Vijayawada NH 16 S...   520008  Vijayawada   \n",
              "\n",
              "                         state                   type  \n",
              "0  Andaman and Nicobar Islands  Government Laboratory  \n",
              "1            Arunachal Pradesh        Collection Site  \n",
              "2               Andhra Pradesh  Government Laboratory  \n",
              "3               Andhra Pradesh  Government Laboratory  \n",
              "4               Andhra Pradesh  Government Laboratory  "
            ]
          },
          "metadata": {
            "tags": []
          },
          "execution_count": 2
        }
      ]
    },
    {
      "cell_type": "code",
      "metadata": {
        "id": "49e7c16e",
        "outputId": "3e332b3f-be9a-47f2-818c-c1e2bd6521e4"
      },
      "source": [
        "a = df.state.values\n",
        "a"
      ],
      "id": "49e7c16e",
      "execution_count": null,
      "outputs": [
        {
          "output_type": "execute_result",
          "data": {
            "text/plain": [
              "array(['Andaman and Nicobar Islands', 'Arunachal Pradesh',\n",
              "       'Andhra Pradesh', 'Andhra Pradesh', 'Andhra Pradesh',\n",
              "       'Andhra Pradesh', 'Andhra Pradesh', 'Andhra Pradesh',\n",
              "       'Andhra Pradesh', 'Assam', 'Assam', 'Assam', 'Assam', 'Assam',\n",
              "       'Assam', 'Bihar', 'Bihar', 'Bihar', 'Bihar', 'Bihar', 'Bihar',\n",
              "       'Chandigarh', 'Chandigarh', 'Chandigarh', 'Chhattisgarh',\n",
              "       'Chhattisgarh', 'Chhattisgarh',\n",
              "       'Dadra and Nagar Haveli and Daman and Diu', 'Delhi', 'Delhi',\n",
              "       'Delhi', 'Delhi', 'Delhi', 'Delhi', 'Delhi', 'Delhi', 'Delhi',\n",
              "       'Delhi', 'Delhi', 'Delhi', 'Delhi', 'Delhi', 'Delhi', 'Delhi',\n",
              "       'Delhi', 'Delhi', 'Gujarat', 'Gujarat', 'Gujarat', 'Gujarat',\n",
              "       'Gujarat', 'Gujarat', 'Gujarat', 'Gujarat', 'Gujarat', 'Gujarat',\n",
              "       'Gujarat', 'Gujarat', 'Gujarat', 'Gujarat', 'Goa', 'Haryana',\n",
              "       'Haryana', 'Haryana', 'Haryana', 'Haryana', 'Haryana', 'Haryana',\n",
              "       'Haryana', 'Haryana', 'Haryana', 'Haryana', 'Himachal Pradesh',\n",
              "       'Himachal Pradesh', 'Himachal Pradesh', 'Jammu and Kashmir',\n",
              "       'Jammu and Kashmir', 'Jammu and Kashmir', 'Jammu and Kashmir',\n",
              "       'Jharkhand', 'Jharkhand', 'Jharkhand', 'Karnataka', 'Karnataka',\n",
              "       'Karnataka', 'Karnataka', 'Karnataka', 'Karnataka', 'Karnataka',\n",
              "       'Karnataka', 'Karnataka', 'Karnataka', 'Karnataka', 'Karnataka',\n",
              "       'Karnataka', 'Karnataka', 'Karnataka', 'Karnataka', 'Karnataka',\n",
              "       'Kerala', 'Kerala', 'Kerala', 'Kerala', 'Kerala', 'Kerala',\n",
              "       'Kerala', 'Kerala', 'Kerala', 'Kerala', 'Kerala', 'Kerala',\n",
              "       'Ladakh', 'Maharashtra', 'Maharashtra', 'Maharashtra',\n",
              "       'Maharashtra', 'Maharashtra', 'Maharashtra', 'Maharashtra',\n",
              "       'Maharashtra', 'Maharashtra', 'Maharashtra', 'Maharashtra',\n",
              "       'Maharashtra', 'Maharashtra', 'Maharashtra', 'Maharashtra',\n",
              "       'Maharashtra', 'Maharashtra', 'Maharashtra', 'Maharashtra',\n",
              "       'Maharashtra', 'Maharashtra', 'Maharashtra', 'Maharashtra',\n",
              "       'Maharashtra', 'Maharashtra', 'Maharashtra', 'Maharashtra',\n",
              "       'Maharashtra', 'Maharashtra', 'Maharashtra', 'Maharashtra',\n",
              "       'Maharashtra', 'Maharashtra', 'Maharashtra', 'Maharashtra',\n",
              "       'Maharashtra', 'Maharashtra', 'Maharashtra', 'Maharashtra',\n",
              "       'Madhya Pradesh', 'Madhya Pradesh', 'Madhya Pradesh',\n",
              "       'Madhya Pradesh', 'Madhya Pradesh', 'Madhya Pradesh',\n",
              "       'Madhya Pradesh', 'Madhya Pradesh', 'Madhya Pradesh',\n",
              "       'Madhya Pradesh', 'Manipur', 'Manipur', 'Meghalaya', 'Mizoram',\n",
              "       'Odisha', 'Odisha', 'Odisha', 'Odisha', 'Odisha', 'Odisha',\n",
              "       'Odisha', 'Puducherry', 'Punjab', 'Punjab', 'Punjab', 'Punjab',\n",
              "       'Punjab', 'Rajasthan', 'Rajasthan', 'Rajasthan', 'Rajasthan',\n",
              "       'Rajasthan', 'Rajasthan', 'Rajasthan', 'Rajasthan', 'Rajasthan',\n",
              "       'Sikkim', 'Tamil Nadu', 'Tamil Nadu', 'Tamil Nadu', 'Tamil Nadu',\n",
              "       'Tamil Nadu', 'Tamil Nadu', 'Tamil Nadu', 'Tamil Nadu',\n",
              "       'Tamil Nadu', 'Tamil Nadu', 'Tamil Nadu', 'Tamil Nadu',\n",
              "       'Tamil Nadu', 'Tamil Nadu', 'Tamil Nadu', 'Tamil Nadu',\n",
              "       'Tamil Nadu', 'Tamil Nadu', 'Tamil Nadu', 'Tamil Nadu',\n",
              "       'Tamil Nadu', 'Tamil Nadu', 'Tamil Nadu', 'Tamil Nadu',\n",
              "       'Tamil Nadu', 'Tamil Nadu', 'Telangana', 'Telangana', 'Telangana',\n",
              "       'Telangana', 'Telangana', 'Telangana', 'Telangana', 'Telangana',\n",
              "       'Telangana', 'Telangana', 'Telangana', 'Telangana', 'Telangana',\n",
              "       'Telangana', 'Telangana', 'Telangana', 'Telangana', 'Telangana',\n",
              "       'Telangana', 'Tripura', 'Uttar Pradesh', 'Uttar Pradesh',\n",
              "       'Uttar Pradesh', 'Uttar Pradesh', 'Uttar Pradesh', 'Uttar Pradesh',\n",
              "       'Uttar Pradesh', 'Uttar Pradesh', 'Uttar Pradesh', 'Uttar Pradesh',\n",
              "       'Uttar Pradesh', 'Uttar Pradesh', 'Uttar Pradesh', 'Uttar Pradesh',\n",
              "       'Uttar Pradesh', 'Uttar Pradesh', 'Uttar Pradesh', 'Uttarakhand',\n",
              "       'Uttarakhand', 'Uttarakhand', 'West Bengal', 'West Bengal',\n",
              "       'West Bengal', 'West Bengal', 'West Bengal', 'West Bengal',\n",
              "       'West Bengal', 'West Bengal', 'West Bengal', 'West Bengal',\n",
              "       'West Bengal', 'West Bengal', 'West Bengal'], dtype=object)"
            ]
          },
          "metadata": {
            "tags": []
          },
          "execution_count": 5
        }
      ]
    },
    {
      "cell_type": "code",
      "metadata": {
        "id": "fbd029fc"
      },
      "source": [
        "import numpy as np "
      ],
      "id": "fbd029fc",
      "execution_count": null,
      "outputs": []
    },
    {
      "cell_type": "code",
      "metadata": {
        "id": "eb8fa06d",
        "outputId": "40f348b7-ac38-4e9a-c7f3-cd6c8f7652aa"
      },
      "source": [
        "print(set(a))"
      ],
      "id": "eb8fa06d",
      "execution_count": null,
      "outputs": [
        {
          "output_type": "stream",
          "text": [
            "{'Ladakh', 'Gujarat', 'Punjab', 'Uttarakhand', 'Uttar Pradesh', 'Arunachal Pradesh', 'Rajasthan', 'West Bengal', 'Kerala', 'Himachal Pradesh', 'Andhra Pradesh', 'Madhya Pradesh', 'Jharkhand', 'Manipur', 'Jammu and Kashmir', 'Assam', 'Haryana', 'Mizoram', 'Andaman and Nicobar Islands', 'Sikkim', 'Bihar', 'Chhattisgarh', 'Tripura', 'Odisha', 'Dadra and Nagar Haveli and Daman and Diu', 'Tamil Nadu', 'Chandigarh', 'Karnataka', 'Maharashtra', 'Delhi', 'Telangana', 'Meghalaya', 'Puducherry', 'Goa'}\n"
          ],
          "name": "stdout"
        }
      ]
    },
    {
      "cell_type": "code",
      "metadata": {
        "id": "c52db0fc",
        "outputId": "6483b213-87e5-48ed-c6bf-85fd1af69e66"
      },
      "source": [
        "df.state.unique()"
      ],
      "id": "c52db0fc",
      "execution_count": null,
      "outputs": [
        {
          "output_type": "execute_result",
          "data": {
            "text/plain": [
              "array(['Andaman and Nicobar Islands', 'Arunachal Pradesh',\n",
              "       'Andhra Pradesh', 'Assam', 'Bihar', 'Chandigarh', 'Chhattisgarh',\n",
              "       'Dadra and Nagar Haveli and Daman and Diu', 'Delhi', 'Gujarat',\n",
              "       'Goa', 'Haryana', 'Himachal Pradesh', 'Jammu and Kashmir',\n",
              "       'Jharkhand', 'Karnataka', 'Kerala', 'Ladakh', 'Maharashtra',\n",
              "       'Madhya Pradesh', 'Manipur', 'Meghalaya', 'Mizoram', 'Odisha',\n",
              "       'Puducherry', 'Punjab', 'Rajasthan', 'Sikkim', 'Tamil Nadu',\n",
              "       'Telangana', 'Tripura', 'Uttar Pradesh', 'Uttarakhand',\n",
              "       'West Bengal'], dtype=object)"
            ]
          },
          "metadata": {
            "tags": []
          },
          "execution_count": 10
        }
      ]
    },
    {
      "cell_type": "markdown",
      "metadata": {
        "id": "80f1b272"
      },
      "source": [
        "### types of labs of ICMR"
      ],
      "id": "80f1b272"
    },
    {
      "cell_type": "code",
      "metadata": {
        "id": "3f0a2a95",
        "outputId": "8fba40be-334c-4ad3-ccbe-20d1aad35193"
      },
      "source": [
        "df['type'].unique()"
      ],
      "id": "3f0a2a95",
      "execution_count": null,
      "outputs": [
        {
          "output_type": "execute_result",
          "data": {
            "text/plain": [
              "array(['Government Laboratory', 'Collection Site', 'Private Laboratory'],\n",
              "      dtype=object)"
            ]
          },
          "metadata": {
            "tags": []
          },
          "execution_count": 12
        }
      ]
    },
    {
      "cell_type": "code",
      "metadata": {
        "id": "c0f20f32",
        "outputId": "526dfe21-e4ec-4514-e103-4cfa6556b9bd"
      },
      "source": [
        "df['type'].value_counts()"
      ],
      "id": "c0f20f32",
      "execution_count": null,
      "outputs": [
        {
          "output_type": "execute_result",
          "data": {
            "text/plain": [
              "Government Laboratory    182\n",
              "Private Laboratory        82\n",
              "Collection Site            3\n",
              "Name: type, dtype: int64"
            ]
          },
          "metadata": {
            "tags": []
          },
          "execution_count": 13
        }
      ]
    },
    {
      "cell_type": "code",
      "metadata": {
        "id": "0110d81c",
        "outputId": "60fd188f-7556-4335-9b5e-677f8f445192"
      },
      "source": [
        "import seaborn as sns\n",
        "sns.countplot(x = 'type', data = df)"
      ],
      "id": "0110d81c",
      "execution_count": null,
      "outputs": [
        {
          "output_type": "execute_result",
          "data": {
            "text/plain": [
              "<AxesSubplot:xlabel='type', ylabel='count'>"
            ]
          },
          "metadata": {
            "tags": []
          },
          "execution_count": 14
        },
        {
          "output_type": "display_data",
          "data": {
            "image/png": "[encoded data removed]",
            "text/plain": [
              "<Figure size 432x288 with 1 Axes>"
            ]
          },
          "metadata": {
            "tags": [],
            "needs_background": "light"
          }
        }
      ]
    },
    {
      "cell_type": "code",
      "metadata": {
        "id": "2fc1e4cd",
        "outputId": "bacd57d5-b73e-4212-951f-384399ad2849"
      },
      "source": [
        "df[df['state'] == 'Maharashtra']['type'].size"
      ],
      "id": "2fc1e4cd",
      "execution_count": null,
      "outputs": [
        {
          "output_type": "execute_result",
          "data": {
            "text/plain": [
              "39"
            ]
          },
          "metadata": {
            "tags": []
          },
          "execution_count": 17
        }
      ]
    },
    {
      "cell_type": "code",
      "metadata": {
        "id": "e04a9680",
        "outputId": "6957abf0-46f0-4bcc-83fe-ac77ee8d0f8d"
      },
      "source": [
        "df.plot()"
      ],
      "id": "e04a9680",
      "execution_count": null,
      "outputs": [
        {
          "output_type": "execute_result",
          "data": {
            "text/plain": [
              "<AxesSubplot:>"
            ]
          },
          "metadata": {
            "tags": []
          },
          "execution_count": 18
        },
        {
          "output_type": "display_data",
          "data": {
            "image/png": "[encoded data removed]",
            "text/plain": [
              "<Figure size 432x288 with 1 Axes>"
            ]
          },
          "metadata": {
            "tags": [],
            "needs_background": "light"
          }
        }
      ]
    },
    {
      "cell_type": "code",
      "metadata": {
        "id": "9ab8f26f",
        "outputId": "6f331839-5b09-4961-adee-00759f4baa89"
      },
      "source": [
        "df.pincode.values"
      ],
      "id": "9ab8f26f",
      "execution_count": null,
      "outputs": [
        {
          "output_type": "execute_result",
          "data": {
            "text/plain": [
              "array([744103, 791110, 517507, 533001, 520008, 515001, 522004, 516002,\n",
              "       530002, 781032, 786001, 785001, 788014, 781301, 784010, 800007,\n",
              "       800014, 800001, 846003, 842004, 801507, 160012, 160047, 160036,\n",
              "       492099, 494001, 492001, 396230, 110029, 110001, 110054, 110001,\n",
              "       110070, 110010, 110002, 110029, 110085, 110016, 110076, 110017,\n",
              "       110060, 110029, 110075, 110018, 110016, 110005, 380016, 361008,\n",
              "       395001, 364001, 390001, 360001, 380006, 380060, 380016, 395010,\n",
              "       380006, 380006, 395001, 380006, 403202, 124514, 131305, 121012,\n",
              "       125001, 132001, 122001, 122015, 122001, 122016, 122001, 122015,\n",
              "       171001, 176001, 173204, 180001, 182101, 190011, 190010, 831020,\n",
              "       834009, 826005, 573201, 570001, 577201, 560007, 560002, 560011,\n",
              "       585101, 560029, 583104, 575001, 580022, 590010, 560001, 560018,\n",
              "       560103, 560066, 560076, 688005, 695011, 673008, 680596, 695014,\n",
              "       695011, 695024, 686019, 670103, 671316, 682036, 673016, 194101,\n",
              "       411021, 400012, 400034, 400012, 411040, 411001, 440018, 400008,\n",
              "       431004, 413003, 400012, 424001, 416410, 441108, 440006, 410210,\n",
              "       444001, 411007, 400012, 400605, 400703, 400053, 400070, 400701,\n",
              "       400062, 411004, 400053, 400604, 400072, 400012, 411038, 400092,\n",
              "       411004, 411001, 400080, 400016, 400064, 411033, 400016, 462026,\n",
              "       482003, 452001, 462001, 462038, 474009, 462022, 474002, 470001,\n",
              "       462030, 795004, 795004, 793018, 796005, 751023, 751019, 753001,\n",
              "       760004, 751023, 769011, 751005, 605006, 143001, 147001, 151203,\n",
              "       141001, 143001, 302004, 342003, 326001, 313001, 334001, 342005,\n",
              "       305001, 324010, 302022, 737101, 600032, 600003, 625531, 627011,\n",
              "       610004, 636030, 641018, 605601, 625020, 620001, 638053, 636701,\n",
              "       632011, 600086, 600077, 629201, 632004, 600006, 600014, 600116,\n",
              "       641002, 600113, 620001, 600037, 600089, 641004, 500003, 500095,\n",
              "       500016, 500082, 500029, 500007, 500039, 500096, 500029, 500051,\n",
              "       500011, 500082, 501301, 500019, 500011, 500003, 500090, 500034,\n",
              "       500034, 799006, 226003, 221005, 202002, 226002, 250002, 226014,\n",
              "       206130, 273013, 284001, 211002, 226010, 282002, 201310, 208002,\n",
              "       201309, 226020, 201304, 263129, 249203, 248001, 700010, 700020,\n",
              "       721101, 734012, 700073, 732101, 700027, 700054, 700160, 700094,\n",
              "       700098, 700156, 700156])"
            ]
          },
          "metadata": {
            "tags": []
          },
          "execution_count": 20
        }
      ]
    },
    {
      "cell_type": "code",
      "metadata": {
        "id": "85c696b5",
        "outputId": "b989ed68-bcef-4ee2-efc5-f678abf22516"
      },
      "source": [
        "df[df['pincode'] == 110029]['lab']"
      ],
      "id": "85c696b5",
      "execution_count": null,
      "outputs": [
        {
          "output_type": "execute_result",
          "data": {
            "text/plain": [
              "28    All India Institute of Medical Sciences, New D...\n",
              "35    Vardhman Mahavir Medical College and Safdarjun...\n",
              "41             ONCQUEST Laboratories Limited, New Delhi\n",
              "Name: lab, dtype: object"
            ]
          },
          "metadata": {
            "tags": []
          },
          "execution_count": 23
        }
      ]
    },
    {
      "cell_type": "code",
      "metadata": {
        "id": "19e38704",
        "outputId": "b6fc737e-ae04-449b-c890-8382d5be8bd5"
      },
      "source": [
        "df.index"
      ],
      "id": "19e38704",
      "execution_count": null,
      "outputs": [
        {
          "output_type": "execute_result",
          "data": {
            "text/plain": [
              "RangeIndex(start=0, stop=267, step=1)"
            ]
          },
          "metadata": {
            "tags": []
          },
          "execution_count": 24
        }
      ]
    },
    {
      "cell_type": "code",
      "metadata": {
        "id": "50128f2b",
        "outputId": "44ad5853-1d4a-4f6f-d449-5aff04302e3c"
      },
      "source": [
        "df.sample()"
      ],
      "id": "50128f2b",
      "execution_count": null,
      "outputs": [
        {
          "output_type": "execute_result",
          "data": {
            "text/html": [
              "<div>\n",
              "<style scoped>\n",
              "    .dataframe tbody tr th:only-of-type {\n",
              "        vertical-align: middle;\n",
              "    }\n",
              "\n",
              "    .dataframe tbody tr th {\n",
              "        vertical-align: top;\n",
              "    }\n",
              "\n",
              "    .dataframe thead th {\n",
              "        text-align: right;\n",
              "    }\n",
              "</style>\n",
              "<table border=\"1\" class=\"dataframe\">\n",
              "  <thead>\n",
              "    <tr style=\"text-align: right;\">\n",
              "      <th></th>\n",
              "      <th>lab</th>\n",
              "      <th>address</th>\n",
              "      <th>pincode</th>\n",
              "      <th>city</th>\n",
              "      <th>state</th>\n",
              "      <th>type</th>\n",
              "    </tr>\n",
              "  </thead>\n",
              "  <tbody>\n",
              "    <tr>\n",
              "      <th>68</th>\n",
              "      <td>Modern Diagnostic &amp; research Centre Laboratory...</td>\n",
              "      <td>Modern Diagnostic &amp; research Centre Laboratory...</td>\n",
              "      <td>122001</td>\n",
              "      <td>Gurugram</td>\n",
              "      <td>Haryana</td>\n",
              "      <td>Private Laboratory</td>\n",
              "    </tr>\n",
              "  </tbody>\n",
              "</table>\n",
              "</div>"
            ],
            "text/plain": [
              "                                                  lab  \\\n",
              "68  Modern Diagnostic & research Centre Laboratory...   \n",
              "\n",
              "                                              address  pincode      city  \\\n",
              "68  Modern Diagnostic & research Centre Laboratory...   122001  Gurugram   \n",
              "\n",
              "      state                type  \n",
              "68  Haryana  Private Laboratory  "
            ]
          },
          "metadata": {
            "tags": []
          },
          "execution_count": 25
        }
      ]
    },
    {
      "cell_type": "markdown",
      "metadata": {
        "id": "f61d4c8b"
      },
      "source": [
        "### seting index"
      ],
      "id": "f61d4c8b"
    },
    {
      "cell_type": "code",
      "metadata": {
        "id": "728ac9c1",
        "outputId": "8fa96dd4-7e76-4af0-d551-1198eabd9b1c"
      },
      "source": [
        "df1 = df.set_index('state')\n",
        "df1"
      ],
      "id": "728ac9c1",
      "execution_count": null,
      "outputs": [
        {
          "output_type": "execute_result",
          "data": {
            "text/html": [
              "<div>\n",
              "<style scoped>\n",
              "    .dataframe tbody tr th:only-of-type {\n",
              "        vertical-align: middle;\n",
              "    }\n",
              "\n",
              "    .dataframe tbody tr th {\n",
              "        vertical-align: top;\n",
              "    }\n",
              "\n",
              "    .dataframe thead th {\n",
              "        text-align: right;\n",
              "    }\n",
              "</style>\n",
              "<table border=\"1\" class=\"dataframe\">\n",
              "  <thead>\n",
              "    <tr style=\"text-align: right;\">\n",
              "      <th></th>\n",
              "      <th>lab</th>\n",
              "      <th>address</th>\n",
              "      <th>pincode</th>\n",
              "      <th>city</th>\n",
              "      <th>type</th>\n",
              "    </tr>\n",
              "    <tr>\n",
              "      <th>state</th>\n",
              "      <th></th>\n",
              "      <th></th>\n",
              "      <th></th>\n",
              "      <th></th>\n",
              "      <th></th>\n",
              "    </tr>\n",
              "  </thead>\n",
              "  <tbody>\n",
              "    <tr>\n",
              "      <th>Andaman and Nicobar Islands</th>\n",
              "      <td>ICMR-Regional Medical Research Centre, Port Blair</td>\n",
              "      <td>ICMR-Regional Medical Research Centre, Post Ba...</td>\n",
              "      <td>744103</td>\n",
              "      <td>Port Blair</td>\n",
              "      <td>Government Laboratory</td>\n",
              "    </tr>\n",
              "    <tr>\n",
              "      <th>Arunachal Pradesh</th>\n",
              "      <td>Tomo Riba Institute of Health &amp; Medical Scienc...</td>\n",
              "      <td>National Highway 52A, Old Assembly Complex, Na...</td>\n",
              "      <td>791110</td>\n",
              "      <td>Naharlagun</td>\n",
              "      <td>Collection Site</td>\n",
              "    </tr>\n",
              "    <tr>\n",
              "      <th>Andhra Pradesh</th>\n",
              "      <td>Sri Venkateswara Institute of Medical Sciences...</td>\n",
              "      <td>Sri Venkateswara Institute of Medical Sciences...</td>\n",
              "      <td>517507</td>\n",
              "      <td>Tirupati</td>\n",
              "      <td>Government Laboratory</td>\n",
              "    </tr>\n",
              "    <tr>\n",
              "      <th>Andhra Pradesh</th>\n",
              "      <td>Rangaraya Medical College, Kakinada</td>\n",
              "      <td>Rangaraya Medical College, Kakinada Pithampura...</td>\n",
              "      <td>533001</td>\n",
              "      <td>Kakinada</td>\n",
              "      <td>Government Laboratory</td>\n",
              "    </tr>\n",
              "    <tr>\n",
              "      <th>Andhra Pradesh</th>\n",
              "      <td>Sidhartha Medical College, Vijaywada</td>\n",
              "      <td>Siddhartha Medical College, Vijayawada NH 16 S...</td>\n",
              "      <td>520008</td>\n",
              "      <td>Vijayawada</td>\n",
              "      <td>Government Laboratory</td>\n",
              "    </tr>\n",
              "    <tr>\n",
              "      <th>...</th>\n",
              "      <td>...</td>\n",
              "      <td>...</td>\n",
              "      <td>...</td>\n",
              "      <td>...</td>\n",
              "      <td>...</td>\n",
              "    </tr>\n",
              "    <tr>\n",
              "      <th>West Bengal</th>\n",
              "      <td>Tata Medical Center, Kolkata</td>\n",
              "      <td>Department of Laboratory Sciences, Tata Medica...</td>\n",
              "      <td>700160</td>\n",
              "      <td>Kolkata</td>\n",
              "      <td>Private Laboratory</td>\n",
              "    </tr>\n",
              "    <tr>\n",
              "      <th>West Bengal</th>\n",
              "      <td>Laboratory Services, Peerless Hospitex Hospita...</td>\n",
              "      <td>Laboratory Services, Peerless Hospitex Hospita...</td>\n",
              "      <td>700094</td>\n",
              "      <td>Kolkata</td>\n",
              "      <td>Private Laboratory</td>\n",
              "    </tr>\n",
              "    <tr>\n",
              "      <th>West Bengal</th>\n",
              "      <td>AMRI Hospitals, Department of Laboratory Medic...</td>\n",
              "      <td>AMRI Hospitals, Department of Laboratory Medic...</td>\n",
              "      <td>700098</td>\n",
              "      <td>Kolkata</td>\n",
              "      <td>Private Laboratory</td>\n",
              "    </tr>\n",
              "    <tr>\n",
              "      <th>West Bengal</th>\n",
              "      <td>Suraksha Diagnostics Pvt. Ltd., Kolkata</td>\n",
              "      <td>Suraksha Diagnostics Pvt. Ltd., 12/1, Premises...</td>\n",
              "      <td>700156</td>\n",
              "      <td>Kolkata</td>\n",
              "      <td>Private Laboratory</td>\n",
              "    </tr>\n",
              "    <tr>\n",
              "      <th>West Bengal</th>\n",
              "      <td>Dr. Lal PathLabs Ltd, Reference Laboratory, Ko...</td>\n",
              "      <td>Dr. Lal PathLabs Ltd, Reference Laboratory, Pl...</td>\n",
              "      <td>700156</td>\n",
              "      <td>Kolkata</td>\n",
              "      <td>Private Laboratory</td>\n",
              "    </tr>\n",
              "  </tbody>\n",
              "</table>\n",
              "<p>267 rows × 5 columns</p>\n",
              "</div>"
            ],
            "text/plain": [
              "                                                                           lab  \\\n",
              "state                                                                            \n",
              "Andaman and Nicobar Islands  ICMR-Regional Medical Research Centre, Port Blair   \n",
              "Arunachal Pradesh            Tomo Riba Institute of Health & Medical Scienc...   \n",
              "Andhra Pradesh               Sri Venkateswara Institute of Medical Sciences...   \n",
              "Andhra Pradesh                             Rangaraya Medical College, Kakinada   \n",
              "Andhra Pradesh                            Sidhartha Medical College, Vijaywada   \n",
              "...                                                                        ...   \n",
              "West Bengal                                       Tata Medical Center, Kolkata   \n",
              "West Bengal                  Laboratory Services, Peerless Hospitex Hospita...   \n",
              "West Bengal                  AMRI Hospitals, Department of Laboratory Medic...   \n",
              "West Bengal                            Suraksha Diagnostics Pvt. Ltd., Kolkata   \n",
              "West Bengal                  Dr. Lal PathLabs Ltd, Reference Laboratory, Ko...   \n",
              "\n",
              "                                                                       address  \\\n",
              "state                                                                            \n",
              "Andaman and Nicobar Islands  ICMR-Regional Medical Research Centre, Post Ba...   \n",
              "Arunachal Pradesh            National Highway 52A, Old Assembly Complex, Na...   \n",
              "Andhra Pradesh               Sri Venkateswara Institute of Medical Sciences...   \n",
              "Andhra Pradesh               Rangaraya Medical College, Kakinada Pithampura...   \n",
              "Andhra Pradesh               Siddhartha Medical College, Vijayawada NH 16 S...   \n",
              "...                                                                        ...   \n",
              "West Bengal                  Department of Laboratory Sciences, Tata Medica...   \n",
              "West Bengal                  Laboratory Services, Peerless Hospitex Hospita...   \n",
              "West Bengal                  AMRI Hospitals, Department of Laboratory Medic...   \n",
              "West Bengal                  Suraksha Diagnostics Pvt. Ltd., 12/1, Premises...   \n",
              "West Bengal                  Dr. Lal PathLabs Ltd, Reference Laboratory, Pl...   \n",
              "\n",
              "                             pincode        city                   type  \n",
              "state                                                                    \n",
              "Andaman and Nicobar Islands   744103  Port Blair  Government Laboratory  \n",
              "Arunachal Pradesh             791110  Naharlagun        Collection Site  \n",
              "Andhra Pradesh                517507    Tirupati  Government Laboratory  \n",
              "Andhra Pradesh                533001    Kakinada  Government Laboratory  \n",
              "Andhra Pradesh                520008  Vijayawada  Government Laboratory  \n",
              "...                              ...         ...                    ...  \n",
              "West Bengal                   700160     Kolkata     Private Laboratory  \n",
              "West Bengal                   700094     Kolkata     Private Laboratory  \n",
              "West Bengal                   700098     Kolkata     Private Laboratory  \n",
              "West Bengal                   700156     Kolkata     Private Laboratory  \n",
              "West Bengal                   700156     Kolkata     Private Laboratory  \n",
              "\n",
              "[267 rows x 5 columns]"
            ]
          },
          "metadata": {
            "tags": []
          },
          "execution_count": 27
        }
      ]
    },
    {
      "cell_type": "code",
      "metadata": {
        "id": "6847b32b",
        "outputId": "a95b0518-e457-4333-d895-3216e5a4adf5"
      },
      "source": [
        "df1['city']['Chhattisgarh']"
      ],
      "id": "6847b32b",
      "execution_count": null,
      "outputs": [
        {
          "output_type": "execute_result",
          "data": {
            "text/plain": [
              "state\n",
              "Chhattisgarh       Raipur\n",
              "Chhattisgarh    Jagdalpur\n",
              "Chhattisgarh       Raipur\n",
              "Name: city, dtype: object"
            ]
          },
          "metadata": {
            "tags": []
          },
          "execution_count": 31
        }
      ]
    },
    {
      "cell_type": "code",
      "metadata": {
        "id": "d3588c99",
        "outputId": "57f1bc59-6882-4a01-d7f5-479eed17f5f1"
      },
      "source": [
        "df1['city']['West Bengal'].value_counts()"
      ],
      "id": "d3588c99",
      "execution_count": null,
      "outputs": [
        {
          "output_type": "execute_result",
          "data": {
            "text/plain": [
              "Kolkata      10\n",
              "Siliguri      1\n",
              "Malda         1\n",
              "Midnapore     1\n",
              "Name: city, dtype: int64"
            ]
          },
          "metadata": {
            "tags": []
          },
          "execution_count": 34
        }
      ]
    },
    {
      "cell_type": "code",
      "metadata": {
        "id": "cf099b67",
        "outputId": "fdeb1cca-e29e-4484-ae11-6c2947f38e49"
      },
      "source": [
        "df1.reset_index()"
      ],
      "id": "cf099b67",
      "execution_count": null,
      "outputs": [
        {
          "output_type": "execute_result",
          "data": {
            "text/html": [
              "<div>\n",
              "<style scoped>\n",
              "    .dataframe tbody tr th:only-of-type {\n",
              "        vertical-align: middle;\n",
              "    }\n",
              "\n",
              "    .dataframe tbody tr th {\n",
              "        vertical-align: top;\n",
              "    }\n",
              "\n",
              "    .dataframe thead th {\n",
              "        text-align: right;\n",
              "    }\n",
              "</style>\n",
              "<table border=\"1\" class=\"dataframe\">\n",
              "  <thead>\n",
              "    <tr style=\"text-align: right;\">\n",
              "      <th></th>\n",
              "      <th>state</th>\n",
              "      <th>lab</th>\n",
              "      <th>address</th>\n",
              "      <th>pincode</th>\n",
              "      <th>city</th>\n",
              "      <th>type</th>\n",
              "    </tr>\n",
              "  </thead>\n",
              "  <tbody>\n",
              "    <tr>\n",
              "      <th>0</th>\n",
              "      <td>Andaman and Nicobar Islands</td>\n",
              "      <td>ICMR-Regional Medical Research Centre, Port Blair</td>\n",
              "      <td>ICMR-Regional Medical Research Centre, Post Ba...</td>\n",
              "      <td>744103</td>\n",
              "      <td>Port Blair</td>\n",
              "      <td>Government Laboratory</td>\n",
              "    </tr>\n",
              "    <tr>\n",
              "      <th>1</th>\n",
              "      <td>Arunachal Pradesh</td>\n",
              "      <td>Tomo Riba Institute of Health &amp; Medical Scienc...</td>\n",
              "      <td>National Highway 52A, Old Assembly Complex, Na...</td>\n",
              "      <td>791110</td>\n",
              "      <td>Naharlagun</td>\n",
              "      <td>Collection Site</td>\n",
              "    </tr>\n",
              "    <tr>\n",
              "      <th>2</th>\n",
              "      <td>Andhra Pradesh</td>\n",
              "      <td>Sri Venkateswara Institute of Medical Sciences...</td>\n",
              "      <td>Sri Venkateswara Institute of Medical Sciences...</td>\n",
              "      <td>517507</td>\n",
              "      <td>Tirupati</td>\n",
              "      <td>Government Laboratory</td>\n",
              "    </tr>\n",
              "    <tr>\n",
              "      <th>3</th>\n",
              "      <td>Andhra Pradesh</td>\n",
              "      <td>Rangaraya Medical College, Kakinada</td>\n",
              "      <td>Rangaraya Medical College, Kakinada Pithampura...</td>\n",
              "      <td>533001</td>\n",
              "      <td>Kakinada</td>\n",
              "      <td>Government Laboratory</td>\n",
              "    </tr>\n",
              "    <tr>\n",
              "      <th>4</th>\n",
              "      <td>Andhra Pradesh</td>\n",
              "      <td>Sidhartha Medical College, Vijaywada</td>\n",
              "      <td>Siddhartha Medical College, Vijayawada NH 16 S...</td>\n",
              "      <td>520008</td>\n",
              "      <td>Vijayawada</td>\n",
              "      <td>Government Laboratory</td>\n",
              "    </tr>\n",
              "    <tr>\n",
              "      <th>...</th>\n",
              "      <td>...</td>\n",
              "      <td>...</td>\n",
              "      <td>...</td>\n",
              "      <td>...</td>\n",
              "      <td>...</td>\n",
              "      <td>...</td>\n",
              "    </tr>\n",
              "    <tr>\n",
              "      <th>262</th>\n",
              "      <td>West Bengal</td>\n",
              "      <td>Tata Medical Center, Kolkata</td>\n",
              "      <td>Department of Laboratory Sciences, Tata Medica...</td>\n",
              "      <td>700160</td>\n",
              "      <td>Kolkata</td>\n",
              "      <td>Private Laboratory</td>\n",
              "    </tr>\n",
              "    <tr>\n",
              "      <th>263</th>\n",
              "      <td>West Bengal</td>\n",
              "      <td>Laboratory Services, Peerless Hospitex Hospita...</td>\n",
              "      <td>Laboratory Services, Peerless Hospitex Hospita...</td>\n",
              "      <td>700094</td>\n",
              "      <td>Kolkata</td>\n",
              "      <td>Private Laboratory</td>\n",
              "    </tr>\n",
              "    <tr>\n",
              "      <th>264</th>\n",
              "      <td>West Bengal</td>\n",
              "      <td>AMRI Hospitals, Department of Laboratory Medic...</td>\n",
              "      <td>AMRI Hospitals, Department of Laboratory Medic...</td>\n",
              "      <td>700098</td>\n",
              "      <td>Kolkata</td>\n",
              "      <td>Private Laboratory</td>\n",
              "    </tr>\n",
              "    <tr>\n",
              "      <th>265</th>\n",
              "      <td>West Bengal</td>\n",
              "      <td>Suraksha Diagnostics Pvt. Ltd., Kolkata</td>\n",
              "      <td>Suraksha Diagnostics Pvt. Ltd., 12/1, Premises...</td>\n",
              "      <td>700156</td>\n",
              "      <td>Kolkata</td>\n",
              "      <td>Private Laboratory</td>\n",
              "    </tr>\n",
              "    <tr>\n",
              "      <th>266</th>\n",
              "      <td>West Bengal</td>\n",
              "      <td>Dr. Lal PathLabs Ltd, Reference Laboratory, Ko...</td>\n",
              "      <td>Dr. Lal PathLabs Ltd, Reference Laboratory, Pl...</td>\n",
              "      <td>700156</td>\n",
              "      <td>Kolkata</td>\n",
              "      <td>Private Laboratory</td>\n",
              "    </tr>\n",
              "  </tbody>\n",
              "</table>\n",
              "<p>267 rows × 6 columns</p>\n",
              "</div>"
            ],
            "text/plain": [
              "                           state  \\\n",
              "0    Andaman and Nicobar Islands   \n",
              "1              Arunachal Pradesh   \n",
              "2                 Andhra Pradesh   \n",
              "3                 Andhra Pradesh   \n",
              "4                 Andhra Pradesh   \n",
              "..                           ...   \n",
              "262                  West Bengal   \n",
              "263                  West Bengal   \n",
              "264                  West Bengal   \n",
              "265                  West Bengal   \n",
              "266                  West Bengal   \n",
              "\n",
              "                                                   lab  \\\n",
              "0    ICMR-Regional Medical Research Centre, Port Blair   \n",
              "1    Tomo Riba Institute of Health & Medical Scienc...   \n",
              "2    Sri Venkateswara Institute of Medical Sciences...   \n",
              "3                  Rangaraya Medical College, Kakinada   \n",
              "4                 Sidhartha Medical College, Vijaywada   \n",
              "..                                                 ...   \n",
              "262                       Tata Medical Center, Kolkata   \n",
              "263  Laboratory Services, Peerless Hospitex Hospita...   \n",
              "264  AMRI Hospitals, Department of Laboratory Medic...   \n",
              "265            Suraksha Diagnostics Pvt. Ltd., Kolkata   \n",
              "266  Dr. Lal PathLabs Ltd, Reference Laboratory, Ko...   \n",
              "\n",
              "                                               address  pincode        city  \\\n",
              "0    ICMR-Regional Medical Research Centre, Post Ba...   744103  Port Blair   \n",
              "1    National Highway 52A, Old Assembly Complex, Na...   791110  Naharlagun   \n",
              "2    Sri Venkateswara Institute of Medical Sciences...   517507    Tirupati   \n",
              "3    Rangaraya Medical College, Kakinada Pithampura...   533001    Kakinada   \n",
              "4    Siddhartha Medical College, Vijayawada NH 16 S...   520008  Vijayawada   \n",
              "..                                                 ...      ...         ...   \n",
              "262  Department of Laboratory Sciences, Tata Medica...   700160     Kolkata   \n",
              "263  Laboratory Services, Peerless Hospitex Hospita...   700094     Kolkata   \n",
              "264  AMRI Hospitals, Department of Laboratory Medic...   700098     Kolkata   \n",
              "265  Suraksha Diagnostics Pvt. Ltd., 12/1, Premises...   700156     Kolkata   \n",
              "266  Dr. Lal PathLabs Ltd, Reference Laboratory, Pl...   700156     Kolkata   \n",
              "\n",
              "                      type  \n",
              "0    Government Laboratory  \n",
              "1          Collection Site  \n",
              "2    Government Laboratory  \n",
              "3    Government Laboratory  \n",
              "4    Government Laboratory  \n",
              "..                     ...  \n",
              "262     Private Laboratory  \n",
              "263     Private Laboratory  \n",
              "264     Private Laboratory  \n",
              "265     Private Laboratory  \n",
              "266     Private Laboratory  \n",
              "\n",
              "[267 rows x 6 columns]"
            ]
          },
          "metadata": {
            "tags": []
          },
          "execution_count": 36
        }
      ]
    },
    {
      "cell_type": "code",
      "metadata": {
        "id": "ad237fa2"
      },
      "source": [
        "df = pd.read_csv('music genre.csv')\n",
        "del df['Unnamed: 0']"
      ],
      "id": "ad237fa2",
      "execution_count": null,
      "outputs": []
    },
    {
      "cell_type": "code",
      "metadata": {
        "id": "76d7a849",
        "outputId": "35efc4ef-3540-41c6-aee4-a02d10bbe0eb"
      },
      "source": [
        "df.info()"
      ],
      "id": "76d7a849",
      "execution_count": null,
      "outputs": [
        {
          "output_type": "stream",
          "text": [
            "<class 'pandas.core.frame.DataFrame'>\n",
            "RangeIndex: 603 entries, 0 to 602\n",
            "Data columns (total 14 columns):\n",
            " #   Column     Non-Null Count  Dtype \n",
            "---  ------     --------------  ----- \n",
            " 0   title      603 non-null    object\n",
            " 1   artist     603 non-null    object\n",
            " 2   top genre  603 non-null    object\n",
            " 3   year       603 non-null    int64 \n",
            " 4   bpm        603 non-null    int64 \n",
            " 5   nrgy       603 non-null    int64 \n",
            " 6   dnce       603 non-null    int64 \n",
            " 7   dB         603 non-null    int64 \n",
            " 8   live       603 non-null    int64 \n",
            " 9   val        603 non-null    int64 \n",
            " 10  dur        603 non-null    int64 \n",
            " 11  acous      603 non-null    int64 \n",
            " 12  spch       603 non-null    int64 \n",
            " 13  pop        603 non-null    int64 \n",
            "dtypes: int64(11), object(3)\n",
            "memory usage: 66.1+ KB\n"
          ],
          "name": "stdout"
        }
      ]
    },
    {
      "cell_type": "code",
      "metadata": {
        "id": "fa617c50",
        "outputId": "7921200d-bc5f-4e28-d64e-ca846af36a2a"
      },
      "source": [
        "df.head()"
      ],
      "id": "fa617c50",
      "execution_count": null,
      "outputs": [
        {
          "output_type": "execute_result",
          "data": {
            "text/html": [
              "<div>\n",
              "<style scoped>\n",
              "    .dataframe tbody tr th:only-of-type {\n",
              "        vertical-align: middle;\n",
              "    }\n",
              "\n",
              "    .dataframe tbody tr th {\n",
              "        vertical-align: top;\n",
              "    }\n",
              "\n",
              "    .dataframe thead th {\n",
              "        text-align: right;\n",
              "    }\n",
              "</style>\n",
              "<table border=\"1\" class=\"dataframe\">\n",
              "  <thead>\n",
              "    <tr style=\"text-align: right;\">\n",
              "      <th></th>\n",
              "      <th>title</th>\n",
              "      <th>artist</th>\n",
              "      <th>top genre</th>\n",
              "      <th>year</th>\n",
              "      <th>bpm</th>\n",
              "      <th>nrgy</th>\n",
              "      <th>dnce</th>\n",
              "      <th>dB</th>\n",
              "      <th>live</th>\n",
              "      <th>val</th>\n",
              "      <th>dur</th>\n",
              "      <th>acous</th>\n",
              "      <th>spch</th>\n",
              "      <th>pop</th>\n",
              "    </tr>\n",
              "  </thead>\n",
              "  <tbody>\n",
              "    <tr>\n",
              "      <th>0</th>\n",
              "      <td>Hey, Soul Sister</td>\n",
              "      <td>Train</td>\n",
              "      <td>neo mellow</td>\n",
              "      <td>2010</td>\n",
              "      <td>97</td>\n",
              "      <td>89</td>\n",
              "      <td>67</td>\n",
              "      <td>-4</td>\n",
              "      <td>8</td>\n",
              "      <td>80</td>\n",
              "      <td>217</td>\n",
              "      <td>19</td>\n",
              "      <td>4</td>\n",
              "      <td>83</td>\n",
              "    </tr>\n",
              "    <tr>\n",
              "      <th>1</th>\n",
              "      <td>Love The Way You Lie</td>\n",
              "      <td>Eminem</td>\n",
              "      <td>detroit hip hop</td>\n",
              "      <td>2010</td>\n",
              "      <td>87</td>\n",
              "      <td>93</td>\n",
              "      <td>75</td>\n",
              "      <td>-5</td>\n",
              "      <td>52</td>\n",
              "      <td>64</td>\n",
              "      <td>263</td>\n",
              "      <td>24</td>\n",
              "      <td>23</td>\n",
              "      <td>82</td>\n",
              "    </tr>\n",
              "    <tr>\n",
              "      <th>2</th>\n",
              "      <td>TiK ToK</td>\n",
              "      <td>Kesha</td>\n",
              "      <td>dance pop</td>\n",
              "      <td>2010</td>\n",
              "      <td>120</td>\n",
              "      <td>84</td>\n",
              "      <td>76</td>\n",
              "      <td>-3</td>\n",
              "      <td>29</td>\n",
              "      <td>71</td>\n",
              "      <td>200</td>\n",
              "      <td>10</td>\n",
              "      <td>14</td>\n",
              "      <td>80</td>\n",
              "    </tr>\n",
              "    <tr>\n",
              "      <th>3</th>\n",
              "      <td>Bad Romance</td>\n",
              "      <td>Lady Gaga</td>\n",
              "      <td>dance pop</td>\n",
              "      <td>2010</td>\n",
              "      <td>119</td>\n",
              "      <td>92</td>\n",
              "      <td>70</td>\n",
              "      <td>-4</td>\n",
              "      <td>8</td>\n",
              "      <td>71</td>\n",
              "      <td>295</td>\n",
              "      <td>0</td>\n",
              "      <td>4</td>\n",
              "      <td>79</td>\n",
              "    </tr>\n",
              "    <tr>\n",
              "      <th>4</th>\n",
              "      <td>Just the Way You Are</td>\n",
              "      <td>Bruno Mars</td>\n",
              "      <td>pop</td>\n",
              "      <td>2010</td>\n",
              "      <td>109</td>\n",
              "      <td>84</td>\n",
              "      <td>64</td>\n",
              "      <td>-5</td>\n",
              "      <td>9</td>\n",
              "      <td>43</td>\n",
              "      <td>221</td>\n",
              "      <td>2</td>\n",
              "      <td>4</td>\n",
              "      <td>78</td>\n",
              "    </tr>\n",
              "  </tbody>\n",
              "</table>\n",
              "</div>"
            ],
            "text/plain": [
              "                  title      artist        top genre  year  bpm  nrgy  dnce  \\\n",
              "0      Hey, Soul Sister       Train       neo mellow  2010   97    89    67   \n",
              "1  Love The Way You Lie      Eminem  detroit hip hop  2010   87    93    75   \n",
              "2               TiK ToK       Kesha        dance pop  2010  120    84    76   \n",
              "3           Bad Romance   Lady Gaga        dance pop  2010  119    92    70   \n",
              "4  Just the Way You Are  Bruno Mars              pop  2010  109    84    64   \n",
              "\n",
              "   dB  live  val  dur  acous  spch  pop  \n",
              "0  -4     8   80  217     19     4   83  \n",
              "1  -5    52   64  263     24    23   82  \n",
              "2  -3    29   71  200     10    14   80  \n",
              "3  -4     8   71  295      0     4   79  \n",
              "4  -5     9   43  221      2     4   78  "
            ]
          },
          "metadata": {
            "tags": []
          },
          "execution_count": 40
        }
      ]
    },
    {
      "cell_type": "code",
      "metadata": {
        "id": "853b7732",
        "outputId": "d56bd7dd-9be6-4d88-ff25-abc79cc8ee65"
      },
      "source": [
        "df['top genre'].value_counts()[:5]"
      ],
      "id": "853b7732",
      "execution_count": null,
      "outputs": [
        {
          "output_type": "execute_result",
          "data": {
            "text/plain": [
              "dance pop        327\n",
              "pop               60\n",
              "canadian pop      34\n",
              "boy band          15\n",
              "barbadian pop     15\n",
              "Name: top genre, dtype: int64"
            ]
          },
          "metadata": {
            "tags": []
          },
          "execution_count": 45
        }
      ]
    },
    {
      "cell_type": "code",
      "metadata": {
        "id": "679e9713",
        "outputId": "90adf7f3-f168-4ca3-8897-b2f382713aa1"
      },
      "source": [
        "df.title.values[:50]"
      ],
      "id": "679e9713",
      "execution_count": null,
      "outputs": [
        {
          "output_type": "execute_result",
          "data": {
            "text/plain": [
              "array(['Hey, Soul Sister', 'Love The Way You Lie', 'TiK ToK',\n",
              "       'Bad Romance', 'Just the Way You Are', 'Baby', 'Dynamite',\n",
              "       'Secrets', 'Empire State of Mind (Part II) Broken Down',\n",
              "       'Only Girl (In The World)',\n",
              "       \"Club Can't Handle Me (feat. David Guetta)\", 'Marry You',\n",
              "       'Cooler Than Me - Single Mix', 'Telephone', 'Like A G6',\n",
              "       'OMG (feat. will.i.am)', 'Eenie Meenie', 'The Time (Dirty Bit)',\n",
              "       'Alejandro', 'Your Love Is My Drug', 'Meet Me Halfway',\n",
              "       'Whataya Want from Me', 'Take It Off', 'Misery',\n",
              "       'All The Right Moves', 'Animal', 'Naturally', 'I Like It',\n",
              "       'Teenage Dream', 'California Gurls', '3',\n",
              "       'My First Kiss - feat. Ke$ha', 'Blah Blah Blah (feat. 3OH!3)',\n",
              "       'Imma Be', 'Try Sleeping with a Broken Heart',\n",
              "       'Sexy Bitch (feat. Akon)',\n",
              "       'Bound To You - Burlesque Original Motion Picture Soundtrack',\n",
              "       'If I Had You', 'Rock That Body', 'Dog Days Are Over',\n",
              "       \"Something's Got A Hold On Me - Burlesque Original Motion Picture Soundtrack\",\n",
              "       \"Doesn't Mean Anything\", 'Hard', 'Loca', 'You Lost Me',\n",
              "       'Not Myself Tonight', 'Written in the Stars (feat. Eric Turner)',\n",
              "       \"DJ Got Us Fallin' In Love (feat. Pitbull)\",\n",
              "       'Castle Walls (feat. Christina Aguilera)', 'Break Your Heart'],\n",
              "      dtype=object)"
            ]
          },
          "metadata": {
            "tags": []
          },
          "execution_count": 47
        }
      ]
    },
    {
      "cell_type": "code",
      "metadata": {
        "id": "1f3d50e5",
        "outputId": "e0cbffd4-0149-4747-dd83-ff946dcd00ce"
      },
      "source": [
        "df.year.value_counts(sort = False)"
      ],
      "id": "1f3d50e5",
      "execution_count": null,
      "outputs": [
        {
          "output_type": "execute_result",
          "data": {
            "text/plain": [
              "2010    51\n",
              "2011    53\n",
              "2012    35\n",
              "2013    71\n",
              "2014    58\n",
              "2015    95\n",
              "2016    80\n",
              "2017    65\n",
              "2018    64\n",
              "2019    31\n",
              "Name: year, dtype: int64"
            ]
          },
          "metadata": {
            "tags": []
          },
          "execution_count": 50
        }
      ]
    },
    {
      "cell_type": "code",
      "metadata": {
        "id": "fadc7cbf",
        "outputId": "7718509d-3f89-4ff4-9348-682a5b86f39a"
      },
      "source": [
        "df[(df['top genre'] == 'pop') & (df['year'] == 2019)]['title'].values"
      ],
      "id": "fadc7cbf",
      "execution_count": null,
      "outputs": [
        {
          "output_type": "execute_result",
          "data": {
            "text/plain": [
              "array(['Memories', 'Someone You Loved', 'How Do You Sleep?',\n",
              "       'South of the Border (feat. Camila Cabello & Cardi B)',\n",
              "       'Beautiful People (feat. Khalid)',\n",
              "       \"I Don't Care (with Justin Bieber)\",\n",
              "       'Girls Like You (feat. Cardi B)', 'Antisocial (with Travis Scott)',\n",
              "       'Cross Me (feat. Chance the Rapper & PnB Rock)'], dtype=object)"
            ]
          },
          "metadata": {
            "tags": []
          },
          "execution_count": 53
        }
      ]
    },
    {
      "cell_type": "code",
      "metadata": {
        "id": "e5dec7a9",
        "outputId": "740e5f2a-7166-49c6-8d88-cbb4eaa39de9"
      },
      "source": [
        "df.sort_values(by='year', ascending=False)"
      ],
      "id": "e5dec7a9",
      "execution_count": null,
      "outputs": [
        {
          "output_type": "execute_result",
          "data": {
            "text/html": [
              "<div>\n",
              "<style scoped>\n",
              "    .dataframe tbody tr th:only-of-type {\n",
              "        vertical-align: middle;\n",
              "    }\n",
              "\n",
              "    .dataframe tbody tr th {\n",
              "        vertical-align: top;\n",
              "    }\n",
              "\n",
              "    .dataframe thead th {\n",
              "        text-align: right;\n",
              "    }\n",
              "</style>\n",
              "<table border=\"1\" class=\"dataframe\">\n",
              "  <thead>\n",
              "    <tr style=\"text-align: right;\">\n",
              "      <th></th>\n",
              "      <th>title</th>\n",
              "      <th>artist</th>\n",
              "      <th>top genre</th>\n",
              "      <th>year</th>\n",
              "      <th>bpm</th>\n",
              "      <th>nrgy</th>\n",
              "      <th>dnce</th>\n",
              "      <th>dB</th>\n",
              "      <th>live</th>\n",
              "      <th>val</th>\n",
              "      <th>dur</th>\n",
              "      <th>acous</th>\n",
              "      <th>spch</th>\n",
              "      <th>pop</th>\n",
              "    </tr>\n",
              "  </thead>\n",
              "  <tbody>\n",
              "    <tr>\n",
              "      <th>602</th>\n",
              "      <td>Kills You Slowly</td>\n",
              "      <td>The Chainsmokers</td>\n",
              "      <td>electropop</td>\n",
              "      <td>2019</td>\n",
              "      <td>150</td>\n",
              "      <td>44</td>\n",
              "      <td>70</td>\n",
              "      <td>-9</td>\n",
              "      <td>13</td>\n",
              "      <td>23</td>\n",
              "      <td>213</td>\n",
              "      <td>6</td>\n",
              "      <td>6</td>\n",
              "      <td>67</td>\n",
              "    </tr>\n",
              "    <tr>\n",
              "      <th>587</th>\n",
              "      <td>I Don't Care (with Justin Bieber)</td>\n",
              "      <td>Ed Sheeran</td>\n",
              "      <td>pop</td>\n",
              "      <td>2019</td>\n",
              "      <td>102</td>\n",
              "      <td>68</td>\n",
              "      <td>80</td>\n",
              "      <td>-5</td>\n",
              "      <td>9</td>\n",
              "      <td>84</td>\n",
              "      <td>220</td>\n",
              "      <td>9</td>\n",
              "      <td>4</td>\n",
              "      <td>85</td>\n",
              "    </tr>\n",
              "    <tr>\n",
              "      <th>573</th>\n",
              "      <td>Lose You To Love Me</td>\n",
              "      <td>Selena Gomez</td>\n",
              "      <td>dance pop</td>\n",
              "      <td>2019</td>\n",
              "      <td>102</td>\n",
              "      <td>34</td>\n",
              "      <td>51</td>\n",
              "      <td>-9</td>\n",
              "      <td>21</td>\n",
              "      <td>9</td>\n",
              "      <td>206</td>\n",
              "      <td>58</td>\n",
              "      <td>4</td>\n",
              "      <td>97</td>\n",
              "    </tr>\n",
              "    <tr>\n",
              "      <th>574</th>\n",
              "      <td>Someone You Loved</td>\n",
              "      <td>Lewis Capaldi</td>\n",
              "      <td>pop</td>\n",
              "      <td>2019</td>\n",
              "      <td>110</td>\n",
              "      <td>41</td>\n",
              "      <td>50</td>\n",
              "      <td>-6</td>\n",
              "      <td>11</td>\n",
              "      <td>45</td>\n",
              "      <td>182</td>\n",
              "      <td>75</td>\n",
              "      <td>3</td>\n",
              "      <td>96</td>\n",
              "    </tr>\n",
              "    <tr>\n",
              "      <th>575</th>\n",
              "      <td>Se�orita</td>\n",
              "      <td>Shawn Mendes</td>\n",
              "      <td>canadian pop</td>\n",
              "      <td>2019</td>\n",
              "      <td>117</td>\n",
              "      <td>54</td>\n",
              "      <td>76</td>\n",
              "      <td>-6</td>\n",
              "      <td>9</td>\n",
              "      <td>75</td>\n",
              "      <td>191</td>\n",
              "      <td>4</td>\n",
              "      <td>3</td>\n",
              "      <td>95</td>\n",
              "    </tr>\n",
              "    <tr>\n",
              "      <th>...</th>\n",
              "      <td>...</td>\n",
              "      <td>...</td>\n",
              "      <td>...</td>\n",
              "      <td>...</td>\n",
              "      <td>...</td>\n",
              "      <td>...</td>\n",
              "      <td>...</td>\n",
              "      <td>...</td>\n",
              "      <td>...</td>\n",
              "      <td>...</td>\n",
              "      <td>...</td>\n",
              "      <td>...</td>\n",
              "      <td>...</td>\n",
              "      <td>...</td>\n",
              "    </tr>\n",
              "    <tr>\n",
              "      <th>32</th>\n",
              "      <td>Blah Blah Blah (feat. 3OH!3)</td>\n",
              "      <td>Kesha</td>\n",
              "      <td>dance pop</td>\n",
              "      <td>2010</td>\n",
              "      <td>120</td>\n",
              "      <td>84</td>\n",
              "      <td>75</td>\n",
              "      <td>-3</td>\n",
              "      <td>42</td>\n",
              "      <td>52</td>\n",
              "      <td>172</td>\n",
              "      <td>8</td>\n",
              "      <td>12</td>\n",
              "      <td>62</td>\n",
              "    </tr>\n",
              "    <tr>\n",
              "      <th>31</th>\n",
              "      <td>My First Kiss - feat. Ke$ha</td>\n",
              "      <td>3OH!3</td>\n",
              "      <td>dance pop</td>\n",
              "      <td>2010</td>\n",
              "      <td>138</td>\n",
              "      <td>89</td>\n",
              "      <td>68</td>\n",
              "      <td>-4</td>\n",
              "      <td>36</td>\n",
              "      <td>83</td>\n",
              "      <td>192</td>\n",
              "      <td>1</td>\n",
              "      <td>8</td>\n",
              "      <td>62</td>\n",
              "    </tr>\n",
              "    <tr>\n",
              "      <th>30</th>\n",
              "      <td>3</td>\n",
              "      <td>Britney Spears</td>\n",
              "      <td>dance pop</td>\n",
              "      <td>2010</td>\n",
              "      <td>135</td>\n",
              "      <td>71</td>\n",
              "      <td>70</td>\n",
              "      <td>-2</td>\n",
              "      <td>14</td>\n",
              "      <td>79</td>\n",
              "      <td>213</td>\n",
              "      <td>5</td>\n",
              "      <td>5</td>\n",
              "      <td>62</td>\n",
              "    </tr>\n",
              "    <tr>\n",
              "      <th>29</th>\n",
              "      <td>California Gurls</td>\n",
              "      <td>Katy Perry</td>\n",
              "      <td>dance pop</td>\n",
              "      <td>2010</td>\n",
              "      <td>125</td>\n",
              "      <td>75</td>\n",
              "      <td>79</td>\n",
              "      <td>-4</td>\n",
              "      <td>18</td>\n",
              "      <td>40</td>\n",
              "      <td>235</td>\n",
              "      <td>0</td>\n",
              "      <td>5</td>\n",
              "      <td>62</td>\n",
              "    </tr>\n",
              "    <tr>\n",
              "      <th>0</th>\n",
              "      <td>Hey, Soul Sister</td>\n",
              "      <td>Train</td>\n",
              "      <td>neo mellow</td>\n",
              "      <td>2010</td>\n",
              "      <td>97</td>\n",
              "      <td>89</td>\n",
              "      <td>67</td>\n",
              "      <td>-4</td>\n",
              "      <td>8</td>\n",
              "      <td>80</td>\n",
              "      <td>217</td>\n",
              "      <td>19</td>\n",
              "      <td>4</td>\n",
              "      <td>83</td>\n",
              "    </tr>\n",
              "  </tbody>\n",
              "</table>\n",
              "<p>603 rows × 14 columns</p>\n",
              "</div>"
            ],
            "text/plain": [
              "                                 title            artist     top genre  year  \\\n",
              "602                   Kills You Slowly  The Chainsmokers    electropop  2019   \n",
              "587  I Don't Care (with Justin Bieber)        Ed Sheeran           pop  2019   \n",
              "573                Lose You To Love Me      Selena Gomez     dance pop  2019   \n",
              "574                  Someone You Loved     Lewis Capaldi           pop  2019   \n",
              "575                           Se�orita      Shawn Mendes  canadian pop  2019   \n",
              "..                                 ...               ...           ...   ...   \n",
              "32        Blah Blah Blah (feat. 3OH!3)             Kesha     dance pop  2010   \n",
              "31         My First Kiss - feat. Ke$ha             3OH!3     dance pop  2010   \n",
              "30                                   3    Britney Spears     dance pop  2010   \n",
              "29                    California Gurls        Katy Perry     dance pop  2010   \n",
              "0                     Hey, Soul Sister             Train    neo mellow  2010   \n",
              "\n",
              "     bpm  nrgy  dnce  dB  live  val  dur  acous  spch  pop  \n",
              "602  150    44    70  -9    13   23  213      6     6   67  \n",
              "587  102    68    80  -5     9   84  220      9     4   85  \n",
              "573  102    34    51  -9    21    9  206     58     4   97  \n",
              "574  110    41    50  -6    11   45  182     75     3   96  \n",
              "575  117    54    76  -6     9   75  191      4     3   95  \n",
              "..   ...   ...   ...  ..   ...  ...  ...    ...   ...  ...  \n",
              "32   120    84    75  -3    42   52  172      8    12   62  \n",
              "31   138    89    68  -4    36   83  192      1     8   62  \n",
              "30   135    71    70  -2    14   79  213      5     5   62  \n",
              "29   125    75    79  -4    18   40  235      0     5   62  \n",
              "0     97    89    67  -4     8   80  217     19     4   83  \n",
              "\n",
              "[603 rows x 14 columns]"
            ]
          },
          "metadata": {
            "tags": []
          },
          "execution_count": 56
        }
      ]
    },
    {
      "cell_type": "code",
      "metadata": {
        "id": "a79530a8"
      },
      "source": [
        "y = df.groupby(by = 'year')"
      ],
      "id": "a79530a8",
      "execution_count": null,
      "outputs": []
    },
    {
      "cell_type": "code",
      "metadata": {
        "id": "993e1375"
      },
      "source": [
        "df = pd.read_csv('LifeExpectancy.csv')"
      ],
      "id": "993e1375",
      "execution_count": null,
      "outputs": []
    },
    {
      "cell_type": "code",
      "metadata": {
        "id": "39f45bda",
        "outputId": "1f01ef0c-3bdd-40c8-a4a0-7b6748abeb27"
      },
      "source": [
        "df.head()"
      ],
      "id": "39f45bda",
      "execution_count": null,
      "outputs": [
        {
          "output_type": "execute_result",
          "data": {
            "text/html": [
              "<div>\n",
              "<style scoped>\n",
              "    .dataframe tbody tr th:only-of-type {\n",
              "        vertical-align: middle;\n",
              "    }\n",
              "\n",
              "    .dataframe tbody tr th {\n",
              "        vertical-align: top;\n",
              "    }\n",
              "\n",
              "    .dataframe thead th {\n",
              "        text-align: right;\n",
              "    }\n",
              "</style>\n",
              "<table border=\"1\" class=\"dataframe\">\n",
              "  <thead>\n",
              "    <tr style=\"text-align: right;\">\n",
              "      <th></th>\n",
              "      <th>Country</th>\n",
              "      <th>Year</th>\n",
              "      <th>Life expectancy</th>\n",
              "      <th>GDP</th>\n",
              "      <th>Population</th>\n",
              "    </tr>\n",
              "  </thead>\n",
              "  <tbody>\n",
              "    <tr>\n",
              "      <th>0</th>\n",
              "      <td>Afghanistan</td>\n",
              "      <td>2015</td>\n",
              "      <td>65.0</td>\n",
              "      <td>584.259210</td>\n",
              "      <td>33736494.0</td>\n",
              "    </tr>\n",
              "    <tr>\n",
              "      <th>1</th>\n",
              "      <td>Afghanistan</td>\n",
              "      <td>2014</td>\n",
              "      <td>59.9</td>\n",
              "      <td>612.696514</td>\n",
              "      <td>327582.0</td>\n",
              "    </tr>\n",
              "    <tr>\n",
              "      <th>2</th>\n",
              "      <td>Afghanistan</td>\n",
              "      <td>2013</td>\n",
              "      <td>59.9</td>\n",
              "      <td>631.744976</td>\n",
              "      <td>31731688.0</td>\n",
              "    </tr>\n",
              "    <tr>\n",
              "      <th>3</th>\n",
              "      <td>Afghanistan</td>\n",
              "      <td>2012</td>\n",
              "      <td>59.5</td>\n",
              "      <td>669.959000</td>\n",
              "      <td>3696958.0</td>\n",
              "    </tr>\n",
              "    <tr>\n",
              "      <th>4</th>\n",
              "      <td>Afghanistan</td>\n",
              "      <td>2011</td>\n",
              "      <td>59.2</td>\n",
              "      <td>63.537231</td>\n",
              "      <td>2978599.0</td>\n",
              "    </tr>\n",
              "  </tbody>\n",
              "</table>\n",
              "</div>"
            ],
            "text/plain": [
              "       Country  Year  Life expectancy          GDP  Population\n",
              "0  Afghanistan  2015              65.0  584.259210  33736494.0\n",
              "1  Afghanistan  2014              59.9  612.696514    327582.0\n",
              "2  Afghanistan  2013              59.9  631.744976  31731688.0\n",
              "3  Afghanistan  2012              59.5  669.959000   3696958.0\n",
              "4  Afghanistan  2011              59.2   63.537231   2978599.0"
            ]
          },
          "metadata": {
            "tags": []
          },
          "execution_count": 72
        }
      ]
    },
    {
      "cell_type": "markdown",
      "metadata": {
        "id": "ce7a8240"
      },
      "source": [
        "### Grouped Means"
      ],
      "id": "ce7a8240"
    },
    {
      "cell_type": "code",
      "metadata": {
        "id": "9da20dfd",
        "outputId": "ae351ad9-3d9b-4c4d-9c9b-4ead1ad91528"
      },
      "source": [
        "df.groupby(by = 'Year')['Life expectancy '].mean()"
      ],
      "id": "9da20dfd",
      "execution_count": null,
      "outputs": [
        {
          "output_type": "execute_result",
          "data": {
            "text/plain": [
              "Year\n",
              "2000    66.750273\n",
              "2001    67.128962\n",
              "2002    67.351366\n",
              "2003    67.433333\n",
              "2004    67.646448\n",
              "2005    68.209290\n",
              "2006    68.667760\n",
              "2007    69.036066\n",
              "2008    69.427869\n",
              "2009    69.938251\n",
              "2010    70.048634\n",
              "2011    70.654098\n",
              "2012    70.916940\n",
              "2013    71.236066\n",
              "2014    71.536612\n",
              "2015    71.616940\n",
              "Name: Life expectancy , dtype: float64"
            ]
          },
          "metadata": {
            "tags": []
          },
          "execution_count": 84
        }
      ]
    },
    {
      "cell_type": "code",
      "metadata": {
        "id": "a34437a9",
        "outputId": "efb30876-fe4b-4468-a96a-1c0490d03992"
      },
      "source": [
        "df.columns"
      ],
      "id": "a34437a9",
      "execution_count": null,
      "outputs": [
        {
          "output_type": "execute_result",
          "data": {
            "text/plain": [
              "Index(['Country', 'Year', 'Life expectancy ', 'GDP', 'Population'], dtype='object')"
            ]
          },
          "metadata": {
            "tags": []
          },
          "execution_count": 83
        }
      ]
    },
    {
      "cell_type": "code",
      "metadata": {
        "id": "cbc655ca"
      },
      "source": [
        "multi_group_var = df.groupby(['Year','Country'])[['Life expectancy ','GDP']].mean()"
      ],
      "id": "cbc655ca",
      "execution_count": null,
      "outputs": []
    },
    {
      "cell_type": "code",
      "metadata": {
        "id": "a3e9b9bd",
        "outputId": "b525fb70-cc72-429c-ff01-3f0fd54178a1"
      },
      "source": [
        "multi_group_var"
      ],
      "id": "a3e9b9bd",
      "execution_count": null,
      "outputs": [
        {
          "output_type": "execute_result",
          "data": {
            "text/html": [
              "<div>\n",
              "<style scoped>\n",
              "    .dataframe tbody tr th:only-of-type {\n",
              "        vertical-align: middle;\n",
              "    }\n",
              "\n",
              "    .dataframe tbody tr th {\n",
              "        vertical-align: top;\n",
              "    }\n",
              "\n",
              "    .dataframe thead th {\n",
              "        text-align: right;\n",
              "    }\n",
              "</style>\n",
              "<table border=\"1\" class=\"dataframe\">\n",
              "  <thead>\n",
              "    <tr style=\"text-align: right;\">\n",
              "      <th></th>\n",
              "      <th></th>\n",
              "      <th>Life expectancy</th>\n",
              "      <th>GDP</th>\n",
              "    </tr>\n",
              "    <tr>\n",
              "      <th>Year</th>\n",
              "      <th>Country</th>\n",
              "      <th></th>\n",
              "      <th></th>\n",
              "    </tr>\n",
              "  </thead>\n",
              "  <tbody>\n",
              "    <tr>\n",
              "      <th rowspan=\"5\" valign=\"top\">2000</th>\n",
              "      <th>Afghanistan</th>\n",
              "      <td>54.8</td>\n",
              "      <td>114.560000</td>\n",
              "    </tr>\n",
              "    <tr>\n",
              "      <th>Albania</th>\n",
              "      <td>72.6</td>\n",
              "      <td>1175.788981</td>\n",
              "    </tr>\n",
              "    <tr>\n",
              "      <th>Algeria</th>\n",
              "      <td>71.3</td>\n",
              "      <td>1757.177970</td>\n",
              "    </tr>\n",
              "    <tr>\n",
              "      <th>Angola</th>\n",
              "      <td>45.3</td>\n",
              "      <td>555.296942</td>\n",
              "    </tr>\n",
              "    <tr>\n",
              "      <th>Antigua and Barbuda</th>\n",
              "      <td>73.6</td>\n",
              "      <td>9875.161736</td>\n",
              "    </tr>\n",
              "    <tr>\n",
              "      <th>...</th>\n",
              "      <th>...</th>\n",
              "      <td>...</td>\n",
              "      <td>...</td>\n",
              "    </tr>\n",
              "    <tr>\n",
              "      <th rowspan=\"5\" valign=\"top\">2015</th>\n",
              "      <th>Venezuela (Bolivarian Republic of)</th>\n",
              "      <td>74.1</td>\n",
              "      <td>NaN</td>\n",
              "    </tr>\n",
              "    <tr>\n",
              "      <th>Viet Nam</th>\n",
              "      <td>76.0</td>\n",
              "      <td>NaN</td>\n",
              "    </tr>\n",
              "    <tr>\n",
              "      <th>Yemen</th>\n",
              "      <td>65.7</td>\n",
              "      <td>NaN</td>\n",
              "    </tr>\n",
              "    <tr>\n",
              "      <th>Zambia</th>\n",
              "      <td>61.8</td>\n",
              "      <td>1313.889646</td>\n",
              "    </tr>\n",
              "    <tr>\n",
              "      <th>Zimbabwe</th>\n",
              "      <td>67.0</td>\n",
              "      <td>118.693830</td>\n",
              "    </tr>\n",
              "  </tbody>\n",
              "</table>\n",
              "<p>2938 rows × 2 columns</p>\n",
              "</div>"
            ],
            "text/plain": [
              "                                         Life expectancy           GDP\n",
              "Year Country                                                          \n",
              "2000 Afghanistan                                     54.8   114.560000\n",
              "     Albania                                         72.6  1175.788981\n",
              "     Algeria                                         71.3  1757.177970\n",
              "     Angola                                          45.3   555.296942\n",
              "     Antigua and Barbuda                             73.6  9875.161736\n",
              "...                                                   ...          ...\n",
              "2015 Venezuela (Bolivarian Republic of)              74.1          NaN\n",
              "     Viet Nam                                        76.0          NaN\n",
              "     Yemen                                           65.7          NaN\n",
              "     Zambia                                          61.8  1313.889646\n",
              "     Zimbabwe                                        67.0   118.693830\n",
              "\n",
              "[2938 rows x 2 columns]"
            ]
          },
          "metadata": {
            "tags": []
          },
          "execution_count": 92
        }
      ]
    },
    {
      "cell_type": "code",
      "metadata": {
        "id": "14b0d52c",
        "outputId": "dd3e328d-d2b7-4858-c019-8ba0bd02de33"
      },
      "source": [
        "flatten = multi_group_var.reset_index()\n",
        "flatten.head()"
      ],
      "id": "14b0d52c",
      "execution_count": null,
      "outputs": [
        {
          "output_type": "execute_result",
          "data": {
            "text/html": [
              "<div>\n",
              "<style scoped>\n",
              "    .dataframe tbody tr th:only-of-type {\n",
              "        vertical-align: middle;\n",
              "    }\n",
              "\n",
              "    .dataframe tbody tr th {\n",
              "        vertical-align: top;\n",
              "    }\n",
              "\n",
              "    .dataframe thead th {\n",
              "        text-align: right;\n",
              "    }\n",
              "</style>\n",
              "<table border=\"1\" class=\"dataframe\">\n",
              "  <thead>\n",
              "    <tr style=\"text-align: right;\">\n",
              "      <th></th>\n",
              "      <th>Year</th>\n",
              "      <th>Country</th>\n",
              "      <th>Life expectancy</th>\n",
              "      <th>GDP</th>\n",
              "    </tr>\n",
              "  </thead>\n",
              "  <tbody>\n",
              "    <tr>\n",
              "      <th>0</th>\n",
              "      <td>2000</td>\n",
              "      <td>Afghanistan</td>\n",
              "      <td>54.8</td>\n",
              "      <td>114.560000</td>\n",
              "    </tr>\n",
              "    <tr>\n",
              "      <th>1</th>\n",
              "      <td>2000</td>\n",
              "      <td>Albania</td>\n",
              "      <td>72.6</td>\n",
              "      <td>1175.788981</td>\n",
              "    </tr>\n",
              "    <tr>\n",
              "      <th>2</th>\n",
              "      <td>2000</td>\n",
              "      <td>Algeria</td>\n",
              "      <td>71.3</td>\n",
              "      <td>1757.177970</td>\n",
              "    </tr>\n",
              "    <tr>\n",
              "      <th>3</th>\n",
              "      <td>2000</td>\n",
              "      <td>Angola</td>\n",
              "      <td>45.3</td>\n",
              "      <td>555.296942</td>\n",
              "    </tr>\n",
              "    <tr>\n",
              "      <th>4</th>\n",
              "      <td>2000</td>\n",
              "      <td>Antigua and Barbuda</td>\n",
              "      <td>73.6</td>\n",
              "      <td>9875.161736</td>\n",
              "    </tr>\n",
              "  </tbody>\n",
              "</table>\n",
              "</div>"
            ],
            "text/plain": [
              "   Year              Country  Life expectancy           GDP\n",
              "0  2000          Afghanistan              54.8   114.560000\n",
              "1  2000              Albania              72.6  1175.788981\n",
              "2  2000              Algeria              71.3  1757.177970\n",
              "3  2000               Angola              45.3   555.296942\n",
              "4  2000  Antigua and Barbuda              73.6  9875.161736"
            ]
          },
          "metadata": {
            "tags": []
          },
          "execution_count": 93
        }
      ]
    },
    {
      "cell_type": "markdown",
      "metadata": {
        "id": "c061e56f"
      },
      "source": [
        "## MI"
      ],
      "id": "c061e56f"
    },
    {
      "cell_type": "code",
      "metadata": {
        "id": "a43d15ff"
      },
      "source": [
        "# Index levels\n",
        "outside = ['G1','G1','G1','G2','G2','G2']\n",
        "inside  = [1, 2, 3, 1, 2, 3]\n",
        "hier_index = list(zip(outside, inside))\n",
        "hier_index = pd.MultiIndex.from_tuples(hier_index)"
      ],
      "id": "a43d15ff",
      "execution_count": null,
      "outputs": []
    },
    {
      "cell_type": "code",
      "metadata": {
        "id": "6791cff4",
        "outputId": "a4e196bb-bbfa-4d26-c8db-6358f609630b"
      },
      "source": [
        "hier_index"
      ],
      "id": "6791cff4",
      "execution_count": null,
      "outputs": [
        {
          "output_type": "execute_result",
          "data": {
            "text/plain": [
              "MultiIndex([('G1', 1),\n",
              "            ('G1', 2),\n",
              "            ('G1', 3),\n",
              "            ('G2', 1),\n",
              "            ('G2', 2),\n",
              "            ('G2', 3)],\n",
              "           )"
            ]
          },
          "metadata": {
            "tags": []
          },
          "execution_count": 99
        }
      ]
    },
    {
      "cell_type": "code",
      "metadata": {
        "id": "0fb30ba1"
      },
      "source": [
        "df = pd.DataFrame(data = np.random.randn(6, 2), index = hier_index, columns= ['A','B'])"
      ],
      "id": "0fb30ba1",
      "execution_count": null,
      "outputs": []
    },
    {
      "cell_type": "code",
      "metadata": {
        "id": "3c3174cc",
        "outputId": "ea581c66-8059-43f9-f204-07aa8c9db202"
      },
      "source": [
        "df"
      ],
      "id": "3c3174cc",
      "execution_count": null,
      "outputs": [
        {
          "output_type": "execute_result",
          "data": {
            "text/html": [
              "<div>\n",
              "<style scoped>\n",
              "    .dataframe tbody tr th:only-of-type {\n",
              "        vertical-align: middle;\n",
              "    }\n",
              "\n",
              "    .dataframe tbody tr th {\n",
              "        vertical-align: top;\n",
              "    }\n",
              "\n",
              "    .dataframe thead th {\n",
              "        text-align: right;\n",
              "    }\n",
              "</style>\n",
              "<table border=\"1\" class=\"dataframe\">\n",
              "  <thead>\n",
              "    <tr style=\"text-align: right;\">\n",
              "      <th></th>\n",
              "      <th></th>\n",
              "      <th>A</th>\n",
              "      <th>B</th>\n",
              "    </tr>\n",
              "  </thead>\n",
              "  <tbody>\n",
              "    <tr>\n",
              "      <th rowspan=\"3\" valign=\"top\">G1</th>\n",
              "      <th>1</th>\n",
              "      <td>-0.077683</td>\n",
              "      <td>-0.544481</td>\n",
              "    </tr>\n",
              "    <tr>\n",
              "      <th>2</th>\n",
              "      <td>1.613106</td>\n",
              "      <td>0.257928</td>\n",
              "    </tr>\n",
              "    <tr>\n",
              "      <th>3</th>\n",
              "      <td>-0.744238</td>\n",
              "      <td>0.533066</td>\n",
              "    </tr>\n",
              "    <tr>\n",
              "      <th rowspan=\"3\" valign=\"top\">G2</th>\n",
              "      <th>1</th>\n",
              "      <td>0.028578</td>\n",
              "      <td>0.279193</td>\n",
              "    </tr>\n",
              "    <tr>\n",
              "      <th>2</th>\n",
              "      <td>0.339604</td>\n",
              "      <td>0.585982</td>\n",
              "    </tr>\n",
              "    <tr>\n",
              "      <th>3</th>\n",
              "      <td>-2.202733</td>\n",
              "      <td>1.483316</td>\n",
              "    </tr>\n",
              "  </tbody>\n",
              "</table>\n",
              "</div>"
            ],
            "text/plain": [
              "             A         B\n",
              "G1 1 -0.077683 -0.544481\n",
              "   2  1.613106  0.257928\n",
              "   3 -0.744238  0.533066\n",
              "G2 1  0.028578  0.279193\n",
              "   2  0.339604  0.585982\n",
              "   3 -2.202733  1.483316"
            ]
          },
          "metadata": {
            "tags": []
          },
          "execution_count": 102
        }
      ]
    },
    {
      "cell_type": "code",
      "metadata": {
        "id": "961ada62",
        "outputId": "91694dc3-99cf-4d3a-9c77-16931a553fe7"
      },
      "source": [
        "df.loc['G1']"
      ],
      "id": "961ada62",
      "execution_count": null,
      "outputs": [
        {
          "output_type": "execute_result",
          "data": {
            "text/html": [
              "<div>\n",
              "<style scoped>\n",
              "    .dataframe tbody tr th:only-of-type {\n",
              "        vertical-align: middle;\n",
              "    }\n",
              "\n",
              "    .dataframe tbody tr th {\n",
              "        vertical-align: top;\n",
              "    }\n",
              "\n",
              "    .dataframe thead th {\n",
              "        text-align: right;\n",
              "    }\n",
              "</style>\n",
              "<table border=\"1\" class=\"dataframe\">\n",
              "  <thead>\n",
              "    <tr style=\"text-align: right;\">\n",
              "      <th></th>\n",
              "      <th>A</th>\n",
              "      <th>B</th>\n",
              "    </tr>\n",
              "  </thead>\n",
              "  <tbody>\n",
              "    <tr>\n",
              "      <th>1</th>\n",
              "      <td>-0.077683</td>\n",
              "      <td>-0.544481</td>\n",
              "    </tr>\n",
              "    <tr>\n",
              "      <th>2</th>\n",
              "      <td>1.613106</td>\n",
              "      <td>0.257928</td>\n",
              "    </tr>\n",
              "    <tr>\n",
              "      <th>3</th>\n",
              "      <td>-0.744238</td>\n",
              "      <td>0.533066</td>\n",
              "    </tr>\n",
              "  </tbody>\n",
              "</table>\n",
              "</div>"
            ],
            "text/plain": [
              "          A         B\n",
              "1 -0.077683 -0.544481\n",
              "2  1.613106  0.257928\n",
              "3 -0.744238  0.533066"
            ]
          },
          "metadata": {
            "tags": []
          },
          "execution_count": 103
        }
      ]
    },
    {
      "cell_type": "code",
      "metadata": {
        "id": "02100b6e",
        "outputId": "314441ba-6baa-4018-a915-578d22872653"
      },
      "source": [
        "df.loc['G1'].loc[1]"
      ],
      "id": "02100b6e",
      "execution_count": null,
      "outputs": [
        {
          "output_type": "execute_result",
          "data": {
            "text/plain": [
              "A   -0.077683\n",
              "B   -0.544481\n",
              "Name: 1, dtype: float64"
            ]
          },
          "metadata": {
            "tags": []
          },
          "execution_count": 105
        }
      ]
    },
    {
      "cell_type": "code",
      "metadata": {
        "id": "abe94881"
      },
      "source": [
        "df.index.names =['Group','Num']"
      ],
      "id": "abe94881",
      "execution_count": null,
      "outputs": []
    },
    {
      "cell_type": "code",
      "metadata": {
        "id": "b164b0a9",
        "outputId": "9770a4e3-098a-406d-d332-a127252f8aaa"
      },
      "source": [
        "df"
      ],
      "id": "b164b0a9",
      "execution_count": null,
      "outputs": [
        {
          "output_type": "execute_result",
          "data": {
            "text/html": [
              "<div>\n",
              "<style scoped>\n",
              "    .dataframe tbody tr th:only-of-type {\n",
              "        vertical-align: middle;\n",
              "    }\n",
              "\n",
              "    .dataframe tbody tr th {\n",
              "        vertical-align: top;\n",
              "    }\n",
              "\n",
              "    .dataframe thead th {\n",
              "        text-align: right;\n",
              "    }\n",
              "</style>\n",
              "<table border=\"1\" class=\"dataframe\">\n",
              "  <thead>\n",
              "    <tr style=\"text-align: right;\">\n",
              "      <th></th>\n",
              "      <th></th>\n",
              "      <th>A</th>\n",
              "      <th>B</th>\n",
              "    </tr>\n",
              "    <tr>\n",
              "      <th>Group</th>\n",
              "      <th>Num</th>\n",
              "      <th></th>\n",
              "      <th></th>\n",
              "    </tr>\n",
              "  </thead>\n",
              "  <tbody>\n",
              "    <tr>\n",
              "      <th rowspan=\"3\" valign=\"top\">G1</th>\n",
              "      <th>1</th>\n",
              "      <td>-0.077683</td>\n",
              "      <td>-0.544481</td>\n",
              "    </tr>\n",
              "    <tr>\n",
              "      <th>2</th>\n",
              "      <td>1.613106</td>\n",
              "      <td>0.257928</td>\n",
              "    </tr>\n",
              "    <tr>\n",
              "      <th>3</th>\n",
              "      <td>-0.744238</td>\n",
              "      <td>0.533066</td>\n",
              "    </tr>\n",
              "    <tr>\n",
              "      <th rowspan=\"3\" valign=\"top\">G2</th>\n",
              "      <th>1</th>\n",
              "      <td>0.028578</td>\n",
              "      <td>0.279193</td>\n",
              "    </tr>\n",
              "    <tr>\n",
              "      <th>2</th>\n",
              "      <td>0.339604</td>\n",
              "      <td>0.585982</td>\n",
              "    </tr>\n",
              "    <tr>\n",
              "      <th>3</th>\n",
              "      <td>-2.202733</td>\n",
              "      <td>1.483316</td>\n",
              "    </tr>\n",
              "  </tbody>\n",
              "</table>\n",
              "</div>"
            ],
            "text/plain": [
              "                  A         B\n",
              "Group Num                    \n",
              "G1    1   -0.077683 -0.544481\n",
              "      2    1.613106  0.257928\n",
              "      3   -0.744238  0.533066\n",
              "G2    1    0.028578  0.279193\n",
              "      2    0.339604  0.585982\n",
              "      3   -2.202733  1.483316"
            ]
          },
          "metadata": {
            "tags": []
          },
          "execution_count": 107
        }
      ]
    },
    {
      "cell_type": "code",
      "metadata": {
        "id": "4dccdd4f",
        "outputId": "4958aa3d-49bb-4059-94ff-ba7a9279b9e6"
      },
      "source": [
        "df.loc['G1']"
      ],
      "id": "4dccdd4f",
      "execution_count": null,
      "outputs": [
        {
          "output_type": "execute_result",
          "data": {
            "text/html": [
              "<div>\n",
              "<style scoped>\n",
              "    .dataframe tbody tr th:only-of-type {\n",
              "        vertical-align: middle;\n",
              "    }\n",
              "\n",
              "    .dataframe tbody tr th {\n",
              "        vertical-align: top;\n",
              "    }\n",
              "\n",
              "    .dataframe thead th {\n",
              "        text-align: right;\n",
              "    }\n",
              "</style>\n",
              "<table border=\"1\" class=\"dataframe\">\n",
              "  <thead>\n",
              "    <tr style=\"text-align: right;\">\n",
              "      <th></th>\n",
              "      <th>A</th>\n",
              "      <th>B</th>\n",
              "    </tr>\n",
              "    <tr>\n",
              "      <th>Num</th>\n",
              "      <th></th>\n",
              "      <th></th>\n",
              "    </tr>\n",
              "  </thead>\n",
              "  <tbody>\n",
              "    <tr>\n",
              "      <th>1</th>\n",
              "      <td>-0.077683</td>\n",
              "      <td>-0.544481</td>\n",
              "    </tr>\n",
              "    <tr>\n",
              "      <th>2</th>\n",
              "      <td>1.613106</td>\n",
              "      <td>0.257928</td>\n",
              "    </tr>\n",
              "    <tr>\n",
              "      <th>3</th>\n",
              "      <td>-0.744238</td>\n",
              "      <td>0.533066</td>\n",
              "    </tr>\n",
              "  </tbody>\n",
              "</table>\n",
              "</div>"
            ],
            "text/plain": [
              "            A         B\n",
              "Num                    \n",
              "1   -0.077683 -0.544481\n",
              "2    1.613106  0.257928\n",
              "3   -0.744238  0.533066"
            ]
          },
          "metadata": {
            "tags": []
          },
          "execution_count": 109
        }
      ]
    },
    {
      "cell_type": "code",
      "metadata": {
        "id": "2fbd392c",
        "outputId": "b63d928d-3afa-4300-e0ad-75bfbed6ad25"
      },
      "source": [
        "list(zip(outside, inside))"
      ],
      "id": "2fbd392c",
      "execution_count": null,
      "outputs": [
        {
          "output_type": "execute_result",
          "data": {
            "text/plain": [
              "[('G1', 1), ('G1', 2), ('G1', 3), ('G2', 1), ('G2', 2), ('G2', 3)]"
            ]
          },
          "metadata": {
            "tags": []
          },
          "execution_count": 111
        }
      ]
    },
    {
      "cell_type": "code",
      "metadata": {
        "id": "99e484ea"
      },
      "source": [
        "df = pd.read_csv('IPL 2008_17.csv')\n",
        "del df['Unnamed: 17']"
      ],
      "id": "99e484ea",
      "execution_count": null,
      "outputs": []
    },
    {
      "cell_type": "code",
      "metadata": {
        "id": "3685e377",
        "outputId": "830b0ea3-8a56-4155-be96-fad219d15dfe"
      },
      "source": [
        "df.head()"
      ],
      "id": "3685e377",
      "execution_count": null,
      "outputs": [
        {
          "output_type": "execute_result",
          "data": {
            "text/html": [
              "<div>\n",
              "<style scoped>\n",
              "    .dataframe tbody tr th:only-of-type {\n",
              "        vertical-align: middle;\n",
              "    }\n",
              "\n",
              "    .dataframe tbody tr th {\n",
              "        vertical-align: top;\n",
              "    }\n",
              "\n",
              "    .dataframe thead th {\n",
              "        text-align: right;\n",
              "    }\n",
              "</style>\n",
              "<table border=\"1\" class=\"dataframe\">\n",
              "  <thead>\n",
              "    <tr style=\"text-align: right;\">\n",
              "      <th></th>\n",
              "      <th>sno</th>\n",
              "      <th>season</th>\n",
              "      <th>city</th>\n",
              "      <th>date</th>\n",
              "      <th>team1</th>\n",
              "      <th>team2</th>\n",
              "      <th>toss_winner</th>\n",
              "      <th>toss_decision</th>\n",
              "      <th>result</th>\n",
              "      <th>dl_applied</th>\n",
              "      <th>winner</th>\n",
              "      <th>win_by_runs</th>\n",
              "      <th>win_by_wickets</th>\n",
              "      <th>Man_of_Match</th>\n",
              "      <th>venue</th>\n",
              "      <th>F_umpire</th>\n",
              "      <th>S_Umpire</th>\n",
              "    </tr>\n",
              "  </thead>\n",
              "  <tbody>\n",
              "    <tr>\n",
              "      <th>0</th>\n",
              "      <td>1</td>\n",
              "      <td>2008</td>\n",
              "      <td>Bangalore</td>\n",
              "      <td>18/04/08</td>\n",
              "      <td>KKR</td>\n",
              "      <td>RCB</td>\n",
              "      <td>RCB</td>\n",
              "      <td>field</td>\n",
              "      <td>normal</td>\n",
              "      <td>N</td>\n",
              "      <td>KKR</td>\n",
              "      <td>140</td>\n",
              "      <td>0</td>\n",
              "      <td>BB McCullum</td>\n",
              "      <td>M Chinnaswamy Stadium</td>\n",
              "      <td>Asad Rauf</td>\n",
              "      <td>RE Koertzen</td>\n",
              "    </tr>\n",
              "    <tr>\n",
              "      <th>1</th>\n",
              "      <td>2</td>\n",
              "      <td>2008</td>\n",
              "      <td>Chandigarh</td>\n",
              "      <td>19/04/08</td>\n",
              "      <td>CSK</td>\n",
              "      <td>KXIP</td>\n",
              "      <td>CSK</td>\n",
              "      <td>bat</td>\n",
              "      <td>normal</td>\n",
              "      <td>N</td>\n",
              "      <td>CSK</td>\n",
              "      <td>33</td>\n",
              "      <td>0</td>\n",
              "      <td>MEK Hussey</td>\n",
              "      <td>Punjab Cricket Association Stadium, Mohali</td>\n",
              "      <td>MR Benson</td>\n",
              "      <td>SL Shastri</td>\n",
              "    </tr>\n",
              "    <tr>\n",
              "      <th>2</th>\n",
              "      <td>3</td>\n",
              "      <td>2008</td>\n",
              "      <td>Delhi</td>\n",
              "      <td>19/04/08</td>\n",
              "      <td>RR</td>\n",
              "      <td>DD</td>\n",
              "      <td>RR</td>\n",
              "      <td>bat</td>\n",
              "      <td>normal</td>\n",
              "      <td>N</td>\n",
              "      <td>DD</td>\n",
              "      <td>0</td>\n",
              "      <td>9</td>\n",
              "      <td>MF Maharoof</td>\n",
              "      <td>Feroz Shah Kotla</td>\n",
              "      <td>Aleem Dar</td>\n",
              "      <td>GA Pratapkumar</td>\n",
              "    </tr>\n",
              "    <tr>\n",
              "      <th>3</th>\n",
              "      <td>4</td>\n",
              "      <td>2008</td>\n",
              "      <td>Mumbai</td>\n",
              "      <td>20/04/08</td>\n",
              "      <td>MI</td>\n",
              "      <td>RCB</td>\n",
              "      <td>MI</td>\n",
              "      <td>bat</td>\n",
              "      <td>normal</td>\n",
              "      <td>N</td>\n",
              "      <td>RCB</td>\n",
              "      <td>0</td>\n",
              "      <td>5</td>\n",
              "      <td>MV Boucher</td>\n",
              "      <td>Wankhede Stadium</td>\n",
              "      <td>SJ Davis</td>\n",
              "      <td>DJ Harper</td>\n",
              "    </tr>\n",
              "    <tr>\n",
              "      <th>4</th>\n",
              "      <td>5</td>\n",
              "      <td>2008</td>\n",
              "      <td>Kolkata</td>\n",
              "      <td>20/04/08</td>\n",
              "      <td>DC</td>\n",
              "      <td>KKR</td>\n",
              "      <td>DC</td>\n",
              "      <td>bat</td>\n",
              "      <td>normal</td>\n",
              "      <td>N</td>\n",
              "      <td>KKR</td>\n",
              "      <td>0</td>\n",
              "      <td>5</td>\n",
              "      <td>DJ Hussey</td>\n",
              "      <td>Eden Gardens</td>\n",
              "      <td>BF Bowden</td>\n",
              "      <td>K Hariharan</td>\n",
              "    </tr>\n",
              "  </tbody>\n",
              "</table>\n",
              "</div>"
            ],
            "text/plain": [
              "   sno  season        city      date team1 team2 toss_winner toss_decision  \\\n",
              "0    1    2008   Bangalore  18/04/08   KKR   RCB         RCB         field   \n",
              "1    2    2008  Chandigarh  19/04/08   CSK  KXIP         CSK           bat   \n",
              "2    3    2008       Delhi  19/04/08    RR    DD          RR           bat   \n",
              "3    4    2008      Mumbai  20/04/08    MI   RCB          MI           bat   \n",
              "4    5    2008     Kolkata  20/04/08    DC   KKR          DC           bat   \n",
              "\n",
              "   result dl_applied winner  win_by_runs  win_by_wickets Man_of_Match  \\\n",
              "0  normal          N    KKR          140               0  BB McCullum   \n",
              "1  normal          N    CSK           33               0   MEK Hussey   \n",
              "2  normal          N     DD            0               9  MF Maharoof   \n",
              "3  normal          N    RCB            0               5   MV Boucher   \n",
              "4  normal          N    KKR            0               5    DJ Hussey   \n",
              "\n",
              "                                        venue   F_umpire        S_Umpire  \n",
              "0                       M Chinnaswamy Stadium  Asad Rauf     RE Koertzen  \n",
              "1  Punjab Cricket Association Stadium, Mohali  MR Benson      SL Shastri  \n",
              "2                            Feroz Shah Kotla  Aleem Dar  GA Pratapkumar  \n",
              "3                            Wankhede Stadium   SJ Davis       DJ Harper  \n",
              "4                                Eden Gardens  BF Bowden     K Hariharan  "
            ]
          },
          "metadata": {
            "tags": []
          },
          "execution_count": 114
        }
      ]
    },
    {
      "cell_type": "markdown",
      "metadata": {
        "id": "ee95e00e"
      },
      "source": [
        "### data analysis"
      ],
      "id": "ee95e00e"
    },
    {
      "cell_type": "code",
      "metadata": {
        "id": "7b524a4a",
        "outputId": "d5fc8cd0-c383-4f9d-a105-36809c85b487"
      },
      "source": [
        "df.groupby(by = 'city')['season'].count()"
      ],
      "id": "7b524a4a",
      "execution_count": null,
      "outputs": [
        {
          "output_type": "execute_result",
          "data": {
            "text/plain": [
              "city\n",
              "Abu Dhabi          7\n",
              "Ahmedabad         12\n",
              "Bangalore         66\n",
              "Bloemfontein       2\n",
              "Cape Town          7\n",
              "Centurion         12\n",
              "Chandigarh        46\n",
              "Chennai           48\n",
              "Cuttack            7\n",
              "Delhi             60\n",
              "Dharamsala         9\n",
              "Durban            15\n",
              "East London        3\n",
              "Hyderabad         49\n",
              "Indore             5\n",
              "Jaipur            33\n",
              "Johannesburg       8\n",
              "Kanpur             4\n",
              "Kimberley          3\n",
              "Kochi              5\n",
              "Kolkata           61\n",
              "Mumbai            85\n",
              "Nagpur             3\n",
              "Port Elizabeth     7\n",
              "Pune              32\n",
              "Raipur             6\n",
              "Rajkot            10\n",
              "Ranchi             7\n",
              "Sharjah            6\n",
              "Visakhapatnam     11\n",
              "Name: season, dtype: int64"
            ]
          },
          "metadata": {
            "tags": []
          },
          "execution_count": 117
        }
      ]
    },
    {
      "cell_type": "markdown",
      "metadata": {
        "id": "b67f527c"
      },
      "source": [
        "#### no of teams"
      ],
      "id": "b67f527c"
    },
    {
      "cell_type": "code",
      "metadata": {
        "id": "50cbefaf",
        "outputId": "728570f9-506c-4e2e-8c93-01b7cb009953"
      },
      "source": [
        "df['team1'].nunique()"
      ],
      "id": "50cbefaf",
      "execution_count": null,
      "outputs": [
        {
          "output_type": "execute_result",
          "data": {
            "text/plain": [
              "13"
            ]
          },
          "metadata": {
            "tags": []
          },
          "execution_count": 118
        }
      ]
    },
    {
      "cell_type": "code",
      "metadata": {
        "id": "bd434913",
        "outputId": "51b331a2-8b2e-42cf-b643-95bf2c053cf7"
      },
      "source": [
        "df['team1'].unique()"
      ],
      "id": "bd434913",
      "execution_count": null,
      "outputs": [
        {
          "output_type": "execute_result",
          "data": {
            "text/plain": [
              "array(['KKR', 'CSK', 'RR', 'MI', 'DC', 'KXIP', 'RCB', 'DD', 'KTK', 'PW',\n",
              "       'SH', 'RPS', 'GL'], dtype=object)"
            ]
          },
          "metadata": {
            "tags": []
          },
          "execution_count": 119
        }
      ]
    },
    {
      "cell_type": "markdown",
      "metadata": {
        "id": "54dc8a0f"
      },
      "source": [
        "### no of seasons"
      ],
      "id": "54dc8a0f"
    },
    {
      "cell_type": "code",
      "metadata": {
        "id": "0989c60a",
        "outputId": "0f5cac85-3e7d-46f6-cf49-0cfd3926caa2"
      },
      "source": [
        "df['season'].unique(), df['season'].nunique()"
      ],
      "id": "0989c60a",
      "execution_count": null,
      "outputs": [
        {
          "output_type": "execute_result",
          "data": {
            "text/plain": [
              "(array([2008, 2009, 2010, 2011, 2012, 2013, 2014, 2015, 2016, 2017]), 10)"
            ]
          },
          "metadata": {
            "tags": []
          },
          "execution_count": 120
        }
      ]
    },
    {
      "cell_type": "code",
      "metadata": {
        "id": "e53308dc",
        "outputId": "5dd42c66-7d08-452d-b632-b78d097928d5"
      },
      "source": [
        "df.shape[0]"
      ],
      "id": "e53308dc",
      "execution_count": null,
      "outputs": [
        {
          "output_type": "execute_result",
          "data": {
            "text/plain": [
              "636"
            ]
          },
          "metadata": {
            "tags": []
          },
          "execution_count": 121
        }
      ]
    },
    {
      "cell_type": "markdown",
      "metadata": {
        "id": "0aa847df"
      },
      "source": [
        "### team won by 10 wickets"
      ],
      "id": "0aa847df"
    },
    {
      "cell_type": "code",
      "metadata": {
        "id": "f929a937",
        "outputId": "35877dea-4443-4f38-ed92-eb4b806c452c"
      },
      "source": [
        "df['win_by_wickets'].idxmax()"
      ],
      "id": "f929a937",
      "execution_count": null,
      "outputs": [
        {
          "output_type": "execute_result",
          "data": {
            "text/plain": [
              "12"
            ]
          },
          "metadata": {
            "tags": []
          },
          "execution_count": 124
        }
      ]
    },
    {
      "cell_type": "code",
      "metadata": {
        "id": "b7223819",
        "outputId": "ffe9945f-34f4-4d63-f82d-349fb668df19"
      },
      "source": [
        "df.iloc[[12]]"
      ],
      "id": "b7223819",
      "execution_count": null,
      "outputs": [
        {
          "output_type": "execute_result",
          "data": {
            "text/html": [
              "<div>\n",
              "<style scoped>\n",
              "    .dataframe tbody tr th:only-of-type {\n",
              "        vertical-align: middle;\n",
              "    }\n",
              "\n",
              "    .dataframe tbody tr th {\n",
              "        vertical-align: top;\n",
              "    }\n",
              "\n",
              "    .dataframe thead th {\n",
              "        text-align: right;\n",
              "    }\n",
              "</style>\n",
              "<table border=\"1\" class=\"dataframe\">\n",
              "  <thead>\n",
              "    <tr style=\"text-align: right;\">\n",
              "      <th></th>\n",
              "      <th>sno</th>\n",
              "      <th>season</th>\n",
              "      <th>city</th>\n",
              "      <th>date</th>\n",
              "      <th>team1</th>\n",
              "      <th>team2</th>\n",
              "      <th>toss_winner</th>\n",
              "      <th>toss_decision</th>\n",
              "      <th>result</th>\n",
              "      <th>dl_applied</th>\n",
              "      <th>winner</th>\n",
              "      <th>win_by_runs</th>\n",
              "      <th>win_by_wickets</th>\n",
              "      <th>Man_of_Match</th>\n",
              "      <th>venue</th>\n",
              "      <th>F_umpire</th>\n",
              "      <th>S_Umpire</th>\n",
              "    </tr>\n",
              "  </thead>\n",
              "  <tbody>\n",
              "    <tr>\n",
              "      <th>12</th>\n",
              "      <td>13</td>\n",
              "      <td>2008</td>\n",
              "      <td>Mumbai</td>\n",
              "      <td>27/04/08</td>\n",
              "      <td>MI</td>\n",
              "      <td>DC</td>\n",
              "      <td>DC</td>\n",
              "      <td>field</td>\n",
              "      <td>normal</td>\n",
              "      <td>N</td>\n",
              "      <td>DC</td>\n",
              "      <td>0</td>\n",
              "      <td>10</td>\n",
              "      <td>AC Gilchrist</td>\n",
              "      <td>Dr DY Patil Sports Academy</td>\n",
              "      <td>Asad Rauf</td>\n",
              "      <td>SL Shastri</td>\n",
              "    </tr>\n",
              "  </tbody>\n",
              "</table>\n",
              "</div>"
            ],
            "text/plain": [
              "    sno  season    city      date team1 team2 toss_winner toss_decision  \\\n",
              "12   13    2008  Mumbai  27/04/08    MI    DC          DC         field   \n",
              "\n",
              "    result dl_applied winner  win_by_runs  win_by_wickets  Man_of_Match  \\\n",
              "12  normal          N     DC            0              10  AC Gilchrist   \n",
              "\n",
              "                         venue   F_umpire    S_Umpire  \n",
              "12  Dr DY Patil Sports Academy  Asad Rauf  SL Shastri  "
            ]
          },
          "metadata": {
            "tags": []
          },
          "execution_count": 125
        }
      ]
    },
    {
      "cell_type": "code",
      "metadata": {
        "id": "3271fb60",
        "outputId": "76ef3a9b-3061-444f-ddee-4596113ab5c5"
      },
      "source": [
        "df.iloc[12]"
      ],
      "id": "3271fb60",
      "execution_count": null,
      "outputs": [
        {
          "output_type": "execute_result",
          "data": {
            "text/plain": [
              "sno                                       13\n",
              "season                                  2008\n",
              "city                                  Mumbai\n",
              "date                                27/04/08\n",
              "team1                                     MI\n",
              "team2                                     DC\n",
              "toss_winner                               DC\n",
              "toss_decision                          field\n",
              "result                                normal\n",
              "dl_applied                                 N\n",
              "winner                                    DC\n",
              "win_by_runs                                0\n",
              "win_by_wickets                            10\n",
              "Man_of_Match                    AC Gilchrist\n",
              "venue             Dr DY Patil Sports Academy\n",
              "F_umpire                           Asad Rauf\n",
              "S_Umpire                          SL Shastri\n",
              "Name: 12, dtype: object"
            ]
          },
          "metadata": {
            "tags": []
          },
          "execution_count": 127
        }
      ]
    },
    {
      "cell_type": "code",
      "metadata": {
        "id": "4a580c52",
        "outputId": "64072d46-978e-4375-fae4-377eb2cee051"
      },
      "source": [
        "df[df.win_by_wickets == 10][['season','team1','team2','winner','win_by_wickets']]['winner'].value_counts()"
      ],
      "id": "4a580c52",
      "execution_count": null,
      "outputs": [
        {
          "output_type": "execute_result",
          "data": {
            "text/plain": [
              "RCB     2\n",
              "SH      1\n",
              "KXIP    1\n",
              "RR      1\n",
              "DC      1\n",
              "DD      1\n",
              "CSK     1\n",
              "MI      1\n",
              "KKR     1\n",
              "Name: winner, dtype: int64"
            ]
          },
          "metadata": {
            "tags": []
          },
          "execution_count": 132
        }
      ]
    },
    {
      "cell_type": "markdown",
      "metadata": {
        "id": "46ccb7a6"
      },
      "source": [
        "### best team "
      ],
      "id": "46ccb7a6"
    },
    {
      "cell_type": "code",
      "metadata": {
        "id": "bbf82b52",
        "outputId": "42987f3b-9082-47d2-f136-3b102bfe14a6"
      },
      "source": [
        "df.winner.value_counts()[:5]"
      ],
      "id": "bbf82b52",
      "execution_count": null,
      "outputs": [
        {
          "output_type": "execute_result",
          "data": {
            "text/plain": [
              "MI      92\n",
              "CSK     79\n",
              "KKR     77\n",
              "RCB     73\n",
              "KXIP    70\n",
              "Name: winner, dtype: int64"
            ]
          },
          "metadata": {
            "tags": []
          },
          "execution_count": 136
        }
      ]
    },
    {
      "cell_type": "code",
      "metadata": {
        "id": "bc13fd3c",
        "outputId": "e5623558-d033-4c76-e4b0-c3942c159a55"
      },
      "source": [
        "df_csk = df[(df.team1 == 'CSK') |(df.team2 == 'CSK') ][['season','city','team1','team2','toss_winner', 'toss_decision','winner']]\n",
        "df_csk.head(2)"
      ],
      "id": "bc13fd3c",
      "execution_count": null,
      "outputs": [
        {
          "output_type": "execute_result",
          "data": {
            "text/html": [
              "<div>\n",
              "<style scoped>\n",
              "    .dataframe tbody tr th:only-of-type {\n",
              "        vertical-align: middle;\n",
              "    }\n",
              "\n",
              "    .dataframe tbody tr th {\n",
              "        vertical-align: top;\n",
              "    }\n",
              "\n",
              "    .dataframe thead th {\n",
              "        text-align: right;\n",
              "    }\n",
              "</style>\n",
              "<table border=\"1\" class=\"dataframe\">\n",
              "  <thead>\n",
              "    <tr style=\"text-align: right;\">\n",
              "      <th></th>\n",
              "      <th>season</th>\n",
              "      <th>city</th>\n",
              "      <th>team1</th>\n",
              "      <th>team2</th>\n",
              "      <th>toss_winner</th>\n",
              "      <th>toss_decision</th>\n",
              "      <th>winner</th>\n",
              "    </tr>\n",
              "  </thead>\n",
              "  <tbody>\n",
              "    <tr>\n",
              "      <th>1</th>\n",
              "      <td>2008</td>\n",
              "      <td>Chandigarh</td>\n",
              "      <td>CSK</td>\n",
              "      <td>KXIP</td>\n",
              "      <td>CSK</td>\n",
              "      <td>bat</td>\n",
              "      <td>CSK</td>\n",
              "    </tr>\n",
              "    <tr>\n",
              "      <th>7</th>\n",
              "      <td>2008</td>\n",
              "      <td>Chennai</td>\n",
              "      <td>CSK</td>\n",
              "      <td>MI</td>\n",
              "      <td>MI</td>\n",
              "      <td>field</td>\n",
              "      <td>CSK</td>\n",
              "    </tr>\n",
              "  </tbody>\n",
              "</table>\n",
              "</div>"
            ],
            "text/plain": [
              "   season        city team1 team2 toss_winner toss_decision winner\n",
              "1    2008  Chandigarh   CSK  KXIP         CSK           bat    CSK\n",
              "7    2008     Chennai   CSK    MI          MI         field    CSK"
            ]
          },
          "metadata": {
            "tags": []
          },
          "execution_count": 170
        }
      ]
    },
    {
      "cell_type": "code",
      "metadata": {
        "id": "6faa14a3",
        "outputId": "14201899-8fec-49cc-88ea-9264aca91465"
      },
      "source": [
        "win_csk = df_csk[df_csk.winner == 'CSK']\n",
        "win_csk.head(2)"
      ],
      "id": "6faa14a3",
      "execution_count": null,
      "outputs": [
        {
          "output_type": "execute_result",
          "data": {
            "text/html": [
              "<div>\n",
              "<style scoped>\n",
              "    .dataframe tbody tr th:only-of-type {\n",
              "        vertical-align: middle;\n",
              "    }\n",
              "\n",
              "    .dataframe tbody tr th {\n",
              "        vertical-align: top;\n",
              "    }\n",
              "\n",
              "    .dataframe thead th {\n",
              "        text-align: right;\n",
              "    }\n",
              "</style>\n",
              "<table border=\"1\" class=\"dataframe\">\n",
              "  <thead>\n",
              "    <tr style=\"text-align: right;\">\n",
              "      <th></th>\n",
              "      <th>season</th>\n",
              "      <th>city</th>\n",
              "      <th>team1</th>\n",
              "      <th>team2</th>\n",
              "      <th>toss_winner</th>\n",
              "      <th>toss_decision</th>\n",
              "      <th>winner</th>\n",
              "    </tr>\n",
              "  </thead>\n",
              "  <tbody>\n",
              "    <tr>\n",
              "      <th>1</th>\n",
              "      <td>2008</td>\n",
              "      <td>Chandigarh</td>\n",
              "      <td>CSK</td>\n",
              "      <td>KXIP</td>\n",
              "      <td>CSK</td>\n",
              "      <td>bat</td>\n",
              "      <td>CSK</td>\n",
              "    </tr>\n",
              "    <tr>\n",
              "      <th>7</th>\n",
              "      <td>2008</td>\n",
              "      <td>Chennai</td>\n",
              "      <td>CSK</td>\n",
              "      <td>MI</td>\n",
              "      <td>MI</td>\n",
              "      <td>field</td>\n",
              "      <td>CSK</td>\n",
              "    </tr>\n",
              "  </tbody>\n",
              "</table>\n",
              "</div>"
            ],
            "text/plain": [
              "   season        city team1 team2 toss_winner toss_decision winner\n",
              "1    2008  Chandigarh   CSK  KXIP         CSK           bat    CSK\n",
              "7    2008     Chennai   CSK    MI          MI         field    CSK"
            ]
          },
          "metadata": {
            "tags": []
          },
          "execution_count": 169
        }
      ]
    },
    {
      "cell_type": "code",
      "metadata": {
        "id": "dc68e15f",
        "outputId": "6384c5ba-b799-4b6f-dbdb-dd3564c6a8b2"
      },
      "source": [
        "winning_per_csk = (win_csk.shape[0]/df_csk.shape[0]) * 100\n",
        "round(winning_per_csk,2)"
      ],
      "id": "dc68e15f",
      "execution_count": null,
      "outputs": [
        {
          "output_type": "execute_result",
          "data": {
            "text/plain": [
              "60.31"
            ]
          },
          "metadata": {
            "tags": []
          },
          "execution_count": 158
        }
      ]
    },
    {
      "cell_type": "code",
      "metadata": {
        "id": "d4d6990f",
        "outputId": "12c23661-e019-4c0a-c2fd-7d7f52dada01"
      },
      "source": [
        "(win_csk['city'].value_counts()/79 * 100).head()"
      ],
      "id": "d4d6990f",
      "execution_count": null,
      "outputs": [
        {
          "output_type": "execute_result",
          "data": {
            "text/plain": [
              "Chennai      41.772152\n",
              "Mumbai       10.126582\n",
              "Delhi         6.329114\n",
              "Bangalore     5.063291\n",
              "Kolkata       5.063291\n",
              "Name: city, dtype: float64"
            ]
          },
          "metadata": {
            "tags": []
          },
          "execution_count": 165
        }
      ]
    },
    {
      "cell_type": "code",
      "metadata": {
        "id": "185c9328",
        "outputId": "ba5df34f-5ea8-427f-cb31-e1a4ae72b099"
      },
      "source": [
        "df_MI = df[(df.team1 == 'MI') |(df.team2 == 'MI') ][['season','city','team1','team2','toss_winner', 'toss_decision','winner']]\n",
        "df_MI.head(2)"
      ],
      "id": "185c9328",
      "execution_count": null,
      "outputs": [
        {
          "output_type": "execute_result",
          "data": {
            "text/html": [
              "<div>\n",
              "<style scoped>\n",
              "    .dataframe tbody tr th:only-of-type {\n",
              "        vertical-align: middle;\n",
              "    }\n",
              "\n",
              "    .dataframe tbody tr th {\n",
              "        vertical-align: top;\n",
              "    }\n",
              "\n",
              "    .dataframe thead th {\n",
              "        text-align: right;\n",
              "    }\n",
              "</style>\n",
              "<table border=\"1\" class=\"dataframe\">\n",
              "  <thead>\n",
              "    <tr style=\"text-align: right;\">\n",
              "      <th></th>\n",
              "      <th>season</th>\n",
              "      <th>city</th>\n",
              "      <th>team1</th>\n",
              "      <th>team2</th>\n",
              "      <th>toss_winner</th>\n",
              "      <th>toss_decision</th>\n",
              "      <th>winner</th>\n",
              "    </tr>\n",
              "  </thead>\n",
              "  <tbody>\n",
              "    <tr>\n",
              "      <th>3</th>\n",
              "      <td>2008</td>\n",
              "      <td>Mumbai</td>\n",
              "      <td>MI</td>\n",
              "      <td>RCB</td>\n",
              "      <td>MI</td>\n",
              "      <td>bat</td>\n",
              "      <td>RCB</td>\n",
              "    </tr>\n",
              "    <tr>\n",
              "      <th>7</th>\n",
              "      <td>2008</td>\n",
              "      <td>Chennai</td>\n",
              "      <td>CSK</td>\n",
              "      <td>MI</td>\n",
              "      <td>MI</td>\n",
              "      <td>field</td>\n",
              "      <td>CSK</td>\n",
              "    </tr>\n",
              "  </tbody>\n",
              "</table>\n",
              "</div>"
            ],
            "text/plain": [
              "   season     city team1 team2 toss_winner toss_decision winner\n",
              "3    2008   Mumbai    MI   RCB          MI           bat    RCB\n",
              "7    2008  Chennai   CSK    MI          MI         field    CSK"
            ]
          },
          "metadata": {
            "tags": []
          },
          "execution_count": 168
        }
      ]
    },
    {
      "cell_type": "code",
      "metadata": {
        "id": "58269efb",
        "outputId": "8e1b5627-442d-4932-a8d7-c07b28345d17"
      },
      "source": [
        "win_MI = df_MI[df_MI.winner == 'MI']\n",
        "win_MI.head(2)"
      ],
      "id": "58269efb",
      "execution_count": null,
      "outputs": [
        {
          "output_type": "execute_result",
          "data": {
            "text/html": [
              "<div>\n",
              "<style scoped>\n",
              "    .dataframe tbody tr th:only-of-type {\n",
              "        vertical-align: middle;\n",
              "    }\n",
              "\n",
              "    .dataframe tbody tr th {\n",
              "        vertical-align: top;\n",
              "    }\n",
              "\n",
              "    .dataframe thead th {\n",
              "        text-align: right;\n",
              "    }\n",
              "</style>\n",
              "<table border=\"1\" class=\"dataframe\">\n",
              "  <thead>\n",
              "    <tr style=\"text-align: right;\">\n",
              "      <th></th>\n",
              "      <th>season</th>\n",
              "      <th>city</th>\n",
              "      <th>team1</th>\n",
              "      <th>team2</th>\n",
              "      <th>toss_winner</th>\n",
              "      <th>toss_decision</th>\n",
              "      <th>winner</th>\n",
              "    </tr>\n",
              "  </thead>\n",
              "  <tbody>\n",
              "    <tr>\n",
              "      <th>15</th>\n",
              "      <td>2008</td>\n",
              "      <td>Kolkata</td>\n",
              "      <td>KKR</td>\n",
              "      <td>MI</td>\n",
              "      <td>KKR</td>\n",
              "      <td>bat</td>\n",
              "      <td>MI</td>\n",
              "    </tr>\n",
              "    <tr>\n",
              "      <th>22</th>\n",
              "      <td>2008</td>\n",
              "      <td>Mumbai</td>\n",
              "      <td>MI</td>\n",
              "      <td>DD</td>\n",
              "      <td>DD</td>\n",
              "      <td>field</td>\n",
              "      <td>MI</td>\n",
              "    </tr>\n",
              "  </tbody>\n",
              "</table>\n",
              "</div>"
            ],
            "text/plain": [
              "    season     city team1 team2 toss_winner toss_decision winner\n",
              "15    2008  Kolkata   KKR    MI         KKR           bat     MI\n",
              "22    2008   Mumbai    MI    DD          DD         field     MI"
            ]
          },
          "metadata": {
            "tags": []
          },
          "execution_count": 172
        }
      ]
    },
    {
      "cell_type": "code",
      "metadata": {
        "id": "21d5dac0",
        "outputId": "cfe4e3b6-8b10-4452-b41f-7a6e17477369"
      },
      "source": [
        "winning_per_MI = (win_MI.shape[0]/df_MI.shape[0]) * 100\n",
        "round(winning_per_MI,2)"
      ],
      "id": "21d5dac0",
      "execution_count": null,
      "outputs": [
        {
          "output_type": "execute_result",
          "data": {
            "text/plain": [
              "58.6"
            ]
          },
          "metadata": {
            "tags": []
          },
          "execution_count": 173
        }
      ]
    },
    {
      "cell_type": "code",
      "metadata": {
        "id": "e1b45c9d",
        "outputId": "327b922c-c2d7-49ca-e81a-20830c2dfcc4"
      },
      "source": [
        "df_MI.shape[0], win_MI.shape[0]"
      ],
      "id": "e1b45c9d",
      "execution_count": null,
      "outputs": [
        {
          "output_type": "execute_result",
          "data": {
            "text/plain": [
              "(157, 92)"
            ]
          },
          "metadata": {
            "tags": []
          },
          "execution_count": 180
        }
      ]
    },
    {
      "cell_type": "code",
      "metadata": {
        "id": "b27aa13c",
        "outputId": "c994899e-6964-4728-bbdb-6f1b3a3ed181"
      },
      "source": [
        "df_csk.shape[0] , win_csk.shape[0]"
      ],
      "id": "b27aa13c",
      "execution_count": null,
      "outputs": [
        {
          "output_type": "execute_result",
          "data": {
            "text/plain": [
              "(131, 79)"
            ]
          },
          "metadata": {
            "tags": []
          },
          "execution_count": 179
        }
      ]
    },
    {
      "cell_type": "code",
      "metadata": {
        "id": "b864c2f2"
      },
      "source": [
        "csk_chennai = win_csk[win_csk['city']== 'Chennai']\n",
        "mi_chennai  = win_MI[win_MI['city'] == 'Chennai']"
      ],
      "id": "b864c2f2",
      "execution_count": null,
      "outputs": []
    },
    {
      "cell_type": "code",
      "metadata": {
        "id": "5c9d0767",
        "outputId": "69158d54-e423-4d2a-bb2f-14ab33b70a53"
      },
      "source": [
        "csk_chennai.shape, mi_chennai.shape"
      ],
      "id": "5c9d0767",
      "execution_count": null,
      "outputs": [
        {
          "output_type": "execute_result",
          "data": {
            "text/plain": [
              "((33, 7), (3, 7))"
            ]
          },
          "metadata": {
            "tags": []
          },
          "execution_count": 184
        }
      ]
    },
    {
      "cell_type": "code",
      "metadata": {
        "id": "33356622",
        "outputId": "5f83fb1c-2527-40cd-98c8-09238207b0c4"
      },
      "source": [
        "pd.concat([csk_chennai, mi_chennai], axis = 1)[:3]"
      ],
      "id": "33356622",
      "execution_count": null,
      "outputs": [
        {
          "output_type": "execute_result",
          "data": {
            "text/html": [
              "<div>\n",
              "<style scoped>\n",
              "    .dataframe tbody tr th:only-of-type {\n",
              "        vertical-align: middle;\n",
              "    }\n",
              "\n",
              "    .dataframe tbody tr th {\n",
              "        vertical-align: top;\n",
              "    }\n",
              "\n",
              "    .dataframe thead th {\n",
              "        text-align: right;\n",
              "    }\n",
              "</style>\n",
              "<table border=\"1\" class=\"dataframe\">\n",
              "  <thead>\n",
              "    <tr style=\"text-align: right;\">\n",
              "      <th></th>\n",
              "      <th>season</th>\n",
              "      <th>city</th>\n",
              "      <th>team1</th>\n",
              "      <th>team2</th>\n",
              "      <th>toss_winner</th>\n",
              "      <th>toss_decision</th>\n",
              "      <th>winner</th>\n",
              "      <th>season</th>\n",
              "      <th>city</th>\n",
              "      <th>team1</th>\n",
              "      <th>team2</th>\n",
              "      <th>toss_winner</th>\n",
              "      <th>toss_decision</th>\n",
              "      <th>winner</th>\n",
              "    </tr>\n",
              "  </thead>\n",
              "  <tbody>\n",
              "    <tr>\n",
              "      <th>7</th>\n",
              "      <td>2008.0</td>\n",
              "      <td>Chennai</td>\n",
              "      <td>CSK</td>\n",
              "      <td>MI</td>\n",
              "      <td>MI</td>\n",
              "      <td>field</td>\n",
              "      <td>CSK</td>\n",
              "      <td>NaN</td>\n",
              "      <td>NaN</td>\n",
              "      <td>NaN</td>\n",
              "      <td>NaN</td>\n",
              "      <td>NaN</td>\n",
              "      <td>NaN</td>\n",
              "      <td>NaN</td>\n",
              "    </tr>\n",
              "    <tr>\n",
              "      <th>11</th>\n",
              "      <td>2008.0</td>\n",
              "      <td>Chennai</td>\n",
              "      <td>KKR</td>\n",
              "      <td>CSK</td>\n",
              "      <td>KKR</td>\n",
              "      <td>bat</td>\n",
              "      <td>CSK</td>\n",
              "      <td>NaN</td>\n",
              "      <td>NaN</td>\n",
              "      <td>NaN</td>\n",
              "      <td>NaN</td>\n",
              "      <td>NaN</td>\n",
              "      <td>NaN</td>\n",
              "      <td>NaN</td>\n",
              "    </tr>\n",
              "    <tr>\n",
              "      <th>31</th>\n",
              "      <td>2008.0</td>\n",
              "      <td>Chennai</td>\n",
              "      <td>CSK</td>\n",
              "      <td>KXIP</td>\n",
              "      <td>KXIP</td>\n",
              "      <td>field</td>\n",
              "      <td>CSK</td>\n",
              "      <td>NaN</td>\n",
              "      <td>NaN</td>\n",
              "      <td>NaN</td>\n",
              "      <td>NaN</td>\n",
              "      <td>NaN</td>\n",
              "      <td>NaN</td>\n",
              "      <td>NaN</td>\n",
              "    </tr>\n",
              "  </tbody>\n",
              "</table>\n",
              "</div>"
            ],
            "text/plain": [
              "    season     city team1 team2 toss_winner toss_decision winner  season city  \\\n",
              "7   2008.0  Chennai   CSK    MI          MI         field    CSK     NaN  NaN   \n",
              "11  2008.0  Chennai   KKR   CSK         KKR           bat    CSK     NaN  NaN   \n",
              "31  2008.0  Chennai   CSK  KXIP        KXIP         field    CSK     NaN  NaN   \n",
              "\n",
              "   team1 team2 toss_winner toss_decision winner  \n",
              "7    NaN   NaN         NaN           NaN    NaN  \n",
              "11   NaN   NaN         NaN           NaN    NaN  \n",
              "31   NaN   NaN         NaN           NaN    NaN  "
            ]
          },
          "metadata": {
            "tags": []
          },
          "execution_count": 206
        }
      ]
    },
    {
      "cell_type": "code",
      "metadata": {
        "id": "e82c8141"
      },
      "source": [
        "left = pd.DataFrame({'A': ['A0','A1','A2'], \n",
        "                     'B': ['B0','B1','B2']}, \n",
        "                    index = ['K0','K1','K2'])\n",
        "\n",
        "right = pd.DataFrame({'C': ['C0','C2','C3'], \n",
        "                      'D': ['D0','D2','D3']}, \n",
        "                     index = ['K0','K1','K2'])"
      ],
      "id": "e82c8141",
      "execution_count": null,
      "outputs": []
    },
    {
      "cell_type": "code",
      "metadata": {
        "id": "b77d5f2d",
        "outputId": "85eb248b-78a2-4521-fce4-d36359fa2f0f"
      },
      "source": [
        "left"
      ],
      "id": "b77d5f2d",
      "execution_count": null,
      "outputs": [
        {
          "output_type": "execute_result",
          "data": {
            "text/html": [
              "<div>\n",
              "<style scoped>\n",
              "    .dataframe tbody tr th:only-of-type {\n",
              "        vertical-align: middle;\n",
              "    }\n",
              "\n",
              "    .dataframe tbody tr th {\n",
              "        vertical-align: top;\n",
              "    }\n",
              "\n",
              "    .dataframe thead th {\n",
              "        text-align: right;\n",
              "    }\n",
              "</style>\n",
              "<table border=\"1\" class=\"dataframe\">\n",
              "  <thead>\n",
              "    <tr style=\"text-align: right;\">\n",
              "      <th></th>\n",
              "      <th>A</th>\n",
              "      <th>B</th>\n",
              "    </tr>\n",
              "  </thead>\n",
              "  <tbody>\n",
              "    <tr>\n",
              "      <th>K0</th>\n",
              "      <td>A0</td>\n",
              "      <td>B0</td>\n",
              "    </tr>\n",
              "    <tr>\n",
              "      <th>K1</th>\n",
              "      <td>A1</td>\n",
              "      <td>B1</td>\n",
              "    </tr>\n",
              "    <tr>\n",
              "      <th>K2</th>\n",
              "      <td>A2</td>\n",
              "      <td>B2</td>\n",
              "    </tr>\n",
              "  </tbody>\n",
              "</table>\n",
              "</div>"
            ],
            "text/plain": [
              "     A   B\n",
              "K0  A0  B0\n",
              "K1  A1  B1\n",
              "K2  A2  B2"
            ]
          },
          "metadata": {
            "tags": []
          },
          "execution_count": 197
        }
      ]
    },
    {
      "cell_type": "code",
      "metadata": {
        "id": "cc047faa",
        "outputId": "c99e48ba-ec82-4912-d613-61218480f4db"
      },
      "source": [
        "right"
      ],
      "id": "cc047faa",
      "execution_count": null,
      "outputs": [
        {
          "output_type": "execute_result",
          "data": {
            "text/html": [
              "<div>\n",
              "<style scoped>\n",
              "    .dataframe tbody tr th:only-of-type {\n",
              "        vertical-align: middle;\n",
              "    }\n",
              "\n",
              "    .dataframe tbody tr th {\n",
              "        vertical-align: top;\n",
              "    }\n",
              "\n",
              "    .dataframe thead th {\n",
              "        text-align: right;\n",
              "    }\n",
              "</style>\n",
              "<table border=\"1\" class=\"dataframe\">\n",
              "  <thead>\n",
              "    <tr style=\"text-align: right;\">\n",
              "      <th></th>\n",
              "      <th>C</th>\n",
              "      <th>D</th>\n",
              "    </tr>\n",
              "  </thead>\n",
              "  <tbody>\n",
              "    <tr>\n",
              "      <th>K0</th>\n",
              "      <td>C0</td>\n",
              "      <td>D0</td>\n",
              "    </tr>\n",
              "    <tr>\n",
              "      <th>K1</th>\n",
              "      <td>C2</td>\n",
              "      <td>D2</td>\n",
              "    </tr>\n",
              "    <tr>\n",
              "      <th>K2</th>\n",
              "      <td>C3</td>\n",
              "      <td>D3</td>\n",
              "    </tr>\n",
              "  </tbody>\n",
              "</table>\n",
              "</div>"
            ],
            "text/plain": [
              "     C   D\n",
              "K0  C0  D0\n",
              "K1  C2  D2\n",
              "K2  C3  D3"
            ]
          },
          "metadata": {
            "tags": []
          },
          "execution_count": 198
        }
      ]
    },
    {
      "cell_type": "code",
      "metadata": {
        "id": "ef16052b",
        "outputId": "08f0f33e-2023-4806-aad7-20578c600638"
      },
      "source": [
        "left.join(right)"
      ],
      "id": "ef16052b",
      "execution_count": null,
      "outputs": [
        {
          "output_type": "execute_result",
          "data": {
            "text/html": [
              "<div>\n",
              "<style scoped>\n",
              "    .dataframe tbody tr th:only-of-type {\n",
              "        vertical-align: middle;\n",
              "    }\n",
              "\n",
              "    .dataframe tbody tr th {\n",
              "        vertical-align: top;\n",
              "    }\n",
              "\n",
              "    .dataframe thead th {\n",
              "        text-align: right;\n",
              "    }\n",
              "</style>\n",
              "<table border=\"1\" class=\"dataframe\">\n",
              "  <thead>\n",
              "    <tr style=\"text-align: right;\">\n",
              "      <th></th>\n",
              "      <th>A</th>\n",
              "      <th>B</th>\n",
              "      <th>C</th>\n",
              "      <th>D</th>\n",
              "    </tr>\n",
              "  </thead>\n",
              "  <tbody>\n",
              "    <tr>\n",
              "      <th>K0</th>\n",
              "      <td>A0</td>\n",
              "      <td>B0</td>\n",
              "      <td>C0</td>\n",
              "      <td>D0</td>\n",
              "    </tr>\n",
              "    <tr>\n",
              "      <th>K1</th>\n",
              "      <td>A1</td>\n",
              "      <td>B1</td>\n",
              "      <td>C2</td>\n",
              "      <td>D2</td>\n",
              "    </tr>\n",
              "    <tr>\n",
              "      <th>K2</th>\n",
              "      <td>A2</td>\n",
              "      <td>B2</td>\n",
              "      <td>C3</td>\n",
              "      <td>D3</td>\n",
              "    </tr>\n",
              "  </tbody>\n",
              "</table>\n",
              "</div>"
            ],
            "text/plain": [
              "     A   B   C   D\n",
              "K0  A0  B0  C0  D0\n",
              "K1  A1  B1  C2  D2\n",
              "K2  A2  B2  C3  D3"
            ]
          },
          "metadata": {
            "tags": []
          },
          "execution_count": 199
        }
      ]
    },
    {
      "cell_type": "code",
      "metadata": {
        "id": "b839839e",
        "outputId": "c0acca41-9b39-4534-94a9-aa2b1c126282"
      },
      "source": [
        "df[df.duplicated('city')]"
      ],
      "id": "b839839e",
      "execution_count": null,
      "outputs": [
        {
          "output_type": "execute_result",
          "data": {
            "text/html": [
              "<div>\n",
              "<style scoped>\n",
              "    .dataframe tbody tr th:only-of-type {\n",
              "        vertical-align: middle;\n",
              "    }\n",
              "\n",
              "    .dataframe tbody tr th {\n",
              "        vertical-align: top;\n",
              "    }\n",
              "\n",
              "    .dataframe thead th {\n",
              "        text-align: right;\n",
              "    }\n",
              "</style>\n",
              "<table border=\"1\" class=\"dataframe\">\n",
              "  <thead>\n",
              "    <tr style=\"text-align: right;\">\n",
              "      <th></th>\n",
              "      <th>sno</th>\n",
              "      <th>season</th>\n",
              "      <th>city</th>\n",
              "      <th>date</th>\n",
              "      <th>team1</th>\n",
              "      <th>team2</th>\n",
              "      <th>toss_winner</th>\n",
              "      <th>toss_decision</th>\n",
              "      <th>result</th>\n",
              "      <th>dl_applied</th>\n",
              "      <th>winner</th>\n",
              "      <th>win_by_runs</th>\n",
              "      <th>win_by_wickets</th>\n",
              "      <th>Man_of_Match</th>\n",
              "      <th>venue</th>\n",
              "      <th>F_umpire</th>\n",
              "      <th>S_Umpire</th>\n",
              "    </tr>\n",
              "  </thead>\n",
              "  <tbody>\n",
              "    <tr>\n",
              "      <th>8</th>\n",
              "      <td>9</td>\n",
              "      <td>2008</td>\n",
              "      <td>Hyderabad</td>\n",
              "      <td>24/04/08</td>\n",
              "      <td>DC</td>\n",
              "      <td>RR</td>\n",
              "      <td>RR</td>\n",
              "      <td>field</td>\n",
              "      <td>normal</td>\n",
              "      <td>N</td>\n",
              "      <td>RR</td>\n",
              "      <td>0</td>\n",
              "      <td>3</td>\n",
              "      <td>YK Pathan</td>\n",
              "      <td>Rajiv Gandhi International Stadium, Uppal</td>\n",
              "      <td>Asad Rauf</td>\n",
              "      <td>MR Benson</td>\n",
              "    </tr>\n",
              "    <tr>\n",
              "      <th>9</th>\n",
              "      <td>10</td>\n",
              "      <td>2008</td>\n",
              "      <td>Chandigarh</td>\n",
              "      <td>25/04/08</td>\n",
              "      <td>KXIP</td>\n",
              "      <td>MI</td>\n",
              "      <td>MI</td>\n",
              "      <td>field</td>\n",
              "      <td>normal</td>\n",
              "      <td>N</td>\n",
              "      <td>KXIP</td>\n",
              "      <td>66</td>\n",
              "      <td>0</td>\n",
              "      <td>KC Sangakkara</td>\n",
              "      <td>Punjab Cricket Association Stadium, Mohali</td>\n",
              "      <td>Aleem Dar</td>\n",
              "      <td>AM Saheba</td>\n",
              "    </tr>\n",
              "    <tr>\n",
              "      <th>10</th>\n",
              "      <td>11</td>\n",
              "      <td>2008</td>\n",
              "      <td>Bangalore</td>\n",
              "      <td>26/04/08</td>\n",
              "      <td>RCB</td>\n",
              "      <td>RR</td>\n",
              "      <td>RR</td>\n",
              "      <td>field</td>\n",
              "      <td>normal</td>\n",
              "      <td>N</td>\n",
              "      <td>RR</td>\n",
              "      <td>0</td>\n",
              "      <td>7</td>\n",
              "      <td>SR Watson</td>\n",
              "      <td>M Chinnaswamy Stadium</td>\n",
              "      <td>MR Benson</td>\n",
              "      <td>IL Howell</td>\n",
              "    </tr>\n",
              "    <tr>\n",
              "      <th>11</th>\n",
              "      <td>12</td>\n",
              "      <td>2008</td>\n",
              "      <td>Chennai</td>\n",
              "      <td>26/04/08</td>\n",
              "      <td>KKR</td>\n",
              "      <td>CSK</td>\n",
              "      <td>KKR</td>\n",
              "      <td>bat</td>\n",
              "      <td>normal</td>\n",
              "      <td>N</td>\n",
              "      <td>CSK</td>\n",
              "      <td>0</td>\n",
              "      <td>9</td>\n",
              "      <td>JDP Oram</td>\n",
              "      <td>MA Chidambaram Stadium, Chepauk</td>\n",
              "      <td>BF Bowden</td>\n",
              "      <td>AV Jayaprakash</td>\n",
              "    </tr>\n",
              "    <tr>\n",
              "      <th>12</th>\n",
              "      <td>13</td>\n",
              "      <td>2008</td>\n",
              "      <td>Mumbai</td>\n",
              "      <td>27/04/08</td>\n",
              "      <td>MI</td>\n",
              "      <td>DC</td>\n",
              "      <td>DC</td>\n",
              "      <td>field</td>\n",
              "      <td>normal</td>\n",
              "      <td>N</td>\n",
              "      <td>DC</td>\n",
              "      <td>0</td>\n",
              "      <td>10</td>\n",
              "      <td>AC Gilchrist</td>\n",
              "      <td>Dr DY Patil Sports Academy</td>\n",
              "      <td>Asad Rauf</td>\n",
              "      <td>SL Shastri</td>\n",
              "    </tr>\n",
              "    <tr>\n",
              "      <th>...</th>\n",
              "      <td>...</td>\n",
              "      <td>...</td>\n",
              "      <td>...</td>\n",
              "      <td>...</td>\n",
              "      <td>...</td>\n",
              "      <td>...</td>\n",
              "      <td>...</td>\n",
              "      <td>...</td>\n",
              "      <td>...</td>\n",
              "      <td>...</td>\n",
              "      <td>...</td>\n",
              "      <td>...</td>\n",
              "      <td>...</td>\n",
              "      <td>...</td>\n",
              "      <td>...</td>\n",
              "      <td>...</td>\n",
              "      <td>...</td>\n",
              "    </tr>\n",
              "    <tr>\n",
              "      <th>631</th>\n",
              "      <td>632</td>\n",
              "      <td>2017</td>\n",
              "      <td>Delhi</td>\n",
              "      <td>14/05/17</td>\n",
              "      <td>RCB</td>\n",
              "      <td>DD</td>\n",
              "      <td>RCB</td>\n",
              "      <td>bat</td>\n",
              "      <td>normal</td>\n",
              "      <td>N</td>\n",
              "      <td>RCB</td>\n",
              "      <td>10</td>\n",
              "      <td>0</td>\n",
              "      <td>HV Patel</td>\n",
              "      <td>Feroz Shah Kotla</td>\n",
              "      <td>CK Nandan</td>\n",
              "      <td>C Shamshuddin</td>\n",
              "    </tr>\n",
              "    <tr>\n",
              "      <th>632</th>\n",
              "      <td>633</td>\n",
              "      <td>2017</td>\n",
              "      <td>Mumbai</td>\n",
              "      <td>16/05/17</td>\n",
              "      <td>RPS</td>\n",
              "      <td>MI</td>\n",
              "      <td>MI</td>\n",
              "      <td>field</td>\n",
              "      <td>normal</td>\n",
              "      <td>N</td>\n",
              "      <td>RPS</td>\n",
              "      <td>20</td>\n",
              "      <td>0</td>\n",
              "      <td>Washington Sundar</td>\n",
              "      <td>Wankhede Stadium</td>\n",
              "      <td>S Ravi</td>\n",
              "      <td>C Shamshuddin</td>\n",
              "    </tr>\n",
              "    <tr>\n",
              "      <th>633</th>\n",
              "      <td>634</td>\n",
              "      <td>2017</td>\n",
              "      <td>Bangalore</td>\n",
              "      <td>17/05/17</td>\n",
              "      <td>SH</td>\n",
              "      <td>KKR</td>\n",
              "      <td>KKR</td>\n",
              "      <td>field</td>\n",
              "      <td>normal</td>\n",
              "      <td>Y</td>\n",
              "      <td>KKR</td>\n",
              "      <td>0</td>\n",
              "      <td>7</td>\n",
              "      <td>NM Coulter-Nile</td>\n",
              "      <td>M Chinnaswamy Stadium</td>\n",
              "      <td>AK Chaudhary</td>\n",
              "      <td>Nitin Menon</td>\n",
              "    </tr>\n",
              "    <tr>\n",
              "      <th>634</th>\n",
              "      <td>635</td>\n",
              "      <td>2017</td>\n",
              "      <td>Bangalore</td>\n",
              "      <td>19/05/17</td>\n",
              "      <td>KKR</td>\n",
              "      <td>MI</td>\n",
              "      <td>MI</td>\n",
              "      <td>field</td>\n",
              "      <td>normal</td>\n",
              "      <td>N</td>\n",
              "      <td>MI</td>\n",
              "      <td>0</td>\n",
              "      <td>6</td>\n",
              "      <td>KV Sharma</td>\n",
              "      <td>M Chinnaswamy Stadium</td>\n",
              "      <td>NJ Llong</td>\n",
              "      <td>Nitin Menon</td>\n",
              "    </tr>\n",
              "    <tr>\n",
              "      <th>635</th>\n",
              "      <td>636</td>\n",
              "      <td>2017</td>\n",
              "      <td>Hyderabad</td>\n",
              "      <td>21/05/17</td>\n",
              "      <td>MI</td>\n",
              "      <td>RPS</td>\n",
              "      <td>MI</td>\n",
              "      <td>bat</td>\n",
              "      <td>normal</td>\n",
              "      <td>N</td>\n",
              "      <td>MI</td>\n",
              "      <td>1</td>\n",
              "      <td>0</td>\n",
              "      <td>KH Pandya</td>\n",
              "      <td>Rajiv Gandhi International Stadium, Uppal</td>\n",
              "      <td>NJ Llong</td>\n",
              "      <td>S Ravi</td>\n",
              "    </tr>\n",
              "  </tbody>\n",
              "</table>\n",
              "<p>605 rows × 17 columns</p>\n",
              "</div>"
            ],
            "text/plain": [
              "     sno  season        city      date team1 team2 toss_winner toss_decision  \\\n",
              "8      9    2008   Hyderabad  24/04/08    DC    RR          RR         field   \n",
              "9     10    2008  Chandigarh  25/04/08  KXIP    MI          MI         field   \n",
              "10    11    2008   Bangalore  26/04/08   RCB    RR          RR         field   \n",
              "11    12    2008     Chennai  26/04/08   KKR   CSK         KKR           bat   \n",
              "12    13    2008      Mumbai  27/04/08    MI    DC          DC         field   \n",
              "..   ...     ...         ...       ...   ...   ...         ...           ...   \n",
              "631  632    2017       Delhi  14/05/17   RCB    DD         RCB           bat   \n",
              "632  633    2017      Mumbai  16/05/17   RPS    MI          MI         field   \n",
              "633  634    2017   Bangalore  17/05/17    SH   KKR         KKR         field   \n",
              "634  635    2017   Bangalore  19/05/17   KKR    MI          MI         field   \n",
              "635  636    2017   Hyderabad  21/05/17    MI   RPS          MI           bat   \n",
              "\n",
              "     result dl_applied winner  win_by_runs  win_by_wickets       Man_of_Match  \\\n",
              "8    normal          N     RR            0               3          YK Pathan   \n",
              "9    normal          N   KXIP           66               0      KC Sangakkara   \n",
              "10   normal          N     RR            0               7          SR Watson   \n",
              "11   normal          N    CSK            0               9           JDP Oram   \n",
              "12   normal          N     DC            0              10       AC Gilchrist   \n",
              "..      ...        ...    ...          ...             ...                ...   \n",
              "631  normal          N    RCB           10               0           HV Patel   \n",
              "632  normal          N    RPS           20               0  Washington Sundar   \n",
              "633  normal          Y    KKR            0               7    NM Coulter-Nile   \n",
              "634  normal          N     MI            0               6          KV Sharma   \n",
              "635  normal          N     MI            1               0          KH Pandya   \n",
              "\n",
              "                                          venue      F_umpire        S_Umpire  \n",
              "8     Rajiv Gandhi International Stadium, Uppal     Asad Rauf       MR Benson  \n",
              "9    Punjab Cricket Association Stadium, Mohali     Aleem Dar       AM Saheba  \n",
              "10                        M Chinnaswamy Stadium     MR Benson       IL Howell  \n",
              "11              MA Chidambaram Stadium, Chepauk     BF Bowden  AV Jayaprakash  \n",
              "12                   Dr DY Patil Sports Academy     Asad Rauf      SL Shastri  \n",
              "..                                          ...           ...             ...  \n",
              "631                            Feroz Shah Kotla     CK Nandan   C Shamshuddin  \n",
              "632                            Wankhede Stadium        S Ravi   C Shamshuddin  \n",
              "633                       M Chinnaswamy Stadium  AK Chaudhary     Nitin Menon  \n",
              "634                       M Chinnaswamy Stadium      NJ Llong     Nitin Menon  \n",
              "635   Rajiv Gandhi International Stadium, Uppal      NJ Llong          S Ravi  \n",
              "\n",
              "[605 rows x 17 columns]"
            ]
          },
          "metadata": {
            "tags": []
          },
          "execution_count": 203
        }
      ]
    },
    {
      "cell_type": "markdown",
      "metadata": {
        "id": "7c2a549b"
      },
      "source": [
        "### RCB Percentage of winning match [if RCB wins toss]"
      ],
      "id": "7c2a549b"
    },
    {
      "cell_type": "code",
      "metadata": {
        "id": "11d6b0c3",
        "outputId": "4b6cf663-2e08-4e8e-f739-be7d9df08d8d"
      },
      "source": [
        "df_RCB = df[(df.team1 == 'RCB') |(df.team2 == 'RCB') ][['season','city','team1','team2','toss_winner','winner']]\n",
        "df_RCB.head(2)"
      ],
      "id": "11d6b0c3",
      "execution_count": null,
      "outputs": [
        {
          "output_type": "execute_result",
          "data": {
            "text/html": [
              "<div>\n",
              "<style scoped>\n",
              "    .dataframe tbody tr th:only-of-type {\n",
              "        vertical-align: middle;\n",
              "    }\n",
              "\n",
              "    .dataframe tbody tr th {\n",
              "        vertical-align: top;\n",
              "    }\n",
              "\n",
              "    .dataframe thead th {\n",
              "        text-align: right;\n",
              "    }\n",
              "</style>\n",
              "<table border=\"1\" class=\"dataframe\">\n",
              "  <thead>\n",
              "    <tr style=\"text-align: right;\">\n",
              "      <th></th>\n",
              "      <th>season</th>\n",
              "      <th>city</th>\n",
              "      <th>team1</th>\n",
              "      <th>team2</th>\n",
              "      <th>toss_winner</th>\n",
              "      <th>winner</th>\n",
              "    </tr>\n",
              "  </thead>\n",
              "  <tbody>\n",
              "    <tr>\n",
              "      <th>0</th>\n",
              "      <td>2008</td>\n",
              "      <td>Bangalore</td>\n",
              "      <td>KKR</td>\n",
              "      <td>RCB</td>\n",
              "      <td>RCB</td>\n",
              "      <td>KKR</td>\n",
              "    </tr>\n",
              "    <tr>\n",
              "      <th>3</th>\n",
              "      <td>2008</td>\n",
              "      <td>Mumbai</td>\n",
              "      <td>MI</td>\n",
              "      <td>RCB</td>\n",
              "      <td>MI</td>\n",
              "      <td>RCB</td>\n",
              "    </tr>\n",
              "  </tbody>\n",
              "</table>\n",
              "</div>"
            ],
            "text/plain": [
              "   season       city team1 team2 toss_winner winner\n",
              "0    2008  Bangalore   KKR   RCB         RCB    KKR\n",
              "3    2008     Mumbai    MI   RCB          MI    RCB"
            ]
          },
          "metadata": {
            "tags": []
          },
          "execution_count": 205
        }
      ]
    },
    {
      "cell_type": "code",
      "metadata": {
        "id": "65dd1f47",
        "outputId": "886cdfc7-1d42-47d7-a74a-8321cb7f7206"
      },
      "source": [
        "win_RCB = df_RCB[df_RCB.toss_winner == 'RCB']\n",
        "win_RCB.head(2)"
      ],
      "id": "65dd1f47",
      "execution_count": null,
      "outputs": [
        {
          "output_type": "execute_result",
          "data": {
            "text/html": [
              "<div>\n",
              "<style scoped>\n",
              "    .dataframe tbody tr th:only-of-type {\n",
              "        vertical-align: middle;\n",
              "    }\n",
              "\n",
              "    .dataframe tbody tr th {\n",
              "        vertical-align: top;\n",
              "    }\n",
              "\n",
              "    .dataframe thead th {\n",
              "        text-align: right;\n",
              "    }\n",
              "</style>\n",
              "<table border=\"1\" class=\"dataframe\">\n",
              "  <thead>\n",
              "    <tr style=\"text-align: right;\">\n",
              "      <th></th>\n",
              "      <th>season</th>\n",
              "      <th>city</th>\n",
              "      <th>team1</th>\n",
              "      <th>team2</th>\n",
              "      <th>toss_winner</th>\n",
              "      <th>winner</th>\n",
              "    </tr>\n",
              "  </thead>\n",
              "  <tbody>\n",
              "    <tr>\n",
              "      <th>0</th>\n",
              "      <td>2008</td>\n",
              "      <td>Bangalore</td>\n",
              "      <td>KKR</td>\n",
              "      <td>RCB</td>\n",
              "      <td>RCB</td>\n",
              "      <td>KKR</td>\n",
              "    </tr>\n",
              "    <tr>\n",
              "      <th>16</th>\n",
              "      <td>2008</td>\n",
              "      <td>Delhi</td>\n",
              "      <td>DD</td>\n",
              "      <td>RCB</td>\n",
              "      <td>RCB</td>\n",
              "      <td>DD</td>\n",
              "    </tr>\n",
              "  </tbody>\n",
              "</table>\n",
              "</div>"
            ],
            "text/plain": [
              "    season       city team1 team2 toss_winner winner\n",
              "0     2008  Bangalore   KKR   RCB         RCB    KKR\n",
              "16    2008      Delhi    DD   RCB         RCB     DD"
            ]
          },
          "metadata": {
            "tags": []
          },
          "execution_count": 208
        }
      ]
    },
    {
      "cell_type": "code",
      "metadata": {
        "id": "a14545cb",
        "outputId": "97e149e7-4cab-44e4-80d8-f8a35d4aa154"
      },
      "source": [
        "win_percentage = (win_RCB.shape[0]/df_RCB.shape[0])*100\n",
        "round(win_percentage,2)"
      ],
      "id": "a14545cb",
      "execution_count": null,
      "outputs": [
        {
          "output_type": "execute_result",
          "data": {
            "text/plain": [
              "46.05"
            ]
          },
          "metadata": {
            "tags": []
          },
          "execution_count": 210
        }
      ]
    },
    {
      "cell_type": "code",
      "metadata": {
        "id": "78dfa012",
        "outputId": "ccfc1123-21f0-4b67-d6d7-517b6200cf07"
      },
      "source": [
        "df_RCB.shape[0], win_RCB.shape[0]"
      ],
      "id": "78dfa012",
      "execution_count": null,
      "outputs": [
        {
          "output_type": "execute_result",
          "data": {
            "text/plain": [
              "(152, 70)"
            ]
          },
          "metadata": {
            "tags": []
          },
          "execution_count": 212
        }
      ]
    },
    {
      "cell_type": "code",
      "metadata": {
        "id": "2592eb66",
        "outputId": "aa779cf9-a4b1-448c-b08b-603628ab6efa"
      },
      "source": [
        "win_RCB[:3]"
      ],
      "id": "2592eb66",
      "execution_count": null,
      "outputs": [
        {
          "output_type": "execute_result",
          "data": {
            "text/html": [
              "<div>\n",
              "<style scoped>\n",
              "    .dataframe tbody tr th:only-of-type {\n",
              "        vertical-align: middle;\n",
              "    }\n",
              "\n",
              "    .dataframe tbody tr th {\n",
              "        vertical-align: top;\n",
              "    }\n",
              "\n",
              "    .dataframe thead th {\n",
              "        text-align: right;\n",
              "    }\n",
              "</style>\n",
              "<table border=\"1\" class=\"dataframe\">\n",
              "  <thead>\n",
              "    <tr style=\"text-align: right;\">\n",
              "      <th></th>\n",
              "      <th>season</th>\n",
              "      <th>city</th>\n",
              "      <th>team1</th>\n",
              "      <th>team2</th>\n",
              "      <th>toss_winner</th>\n",
              "      <th>winner</th>\n",
              "    </tr>\n",
              "  </thead>\n",
              "  <tbody>\n",
              "    <tr>\n",
              "      <th>0</th>\n",
              "      <td>2008</td>\n",
              "      <td>Bangalore</td>\n",
              "      <td>KKR</td>\n",
              "      <td>RCB</td>\n",
              "      <td>RCB</td>\n",
              "      <td>KKR</td>\n",
              "    </tr>\n",
              "    <tr>\n",
              "      <th>16</th>\n",
              "      <td>2008</td>\n",
              "      <td>Delhi</td>\n",
              "      <td>DD</td>\n",
              "      <td>RCB</td>\n",
              "      <td>RCB</td>\n",
              "      <td>DD</td>\n",
              "    </tr>\n",
              "    <tr>\n",
              "      <th>34</th>\n",
              "      <td>2008</td>\n",
              "      <td>Chandigarh</td>\n",
              "      <td>RCB</td>\n",
              "      <td>KXIP</td>\n",
              "      <td>RCB</td>\n",
              "      <td>KXIP</td>\n",
              "    </tr>\n",
              "  </tbody>\n",
              "</table>\n",
              "</div>"
            ],
            "text/plain": [
              "    season        city team1 team2 toss_winner winner\n",
              "0     2008   Bangalore   KKR   RCB         RCB    KKR\n",
              "16    2008       Delhi    DD   RCB         RCB     DD\n",
              "34    2008  Chandigarh   RCB  KXIP         RCB   KXIP"
            ]
          },
          "metadata": {
            "tags": []
          },
          "execution_count": 214
        }
      ]
    },
    {
      "cell_type": "code",
      "metadata": {
        "id": "f36442c3",
        "outputId": "9be827e4-5bd8-460c-ddec-272ce4f1ea1c"
      },
      "source": [
        "df_names = pd.read_csv('Indian_Names.csv')\n",
        "df_names.info()"
      ],
      "id": "f36442c3",
      "execution_count": null,
      "outputs": [
        {
          "output_type": "stream",
          "text": [
            "<class 'pandas.core.frame.DataFrame'>\n",
            "RangeIndex: 30054 entries, 0 to 30053\n",
            "Data columns (total 2 columns):\n",
            " #   Column  Non-Null Count  Dtype \n",
            "---  ------  --------------  ----- \n",
            " 0   Name    30054 non-null  object\n",
            " 1   Gender  30054 non-null  int64 \n",
            "dtypes: int64(1), object(1)\n",
            "memory usage: 469.7+ KB\n"
          ],
          "name": "stdout"
        }
      ]
    },
    {
      "cell_type": "code",
      "metadata": {
        "id": "89daa391",
        "outputId": "ec5fc8b7-fd3d-4849-acf6-fa3ed50d7303"
      },
      "source": [
        "df_names['Gender'].value_counts()"
      ],
      "id": "89daa391",
      "execution_count": null,
      "outputs": [
        {
          "output_type": "execute_result",
          "data": {
            "text/plain": [
              "1    15278\n",
              "0    14776\n",
              "Name: Gender, dtype: int64"
            ]
          },
          "metadata": {
            "tags": []
          },
          "execution_count": 216
        }
      ]
    },
    {
      "cell_type": "code",
      "metadata": {
        "id": "35db999b",
        "outputId": "10addea2-4348-4815-d806-db62e02bb980"
      },
      "source": [
        "female_names = df_names[df_names['Gender']== 1]['Name'].values\n",
        "np.sort(female_names)"
      ],
      "id": "35db999b",
      "execution_count": null,
      "outputs": [
        {
          "output_type": "execute_result",
          "data": {
            "text/plain": [
              "array(['a lakshmi devi', 'a rajeswari', 'aachal', ..., 'zhini devi',\n",
              "       'zina kumari', 'zoya'], dtype=object)"
            ]
          },
          "metadata": {
            "tags": []
          },
          "execution_count": 224
        }
      ]
    },
    {
      "cell_type": "markdown",
      "metadata": {
        "id": "c71bfd22"
      },
      "source": [
        "### Missing data "
      ],
      "id": "c71bfd22"
    },
    {
      "cell_type": "code",
      "metadata": {
        "id": "84ee1cc2",
        "outputId": "9fad133f-7833-4f51-dd5d-af60f38358bd"
      },
      "source": [
        "df_names.isnull().sum()"
      ],
      "id": "84ee1cc2",
      "execution_count": null,
      "outputs": [
        {
          "output_type": "execute_result",
          "data": {
            "text/plain": [
              "Name      0\n",
              "Gender    0\n",
              "dtype: int64"
            ]
          },
          "metadata": {
            "tags": []
          },
          "execution_count": 227
        }
      ]
    },
    {
      "cell_type": "code",
      "metadata": {
        "id": "2f4032a3"
      },
      "source": [
        "df_covid  = pd.read_csv('covid_19_india.csv')"
      ],
      "id": "2f4032a3",
      "execution_count": null,
      "outputs": []
    },
    {
      "cell_type": "code",
      "metadata": {
        "id": "ccb139a3",
        "outputId": "49efa34e-7eb0-426c-911e-2b6934a67f44"
      },
      "source": [
        "df_covid[:4]"
      ],
      "id": "ccb139a3",
      "execution_count": null,
      "outputs": [
        {
          "output_type": "execute_result",
          "data": {
            "text/html": [
              "<div>\n",
              "<style scoped>\n",
              "    .dataframe tbody tr th:only-of-type {\n",
              "        vertical-align: middle;\n",
              "    }\n",
              "\n",
              "    .dataframe tbody tr th {\n",
              "        vertical-align: top;\n",
              "    }\n",
              "\n",
              "    .dataframe thead th {\n",
              "        text-align: right;\n",
              "    }\n",
              "</style>\n",
              "<table border=\"1\" class=\"dataframe\">\n",
              "  <thead>\n",
              "    <tr style=\"text-align: right;\">\n",
              "      <th></th>\n",
              "      <th>Sno</th>\n",
              "      <th>Date</th>\n",
              "      <th>Time</th>\n",
              "      <th>State/UnionTerritory</th>\n",
              "      <th>ConfirmedIndianNational</th>\n",
              "      <th>ConfirmedForeignNational</th>\n",
              "      <th>Cured</th>\n",
              "      <th>Deaths</th>\n",
              "      <th>Confirmed</th>\n",
              "    </tr>\n",
              "  </thead>\n",
              "  <tbody>\n",
              "    <tr>\n",
              "      <th>0</th>\n",
              "      <td>1</td>\n",
              "      <td>30/01/20</td>\n",
              "      <td>6:00 PM</td>\n",
              "      <td>Kerala</td>\n",
              "      <td>1</td>\n",
              "      <td>0</td>\n",
              "      <td>0</td>\n",
              "      <td>0</td>\n",
              "      <td>1</td>\n",
              "    </tr>\n",
              "    <tr>\n",
              "      <th>1</th>\n",
              "      <td>2</td>\n",
              "      <td>31/01/20</td>\n",
              "      <td>6:00 PM</td>\n",
              "      <td>Kerala</td>\n",
              "      <td>1</td>\n",
              "      <td>0</td>\n",
              "      <td>0</td>\n",
              "      <td>0</td>\n",
              "      <td>1</td>\n",
              "    </tr>\n",
              "    <tr>\n",
              "      <th>2</th>\n",
              "      <td>3</td>\n",
              "      <td>01/02/20</td>\n",
              "      <td>6:00 PM</td>\n",
              "      <td>Kerala</td>\n",
              "      <td>2</td>\n",
              "      <td>0</td>\n",
              "      <td>0</td>\n",
              "      <td>0</td>\n",
              "      <td>2</td>\n",
              "    </tr>\n",
              "    <tr>\n",
              "      <th>3</th>\n",
              "      <td>4</td>\n",
              "      <td>02/02/20</td>\n",
              "      <td>6:00 PM</td>\n",
              "      <td>Kerala</td>\n",
              "      <td>3</td>\n",
              "      <td>0</td>\n",
              "      <td>0</td>\n",
              "      <td>0</td>\n",
              "      <td>3</td>\n",
              "    </tr>\n",
              "  </tbody>\n",
              "</table>\n",
              "</div>"
            ],
            "text/plain": [
              "   Sno      Date     Time State/UnionTerritory ConfirmedIndianNational  \\\n",
              "0    1  30/01/20  6:00 PM               Kerala                       1   \n",
              "1    2  31/01/20  6:00 PM               Kerala                       1   \n",
              "2    3  01/02/20  6:00 PM               Kerala                       2   \n",
              "3    4  02/02/20  6:00 PM               Kerala                       3   \n",
              "\n",
              "  ConfirmedForeignNational  Cured  Deaths  Confirmed  \n",
              "0                        0      0       0          1  \n",
              "1                        0      0       0          1  \n",
              "2                        0      0       0          2  \n",
              "3                        0      0       0          3  "
            ]
          },
          "metadata": {
            "tags": []
          },
          "execution_count": 232
        }
      ]
    },
    {
      "cell_type": "code",
      "metadata": {
        "id": "401f9cdf",
        "outputId": "a0e9c173-77be-4f91-b559-609512a441e5"
      },
      "source": [
        "df_covid.describe()"
      ],
      "id": "401f9cdf",
      "execution_count": null,
      "outputs": [
        {
          "output_type": "execute_result",
          "data": {
            "text/html": [
              "<div>\n",
              "<style scoped>\n",
              "    .dataframe tbody tr th:only-of-type {\n",
              "        vertical-align: middle;\n",
              "    }\n",
              "\n",
              "    .dataframe tbody tr th {\n",
              "        vertical-align: top;\n",
              "    }\n",
              "\n",
              "    .dataframe thead th {\n",
              "        text-align: right;\n",
              "    }\n",
              "</style>\n",
              "<table border=\"1\" class=\"dataframe\">\n",
              "  <thead>\n",
              "    <tr style=\"text-align: right;\">\n",
              "      <th></th>\n",
              "      <th>Sno</th>\n",
              "      <th>Cured</th>\n",
              "      <th>Deaths</th>\n",
              "      <th>Confirmed</th>\n",
              "    </tr>\n",
              "  </thead>\n",
              "  <tbody>\n",
              "    <tr>\n",
              "      <th>count</th>\n",
              "      <td>1254.000000</td>\n",
              "      <td>1254.000000</td>\n",
              "      <td>1254.000000</td>\n",
              "      <td>1254.000000</td>\n",
              "    </tr>\n",
              "    <tr>\n",
              "      <th>mean</th>\n",
              "      <td>627.500000</td>\n",
              "      <td>24.524721</td>\n",
              "      <td>5.771930</td>\n",
              "      <td>186.789474</td>\n",
              "    </tr>\n",
              "    <tr>\n",
              "      <th>std</th>\n",
              "      <td>362.142928</td>\n",
              "      <td>72.485487</td>\n",
              "      <td>22.301403</td>\n",
              "      <td>485.907171</td>\n",
              "    </tr>\n",
              "    <tr>\n",
              "      <th>min</th>\n",
              "      <td>1.000000</td>\n",
              "      <td>0.000000</td>\n",
              "      <td>0.000000</td>\n",
              "      <td>0.000000</td>\n",
              "    </tr>\n",
              "    <tr>\n",
              "      <th>25%</th>\n",
              "      <td>314.250000</td>\n",
              "      <td>0.000000</td>\n",
              "      <td>0.000000</td>\n",
              "      <td>3.000000</td>\n",
              "    </tr>\n",
              "    <tr>\n",
              "      <th>50%</th>\n",
              "      <td>627.500000</td>\n",
              "      <td>1.000000</td>\n",
              "      <td>0.000000</td>\n",
              "      <td>18.000000</td>\n",
              "    </tr>\n",
              "    <tr>\n",
              "      <th>75%</th>\n",
              "      <td>940.750000</td>\n",
              "      <td>14.000000</td>\n",
              "      <td>3.000000</td>\n",
              "      <td>109.750000</td>\n",
              "    </tr>\n",
              "    <tr>\n",
              "      <th>max</th>\n",
              "      <td>1254.000000</td>\n",
              "      <td>789.000000</td>\n",
              "      <td>269.000000</td>\n",
              "      <td>5652.000000</td>\n",
              "    </tr>\n",
              "  </tbody>\n",
              "</table>\n",
              "</div>"
            ],
            "text/plain": [
              "               Sno        Cured       Deaths    Confirmed\n",
              "count  1254.000000  1254.000000  1254.000000  1254.000000\n",
              "mean    627.500000    24.524721     5.771930   186.789474\n",
              "std     362.142928    72.485487    22.301403   485.907171\n",
              "min       1.000000     0.000000     0.000000     0.000000\n",
              "25%     314.250000     0.000000     0.000000     3.000000\n",
              "50%     627.500000     1.000000     0.000000    18.000000\n",
              "75%     940.750000    14.000000     3.000000   109.750000\n",
              "max    1254.000000   789.000000   269.000000  5652.000000"
            ]
          },
          "metadata": {
            "tags": []
          },
          "execution_count": 242
        }
      ]
    },
    {
      "cell_type": "code",
      "metadata": {
        "id": "65e96414",
        "outputId": "637a4c48-6dab-4f9b-edb3-c62147f47661"
      },
      "source": [
        "stats = df_covid.groupby(by = 'State/UnionTerritory')['Deaths','Cured','Confirmed'].sum()\n",
        "stats[:5]"
      ],
      "id": "65e96414",
      "execution_count": null,
      "outputs": [
        {
          "output_type": "stream",
          "text": [
            "<ipython-input-262-ed4163c85925>:1: FutureWarning: Indexing with multiple keys (implicitly converted to a tuple of keys) will be deprecated, use a list instead.\n",
            "  stats = df_covid.groupby(by = 'State/UnionTerritory')['Deaths','Cured','Confirmed'].sum()\n"
          ],
          "name": "stderr"
        },
        {
          "output_type": "execute_result",
          "data": {
            "text/html": [
              "<div>\n",
              "<style scoped>\n",
              "    .dataframe tbody tr th:only-of-type {\n",
              "        vertical-align: middle;\n",
              "    }\n",
              "\n",
              "    .dataframe tbody tr th {\n",
              "        vertical-align: top;\n",
              "    }\n",
              "\n",
              "    .dataframe thead th {\n",
              "        text-align: right;\n",
              "    }\n",
              "</style>\n",
              "<table border=\"1\" class=\"dataframe\">\n",
              "  <thead>\n",
              "    <tr style=\"text-align: right;\">\n",
              "      <th></th>\n",
              "      <th>Deaths</th>\n",
              "      <th>Cured</th>\n",
              "      <th>Confirmed</th>\n",
              "    </tr>\n",
              "    <tr>\n",
              "      <th>State/UnionTerritory</th>\n",
              "      <th></th>\n",
              "      <th></th>\n",
              "      <th></th>\n",
              "    </tr>\n",
              "  </thead>\n",
              "  <tbody>\n",
              "    <tr>\n",
              "      <th>Andaman and Nicobar Islands</th>\n",
              "      <td>0</td>\n",
              "      <td>126</td>\n",
              "      <td>307</td>\n",
              "    </tr>\n",
              "    <tr>\n",
              "      <th>Andhra Pradesh</th>\n",
              "      <td>212</td>\n",
              "      <td>684</td>\n",
              "      <td>9992</td>\n",
              "    </tr>\n",
              "    <tr>\n",
              "      <th>Arunachal Pradesh</th>\n",
              "      <td>0</td>\n",
              "      <td>3</td>\n",
              "      <td>21</td>\n",
              "    </tr>\n",
              "    <tr>\n",
              "      <th>Assam</th>\n",
              "      <td>13</td>\n",
              "      <td>105</td>\n",
              "      <td>639</td>\n",
              "    </tr>\n",
              "    <tr>\n",
              "      <th>Bihar</th>\n",
              "      <td>39</td>\n",
              "      <td>416</td>\n",
              "      <td>1546</td>\n",
              "    </tr>\n",
              "  </tbody>\n",
              "</table>\n",
              "</div>"
            ],
            "text/plain": [
              "                             Deaths  Cured  Confirmed\n",
              "State/UnionTerritory                                 \n",
              "Andaman and Nicobar Islands       0    126        307\n",
              "Andhra Pradesh                  212    684       9992\n",
              "Arunachal Pradesh                 0      3         21\n",
              "Assam                            13    105        639\n",
              "Bihar                            39    416       1546"
            ]
          },
          "metadata": {
            "tags": []
          },
          "execution_count": 262
        }
      ]
    },
    {
      "cell_type": "code",
      "metadata": {
        "id": "6c25f6dd",
        "outputId": "b0164322-2939-41ac-b830-b617812e1f92"
      },
      "source": [
        "np.sum(df_covid[df_covid['State/UnionTerritory'] == 'Andaman and Nicobar Islands']['Confirmed'].values)"
      ],
      "id": "6c25f6dd",
      "execution_count": null,
      "outputs": [
        {
          "output_type": "execute_result",
          "data": {
            "text/plain": [
              "307"
            ]
          },
          "metadata": {
            "tags": []
          },
          "execution_count": 253
        }
      ]
    },
    {
      "cell_type": "code",
      "metadata": {
        "id": "9ed60570",
        "outputId": "0bb79ea1-16ed-482d-d0d4-e0b8d8e4a15b"
      },
      "source": [
        "stats.loc['Assam']"
      ],
      "id": "9ed60570",
      "execution_count": null,
      "outputs": [
        {
          "output_type": "execute_result",
          "data": {
            "text/plain": [
              "Deaths        13\n",
              "Cured        105\n",
              "Confirmed    639\n",
              "Name: Assam, dtype: int64"
            ]
          },
          "metadata": {
            "tags": []
          },
          "execution_count": 256
        }
      ]
    },
    {
      "cell_type": "code",
      "metadata": {
        "id": "e9f99f48",
        "outputId": "bb92d60a-20f9-4f7f-b910-ff8f08a0b0ef"
      },
      "source": [
        "stats.loc['Delhi']"
      ],
      "id": "e9f99f48",
      "execution_count": null,
      "outputs": [
        {
          "output_type": "execute_result",
          "data": {
            "text/plain": [
              "Deaths         546\n",
              "Cured         2672\n",
              "Confirmed    26879\n",
              "Name: Delhi, dtype: int64"
            ]
          },
          "metadata": {
            "tags": []
          },
          "execution_count": 257
        }
      ]
    },
    {
      "cell_type": "code",
      "metadata": {
        "id": "cec204ef",
        "outputId": "0928a7df-76fb-4623-b5b5-7b3f93f568e7"
      },
      "source": [
        "df_covid.head()"
      ],
      "id": "cec204ef",
      "execution_count": null,
      "outputs": [
        {
          "output_type": "execute_result",
          "data": {
            "text/html": [
              "<div>\n",
              "<style scoped>\n",
              "    .dataframe tbody tr th:only-of-type {\n",
              "        vertical-align: middle;\n",
              "    }\n",
              "\n",
              "    .dataframe tbody tr th {\n",
              "        vertical-align: top;\n",
              "    }\n",
              "\n",
              "    .dataframe thead th {\n",
              "        text-align: right;\n",
              "    }\n",
              "</style>\n",
              "<table border=\"1\" class=\"dataframe\">\n",
              "  <thead>\n",
              "    <tr style=\"text-align: right;\">\n",
              "      <th></th>\n",
              "      <th>Sno</th>\n",
              "      <th>Date</th>\n",
              "      <th>Time</th>\n",
              "      <th>State/UnionTerritory</th>\n",
              "      <th>ConfirmedIndianNational</th>\n",
              "      <th>ConfirmedForeignNational</th>\n",
              "      <th>Cured</th>\n",
              "      <th>Deaths</th>\n",
              "      <th>Confirmed</th>\n",
              "    </tr>\n",
              "  </thead>\n",
              "  <tbody>\n",
              "    <tr>\n",
              "      <th>0</th>\n",
              "      <td>1</td>\n",
              "      <td>30/01/20</td>\n",
              "      <td>6:00 PM</td>\n",
              "      <td>Kerala</td>\n",
              "      <td>1</td>\n",
              "      <td>0</td>\n",
              "      <td>0</td>\n",
              "      <td>0</td>\n",
              "      <td>1</td>\n",
              "    </tr>\n",
              "    <tr>\n",
              "      <th>1</th>\n",
              "      <td>2</td>\n",
              "      <td>31/01/20</td>\n",
              "      <td>6:00 PM</td>\n",
              "      <td>Kerala</td>\n",
              "      <td>1</td>\n",
              "      <td>0</td>\n",
              "      <td>0</td>\n",
              "      <td>0</td>\n",
              "      <td>1</td>\n",
              "    </tr>\n",
              "    <tr>\n",
              "      <th>2</th>\n",
              "      <td>3</td>\n",
              "      <td>01/02/20</td>\n",
              "      <td>6:00 PM</td>\n",
              "      <td>Kerala</td>\n",
              "      <td>2</td>\n",
              "      <td>0</td>\n",
              "      <td>0</td>\n",
              "      <td>0</td>\n",
              "      <td>2</td>\n",
              "    </tr>\n",
              "    <tr>\n",
              "      <th>3</th>\n",
              "      <td>4</td>\n",
              "      <td>02/02/20</td>\n",
              "      <td>6:00 PM</td>\n",
              "      <td>Kerala</td>\n",
              "      <td>3</td>\n",
              "      <td>0</td>\n",
              "      <td>0</td>\n",
              "      <td>0</td>\n",
              "      <td>3</td>\n",
              "    </tr>\n",
              "    <tr>\n",
              "      <th>4</th>\n",
              "      <td>5</td>\n",
              "      <td>03/02/20</td>\n",
              "      <td>6:00 PM</td>\n",
              "      <td>Kerala</td>\n",
              "      <td>3</td>\n",
              "      <td>0</td>\n",
              "      <td>0</td>\n",
              "      <td>0</td>\n",
              "      <td>3</td>\n",
              "    </tr>\n",
              "  </tbody>\n",
              "</table>\n",
              "</div>"
            ],
            "text/plain": [
              "   Sno      Date     Time State/UnionTerritory ConfirmedIndianNational  \\\n",
              "0    1  30/01/20  6:00 PM               Kerala                       1   \n",
              "1    2  31/01/20  6:00 PM               Kerala                       1   \n",
              "2    3  01/02/20  6:00 PM               Kerala                       2   \n",
              "3    4  02/02/20  6:00 PM               Kerala                       3   \n",
              "4    5  03/02/20  6:00 PM               Kerala                       3   \n",
              "\n",
              "  ConfirmedForeignNational  Cured  Deaths  Confirmed  \n",
              "0                        0      0       0          1  \n",
              "1                        0      0       0          1  \n",
              "2                        0      0       0          2  \n",
              "3                        0      0       0          3  \n",
              "4                        0      0       0          3  "
            ]
          },
          "metadata": {
            "tags": []
          },
          "execution_count": 259
        }
      ]
    },
    {
      "cell_type": "code",
      "metadata": {
        "id": "ee1627e3",
        "outputId": "5be9f5f6-780c-4554-8529-509a121306b3"
      },
      "source": [
        "assam = df_covid[df_covid['State/UnionTerritory'] == 'Assam']\n",
        "assam[:3]"
      ],
      "id": "ee1627e3",
      "execution_count": null,
      "outputs": [
        {
          "output_type": "execute_result",
          "data": {
            "text/html": [
              "<div>\n",
              "<style scoped>\n",
              "    .dataframe tbody tr th:only-of-type {\n",
              "        vertical-align: middle;\n",
              "    }\n",
              "\n",
              "    .dataframe tbody tr th {\n",
              "        vertical-align: top;\n",
              "    }\n",
              "\n",
              "    .dataframe thead th {\n",
              "        text-align: right;\n",
              "    }\n",
              "</style>\n",
              "<table border=\"1\" class=\"dataframe\">\n",
              "  <thead>\n",
              "    <tr style=\"text-align: right;\">\n",
              "      <th></th>\n",
              "      <th>Sno</th>\n",
              "      <th>Date</th>\n",
              "      <th>Time</th>\n",
              "      <th>State/UnionTerritory</th>\n",
              "      <th>ConfirmedIndianNational</th>\n",
              "      <th>ConfirmedForeignNational</th>\n",
              "      <th>Cured</th>\n",
              "      <th>Deaths</th>\n",
              "      <th>Confirmed</th>\n",
              "    </tr>\n",
              "  </thead>\n",
              "  <tbody>\n",
              "    <tr>\n",
              "      <th>531</th>\n",
              "      <td>532</td>\n",
              "      <td>01/04/20</td>\n",
              "      <td>7:30 PM</td>\n",
              "      <td>Assam</td>\n",
              "      <td>-</td>\n",
              "      <td>-</td>\n",
              "      <td>0</td>\n",
              "      <td>0</td>\n",
              "      <td>1</td>\n",
              "    </tr>\n",
              "    <tr>\n",
              "      <th>560</th>\n",
              "      <td>561</td>\n",
              "      <td>02/04/20</td>\n",
              "      <td>6:00 PM</td>\n",
              "      <td>Assam</td>\n",
              "      <td>-</td>\n",
              "      <td>-</td>\n",
              "      <td>0</td>\n",
              "      <td>0</td>\n",
              "      <td>5</td>\n",
              "    </tr>\n",
              "    <tr>\n",
              "      <th>590</th>\n",
              "      <td>591</td>\n",
              "      <td>03/04/20</td>\n",
              "      <td>6:00 PM</td>\n",
              "      <td>Assam</td>\n",
              "      <td>-</td>\n",
              "      <td>-</td>\n",
              "      <td>0</td>\n",
              "      <td>0</td>\n",
              "      <td>16</td>\n",
              "    </tr>\n",
              "  </tbody>\n",
              "</table>\n",
              "</div>"
            ],
            "text/plain": [
              "     Sno      Date     Time State/UnionTerritory ConfirmedIndianNational  \\\n",
              "531  532  01/04/20  7:30 PM                Assam                       -   \n",
              "560  561  02/04/20  6:00 PM                Assam                       -   \n",
              "590  591  03/04/20  6:00 PM                Assam                       -   \n",
              "\n",
              "    ConfirmedForeignNational  Cured  Deaths  Confirmed  \n",
              "531                        -      0       0          1  \n",
              "560                        -      0       0          5  \n",
              "590                        -      0       0         16  "
            ]
          },
          "metadata": {
            "tags": []
          },
          "execution_count": 277
        }
      ]
    },
    {
      "cell_type": "code",
      "metadata": {
        "id": "64a1474a"
      },
      "source": [
        "Total_Cured = stats['Cured']\n",
        "Total_Deaths = stats['Deaths']"
      ],
      "id": "64a1474a",
      "execution_count": null,
      "outputs": []
    },
    {
      "cell_type": "code",
      "metadata": {
        "id": "620a32e4"
      },
      "source": [
        "survival = Total_Cured/(Total_Deaths+ Total_Cured) * 100"
      ],
      "id": "620a32e4",
      "execution_count": null,
      "outputs": []
    },
    {
      "cell_type": "code",
      "metadata": {
        "id": "bbdaaf85",
        "outputId": "48da28dd-f5e6-4f02-cf32-fe2da3b57611"
      },
      "source": [
        "survival"
      ],
      "id": "bbdaaf85",
      "execution_count": null,
      "outputs": [
        {
          "output_type": "execute_result",
          "data": {
            "text/plain": [
              "State/UnionTerritory\n",
              "Andaman and Nicobar Islands    100.000000\n",
              "Andhra Pradesh                  76.339286\n",
              "Arunachal Pradesh              100.000000\n",
              "Assam                           88.983051\n",
              "Bihar                           91.428571\n",
              "Chandigarh                     100.000000\n",
              "Chhattisgarh                   100.000000\n",
              "Delhi                           83.032940\n",
              "Goa                            100.000000\n",
              "Gujarat                         62.242453\n",
              "Haryana                         95.971564\n",
              "Himachal Pradesh                86.521739\n",
              "Jammu and Kashmir               86.486486\n",
              "Jharkhand                       25.000000\n",
              "Jharkhand#                       0.000000\n",
              "Karnataka                       85.576923\n",
              "Kerala                          98.410596\n",
              "Ladakh                         100.000000\n",
              "Madhya Pradesh                  53.910323\n",
              "Maharashtra                     66.080864\n",
              "Manipur                        100.000000\n",
              "Meghalaya                        0.000000\n",
              "Mizoram                               NaN\n",
              "Nagaland                              NaN\n",
              "Nagaland#                             NaN\n",
              "Odisha                          93.950178\n",
              "Puducherry                     100.000000\n",
              "Punjab                          59.904913\n",
              "Rajasthan                       93.094170\n",
              "Tamil Nadu                      93.963675\n",
              "Telengana                       87.515763\n",
              "Tripura                        100.000000\n",
              "Unassigned                            NaN\n",
              "Uttar Pradesh                   88.882521\n",
              "Uttarakhand                    100.000000\n",
              "West Bengal                     81.284607\n",
              "dtype: float64"
            ]
          },
          "metadata": {
            "tags": []
          },
          "execution_count": 276
        }
      ]
    },
    {
      "cell_type": "code",
      "metadata": {
        "id": "77a3aee7",
        "outputId": "39eb9bb6-2f71-4cd0-8488-4b641f7c7a10"
      },
      "source": [
        "df_covid.groupby(by = 'Time').sum()"
      ],
      "id": "77a3aee7",
      "execution_count": null,
      "outputs": [
        {
          "output_type": "execute_result",
          "data": {
            "text/html": [
              "<div>\n",
              "<style scoped>\n",
              "    .dataframe tbody tr th:only-of-type {\n",
              "        vertical-align: middle;\n",
              "    }\n",
              "\n",
              "    .dataframe tbody tr th {\n",
              "        vertical-align: top;\n",
              "    }\n",
              "\n",
              "    .dataframe thead th {\n",
              "        text-align: right;\n",
              "    }\n",
              "</style>\n",
              "<table border=\"1\" class=\"dataframe\">\n",
              "  <thead>\n",
              "    <tr style=\"text-align: right;\">\n",
              "      <th></th>\n",
              "      <th>Sno</th>\n",
              "      <th>Cured</th>\n",
              "      <th>Deaths</th>\n",
              "      <th>Confirmed</th>\n",
              "    </tr>\n",
              "    <tr>\n",
              "      <th>Time</th>\n",
              "      <th></th>\n",
              "      <th></th>\n",
              "      <th></th>\n",
              "      <th></th>\n",
              "    </tr>\n",
              "  </thead>\n",
              "  <tbody>\n",
              "    <tr>\n",
              "      <th>10:00 AM</th>\n",
              "      <td>10962</td>\n",
              "      <td>67</td>\n",
              "      <td>17</td>\n",
              "      <td>724</td>\n",
              "    </tr>\n",
              "    <tr>\n",
              "      <th>5:00 PM</th>\n",
              "      <td>513455</td>\n",
              "      <td>28323</td>\n",
              "      <td>6487</td>\n",
              "      <td>202290</td>\n",
              "    </tr>\n",
              "    <tr>\n",
              "      <th>6:00 PM</th>\n",
              "      <td>206188</td>\n",
              "      <td>1898</td>\n",
              "      <td>600</td>\n",
              "      <td>25714</td>\n",
              "    </tr>\n",
              "    <tr>\n",
              "      <th>7:30 PM</th>\n",
              "      <td>28196</td>\n",
              "      <td>240</td>\n",
              "      <td>68</td>\n",
              "      <td>2858</td>\n",
              "    </tr>\n",
              "    <tr>\n",
              "      <th>8:30 PM</th>\n",
              "      <td>14434</td>\n",
              "      <td>124</td>\n",
              "      <td>35</td>\n",
              "      <td>1397</td>\n",
              "    </tr>\n",
              "    <tr>\n",
              "      <th>9:30 PM</th>\n",
              "      <td>13650</td>\n",
              "      <td>102</td>\n",
              "      <td>31</td>\n",
              "      <td>1251</td>\n",
              "    </tr>\n",
              "  </tbody>\n",
              "</table>\n",
              "</div>"
            ],
            "text/plain": [
              "             Sno  Cured  Deaths  Confirmed\n",
              "Time                                      \n",
              "10:00 AM   10962     67      17        724\n",
              "5:00 PM   513455  28323    6487     202290\n",
              "6:00 PM   206188   1898     600      25714\n",
              "7:30 PM    28196    240      68       2858\n",
              "8:30 PM    14434    124      35       1397\n",
              "9:30 PM    13650    102      31       1251"
            ]
          },
          "metadata": {
            "tags": []
          },
          "execution_count": 279
        }
      ]
    },
    {
      "cell_type": "code",
      "metadata": {
        "id": "c09af8d5",
        "outputId": "934bb0a9-f53e-4c5e-e42c-61b7852a32e7"
      },
      "source": [
        "df_covid.Time.unique()"
      ],
      "id": "c09af8d5",
      "execution_count": null,
      "outputs": [
        {
          "output_type": "execute_result",
          "data": {
            "text/plain": [
              "array(['6:00 PM', '10:00 AM', '7:30 PM', '9:30 PM', '8:30 PM', '5:00 PM'],\n",
              "      dtype=object)"
            ]
          },
          "metadata": {
            "tags": []
          },
          "execution_count": 282
        }
      ]
    },
    {
      "cell_type": "code",
      "metadata": {
        "id": "8d137b30"
      },
      "source": [
        ""
      ],
      "id": "8d137b30",
      "execution_count": null,
      "outputs": []
    }
  ]
}