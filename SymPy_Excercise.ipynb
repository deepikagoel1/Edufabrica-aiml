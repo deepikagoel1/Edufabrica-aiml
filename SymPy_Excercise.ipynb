{
  "nbformat": 4,
  "nbformat_minor": 5,
  "metadata": {
    "kernelspec": {
      "display_name": "Python 3",
      "language": "python",
      "name": "python3"
    },
    "language_info": {
      "codemirror_mode": {
        "name": "ipython",
        "version": 3
      },
      "file_extension": ".py",
      "mimetype": "text/x-python",
      "name": "python",
      "nbconvert_exporter": "python",
      "pygments_lexer": "ipython3",
      "version": "3.8.8"
    },
    "colab": {
      "name": "SymPy_Excercise.ipynb",
      "provenance": [],
      "include_colab_link": true
    }
  },
  "cells": [
    {
      "cell_type": "markdown",
      "metadata": {
        "id": "view-in-github",
        "colab_type": "text"
      },
      "source": [
        "<a href=\"https://colab.research.google.com/github/deepikagoel1/Edufabrica-aiml/blob/main/SymPy_Excercise.ipynb\" target=\"_parent\"><img src=\"https://colab.research.google.com/assets/colab-badge.svg\" alt=\"Open In Colab\"/></a>"
      ]
    },
    {
      "cell_type": "markdown",
      "metadata": {
        "id": "24c3a5a8"
      },
      "source": [
        "# <font color = 'darkgreen'> SymPy Excercise </font>\n",
        "___\n",
        "____\n",
        "\n",
        "Proprietary Content. All Rights Reserved. This Notebook is prepared by <a href = 'https://www.linkedin.com/in/sumitkumarshukla'> Sumit Kumar Shukla</a> for SymPy Practice __© Copyright by Ethical Edufabrica Pvt Ltd__. Unauthorized use or distribution prohibited. All Questions Given Below is just made for enhancing your capabilities in Symbolic Mathematics. An Introduction for the Reference of SymPy is given below: \n",
        "\n",
        "#### What is SymPy ? \n",
        "`SymPy` is a Python library for symbolic mathematics.\n",
        "\n",
        "#### What is Symbolic Computation?\n",
        "`Symbolic computation` deals with the computation of mathematical objects symbolically. This means that the mathematical objects are represented exactly, not approximately, and mathematical expressions with unevaluated variables are left in symbolic form."
      ],
      "id": "24c3a5a8"
    },
    {
      "cell_type": "markdown",
      "metadata": {
        "id": "9c5f49a1"
      },
      "source": [
        "### **Import the SymPy package as `sym`  and check its version**"
      ],
      "id": "9c5f49a1"
    },
    {
      "cell_type": "code",
      "metadata": {
        "id": "212769b2",
        "outputId": "c66fbf71-3055-4304-fa89-87341d01fb1b",
        "colab": {
          "base_uri": "https://localhost:8080/",
          "height": 35
        }
      },
      "source": [
        "import sympy as sym\n",
        "sym.__version__"
      ],
      "id": "212769b2",
      "execution_count": 1,
      "outputs": [
        {
          "output_type": "execute_result",
          "data": {
            "application/vnd.google.colaboratory.intrinsic+json": {
              "type": "string"
            },
            "text/plain": [
              "'1.7.1'"
            ]
          },
          "metadata": {
            "tags": []
          },
          "execution_count": 1
        }
      ]
    },
    {
      "cell_type": "markdown",
      "metadata": {
        "id": "fa6b2963"
      },
      "source": [
        "### **Import all the functions of Sympy** \n",
        "{Hint: use * operator}"
      ],
      "id": "fa6b2963"
    },
    {
      "cell_type": "code",
      "metadata": {
        "id": "1c87d1b3"
      },
      "source": [
        "from sympy import *"
      ],
      "id": "1c87d1b3",
      "execution_count": 2,
      "outputs": []
    },
    {
      "cell_type": "markdown",
      "metadata": {
        "id": "2d1691c0"
      },
      "source": [
        "# <font color = 'darkgreen'>Algebra & Trignometry Questions</font>\n",
        "\n",
        "Quadratic Equations, Word Problems, Factorization, Trignometry\n",
        "_____\n",
        "_____"
      ],
      "id": "2d1691c0"
    },
    {
      "cell_type": "markdown",
      "metadata": {
        "id": "417293e8"
      },
      "source": [
        "### **Solve the following equations**"
      ],
      "id": "417293e8"
    },
    {
      "cell_type": "markdown",
      "metadata": {
        "id": "054bfa46"
      },
      "source": [
        "## **i)** $x^2 + 2\\sqrt{2}x-6= 0$ <br>\n",
        "\n",
        "`output` = $[-3\\sqrt{2}, \\sqrt{2}]$"
      ],
      "id": "054bfa46"
    },
    {
      "cell_type": "code",
      "metadata": {
        "id": "bf9688f1",
        "outputId": "1b7b1f66-ba56-4fba-f38e-fd579e89aadd",
        "colab": {
          "base_uri": "https://localhost:8080/",
          "height": 38
        }
      },
      "source": [
        "x = sym.Symbol('x')\n",
        "x"
      ],
      "id": "bf9688f1",
      "execution_count": 14,
      "outputs": [
        {
          "output_type": "execute_result",
          "data": {
            "text/latex": "$\\displaystyle x$",
            "text/plain": [
              "x"
            ]
          },
          "metadata": {
            "tags": []
          },
          "execution_count": 14
        }
      ]
    },
    {
      "cell_type": "code",
      "metadata": {
        "id": "15LqtanYiaUY",
        "outputId": "60741d07-2530-4c5a-a0ae-bac079bf41fc",
        "colab": {
          "base_uri": "https://localhost:8080/"
        }
      },
      "source": [
        "expr = x**2 + 2 * root(2, 2) *x - 6\n",
        "solve(expr)"
      ],
      "id": "15LqtanYiaUY",
      "execution_count": 123,
      "outputs": [
        {
          "output_type": "execute_result",
          "data": {
            "text/plain": [
              "[-3*sqrt(2), sqrt(2)]"
            ]
          },
          "metadata": {
            "tags": []
          },
          "execution_count": 123
        }
      ]
    },
    {
      "cell_type": "markdown",
      "metadata": {
        "id": "2caef8db"
      },
      "source": [
        "## **ii)**: $3x^2 + 5\\sqrt{5}x -10 = 0$ <br>\n",
        "\n",
        "`output` = $[-2\\sqrt{5},\\frac{\\sqrt{5}}{3}]$"
      ],
      "id": "2caef8db"
    },
    {
      "cell_type": "code",
      "metadata": {
        "id": "406ec6d7",
        "outputId": "3f3f110b-e836-45de-f83d-66c28d2524e1",
        "colab": {
          "base_uri": "https://localhost:8080/"
        }
      },
      "source": [
        "expr = (3 * x ** 2 + 5 * root(5, 2) * x - 10)\n",
        "solve(expr)"
      ],
      "id": "406ec6d7",
      "execution_count": 119,
      "outputs": [
        {
          "output_type": "execute_result",
          "data": {
            "text/plain": [
              "[-2*sqrt(5), sqrt(5)/3]"
            ]
          },
          "metadata": {
            "tags": []
          },
          "execution_count": 119
        }
      ]
    },
    {
      "cell_type": "markdown",
      "metadata": {
        "id": "340ac895"
      },
      "source": [
        "## **iii)**: $\\frac{x}{x+1} + \\frac{x+1}{x} = \\frac{34}{15}$<br>\n",
        "\n",
        "`output`: $\\frac{-5}{2}, \\frac{3}{2}$"
      ],
      "id": "340ac895"
    },
    {
      "cell_type": "code",
      "metadata": {
        "id": "c6c984ac"
      },
      "source": [
        ""
      ],
      "id": "c6c984ac",
      "execution_count": null,
      "outputs": []
    },
    {
      "cell_type": "markdown",
      "metadata": {
        "id": "250042e4"
      },
      "source": [
        "## **iv)** $\\frac{1}{2 -\\frac{1}{2 - \\frac{1}{2-x}}} = x$"
      ],
      "id": "250042e4"
    },
    {
      "cell_type": "code",
      "metadata": {
        "id": "6d12fedf"
      },
      "source": [
        ""
      ],
      "id": "6d12fedf",
      "execution_count": null,
      "outputs": []
    },
    {
      "cell_type": "markdown",
      "metadata": {
        "id": "664aeb00"
      },
      "source": [
        "## **v)** $a^2x^2- 3abx + 2b^2 = 0$<br>\n",
        "\n",
        "`output` $[{a : \\frac{b}{x}}, {a : \\frac{2b}{x}}]$"
      ],
      "id": "664aeb00"
    },
    {
      "cell_type": "code",
      "metadata": {
        "id": "53268876"
      },
      "source": [
        ""
      ],
      "id": "53268876",
      "execution_count": null,
      "outputs": []
    },
    {
      "cell_type": "markdown",
      "metadata": {
        "id": "9ba197cb"
      },
      "source": [
        "## Solve the Word Problems\n",
        "\n",
        "i) A person has Rs 360 for his expenses. If he extends his tour for 4 days, he has to cut down his daily expenses by Rs 3. Find the original duration of the tour.\n",
        "\n",
        "`output` : 20"
      ],
      "id": "9ba197cb"
    },
    {
      "cell_type": "code",
      "metadata": {
        "id": "43560628"
      },
      "source": [
        ""
      ],
      "id": "43560628",
      "execution_count": null,
      "outputs": []
    },
    {
      "cell_type": "markdown",
      "metadata": {
        "id": "d7860aa2"
      },
      "source": [
        "ii) The product of two consecutive positive integers is 240. FOrmulate the quadractic equation whose roots are these integers.\n",
        "\n",
        "`output` : $x^2+x−240=0$"
      ],
      "id": "d7860aa2"
    },
    {
      "cell_type": "code",
      "metadata": {
        "id": "c935a3be"
      },
      "source": [
        ""
      ],
      "id": "c935a3be",
      "execution_count": null,
      "outputs": []
    },
    {
      "cell_type": "markdown",
      "metadata": {
        "id": "a6d27c2a"
      },
      "source": [
        "iii) Sum of the areas of the two sides of squares is $468m^2$. If the difference of their prerimeters is $24m$, formulate the quadratic equation to find the sides of the two squares\n",
        "\n",
        "`output`: $x^2+6x^2=216$"
      ],
      "id": "a6d27c2a"
    },
    {
      "cell_type": "code",
      "metadata": {
        "id": "2fb40296"
      },
      "source": [
        ""
      ],
      "id": "2fb40296",
      "execution_count": null,
      "outputs": []
    },
    {
      "cell_type": "markdown",
      "metadata": {
        "id": "2b1b4cde"
      },
      "source": [
        "## Factorize\n",
        "\n",
        "### i)  $49x^2 – 1$\n",
        "\n",
        "`output` : $(7x + 1)(7x - 1)$"
      ],
      "id": "2b1b4cde"
    },
    {
      "cell_type": "code",
      "metadata": {
        "id": "16766474",
        "outputId": "55acea17-dbf5-4817-d60f-b2127d86e73e",
        "colab": {
          "base_uri": "https://localhost:8080/",
          "height": 38
        }
      },
      "source": [
        "factor(49 * x ** 2 - 1)"
      ],
      "id": "16766474",
      "execution_count": 114,
      "outputs": [
        {
          "output_type": "execute_result",
          "data": {
            "text/latex": "$\\displaystyle \\left(7 x - 1\\right) \\left(7 x + 1\\right)$",
            "text/plain": [
              "(7*x - 1)*(7*x + 1)"
            ]
          },
          "metadata": {
            "tags": []
          },
          "execution_count": 114
        }
      ]
    },
    {
      "cell_type": "markdown",
      "metadata": {
        "id": "9ae4c6e4"
      },
      "source": [
        "### ii) $x^2 – 2xy + y^2 – z^2$\n",
        "\n",
        "`output` - $(x – y – z)(x – y + z)$"
      ],
      "id": "9ae4c6e4"
    },
    {
      "cell_type": "code",
      "metadata": {
        "id": "9d447793",
        "outputId": "677a252b-a877-45b1-de07-d35171af6b80",
        "colab": {
          "base_uri": "https://localhost:8080/",
          "height": 38
        }
      },
      "source": [
        "y = sym.Symbol('y')\n",
        "z = sym.Symbol('z')\n",
        "\n",
        "factor(x ** 2 - 2 *x*y + y ** 2 - z ** 2)"
      ],
      "id": "9d447793",
      "execution_count": 115,
      "outputs": [
        {
          "output_type": "execute_result",
          "data": {
            "text/latex": "$\\displaystyle \\left(x - y - z\\right) \\left(x - y + z\\right)$",
            "text/plain": [
              "(x - y - z)*(x - y + z)"
            ]
          },
          "metadata": {
            "tags": []
          },
          "execution_count": 115
        }
      ]
    },
    {
      "cell_type": "markdown",
      "metadata": {
        "id": "a4dcdc32"
      },
      "source": [
        "### iii) $14m^5n^4p^2 - 42m^7n^3p^7 - 70m^6n^4p^3$\n",
        "\n",
        "`output` - "
      ],
      "id": "a4dcdc32"
    },
    {
      "cell_type": "code",
      "metadata": {
        "id": "Mq0WuYDkBHqB",
        "outputId": "4827ab41-24e2-4596-ca30-552183968547",
        "colab": {
          "base_uri": "https://localhost:8080/",
          "height": 38
        }
      },
      "source": [
        "m = sym.Symbol('m')\n",
        "n = sym.Symbol('n')\n",
        "p = sym.Symbol('p')\n",
        "factor(14 * m ** 5 * n ** 4 * p ** 2 - 42 * m ** 7 * n ** 3 * p ** 7 - 70 * m ** 6 * n ** 4 * p ** 3)"
      ],
      "id": "Mq0WuYDkBHqB",
      "execution_count": 116,
      "outputs": [
        {
          "output_type": "execute_result",
          "data": {
            "text/latex": "$\\displaystyle - 14 m^{5} n^{3} p^{2} \\left(3 m^{2} p^{5} + 5 m n p - n\\right)$",
            "text/plain": [
              "-14*m**5*n**3*p**2*(3*m**2*p**5 + 5*m*n*p - n)"
            ]
          },
          "metadata": {
            "tags": []
          },
          "execution_count": 116
        }
      ]
    },
    {
      "cell_type": "markdown",
      "metadata": {
        "id": "d59ca7e0"
      },
      "source": [
        "## Simplify\n",
        "\n",
        "### iv ) For a = 3, simplify $a^2 + 5a + 4$  and  $a^2 – 5a$\n",
        "\n",
        "`output` - "
      ],
      "id": "d59ca7e0"
    },
    {
      "cell_type": "code",
      "metadata": {
        "id": "471ed040",
        "outputId": "c48fe5df-9248-4f59-d16c-d4bb3d1b38df",
        "colab": {
          "base_uri": "https://localhost:8080/",
          "height": 37
        }
      },
      "source": [
        "simplify(3 ** 2 + 3 * 3 + 4)"
      ],
      "id": "471ed040",
      "execution_count": 111,
      "outputs": [
        {
          "output_type": "execute_result",
          "data": {
            "text/latex": "$\\displaystyle 22$",
            "text/plain": [
              "22"
            ]
          },
          "metadata": {
            "tags": []
          },
          "execution_count": 111
        }
      ]
    },
    {
      "cell_type": "code",
      "metadata": {
        "id": "OWy5c8eGBrR9",
        "outputId": "8539b5f5-39e2-43a8-c483-6cec2f2cb41e",
        "colab": {
          "base_uri": "https://localhost:8080/",
          "height": 37
        }
      },
      "source": [
        "simplify(3 ** 2 - 5 * 3)"
      ],
      "id": "OWy5c8eGBrR9",
      "execution_count": 112,
      "outputs": [
        {
          "output_type": "execute_result",
          "data": {
            "text/latex": "$\\displaystyle -6$",
            "text/plain": [
              "-6"
            ]
          },
          "metadata": {
            "tags": []
          },
          "execution_count": 112
        }
      ]
    },
    {
      "cell_type": "markdown",
      "metadata": {
        "id": "53a4231e"
      },
      "source": [
        "## Trignometry \n",
        "\n",
        "### v) Evaluate $\\sqrt{\\frac{1 + \\sin A}{1 - \\sin A}}$\n",
        "\n",
        "`output` - $\\sec A + \\tan A$"
      ],
      "id": "53a4231e"
    },
    {
      "cell_type": "code",
      "metadata": {
        "id": "388289c9",
        "outputId": "295e39dd-c55d-4154-f8b3-bd07069f042c",
        "colab": {
          "base_uri": "https://localhost:8080/",
          "height": 69
        }
      },
      "source": [
        "A = sym.Symbol('A')\n",
        "eqn = root((1 + sin (A))/ (1 - sin (A)), 2)\n",
        "trigsimp(eqn)"
      ],
      "id": "388289c9",
      "execution_count": 125,
      "outputs": [
        {
          "output_type": "execute_result",
          "data": {
            "text/latex": "$\\displaystyle \\sqrt{\\frac{\\sin{\\left(A \\right)} + 1}{1 - \\sin{\\left(A \\right)}}}$",
            "text/plain": [
              "sqrt((sin(A) + 1)/(1 - sin(A)))"
            ]
          },
          "metadata": {
            "tags": []
          },
          "execution_count": 125
        }
      ]
    },
    {
      "cell_type": "markdown",
      "metadata": {
        "id": "ae03a21f"
      },
      "source": [
        "### vi) Given $\\sqrt{\\frac{1 + \\tan A^2}{1 + \\cot A^2}} = \\left(\\frac{1 - \\tan A}{1 - \\cot A}\\right)^2$\n",
        "\n",
        "`output` - $ \\tan A^2$"
      ],
      "id": "ae03a21f"
    },
    {
      "cell_type": "code",
      "metadata": {
        "id": "7281ee45",
        "outputId": "eafc474f-8403-4c44-c0da-fd5a0b1aaf10",
        "colab": {
          "base_uri": "https://localhost:8080/",
          "height": 38
        }
      },
      "source": [
        "eqn = root((1 + tan(A ** 2)) / (1 + cot(A ** 2)), 2)\n",
        "simplify(eqn ** 2)"
      ],
      "id": "7281ee45",
      "execution_count": 106,
      "outputs": [
        {
          "output_type": "execute_result",
          "data": {
            "text/latex": "$\\displaystyle \\tan{\\left(A^{2} \\right)}$",
            "text/plain": [
              "tan(A**2)"
            ]
          },
          "metadata": {
            "tags": []
          },
          "execution_count": 106
        }
      ]
    },
    {
      "cell_type": "markdown",
      "metadata": {
        "id": "248e4db1"
      },
      "source": [
        "________"
      ],
      "id": "248e4db1"
    },
    {
      "cell_type": "markdown",
      "metadata": {
        "id": "bcb36f91"
      },
      "source": [
        "# <font color = 'darkgreen'>Calculus Questions </font>\n",
        "Integration, Diffrentiation, Limits\n",
        "____\n",
        "____"
      ],
      "id": "bcb36f91"
    },
    {
      "cell_type": "markdown",
      "metadata": {
        "id": "bb59eb39"
      },
      "source": [
        "### i) Integrate $\\int_0^1\\frac{1}{1+x^2}dx$<br>\n",
        "\n",
        "\n",
        "`output`: $\\frac{\\pi}{4}$:**"
      ],
      "id": "bb59eb39"
    },
    {
      "cell_type": "code",
      "metadata": {
        "id": "2f97c6c8",
        "outputId": "5e5301f6-59ca-43a1-cf96-fc8a063911ba",
        "colab": {
          "base_uri": "https://localhost:8080/",
          "height": 80
        }
      },
      "source": [
        "Eq(Integral(1/(1 + x **2), (x, 0, 1)), integrate(1/(1 + x **2), (x, 0, 1)))"
      ],
      "id": "2f97c6c8",
      "execution_count": 21,
      "outputs": [
        {
          "output_type": "execute_result",
          "data": {
            "text/latex": "$\\displaystyle \\int\\limits_{0}^{1} \\frac{1}{x^{2} + 1}\\, dx = \\frac{\\pi}{4}$",
            "text/plain": [
              "Eq(Integral(1/(x**2 + 1), (x, 0, 1)), pi/4)"
            ]
          },
          "metadata": {
            "tags": []
          },
          "execution_count": 21
        }
      ]
    },
    {
      "cell_type": "markdown",
      "metadata": {
        "id": "2045331c"
      },
      "source": [
        "### ii) Find the value of $\\int2x\\cos(x^2 – 5)$.\n",
        "\n",
        "`output` : $\\sin(x^2 + 5) + C$"
      ],
      "id": "2045331c"
    },
    {
      "cell_type": "code",
      "metadata": {
        "id": "7b94c220",
        "outputId": "ec727bde-6c6f-4f28-e859-5864e4a69a43",
        "colab": {
          "base_uri": "https://localhost:8080/",
          "height": 38
        }
      },
      "source": [
        "simplify(integrate(2*x*cos(x**2 - 5)))"
      ],
      "id": "7b94c220",
      "execution_count": 32,
      "outputs": [
        {
          "output_type": "execute_result",
          "data": {
            "text/latex": "$\\displaystyle \\sin{\\left(x^{2} - 5 \\right)}$",
            "text/plain": [
              "sin(x**2 - 5)"
            ]
          },
          "metadata": {
            "tags": []
          },
          "execution_count": 32
        }
      ]
    },
    {
      "cell_type": "markdown",
      "metadata": {
        "id": "d6125341"
      },
      "source": [
        "### iii)  What is the value of $\\int8x^3dx$.\n",
        "\n",
        "`output` : $2x^4 + C$ "
      ],
      "id": "d6125341"
    },
    {
      "cell_type": "code",
      "metadata": {
        "id": "612f062e",
        "outputId": "471c2a42-c932-4792-8f36-3b81952bf8ae",
        "colab": {
          "base_uri": "https://localhost:8080/",
          "height": 38
        }
      },
      "source": [
        "simplify(integrate(8* (x**3)))"
      ],
      "id": "612f062e",
      "execution_count": 31,
      "outputs": [
        {
          "output_type": "execute_result",
          "data": {
            "text/latex": "$\\displaystyle 2 x^{4}$",
            "text/plain": [
              "2*x**4"
            ]
          },
          "metadata": {
            "tags": []
          },
          "execution_count": 31
        }
      ]
    },
    {
      "cell_type": "markdown",
      "metadata": {
        "id": "9a87a550"
      },
      "source": [
        "### iv) Find the value of $\\int\\cos(x) + xdx$.\n",
        "\n",
        "`output` : $\\sin(x) + \\frac{x^2}{2}$"
      ],
      "id": "9a87a550"
    },
    {
      "cell_type": "code",
      "metadata": {
        "id": "d302429f",
        "outputId": "6a4e8e25-4a72-4a51-f2ee-87edf6913e8c",
        "colab": {
          "base_uri": "https://localhost:8080/",
          "height": 54
        }
      },
      "source": [
        "simplify(integrate(cos(x) + x))"
      ],
      "id": "d302429f",
      "execution_count": 30,
      "outputs": [
        {
          "output_type": "execute_result",
          "data": {
            "text/latex": "$\\displaystyle \\frac{x^{2}}{2} + \\sin{\\left(x \\right)}$",
            "text/plain": [
              "x**2/2 + sin(x)"
            ]
          },
          "metadata": {
            "tags": []
          },
          "execution_count": 30
        }
      ]
    },
    {
      "cell_type": "markdown",
      "metadata": {
        "id": "aae15be0"
      },
      "source": [
        "### v) What is the value of $\\int\\sin(ax+b)\\cos(ax+b)dx$."
      ],
      "id": "aae15be0"
    },
    {
      "cell_type": "code",
      "metadata": {
        "id": "1cca93e8",
        "outputId": "152e8403-426c-4f7c-a01b-d6d9850f638f",
        "colab": {
          "base_uri": "https://localhost:8080/",
          "height": 337
        }
      },
      "source": [
        "ax = sym.Symbol('ax')\n",
        "b = sym.Symbol('b')\n",
        "Eq(integrate(sin((ax) + b) * cos((ax) + b)))"
      ],
      "id": "1cca93e8",
      "execution_count": 73,
      "outputs": [
        {
          "output_type": "error",
          "ename": "ValueError",
          "evalue": "ignored",
          "traceback": [
            "\u001b[0;31m---------------------------------------------------------------------------\u001b[0m",
            "\u001b[0;31mValueError\u001b[0m                                Traceback (most recent call last)",
            "\u001b[0;32m<ipython-input-73-5da449cafd4f>\u001b[0m in \u001b[0;36m<module>\u001b[0;34m()\u001b[0m\n\u001b[1;32m      1\u001b[0m \u001b[0max\u001b[0m \u001b[0;34m=\u001b[0m \u001b[0msym\u001b[0m\u001b[0;34m.\u001b[0m\u001b[0mSymbol\u001b[0m\u001b[0;34m(\u001b[0m\u001b[0;34m'ax'\u001b[0m\u001b[0;34m)\u001b[0m\u001b[0;34m\u001b[0m\u001b[0;34m\u001b[0m\u001b[0m\n\u001b[1;32m      2\u001b[0m \u001b[0mb\u001b[0m \u001b[0;34m=\u001b[0m \u001b[0msym\u001b[0m\u001b[0;34m.\u001b[0m\u001b[0mSymbol\u001b[0m\u001b[0;34m(\u001b[0m\u001b[0;34m'b'\u001b[0m\u001b[0;34m)\u001b[0m\u001b[0;34m\u001b[0m\u001b[0;34m\u001b[0m\u001b[0m\n\u001b[0;32m----> 3\u001b[0;31m \u001b[0mEq\u001b[0m\u001b[0;34m(\u001b[0m\u001b[0mintegrate\u001b[0m\u001b[0;34m(\u001b[0m\u001b[0msin\u001b[0m\u001b[0;34m(\u001b[0m\u001b[0;34m(\u001b[0m\u001b[0max\u001b[0m\u001b[0;34m)\u001b[0m \u001b[0;34m+\u001b[0m \u001b[0mb\u001b[0m\u001b[0;34m)\u001b[0m \u001b[0;34m*\u001b[0m \u001b[0mcos\u001b[0m\u001b[0;34m(\u001b[0m\u001b[0;34m(\u001b[0m\u001b[0max\u001b[0m\u001b[0;34m)\u001b[0m \u001b[0;34m+\u001b[0m \u001b[0mb\u001b[0m\u001b[0;34m)\u001b[0m\u001b[0;34m)\u001b[0m\u001b[0;34m)\u001b[0m\u001b[0;34m\u001b[0m\u001b[0;34m\u001b[0m\u001b[0m\n\u001b[0m",
            "\u001b[0;32m/usr/local/lib/python3.7/dist-packages/sympy/integrals/integrals.py\u001b[0m in \u001b[0;36mintegrate\u001b[0;34m(meijerg, conds, risch, heurisch, manual, *args, **kwargs)\u001b[0m\n\u001b[1;32m   1539\u001b[0m         \u001b[0;34m'manual'\u001b[0m\u001b[0;34m:\u001b[0m \u001b[0mmanual\u001b[0m\u001b[0;34m\u001b[0m\u001b[0;34m\u001b[0m\u001b[0m\n\u001b[1;32m   1540\u001b[0m         }\n\u001b[0;32m-> 1541\u001b[0;31m     \u001b[0mintegral\u001b[0m \u001b[0;34m=\u001b[0m \u001b[0mIntegral\u001b[0m\u001b[0;34m(\u001b[0m\u001b[0;34m*\u001b[0m\u001b[0margs\u001b[0m\u001b[0;34m,\u001b[0m \u001b[0;34m**\u001b[0m\u001b[0mkwargs\u001b[0m\u001b[0;34m)\u001b[0m\u001b[0;34m\u001b[0m\u001b[0;34m\u001b[0m\u001b[0m\n\u001b[0m\u001b[1;32m   1542\u001b[0m \u001b[0;34m\u001b[0m\u001b[0m\n\u001b[1;32m   1543\u001b[0m     \u001b[0;32mif\u001b[0m \u001b[0misinstance\u001b[0m\u001b[0;34m(\u001b[0m\u001b[0mintegral\u001b[0m\u001b[0;34m,\u001b[0m \u001b[0mIntegral\u001b[0m\u001b[0;34m)\u001b[0m\u001b[0;34m:\u001b[0m\u001b[0;34m\u001b[0m\u001b[0;34m\u001b[0m\u001b[0m\n",
            "\u001b[0;32m/usr/local/lib/python3.7/dist-packages/sympy/integrals/integrals.py\u001b[0m in \u001b[0;36m__new__\u001b[0;34m(cls, function, *symbols, **assumptions)\u001b[0m\n\u001b[1;32m     85\u001b[0m                 useinstead=\"the as_expr or integrate methods of Poly\").warn()\n\u001b[1;32m     86\u001b[0m \u001b[0;34m\u001b[0m\u001b[0m\n\u001b[0;32m---> 87\u001b[0;31m         \u001b[0mobj\u001b[0m \u001b[0;34m=\u001b[0m \u001b[0mAddWithLimits\u001b[0m\u001b[0;34m.\u001b[0m\u001b[0m__new__\u001b[0m\u001b[0;34m(\u001b[0m\u001b[0mcls\u001b[0m\u001b[0;34m,\u001b[0m \u001b[0mfunction\u001b[0m\u001b[0;34m,\u001b[0m \u001b[0;34m*\u001b[0m\u001b[0msymbols\u001b[0m\u001b[0;34m,\u001b[0m \u001b[0;34m**\u001b[0m\u001b[0massumptions\u001b[0m\u001b[0;34m)\u001b[0m\u001b[0;34m\u001b[0m\u001b[0;34m\u001b[0m\u001b[0m\n\u001b[0m\u001b[1;32m     88\u001b[0m         \u001b[0;32mreturn\u001b[0m \u001b[0mobj\u001b[0m\u001b[0;34m\u001b[0m\u001b[0;34m\u001b[0m\u001b[0m\n\u001b[1;32m     89\u001b[0m \u001b[0;34m\u001b[0m\u001b[0m\n",
            "\u001b[0;32m/usr/local/lib/python3.7/dist-packages/sympy/concrete/expr_with_limits.py\u001b[0m in \u001b[0;36m__new__\u001b[0;34m(cls, function, *symbols, **assumptions)\u001b[0m\n\u001b[1;32m    492\u001b[0m \u001b[0;34m\u001b[0m\u001b[0m\n\u001b[1;32m    493\u001b[0m     \u001b[0;32mdef\u001b[0m \u001b[0m__new__\u001b[0m\u001b[0;34m(\u001b[0m\u001b[0mcls\u001b[0m\u001b[0;34m,\u001b[0m \u001b[0mfunction\u001b[0m\u001b[0;34m,\u001b[0m \u001b[0;34m*\u001b[0m\u001b[0msymbols\u001b[0m\u001b[0;34m,\u001b[0m \u001b[0;34m**\u001b[0m\u001b[0massumptions\u001b[0m\u001b[0;34m)\u001b[0m\u001b[0;34m:\u001b[0m\u001b[0;34m\u001b[0m\u001b[0;34m\u001b[0m\u001b[0m\n\u001b[0;32m--> 494\u001b[0;31m         \u001b[0mpre\u001b[0m \u001b[0;34m=\u001b[0m \u001b[0m_common_new\u001b[0m\u001b[0;34m(\u001b[0m\u001b[0mcls\u001b[0m\u001b[0;34m,\u001b[0m \u001b[0mfunction\u001b[0m\u001b[0;34m,\u001b[0m \u001b[0;34m*\u001b[0m\u001b[0msymbols\u001b[0m\u001b[0;34m,\u001b[0m \u001b[0;34m**\u001b[0m\u001b[0massumptions\u001b[0m\u001b[0;34m)\u001b[0m\u001b[0;34m\u001b[0m\u001b[0;34m\u001b[0m\u001b[0m\n\u001b[0m\u001b[1;32m    495\u001b[0m         \u001b[0;32mif\u001b[0m \u001b[0mtype\u001b[0m\u001b[0;34m(\u001b[0m\u001b[0mpre\u001b[0m\u001b[0;34m)\u001b[0m \u001b[0;32mis\u001b[0m \u001b[0mtuple\u001b[0m\u001b[0;34m:\u001b[0m\u001b[0;34m\u001b[0m\u001b[0;34m\u001b[0m\u001b[0m\n\u001b[1;32m    496\u001b[0m             \u001b[0mfunction\u001b[0m\u001b[0;34m,\u001b[0m \u001b[0mlimits\u001b[0m\u001b[0;34m,\u001b[0m \u001b[0morientation\u001b[0m \u001b[0;34m=\u001b[0m \u001b[0mpre\u001b[0m\u001b[0;34m\u001b[0m\u001b[0;34m\u001b[0m\u001b[0m\n",
            "\u001b[0;32m/usr/local/lib/python3.7/dist-packages/sympy/concrete/expr_with_limits.py\u001b[0m in \u001b[0;36m_common_new\u001b[0;34m(cls, function, *symbols, **assumptions)\u001b[0m\n\u001b[1;32m     56\u001b[0m         \u001b[0;32mif\u001b[0m \u001b[0mlen\u001b[0m\u001b[0;34m(\u001b[0m\u001b[0mfree\u001b[0m\u001b[0;34m)\u001b[0m \u001b[0;34m!=\u001b[0m \u001b[0;36m1\u001b[0m\u001b[0;34m:\u001b[0m\u001b[0;34m\u001b[0m\u001b[0;34m\u001b[0m\u001b[0m\n\u001b[1;32m     57\u001b[0m             raise ValueError(\n\u001b[0;32m---> 58\u001b[0;31m                 \"specify dummy variables for %s\" % function)\n\u001b[0m\u001b[1;32m     59\u001b[0m         \u001b[0mlimits\u001b[0m\u001b[0;34m,\u001b[0m \u001b[0morientation\u001b[0m \u001b[0;34m=\u001b[0m \u001b[0;34m[\u001b[0m\u001b[0mTuple\u001b[0m\u001b[0;34m(\u001b[0m\u001b[0ms\u001b[0m\u001b[0;34m)\u001b[0m \u001b[0;32mfor\u001b[0m \u001b[0ms\u001b[0m \u001b[0;32min\u001b[0m \u001b[0mfree\u001b[0m\u001b[0;34m]\u001b[0m\u001b[0;34m,\u001b[0m \u001b[0;36m1\u001b[0m\u001b[0;34m\u001b[0m\u001b[0;34m\u001b[0m\u001b[0m\n\u001b[1;32m     60\u001b[0m \u001b[0;34m\u001b[0m\u001b[0m\n",
            "\u001b[0;31mValueError\u001b[0m: specify dummy variables for sin(ax + b)*cos(ax + b)"
          ]
        }
      ]
    },
    {
      "cell_type": "markdown",
      "metadata": {
        "id": "f87fa330"
      },
      "source": [
        "### vi) Differentiate $x^5$ with respect to x.\n",
        "\n",
        "`output` : $5x^4$"
      ],
      "id": "f87fa330"
    },
    {
      "cell_type": "code",
      "metadata": {
        "id": "1d00ac7a",
        "outputId": "da500686-633b-47ba-91fb-5aa13c31235e",
        "colab": {
          "base_uri": "https://localhost:8080/",
          "height": 38
        }
      },
      "source": [
        "simplify(Derivative(x**5))"
      ],
      "id": "1d00ac7a",
      "execution_count": 47,
      "outputs": [
        {
          "output_type": "execute_result",
          "data": {
            "text/latex": "$\\displaystyle 5 x^{4}$",
            "text/plain": [
              "5*x**4"
            ]
          },
          "metadata": {
            "tags": []
          },
          "execution_count": 47
        }
      ]
    },
    {
      "cell_type": "markdown",
      "metadata": {
        "id": "c8f4d64c"
      },
      "source": [
        "### vii)Diffrentiate $\\frac{x+\\cos x}{\\tan x}$ wrt x\n",
        "\n",
        "`output` :$\\frac{\\tan x-\\tan x \\sin x-x \\sec ^{2} x-\\sec x}{\\tan ^{2} x}$"
      ],
      "id": "c8f4d64c"
    },
    {
      "cell_type": "code",
      "metadata": {
        "id": "f3dadeb6",
        "outputId": "40258ac6-645f-48ed-d3d5-7829ec235a21",
        "colab": {
          "base_uri": "https://localhost:8080/",
          "height": 61
        }
      },
      "source": [
        "simplify(Derivative((x + cos (x))/tan (x)))"
      ],
      "id": "f3dadeb6",
      "execution_count": 71,
      "outputs": [
        {
          "output_type": "execute_result",
          "data": {
            "text/latex": "$\\displaystyle \\frac{1 - \\sin{\\left(x \\right)}}{\\tan{\\left(x \\right)}} + \\frac{\\left(x + \\cos{\\left(x \\right)}\\right) \\left(- \\tan^{2}{\\left(x \\right)} - 1\\right)}{\\tan^{2}{\\left(x \\right)}}$",
            "text/plain": [
              "(1 - sin(x))/tan(x) + (x + cos(x))*(-tan(x)**2 - 1)/tan(x)**2"
            ]
          },
          "metadata": {
            "tags": []
          },
          "execution_count": 71
        }
      ]
    },
    {
      "cell_type": "markdown",
      "metadata": {
        "id": "f66a6009"
      },
      "source": [
        "### viii) Diffrentiate $3x^{x\\log x}$\n",
        "\n",
        "`output` : $3x^{logx}.\\log3(1+log x)$"
      ],
      "id": "f66a6009"
    },
    {
      "cell_type": "code",
      "metadata": {
        "id": "f8fc7757",
        "outputId": "c976ff5a-c96f-43f4-8d25-e5000aef24df",
        "colab": {
          "base_uri": "https://localhost:8080/",
          "height": 39
        }
      },
      "source": [
        "simplify(Derivative(3 * x ** (x * log (x))))"
      ],
      "id": "f8fc7757",
      "execution_count": 70,
      "outputs": [
        {
          "output_type": "execute_result",
          "data": {
            "text/latex": "$\\displaystyle 3 x^{x \\log{\\left(x \\right)}} \\left(\\left(\\log{\\left(x \\right)} + 1\\right) \\log{\\left(x \\right)} + \\log{\\left(x \\right)}\\right)$",
            "text/plain": [
              "3*x**(x*log(x))*((log(x) + 1)*log(x) + log(x))"
            ]
          },
          "metadata": {
            "tags": []
          },
          "execution_count": 70
        }
      ]
    },
    {
      "cell_type": "markdown",
      "metadata": {
        "id": "c0485f66"
      },
      "source": [
        "### ix) Find $\\lim_{x\\to\\infty}\\frac{\\sin x}{x}$\n",
        "\n",
        "`output`: 0"
      ],
      "id": "c0485f66"
    },
    {
      "cell_type": "code",
      "metadata": {
        "id": "ad947536",
        "outputId": "cfcc6d94-6e6a-46c3-d98b-816a1bb7f05e",
        "colab": {
          "base_uri": "https://localhost:8080/",
          "height": 37
        }
      },
      "source": [
        "limit(sin(x)/x, x, oo)"
      ],
      "id": "ad947536",
      "execution_count": 56,
      "outputs": [
        {
          "output_type": "execute_result",
          "data": {
            "text/latex": "$\\displaystyle 0$",
            "text/plain": [
              "0"
            ]
          },
          "metadata": {
            "tags": []
          },
          "execution_count": 56
        }
      ]
    },
    {
      "cell_type": "markdown",
      "metadata": {
        "id": "bc0c544f"
      },
      "source": [
        "### x) Evaluate : $\\lim_{x\\to \\infty}\\frac{\\sqrt{x^2 + a^2} - \\sqrt{x^2 + b^2}}{\\sqrt{x^2 + c^2} - \\sqrt{x^2 +d^2}}$\n",
        "\n",
        "`output` : $\\frac{a^2 - b^2}{c^2  - d^2}$"
      ],
      "id": "bc0c544f"
    },
    {
      "cell_type": "code",
      "metadata": {
        "id": "a3b38bc4",
        "outputId": "da82e649-bfc9-43a9-d7eb-caae3e1929a1",
        "colab": {
          "base_uri": "https://localhost:8080/",
          "height": 57
        }
      },
      "source": [
        "c = sym.Symbol('c')\n",
        "d = sym.Symbol('d')\n",
        "limit((root((x ** 2 + a ** 2), 2) - root((x ** 2 + b ** 2), 2))/(root((x ** 2 + c ** 2),2) - root((x ** 2 + d **2), 2)), x, oo)"
      ],
      "id": "a3b38bc4",
      "execution_count": 67,
      "outputs": [
        {
          "output_type": "execute_result",
          "data": {
            "text/latex": "$\\displaystyle - \\frac{\\left(- ax + b\\right) \\left(ax + b\\right)}{\\left(c - d\\right) \\left(c + d\\right)}$",
            "text/plain": [
              "-(-ax + b)*(ax + b)/((c - d)*(c + d))"
            ]
          },
          "metadata": {
            "tags": []
          },
          "execution_count": 67
        }
      ]
    },
    {
      "cell_type": "code",
      "metadata": {
        "id": "aj4WSQ_13rXk"
      },
      "source": [
        ""
      ],
      "id": "aj4WSQ_13rXk",
      "execution_count": null,
      "outputs": []
    }
  ]
}