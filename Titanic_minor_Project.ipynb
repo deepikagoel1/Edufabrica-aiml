{
  "nbformat": 4,
  "nbformat_minor": 5,
  "metadata": {
    "kernelspec": {
      "display_name": "Python 3.8.8 64-bit ('anaconda3': virtualenv)",
      "language": "python",
      "name": "python388jvsc74a57bd027eb49980a7b3fd6798b0eab13d12c7f833bc9316e7c96850ec4cd3384bdbe47"
    },
    "language_info": {
      "codemirror_mode": {
        "name": "ipython",
        "version": 3
      },
      "file_extension": ".py",
      "mimetype": "text/x-python",
      "name": "python",
      "nbconvert_exporter": "python",
      "pygments_lexer": "ipython3",
      "version": "3.8.8"
    },
    "colab": {
      "name": "Titanic_minor_Project.ipynb",
      "provenance": [],
      "include_colab_link": true
    }
  },
  "cells": [
    {
      "cell_type": "markdown",
      "metadata": {
        "id": "view-in-github",
        "colab_type": "text"
      },
      "source": [
        "<a href=\"https://colab.research.google.com/github/deepikagoel1/Edufabrica-aiml/blob/main/Titanic_minor_Project.ipynb\" target=\"_parent\"><img src=\"https://colab.research.google.com/assets/colab-badge.svg\" alt=\"Open In Colab\"/></a>"
      ]
    },
    {
      "cell_type": "markdown",
      "metadata": {
        "id": "e51380b0-7a97-46d9-852b-1698701be1a0"
      },
      "source": [
        "# Logistic Regression with Titanic Data Set"
      ],
      "id": "e51380b0-7a97-46d9-852b-1698701be1a0"
    },
    {
      "cell_type": "code",
      "metadata": {
        "id": "e195136c-e20f-4b92-b5de-0bac01134965"
      },
      "source": [
        "import pandas as pd\n",
        "import numpy as np \n",
        "import matplotlib.pyplot as plt \n",
        "import seaborn as sns"
      ],
      "id": "e195136c-e20f-4b92-b5de-0bac01134965",
      "execution_count": 752,
      "outputs": []
    },
    {
      "cell_type": "code",
      "metadata": {
        "id": "b70014e6-0146-4cfa-b3fd-59f8c122c083",
        "colab": {
          "base_uri": "https://localhost:8080/",
          "height": 195
        },
        "outputId": "40303a93-f206-4874-f7a7-cab183fd6121"
      },
      "source": [
        "df = sns.load_dataset('titanic')\n",
        "df.head()"
      ],
      "id": "b70014e6-0146-4cfa-b3fd-59f8c122c083",
      "execution_count": 753,
      "outputs": [
        {
          "output_type": "execute_result",
          "data": {
            "text/html": [
              "<div>\n",
              "<style scoped>\n",
              "    .dataframe tbody tr th:only-of-type {\n",
              "        vertical-align: middle;\n",
              "    }\n",
              "\n",
              "    .dataframe tbody tr th {\n",
              "        vertical-align: top;\n",
              "    }\n",
              "\n",
              "    .dataframe thead th {\n",
              "        text-align: right;\n",
              "    }\n",
              "</style>\n",
              "<table border=\"1\" class=\"dataframe\">\n",
              "  <thead>\n",
              "    <tr style=\"text-align: right;\">\n",
              "      <th></th>\n",
              "      <th>survived</th>\n",
              "      <th>pclass</th>\n",
              "      <th>sex</th>\n",
              "      <th>age</th>\n",
              "      <th>sibsp</th>\n",
              "      <th>parch</th>\n",
              "      <th>fare</th>\n",
              "      <th>embarked</th>\n",
              "      <th>class</th>\n",
              "      <th>who</th>\n",
              "      <th>adult_male</th>\n",
              "      <th>deck</th>\n",
              "      <th>embark_town</th>\n",
              "      <th>alive</th>\n",
              "      <th>alone</th>\n",
              "    </tr>\n",
              "  </thead>\n",
              "  <tbody>\n",
              "    <tr>\n",
              "      <th>0</th>\n",
              "      <td>0</td>\n",
              "      <td>3</td>\n",
              "      <td>male</td>\n",
              "      <td>22.0</td>\n",
              "      <td>1</td>\n",
              "      <td>0</td>\n",
              "      <td>7.2500</td>\n",
              "      <td>S</td>\n",
              "      <td>Third</td>\n",
              "      <td>man</td>\n",
              "      <td>True</td>\n",
              "      <td>NaN</td>\n",
              "      <td>Southampton</td>\n",
              "      <td>no</td>\n",
              "      <td>False</td>\n",
              "    </tr>\n",
              "    <tr>\n",
              "      <th>1</th>\n",
              "      <td>1</td>\n",
              "      <td>1</td>\n",
              "      <td>female</td>\n",
              "      <td>38.0</td>\n",
              "      <td>1</td>\n",
              "      <td>0</td>\n",
              "      <td>71.2833</td>\n",
              "      <td>C</td>\n",
              "      <td>First</td>\n",
              "      <td>woman</td>\n",
              "      <td>False</td>\n",
              "      <td>C</td>\n",
              "      <td>Cherbourg</td>\n",
              "      <td>yes</td>\n",
              "      <td>False</td>\n",
              "    </tr>\n",
              "    <tr>\n",
              "      <th>2</th>\n",
              "      <td>1</td>\n",
              "      <td>3</td>\n",
              "      <td>female</td>\n",
              "      <td>26.0</td>\n",
              "      <td>0</td>\n",
              "      <td>0</td>\n",
              "      <td>7.9250</td>\n",
              "      <td>S</td>\n",
              "      <td>Third</td>\n",
              "      <td>woman</td>\n",
              "      <td>False</td>\n",
              "      <td>NaN</td>\n",
              "      <td>Southampton</td>\n",
              "      <td>yes</td>\n",
              "      <td>True</td>\n",
              "    </tr>\n",
              "    <tr>\n",
              "      <th>3</th>\n",
              "      <td>1</td>\n",
              "      <td>1</td>\n",
              "      <td>female</td>\n",
              "      <td>35.0</td>\n",
              "      <td>1</td>\n",
              "      <td>0</td>\n",
              "      <td>53.1000</td>\n",
              "      <td>S</td>\n",
              "      <td>First</td>\n",
              "      <td>woman</td>\n",
              "      <td>False</td>\n",
              "      <td>C</td>\n",
              "      <td>Southampton</td>\n",
              "      <td>yes</td>\n",
              "      <td>False</td>\n",
              "    </tr>\n",
              "    <tr>\n",
              "      <th>4</th>\n",
              "      <td>0</td>\n",
              "      <td>3</td>\n",
              "      <td>male</td>\n",
              "      <td>35.0</td>\n",
              "      <td>0</td>\n",
              "      <td>0</td>\n",
              "      <td>8.0500</td>\n",
              "      <td>S</td>\n",
              "      <td>Third</td>\n",
              "      <td>man</td>\n",
              "      <td>True</td>\n",
              "      <td>NaN</td>\n",
              "      <td>Southampton</td>\n",
              "      <td>no</td>\n",
              "      <td>True</td>\n",
              "    </tr>\n",
              "  </tbody>\n",
              "</table>\n",
              "</div>"
            ],
            "text/plain": [
              "   survived  pclass     sex   age  ...  deck  embark_town  alive  alone\n",
              "0         0       3    male  22.0  ...   NaN  Southampton     no  False\n",
              "1         1       1  female  38.0  ...     C    Cherbourg    yes  False\n",
              "2         1       3  female  26.0  ...   NaN  Southampton    yes   True\n",
              "3         1       1  female  35.0  ...     C  Southampton    yes  False\n",
              "4         0       3    male  35.0  ...   NaN  Southampton     no   True\n",
              "\n",
              "[5 rows x 15 columns]"
            ]
          },
          "metadata": {
            "tags": []
          },
          "execution_count": 753
        }
      ]
    },
    {
      "cell_type": "code",
      "metadata": {
        "id": "91f913d9-6b54-4788-bbbc-9b28c8ee2f44",
        "colab": {
          "base_uri": "https://localhost:8080/"
        },
        "outputId": "eb8157f8-7fbc-4afc-a301-3fdc0917c285"
      },
      "source": [
        "df.columns"
      ],
      "id": "91f913d9-6b54-4788-bbbc-9b28c8ee2f44",
      "execution_count": 754,
      "outputs": [
        {
          "output_type": "execute_result",
          "data": {
            "text/plain": [
              "Index(['survived', 'pclass', 'sex', 'age', 'sibsp', 'parch', 'fare',\n",
              "       'embarked', 'class', 'who', 'adult_male', 'deck', 'embark_town',\n",
              "       'alive', 'alone'],\n",
              "      dtype='object')"
            ]
          },
          "metadata": {
            "tags": []
          },
          "execution_count": 754
        }
      ]
    },
    {
      "cell_type": "code",
      "metadata": {
        "id": "da6626ad-b8e2-4f56-a18d-43b1885b79e3",
        "colab": {
          "base_uri": "https://localhost:8080/"
        },
        "outputId": "4751552c-6aa8-4ab1-8891-d6cb690696cc"
      },
      "source": [
        "df.isnull().sum()"
      ],
      "id": "da6626ad-b8e2-4f56-a18d-43b1885b79e3",
      "execution_count": 755,
      "outputs": [
        {
          "output_type": "execute_result",
          "data": {
            "text/plain": [
              "survived         0\n",
              "pclass           0\n",
              "sex              0\n",
              "age            177\n",
              "sibsp            0\n",
              "parch            0\n",
              "fare             0\n",
              "embarked         2\n",
              "class            0\n",
              "who              0\n",
              "adult_male       0\n",
              "deck           688\n",
              "embark_town      2\n",
              "alive            0\n",
              "alone            0\n",
              "dtype: int64"
            ]
          },
          "metadata": {
            "tags": []
          },
          "execution_count": 755
        }
      ]
    },
    {
      "cell_type": "code",
      "metadata": {
        "colab": {
          "base_uri": "https://localhost:8080/"
        },
        "id": "g6dxQgXjxkKZ",
        "outputId": "dfe85e72-b67e-4d80-8eb5-ea2534c4a6d2"
      },
      "source": [
        "df.info()"
      ],
      "id": "g6dxQgXjxkKZ",
      "execution_count": 756,
      "outputs": [
        {
          "output_type": "stream",
          "text": [
            "<class 'pandas.core.frame.DataFrame'>\n",
            "RangeIndex: 891 entries, 0 to 890\n",
            "Data columns (total 15 columns):\n",
            " #   Column       Non-Null Count  Dtype   \n",
            "---  ------       --------------  -----   \n",
            " 0   survived     891 non-null    int64   \n",
            " 1   pclass       891 non-null    int64   \n",
            " 2   sex          891 non-null    object  \n",
            " 3   age          714 non-null    float64 \n",
            " 4   sibsp        891 non-null    int64   \n",
            " 5   parch        891 non-null    int64   \n",
            " 6   fare         891 non-null    float64 \n",
            " 7   embarked     889 non-null    object  \n",
            " 8   class        891 non-null    category\n",
            " 9   who          891 non-null    object  \n",
            " 10  adult_male   891 non-null    bool    \n",
            " 11  deck         203 non-null    category\n",
            " 12  embark_town  889 non-null    object  \n",
            " 13  alive        891 non-null    object  \n",
            " 14  alone        891 non-null    bool    \n",
            "dtypes: bool(2), category(2), float64(2), int64(4), object(5)\n",
            "memory usage: 80.6+ KB\n"
          ],
          "name": "stdout"
        }
      ]
    },
    {
      "cell_type": "code",
      "metadata": {
        "colab": {
          "base_uri": "https://localhost:8080/",
          "height": 284
        },
        "id": "6Xgq0_Pbxm7t",
        "outputId": "d968722d-2023-4c89-cbaf-f2f0c77ba840"
      },
      "source": [
        "df.describe()"
      ],
      "id": "6Xgq0_Pbxm7t",
      "execution_count": 757,
      "outputs": [
        {
          "output_type": "execute_result",
          "data": {
            "text/html": [
              "<div>\n",
              "<style scoped>\n",
              "    .dataframe tbody tr th:only-of-type {\n",
              "        vertical-align: middle;\n",
              "    }\n",
              "\n",
              "    .dataframe tbody tr th {\n",
              "        vertical-align: top;\n",
              "    }\n",
              "\n",
              "    .dataframe thead th {\n",
              "        text-align: right;\n",
              "    }\n",
              "</style>\n",
              "<table border=\"1\" class=\"dataframe\">\n",
              "  <thead>\n",
              "    <tr style=\"text-align: right;\">\n",
              "      <th></th>\n",
              "      <th>survived</th>\n",
              "      <th>pclass</th>\n",
              "      <th>age</th>\n",
              "      <th>sibsp</th>\n",
              "      <th>parch</th>\n",
              "      <th>fare</th>\n",
              "    </tr>\n",
              "  </thead>\n",
              "  <tbody>\n",
              "    <tr>\n",
              "      <th>count</th>\n",
              "      <td>891.000000</td>\n",
              "      <td>891.000000</td>\n",
              "      <td>714.000000</td>\n",
              "      <td>891.000000</td>\n",
              "      <td>891.000000</td>\n",
              "      <td>891.000000</td>\n",
              "    </tr>\n",
              "    <tr>\n",
              "      <th>mean</th>\n",
              "      <td>0.383838</td>\n",
              "      <td>2.308642</td>\n",
              "      <td>29.699118</td>\n",
              "      <td>0.523008</td>\n",
              "      <td>0.381594</td>\n",
              "      <td>32.204208</td>\n",
              "    </tr>\n",
              "    <tr>\n",
              "      <th>std</th>\n",
              "      <td>0.486592</td>\n",
              "      <td>0.836071</td>\n",
              "      <td>14.526497</td>\n",
              "      <td>1.102743</td>\n",
              "      <td>0.806057</td>\n",
              "      <td>49.693429</td>\n",
              "    </tr>\n",
              "    <tr>\n",
              "      <th>min</th>\n",
              "      <td>0.000000</td>\n",
              "      <td>1.000000</td>\n",
              "      <td>0.420000</td>\n",
              "      <td>0.000000</td>\n",
              "      <td>0.000000</td>\n",
              "      <td>0.000000</td>\n",
              "    </tr>\n",
              "    <tr>\n",
              "      <th>25%</th>\n",
              "      <td>0.000000</td>\n",
              "      <td>2.000000</td>\n",
              "      <td>20.125000</td>\n",
              "      <td>0.000000</td>\n",
              "      <td>0.000000</td>\n",
              "      <td>7.910400</td>\n",
              "    </tr>\n",
              "    <tr>\n",
              "      <th>50%</th>\n",
              "      <td>0.000000</td>\n",
              "      <td>3.000000</td>\n",
              "      <td>28.000000</td>\n",
              "      <td>0.000000</td>\n",
              "      <td>0.000000</td>\n",
              "      <td>14.454200</td>\n",
              "    </tr>\n",
              "    <tr>\n",
              "      <th>75%</th>\n",
              "      <td>1.000000</td>\n",
              "      <td>3.000000</td>\n",
              "      <td>38.000000</td>\n",
              "      <td>1.000000</td>\n",
              "      <td>0.000000</td>\n",
              "      <td>31.000000</td>\n",
              "    </tr>\n",
              "    <tr>\n",
              "      <th>max</th>\n",
              "      <td>1.000000</td>\n",
              "      <td>3.000000</td>\n",
              "      <td>80.000000</td>\n",
              "      <td>8.000000</td>\n",
              "      <td>6.000000</td>\n",
              "      <td>512.329200</td>\n",
              "    </tr>\n",
              "  </tbody>\n",
              "</table>\n",
              "</div>"
            ],
            "text/plain": [
              "         survived      pclass         age       sibsp       parch        fare\n",
              "count  891.000000  891.000000  714.000000  891.000000  891.000000  891.000000\n",
              "mean     0.383838    2.308642   29.699118    0.523008    0.381594   32.204208\n",
              "std      0.486592    0.836071   14.526497    1.102743    0.806057   49.693429\n",
              "min      0.000000    1.000000    0.420000    0.000000    0.000000    0.000000\n",
              "25%      0.000000    2.000000   20.125000    0.000000    0.000000    7.910400\n",
              "50%      0.000000    3.000000   28.000000    0.000000    0.000000   14.454200\n",
              "75%      1.000000    3.000000   38.000000    1.000000    0.000000   31.000000\n",
              "max      1.000000    3.000000   80.000000    8.000000    6.000000  512.329200"
            ]
          },
          "metadata": {
            "tags": []
          },
          "execution_count": 757
        }
      ]
    },
    {
      "cell_type": "markdown",
      "metadata": {
        "id": "LYw0Xf07x0Nt"
      },
      "source": [
        "We should 1st check whether Null values are present in the DataSet or not, before performing any cleaning on that particular column. Here age has null values,so we should fix it."
      ],
      "id": "LYw0Xf07x0Nt"
    },
    {
      "cell_type": "code",
      "metadata": {
        "id": "hbS9j6h-xyvE"
      },
      "source": [
        "df['age'] = df['age'].fillna(value=df['age'].mean())"
      ],
      "id": "hbS9j6h-xyvE",
      "execution_count": 758,
      "outputs": []
    },
    {
      "cell_type": "code",
      "metadata": {
        "colab": {
          "base_uri": "https://localhost:8080/"
        },
        "id": "J_dLTankyOaL",
        "outputId": "695e2da7-ed1b-45a5-bb06-fa2fdb546fb5"
      },
      "source": [
        "df.isnull().sum()"
      ],
      "id": "J_dLTankyOaL",
      "execution_count": 759,
      "outputs": [
        {
          "output_type": "execute_result",
          "data": {
            "text/plain": [
              "survived         0\n",
              "pclass           0\n",
              "sex              0\n",
              "age              0\n",
              "sibsp            0\n",
              "parch            0\n",
              "fare             0\n",
              "embarked         2\n",
              "class            0\n",
              "who              0\n",
              "adult_male       0\n",
              "deck           688\n",
              "embark_town      2\n",
              "alive            0\n",
              "alone            0\n",
              "dtype: int64"
            ]
          },
          "metadata": {
            "tags": []
          },
          "execution_count": 759
        }
      ]
    },
    {
      "cell_type": "markdown",
      "metadata": {
        "id": "ggYgUe4vzbDj"
      },
      "source": [
        "Checking for Outliers in the DataSet"
      ],
      "id": "ggYgUe4vzbDj"
    },
    {
      "cell_type": "code",
      "metadata": {
        "colab": {
          "base_uri": "https://localhost:8080/",
          "height": 394
        },
        "id": "RJmQfCrgzcid",
        "outputId": "76033a52-29fe-4c1d-c3f8-ad4b3e064f10"
      },
      "source": [
        "plt.figure(figsize=(10, 6))\n",
        "df.boxplot()"
      ],
      "id": "RJmQfCrgzcid",
      "execution_count": 760,
      "outputs": [
        {
          "output_type": "execute_result",
          "data": {
            "text/plain": [
              "<matplotlib.axes._subplots.AxesSubplot at 0x7f5d4f8d8550>"
            ]
          },
          "metadata": {
            "tags": []
          },
          "execution_count": 760
        },
        {
          "output_type": "display_data",
          "data": {
            "image/png": "[encoded data removed]",
            "text/plain": [
              "<Figure size 720x432 with 1 Axes>"
            ]
          },
          "metadata": {
            "tags": []
          }
        }
      ]
    },
    {
      "cell_type": "markdown",
      "metadata": {
        "id": "LHxCASNoz-Qk"
      },
      "source": [
        "Outliers are present in four different columns,two of those columns are ignorable,'Age','Fare' Column Outliers should be Fixed."
      ],
      "id": "LHxCASNoz-Qk"
    },
    {
      "cell_type": "code",
      "metadata": {
        "colab": {
          "base_uri": "https://localhost:8080/"
        },
        "id": "RDPMwsIuz9Fb",
        "outputId": "3e5ee325-b6d3-4df8-c1cb-81c2ef34f62e"
      },
      "source": [
        "IQR_Fare = df['fare'].quantile(0.75) - df['fare'].quantile(0.25)\n",
        "IQR_Fare"
      ],
      "id": "RDPMwsIuz9Fb",
      "execution_count": 761,
      "outputs": [
        {
          "output_type": "execute_result",
          "data": {
            "text/plain": [
              "23.0896"
            ]
          },
          "metadata": {
            "tags": []
          },
          "execution_count": 761
        }
      ]
    },
    {
      "cell_type": "code",
      "metadata": {
        "colab": {
          "base_uri": "https://localhost:8080/"
        },
        "id": "SPz4RvOq0YSV",
        "outputId": "05d9d1fc-de8f-4603-fee0-dc70b4558990"
      },
      "source": [
        "Upper_OutlierLimit = df['fare'].quantile(0.75)+1.5*IQR_Fare\n",
        "Upper_OutlierLimit"
      ],
      "id": "SPz4RvOq0YSV",
      "execution_count": 762,
      "outputs": [
        {
          "output_type": "execute_result",
          "data": {
            "text/plain": [
              "65.6344"
            ]
          },
          "metadata": {
            "tags": []
          },
          "execution_count": 762
        }
      ]
    },
    {
      "cell_type": "code",
      "metadata": {
        "colab": {
          "base_uri": "https://localhost:8080/",
          "height": 402
        },
        "id": "pj8hjpGs0fWE",
        "outputId": "1a28b71b-67d6-410f-e2de-ccc75398e77f"
      },
      "source": [
        "OutlierValues = df[(df['fare']>Upper_OutlierLimit)]\n",
        "OutlierValues"
      ],
      "id": "pj8hjpGs0fWE",
      "execution_count": 763,
      "outputs": [
        {
          "output_type": "execute_result",
          "data": {
            "text/html": [
              "<div>\n",
              "<style scoped>\n",
              "    .dataframe tbody tr th:only-of-type {\n",
              "        vertical-align: middle;\n",
              "    }\n",
              "\n",
              "    .dataframe tbody tr th {\n",
              "        vertical-align: top;\n",
              "    }\n",
              "\n",
              "    .dataframe thead th {\n",
              "        text-align: right;\n",
              "    }\n",
              "</style>\n",
              "<table border=\"1\" class=\"dataframe\">\n",
              "  <thead>\n",
              "    <tr style=\"text-align: right;\">\n",
              "      <th></th>\n",
              "      <th>survived</th>\n",
              "      <th>pclass</th>\n",
              "      <th>sex</th>\n",
              "      <th>age</th>\n",
              "      <th>sibsp</th>\n",
              "      <th>parch</th>\n",
              "      <th>fare</th>\n",
              "      <th>embarked</th>\n",
              "      <th>class</th>\n",
              "      <th>who</th>\n",
              "      <th>adult_male</th>\n",
              "      <th>deck</th>\n",
              "      <th>embark_town</th>\n",
              "      <th>alive</th>\n",
              "      <th>alone</th>\n",
              "    </tr>\n",
              "  </thead>\n",
              "  <tbody>\n",
              "    <tr>\n",
              "      <th>1</th>\n",
              "      <td>1</td>\n",
              "      <td>1</td>\n",
              "      <td>female</td>\n",
              "      <td>38.000000</td>\n",
              "      <td>1</td>\n",
              "      <td>0</td>\n",
              "      <td>71.2833</td>\n",
              "      <td>C</td>\n",
              "      <td>First</td>\n",
              "      <td>woman</td>\n",
              "      <td>False</td>\n",
              "      <td>C</td>\n",
              "      <td>Cherbourg</td>\n",
              "      <td>yes</td>\n",
              "      <td>False</td>\n",
              "    </tr>\n",
              "    <tr>\n",
              "      <th>27</th>\n",
              "      <td>0</td>\n",
              "      <td>1</td>\n",
              "      <td>male</td>\n",
              "      <td>19.000000</td>\n",
              "      <td>3</td>\n",
              "      <td>2</td>\n",
              "      <td>263.0000</td>\n",
              "      <td>S</td>\n",
              "      <td>First</td>\n",
              "      <td>man</td>\n",
              "      <td>True</td>\n",
              "      <td>C</td>\n",
              "      <td>Southampton</td>\n",
              "      <td>no</td>\n",
              "      <td>False</td>\n",
              "    </tr>\n",
              "    <tr>\n",
              "      <th>31</th>\n",
              "      <td>1</td>\n",
              "      <td>1</td>\n",
              "      <td>female</td>\n",
              "      <td>29.699118</td>\n",
              "      <td>1</td>\n",
              "      <td>0</td>\n",
              "      <td>146.5208</td>\n",
              "      <td>C</td>\n",
              "      <td>First</td>\n",
              "      <td>woman</td>\n",
              "      <td>False</td>\n",
              "      <td>B</td>\n",
              "      <td>Cherbourg</td>\n",
              "      <td>yes</td>\n",
              "      <td>False</td>\n",
              "    </tr>\n",
              "    <tr>\n",
              "      <th>34</th>\n",
              "      <td>0</td>\n",
              "      <td>1</td>\n",
              "      <td>male</td>\n",
              "      <td>28.000000</td>\n",
              "      <td>1</td>\n",
              "      <td>0</td>\n",
              "      <td>82.1708</td>\n",
              "      <td>C</td>\n",
              "      <td>First</td>\n",
              "      <td>man</td>\n",
              "      <td>True</td>\n",
              "      <td>NaN</td>\n",
              "      <td>Cherbourg</td>\n",
              "      <td>no</td>\n",
              "      <td>False</td>\n",
              "    </tr>\n",
              "    <tr>\n",
              "      <th>52</th>\n",
              "      <td>1</td>\n",
              "      <td>1</td>\n",
              "      <td>female</td>\n",
              "      <td>49.000000</td>\n",
              "      <td>1</td>\n",
              "      <td>0</td>\n",
              "      <td>76.7292</td>\n",
              "      <td>C</td>\n",
              "      <td>First</td>\n",
              "      <td>woman</td>\n",
              "      <td>False</td>\n",
              "      <td>D</td>\n",
              "      <td>Cherbourg</td>\n",
              "      <td>yes</td>\n",
              "      <td>False</td>\n",
              "    </tr>\n",
              "    <tr>\n",
              "      <th>...</th>\n",
              "      <td>...</td>\n",
              "      <td>...</td>\n",
              "      <td>...</td>\n",
              "      <td>...</td>\n",
              "      <td>...</td>\n",
              "      <td>...</td>\n",
              "      <td>...</td>\n",
              "      <td>...</td>\n",
              "      <td>...</td>\n",
              "      <td>...</td>\n",
              "      <td>...</td>\n",
              "      <td>...</td>\n",
              "      <td>...</td>\n",
              "      <td>...</td>\n",
              "      <td>...</td>\n",
              "    </tr>\n",
              "    <tr>\n",
              "      <th>846</th>\n",
              "      <td>0</td>\n",
              "      <td>3</td>\n",
              "      <td>male</td>\n",
              "      <td>29.699118</td>\n",
              "      <td>8</td>\n",
              "      <td>2</td>\n",
              "      <td>69.5500</td>\n",
              "      <td>S</td>\n",
              "      <td>Third</td>\n",
              "      <td>man</td>\n",
              "      <td>True</td>\n",
              "      <td>NaN</td>\n",
              "      <td>Southampton</td>\n",
              "      <td>no</td>\n",
              "      <td>False</td>\n",
              "    </tr>\n",
              "    <tr>\n",
              "      <th>849</th>\n",
              "      <td>1</td>\n",
              "      <td>1</td>\n",
              "      <td>female</td>\n",
              "      <td>29.699118</td>\n",
              "      <td>1</td>\n",
              "      <td>0</td>\n",
              "      <td>89.1042</td>\n",
              "      <td>C</td>\n",
              "      <td>First</td>\n",
              "      <td>woman</td>\n",
              "      <td>False</td>\n",
              "      <td>C</td>\n",
              "      <td>Cherbourg</td>\n",
              "      <td>yes</td>\n",
              "      <td>False</td>\n",
              "    </tr>\n",
              "    <tr>\n",
              "      <th>856</th>\n",
              "      <td>1</td>\n",
              "      <td>1</td>\n",
              "      <td>female</td>\n",
              "      <td>45.000000</td>\n",
              "      <td>1</td>\n",
              "      <td>1</td>\n",
              "      <td>164.8667</td>\n",
              "      <td>S</td>\n",
              "      <td>First</td>\n",
              "      <td>woman</td>\n",
              "      <td>False</td>\n",
              "      <td>NaN</td>\n",
              "      <td>Southampton</td>\n",
              "      <td>yes</td>\n",
              "      <td>False</td>\n",
              "    </tr>\n",
              "    <tr>\n",
              "      <th>863</th>\n",
              "      <td>0</td>\n",
              "      <td>3</td>\n",
              "      <td>female</td>\n",
              "      <td>29.699118</td>\n",
              "      <td>8</td>\n",
              "      <td>2</td>\n",
              "      <td>69.5500</td>\n",
              "      <td>S</td>\n",
              "      <td>Third</td>\n",
              "      <td>woman</td>\n",
              "      <td>False</td>\n",
              "      <td>NaN</td>\n",
              "      <td>Southampton</td>\n",
              "      <td>no</td>\n",
              "      <td>False</td>\n",
              "    </tr>\n",
              "    <tr>\n",
              "      <th>879</th>\n",
              "      <td>1</td>\n",
              "      <td>1</td>\n",
              "      <td>female</td>\n",
              "      <td>56.000000</td>\n",
              "      <td>0</td>\n",
              "      <td>1</td>\n",
              "      <td>83.1583</td>\n",
              "      <td>C</td>\n",
              "      <td>First</td>\n",
              "      <td>woman</td>\n",
              "      <td>False</td>\n",
              "      <td>C</td>\n",
              "      <td>Cherbourg</td>\n",
              "      <td>yes</td>\n",
              "      <td>False</td>\n",
              "    </tr>\n",
              "  </tbody>\n",
              "</table>\n",
              "<p>116 rows × 15 columns</p>\n",
              "</div>"
            ],
            "text/plain": [
              "     survived  pclass     sex        age  ...  deck  embark_town  alive  alone\n",
              "1           1       1  female  38.000000  ...     C    Cherbourg    yes  False\n",
              "27          0       1    male  19.000000  ...     C  Southampton     no  False\n",
              "31          1       1  female  29.699118  ...     B    Cherbourg    yes  False\n",
              "34          0       1    male  28.000000  ...   NaN    Cherbourg     no  False\n",
              "52          1       1  female  49.000000  ...     D    Cherbourg    yes  False\n",
              "..        ...     ...     ...        ...  ...   ...          ...    ...    ...\n",
              "846         0       3    male  29.699118  ...   NaN  Southampton     no  False\n",
              "849         1       1  female  29.699118  ...     C    Cherbourg    yes  False\n",
              "856         1       1  female  45.000000  ...   NaN  Southampton    yes  False\n",
              "863         0       3  female  29.699118  ...   NaN  Southampton     no  False\n",
              "879         1       1  female  56.000000  ...     C    Cherbourg    yes  False\n",
              "\n",
              "[116 rows x 15 columns]"
            ]
          },
          "metadata": {
            "tags": []
          },
          "execution_count": 763
        }
      ]
    },
    {
      "cell_type": "code",
      "metadata": {
        "colab": {
          "base_uri": "https://localhost:8080/",
          "height": 402
        },
        "id": "gP3h_D1G0o4z",
        "outputId": "9a630e46-fa75-4dee-9362-f9d1e2b46fc2"
      },
      "source": [
        "df['fare']=np.where(df['fare']>65.6,df['fare'].quantile(0.85),df['fare'])\n",
        "df"
      ],
      "id": "gP3h_D1G0o4z",
      "execution_count": 764,
      "outputs": [
        {
          "output_type": "execute_result",
          "data": {
            "text/html": [
              "<div>\n",
              "<style scoped>\n",
              "    .dataframe tbody tr th:only-of-type {\n",
              "        vertical-align: middle;\n",
              "    }\n",
              "\n",
              "    .dataframe tbody tr th {\n",
              "        vertical-align: top;\n",
              "    }\n",
              "\n",
              "    .dataframe thead th {\n",
              "        text-align: right;\n",
              "    }\n",
              "</style>\n",
              "<table border=\"1\" class=\"dataframe\">\n",
              "  <thead>\n",
              "    <tr style=\"text-align: right;\">\n",
              "      <th></th>\n",
              "      <th>survived</th>\n",
              "      <th>pclass</th>\n",
              "      <th>sex</th>\n",
              "      <th>age</th>\n",
              "      <th>sibsp</th>\n",
              "      <th>parch</th>\n",
              "      <th>fare</th>\n",
              "      <th>embarked</th>\n",
              "      <th>class</th>\n",
              "      <th>who</th>\n",
              "      <th>adult_male</th>\n",
              "      <th>deck</th>\n",
              "      <th>embark_town</th>\n",
              "      <th>alive</th>\n",
              "      <th>alone</th>\n",
              "    </tr>\n",
              "  </thead>\n",
              "  <tbody>\n",
              "    <tr>\n",
              "      <th>0</th>\n",
              "      <td>0</td>\n",
              "      <td>3</td>\n",
              "      <td>male</td>\n",
              "      <td>22.000000</td>\n",
              "      <td>1</td>\n",
              "      <td>0</td>\n",
              "      <td>7.2500</td>\n",
              "      <td>S</td>\n",
              "      <td>Third</td>\n",
              "      <td>man</td>\n",
              "      <td>True</td>\n",
              "      <td>NaN</td>\n",
              "      <td>Southampton</td>\n",
              "      <td>no</td>\n",
              "      <td>False</td>\n",
              "    </tr>\n",
              "    <tr>\n",
              "      <th>1</th>\n",
              "      <td>1</td>\n",
              "      <td>1</td>\n",
              "      <td>female</td>\n",
              "      <td>38.000000</td>\n",
              "      <td>1</td>\n",
              "      <td>0</td>\n",
              "      <td>56.4958</td>\n",
              "      <td>C</td>\n",
              "      <td>First</td>\n",
              "      <td>woman</td>\n",
              "      <td>False</td>\n",
              "      <td>C</td>\n",
              "      <td>Cherbourg</td>\n",
              "      <td>yes</td>\n",
              "      <td>False</td>\n",
              "    </tr>\n",
              "    <tr>\n",
              "      <th>2</th>\n",
              "      <td>1</td>\n",
              "      <td>3</td>\n",
              "      <td>female</td>\n",
              "      <td>26.000000</td>\n",
              "      <td>0</td>\n",
              "      <td>0</td>\n",
              "      <td>7.9250</td>\n",
              "      <td>S</td>\n",
              "      <td>Third</td>\n",
              "      <td>woman</td>\n",
              "      <td>False</td>\n",
              "      <td>NaN</td>\n",
              "      <td>Southampton</td>\n",
              "      <td>yes</td>\n",
              "      <td>True</td>\n",
              "    </tr>\n",
              "    <tr>\n",
              "      <th>3</th>\n",
              "      <td>1</td>\n",
              "      <td>1</td>\n",
              "      <td>female</td>\n",
              "      <td>35.000000</td>\n",
              "      <td>1</td>\n",
              "      <td>0</td>\n",
              "      <td>53.1000</td>\n",
              "      <td>S</td>\n",
              "      <td>First</td>\n",
              "      <td>woman</td>\n",
              "      <td>False</td>\n",
              "      <td>C</td>\n",
              "      <td>Southampton</td>\n",
              "      <td>yes</td>\n",
              "      <td>False</td>\n",
              "    </tr>\n",
              "    <tr>\n",
              "      <th>4</th>\n",
              "      <td>0</td>\n",
              "      <td>3</td>\n",
              "      <td>male</td>\n",
              "      <td>35.000000</td>\n",
              "      <td>0</td>\n",
              "      <td>0</td>\n",
              "      <td>8.0500</td>\n",
              "      <td>S</td>\n",
              "      <td>Third</td>\n",
              "      <td>man</td>\n",
              "      <td>True</td>\n",
              "      <td>NaN</td>\n",
              "      <td>Southampton</td>\n",
              "      <td>no</td>\n",
              "      <td>True</td>\n",
              "    </tr>\n",
              "    <tr>\n",
              "      <th>...</th>\n",
              "      <td>...</td>\n",
              "      <td>...</td>\n",
              "      <td>...</td>\n",
              "      <td>...</td>\n",
              "      <td>...</td>\n",
              "      <td>...</td>\n",
              "      <td>...</td>\n",
              "      <td>...</td>\n",
              "      <td>...</td>\n",
              "      <td>...</td>\n",
              "      <td>...</td>\n",
              "      <td>...</td>\n",
              "      <td>...</td>\n",
              "      <td>...</td>\n",
              "      <td>...</td>\n",
              "    </tr>\n",
              "    <tr>\n",
              "      <th>886</th>\n",
              "      <td>0</td>\n",
              "      <td>2</td>\n",
              "      <td>male</td>\n",
              "      <td>27.000000</td>\n",
              "      <td>0</td>\n",
              "      <td>0</td>\n",
              "      <td>13.0000</td>\n",
              "      <td>S</td>\n",
              "      <td>Second</td>\n",
              "      <td>man</td>\n",
              "      <td>True</td>\n",
              "      <td>NaN</td>\n",
              "      <td>Southampton</td>\n",
              "      <td>no</td>\n",
              "      <td>True</td>\n",
              "    </tr>\n",
              "    <tr>\n",
              "      <th>887</th>\n",
              "      <td>1</td>\n",
              "      <td>1</td>\n",
              "      <td>female</td>\n",
              "      <td>19.000000</td>\n",
              "      <td>0</td>\n",
              "      <td>0</td>\n",
              "      <td>30.0000</td>\n",
              "      <td>S</td>\n",
              "      <td>First</td>\n",
              "      <td>woman</td>\n",
              "      <td>False</td>\n",
              "      <td>B</td>\n",
              "      <td>Southampton</td>\n",
              "      <td>yes</td>\n",
              "      <td>True</td>\n",
              "    </tr>\n",
              "    <tr>\n",
              "      <th>888</th>\n",
              "      <td>0</td>\n",
              "      <td>3</td>\n",
              "      <td>female</td>\n",
              "      <td>29.699118</td>\n",
              "      <td>1</td>\n",
              "      <td>2</td>\n",
              "      <td>23.4500</td>\n",
              "      <td>S</td>\n",
              "      <td>Third</td>\n",
              "      <td>woman</td>\n",
              "      <td>False</td>\n",
              "      <td>NaN</td>\n",
              "      <td>Southampton</td>\n",
              "      <td>no</td>\n",
              "      <td>False</td>\n",
              "    </tr>\n",
              "    <tr>\n",
              "      <th>889</th>\n",
              "      <td>1</td>\n",
              "      <td>1</td>\n",
              "      <td>male</td>\n",
              "      <td>26.000000</td>\n",
              "      <td>0</td>\n",
              "      <td>0</td>\n",
              "      <td>30.0000</td>\n",
              "      <td>C</td>\n",
              "      <td>First</td>\n",
              "      <td>man</td>\n",
              "      <td>True</td>\n",
              "      <td>C</td>\n",
              "      <td>Cherbourg</td>\n",
              "      <td>yes</td>\n",
              "      <td>True</td>\n",
              "    </tr>\n",
              "    <tr>\n",
              "      <th>890</th>\n",
              "      <td>0</td>\n",
              "      <td>3</td>\n",
              "      <td>male</td>\n",
              "      <td>32.000000</td>\n",
              "      <td>0</td>\n",
              "      <td>0</td>\n",
              "      <td>7.7500</td>\n",
              "      <td>Q</td>\n",
              "      <td>Third</td>\n",
              "      <td>man</td>\n",
              "      <td>True</td>\n",
              "      <td>NaN</td>\n",
              "      <td>Queenstown</td>\n",
              "      <td>no</td>\n",
              "      <td>True</td>\n",
              "    </tr>\n",
              "  </tbody>\n",
              "</table>\n",
              "<p>891 rows × 15 columns</p>\n",
              "</div>"
            ],
            "text/plain": [
              "     survived  pclass     sex        age  ...  deck  embark_town  alive  alone\n",
              "0           0       3    male  22.000000  ...   NaN  Southampton     no  False\n",
              "1           1       1  female  38.000000  ...     C    Cherbourg    yes  False\n",
              "2           1       3  female  26.000000  ...   NaN  Southampton    yes   True\n",
              "3           1       1  female  35.000000  ...     C  Southampton    yes  False\n",
              "4           0       3    male  35.000000  ...   NaN  Southampton     no   True\n",
              "..        ...     ...     ...        ...  ...   ...          ...    ...    ...\n",
              "886         0       2    male  27.000000  ...   NaN  Southampton     no   True\n",
              "887         1       1  female  19.000000  ...     B  Southampton    yes   True\n",
              "888         0       3  female  29.699118  ...   NaN  Southampton     no  False\n",
              "889         1       1    male  26.000000  ...     C    Cherbourg    yes   True\n",
              "890         0       3    male  32.000000  ...   NaN   Queenstown     no   True\n",
              "\n",
              "[891 rows x 15 columns]"
            ]
          },
          "metadata": {
            "tags": []
          },
          "execution_count": 764
        }
      ]
    },
    {
      "cell_type": "code",
      "metadata": {
        "colab": {
          "base_uri": "https://localhost:8080/"
        },
        "id": "sKZL_8FD1-fC",
        "outputId": "5eedec17-75a0-432c-e575-61cf6a36b522"
      },
      "source": [
        "IQR_Age = df['age'].quantile(0.75) - df['age'].quantile(0.25)\n",
        "IQR_Age"
      ],
      "id": "sKZL_8FD1-fC",
      "execution_count": 765,
      "outputs": [
        {
          "output_type": "execute_result",
          "data": {
            "text/plain": [
              "13.0"
            ]
          },
          "metadata": {
            "tags": []
          },
          "execution_count": 765
        }
      ]
    },
    {
      "cell_type": "code",
      "metadata": {
        "colab": {
          "base_uri": "https://localhost:8080/"
        },
        "id": "BPpIIyDN2Kbw",
        "outputId": "ee14a869-ddd1-4f80-fb4a-a06e2e9f993c"
      },
      "source": [
        "Upper_OutlierLimit2 = df['age'].quantile(0.75)+1.5*IQR_Age\n",
        "Upper_OutlierLimit2"
      ],
      "id": "BPpIIyDN2Kbw",
      "execution_count": 766,
      "outputs": [
        {
          "output_type": "execute_result",
          "data": {
            "text/plain": [
              "54.5"
            ]
          },
          "metadata": {
            "tags": []
          },
          "execution_count": 766
        }
      ]
    },
    {
      "cell_type": "code",
      "metadata": {
        "colab": {
          "base_uri": "https://localhost:8080/",
          "height": 1000
        },
        "id": "jE6wdB782RDo",
        "outputId": "c93d6703-4570-4f98-d5ad-f170dc92c472"
      },
      "source": [
        "OutlierValues2 = df[(df['age'] > Upper_OutlierLimit2)]\n",
        "OutlierValues2"
      ],
      "id": "jE6wdB782RDo",
      "execution_count": 767,
      "outputs": [
        {
          "output_type": "execute_result",
          "data": {
            "text/html": [
              "<div>\n",
              "<style scoped>\n",
              "    .dataframe tbody tr th:only-of-type {\n",
              "        vertical-align: middle;\n",
              "    }\n",
              "\n",
              "    .dataframe tbody tr th {\n",
              "        vertical-align: top;\n",
              "    }\n",
              "\n",
              "    .dataframe thead th {\n",
              "        text-align: right;\n",
              "    }\n",
              "</style>\n",
              "<table border=\"1\" class=\"dataframe\">\n",
              "  <thead>\n",
              "    <tr style=\"text-align: right;\">\n",
              "      <th></th>\n",
              "      <th>survived</th>\n",
              "      <th>pclass</th>\n",
              "      <th>sex</th>\n",
              "      <th>age</th>\n",
              "      <th>sibsp</th>\n",
              "      <th>parch</th>\n",
              "      <th>fare</th>\n",
              "      <th>embarked</th>\n",
              "      <th>class</th>\n",
              "      <th>who</th>\n",
              "      <th>adult_male</th>\n",
              "      <th>deck</th>\n",
              "      <th>embark_town</th>\n",
              "      <th>alive</th>\n",
              "      <th>alone</th>\n",
              "    </tr>\n",
              "  </thead>\n",
              "  <tbody>\n",
              "    <tr>\n",
              "      <th>11</th>\n",
              "      <td>1</td>\n",
              "      <td>1</td>\n",
              "      <td>female</td>\n",
              "      <td>58.0</td>\n",
              "      <td>0</td>\n",
              "      <td>0</td>\n",
              "      <td>26.5500</td>\n",
              "      <td>S</td>\n",
              "      <td>First</td>\n",
              "      <td>woman</td>\n",
              "      <td>False</td>\n",
              "      <td>C</td>\n",
              "      <td>Southampton</td>\n",
              "      <td>yes</td>\n",
              "      <td>True</td>\n",
              "    </tr>\n",
              "    <tr>\n",
              "      <th>15</th>\n",
              "      <td>1</td>\n",
              "      <td>2</td>\n",
              "      <td>female</td>\n",
              "      <td>55.0</td>\n",
              "      <td>0</td>\n",
              "      <td>0</td>\n",
              "      <td>16.0000</td>\n",
              "      <td>S</td>\n",
              "      <td>Second</td>\n",
              "      <td>woman</td>\n",
              "      <td>False</td>\n",
              "      <td>NaN</td>\n",
              "      <td>Southampton</td>\n",
              "      <td>yes</td>\n",
              "      <td>True</td>\n",
              "    </tr>\n",
              "    <tr>\n",
              "      <th>33</th>\n",
              "      <td>0</td>\n",
              "      <td>2</td>\n",
              "      <td>male</td>\n",
              "      <td>66.0</td>\n",
              "      <td>0</td>\n",
              "      <td>0</td>\n",
              "      <td>10.5000</td>\n",
              "      <td>S</td>\n",
              "      <td>Second</td>\n",
              "      <td>man</td>\n",
              "      <td>True</td>\n",
              "      <td>NaN</td>\n",
              "      <td>Southampton</td>\n",
              "      <td>no</td>\n",
              "      <td>True</td>\n",
              "    </tr>\n",
              "    <tr>\n",
              "      <th>54</th>\n",
              "      <td>0</td>\n",
              "      <td>1</td>\n",
              "      <td>male</td>\n",
              "      <td>65.0</td>\n",
              "      <td>0</td>\n",
              "      <td>1</td>\n",
              "      <td>61.9792</td>\n",
              "      <td>C</td>\n",
              "      <td>First</td>\n",
              "      <td>man</td>\n",
              "      <td>True</td>\n",
              "      <td>B</td>\n",
              "      <td>Cherbourg</td>\n",
              "      <td>no</td>\n",
              "      <td>False</td>\n",
              "    </tr>\n",
              "    <tr>\n",
              "      <th>94</th>\n",
              "      <td>0</td>\n",
              "      <td>3</td>\n",
              "      <td>male</td>\n",
              "      <td>59.0</td>\n",
              "      <td>0</td>\n",
              "      <td>0</td>\n",
              "      <td>7.2500</td>\n",
              "      <td>S</td>\n",
              "      <td>Third</td>\n",
              "      <td>man</td>\n",
              "      <td>True</td>\n",
              "      <td>NaN</td>\n",
              "      <td>Southampton</td>\n",
              "      <td>no</td>\n",
              "      <td>True</td>\n",
              "    </tr>\n",
              "    <tr>\n",
              "      <th>96</th>\n",
              "      <td>0</td>\n",
              "      <td>1</td>\n",
              "      <td>male</td>\n",
              "      <td>71.0</td>\n",
              "      <td>0</td>\n",
              "      <td>0</td>\n",
              "      <td>34.6542</td>\n",
              "      <td>C</td>\n",
              "      <td>First</td>\n",
              "      <td>man</td>\n",
              "      <td>True</td>\n",
              "      <td>A</td>\n",
              "      <td>Cherbourg</td>\n",
              "      <td>no</td>\n",
              "      <td>True</td>\n",
              "    </tr>\n",
              "    <tr>\n",
              "      <th>116</th>\n",
              "      <td>0</td>\n",
              "      <td>3</td>\n",
              "      <td>male</td>\n",
              "      <td>70.5</td>\n",
              "      <td>0</td>\n",
              "      <td>0</td>\n",
              "      <td>7.7500</td>\n",
              "      <td>Q</td>\n",
              "      <td>Third</td>\n",
              "      <td>man</td>\n",
              "      <td>True</td>\n",
              "      <td>NaN</td>\n",
              "      <td>Queenstown</td>\n",
              "      <td>no</td>\n",
              "      <td>True</td>\n",
              "    </tr>\n",
              "    <tr>\n",
              "      <th>152</th>\n",
              "      <td>0</td>\n",
              "      <td>3</td>\n",
              "      <td>male</td>\n",
              "      <td>55.5</td>\n",
              "      <td>0</td>\n",
              "      <td>0</td>\n",
              "      <td>8.0500</td>\n",
              "      <td>S</td>\n",
              "      <td>Third</td>\n",
              "      <td>man</td>\n",
              "      <td>True</td>\n",
              "      <td>NaN</td>\n",
              "      <td>Southampton</td>\n",
              "      <td>no</td>\n",
              "      <td>True</td>\n",
              "    </tr>\n",
              "    <tr>\n",
              "      <th>170</th>\n",
              "      <td>0</td>\n",
              "      <td>1</td>\n",
              "      <td>male</td>\n",
              "      <td>61.0</td>\n",
              "      <td>0</td>\n",
              "      <td>0</td>\n",
              "      <td>33.5000</td>\n",
              "      <td>S</td>\n",
              "      <td>First</td>\n",
              "      <td>man</td>\n",
              "      <td>True</td>\n",
              "      <td>B</td>\n",
              "      <td>Southampton</td>\n",
              "      <td>no</td>\n",
              "      <td>True</td>\n",
              "    </tr>\n",
              "    <tr>\n",
              "      <th>174</th>\n",
              "      <td>0</td>\n",
              "      <td>1</td>\n",
              "      <td>male</td>\n",
              "      <td>56.0</td>\n",
              "      <td>0</td>\n",
              "      <td>0</td>\n",
              "      <td>30.6958</td>\n",
              "      <td>C</td>\n",
              "      <td>First</td>\n",
              "      <td>man</td>\n",
              "      <td>True</td>\n",
              "      <td>A</td>\n",
              "      <td>Cherbourg</td>\n",
              "      <td>no</td>\n",
              "      <td>True</td>\n",
              "    </tr>\n",
              "    <tr>\n",
              "      <th>195</th>\n",
              "      <td>1</td>\n",
              "      <td>1</td>\n",
              "      <td>female</td>\n",
              "      <td>58.0</td>\n",
              "      <td>0</td>\n",
              "      <td>0</td>\n",
              "      <td>56.4958</td>\n",
              "      <td>C</td>\n",
              "      <td>First</td>\n",
              "      <td>woman</td>\n",
              "      <td>False</td>\n",
              "      <td>B</td>\n",
              "      <td>Cherbourg</td>\n",
              "      <td>yes</td>\n",
              "      <td>True</td>\n",
              "    </tr>\n",
              "    <tr>\n",
              "      <th>232</th>\n",
              "      <td>0</td>\n",
              "      <td>2</td>\n",
              "      <td>male</td>\n",
              "      <td>59.0</td>\n",
              "      <td>0</td>\n",
              "      <td>0</td>\n",
              "      <td>13.5000</td>\n",
              "      <td>S</td>\n",
              "      <td>Second</td>\n",
              "      <td>man</td>\n",
              "      <td>True</td>\n",
              "      <td>NaN</td>\n",
              "      <td>Southampton</td>\n",
              "      <td>no</td>\n",
              "      <td>True</td>\n",
              "    </tr>\n",
              "    <tr>\n",
              "      <th>252</th>\n",
              "      <td>0</td>\n",
              "      <td>1</td>\n",
              "      <td>male</td>\n",
              "      <td>62.0</td>\n",
              "      <td>0</td>\n",
              "      <td>0</td>\n",
              "      <td>26.5500</td>\n",
              "      <td>S</td>\n",
              "      <td>First</td>\n",
              "      <td>man</td>\n",
              "      <td>True</td>\n",
              "      <td>C</td>\n",
              "      <td>Southampton</td>\n",
              "      <td>no</td>\n",
              "      <td>True</td>\n",
              "    </tr>\n",
              "    <tr>\n",
              "      <th>268</th>\n",
              "      <td>1</td>\n",
              "      <td>1</td>\n",
              "      <td>female</td>\n",
              "      <td>58.0</td>\n",
              "      <td>0</td>\n",
              "      <td>1</td>\n",
              "      <td>56.4958</td>\n",
              "      <td>S</td>\n",
              "      <td>First</td>\n",
              "      <td>woman</td>\n",
              "      <td>False</td>\n",
              "      <td>C</td>\n",
              "      <td>Southampton</td>\n",
              "      <td>yes</td>\n",
              "      <td>False</td>\n",
              "    </tr>\n",
              "    <tr>\n",
              "      <th>275</th>\n",
              "      <td>1</td>\n",
              "      <td>1</td>\n",
              "      <td>female</td>\n",
              "      <td>63.0</td>\n",
              "      <td>1</td>\n",
              "      <td>0</td>\n",
              "      <td>56.4958</td>\n",
              "      <td>S</td>\n",
              "      <td>First</td>\n",
              "      <td>woman</td>\n",
              "      <td>False</td>\n",
              "      <td>D</td>\n",
              "      <td>Southampton</td>\n",
              "      <td>yes</td>\n",
              "      <td>False</td>\n",
              "    </tr>\n",
              "    <tr>\n",
              "      <th>280</th>\n",
              "      <td>0</td>\n",
              "      <td>3</td>\n",
              "      <td>male</td>\n",
              "      <td>65.0</td>\n",
              "      <td>0</td>\n",
              "      <td>0</td>\n",
              "      <td>7.7500</td>\n",
              "      <td>Q</td>\n",
              "      <td>Third</td>\n",
              "      <td>man</td>\n",
              "      <td>True</td>\n",
              "      <td>NaN</td>\n",
              "      <td>Queenstown</td>\n",
              "      <td>no</td>\n",
              "      <td>True</td>\n",
              "    </tr>\n",
              "    <tr>\n",
              "      <th>326</th>\n",
              "      <td>0</td>\n",
              "      <td>3</td>\n",
              "      <td>male</td>\n",
              "      <td>61.0</td>\n",
              "      <td>0</td>\n",
              "      <td>0</td>\n",
              "      <td>6.2375</td>\n",
              "      <td>S</td>\n",
              "      <td>Third</td>\n",
              "      <td>man</td>\n",
              "      <td>True</td>\n",
              "      <td>NaN</td>\n",
              "      <td>Southampton</td>\n",
              "      <td>no</td>\n",
              "      <td>True</td>\n",
              "    </tr>\n",
              "    <tr>\n",
              "      <th>366</th>\n",
              "      <td>1</td>\n",
              "      <td>1</td>\n",
              "      <td>female</td>\n",
              "      <td>60.0</td>\n",
              "      <td>1</td>\n",
              "      <td>0</td>\n",
              "      <td>56.4958</td>\n",
              "      <td>C</td>\n",
              "      <td>First</td>\n",
              "      <td>woman</td>\n",
              "      <td>False</td>\n",
              "      <td>D</td>\n",
              "      <td>Cherbourg</td>\n",
              "      <td>yes</td>\n",
              "      <td>False</td>\n",
              "    </tr>\n",
              "    <tr>\n",
              "      <th>438</th>\n",
              "      <td>0</td>\n",
              "      <td>1</td>\n",
              "      <td>male</td>\n",
              "      <td>64.0</td>\n",
              "      <td>1</td>\n",
              "      <td>4</td>\n",
              "      <td>56.4958</td>\n",
              "      <td>S</td>\n",
              "      <td>First</td>\n",
              "      <td>man</td>\n",
              "      <td>True</td>\n",
              "      <td>C</td>\n",
              "      <td>Southampton</td>\n",
              "      <td>no</td>\n",
              "      <td>False</td>\n",
              "    </tr>\n",
              "    <tr>\n",
              "      <th>456</th>\n",
              "      <td>0</td>\n",
              "      <td>1</td>\n",
              "      <td>male</td>\n",
              "      <td>65.0</td>\n",
              "      <td>0</td>\n",
              "      <td>0</td>\n",
              "      <td>26.5500</td>\n",
              "      <td>S</td>\n",
              "      <td>First</td>\n",
              "      <td>man</td>\n",
              "      <td>True</td>\n",
              "      <td>E</td>\n",
              "      <td>Southampton</td>\n",
              "      <td>no</td>\n",
              "      <td>True</td>\n",
              "    </tr>\n",
              "    <tr>\n",
              "      <th>467</th>\n",
              "      <td>0</td>\n",
              "      <td>1</td>\n",
              "      <td>male</td>\n",
              "      <td>56.0</td>\n",
              "      <td>0</td>\n",
              "      <td>0</td>\n",
              "      <td>26.5500</td>\n",
              "      <td>S</td>\n",
              "      <td>First</td>\n",
              "      <td>man</td>\n",
              "      <td>True</td>\n",
              "      <td>NaN</td>\n",
              "      <td>Southampton</td>\n",
              "      <td>no</td>\n",
              "      <td>True</td>\n",
              "    </tr>\n",
              "    <tr>\n",
              "      <th>483</th>\n",
              "      <td>1</td>\n",
              "      <td>3</td>\n",
              "      <td>female</td>\n",
              "      <td>63.0</td>\n",
              "      <td>0</td>\n",
              "      <td>0</td>\n",
              "      <td>9.5875</td>\n",
              "      <td>S</td>\n",
              "      <td>Third</td>\n",
              "      <td>woman</td>\n",
              "      <td>False</td>\n",
              "      <td>NaN</td>\n",
              "      <td>Southampton</td>\n",
              "      <td>yes</td>\n",
              "      <td>True</td>\n",
              "    </tr>\n",
              "    <tr>\n",
              "      <th>487</th>\n",
              "      <td>0</td>\n",
              "      <td>1</td>\n",
              "      <td>male</td>\n",
              "      <td>58.0</td>\n",
              "      <td>0</td>\n",
              "      <td>0</td>\n",
              "      <td>29.7000</td>\n",
              "      <td>C</td>\n",
              "      <td>First</td>\n",
              "      <td>man</td>\n",
              "      <td>True</td>\n",
              "      <td>B</td>\n",
              "      <td>Cherbourg</td>\n",
              "      <td>no</td>\n",
              "      <td>True</td>\n",
              "    </tr>\n",
              "    <tr>\n",
              "      <th>492</th>\n",
              "      <td>0</td>\n",
              "      <td>1</td>\n",
              "      <td>male</td>\n",
              "      <td>55.0</td>\n",
              "      <td>0</td>\n",
              "      <td>0</td>\n",
              "      <td>30.5000</td>\n",
              "      <td>S</td>\n",
              "      <td>First</td>\n",
              "      <td>man</td>\n",
              "      <td>True</td>\n",
              "      <td>C</td>\n",
              "      <td>Southampton</td>\n",
              "      <td>no</td>\n",
              "      <td>True</td>\n",
              "    </tr>\n",
              "    <tr>\n",
              "      <th>493</th>\n",
              "      <td>0</td>\n",
              "      <td>1</td>\n",
              "      <td>male</td>\n",
              "      <td>71.0</td>\n",
              "      <td>0</td>\n",
              "      <td>0</td>\n",
              "      <td>49.5042</td>\n",
              "      <td>C</td>\n",
              "      <td>First</td>\n",
              "      <td>man</td>\n",
              "      <td>True</td>\n",
              "      <td>NaN</td>\n",
              "      <td>Cherbourg</td>\n",
              "      <td>no</td>\n",
              "      <td>True</td>\n",
              "    </tr>\n",
              "    <tr>\n",
              "      <th>545</th>\n",
              "      <td>0</td>\n",
              "      <td>1</td>\n",
              "      <td>male</td>\n",
              "      <td>64.0</td>\n",
              "      <td>0</td>\n",
              "      <td>0</td>\n",
              "      <td>26.0000</td>\n",
              "      <td>S</td>\n",
              "      <td>First</td>\n",
              "      <td>man</td>\n",
              "      <td>True</td>\n",
              "      <td>NaN</td>\n",
              "      <td>Southampton</td>\n",
              "      <td>no</td>\n",
              "      <td>True</td>\n",
              "    </tr>\n",
              "    <tr>\n",
              "      <th>555</th>\n",
              "      <td>0</td>\n",
              "      <td>1</td>\n",
              "      <td>male</td>\n",
              "      <td>62.0</td>\n",
              "      <td>0</td>\n",
              "      <td>0</td>\n",
              "      <td>26.5500</td>\n",
              "      <td>S</td>\n",
              "      <td>First</td>\n",
              "      <td>man</td>\n",
              "      <td>True</td>\n",
              "      <td>NaN</td>\n",
              "      <td>Southampton</td>\n",
              "      <td>no</td>\n",
              "      <td>True</td>\n",
              "    </tr>\n",
              "    <tr>\n",
              "      <th>570</th>\n",
              "      <td>1</td>\n",
              "      <td>2</td>\n",
              "      <td>male</td>\n",
              "      <td>62.0</td>\n",
              "      <td>0</td>\n",
              "      <td>0</td>\n",
              "      <td>10.5000</td>\n",
              "      <td>S</td>\n",
              "      <td>Second</td>\n",
              "      <td>man</td>\n",
              "      <td>True</td>\n",
              "      <td>NaN</td>\n",
              "      <td>Southampton</td>\n",
              "      <td>yes</td>\n",
              "      <td>True</td>\n",
              "    </tr>\n",
              "    <tr>\n",
              "      <th>587</th>\n",
              "      <td>1</td>\n",
              "      <td>1</td>\n",
              "      <td>male</td>\n",
              "      <td>60.0</td>\n",
              "      <td>1</td>\n",
              "      <td>1</td>\n",
              "      <td>56.4958</td>\n",
              "      <td>C</td>\n",
              "      <td>First</td>\n",
              "      <td>man</td>\n",
              "      <td>True</td>\n",
              "      <td>B</td>\n",
              "      <td>Cherbourg</td>\n",
              "      <td>yes</td>\n",
              "      <td>False</td>\n",
              "    </tr>\n",
              "    <tr>\n",
              "      <th>625</th>\n",
              "      <td>0</td>\n",
              "      <td>1</td>\n",
              "      <td>male</td>\n",
              "      <td>61.0</td>\n",
              "      <td>0</td>\n",
              "      <td>0</td>\n",
              "      <td>32.3208</td>\n",
              "      <td>S</td>\n",
              "      <td>First</td>\n",
              "      <td>man</td>\n",
              "      <td>True</td>\n",
              "      <td>D</td>\n",
              "      <td>Southampton</td>\n",
              "      <td>no</td>\n",
              "      <td>True</td>\n",
              "    </tr>\n",
              "    <tr>\n",
              "      <th>626</th>\n",
              "      <td>0</td>\n",
              "      <td>2</td>\n",
              "      <td>male</td>\n",
              "      <td>57.0</td>\n",
              "      <td>0</td>\n",
              "      <td>0</td>\n",
              "      <td>12.3500</td>\n",
              "      <td>Q</td>\n",
              "      <td>Second</td>\n",
              "      <td>man</td>\n",
              "      <td>True</td>\n",
              "      <td>NaN</td>\n",
              "      <td>Queenstown</td>\n",
              "      <td>no</td>\n",
              "      <td>True</td>\n",
              "    </tr>\n",
              "    <tr>\n",
              "      <th>630</th>\n",
              "      <td>1</td>\n",
              "      <td>1</td>\n",
              "      <td>male</td>\n",
              "      <td>80.0</td>\n",
              "      <td>0</td>\n",
              "      <td>0</td>\n",
              "      <td>30.0000</td>\n",
              "      <td>S</td>\n",
              "      <td>First</td>\n",
              "      <td>man</td>\n",
              "      <td>True</td>\n",
              "      <td>A</td>\n",
              "      <td>Southampton</td>\n",
              "      <td>yes</td>\n",
              "      <td>True</td>\n",
              "    </tr>\n",
              "    <tr>\n",
              "      <th>647</th>\n",
              "      <td>1</td>\n",
              "      <td>1</td>\n",
              "      <td>male</td>\n",
              "      <td>56.0</td>\n",
              "      <td>0</td>\n",
              "      <td>0</td>\n",
              "      <td>35.5000</td>\n",
              "      <td>C</td>\n",
              "      <td>First</td>\n",
              "      <td>man</td>\n",
              "      <td>True</td>\n",
              "      <td>A</td>\n",
              "      <td>Cherbourg</td>\n",
              "      <td>yes</td>\n",
              "      <td>True</td>\n",
              "    </tr>\n",
              "    <tr>\n",
              "      <th>659</th>\n",
              "      <td>0</td>\n",
              "      <td>1</td>\n",
              "      <td>male</td>\n",
              "      <td>58.0</td>\n",
              "      <td>0</td>\n",
              "      <td>2</td>\n",
              "      <td>56.4958</td>\n",
              "      <td>C</td>\n",
              "      <td>First</td>\n",
              "      <td>man</td>\n",
              "      <td>True</td>\n",
              "      <td>D</td>\n",
              "      <td>Cherbourg</td>\n",
              "      <td>no</td>\n",
              "      <td>False</td>\n",
              "    </tr>\n",
              "    <tr>\n",
              "      <th>672</th>\n",
              "      <td>0</td>\n",
              "      <td>2</td>\n",
              "      <td>male</td>\n",
              "      <td>70.0</td>\n",
              "      <td>0</td>\n",
              "      <td>0</td>\n",
              "      <td>10.5000</td>\n",
              "      <td>S</td>\n",
              "      <td>Second</td>\n",
              "      <td>man</td>\n",
              "      <td>True</td>\n",
              "      <td>NaN</td>\n",
              "      <td>Southampton</td>\n",
              "      <td>no</td>\n",
              "      <td>True</td>\n",
              "    </tr>\n",
              "    <tr>\n",
              "      <th>684</th>\n",
              "      <td>0</td>\n",
              "      <td>2</td>\n",
              "      <td>male</td>\n",
              "      <td>60.0</td>\n",
              "      <td>1</td>\n",
              "      <td>1</td>\n",
              "      <td>39.0000</td>\n",
              "      <td>S</td>\n",
              "      <td>Second</td>\n",
              "      <td>man</td>\n",
              "      <td>True</td>\n",
              "      <td>NaN</td>\n",
              "      <td>Southampton</td>\n",
              "      <td>no</td>\n",
              "      <td>False</td>\n",
              "    </tr>\n",
              "    <tr>\n",
              "      <th>694</th>\n",
              "      <td>0</td>\n",
              "      <td>1</td>\n",
              "      <td>male</td>\n",
              "      <td>60.0</td>\n",
              "      <td>0</td>\n",
              "      <td>0</td>\n",
              "      <td>26.5500</td>\n",
              "      <td>S</td>\n",
              "      <td>First</td>\n",
              "      <td>man</td>\n",
              "      <td>True</td>\n",
              "      <td>NaN</td>\n",
              "      <td>Southampton</td>\n",
              "      <td>no</td>\n",
              "      <td>True</td>\n",
              "    </tr>\n",
              "    <tr>\n",
              "      <th>745</th>\n",
              "      <td>0</td>\n",
              "      <td>1</td>\n",
              "      <td>male</td>\n",
              "      <td>70.0</td>\n",
              "      <td>1</td>\n",
              "      <td>1</td>\n",
              "      <td>56.4958</td>\n",
              "      <td>S</td>\n",
              "      <td>First</td>\n",
              "      <td>man</td>\n",
              "      <td>True</td>\n",
              "      <td>B</td>\n",
              "      <td>Southampton</td>\n",
              "      <td>no</td>\n",
              "      <td>False</td>\n",
              "    </tr>\n",
              "    <tr>\n",
              "      <th>772</th>\n",
              "      <td>0</td>\n",
              "      <td>2</td>\n",
              "      <td>female</td>\n",
              "      <td>57.0</td>\n",
              "      <td>0</td>\n",
              "      <td>0</td>\n",
              "      <td>10.5000</td>\n",
              "      <td>S</td>\n",
              "      <td>Second</td>\n",
              "      <td>woman</td>\n",
              "      <td>False</td>\n",
              "      <td>E</td>\n",
              "      <td>Southampton</td>\n",
              "      <td>no</td>\n",
              "      <td>True</td>\n",
              "    </tr>\n",
              "    <tr>\n",
              "      <th>829</th>\n",
              "      <td>1</td>\n",
              "      <td>1</td>\n",
              "      <td>female</td>\n",
              "      <td>62.0</td>\n",
              "      <td>0</td>\n",
              "      <td>0</td>\n",
              "      <td>56.4958</td>\n",
              "      <td>NaN</td>\n",
              "      <td>First</td>\n",
              "      <td>woman</td>\n",
              "      <td>False</td>\n",
              "      <td>B</td>\n",
              "      <td>NaN</td>\n",
              "      <td>yes</td>\n",
              "      <td>True</td>\n",
              "    </tr>\n",
              "    <tr>\n",
              "      <th>851</th>\n",
              "      <td>0</td>\n",
              "      <td>3</td>\n",
              "      <td>male</td>\n",
              "      <td>74.0</td>\n",
              "      <td>0</td>\n",
              "      <td>0</td>\n",
              "      <td>7.7750</td>\n",
              "      <td>S</td>\n",
              "      <td>Third</td>\n",
              "      <td>man</td>\n",
              "      <td>True</td>\n",
              "      <td>NaN</td>\n",
              "      <td>Southampton</td>\n",
              "      <td>no</td>\n",
              "      <td>True</td>\n",
              "    </tr>\n",
              "    <tr>\n",
              "      <th>879</th>\n",
              "      <td>1</td>\n",
              "      <td>1</td>\n",
              "      <td>female</td>\n",
              "      <td>56.0</td>\n",
              "      <td>0</td>\n",
              "      <td>1</td>\n",
              "      <td>56.4958</td>\n",
              "      <td>C</td>\n",
              "      <td>First</td>\n",
              "      <td>woman</td>\n",
              "      <td>False</td>\n",
              "      <td>C</td>\n",
              "      <td>Cherbourg</td>\n",
              "      <td>yes</td>\n",
              "      <td>False</td>\n",
              "    </tr>\n",
              "  </tbody>\n",
              "</table>\n",
              "</div>"
            ],
            "text/plain": [
              "     survived  pclass     sex   age  ...  deck  embark_town  alive  alone\n",
              "11          1       1  female  58.0  ...     C  Southampton    yes   True\n",
              "15          1       2  female  55.0  ...   NaN  Southampton    yes   True\n",
              "33          0       2    male  66.0  ...   NaN  Southampton     no   True\n",
              "54          0       1    male  65.0  ...     B    Cherbourg     no  False\n",
              "94          0       3    male  59.0  ...   NaN  Southampton     no   True\n",
              "96          0       1    male  71.0  ...     A    Cherbourg     no   True\n",
              "116         0       3    male  70.5  ...   NaN   Queenstown     no   True\n",
              "152         0       3    male  55.5  ...   NaN  Southampton     no   True\n",
              "170         0       1    male  61.0  ...     B  Southampton     no   True\n",
              "174         0       1    male  56.0  ...     A    Cherbourg     no   True\n",
              "195         1       1  female  58.0  ...     B    Cherbourg    yes   True\n",
              "232         0       2    male  59.0  ...   NaN  Southampton     no   True\n",
              "252         0       1    male  62.0  ...     C  Southampton     no   True\n",
              "268         1       1  female  58.0  ...     C  Southampton    yes  False\n",
              "275         1       1  female  63.0  ...     D  Southampton    yes  False\n",
              "280         0       3    male  65.0  ...   NaN   Queenstown     no   True\n",
              "326         0       3    male  61.0  ...   NaN  Southampton     no   True\n",
              "366         1       1  female  60.0  ...     D    Cherbourg    yes  False\n",
              "438         0       1    male  64.0  ...     C  Southampton     no  False\n",
              "456         0       1    male  65.0  ...     E  Southampton     no   True\n",
              "467         0       1    male  56.0  ...   NaN  Southampton     no   True\n",
              "483         1       3  female  63.0  ...   NaN  Southampton    yes   True\n",
              "487         0       1    male  58.0  ...     B    Cherbourg     no   True\n",
              "492         0       1    male  55.0  ...     C  Southampton     no   True\n",
              "493         0       1    male  71.0  ...   NaN    Cherbourg     no   True\n",
              "545         0       1    male  64.0  ...   NaN  Southampton     no   True\n",
              "555         0       1    male  62.0  ...   NaN  Southampton     no   True\n",
              "570         1       2    male  62.0  ...   NaN  Southampton    yes   True\n",
              "587         1       1    male  60.0  ...     B    Cherbourg    yes  False\n",
              "625         0       1    male  61.0  ...     D  Southampton     no   True\n",
              "626         0       2    male  57.0  ...   NaN   Queenstown     no   True\n",
              "630         1       1    male  80.0  ...     A  Southampton    yes   True\n",
              "647         1       1    male  56.0  ...     A    Cherbourg    yes   True\n",
              "659         0       1    male  58.0  ...     D    Cherbourg     no  False\n",
              "672         0       2    male  70.0  ...   NaN  Southampton     no   True\n",
              "684         0       2    male  60.0  ...   NaN  Southampton     no  False\n",
              "694         0       1    male  60.0  ...   NaN  Southampton     no   True\n",
              "745         0       1    male  70.0  ...     B  Southampton     no  False\n",
              "772         0       2  female  57.0  ...     E  Southampton     no   True\n",
              "829         1       1  female  62.0  ...     B          NaN    yes   True\n",
              "851         0       3    male  74.0  ...   NaN  Southampton     no   True\n",
              "879         1       1  female  56.0  ...     C    Cherbourg    yes  False\n",
              "\n",
              "[42 rows x 15 columns]"
            ]
          },
          "metadata": {
            "tags": []
          },
          "execution_count": 767
        }
      ]
    },
    {
      "cell_type": "code",
      "metadata": {
        "colab": {
          "base_uri": "https://localhost:8080/",
          "height": 402
        },
        "id": "dul3PzwJ2ZEO",
        "outputId": "1587441d-fce1-4a03-a876-08fa5a52b6ad"
      },
      "source": [
        "df['age']=np.where(df['age']>54.5,df['age'].quantile(0.95),df['age'])\n",
        "df"
      ],
      "id": "dul3PzwJ2ZEO",
      "execution_count": 768,
      "outputs": [
        {
          "output_type": "execute_result",
          "data": {
            "text/html": [
              "<div>\n",
              "<style scoped>\n",
              "    .dataframe tbody tr th:only-of-type {\n",
              "        vertical-align: middle;\n",
              "    }\n",
              "\n",
              "    .dataframe tbody tr th {\n",
              "        vertical-align: top;\n",
              "    }\n",
              "\n",
              "    .dataframe thead th {\n",
              "        text-align: right;\n",
              "    }\n",
              "</style>\n",
              "<table border=\"1\" class=\"dataframe\">\n",
              "  <thead>\n",
              "    <tr style=\"text-align: right;\">\n",
              "      <th></th>\n",
              "      <th>survived</th>\n",
              "      <th>pclass</th>\n",
              "      <th>sex</th>\n",
              "      <th>age</th>\n",
              "      <th>sibsp</th>\n",
              "      <th>parch</th>\n",
              "      <th>fare</th>\n",
              "      <th>embarked</th>\n",
              "      <th>class</th>\n",
              "      <th>who</th>\n",
              "      <th>adult_male</th>\n",
              "      <th>deck</th>\n",
              "      <th>embark_town</th>\n",
              "      <th>alive</th>\n",
              "      <th>alone</th>\n",
              "    </tr>\n",
              "  </thead>\n",
              "  <tbody>\n",
              "    <tr>\n",
              "      <th>0</th>\n",
              "      <td>0</td>\n",
              "      <td>3</td>\n",
              "      <td>male</td>\n",
              "      <td>22.000000</td>\n",
              "      <td>1</td>\n",
              "      <td>0</td>\n",
              "      <td>7.2500</td>\n",
              "      <td>S</td>\n",
              "      <td>Third</td>\n",
              "      <td>man</td>\n",
              "      <td>True</td>\n",
              "      <td>NaN</td>\n",
              "      <td>Southampton</td>\n",
              "      <td>no</td>\n",
              "      <td>False</td>\n",
              "    </tr>\n",
              "    <tr>\n",
              "      <th>1</th>\n",
              "      <td>1</td>\n",
              "      <td>1</td>\n",
              "      <td>female</td>\n",
              "      <td>38.000000</td>\n",
              "      <td>1</td>\n",
              "      <td>0</td>\n",
              "      <td>56.4958</td>\n",
              "      <td>C</td>\n",
              "      <td>First</td>\n",
              "      <td>woman</td>\n",
              "      <td>False</td>\n",
              "      <td>C</td>\n",
              "      <td>Cherbourg</td>\n",
              "      <td>yes</td>\n",
              "      <td>False</td>\n",
              "    </tr>\n",
              "    <tr>\n",
              "      <th>2</th>\n",
              "      <td>1</td>\n",
              "      <td>3</td>\n",
              "      <td>female</td>\n",
              "      <td>26.000000</td>\n",
              "      <td>0</td>\n",
              "      <td>0</td>\n",
              "      <td>7.9250</td>\n",
              "      <td>S</td>\n",
              "      <td>Third</td>\n",
              "      <td>woman</td>\n",
              "      <td>False</td>\n",
              "      <td>NaN</td>\n",
              "      <td>Southampton</td>\n",
              "      <td>yes</td>\n",
              "      <td>True</td>\n",
              "    </tr>\n",
              "    <tr>\n",
              "      <th>3</th>\n",
              "      <td>1</td>\n",
              "      <td>1</td>\n",
              "      <td>female</td>\n",
              "      <td>35.000000</td>\n",
              "      <td>1</td>\n",
              "      <td>0</td>\n",
              "      <td>53.1000</td>\n",
              "      <td>S</td>\n",
              "      <td>First</td>\n",
              "      <td>woman</td>\n",
              "      <td>False</td>\n",
              "      <td>C</td>\n",
              "      <td>Southampton</td>\n",
              "      <td>yes</td>\n",
              "      <td>False</td>\n",
              "    </tr>\n",
              "    <tr>\n",
              "      <th>4</th>\n",
              "      <td>0</td>\n",
              "      <td>3</td>\n",
              "      <td>male</td>\n",
              "      <td>35.000000</td>\n",
              "      <td>0</td>\n",
              "      <td>0</td>\n",
              "      <td>8.0500</td>\n",
              "      <td>S</td>\n",
              "      <td>Third</td>\n",
              "      <td>man</td>\n",
              "      <td>True</td>\n",
              "      <td>NaN</td>\n",
              "      <td>Southampton</td>\n",
              "      <td>no</td>\n",
              "      <td>True</td>\n",
              "    </tr>\n",
              "    <tr>\n",
              "      <th>...</th>\n",
              "      <td>...</td>\n",
              "      <td>...</td>\n",
              "      <td>...</td>\n",
              "      <td>...</td>\n",
              "      <td>...</td>\n",
              "      <td>...</td>\n",
              "      <td>...</td>\n",
              "      <td>...</td>\n",
              "      <td>...</td>\n",
              "      <td>...</td>\n",
              "      <td>...</td>\n",
              "      <td>...</td>\n",
              "      <td>...</td>\n",
              "      <td>...</td>\n",
              "      <td>...</td>\n",
              "    </tr>\n",
              "    <tr>\n",
              "      <th>886</th>\n",
              "      <td>0</td>\n",
              "      <td>2</td>\n",
              "      <td>male</td>\n",
              "      <td>27.000000</td>\n",
              "      <td>0</td>\n",
              "      <td>0</td>\n",
              "      <td>13.0000</td>\n",
              "      <td>S</td>\n",
              "      <td>Second</td>\n",
              "      <td>man</td>\n",
              "      <td>True</td>\n",
              "      <td>NaN</td>\n",
              "      <td>Southampton</td>\n",
              "      <td>no</td>\n",
              "      <td>True</td>\n",
              "    </tr>\n",
              "    <tr>\n",
              "      <th>887</th>\n",
              "      <td>1</td>\n",
              "      <td>1</td>\n",
              "      <td>female</td>\n",
              "      <td>19.000000</td>\n",
              "      <td>0</td>\n",
              "      <td>0</td>\n",
              "      <td>30.0000</td>\n",
              "      <td>S</td>\n",
              "      <td>First</td>\n",
              "      <td>woman</td>\n",
              "      <td>False</td>\n",
              "      <td>B</td>\n",
              "      <td>Southampton</td>\n",
              "      <td>yes</td>\n",
              "      <td>True</td>\n",
              "    </tr>\n",
              "    <tr>\n",
              "      <th>888</th>\n",
              "      <td>0</td>\n",
              "      <td>3</td>\n",
              "      <td>female</td>\n",
              "      <td>29.699118</td>\n",
              "      <td>1</td>\n",
              "      <td>2</td>\n",
              "      <td>23.4500</td>\n",
              "      <td>S</td>\n",
              "      <td>Third</td>\n",
              "      <td>woman</td>\n",
              "      <td>False</td>\n",
              "      <td>NaN</td>\n",
              "      <td>Southampton</td>\n",
              "      <td>no</td>\n",
              "      <td>False</td>\n",
              "    </tr>\n",
              "    <tr>\n",
              "      <th>889</th>\n",
              "      <td>1</td>\n",
              "      <td>1</td>\n",
              "      <td>male</td>\n",
              "      <td>26.000000</td>\n",
              "      <td>0</td>\n",
              "      <td>0</td>\n",
              "      <td>30.0000</td>\n",
              "      <td>C</td>\n",
              "      <td>First</td>\n",
              "      <td>man</td>\n",
              "      <td>True</td>\n",
              "      <td>C</td>\n",
              "      <td>Cherbourg</td>\n",
              "      <td>yes</td>\n",
              "      <td>True</td>\n",
              "    </tr>\n",
              "    <tr>\n",
              "      <th>890</th>\n",
              "      <td>0</td>\n",
              "      <td>3</td>\n",
              "      <td>male</td>\n",
              "      <td>32.000000</td>\n",
              "      <td>0</td>\n",
              "      <td>0</td>\n",
              "      <td>7.7500</td>\n",
              "      <td>Q</td>\n",
              "      <td>Third</td>\n",
              "      <td>man</td>\n",
              "      <td>True</td>\n",
              "      <td>NaN</td>\n",
              "      <td>Queenstown</td>\n",
              "      <td>no</td>\n",
              "      <td>True</td>\n",
              "    </tr>\n",
              "  </tbody>\n",
              "</table>\n",
              "<p>891 rows × 15 columns</p>\n",
              "</div>"
            ],
            "text/plain": [
              "     survived  pclass     sex        age  ...  deck  embark_town  alive  alone\n",
              "0           0       3    male  22.000000  ...   NaN  Southampton     no  False\n",
              "1           1       1  female  38.000000  ...     C    Cherbourg    yes  False\n",
              "2           1       3  female  26.000000  ...   NaN  Southampton    yes   True\n",
              "3           1       1  female  35.000000  ...     C  Southampton    yes  False\n",
              "4           0       3    male  35.000000  ...   NaN  Southampton     no   True\n",
              "..        ...     ...     ...        ...  ...   ...          ...    ...    ...\n",
              "886         0       2    male  27.000000  ...   NaN  Southampton     no   True\n",
              "887         1       1  female  19.000000  ...     B  Southampton    yes   True\n",
              "888         0       3  female  29.699118  ...   NaN  Southampton     no  False\n",
              "889         1       1    male  26.000000  ...     C    Cherbourg    yes   True\n",
              "890         0       3    male  32.000000  ...   NaN   Queenstown     no   True\n",
              "\n",
              "[891 rows x 15 columns]"
            ]
          },
          "metadata": {
            "tags": []
          },
          "execution_count": 768
        }
      ]
    },
    {
      "cell_type": "code",
      "metadata": {
        "colab": {
          "base_uri": "https://localhost:8080/",
          "height": 285
        },
        "id": "89ZCoNPg2tWc",
        "outputId": "a31c5c4d-7b29-490a-b315-88f59553119c"
      },
      "source": [
        "df.boxplot(column=['fare'])\n"
      ],
      "id": "89ZCoNPg2tWc",
      "execution_count": 769,
      "outputs": [
        {
          "output_type": "execute_result",
          "data": {
            "text/plain": [
              "<matplotlib.axes._subplots.AxesSubplot at 0x7f5d4feec650>"
            ]
          },
          "metadata": {
            "tags": []
          },
          "execution_count": 769
        },
        {
          "output_type": "display_data",
          "data": {
            "image/png": "[encoded data removed]",
            "text/plain": [
              "<Figure size 432x288 with 1 Axes>"
            ]
          },
          "metadata": {
            "tags": []
          }
        }
      ]
    },
    {
      "cell_type": "code",
      "metadata": {
        "colab": {
          "base_uri": "https://localhost:8080/",
          "height": 285
        },
        "id": "EXEx7oJQ2xsO",
        "outputId": "e113896a-8376-4914-c052-36acc065f380"
      },
      "source": [
        "df.boxplot(column=['age'])"
      ],
      "id": "EXEx7oJQ2xsO",
      "execution_count": 770,
      "outputs": [
        {
          "output_type": "execute_result",
          "data": {
            "text/plain": [
              "<matplotlib.axes._subplots.AxesSubplot at 0x7f5d4f924e50>"
            ]
          },
          "metadata": {
            "tags": []
          },
          "execution_count": 770
        },
        {
          "output_type": "display_data",
          "data": {
            "image/png": "[encoded data removed]",
            "text/plain": [
              "<Figure size 432x288 with 1 Axes>"
            ]
          },
          "metadata": {
            "tags": []
          }
        }
      ]
    },
    {
      "cell_type": "code",
      "metadata": {
        "colab": {
          "base_uri": "https://localhost:8080/"
        },
        "id": "jQhLGsvX25hz",
        "outputId": "f7b5fe7d-ebbc-4ec0-b33e-0ea3eb030fdc"
      },
      "source": [
        "obj = df.dtypes == np.object\n",
        "print(obj)"
      ],
      "id": "jQhLGsvX25hz",
      "execution_count": 771,
      "outputs": [
        {
          "output_type": "stream",
          "text": [
            "survived       False\n",
            "pclass         False\n",
            "sex             True\n",
            "age            False\n",
            "sibsp          False\n",
            "parch          False\n",
            "fare           False\n",
            "embarked        True\n",
            "class          False\n",
            "who             True\n",
            "adult_male     False\n",
            "deck           False\n",
            "embark_town     True\n",
            "alive           True\n",
            "alone          False\n",
            "dtype: bool\n"
          ],
          "name": "stdout"
        }
      ]
    },
    {
      "cell_type": "code",
      "metadata": {
        "colab": {
          "base_uri": "https://localhost:8080/"
        },
        "id": "aYIh8OsB3PoB",
        "outputId": "174f34f2-83b0-4cc4-8c5f-414a573df627"
      },
      "source": [
        "df.columns"
      ],
      "id": "aYIh8OsB3PoB",
      "execution_count": 772,
      "outputs": [
        {
          "output_type": "execute_result",
          "data": {
            "text/plain": [
              "Index(['survived', 'pclass', 'sex', 'age', 'sibsp', 'parch', 'fare',\n",
              "       'embarked', 'class', 'who', 'adult_male', 'deck', 'embark_town',\n",
              "       'alive', 'alone'],\n",
              "      dtype='object')"
            ]
          },
          "metadata": {
            "tags": []
          },
          "execution_count": 772
        }
      ]
    },
    {
      "cell_type": "code",
      "metadata": {
        "colab": {
          "base_uri": "https://localhost:8080/",
          "height": 284
        },
        "id": "vIa2EA-HyOHF",
        "outputId": "26ed006a-6060-4916-8543-fceaca805296"
      },
      "source": [
        "df.corr()"
      ],
      "id": "vIa2EA-HyOHF",
      "execution_count": 773,
      "outputs": [
        {
          "output_type": "execute_result",
          "data": {
            "text/html": [
              "<div>\n",
              "<style scoped>\n",
              "    .dataframe tbody tr th:only-of-type {\n",
              "        vertical-align: middle;\n",
              "    }\n",
              "\n",
              "    .dataframe tbody tr th {\n",
              "        vertical-align: top;\n",
              "    }\n",
              "\n",
              "    .dataframe thead th {\n",
              "        text-align: right;\n",
              "    }\n",
              "</style>\n",
              "<table border=\"1\" class=\"dataframe\">\n",
              "  <thead>\n",
              "    <tr style=\"text-align: right;\">\n",
              "      <th></th>\n",
              "      <th>survived</th>\n",
              "      <th>pclass</th>\n",
              "      <th>age</th>\n",
              "      <th>sibsp</th>\n",
              "      <th>parch</th>\n",
              "      <th>fare</th>\n",
              "      <th>adult_male</th>\n",
              "      <th>alone</th>\n",
              "    </tr>\n",
              "  </thead>\n",
              "  <tbody>\n",
              "    <tr>\n",
              "      <th>survived</th>\n",
              "      <td>1.000000</td>\n",
              "      <td>-0.338481</td>\n",
              "      <td>-0.067470</td>\n",
              "      <td>-0.035322</td>\n",
              "      <td>0.081629</td>\n",
              "      <td>0.317899</td>\n",
              "      <td>-0.557080</td>\n",
              "      <td>-0.203367</td>\n",
              "    </tr>\n",
              "    <tr>\n",
              "      <th>pclass</th>\n",
              "      <td>-0.338481</td>\n",
              "      <td>1.000000</td>\n",
              "      <td>-0.329164</td>\n",
              "      <td>0.083081</td>\n",
              "      <td>0.018443</td>\n",
              "      <td>-0.716815</td>\n",
              "      <td>0.094035</td>\n",
              "      <td>0.135207</td>\n",
              "    </tr>\n",
              "    <tr>\n",
              "      <th>age</th>\n",
              "      <td>-0.067470</td>\n",
              "      <td>-0.329164</td>\n",
              "      <td>1.000000</td>\n",
              "      <td>-0.239933</td>\n",
              "      <td>-0.188730</td>\n",
              "      <td>0.132956</td>\n",
              "      <td>0.256601</td>\n",
              "      <td>0.182122</td>\n",
              "    </tr>\n",
              "    <tr>\n",
              "      <th>sibsp</th>\n",
              "      <td>-0.035322</td>\n",
              "      <td>0.083081</td>\n",
              "      <td>-0.239933</td>\n",
              "      <td>1.000000</td>\n",
              "      <td>0.414838</td>\n",
              "      <td>0.340400</td>\n",
              "      <td>-0.253586</td>\n",
              "      <td>-0.584471</td>\n",
              "    </tr>\n",
              "    <tr>\n",
              "      <th>parch</th>\n",
              "      <td>0.081629</td>\n",
              "      <td>0.018443</td>\n",
              "      <td>-0.188730</td>\n",
              "      <td>0.414838</td>\n",
              "      <td>1.000000</td>\n",
              "      <td>0.307713</td>\n",
              "      <td>-0.349943</td>\n",
              "      <td>-0.583398</td>\n",
              "    </tr>\n",
              "    <tr>\n",
              "      <th>fare</th>\n",
              "      <td>0.317899</td>\n",
              "      <td>-0.716815</td>\n",
              "      <td>0.132956</td>\n",
              "      <td>0.340400</td>\n",
              "      <td>0.307713</td>\n",
              "      <td>1.000000</td>\n",
              "      <td>-0.260050</td>\n",
              "      <td>-0.470751</td>\n",
              "    </tr>\n",
              "    <tr>\n",
              "      <th>adult_male</th>\n",
              "      <td>-0.557080</td>\n",
              "      <td>0.094035</td>\n",
              "      <td>0.256601</td>\n",
              "      <td>-0.253586</td>\n",
              "      <td>-0.349943</td>\n",
              "      <td>-0.260050</td>\n",
              "      <td>1.000000</td>\n",
              "      <td>0.404744</td>\n",
              "    </tr>\n",
              "    <tr>\n",
              "      <th>alone</th>\n",
              "      <td>-0.203367</td>\n",
              "      <td>0.135207</td>\n",
              "      <td>0.182122</td>\n",
              "      <td>-0.584471</td>\n",
              "      <td>-0.583398</td>\n",
              "      <td>-0.470751</td>\n",
              "      <td>0.404744</td>\n",
              "      <td>1.000000</td>\n",
              "    </tr>\n",
              "  </tbody>\n",
              "</table>\n",
              "</div>"
            ],
            "text/plain": [
              "            survived    pclass       age  ...      fare  adult_male     alone\n",
              "survived    1.000000 -0.338481 -0.067470  ...  0.317899   -0.557080 -0.203367\n",
              "pclass     -0.338481  1.000000 -0.329164  ... -0.716815    0.094035  0.135207\n",
              "age        -0.067470 -0.329164  1.000000  ...  0.132956    0.256601  0.182122\n",
              "sibsp      -0.035322  0.083081 -0.239933  ...  0.340400   -0.253586 -0.584471\n",
              "parch       0.081629  0.018443 -0.188730  ...  0.307713   -0.349943 -0.583398\n",
              "fare        0.317899 -0.716815  0.132956  ...  1.000000   -0.260050 -0.470751\n",
              "adult_male -0.557080  0.094035  0.256601  ... -0.260050    1.000000  0.404744\n",
              "alone      -0.203367  0.135207  0.182122  ... -0.470751    0.404744  1.000000\n",
              "\n",
              "[8 rows x 8 columns]"
            ]
          },
          "metadata": {
            "tags": []
          },
          "execution_count": 773
        }
      ]
    },
    {
      "cell_type": "markdown",
      "metadata": {
        "id": "a0f244cf-9d33-42b7-a6eb-938a16315881"
      },
      "source": [
        "### HEATMAP"
      ],
      "id": "a0f244cf-9d33-42b7-a6eb-938a16315881"
    },
    {
      "cell_type": "code",
      "metadata": {
        "id": "e14eda82-25ec-4044-8f64-46e542a682dc",
        "colab": {
          "base_uri": "https://localhost:8080/",
          "height": 340
        },
        "outputId": "38b6bff3-1a0c-4ffc-e91f-6bbb7fc5fc65"
      },
      "source": [
        "sns.heatmap(df.corr(), cmap = 'coolwarm')"
      ],
      "id": "e14eda82-25ec-4044-8f64-46e542a682dc",
      "execution_count": 775,
      "outputs": [
        {
          "output_type": "execute_result",
          "data": {
            "text/plain": [
              "<matplotlib.axes._subplots.AxesSubplot at 0x7f5d4f649bd0>"
            ]
          },
          "metadata": {
            "tags": []
          },
          "execution_count": 775
        },
        {
          "output_type": "display_data",
          "data": {
            "image/png": "[encoded data removed]",
            "text/plain": [
              "<Figure size 432x288 with 2 Axes>"
            ]
          },
          "metadata": {
            "tags": []
          }
        }
      ]
    },
    {
      "cell_type": "code",
      "metadata": {
        "id": "2bb1c3ac-35b7-4947-b4df-5ffed74bae1f",
        "colab": {
          "base_uri": "https://localhost:8080/",
          "height": 302
        },
        "outputId": "d5c36c4d-0d22-4f5e-f264-49f67be4995c"
      },
      "source": [
        "sns.countplot(x = 'sex', hue = 'pclass' ,  data = df)"
      ],
      "id": "2bb1c3ac-35b7-4947-b4df-5ffed74bae1f",
      "execution_count": 776,
      "outputs": [
        {
          "output_type": "execute_result",
          "data": {
            "text/plain": [
              "<matplotlib.axes._subplots.AxesSubplot at 0x7f5d4f69e2d0>"
            ]
          },
          "metadata": {
            "tags": []
          },
          "execution_count": 776
        },
        {
          "output_type": "display_data",
          "data": {
            "image/png": "[encoded data removed]",
            "text/plain": [
              "<Figure size 432x288 with 1 Axes>"
            ]
          },
          "metadata": {
            "tags": []
          }
        }
      ]
    },
    {
      "cell_type": "code",
      "metadata": {
        "id": "bacde817-4405-4554-8835-73861d689ccc",
        "colab": {
          "base_uri": "https://localhost:8080/",
          "height": 399
        },
        "outputId": "f363c6d7-5762-4335-b787-7266ba29bbf2"
      },
      "source": [
        "sns.catplot(x='sex', col='survived', kind='count', data= df)"
      ],
      "id": "bacde817-4405-4554-8835-73861d689ccc",
      "execution_count": 777,
      "outputs": [
        {
          "output_type": "execute_result",
          "data": {
            "text/plain": [
              "<seaborn.axisgrid.FacetGrid at 0x7f5d4f598750>"
            ]
          },
          "metadata": {
            "tags": []
          },
          "execution_count": 777
        },
        {
          "output_type": "display_data",
          "data": {
            "image/png": "[encoded data removed]",
            "text/plain": [
              "<Figure size 720x360 with 2 Axes>"
            ]
          },
          "metadata": {
            "tags": []
          }
        }
      ]
    },
    {
      "cell_type": "code",
      "metadata": {
        "id": "bcad46b5-ad4b-4246-8a4c-b050d81c2f74",
        "colab": {
          "base_uri": "https://localhost:8080/"
        },
        "outputId": "ef0d7867-2e66-40f2-d724-8483b4171a8b"
      },
      "source": [
        "sns.pairplot(df, kind= 'reg', diag_kind= 'kde', palette= 'Wistia', hue= 'sex')"
      ],
      "id": "bcad46b5-ad4b-4246-8a4c-b050d81c2f74",
      "execution_count": null,
      "outputs": [
        {
          "output_type": "stream",
          "text": [
            "/usr/local/lib/python3.7/dist-packages/seaborn/distributions.py:306: UserWarning: Dataset has 0 variance; skipping density estimate.\n",
            "  warnings.warn(msg, UserWarning)\n"
          ],
          "name": "stderr"
        },
        {
          "output_type": "execute_result",
          "data": {
            "text/plain": [
              "<seaborn.axisgrid.PairGrid at 0x7f5d4f4de450>"
            ]
          },
          "metadata": {
            "tags": []
          },
          "execution_count": 778
        }
      ]
    },
    {
      "cell_type": "markdown",
      "metadata": {
        "id": "12c2636c-336d-4b99-a6a2-32411a70ca66"
      },
      "source": [
        "### Data Cleaning"
      ],
      "id": "12c2636c-336d-4b99-a6a2-32411a70ca66"
    },
    {
      "cell_type": "code",
      "metadata": {
        "id": "5239c909-c787-4eb7-b14e-acf33e7c4e9c"
      },
      "source": [
        "df.dropna(inplace=True)"
      ],
      "id": "5239c909-c787-4eb7-b14e-acf33e7c4e9c",
      "execution_count": null,
      "outputs": []
    },
    {
      "cell_type": "code",
      "metadata": {
        "id": "kZU4GU5SUoi8"
      },
      "source": [
        "df.isnull().sum()"
      ],
      "id": "kZU4GU5SUoi8",
      "execution_count": null,
      "outputs": []
    },
    {
      "cell_type": "code",
      "metadata": {
        "id": "d0ef8744-5cb1-45de-8fc9-a89a169d8538"
      },
      "source": [
        "df.shape"
      ],
      "id": "d0ef8744-5cb1-45de-8fc9-a89a169d8538",
      "execution_count": null,
      "outputs": []
    },
    {
      "cell_type": "code",
      "metadata": {
        "id": "yTbP7Qm8Zv1r"
      },
      "source": [
        "def drawPieChart(labels,\n",
        "                 count,\n",
        "                 title=' '):\n",
        "\n",
        "    # Pie chart, where the slices will be ordered and plotted counter-clockwise:\n",
        "    _, ax1 = plt.subplots()\n",
        "    ax1.set_title(title)\n",
        "    explode = [0.1 for i in labels]\n",
        "    ax1.pie(count, labels=labels,\n",
        "            autopct=lambda perc: f'{perc:.2f}% ({int(perc * sum(count)/100)})',\n",
        "            shadow=True, explode=explode,\n",
        "            pctdistance=0.7, startangle=90)\n",
        "    # Equal aspect ratio ensures that pie is drawn as a circle.\n",
        "    ax1.axis('equal')\n",
        "\n",
        "    plt.show()\n",
        "\n",
        "\n",
        "def getFrequenciesInCategoricalColumn(dataframe, columnName):\n",
        "    labels = dataframe[columnName].unique()\n",
        "    # print(f'Antes: {labels}, {list(map(lambda x: x is np.nan,labels))}')\n",
        "    labels = sorted(labels, key=lambda x: '0' if x is np.nan else x)\n",
        "    # print(labels)\n",
        "\n",
        "    def sumatoryFunction(columnContent):\n",
        "        if columnContent is np.nan:\n",
        "            return sum(dataframe[columnName].isnull())\n",
        "        return sum(dataframe[columnName] == columnContent)\n",
        "\n",
        "    count = list(map(sumatoryFunction,\n",
        "                     labels))\n",
        "    return labels, count"
      ],
      "id": "yTbP7Qm8Zv1r",
      "execution_count": null,
      "outputs": []
    },
    {
      "cell_type": "code",
      "metadata": {
        "id": "0TA84HxFZIaK"
      },
      "source": [
        "# Separate the data into two subsets to see if there is some difference in distr\n",
        "# from survived to non survived\n",
        "\n",
        "survivedSubset = df[df['survived'] == 1]\n",
        "notSurvivedSubset = df[df['survived'] == 0]\n",
        "\n",
        "totalSurvived = len(survivedSubset)\n",
        "totalNotSurvived = len(notSurvivedSubset)\n",
        "\n",
        "print(\n",
        "    f'Total Survived: {totalSurvived}\\nTotal Not Survived: {totalNotSurvived}')\n",
        "print(f'Ratio NS/S: {totalNotSurvived / totalSurvived :.2f}')"
      ],
      "id": "0TA84HxFZIaK",
      "execution_count": null,
      "outputs": []
    },
    {
      "cell_type": "code",
      "metadata": {
        "id": "5V1e9IGOZk1b"
      },
      "source": [
        "for column in df.columns.values:\n",
        "    hasMissingValues = df[column].isnull().values.any()\n",
        "    if hasMissingValues:\n",
        "        print(f'Column: {column} has missing values')"
      ],
      "id": "5V1e9IGOZk1b",
      "execution_count": null,
      "outputs": []
    },
    {
      "cell_type": "code",
      "metadata": {
        "id": "gqNSrWiBaDYy"
      },
      "source": [
        "columnName = 'survived'\n",
        "labels, count = getFrequenciesInCategoricalColumn(df, columnName)\n",
        "drawPieChart(labels, count, columnName)"
      ],
      "id": "gqNSrWiBaDYy",
      "execution_count": null,
      "outputs": []
    },
    {
      "cell_type": "code",
      "metadata": {
        "id": "mLqWkT9yrUB-"
      },
      "source": [
        "columnName = 'embarked'\n",
        "labels, count = getFrequenciesInCategoricalColumn(df, columnName)\n",
        "drawPieChart(labels, count, columnName)"
      ],
      "id": "mLqWkT9yrUB-",
      "execution_count": null,
      "outputs": []
    },
    {
      "cell_type": "code",
      "metadata": {
        "id": "2RCLE9dsrgr2"
      },
      "source": [
        "columnName = 'survived'\n",
        "datasetFemale = df[df['sex'] == 'female']\n",
        "datasetMale = df[df['sex'] == 'male']\n",
        "\n",
        "labelsFemale, countFemale = getFrequenciesInCategoricalColumn(\n",
        "    datasetFemale, columnName)\n",
        "labelsFemale = list(\n",
        "    map(lambda x: 'Female Survived' if x else 'Female Not Survived', labelsFemale))\n",
        "\n",
        "labelsMale, countMale = getFrequenciesInCategoricalColumn(\n",
        "    datasetMale, columnName)\n",
        "labelsMale = list(\n",
        "    map(lambda x: 'Male Survived' if x else 'Male Not Survived', labelsMale))\n",
        "\n",
        "drawPieChart(list(labelsFemale) + list(labelsMale),\n",
        "             countFemale + countMale, columnName)"
      ],
      "id": "2RCLE9dsrgr2",
      "execution_count": null,
      "outputs": []
    },
    {
      "cell_type": "code",
      "metadata": {
        "id": "0DwDepeMr3Hx"
      },
      "source": [
        "# Does the gender influences on surviability?\n",
        "\n",
        "fig, ax = plt.subplots()\n",
        "\n",
        "width = 0.7\n",
        "ind = np.arange(2)    # the x locations for the groups\n",
        "\n",
        "p1 = ax.bar(ind, countMale, width, label='Men')\n",
        "p2 = ax.bar(ind, countFemale, width,\n",
        "            bottom=countMale, label='Women')\n",
        "\n",
        "ax.axhline(0, color='grey', linewidth=0.8)\n",
        "ax.set_ylabel('Quantity')\n",
        "ax.set_title('Gender Surviability')\n",
        "ax.set_xticks(ind)\n",
        "ax.set_xticklabels(('Not Survived', 'Survived'))\n",
        "ax.legend()\n",
        "\n",
        "plt.show()"
      ],
      "id": "0DwDepeMr3Hx",
      "execution_count": null,
      "outputs": []
    },
    {
      "cell_type": "code",
      "metadata": {
        "id": "pa5YlJJasj9k"
      },
      "source": [
        "# Lets look at some histograms to see if something  appears looking at the fare\n",
        "\n",
        "bins = np.linspace(0, 100, 10)\n",
        "\n",
        "# plt.hist(survivedSubset['Age'].dropna(axis=0).values,\n",
        "#          bins, alpha=0.5, label='Survived')\n",
        "plt.hist([notSurvivedSubset['age'].dropna(axis=0).values,\n",
        "          survivedSubset['age'].dropna(axis=0).values],\n",
        "         bins,\n",
        "         alpha=0.5,\n",
        "         histtype='barstacked',\n",
        "         stacked=True,\n",
        "         label=['Not Survived', 'Survived'])\n",
        "plt.legend(loc='upper right')\n",
        "plt.ylabel('No. People')\n",
        "plt.xlabel('Age')\n",
        "plt.show()\n",
        "\n",
        "histogramMin = min(df['fare'].values)\n",
        "histogramMax = max(df['fare'].values)\n",
        "\n",
        "bins = np.linspace(histogramMin, histogramMax, 10)\n",
        "# plt.hist(survivedSubset['Fare'].dropna(axis=0).values,\n",
        "#          bins, alpha=0.5, label='Survived',\n",
        "#          histtype='barstacked')\n",
        "plt.hist([notSurvivedSubset['fare'].dropna(axis=0).values,\n",
        "          survivedSubset['fare'].dropna(axis=0).values],\n",
        "         bins,\n",
        "         alpha=0.5,\n",
        "         label=['Not Survived', 'Survived'],\n",
        "         histtype='barstacked',\n",
        "         stacked=True)\n",
        "plt.legend(loc='upper right')\n",
        "plt.ylabel('Nº People')\n",
        "plt.xlabel('Fare')\n",
        "plt.show()\n"
      ],
      "id": "pa5YlJJasj9k",
      "execution_count": null,
      "outputs": []
    },
    {
      "cell_type": "code",
      "metadata": {
        "id": "kUCmdUJ4ssEu"
      },
      "source": [
        "# Lets see if there is a difference in surviability given different classes\n",
        "\n",
        "fig, ax = plt.subplots()\n",
        "\n",
        "width = 0.7\n",
        "ind = np.arange(3)    # the x locations for the groups\n",
        "\n",
        "survivedClass = list(\n",
        "    map(lambda x: sum(survivedSubset['pclass'] == x), [1, 2, 3]))\n",
        "notSurvivedClass = list(\n",
        "    map(lambda x: sum(notSurvivedSubset['pclass'] == x), [1, 2, 3]))\n",
        "\n",
        "p1 = ax.bar(ind, survivedClass, width, label='Survived')\n",
        "p2 = ax.bar(ind, notSurvivedClass, width,\n",
        "            bottom=survivedClass, label='Not Survived')\n",
        "\n",
        "ax.axhline(0, color='grey', linewidth=0.8)\n",
        "ax.set_ylabel('Quantity')\n",
        "ax.set_title('pClass Surviability')\n",
        "ax.set_xticks(ind)\n",
        "ax.set_xticklabels(('Class 1', 'Class 2', 'Class 3'))\n",
        "ax.legend()\n",
        "\n",
        "# Label with label_type 'center' instead of the default 'edge'\n",
        "# To create the percentage labels whe use list comprehension\n",
        "# in a zipped list to compute the percentage of survivors\n",
        "labelsSurvived = [\n",
        "    round((perc[0]/sum(perc))*100, 2) for perc in zip(survivedClass, notSurvivedClass)]\n",
        "# the percentage not survived is 100 - percentage survived\n",
        "labelsNotSurvived = list(map(lambda x: f'{100 - x:.2f}%', labelsSurvived))\n",
        "# converts to string\n",
        "labelsSurvived = list(map(lambda x: f'{x}%', labelsSurvived))\n",
        "\n",
        "\n",
        "plt.show()"
      ],
      "id": "kUCmdUJ4ssEu",
      "execution_count": null,
      "outputs": []
    },
    {
      "cell_type": "code",
      "metadata": {
        "id": "B6tt5EYWsta6"
      },
      "source": [
        "datasetAges = df.dropna(axis=0, subset=['age'])\n",
        "datasetAges = datasetAges.assign(AgeGroup=datasetAges['age'].apply(\n",
        "    lambda x: x // 10 if x // 10 <= 6 else 6))\n",
        "# There is a trick here, since Survived is a boolean attribute\n",
        "# the Survived mean is the same as Rate of Survival (do the math smarty pants!)\n",
        "ageGroup = datasetAges.groupby(['AgeGroup']).aggregate([np.mean, np.var])"
      ],
      "id": "B6tt5EYWsta6",
      "execution_count": null,
      "outputs": []
    },
    {
      "cell_type": "code",
      "metadata": {
        "id": "ScgdcINhsx5Y"
      },
      "source": [
        "fig, ax = plt.subplots()\n",
        "survivedRatio = ageGroup['survived']['mean'].values\n",
        "ax.scatter(ageGroup.index.values,\n",
        "           survivedRatio)\n",
        "ax.set_xticks(ageGroup.index.values)\n",
        "\n",
        "ax.set_title('Surviability by Age Group')\n",
        "ax.set_ylim((0, 1))\n",
        "ax.set_ylabel('Survival Rate')\n",
        "ax.set_xlabel('Age Group')\n",
        "\n",
        "ax.set_xticklabels(['0 - 10', '10 - 20', '20 - 30',\n",
        "                   '30 - 40', '40 - 50', '50 -60', '60+'])\n",
        "for i in range(len(survivedRatio)):\n",
        "    xyAnnotation = list(zip(ageGroup.index.values, survivedRatio))\n",
        "# The magic number 0.03 serves as a offset so the annotation wont\n",
        "# be in the same place of the dot in the graph\n",
        "    xyAnnotationPlace = list(\n",
        "        map(lambda x: (x[0]+0.03, x[1]+0.03), xyAnnotation))\n",
        "    ax.annotate(f'{survivedRatio[i]*100:.2f}%',\n",
        "                xy=xyAnnotation[i],\n",
        "                xytext=xyAnnotationPlace[i])\n",
        "# (ageGroup['Survived']['mean'].values)\n",
        "\n",
        "fig.show()"
      ],
      "id": "ScgdcINhsx5Y",
      "execution_count": null,
      "outputs": []
    },
    {
      "cell_type": "code",
      "metadata": {
        "id": "xVFFa-k1sI2Z"
      },
      "source": [
        "# Lets see the distributions between survived and not survived\n",
        "# we will use both boxplot and violin plot to see the pros and cons\n",
        "# in each of them.\n",
        "# TLDR: Violin shows the distr whereas boxplot only shows quartiles.\n",
        "\n",
        "labels = ['survived', 'not survived']\n",
        "\n",
        "fig, (ax1, ax2) = plt.subplots(nrows=1, ncols=2, figsize=(18, 8))\n",
        "\n",
        "# rectangular box plot\n",
        "bplot1 = ax1.boxplot([survivedSubset['age'].dropna(axis=0).values,\n",
        "                      notSurvivedSubset['age'].dropna(axis=0).values],\n",
        "                     vert=True,  # vertical box alignment\n",
        "                     patch_artist=True,  # fill with color\n",
        "                     labels=labels)  # will be used to label x-ticks\n",
        "ax1.set_title('Rectangular box plot')\n",
        "\n",
        "bplot2 = ax2.violinplot([survivedSubset['age'].dropna(axis=0).values,\n",
        "                         notSurvivedSubset['age'].dropna(axis=0).values])\n",
        "ax2.set_title('Violin plot')\n",
        "\n",
        "ax2.set_xticks([1, 2])\n",
        "ax2.set_xticklabels(labels)\n",
        "\n",
        "# fill with colors\n",
        "colors = ['pink', 'lightblue']\n",
        "\n",
        "for patch, color in zip(bplot1['boxes'], colors):\n",
        "    patch.set_facecolor(color)\n",
        "\n",
        "# adding horizontal grid lines\n",
        "\n",
        "ax1.yaxis.grid(True)\n",
        "ax1.set_xlabel('survived')\n",
        "ax1.set_ylabel('age')\n",
        "\n",
        "plt.show()\n"
      ],
      "id": "xVFFa-k1sI2Z",
      "execution_count": null,
      "outputs": []
    },
    {
      "cell_type": "code",
      "metadata": {
        "id": "6CCOzJ91vZ-B"
      },
      "source": [
        "#Selection of Categorical and Numerical Variables:\n",
        "\n",
        "def grab_col_names(dataframe, cat_th=5, car_th=20):\n",
        "    \"\"\"\n",
        "    This function to perform the selection of numeric and categorical variables in the data set in a parametric way.\n",
        "    Note: Variables with numeric data type but with categorical properties are included in categorical variables.\n",
        "\n",
        "    Parameters\n",
        "    ----------\n",
        "    dataframe: dataframe\n",
        "        The data set in which Variable types need to be parsed\n",
        "    cat_th: int, optional\n",
        "        The threshold value for number of distinct observations in numerical variables with categorical properties.\n",
        "        cat_th is used to specify that if number of distinct observations in numerical variable is less than\n",
        "        cat_th, this variables can be categorized as a categorical variable.\n",
        "\n",
        "    car_th: int, optional\n",
        "        The threshold value for categorical variables with  a wide range of cardinality.\n",
        "        If the number of distinct observations in a categorical variables is greater than car_th, this\n",
        "        variable can be categorized as a categorical variable.\n",
        "\n",
        "    Returns\n",
        "    -------\n",
        "        cat_cols: list\n",
        "            List of categorical variables.\n",
        "        num_cols: list\n",
        "            List of numerical variables.\n",
        "        cat_but_car: list\n",
        "            List of categorical variables with  a wide range of cardinality.\n",
        "\n",
        "    Examples\n",
        "    ------\n",
        "        import seaborn as sns\n",
        "        df = sns.load_dataset(\"iris\")\n",
        "        print(grab_col_names(df))\n",
        "\n",
        "    Notes\n",
        "    ------\n",
        "        Sum of elements in lists the cat_cols,num_cols  and  cat_but_car give the total number of variables in dataframe.\n",
        "    \"\"\"\n",
        "\n",
        "    # cat cols, cat_but_car\n",
        "    cat_cols = [col for col in dataframe.columns if dataframe[col].dtypes == \"O\"]\n",
        "    num_but_cat = [col for col in dataframe.columns if dataframe[col].dtypes != \"O\" and\n",
        "                   dataframe[col].nunique() < cat_th]\n",
        "\n",
        "    cat_but_car = [col for col in dataframe.columns if dataframe[col].dtypes == \"O\" and\n",
        "                   dataframe[col].nunique() > car_th]\n",
        "\n",
        "    cat_cols = cat_cols + num_but_cat\n",
        "    cat_cols = [col for col in cat_cols if col not in cat_but_car]\n",
        "\n",
        "    # num_cols\n",
        "    num_cols = [col for col in dataframe.columns if dataframe[col].dtypes != \"O\" and \"ID\" not in col.upper()]\n",
        "    num_cols = [col for col in num_cols if col not in num_but_cat]\n",
        "\n",
        "    return cat_cols,num_cols,cat_but_car\n"
      ],
      "id": "6CCOzJ91vZ-B",
      "execution_count": null,
      "outputs": []
    },
    {
      "cell_type": "code",
      "metadata": {
        "id": "6wwntiPYvcYb"
      },
      "source": [
        "grab_col_names(df)"
      ],
      "id": "6wwntiPYvcYb",
      "execution_count": null,
      "outputs": []
    },
    {
      "cell_type": "code",
      "metadata": {
        "id": "0nXoBkSFvnEK"
      },
      "source": [
        "cat_cols, num_cols, cat_but_car = grab_col_names(df)"
      ],
      "id": "0nXoBkSFvnEK",
      "execution_count": null,
      "outputs": []
    },
    {
      "cell_type": "code",
      "metadata": {
        "id": "E1fMqmg-vEdc"
      },
      "source": [
        " # General Exploration for Categorical Variables:\n",
        "\n",
        "def cat_summary(dataframe, plot=False):\n",
        "    for col_name in cat_cols:\n",
        "        print(\"############## Unique Observations of Categorical Data ###############\")\n",
        "        print(\"The unique number of \"+ col_name+\": \"+ str(dataframe[col_name].nunique()))\n",
        "\n",
        "        print(\"############## Frequency of Categorical Data ########################\")\n",
        "        print(pd.DataFrame({col_name : dataframe[col_name].value_counts(),\n",
        "                            \"Ratio\": dataframe[col_name].value_counts()/len(dataframe)}))\n",
        "        if plot == True:\n",
        "            rgb_values = sns.color_palette(\"Set2\", 6)\n",
        "            sns.set_theme(style=\"darkgrid\")\n",
        "            ax = sns.countplot(x=dataframe[col_name], data=dataframe, palette=rgb_values)\n",
        "            for p in ax.patches:\n",
        "                ax.annotate(f'\\n{p.get_height()}', (p.get_x()+0.2, p.get_height()), ha='center', va='top', color='white', size=10)\n",
        "            plt.show()"
      ],
      "id": "E1fMqmg-vEdc",
      "execution_count": null,
      "outputs": []
    },
    {
      "cell_type": "code",
      "metadata": {
        "id": "v1KZV9dsvG_m"
      },
      "source": [
        "\n",
        "cat_summary(df, plot=True)"
      ],
      "id": "v1KZV9dsvG_m",
      "execution_count": null,
      "outputs": []
    },
    {
      "cell_type": "code",
      "metadata": {
        "id": "rrlDJPffwY-I"
      },
      "source": [
        "# General Exploration for Numerical Variables:\n",
        "\n",
        "def num_summary(dataframe,  plot=False):\n",
        "    quantiles = [0.25, 0.50, 0.75, 1]\n",
        "    for col_name in num_cols:\n",
        "        print(\"########## Summary Statistics of \" +  col_name + \" ############\")\n",
        "        print(dataframe[col_name].describe(quantiles).T)\n",
        "\n",
        "        if plot:\n",
        "            sns.histplot(data=dataframe, x=col_name  )\n",
        "            plt.xlabel(col_name)\n",
        "            plt.title(\"The distribution of \"+ col_name)\n",
        "            plt.grid(True)\n",
        "            plt.show(block=True)"
      ],
      "id": "rrlDJPffwY-I",
      "execution_count": null,
      "outputs": []
    },
    {
      "cell_type": "code",
      "metadata": {
        "id": "ENI-wNrIwako"
      },
      "source": [
        "num_summary(df, plot=True)"
      ],
      "id": "ENI-wNrIwako",
      "execution_count": null,
      "outputs": []
    },
    {
      "cell_type": "code",
      "metadata": {
        "id": "fDNcbqQNwfad"
      },
      "source": [
        ""
      ],
      "id": "fDNcbqQNwfad",
      "execution_count": null,
      "outputs": []
    },
    {
      "cell_type": "markdown",
      "metadata": {
        "id": "905cdf84-1a47-4411-903e-c74258c8e044"
      },
      "source": [
        "### predictors"
      ],
      "id": "905cdf84-1a47-4411-903e-c74258c8e044"
    },
    {
      "cell_type": "code",
      "metadata": {
        "id": "TU-U_1RtaStd"
      },
      "source": [
        "columnName = 'sex'\n",
        "labels, count = getFrequenciesInCategoricalColumn(df, columnName)\n",
        "drawPieChart(labels, count, columnName)"
      ],
      "id": "TU-U_1RtaStd",
      "execution_count": null,
      "outputs": []
    },
    {
      "cell_type": "code",
      "metadata": {
        "id": "94db8435-1c6a-4651-8316-2a7eb249d9f0"
      },
      "source": [
        "df.columns.values[1:]"
      ],
      "id": "94db8435-1c6a-4651-8316-2a7eb249d9f0",
      "execution_count": null,
      "outputs": []
    },
    {
      "cell_type": "code",
      "metadata": {
        "id": "188ad5c6-3200-40d4-bf84-4cec4f1bac05"
      },
      "source": [
        "df = df[['survived','pclass','sex','age','sibsp','parch','fare','embarked']]\n",
        "df.head()"
      ],
      "id": "188ad5c6-3200-40d4-bf84-4cec4f1bac05",
      "execution_count": null,
      "outputs": []
    },
    {
      "cell_type": "markdown",
      "metadata": {
        "id": "375c1631-55bd-4d20-a18f-27e3eaf4980c"
      },
      "source": [
        "### dummies"
      ],
      "id": "375c1631-55bd-4d20-a18f-27e3eaf4980c"
    },
    {
      "cell_type": "code",
      "metadata": {
        "id": "e7e7c3b0-8445-443b-ae30-d69a0929795a"
      },
      "source": [
        "sex = pd.get_dummies(df['sex'], drop_first = True)\n",
        "sex[:2]"
      ],
      "id": "e7e7c3b0-8445-443b-ae30-d69a0929795a",
      "execution_count": null,
      "outputs": []
    },
    {
      "cell_type": "code",
      "metadata": {
        "id": "9e30cf85-4cd4-492e-a053-a272b136cc30"
      },
      "source": [
        "embark = pd.get_dummies(df['embarked'], drop_first=True)\n",
        "embark[:2]"
      ],
      "id": "9e30cf85-4cd4-492e-a053-a272b136cc30",
      "execution_count": null,
      "outputs": []
    },
    {
      "cell_type": "code",
      "metadata": {
        "id": "2b706edc-5c4a-4240-92cf-9c84ee20550f"
      },
      "source": [
        "Class = pd.get_dummies(df['pclass'], drop_first=True)\n",
        "Class[:2]"
      ],
      "id": "2b706edc-5c4a-4240-92cf-9c84ee20550f",
      "execution_count": null,
      "outputs": []
    },
    {
      "cell_type": "markdown",
      "metadata": {
        "id": "b851c2cd-f4a2-4db0-94ee-9daac6792efe"
      },
      "source": [
        "### concat"
      ],
      "id": "b851c2cd-f4a2-4db0-94ee-9daac6792efe"
    },
    {
      "cell_type": "code",
      "metadata": {
        "id": "a19a9ac1-b049-4582-a7c3-a8ade1353628"
      },
      "source": [
        "df = pd.concat([df, sex, embark, Class], axis = 1)"
      ],
      "id": "a19a9ac1-b049-4582-a7c3-a8ade1353628",
      "execution_count": null,
      "outputs": []
    },
    {
      "cell_type": "code",
      "metadata": {
        "id": "34a4b7ba-0d5e-4921-8a85-b619bb2a3514"
      },
      "source": [
        "df.head()"
      ],
      "id": "34a4b7ba-0d5e-4921-8a85-b619bb2a3514",
      "execution_count": null,
      "outputs": []
    },
    {
      "cell_type": "code",
      "metadata": {
        "id": "7d99862c-f3c9-4095-87df-85fb9d5c571d"
      },
      "source": [
        "df.drop(['sex','pclass','embarked'], axis = 1, inplace = True)"
      ],
      "id": "7d99862c-f3c9-4095-87df-85fb9d5c571d",
      "execution_count": null,
      "outputs": []
    },
    {
      "cell_type": "code",
      "metadata": {
        "id": "31ec8623-3e37-45f6-8275-21c8c4eb7107"
      },
      "source": [
        "df.shape"
      ],
      "id": "31ec8623-3e37-45f6-8275-21c8c4eb7107",
      "execution_count": null,
      "outputs": []
    },
    {
      "cell_type": "code",
      "metadata": {
        "id": "85eeb400-e641-4528-ae67-83fcad83e46f"
      },
      "source": [
        "titanic_train = df\n",
        "titanic_train.head()"
      ],
      "id": "85eeb400-e641-4528-ae67-83fcad83e46f",
      "execution_count": null,
      "outputs": []
    },
    {
      "cell_type": "markdown",
      "metadata": {
        "id": "949fc386-d6ec-4943-9a6e-393031ce8330"
      },
      "source": [
        "### Training and testing "
      ],
      "id": "949fc386-d6ec-4943-9a6e-393031ce8330"
    },
    {
      "cell_type": "code",
      "metadata": {
        "id": "3bbf114f-8b8c-419a-b27f-11181655346a"
      },
      "source": [
        "X = titanic_train.drop('survived', axis = 1)\n",
        "y = titanic_train['survived']"
      ],
      "id": "3bbf114f-8b8c-419a-b27f-11181655346a",
      "execution_count": null,
      "outputs": []
    },
    {
      "cell_type": "code",
      "metadata": {
        "id": "8b91dd66-f6f6-4482-b672-7b830706806f"
      },
      "source": [
        "from sklearn.model_selection import train_test_split\n",
        "X_train, X_test, y_train, y_test = train_test_split(X, y, test_size = 0.20, random_state=42, shuffle = True)"
      ],
      "id": "8b91dd66-f6f6-4482-b672-7b830706806f",
      "execution_count": null,
      "outputs": []
    },
    {
      "cell_type": "code",
      "metadata": {
        "id": "f5c11e3b-3361-444d-9fb5-96112580b4c2"
      },
      "source": [
        "from sklearn.linear_model import LogisticRegression\n",
        "from sklearn.metrics import classification_report, accuracy_score"
      ],
      "id": "f5c11e3b-3361-444d-9fb5-96112580b4c2",
      "execution_count": null,
      "outputs": []
    },
    {
      "cell_type": "code",
      "metadata": {
        "id": "a8daa99f-a5da-40e7-b60b-9ed784c69c45"
      },
      "source": [
        "log_model = LogisticRegression(max_iter = 5000)"
      ],
      "id": "a8daa99f-a5da-40e7-b60b-9ed784c69c45",
      "execution_count": null,
      "outputs": []
    },
    {
      "cell_type": "markdown",
      "metadata": {
        "id": "f8178bde-2c33-4d69-b9dd-3f65b28b3d4c"
      },
      "source": [
        "### fit the value"
      ],
      "id": "f8178bde-2c33-4d69-b9dd-3f65b28b3d4c"
    },
    {
      "cell_type": "code",
      "metadata": {
        "id": "67d29b4f-32d7-478c-b905-3c871eef9993"
      },
      "source": [
        "log_model.fit(X_train, y_train)"
      ],
      "id": "67d29b4f-32d7-478c-b905-3c871eef9993",
      "execution_count": null,
      "outputs": []
    },
    {
      "cell_type": "markdown",
      "metadata": {
        "id": "eca87a11-43b8-4809-a77e-27f8aaa0a78d"
      },
      "source": [
        "### Predictions"
      ],
      "id": "eca87a11-43b8-4809-a77e-27f8aaa0a78d"
    },
    {
      "cell_type": "code",
      "metadata": {
        "id": "35421e09-be60-4004-9369-a4955584953c"
      },
      "source": [
        "pred = log_model.predict(X_test)"
      ],
      "id": "35421e09-be60-4004-9369-a4955584953c",
      "execution_count": null,
      "outputs": []
    },
    {
      "cell_type": "code",
      "metadata": {
        "id": "71c55546-f35c-4c49-9f10-d6e1f9d9ffac"
      },
      "source": [
        "print(classification_report(y_test, pred))"
      ],
      "id": "71c55546-f35c-4c49-9f10-d6e1f9d9ffac",
      "execution_count": null,
      "outputs": []
    },
    {
      "cell_type": "code",
      "metadata": {
        "id": "c98f50b2-8463-41cd-ab22-9ab22cbd2236"
      },
      "source": [
        "accuracy_score(y_test, pred)*100"
      ],
      "id": "c98f50b2-8463-41cd-ab22-9ab22cbd2236",
      "execution_count": null,
      "outputs": []
    },
    {
      "cell_type": "code",
      "metadata": {
        "id": "IwyPokgdxFIX"
      },
      "source": [
        "#ROC CURVE \n",
        "from sklearn.metrics import accuracy_score, confusion_matrix, precision_score, recall_score, f1_score,roc_auc_score, roc_curve\n",
        "AUC = logit_roc_auc = roc_auc_score(y_test, pred)\n",
        "\n",
        "fpr ,tpr,thresholds= roc_curve(y_test,log_model.predict_proba(X_test)[:,1])\n",
        "plt.figure(figsize=(6,6))\n",
        "plt.plot(fpr,tpr,label =\"AUC (area=%0.2f)\" % logit_roc_auc)\n",
        "plt.plot([0, 1], [0, 1], color='orange', linestyle='--')\n",
        "plt.xlabel(\"False Positive Rate\")\n",
        "plt.ylabel(\"True Positive Rate\")\n",
        "plt.title(\"Receiver Operating Characteristic\")\n",
        "plt.legend()\n",
        "plt.savefig(\"Log_ROC\")\n",
        "plt.show();"
      ],
      "id": "IwyPokgdxFIX",
      "execution_count": null,
      "outputs": []
    },
    {
      "cell_type": "code",
      "metadata": {
        "id": "w1qV3qrExPNp"
      },
      "source": [
        "import math as mt\n",
        "\n",
        "feature_importance = pd.DataFrame(X_train.columns, columns = [\"feature\"])\n",
        "feature_importance[\"importance\"] = pow(mt.e, log_model.coef_[0])\n",
        "feature_importance = feature_importance.sort_values(by = [\"importance\"], ascending=False)\n",
        " \n",
        "# Visualization \n",
        "ax = feature_importance.plot.barh(x='feature', y='importance', figsize=(12,12), fontsize=10)\n",
        "plt.xlabel('Importance', fontsize=14)\n",
        "plt.ylabel('Features', fontsize=14)\n",
        "plt.show()"
      ],
      "id": "w1qV3qrExPNp",
      "execution_count": null,
      "outputs": []
    },
    {
      "cell_type": "markdown",
      "metadata": {
        "id": "a9ddbec2-57d0-4f22-98e1-8881884e87ca"
      },
      "source": [
        "### Testing"
      ],
      "id": "a9ddbec2-57d0-4f22-98e1-8881884e87ca"
    },
    {
      "cell_type": "markdown",
      "metadata": {
        "id": "eY7iY9bLZw5d"
      },
      "source": [
        "Some helper functions\n",
        "Lets define two auxiliary functions to help us plot some pie charts to see how are the how many observations on the dataset are categorized according to the attributes Sex and Embarked as well as the Survived target."
      ],
      "id": "eY7iY9bLZw5d"
    },
    {
      "cell_type": "code",
      "metadata": {
        "id": "92ff5d10-1892-472c-ab8c-9b73c4a0330f"
      },
      "source": [
        "titanic_train.columns.values"
      ],
      "id": "92ff5d10-1892-472c-ab8c-9b73c4a0330f",
      "execution_count": null,
      "outputs": []
    },
    {
      "cell_type": "code",
      "metadata": {
        "id": "7d22eede-f953-4c28-85f8-75ac6751161c"
      },
      "source": [
        "def predictor(age = 38.0 , sibsp = 1, parch = 0, fare = 71.2833, male = 0, Q = 0, S= 0, second = 0, third = 0 ):\n",
        "    result = log_model.predict([[age, sibsp, parch, fare, male, Q, S, second, third]])\n",
        "    if result == np.array([1]):\n",
        "        print('Passenger Survived')\n",
        "    else:\n",
        "        print('Passenger Died')"
      ],
      "id": "7d22eede-f953-4c28-85f8-75ac6751161c",
      "execution_count": null,
      "outputs": []
    },
    {
      "cell_type": "code",
      "metadata": {
        "id": "4094769e-b9fc-4813-807d-92bcaa5e7b7c"
      },
      "source": [
        "titanic_train = df\n",
        "titanic_train.head()"
      ],
      "id": "4094769e-b9fc-4813-807d-92bcaa5e7b7c",
      "execution_count": null,
      "outputs": []
    },
    {
      "cell_type": "code",
      "metadata": {
        "id": "bf3a461c-a288-430c-9bdf-bcd2d0b22fe9"
      },
      "source": [
        "log_model.predict([[38.0, 1, 0, 71.23, 0, 0, 0, 0, 0]])"
      ],
      "id": "bf3a461c-a288-430c-9bdf-bcd2d0b22fe9",
      "execution_count": null,
      "outputs": []
    },
    {
      "cell_type": "code",
      "metadata": {
        "id": "94835f17-16db-4786-bf2a-aa77d52c5176"
      },
      "source": [
        "predictor(23.0, 1, 0, 176.321, 0, 0, 1, 0, 1)"
      ],
      "id": "94835f17-16db-4786-bf2a-aa77d52c5176",
      "execution_count": null,
      "outputs": []
    },
    {
      "cell_type": "code",
      "metadata": {
        "id": "ecc40557-ea05-44e7-9af5-f14029dcbe5d"
      },
      "source": [
        "data = np.arange(1, 11)\n",
        "data"
      ],
      "id": "ecc40557-ea05-44e7-9af5-f14029dcbe5d",
      "execution_count": null,
      "outputs": []
    },
    {
      "cell_type": "code",
      "metadata": {
        "id": "17a0481b-2e14-4d2e-96cf-64b5b36fea79"
      },
      "source": [
        "np.random.shuffle(data)"
      ],
      "id": "17a0481b-2e14-4d2e-96cf-64b5b36fea79",
      "execution_count": null,
      "outputs": []
    },
    {
      "cell_type": "code",
      "metadata": {
        "id": "84273f03-ed2d-42d8-9def-ff3fd8c9c623"
      },
      "source": [
        "data"
      ],
      "id": "84273f03-ed2d-42d8-9def-ff3fd8c9c623",
      "execution_count": null,
      "outputs": []
    },
    {
      "cell_type": "code",
      "metadata": {
        "id": "dc0c0921-ca7e-4e0a-9f89-0f892aab8295"
      },
      "source": [
        "train = data[:6]\n",
        "test  = data[6:]\n",
        "train, test"
      ],
      "id": "dc0c0921-ca7e-4e0a-9f89-0f892aab8295",
      "execution_count": null,
      "outputs": []
    },
    {
      "cell_type": "code",
      "metadata": {
        "id": "81968b14-eac4-435a-b086-9a8f3b327d48"
      },
      "source": [
        ""
      ],
      "id": "81968b14-eac4-435a-b086-9a8f3b327d48",
      "execution_count": null,
      "outputs": []
    }
  ]
}