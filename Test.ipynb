{
  "nbformat": 4,
  "nbformat_minor": 5,
  "metadata": {
    "kernelspec": {
      "display_name": "Python 3",
      "language": "python",
      "name": "python3"
    },
    "language_info": {
      "codemirror_mode": {
        "name": "ipython",
        "version": 3
      },
      "file_extension": ".py",
      "mimetype": "text/x-python",
      "name": "python",
      "nbconvert_exporter": "python",
      "pygments_lexer": "ipython3",
      "version": "3.8.8"
    },
    "colab": {
      "name": "Test.ipynb",
      "provenance": [],
      "include_colab_link": true
    }
  },
  "cells": [
    {
      "cell_type": "markdown",
      "metadata": {
        "id": "view-in-github",
        "colab_type": "text"
      },
      "source": [
        "<a href=\"https://colab.research.google.com/github/deepikagoel1/Edufabrica-aiml/blob/main/Test.ipynb\" target=\"_parent\"><img src=\"https://colab.research.google.com/assets/colab-badge.svg\" alt=\"Open In Colab\"/></a>"
      ]
    },
    {
      "cell_type": "markdown",
      "metadata": {
        "id": "4b0bc8e3"
      },
      "source": [
        "#### Calculte the sum of the digits of a 3 - digit random number"
      ],
      "id": "4b0bc8e3"
    },
    {
      "cell_type": "code",
      "metadata": {
        "colab": {
          "base_uri": "https://localhost:8080/"
        },
        "id": "d87b4ddd",
        "outputId": "2f0243d9-ac7a-4322-f83d-8c64a8ebb5b0"
      },
      "source": [
        "from random import random\n",
        "\n",
        "n = random() * 900 + 100\n",
        "n = int(n)\n",
        "print(n)\n",
        "\n",
        "a = n // 100\n",
        "b = (n // 10) % 10\n",
        "c = n % 10\n",
        "\n",
        "print(a+b+c)"
      ],
      "id": "d87b4ddd",
      "execution_count": 1,
      "outputs": [
        {
          "output_type": "stream",
          "text": [
            "460\n",
            "10\n"
          ],
          "name": "stdout"
        }
      ]
    },
    {
      "cell_type": "markdown",
      "metadata": {
        "id": "1bd2166b"
      },
      "source": [
        "#### Determine the percntage of lowercase and upper case in a string"
      ],
      "id": "1bd2166b"
    },
    {
      "cell_type": "code",
      "metadata": {
        "colab": {
          "base_uri": "https://localhost:8080/"
        },
        "id": "46c6af7b",
        "outputId": "ebaf4eeb-aee1-4228-d190-9f241a2e65e6"
      },
      "source": [
        "sentence = \"Hello World\"\n",
        "upper = 0\n",
        "lower = 0\n",
        "for i in sentence:\n",
        "  if i >='A' and i <= 'Z':\n",
        "    upper += 1\n",
        "  elif i >= 'a' and i <= 'z':\n",
        "    lower += 1\n",
        "print(\"Upper case: \" + str(upper))\n",
        "print(\"Lower case: \" + str(lower))\n",
        "\n",
        "print(\"Upper Case percentage: \", (upper/len(sentence))*100)\n",
        "print(\"Lower Case percentage: \", (lower/len(sentence))*100)"
      ],
      "id": "46c6af7b",
      "execution_count": 5,
      "outputs": [
        {
          "output_type": "stream",
          "text": [
            "Upper case: 2\n",
            "Lower case: 8\n",
            "Upper Case percentage:  18.181818181818183\n",
            "Lower Case percentage:  72.72727272727273\n"
          ],
          "name": "stdout"
        }
      ]
    },
    {
      "cell_type": "markdown",
      "metadata": {
        "id": "dac5d466"
      },
      "source": [
        "#### Find the longest word in a string\n",
        "\n",
        "\n",
        "\n"
      ],
      "id": "dac5d466"
    },
    {
      "cell_type": "code",
      "metadata": {
        "colab": {
          "base_uri": "https://localhost:8080/"
        },
        "id": "98da65d5",
        "outputId": "0dac3833-819d-48cc-d94d-bfcf803c7df9"
      },
      "source": [
        "string = \"Python is a great langauge\"\n",
        "\n",
        "#split string\n",
        "str_list = string.split()\n",
        "\n",
        "#sort list by length\n",
        "list_s = sorted(str_list, key=len) \n",
        "\n",
        "#print the last item of list\n",
        "print(list_s[-1])"
      ],
      "id": "98da65d5",
      "execution_count": 6,
      "outputs": [
        {
          "output_type": "stream",
          "text": [
            "langauge\n"
          ],
          "name": "stdout"
        }
      ]
    },
    {
      "cell_type": "markdown",
      "metadata": {
        "id": "40817566"
      },
      "source": [
        "#### Take random 1000 numbers and seperate a list of positive and negative numbers from it"
      ],
      "id": "40817566"
    },
    {
      "cell_type": "code",
      "metadata": {
        "colab": {
          "base_uri": "https://localhost:8080/"
        },
        "id": "039bff2b",
        "outputId": "8c152a35-f7ec-4cc0-80e6-b7bcb79b8bdd"
      },
      "source": [
        "import random\n",
        "\n",
        "number = [i for i in range(-1, 1001)]\n",
        "\n",
        "pos = [i for i in number if i > 0]\n",
        "\n",
        "neg = [i for i in number if i < 0 ]\n",
        "\n",
        "print(\"positive numbers: \",pos)\n",
        "print(\"negative numbers: \",neg)"
      ],
      "id": "039bff2b",
      "execution_count": 21,
      "outputs": [
        {
          "output_type": "stream",
          "text": [
            "positive numbers:  [1, 2, 3, 4, 5, 6, 7, 8, 9, 10, 11, 12, 13, 14, 15, 16, 17, 18, 19, 20, 21, 22, 23, 24, 25, 26, 27, 28, 29, 30, 31, 32, 33, 34, 35, 36, 37, 38, 39, 40, 41, 42, 43, 44, 45, 46, 47, 48, 49, 50, 51, 52, 53, 54, 55, 56, 57, 58, 59, 60, 61, 62, 63, 64, 65, 66, 67, 68, 69, 70, 71, 72, 73, 74, 75, 76, 77, 78, 79, 80, 81, 82, 83, 84, 85, 86, 87, 88, 89, 90, 91, 92, 93, 94, 95, 96, 97, 98, 99, 100, 101, 102, 103, 104, 105, 106, 107, 108, 109, 110, 111, 112, 113, 114, 115, 116, 117, 118, 119, 120, 121, 122, 123, 124, 125, 126, 127, 128, 129, 130, 131, 132, 133, 134, 135, 136, 137, 138, 139, 140, 141, 142, 143, 144, 145, 146, 147, 148, 149, 150, 151, 152, 153, 154, 155, 156, 157, 158, 159, 160, 161, 162, 163, 164, 165, 166, 167, 168, 169, 170, 171, 172, 173, 174, 175, 176, 177, 178, 179, 180, 181, 182, 183, 184, 185, 186, 187, 188, 189, 190, 191, 192, 193, 194, 195, 196, 197, 198, 199, 200, 201, 202, 203, 204, 205, 206, 207, 208, 209, 210, 211, 212, 213, 214, 215, 216, 217, 218, 219, 220, 221, 222, 223, 224, 225, 226, 227, 228, 229, 230, 231, 232, 233, 234, 235, 236, 237, 238, 239, 240, 241, 242, 243, 244, 245, 246, 247, 248, 249, 250, 251, 252, 253, 254, 255, 256, 257, 258, 259, 260, 261, 262, 263, 264, 265, 266, 267, 268, 269, 270, 271, 272, 273, 274, 275, 276, 277, 278, 279, 280, 281, 282, 283, 284, 285, 286, 287, 288, 289, 290, 291, 292, 293, 294, 295, 296, 297, 298, 299, 300, 301, 302, 303, 304, 305, 306, 307, 308, 309, 310, 311, 312, 313, 314, 315, 316, 317, 318, 319, 320, 321, 322, 323, 324, 325, 326, 327, 328, 329, 330, 331, 332, 333, 334, 335, 336, 337, 338, 339, 340, 341, 342, 343, 344, 345, 346, 347, 348, 349, 350, 351, 352, 353, 354, 355, 356, 357, 358, 359, 360, 361, 362, 363, 364, 365, 366, 367, 368, 369, 370, 371, 372, 373, 374, 375, 376, 377, 378, 379, 380, 381, 382, 383, 384, 385, 386, 387, 388, 389, 390, 391, 392, 393, 394, 395, 396, 397, 398, 399, 400, 401, 402, 403, 404, 405, 406, 407, 408, 409, 410, 411, 412, 413, 414, 415, 416, 417, 418, 419, 420, 421, 422, 423, 424, 425, 426, 427, 428, 429, 430, 431, 432, 433, 434, 435, 436, 437, 438, 439, 440, 441, 442, 443, 444, 445, 446, 447, 448, 449, 450, 451, 452, 453, 454, 455, 456, 457, 458, 459, 460, 461, 462, 463, 464, 465, 466, 467, 468, 469, 470, 471, 472, 473, 474, 475, 476, 477, 478, 479, 480, 481, 482, 483, 484, 485, 486, 487, 488, 489, 490, 491, 492, 493, 494, 495, 496, 497, 498, 499, 500, 501, 502, 503, 504, 505, 506, 507, 508, 509, 510, 511, 512, 513, 514, 515, 516, 517, 518, 519, 520, 521, 522, 523, 524, 525, 526, 527, 528, 529, 530, 531, 532, 533, 534, 535, 536, 537, 538, 539, 540, 541, 542, 543, 544, 545, 546, 547, 548, 549, 550, 551, 552, 553, 554, 555, 556, 557, 558, 559, 560, 561, 562, 563, 564, 565, 566, 567, 568, 569, 570, 571, 572, 573, 574, 575, 576, 577, 578, 579, 580, 581, 582, 583, 584, 585, 586, 587, 588, 589, 590, 591, 592, 593, 594, 595, 596, 597, 598, 599, 600, 601, 602, 603, 604, 605, 606, 607, 608, 609, 610, 611, 612, 613, 614, 615, 616, 617, 618, 619, 620, 621, 622, 623, 624, 625, 626, 627, 628, 629, 630, 631, 632, 633, 634, 635, 636, 637, 638, 639, 640, 641, 642, 643, 644, 645, 646, 647, 648, 649, 650, 651, 652, 653, 654, 655, 656, 657, 658, 659, 660, 661, 662, 663, 664, 665, 666, 667, 668, 669, 670, 671, 672, 673, 674, 675, 676, 677, 678, 679, 680, 681, 682, 683, 684, 685, 686, 687, 688, 689, 690, 691, 692, 693, 694, 695, 696, 697, 698, 699, 700, 701, 702, 703, 704, 705, 706, 707, 708, 709, 710, 711, 712, 713, 714, 715, 716, 717, 718, 719, 720, 721, 722, 723, 724, 725, 726, 727, 728, 729, 730, 731, 732, 733, 734, 735, 736, 737, 738, 739, 740, 741, 742, 743, 744, 745, 746, 747, 748, 749, 750, 751, 752, 753, 754, 755, 756, 757, 758, 759, 760, 761, 762, 763, 764, 765, 766, 767, 768, 769, 770, 771, 772, 773, 774, 775, 776, 777, 778, 779, 780, 781, 782, 783, 784, 785, 786, 787, 788, 789, 790, 791, 792, 793, 794, 795, 796, 797, 798, 799, 800, 801, 802, 803, 804, 805, 806, 807, 808, 809, 810, 811, 812, 813, 814, 815, 816, 817, 818, 819, 820, 821, 822, 823, 824, 825, 826, 827, 828, 829, 830, 831, 832, 833, 834, 835, 836, 837, 838, 839, 840, 841, 842, 843, 844, 845, 846, 847, 848, 849, 850, 851, 852, 853, 854, 855, 856, 857, 858, 859, 860, 861, 862, 863, 864, 865, 866, 867, 868, 869, 870, 871, 872, 873, 874, 875, 876, 877, 878, 879, 880, 881, 882, 883, 884, 885, 886, 887, 888, 889, 890, 891, 892, 893, 894, 895, 896, 897, 898, 899, 900, 901, 902, 903, 904, 905, 906, 907, 908, 909, 910, 911, 912, 913, 914, 915, 916, 917, 918, 919, 920, 921, 922, 923, 924, 925, 926, 927, 928, 929, 930, 931, 932, 933, 934, 935, 936, 937, 938, 939, 940, 941, 942, 943, 944, 945, 946, 947, 948, 949, 950, 951, 952, 953, 954, 955, 956, 957, 958, 959, 960, 961, 962, 963, 964, 965, 966, 967, 968, 969, 970, 971, 972, 973, 974, 975, 976, 977, 978, 979, 980, 981, 982, 983, 984, 985, 986, 987, 988, 989, 990, 991, 992, 993, 994, 995, 996, 997, 998, 999, 1000]\n",
            "negative numbers:  [-1]\n"
          ],
          "name": "stdout"
        }
      ]
    },
    {
      "cell_type": "markdown",
      "metadata": {
        "id": "4f876feb"
      },
      "source": [
        "#### Determine the letter number in an alphabet\n",
        "\n",
        "*   List item\n",
        "*   List item\n",
        "\n"
      ],
      "id": "4f876feb"
    },
    {
      "cell_type": "code",
      "metadata": {
        "colab": {
          "base_uri": "https://localhost:8080/"
        },
        "id": "a082add2",
        "outputId": "2852d7e6-a96f-428e-e1a6-2a61fb6387bd"
      },
      "source": [
        "import string\n",
        "alphadict = dict((x, i + 1) for i, x in enumerate(string.ascii_lowercase))\n",
        "alphadict['b']"
      ],
      "id": "a082add2",
      "execution_count": 28,
      "outputs": [
        {
          "output_type": "execute_result",
          "data": {
            "text/plain": [
              "2"
            ]
          },
          "metadata": {
            "tags": []
          },
          "execution_count": 28
        }
      ]
    },
    {
      "cell_type": "markdown",
      "metadata": {
        "id": "ac8966e6"
      },
      "source": [
        "#### Check the divisibilty of a number by the another number."
      ],
      "id": "ac8966e6"
    },
    {
      "cell_type": "code",
      "metadata": {
        "colab": {
          "base_uri": "https://localhost:8080/"
        },
        "id": "f9ef4596",
        "outputId": "d922fa69-1319-4c7c-d15e-c30941dfe22d"
      },
      "source": [
        "def multiple(m, n):\n",
        "\treturn True if m % n == 0 else False\n",
        "\n",
        "print(multiple(20, 5))\n",
        "print(multiple(7, 2))"
      ],
      "id": "f9ef4596",
      "execution_count": 29,
      "outputs": [
        {
          "output_type": "stream",
          "text": [
            "True\n",
            "False\n"
          ],
          "name": "stdout"
        }
      ]
    },
    {
      "cell_type": "markdown",
      "metadata": {
        "id": "9abdfb38"
      },
      "source": [
        "#### Is is possibe to form a trinagle wiht user given points ?"
      ],
      "id": "9abdfb38"
    },
    {
      "cell_type": "code",
      "metadata": {
        "colab": {
          "base_uri": "https://localhost:8080/"
        },
        "id": "ab6c5735",
        "outputId": "df3718f5-8e72-446c-e0a6-471aedc5a7d0"
      },
      "source": [
        "import math\n",
        "\n",
        "def semi_prmtr(a,b,c):\n",
        "    return (a+b+c)/2\n",
        "\n",
        "def is_triangleV2(x,y,z):\n",
        "    if(z>(x+y)):\n",
        "        return False\n",
        "    elif(y>(x+z)):\n",
        "        return False\n",
        "    elif(x>(z+y)):\n",
        "        return False\n",
        "    else:\n",
        "        return True\n",
        " \n",
        "def tri_Area(a,b,c):\n",
        "    if(is_triangleV2(a,b,c)):\n",
        "        s = semi_prmtr(a,b,c)\n",
        "        area = math.sqrt(s*(s-a)*(s-b)*(s-c))\n",
        "        return area\n",
        "    else:\n",
        "        print(\"Invalid Triangle\")\n",
        " \t\t\n",
        "print(is_triangleV2(3, 4, 5))\n",
        "print(tri_Area(3, 4, 5))\n",
        "print(is_triangleV2(1, 2, 3))\n",
        "print(tri_Area(1, 2, 3))"
      ],
      "id": "ab6c5735",
      "execution_count": 37,
      "outputs": [
        {
          "output_type": "stream",
          "text": [
            "True\n",
            "6.0\n",
            "True\n",
            "0.0\n"
          ],
          "name": "stdout"
        }
      ]
    },
    {
      "cell_type": "markdown",
      "metadata": {
        "id": "7155ef30"
      },
      "source": [
        "#### calculate the mass, density and volume given by the user"
      ],
      "id": "7155ef30"
    },
    {
      "cell_type": "code",
      "metadata": {
        "colab": {
          "base_uri": "https://localhost:8080/"
        },
        "id": "e9c56c05",
        "outputId": "7231c7ca-1966-4615-f4c6-b1940a411ef5"
      },
      "source": [
        "mass = int(input(\"Enter the mass of a cuboid\"))\n",
        "volume = int(input(\"Enter the volume of a cuboid\"))\n",
        "\n",
        "density = mass / volume\n",
        "\n",
        "print(density)"
      ],
      "id": "e9c56c05",
      "execution_count": 38,
      "outputs": [
        {
          "output_type": "stream",
          "text": [
            "Enter the mass of a cuboid5000\n",
            "Enter the volume of a cuboid2500\n",
            "2.0\n"
          ],
          "name": "stdout"
        }
      ]
    },
    {
      "cell_type": "markdown",
      "metadata": {
        "id": "2241a58b"
      },
      "source": [
        "#### Check if theo followings sets are disjoint or not ?"
      ],
      "id": "2241a58b"
    },
    {
      "cell_type": "code",
      "metadata": {
        "id": "2fc46c5e"
      },
      "source": [
        "set1 = {1, 2, 5, 6}\n",
        "set2 = {7, 9, 3, 4}"
      ],
      "id": "2fc46c5e",
      "execution_count": 40,
      "outputs": []
    },
    {
      "cell_type": "code",
      "metadata": {
        "colab": {
          "base_uri": "https://localhost:8080/"
        },
        "id": "0b7d5552",
        "outputId": "11f1aa85-f6f5-4f9d-8830-a860f17ec968"
      },
      "source": [
        "set1 = list(set1)\n",
        "set2 = list(set2)\n",
        "def areDisjoint(set1, set2, m, n):\n",
        "    # Take every element of set1[] and search it in set2\n",
        "    for i in range(0, m):\n",
        "        for j in range(0, n):\n",
        "            if (set1[i] == set2[j]):\n",
        "                return False\n",
        " \n",
        "    # If no element of set1 is present in set2\n",
        "    return True\n",
        "\n",
        "m = len(set1)\n",
        "n = len(set2)\n",
        "\n",
        "if areDisjoint(set1, set2, m, n):\n",
        "  print(\"yes\") \n",
        "else:\n",
        "  print(\"No\")"
      ],
      "id": "0b7d5552",
      "execution_count": 44,
      "outputs": [
        {
          "output_type": "stream",
          "text": [
            "yes\n"
          ],
          "name": "stdout"
        }
      ]
    },
    {
      "cell_type": "markdown",
      "metadata": {
        "id": "962885e6"
      },
      "source": [
        "**Create a Function that can find the sum of more than 2 argumnents** Hint: args"
      ],
      "id": "962885e6"
    },
    {
      "cell_type": "code",
      "metadata": {
        "colab": {
          "base_uri": "https://localhost:8080/"
        },
        "id": "e4756bd7",
        "outputId": "1481ab9b-caa3-4dbb-f806-eb30170b51ce"
      },
      "source": [
        "def summ(num1, *args):\n",
        "    total = num1\n",
        "    for num in args:\n",
        "        total = total + num\n",
        "    return total\n",
        "\n",
        "print(summ(1, 2, 3))\n",
        "\n",
        "print(summ(1, 2, 3, 4, 5, 6, 7))"
      ],
      "id": "e4756bd7",
      "execution_count": 45,
      "outputs": [
        {
          "output_type": "stream",
          "text": [
            "6\n",
            "28\n"
          ],
          "name": "stdout"
        }
      ]
    },
    {
      "cell_type": "markdown",
      "metadata": {
        "id": "6cc0052f"
      },
      "source": [
        "**Write a function calculation() such that it can accept two variables and calculate the addition and subtraction of them. And also it must return both addition and subtraction in a single return call**"
      ],
      "id": "6cc0052f"
    },
    {
      "cell_type": "code",
      "metadata": {
        "colab": {
          "base_uri": "https://localhost:8080/"
        },
        "id": "87e431ca",
        "outputId": "cbb20517-7e1b-47e3-c82c-1439eabd1c88"
      },
      "source": [
        "def calculation(a, b):\n",
        "    return a+b, a-b\n",
        " \n",
        "res = calculation(40, 10)\n",
        "print(res)"
      ],
      "id": "87e431ca",
      "execution_count": 46,
      "outputs": [
        {
          "output_type": "stream",
          "text": [
            "(50, 30)\n"
          ],
          "name": "stdout"
        }
      ]
    },
    {
      "cell_type": "markdown",
      "metadata": {
        "id": "190d84cb"
      },
      "source": [
        "**Create a function showEmployee() in such a way that it should accept employee name, and its salary and display both. If the salary is missing in the function call assign default value 9000 to salary**"
      ],
      "id": "190d84cb"
    },
    {
      "cell_type": "code",
      "metadata": {
        "colab": {
          "base_uri": "https://localhost:8080/"
        },
        "id": "8d639da4",
        "outputId": "73a37cf5-4b78-4cff-d479-fe5407634ec5"
      },
      "source": [
        "def showEmployee(name, salary=9000):\n",
        "    print(\"Employee\", name, \"salary is:\", salary)\n",
        "\n",
        "showEmployee(\"Ben\", 9000)\n",
        "showEmployee(\"Ben\")"
      ],
      "id": "8d639da4",
      "execution_count": 47,
      "outputs": [
        {
          "output_type": "stream",
          "text": [
            "Employee Ben salary is: 9000\n",
            "Employee Ben salary is: 9000\n"
          ],
          "name": "stdout"
        }
      ]
    },
    {
      "cell_type": "markdown",
      "metadata": {
        "id": "5dffc3c5"
      },
      "source": [
        "**Find the last position of a substring “Emma” in a given string**"
      ],
      "id": "5dffc3c5"
    },
    {
      "cell_type": "code",
      "metadata": {
        "id": "fcd8634b"
      },
      "source": [
        "str1 = \"Emma is a data scientist who knows Python. Emma works at google.\""
      ],
      "id": "fcd8634b",
      "execution_count": 48,
      "outputs": []
    },
    {
      "cell_type": "code",
      "metadata": {
        "colab": {
          "base_uri": "https://localhost:8080/"
        },
        "id": "Gy_hjjDpMUj5",
        "outputId": "b535b12d-b403-45e0-8c6d-2c8db720e92c"
      },
      "source": [
        "tar_word = \"Emma\"\n",
        "\n",
        "# printing original string \n",
        "print(\"The original string : \" + str(str1))\n",
        "  \n",
        "# using rindex()\n",
        "# Find last occurrence of substring\n",
        "res = str1.rindex(tar_word)\n",
        "  \n",
        "# print result\n",
        "print(\"Index of last occurrence of substring is : \" + str(res))"
      ],
      "id": "Gy_hjjDpMUj5",
      "execution_count": 50,
      "outputs": [
        {
          "output_type": "stream",
          "text": [
            "The original string : Emma is a data scientist who knows Python. Emma works at google.\n",
            "Index of last occurrence of substring is : 43\n"
          ],
          "name": "stdout"
        }
      ]
    },
    {
      "cell_type": "markdown",
      "metadata": {
        "id": "353c52f4"
      },
      "source": [
        "**Split a given string on hyphens into several substrings and display each substring**"
      ],
      "id": "353c52f4"
    },
    {
      "cell_type": "code",
      "metadata": {
        "colab": {
          "base_uri": "https://localhost:8080/"
        },
        "id": "0f7161eb",
        "outputId": "d2639093-e7a8-42d1-c51a-d022503ea517"
      },
      "source": [
        "str1 = 'Emma-is-a-data-scientist'\n",
        "a = str1.split('-')\n",
        "print(str1.split('-'))\n",
        "print((',').join(a))"
      ],
      "id": "0f7161eb",
      "execution_count": 54,
      "outputs": [
        {
          "output_type": "stream",
          "text": [
            "['Emma', 'is', 'a', 'data', 'scientist']\n",
            "Emma,is,a,data,scientist\n"
          ],
          "name": "stdout"
        }
      ]
    },
    {
      "cell_type": "markdown",
      "metadata": {
        "id": "2ae75794"
      },
      "source": [
        "\n",
        "\n",
        "```\n",
        "# This is formatted as code\n",
        "```\n",
        "\n",
        "**Merge following two Python dictionaries into one**"
      ],
      "id": "2ae75794"
    },
    {
      "cell_type": "code",
      "metadata": {
        "colab": {
          "base_uri": "https://localhost:8080/"
        },
        "id": "596a26f3",
        "outputId": "017ac775-6213-44a8-8a08-f0775838a022"
      },
      "source": [
        "dict1 = {'Ten': 10, 'Twenty': 20, 'Thirty': 30}\n",
        "dict2 = {'Thirty': 30, 'Fourty': 40, 'Fifty': 50}\n",
        "\n",
        "dict1.update(dict2)\n",
        "print(dict1)"
      ],
      "id": "596a26f3",
      "execution_count": 58,
      "outputs": [
        {
          "output_type": "stream",
          "text": [
            "{'Ten': 10, 'Twenty': 20, 'Thirty': 30, 'Fourty': 40, 'Fifty': 50}\n"
          ],
          "name": "stdout"
        }
      ]
    },
    {
      "cell_type": "markdown",
      "metadata": {
        "id": "f8b74cd8"
      },
      "source": [
        "**Rename key city to location in the following dictionary**"
      ],
      "id": "f8b74cd8"
    },
    {
      "cell_type": "code",
      "metadata": {
        "colab": {
          "base_uri": "https://localhost:8080/"
        },
        "id": "6892bfe7",
        "outputId": "c6fa3ba8-1520-46bb-beed-ff85745e8a52"
      },
      "source": [
        "sampleDict = {\n",
        "  \"name\": \"Kelly\",\n",
        "  \"age\":25,\n",
        "  \"salary\": 8000,\n",
        "  \"city\": \"New york\"\n",
        "}\n",
        "sampleDict[\"city\"] = \"India\"\n",
        "\n",
        "print(sampleDict)"
      ],
      "id": "6892bfe7",
      "execution_count": 60,
      "outputs": [
        {
          "output_type": "stream",
          "text": [
            "{'name': 'Kelly', 'age': 25, 'salary': 8000, 'city': 'India'}\n"
          ],
          "name": "stdout"
        }
      ]
    },
    {
      "cell_type": "markdown",
      "metadata": {
        "id": "36034904"
      },
      "source": [
        "**Display numbers from -10 to -1 using for loop**"
      ],
      "id": "36034904"
    },
    {
      "cell_type": "code",
      "metadata": {
        "colab": {
          "base_uri": "https://localhost:8080/"
        },
        "id": "3284c7ab",
        "outputId": "2d06cf2a-bb0b-4934-af3f-9024c879a3d1"
      },
      "source": [
        "num = [-i for i in range(1, 11)]\n",
        "\n",
        "print(num[::-1])"
      ],
      "id": "3284c7ab",
      "execution_count": 64,
      "outputs": [
        {
          "output_type": "stream",
          "text": [
            "[-10, -9, -8, -7, -6, -5, -4, -3, -2, -1]\n"
          ],
          "name": "stdout"
        }
      ]
    },
    {
      "cell_type": "markdown",
      "metadata": {
        "id": "fec546c7"
      },
      "source": [
        "**Use a loop to display elements from a given list that are present at even index positions**"
      ],
      "id": "fec546c7"
    },
    {
      "cell_type": "code",
      "metadata": {
        "colab": {
          "base_uri": "https://localhost:8080/"
        },
        "id": "60fa9352",
        "outputId": "0cac2f87-d1a7-45cd-d0cd-43798435c3af"
      },
      "source": [
        "num = [i for i in range(1, 20) if i %2 == 0]\n",
        "print(num)"
      ],
      "id": "60fa9352",
      "execution_count": 65,
      "outputs": [
        {
          "output_type": "stream",
          "text": [
            "[2, 4, 6, 8, 10, 12, 14, 16, 18]\n"
          ],
          "name": "stdout"
        }
      ]
    },
    {
      "cell_type": "markdown",
      "metadata": {
        "id": "183bedfa"
      },
      "source": [
        "**Display float number with 2 decimal places using print()**"
      ],
      "id": "183bedfa"
    },
    {
      "cell_type": "code",
      "metadata": {
        "colab": {
          "base_uri": "https://localhost:8080/"
        },
        "id": "8731e5b0",
        "outputId": "37401321-f17b-47a8-b7be-9f7bb91178b6"
      },
      "source": [
        "number = 3.142356898\n",
        "f = '{0:.3g}'.format(number)\n",
        "print(f)"
      ],
      "id": "8731e5b0",
      "execution_count": 69,
      "outputs": [
        {
          "output_type": "stream",
          "text": [
            "3.14\n"
          ],
          "name": "stdout"
        }
      ]
    },
    {
      "cell_type": "code",
      "metadata": {
        "id": "od619hAAEh5C"
      },
      "source": [
        ""
      ],
      "id": "od619hAAEh5C",
      "execution_count": null,
      "outputs": []
    }
  ]
}