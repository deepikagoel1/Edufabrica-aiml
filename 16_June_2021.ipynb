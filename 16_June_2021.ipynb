{
  "nbformat": 4,
  "nbformat_minor": 5,
  "metadata": {
    "kernelspec": {
      "display_name": "Python 3",
      "language": "python",
      "name": "python3"
    },
    "language_info": {
      "codemirror_mode": {
        "name": "ipython",
        "version": 3
      },
      "file_extension": ".py",
      "mimetype": "text/x-python",
      "name": "python",
      "nbconvert_exporter": "python",
      "pygments_lexer": "ipython3",
      "version": "3.8.8"
    },
    "colab": {
      "name": "16  June 2021.ipynb",
      "provenance": [],
      "include_colab_link": true
    }
  },
  "cells": [
    {
      "cell_type": "markdown",
      "metadata": {
        "id": "view-in-github",
        "colab_type": "text"
      },
      "source": [
        "<a href=\"https://colab.research.google.com/github/deepikagoel1/Edufabrica-aiml/blob/main/16_June_2021.ipynb\" target=\"_parent\"><img src=\"https://colab.research.google.com/assets/colab-badge.svg\" alt=\"Open In Colab\"/></a>"
      ]
    },
    {
      "cell_type": "markdown",
      "metadata": {
        "id": "144e7495"
      },
      "source": [
        "# Strings, functions, Lambda, Conditions, Loops"
      ],
      "id": "144e7495"
    },
    {
      "cell_type": "code",
      "metadata": {
        "id": "1c94581d",
        "outputId": "3097a2d9-e3e1-4c0b-bc68-99e67a2edeaf"
      },
      "source": [
        "a = 'This is a String.'\n",
        "a"
      ],
      "id": "1c94581d",
      "execution_count": null,
      "outputs": [
        {
          "output_type": "execute_result",
          "data": {
            "text/plain": [
              "'This is a String.'"
            ]
          },
          "metadata": {
            "tags": []
          },
          "execution_count": 1
        }
      ]
    },
    {
      "cell_type": "code",
      "metadata": {
        "id": "b74b33d9",
        "outputId": "cc9a2b1e-620b-4cf7-fb65-3a89b148dba9"
      },
      "source": [
        "print(a.lower())"
      ],
      "id": "b74b33d9",
      "execution_count": null,
      "outputs": [
        {
          "output_type": "stream",
          "text": [
            "this is a string.\n"
          ],
          "name": "stdout"
        }
      ]
    },
    {
      "cell_type": "code",
      "metadata": {
        "id": "b38e8b60",
        "outputId": "d64c54be-0ae7-47dc-dd4c-1124c95a3b22"
      },
      "source": [
        "a.upper()"
      ],
      "id": "b38e8b60",
      "execution_count": null,
      "outputs": [
        {
          "output_type": "execute_result",
          "data": {
            "text/plain": [
              "'THIS IS A STRING.'"
            ]
          },
          "metadata": {
            "tags": []
          },
          "execution_count": 4
        }
      ]
    },
    {
      "cell_type": "code",
      "metadata": {
        "id": "ef16ab03",
        "outputId": "9fd9ad11-4aa0-47d7-86f5-fb24a22d8621"
      },
      "source": [
        "a.capitalize()"
      ],
      "id": "ef16ab03",
      "execution_count": null,
      "outputs": [
        {
          "output_type": "execute_result",
          "data": {
            "text/plain": [
              "'This is a string.'"
            ]
          },
          "metadata": {
            "tags": []
          },
          "execution_count": 5
        }
      ]
    },
    {
      "cell_type": "code",
      "metadata": {
        "id": "97307b8e",
        "outputId": "eebb83f3-5296-4043-fdae-c888772665d9"
      },
      "source": [
        "a.title()"
      ],
      "id": "97307b8e",
      "execution_count": null,
      "outputs": [
        {
          "output_type": "execute_result",
          "data": {
            "text/plain": [
              "'This Is A String.'"
            ]
          },
          "metadata": {
            "tags": []
          },
          "execution_count": 6
        }
      ]
    },
    {
      "cell_type": "code",
      "metadata": {
        "id": "10de27e2",
        "outputId": "b1d91c8e-ed80-44a9-da9a-0c1c2851ccb5"
      },
      "source": [
        "s = 'Machine Learning is a subset of Artificial Intelligence.'\n",
        "s"
      ],
      "id": "10de27e2",
      "execution_count": null,
      "outputs": [
        {
          "output_type": "execute_result",
          "data": {
            "text/plain": [
              "'Machine Learning is a subset of Artificial Intelligence.'"
            ]
          },
          "metadata": {
            "tags": []
          },
          "execution_count": 7
        }
      ]
    },
    {
      "cell_type": "code",
      "metadata": {
        "id": "efd93793",
        "outputId": "ed919a25-bf52-4814-f81c-a14d874c3668"
      },
      "source": [
        "s.count('subset')"
      ],
      "id": "efd93793",
      "execution_count": null,
      "outputs": [
        {
          "output_type": "execute_result",
          "data": {
            "text/plain": [
              "1"
            ]
          },
          "metadata": {
            "tags": []
          },
          "execution_count": 8
        }
      ]
    },
    {
      "cell_type": "code",
      "metadata": {
        "id": "9710452c",
        "outputId": "bf018435-c9d7-42a6-a611-8f9c2fe230b2"
      },
      "source": [
        "s.find('subset')"
      ],
      "id": "9710452c",
      "execution_count": null,
      "outputs": [
        {
          "output_type": "execute_result",
          "data": {
            "text/plain": [
              "22"
            ]
          },
          "metadata": {
            "tags": []
          },
          "execution_count": 9
        }
      ]
    },
    {
      "cell_type": "code",
      "metadata": {
        "id": "f96841f7",
        "outputId": "52861588-7030-4a47-aac6-8c1cb81e7d69"
      },
      "source": [
        "s.index('s')"
      ],
      "id": "f96841f7",
      "execution_count": null,
      "outputs": [
        {
          "output_type": "execute_result",
          "data": {
            "text/plain": [
              "18"
            ]
          },
          "metadata": {
            "tags": []
          },
          "execution_count": 10
        }
      ]
    },
    {
      "cell_type": "code",
      "metadata": {
        "id": "671f8976",
        "outputId": "0a2714dd-3133-4ebb-dcd0-6cc605601ec8"
      },
      "source": [
        "s[17:28]"
      ],
      "id": "671f8976",
      "execution_count": null,
      "outputs": [
        {
          "output_type": "execute_result",
          "data": {
            "text/plain": [
              "'is a subset'"
            ]
          },
          "metadata": {
            "tags": []
          },
          "execution_count": 14
        }
      ]
    },
    {
      "cell_type": "code",
      "metadata": {
        "id": "81214a95",
        "outputId": "6bab4976-3c66-4532-85c6-65e1c68c5a76"
      },
      "source": [
        "s[7:]"
      ],
      "id": "81214a95",
      "execution_count": null,
      "outputs": [
        {
          "output_type": "execute_result",
          "data": {
            "text/plain": [
              "' Learning is a subset of Artificial Intelligence.'"
            ]
          },
          "metadata": {
            "tags": []
          },
          "execution_count": 18
        }
      ]
    },
    {
      "cell_type": "code",
      "metadata": {
        "id": "ed895e1d",
        "outputId": "b73a90a6-825c-4f1e-c625-02c2fb6bdc81"
      },
      "source": [
        "f'{10} = {5}'"
      ],
      "id": "ed895e1d",
      "execution_count": null,
      "outputs": [
        {
          "output_type": "execute_result",
          "data": {
            "text/plain": [
              "'10 = 5'"
            ]
          },
          "metadata": {
            "tags": []
          },
          "execution_count": 37
        }
      ]
    },
    {
      "cell_type": "code",
      "metadata": {
        "id": "d3d48b50",
        "outputId": "4b9ba9d0-ca2f-425c-ccab-628fbe240c4e"
      },
      "source": [
        "print('{} = {}'.format(int, 5))"
      ],
      "id": "d3d48b50",
      "execution_count": null,
      "outputs": [
        {
          "output_type": "stream",
          "text": [
            "<class 'int'> = 5\n"
          ],
          "name": "stdout"
        }
      ]
    },
    {
      "cell_type": "code",
      "metadata": {
        "id": "4a5b45fe"
      },
      "source": [
        "email = 'example@domain.com'"
      ],
      "id": "4a5b45fe",
      "execution_count": null,
      "outputs": []
    },
    {
      "cell_type": "code",
      "metadata": {
        "id": "cf961bc6"
      },
      "source": [
        "username = []"
      ],
      "id": "cf961bc6",
      "execution_count": null,
      "outputs": []
    },
    {
      "cell_type": "code",
      "metadata": {
        "id": "34194893",
        "outputId": "dbdd0cc7-3291-45f7-bcfa-2bd6bbfa88e1"
      },
      "source": [
        "email.split(\"@\")[0]"
      ],
      "id": "34194893",
      "execution_count": null,
      "outputs": [
        {
          "output_type": "execute_result",
          "data": {
            "text/plain": [
              "'example'"
            ]
          },
          "metadata": {
            "tags": []
          },
          "execution_count": 25
        }
      ]
    },
    {
      "cell_type": "code",
      "metadata": {
        "id": "52dcec56",
        "outputId": "2f3913a6-2e81-4510-aca6-65b231c76b70"
      },
      "source": [
        "E = 'contact@edufabrica.net'\n",
        "E.split('@')[-1]"
      ],
      "id": "52dcec56",
      "execution_count": null,
      "outputs": [
        {
          "output_type": "execute_result",
          "data": {
            "text/plain": [
              "'edufabrica.net'"
            ]
          },
          "metadata": {
            "tags": []
          },
          "execution_count": 35
        }
      ]
    },
    {
      "cell_type": "code",
      "metadata": {
        "id": "ba42687d",
        "outputId": "b869310b-9fb8-44e5-cf7c-dfeebaab34ff"
      },
      "source": [
        "E"
      ],
      "id": "ba42687d",
      "execution_count": null,
      "outputs": [
        {
          "output_type": "execute_result",
          "data": {
            "text/plain": [
              "'contact@edufabrica.net'"
            ]
          },
          "metadata": {
            "tags": []
          },
          "execution_count": 28
        }
      ]
    },
    {
      "cell_type": "code",
      "metadata": {
        "id": "dcad665f",
        "outputId": "0b7ac2c0-e990-44b2-c172-a7f57cfcf8c2"
      },
      "source": [
        "'ToGgLE caSE'.swapcase()"
      ],
      "id": "dcad665f",
      "execution_count": null,
      "outputs": [
        {
          "output_type": "execute_result",
          "data": {
            "text/plain": [
              "'tOgGle CAse'"
            ]
          },
          "metadata": {
            "tags": []
          },
          "execution_count": 36
        }
      ]
    },
    {
      "cell_type": "markdown",
      "metadata": {
        "id": "084f27eb"
      },
      "source": [
        "# Conditional Statements"
      ],
      "id": "084f27eb"
    },
    {
      "cell_type": "code",
      "metadata": {
        "id": "a232fd7d",
        "outputId": "b46378bb-ef47-4cdf-c573-444255a411f7"
      },
      "source": [
        "2 > 3 and 4 < 5"
      ],
      "id": "a232fd7d",
      "execution_count": null,
      "outputs": [
        {
          "output_type": "execute_result",
          "data": {
            "text/plain": [
              "False"
            ]
          },
          "metadata": {
            "tags": []
          },
          "execution_count": 38
        }
      ]
    },
    {
      "cell_type": "code",
      "metadata": {
        "id": "49dce67a",
        "outputId": "7a6b2ee6-ff4f-49cf-e40b-3f08dc179654"
      },
      "source": [
        "2 < 3 or 4 > 5"
      ],
      "id": "49dce67a",
      "execution_count": null,
      "outputs": [
        {
          "output_type": "execute_result",
          "data": {
            "text/plain": [
              "True"
            ]
          },
          "metadata": {
            "tags": []
          },
          "execution_count": 39
        }
      ]
    },
    {
      "cell_type": "code",
      "metadata": {
        "id": "5ded519b",
        "outputId": "331d8438-7621-4891-833e-2c377fc4f6e4"
      },
      "source": [
        "not True"
      ],
      "id": "5ded519b",
      "execution_count": null,
      "outputs": [
        {
          "output_type": "execute_result",
          "data": {
            "text/plain": [
              "False"
            ]
          },
          "metadata": {
            "tags": []
          },
          "execution_count": 40
        }
      ]
    },
    {
      "cell_type": "code",
      "metadata": {
        "id": "a5aafd86",
        "outputId": "b4c21b5c-975c-44a0-8f55-498c784ea9fa"
      },
      "source": [
        "not 0"
      ],
      "id": "a5aafd86",
      "execution_count": null,
      "outputs": [
        {
          "output_type": "execute_result",
          "data": {
            "text/plain": [
              "True"
            ]
          },
          "metadata": {
            "tags": []
          },
          "execution_count": 41
        }
      ]
    },
    {
      "cell_type": "code",
      "metadata": {
        "id": "8087458f",
        "outputId": "d6156633-0205-4ae0-c338-ddf4e44620d4"
      },
      "source": [
        "x = 2\n",
        "x += 3\n",
        "x"
      ],
      "id": "8087458f",
      "execution_count": null,
      "outputs": [
        {
          "output_type": "execute_result",
          "data": {
            "text/plain": [
              "5"
            ]
          },
          "metadata": {
            "tags": []
          },
          "execution_count": 42
        }
      ]
    },
    {
      "cell_type": "code",
      "metadata": {
        "id": "a9589add"
      },
      "source": [
        "r = [2, 3, 4, 5, 6, 7, 8, 9, 10]\n",
        "even = [] ; odd= []\n",
        "for numbers in r:\n",
        "    if numbers % 2 == 0:\n",
        "        even.append(numbers)\n",
        "    else:\n",
        "        odd.append(numbers)"
      ],
      "id": "a9589add",
      "execution_count": null,
      "outputs": []
    },
    {
      "cell_type": "code",
      "metadata": {
        "id": "a41715b2",
        "outputId": "5f760826-773f-45c8-f125-759e02bd997f"
      },
      "source": [
        "even"
      ],
      "id": "a41715b2",
      "execution_count": null,
      "outputs": [
        {
          "output_type": "execute_result",
          "data": {
            "text/plain": [
              "[2, 4, 6, 8, 10]"
            ]
          },
          "metadata": {
            "tags": []
          },
          "execution_count": 44
        }
      ]
    },
    {
      "cell_type": "code",
      "metadata": {
        "id": "b8f80397",
        "outputId": "e6ab3193-9947-4c6b-de1f-7c10cd180618"
      },
      "source": [
        "odd"
      ],
      "id": "b8f80397",
      "execution_count": null,
      "outputs": [
        {
          "output_type": "execute_result",
          "data": {
            "text/plain": [
              "[3, 5, 7, 9]"
            ]
          },
          "metadata": {
            "tags": []
          },
          "execution_count": 45
        }
      ]
    },
    {
      "cell_type": "code",
      "metadata": {
        "id": "694e49e7",
        "outputId": "e9a72f0f-6d7c-4ec5-8eaa-b6897c80ffdb"
      },
      "source": [
        "extension = ['pdf','doc','xml']\n",
        "if 'data.csv'.split('.')[-1] in extension:\n",
        "    print('Uploading Successfull')\n",
        "else:\n",
        "    print('File Error')"
      ],
      "id": "694e49e7",
      "execution_count": null,
      "outputs": [
        {
          "output_type": "stream",
          "text": [
            "File Error\n"
          ],
          "name": "stdout"
        }
      ]
    },
    {
      "cell_type": "markdown",
      "metadata": {
        "id": "b44b55bc"
      },
      "source": [
        "# Loops\n",
        "Repitions or Iterations"
      ],
      "id": "b44b55bc"
    },
    {
      "cell_type": "code",
      "metadata": {
        "id": "56be7b43",
        "outputId": "b9a32fda-6cc3-4d4f-a4cf-7cdcd0750327"
      },
      "source": [
        "n = [1, 2, 3, 4, 5]\n",
        "print(n[0], n[1])"
      ],
      "id": "56be7b43",
      "execution_count": null,
      "outputs": [
        {
          "output_type": "stream",
          "text": [
            "1 2\n"
          ],
          "name": "stdout"
        }
      ]
    },
    {
      "cell_type": "code",
      "metadata": {
        "id": "6afa5de1",
        "outputId": "803d89e9-99ca-429b-9235-dd7a3679cf8b"
      },
      "source": [
        "for variable in n:\n",
        "    print(variable)"
      ],
      "id": "6afa5de1",
      "execution_count": null,
      "outputs": [
        {
          "output_type": "stream",
          "text": [
            "1\n",
            "2\n",
            "3\n",
            "4\n",
            "5\n"
          ],
          "name": "stdout"
        }
      ]
    },
    {
      "cell_type": "code",
      "metadata": {
        "id": "9da7e898"
      },
      "source": [
        "names  = ['Ajit','Anirudh','Amrutha','Aditya']"
      ],
      "id": "9da7e898",
      "execution_count": null,
      "outputs": []
    },
    {
      "cell_type": "code",
      "metadata": {
        "id": "489334cd",
        "outputId": "7c0e3868-80d0-4c4a-f2bd-2e3de8536332"
      },
      "source": [
        "for students in names:\n",
        "    print(students)"
      ],
      "id": "489334cd",
      "execution_count": null,
      "outputs": [
        {
          "output_type": "stream",
          "text": [
            "Ajit\n",
            "Anirudh\n",
            "Amrutha\n",
            "Aditya\n"
          ],
          "name": "stdout"
        }
      ]
    },
    {
      "cell_type": "code",
      "metadata": {
        "id": "69004719",
        "outputId": "ad46c8be-6d76-4048-d938-7704ba1be5d5"
      },
      "source": [
        "m = 1 \n",
        "while m < 10:\n",
        "    print(m)\n",
        "    m = m + 1\n",
        "else:\n",
        "    print('number exceed the value of 9, loop ended')"
      ],
      "id": "69004719",
      "execution_count": null,
      "outputs": [
        {
          "output_type": "stream",
          "text": [
            "1\n",
            "2\n",
            "3\n",
            "4\n",
            "5\n",
            "6\n",
            "7\n",
            "8\n",
            "9\n",
            "number exceed the value of 9, loop ended\n"
          ],
          "name": "stdout"
        }
      ]
    },
    {
      "cell_type": "code",
      "metadata": {
        "id": "4036b65c"
      },
      "source": [
        "import numpy as np \n",
        "import pandas as pd"
      ],
      "id": "4036b65c",
      "execution_count": null,
      "outputs": []
    },
    {
      "cell_type": "code",
      "metadata": {
        "id": "731bc7a4"
      },
      "source": [
        "code = []\n",
        "for i in range(10000):\n",
        "    d = np.random.randint(123456, 987654)\n",
        "    code.append('G- '+str(d))\n",
        "code = np.array(code).reshape(1000, 10)\n",
        "df = pd.DataFrame(data = code)"
      ],
      "id": "731bc7a4",
      "execution_count": null,
      "outputs": []
    },
    {
      "cell_type": "code",
      "metadata": {
        "id": "2c33a028",
        "outputId": "932cb479-a7ff-4186-f57a-4161dac474bb"
      },
      "source": [
        "df.sample()"
      ],
      "id": "2c33a028",
      "execution_count": null,
      "outputs": [
        {
          "output_type": "execute_result",
          "data": {
            "text/html": [
              "<div>\n",
              "<style scoped>\n",
              "    .dataframe tbody tr th:only-of-type {\n",
              "        vertical-align: middle;\n",
              "    }\n",
              "\n",
              "    .dataframe tbody tr th {\n",
              "        vertical-align: top;\n",
              "    }\n",
              "\n",
              "    .dataframe thead th {\n",
              "        text-align: right;\n",
              "    }\n",
              "</style>\n",
              "<table border=\"1\" class=\"dataframe\">\n",
              "  <thead>\n",
              "    <tr style=\"text-align: right;\">\n",
              "      <th></th>\n",
              "      <th>0</th>\n",
              "      <th>1</th>\n",
              "      <th>2</th>\n",
              "      <th>3</th>\n",
              "      <th>4</th>\n",
              "      <th>5</th>\n",
              "      <th>6</th>\n",
              "      <th>7</th>\n",
              "      <th>8</th>\n",
              "      <th>9</th>\n",
              "    </tr>\n",
              "  </thead>\n",
              "  <tbody>\n",
              "    <tr>\n",
              "      <th>866</th>\n",
              "      <td>G- 183619</td>\n",
              "      <td>G- 643118</td>\n",
              "      <td>G- 241861</td>\n",
              "      <td>G- 532285</td>\n",
              "      <td>G- 497804</td>\n",
              "      <td>G- 400987</td>\n",
              "      <td>G- 961330</td>\n",
              "      <td>G- 910168</td>\n",
              "      <td>G- 395877</td>\n",
              "      <td>G- 404427</td>\n",
              "    </tr>\n",
              "  </tbody>\n",
              "</table>\n",
              "</div>"
            ],
            "text/plain": [
              "             0          1          2          3          4          5  \\\n",
              "866  G- 183619  G- 643118  G- 241861  G- 532285  G- 497804  G- 400987   \n",
              "\n",
              "             6          7          8          9  \n",
              "866  G- 961330  G- 910168  G- 395877  G- 404427  "
            ]
          },
          "metadata": {
            "tags": []
          },
          "execution_count": 75
        }
      ]
    },
    {
      "cell_type": "markdown",
      "metadata": {
        "id": "1d5bf9a6"
      },
      "source": [
        "### Functions"
      ],
      "id": "1d5bf9a6"
    },
    {
      "cell_type": "code",
      "metadata": {
        "id": "9d341ea0"
      },
      "source": [
        "def add(a,b):\n",
        "    return a+b"
      ],
      "id": "9d341ea0",
      "execution_count": null,
      "outputs": []
    },
    {
      "cell_type": "code",
      "metadata": {
        "id": "97bab6da",
        "outputId": "4e79f815-118b-4d49-d55b-b2aa2087f34c"
      },
      "source": [
        "add(1, 2)"
      ],
      "id": "97bab6da",
      "execution_count": null,
      "outputs": [
        {
          "output_type": "execute_result",
          "data": {
            "text/plain": [
              "3"
            ]
          },
          "metadata": {
            "tags": []
          },
          "execution_count": 68
        }
      ]
    },
    {
      "cell_type": "code",
      "metadata": {
        "id": "34705cfb"
      },
      "source": [
        "def Add(*num):\n",
        "    return sum(num)"
      ],
      "id": "34705cfb",
      "execution_count": null,
      "outputs": []
    },
    {
      "cell_type": "code",
      "metadata": {
        "id": "6497f52b",
        "outputId": "8b1ed6c7-10bf-425d-c13b-d3231cdc50b4"
      },
      "source": [
        "Add(1, 2, 3, 4, 5, 6, 7, 8, 9, 0)"
      ],
      "id": "6497f52b",
      "execution_count": null,
      "outputs": [
        {
          "output_type": "execute_result",
          "data": {
            "text/plain": [
              "45"
            ]
          },
          "metadata": {
            "tags": []
          },
          "execution_count": 70
        }
      ]
    },
    {
      "cell_type": "code",
      "metadata": {
        "id": "55b4ec9c"
      },
      "source": [
        "def double(num):\n",
        "    return num * 2"
      ],
      "id": "55b4ec9c",
      "execution_count": null,
      "outputs": []
    },
    {
      "cell_type": "code",
      "metadata": {
        "id": "64ef7bbb",
        "outputId": "7c303d79-0c6a-47c5-afb0-965cbf7580ba"
      },
      "source": [
        "double(5)"
      ],
      "id": "64ef7bbb",
      "execution_count": null,
      "outputs": [
        {
          "output_type": "execute_result",
          "data": {
            "text/plain": [
              "10"
            ]
          },
          "metadata": {
            "tags": []
          },
          "execution_count": 72
        }
      ]
    },
    {
      "cell_type": "code",
      "metadata": {
        "id": "303e0345"
      },
      "source": [
        "double_lambda = lambda num: num *2 "
      ],
      "id": "303e0345",
      "execution_count": null,
      "outputs": []
    },
    {
      "cell_type": "code",
      "metadata": {
        "id": "8f65344b",
        "outputId": "20f03176-7229-4ef5-9743-67803d4a95d4"
      },
      "source": [
        "double_lambda(5)"
      ],
      "id": "8f65344b",
      "execution_count": null,
      "outputs": [
        {
          "output_type": "execute_result",
          "data": {
            "text/plain": [
              "10"
            ]
          },
          "metadata": {
            "tags": []
          },
          "execution_count": 74
        }
      ]
    },
    {
      "cell_type": "raw",
      "metadata": {
        "id": "3069e88c"
      },
      "source": [
        "lambda arguments : expression"
      ],
      "id": "3069e88c"
    },
    {
      "cell_type": "code",
      "metadata": {
        "id": "7462a55e"
      },
      "source": [
        "keys = 'One Two Three Four'.split()\n",
        "values = [10, 20, 30, 40]"
      ],
      "id": "7462a55e",
      "execution_count": null,
      "outputs": []
    },
    {
      "cell_type": "code",
      "metadata": {
        "id": "bcb93f52",
        "outputId": "c3fb4e19-95e7-4ed7-d49f-00b3337d214c"
      },
      "source": [
        "keys, values"
      ],
      "id": "bcb93f52",
      "execution_count": null,
      "outputs": [
        {
          "output_type": "execute_result",
          "data": {
            "text/plain": [
              "(['One', 'Two', 'Three', 'Four'], [10, 20, 30, 40])"
            ]
          },
          "metadata": {
            "tags": []
          },
          "execution_count": 78
        }
      ]
    },
    {
      "cell_type": "code",
      "metadata": {
        "id": "a0380c62"
      },
      "source": [
        "d = dict(zip(keys, values))"
      ],
      "id": "a0380c62",
      "execution_count": null,
      "outputs": []
    },
    {
      "cell_type": "code",
      "metadata": {
        "id": "589bd21c",
        "outputId": "498676ac-a91c-4d97-b23d-75871229e051"
      },
      "source": [
        "d"
      ],
      "id": "589bd21c",
      "execution_count": null,
      "outputs": [
        {
          "output_type": "execute_result",
          "data": {
            "text/plain": [
              "{'One': 10, 'Two': 20, 'Three': 30, 'Four': 40}"
            ]
          },
          "metadata": {
            "tags": []
          },
          "execution_count": 80
        }
      ]
    },
    {
      "cell_type": "code",
      "metadata": {
        "id": "ba803fec"
      },
      "source": [
        "list1 = ['A','B','C','D']\n",
        "list2 = ['a','b','c','d']"
      ],
      "id": "ba803fec",
      "execution_count": null,
      "outputs": []
    },
    {
      "cell_type": "code",
      "metadata": {
        "id": "4bb2c7c9",
        "outputId": "326e00ad-a1d2-4ddd-e4a2-aa6267e538b2"
      },
      "source": [
        "[(x+y) for x,y in zip(list1, list2)]"
      ],
      "id": "4bb2c7c9",
      "execution_count": null,
      "outputs": [
        {
          "output_type": "execute_result",
          "data": {
            "text/plain": [
              "['Aa', 'Bb', 'Cc', 'Dd']"
            ]
          },
          "metadata": {
            "tags": []
          },
          "execution_count": 85
        }
      ]
    },
    {
      "cell_type": "code",
      "metadata": {
        "id": "cff0f806"
      },
      "source": [
        ""
      ],
      "id": "cff0f806",
      "execution_count": null,
      "outputs": []
    }
  ]
}