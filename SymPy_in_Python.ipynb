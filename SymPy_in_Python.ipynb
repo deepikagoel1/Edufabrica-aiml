{
  "nbformat": 4,
  "nbformat_minor": 5,
  "metadata": {
    "kernelspec": {
      "display_name": "Python 3",
      "language": "python",
      "name": "python3"
    },
    "language_info": {
      "codemirror_mode": {
        "name": "ipython",
        "version": 3
      },
      "file_extension": ".py",
      "mimetype": "text/x-python",
      "name": "python",
      "nbconvert_exporter": "python",
      "pygments_lexer": "ipython3",
      "version": "3.8.8"
    },
    "colab": {
      "name": "SymPy in Python.ipynb",
      "provenance": [],
      "include_colab_link": true
    }
  },
  "cells": [
    {
      "cell_type": "markdown",
      "metadata": {
        "id": "view-in-github",
        "colab_type": "text"
      },
      "source": [
        "<a href=\"https://colab.research.google.com/github/deepikagoel1/Edufabrica-aiml/blob/main/SymPy_in_Python.ipynb\" target=\"_parent\"><img src=\"https://colab.research.google.com/assets/colab-badge.svg\" alt=\"Open In Colab\"/></a>"
      ]
    },
    {
      "cell_type": "markdown",
      "metadata": {
        "id": "1937a3b5"
      },
      "source": [
        "<img src = 'https://media-exp3.licdn.com/dms/image/C5112AQFxEgx_KP2BhQ/article-cover_image-shrink_600_2000/0/1528620516007?e=1628121600&v=beta&t=u7ALPY5P-MkzuPGLcEtEfNt73d53MKLwAtTTcc6QQoU' width=\"500\"/>"
      ],
      "id": "1937a3b5"
    },
    {
      "cell_type": "markdown",
      "metadata": {
        "id": "76deb9c4"
      },
      "source": [
        "## What is SymPy ? \n",
        "`SymPy` is a Python library for symbolic mathematics.\n",
        "\n",
        "## What is Symbolic Computation?\n",
        "`Symbolic computation` deals with the computation of mathematical objects symbolically. This means that the mathematical objects are represented exactly, not approximately, and mathematical expressions with unevaluated variables are left in symbolic form."
      ],
      "id": "76deb9c4"
    },
    {
      "cell_type": "markdown",
      "metadata": {
        "id": "94fe10c3"
      },
      "source": [
        "## Importing Package and check its Version"
      ],
      "id": "94fe10c3"
    },
    {
      "cell_type": "code",
      "metadata": {
        "id": "4e3a91a2"
      },
      "source": [
        "import sympy as sym"
      ],
      "id": "4e3a91a2",
      "execution_count": null,
      "outputs": []
    },
    {
      "cell_type": "code",
      "metadata": {
        "id": "0f9f4ab3",
        "outputId": "92af5c50-8759-4b8e-d4bc-faa78b449b4c"
      },
      "source": [
        "sym.__version__"
      ],
      "id": "0f9f4ab3",
      "execution_count": null,
      "outputs": [
        {
          "output_type": "execute_result",
          "data": {
            "text/plain": [
              "'1.8'"
            ]
          },
          "metadata": {
            "tags": []
          },
          "execution_count": 2
        }
      ]
    },
    {
      "cell_type": "markdown",
      "metadata": {
        "id": "0dcbd907"
      },
      "source": [
        "## What are Symbols ? \n",
        "To define variables, we must use `symbols`. symbols takes a string of variable names separated by spaces or commas, and creates Symbols out of them. We can then assign these to variable names.\n",
        "\n",
        "__Note__:  we note that the name of a Symbol and the name of the variable it is assigned to need not have anything to do with one another.\n",
        "\n"
      ],
      "id": "0dcbd907"
    },
    {
      "cell_type": "code",
      "metadata": {
        "id": "372e46d9",
        "outputId": "6fdb9b46-91e4-439c-e8e7-a2175508986c"
      },
      "source": [
        "x = sym.Symbol('x')\n",
        "x"
      ],
      "id": "372e46d9",
      "execution_count": null,
      "outputs": [
        {
          "output_type": "execute_result",
          "data": {
            "text/latex": "$\\displaystyle x$",
            "text/plain": [
              "x"
            ]
          },
          "metadata": {
            "tags": []
          },
          "execution_count": 3
        }
      ]
    },
    {
      "cell_type": "markdown",
      "metadata": {
        "id": "2ce2906a"
      },
      "source": [
        "multiple assignments will be done with `symbols`"
      ],
      "id": "2ce2906a"
    },
    {
      "cell_type": "code",
      "metadata": {
        "id": "c63f8f0d"
      },
      "source": [
        "a,b,c = sym.symbols('a b c')"
      ],
      "id": "c63f8f0d",
      "execution_count": null,
      "outputs": []
    },
    {
      "cell_type": "code",
      "metadata": {
        "id": "c720aa11",
        "outputId": "aafcd8bd-8d0d-44d0-deb7-05eebc90b656"
      },
      "source": [
        "a"
      ],
      "id": "c720aa11",
      "execution_count": null,
      "outputs": [
        {
          "output_type": "execute_result",
          "data": {
            "text/latex": "$\\displaystyle a$",
            "text/plain": [
              "a"
            ]
          },
          "metadata": {
            "tags": []
          },
          "execution_count": 5
        }
      ]
    },
    {
      "cell_type": "code",
      "metadata": {
        "id": "7f8e4ff3",
        "outputId": "e0fc938f-7137-4523-dec0-14d45f12c0eb"
      },
      "source": [
        "b"
      ],
      "id": "7f8e4ff3",
      "execution_count": null,
      "outputs": [
        {
          "output_type": "execute_result",
          "data": {
            "text/latex": "$\\displaystyle b$",
            "text/plain": [
              "b"
            ]
          },
          "metadata": {
            "tags": []
          },
          "execution_count": 6
        }
      ]
    },
    {
      "cell_type": "code",
      "metadata": {
        "id": "9f43e162",
        "outputId": "6a618a3d-0713-4499-b400-88035ef52c85"
      },
      "source": [
        "c"
      ],
      "id": "9f43e162",
      "execution_count": null,
      "outputs": [
        {
          "output_type": "execute_result",
          "data": {
            "text/latex": "$\\displaystyle c$",
            "text/plain": [
              "c"
            ]
          },
          "metadata": {
            "tags": []
          },
          "execution_count": 7
        }
      ]
    },
    {
      "cell_type": "markdown",
      "metadata": {
        "id": "05caa022"
      },
      "source": [
        "__Instead of writing sym for every time we can import all the functions of sympy using * operator__"
      ],
      "id": "05caa022"
    },
    {
      "cell_type": "code",
      "metadata": {
        "id": "6c6cedb1"
      },
      "source": [
        "from sympy import *\n",
        "from sympy.abc import *"
      ],
      "id": "6c6cedb1",
      "execution_count": null,
      "outputs": []
    },
    {
      "cell_type": "markdown",
      "metadata": {
        "id": "bbd005fb"
      },
      "source": [
        "## Substitution\n",
        "One of the most common things you might want to do with a mathematical expression is substitution. Substitution replaces all instances of something in an expression with something else. It is done using the `subs` method. "
      ],
      "id": "bbd005fb"
    },
    {
      "cell_type": "code",
      "metadata": {
        "id": "5a8443e6",
        "outputId": "e5184ceb-66d0-455c-c8c5-6761f2b73673"
      },
      "source": [
        "expr = x**2 + 2*x + y\n",
        "expr"
      ],
      "id": "5a8443e6",
      "execution_count": null,
      "outputs": [
        {
          "output_type": "execute_result",
          "data": {
            "text/latex": "$\\displaystyle x^{2} + 2 x + y$",
            "text/plain": [
              "x**2 + 2*x + y"
            ]
          },
          "metadata": {
            "tags": []
          },
          "execution_count": 11
        }
      ]
    },
    {
      "cell_type": "code",
      "metadata": {
        "id": "555accf5",
        "outputId": "4a98ea3c-49ac-4a4c-bdf7-817129c43daa"
      },
      "source": [
        "expr.subs(x, 5)"
      ],
      "id": "555accf5",
      "execution_count": null,
      "outputs": [
        {
          "output_type": "execute_result",
          "data": {
            "text/latex": "$\\displaystyle y + 35$",
            "text/plain": [
              "y + 35"
            ]
          },
          "metadata": {
            "tags": []
          },
          "execution_count": 16
        }
      ]
    },
    {
      "cell_type": "markdown",
      "metadata": {
        "id": "7aafa25d"
      },
      "source": [
        "## Converting Strings to SymPy Expressions\n",
        "The `sympify` function (that’s sympify, not to be confused with simplify) can be used to convert strings into SymPy expressions."
      ],
      "id": "7aafa25d"
    },
    {
      "cell_type": "code",
      "metadata": {
        "id": "b3712a5e",
        "outputId": "a5260c72-1068-4ea4-9fa8-a1b5c602c1d8"
      },
      "source": [
        "str_expr = \"x**2 + 3*x - 1/2\"\n",
        "expr = sympify(str_expr)\n",
        "expr"
      ],
      "id": "b3712a5e",
      "execution_count": null,
      "outputs": [
        {
          "output_type": "execute_result",
          "data": {
            "text/latex": "$\\displaystyle x^{2} + 3 x - \\frac{1}{2}$",
            "text/plain": [
              "x**2 + 3*x - 1/2"
            ]
          },
          "metadata": {
            "tags": []
          },
          "execution_count": 19
        }
      ]
    },
    {
      "cell_type": "code",
      "metadata": {
        "id": "7118cfa5",
        "outputId": "94f3b5eb-e49a-4d8b-d9c1-664eec8af978"
      },
      "source": [
        "expr.subs(x, 2)"
      ],
      "id": "7118cfa5",
      "execution_count": null,
      "outputs": [
        {
          "output_type": "execute_result",
          "data": {
            "text/latex": "$\\displaystyle \\frac{19}{2}$",
            "text/plain": [
              "19/2"
            ]
          },
          "metadata": {
            "tags": []
          },
          "execution_count": 20
        }
      ]
    },
    {
      "cell_type": "markdown",
      "metadata": {
        "id": "37e3d0bd"
      },
      "source": [
        "## evalf\n",
        "To evaluate a numerical expression into a floating point number, use `evalf`."
      ],
      "id": "37e3d0bd"
    },
    {
      "cell_type": "code",
      "metadata": {
        "id": "0c21daf5",
        "outputId": "7d4049b2-4bff-488a-f623-acab05079140"
      },
      "source": [
        "expr = sqrt(15)\n",
        "round(expr.evalf(),2)"
      ],
      "id": "0c21daf5",
      "execution_count": null,
      "outputs": [
        {
          "output_type": "execute_result",
          "data": {
            "text/latex": "$\\displaystyle 3.87$",
            "text/plain": [
              "3.87"
            ]
          },
          "metadata": {
            "tags": []
          },
          "execution_count": 22
        }
      ]
    },
    {
      "cell_type": "markdown",
      "metadata": {
        "id": "1a0dee90"
      },
      "source": [
        "## simplify \n",
        "SymPy has dozens of functions to perform various kinds of simplification. There is also one general function called simplify() that attempts to apply all of these functions in an intelligent way to arrive at the simplest form of an expression."
      ],
      "id": "1a0dee90"
    },
    {
      "cell_type": "code",
      "metadata": {
        "id": "1b900119",
        "outputId": "3198abc3-770a-4596-eb16-dfa4cff75623"
      },
      "source": [
        "expr = sin(x)**2 + cos(x)**2\n",
        "expr"
      ],
      "id": "1b900119",
      "execution_count": null,
      "outputs": [
        {
          "output_type": "execute_result",
          "data": {
            "text/latex": "$\\displaystyle \\sin^{2}{\\left(x \\right)} + \\cos^{2}{\\left(x \\right)}$",
            "text/plain": [
              "sin(x)**2 + cos(x)**2"
            ]
          },
          "metadata": {
            "tags": []
          },
          "execution_count": 25
        }
      ]
    },
    {
      "cell_type": "code",
      "metadata": {
        "id": "17c4bba3",
        "outputId": "4f7f8b60-0a69-49bf-dc9b-9c8c822f63af"
      },
      "source": [
        "simplify(expr)"
      ],
      "id": "17c4bba3",
      "execution_count": null,
      "outputs": [
        {
          "output_type": "execute_result",
          "data": {
            "text/latex": "$\\displaystyle 1$",
            "text/plain": [
              "1"
            ]
          },
          "metadata": {
            "tags": []
          },
          "execution_count": 26
        }
      ]
    },
    {
      "cell_type": "markdown",
      "metadata": {
        "id": "21386a26"
      },
      "source": [
        "## expand\n",
        "`expand()` is one of the most common simplification functions in SymPy. Although it has a lot of scopes, for now, we will consider its function in expanding polynomial expressions."
      ],
      "id": "21386a26"
    },
    {
      "cell_type": "code",
      "metadata": {
        "id": "5d0db606",
        "outputId": "983f187b-3b90-49c1-c18d-17dc3fef0fc4"
      },
      "source": [
        "expr = (x+y)**2\n",
        "expand(expr)"
      ],
      "id": "5d0db606",
      "execution_count": null,
      "outputs": [
        {
          "output_type": "execute_result",
          "data": {
            "text/latex": "$\\displaystyle x^{2} + 2 x y + y^{2}$",
            "text/plain": [
              "x**2 + 2*x*y + y**2"
            ]
          },
          "metadata": {
            "tags": []
          },
          "execution_count": 32
        }
      ]
    },
    {
      "cell_type": "markdown",
      "metadata": {
        "id": "d8c486e2"
      },
      "source": [
        "## factor\n",
        "`factor()` takes a polynomial and factors it into irreducible factors over the rational numbers."
      ],
      "id": "d8c486e2"
    },
    {
      "cell_type": "code",
      "metadata": {
        "id": "729fa3cf",
        "outputId": "39f30fe4-0f10-415b-9a2d-705e0d421118"
      },
      "source": [
        "expr = (x**2*z + 4*x*y*z + 4*y**2*z)\n",
        "expr"
      ],
      "id": "729fa3cf",
      "execution_count": null,
      "outputs": [
        {
          "output_type": "execute_result",
          "data": {
            "text/latex": "$\\displaystyle x^{2} z + 4 x y z + 4 y^{2} z$",
            "text/plain": [
              "x**2*z + 4*x*y*z + 4*y**2*z"
            ]
          },
          "metadata": {
            "tags": []
          },
          "execution_count": 30
        }
      ]
    },
    {
      "cell_type": "code",
      "metadata": {
        "id": "b691eb21",
        "outputId": "e93f97d2-4dc9-47db-9e85-6e355108ffea"
      },
      "source": [
        "factor(expr)"
      ],
      "id": "b691eb21",
      "execution_count": null,
      "outputs": [
        {
          "output_type": "execute_result",
          "data": {
            "text/latex": "$\\displaystyle \\left(x + y\\right)^{2}$",
            "text/plain": [
              "(x + y)**2"
            ]
          },
          "metadata": {
            "tags": []
          },
          "execution_count": 33
        }
      ]
    },
    {
      "cell_type": "markdown",
      "metadata": {
        "id": "cab1fea1"
      },
      "source": [
        "## collect\n",
        "`collect()` collects common powers of a term in an expression."
      ],
      "id": "cab1fea1"
    },
    {
      "cell_type": "code",
      "metadata": {
        "id": "12bd3220",
        "outputId": "a8e31cc2-90bf-478c-97f7-c2937f0ae094"
      },
      "source": [
        "expr = x*y + x - 3 + 2*x**2 - z*x**2 + x**3\n",
        "expr"
      ],
      "id": "12bd3220",
      "execution_count": null,
      "outputs": [
        {
          "output_type": "execute_result",
          "data": {
            "text/latex": "$\\displaystyle x^{3} - x^{2} z + 2 x^{2} + x y + x - 3$",
            "text/plain": [
              "x**3 - x**2*z + 2*x**2 + x*y + x - 3"
            ]
          },
          "metadata": {
            "tags": []
          },
          "execution_count": 34
        }
      ]
    },
    {
      "cell_type": "code",
      "metadata": {
        "id": "d45fe1ae",
        "outputId": "70147c6d-bafa-4c58-ad4f-4ba67d32490c"
      },
      "source": [
        "collect(expr, x)"
      ],
      "id": "d45fe1ae",
      "execution_count": null,
      "outputs": [
        {
          "output_type": "execute_result",
          "data": {
            "text/latex": "$\\displaystyle x^{3} + x^{2} \\left(2 - z\\right) + x \\left(y + 1\\right) - 3$",
            "text/plain": [
              "x**3 + x**2*(2 - z) + x*(y + 1) - 3"
            ]
          },
          "metadata": {
            "tags": []
          },
          "execution_count": 38
        }
      ]
    },
    {
      "cell_type": "markdown",
      "metadata": {
        "id": "20f42032"
      },
      "source": [
        "## cancel\n",
        "\n",
        "`cancel` takes input of rational funcitoin and put it down to simple mathematics cancelation."
      ],
      "id": "20f42032"
    },
    {
      "cell_type": "code",
      "metadata": {
        "id": "99071a59",
        "outputId": "1c2d96eb-0d27-47cc-b611-90b1b48d81b3"
      },
      "source": [
        "expr = (x**2 - y**2) / (x+y)\n",
        "expr"
      ],
      "id": "99071a59",
      "execution_count": null,
      "outputs": [
        {
          "output_type": "execute_result",
          "data": {
            "text/latex": "$\\displaystyle \\frac{x^{2} - y^{2}}{x + y}$",
            "text/plain": [
              "(x**2 - y**2)/(x + y)"
            ]
          },
          "metadata": {
            "tags": []
          },
          "execution_count": 41
        }
      ]
    },
    {
      "cell_type": "code",
      "metadata": {
        "id": "f3899137",
        "outputId": "937fd809-7850-4c40-a67b-e17636c6157f"
      },
      "source": [
        "cancel(expr)"
      ],
      "id": "f3899137",
      "execution_count": null,
      "outputs": [
        {
          "output_type": "execute_result",
          "data": {
            "text/latex": "$\\displaystyle x - y$",
            "text/plain": [
              "x - y"
            ]
          },
          "metadata": {
            "tags": []
          },
          "execution_count": 42
        }
      ]
    },
    {
      "cell_type": "code",
      "metadata": {
        "id": "7b57589e",
        "outputId": "aeeb1dbc-e3a9-41a7-e300-6ed146a72cac"
      },
      "source": [
        "expr = 1/x + (3*x/2 - 2)/(x-4)\n",
        "expr"
      ],
      "id": "7b57589e",
      "execution_count": null,
      "outputs": [
        {
          "output_type": "execute_result",
          "data": {
            "text/latex": "$\\displaystyle \\frac{\\frac{3 x}{2} - 2}{x - 4} + \\frac{1}{x}$",
            "text/plain": [
              "(3*x/2 - 2)/(x - 4) + 1/x"
            ]
          },
          "metadata": {
            "tags": []
          },
          "execution_count": 44
        }
      ]
    },
    {
      "cell_type": "code",
      "metadata": {
        "id": "98ef6995",
        "outputId": "c955e231-9397-4984-dd4f-89ed3f59d3ac"
      },
      "source": [
        "cancel(expr)"
      ],
      "id": "98ef6995",
      "execution_count": null,
      "outputs": [
        {
          "output_type": "execute_result",
          "data": {
            "text/latex": "$\\displaystyle \\frac{3 x^{2} - 2 x - 8}{2 x^{2} - 8 x}$",
            "text/plain": [
              "(3*x**2 - 2*x - 8)/(2*x**2 - 8*x)"
            ]
          },
          "metadata": {
            "tags": []
          },
          "execution_count": 45
        }
      ]
    },
    {
      "cell_type": "markdown",
      "metadata": {
        "id": "5f811502"
      },
      "source": [
        "## trigsimp\n",
        "\n",
        "`trigsimp` reduces expression by using known trig identities<br>\n",
        "Note: works on hyperbolic trig functions"
      ],
      "id": "5f811502"
    },
    {
      "cell_type": "code",
      "metadata": {
        "id": "91a17b18",
        "outputId": "3ec1a330-9d43-4648-98ef-bc6c1f3be275"
      },
      "source": [
        "expr = cosh(x)**2 + sinh(x)**2\n",
        "expr"
      ],
      "id": "91a17b18",
      "execution_count": null,
      "outputs": [
        {
          "output_type": "execute_result",
          "data": {
            "text/latex": "$\\displaystyle \\sinh^{2}{\\left(x \\right)} + \\cosh^{2}{\\left(x \\right)}$",
            "text/plain": [
              "sinh(x)**2 + cosh(x)**2"
            ]
          },
          "metadata": {
            "tags": []
          },
          "execution_count": 46
        }
      ]
    },
    {
      "cell_type": "code",
      "metadata": {
        "id": "a038eefc",
        "outputId": "2a03aba1-66c2-4b2a-8fee-2d0d25a3c897"
      },
      "source": [
        "trigsimp(expr)"
      ],
      "id": "a038eefc",
      "execution_count": null,
      "outputs": [
        {
          "output_type": "execute_result",
          "data": {
            "text/latex": "$\\displaystyle \\cosh{\\left(2 x \\right)}$",
            "text/plain": [
              "cosh(2*x)"
            ]
          },
          "metadata": {
            "tags": []
          },
          "execution_count": 47
        }
      ]
    },
    {
      "cell_type": "code",
      "metadata": {
        "id": "c7ca5466",
        "outputId": "94c1e4b9-8c1c-42a8-997c-6b5a75d6c1e2"
      },
      "source": [
        "expr = sin(2*theta)\n",
        "expr"
      ],
      "id": "c7ca5466",
      "execution_count": null,
      "outputs": [
        {
          "output_type": "execute_result",
          "data": {
            "text/latex": "$\\displaystyle \\sin{\\left(2 \\theta \\right)}$",
            "text/plain": [
              "sin(2*theta)"
            ]
          },
          "metadata": {
            "tags": []
          },
          "execution_count": 48
        }
      ]
    },
    {
      "cell_type": "markdown",
      "metadata": {
        "id": "5ec714ec"
      },
      "source": [
        "## expand_trig"
      ],
      "id": "5ec714ec"
    },
    {
      "cell_type": "code",
      "metadata": {
        "id": "a76cf244",
        "outputId": "44a596d0-e6fa-4fc9-b864-12bd71e2b4e9"
      },
      "source": [
        "expand_trig(expr)"
      ],
      "id": "a76cf244",
      "execution_count": null,
      "outputs": [
        {
          "output_type": "execute_result",
          "data": {
            "text/latex": "$\\displaystyle 2 \\sin{\\left(\\theta \\right)} \\cos{\\left(\\theta \\right)}$",
            "text/plain": [
              "2*sin(theta)*cos(theta)"
            ]
          },
          "metadata": {
            "tags": []
          },
          "execution_count": 49
        }
      ]
    },
    {
      "cell_type": "code",
      "metadata": {
        "id": "f79b1d95",
        "outputId": "33b4dcb4-455e-479b-97f7-9e08b2965d41"
      },
      "source": [
        "expand_trig((sin(alpha+beta)))"
      ],
      "id": "f79b1d95",
      "execution_count": null,
      "outputs": [
        {
          "output_type": "execute_result",
          "data": {
            "text/latex": "$\\displaystyle \\sin{\\left(\\alpha \\right)} \\cos{\\left(\\beta \\right)} + \\sin{\\left(\\beta \\right)} \\cos{\\left(\\alpha \\right)}$",
            "text/plain": [
              "sin(alpha)*cos(beta) + sin(beta)*cos(alpha)"
            ]
          },
          "metadata": {
            "tags": []
          },
          "execution_count": 50
        }
      ]
    },
    {
      "cell_type": "markdown",
      "metadata": {
        "id": "c7fd1331"
      },
      "source": [
        "## Eq"
      ],
      "id": "c7fd1331"
    },
    {
      "cell_type": "code",
      "metadata": {
        "id": "469aa373",
        "outputId": "8efd8380-6b3a-47a3-fcaa-3ac141845f4d"
      },
      "source": [
        "Eq(expr, expand_trig(expr))"
      ],
      "id": "469aa373",
      "execution_count": null,
      "outputs": [
        {
          "output_type": "execute_result",
          "data": {
            "text/latex": "$\\displaystyle \\sin{\\left(2 \\theta \\right)} = 2 \\sin{\\left(\\theta \\right)} \\cos{\\left(\\theta \\right)}$",
            "text/plain": [
              "Eq(sin(2*theta), 2*sin(theta)*cos(theta))"
            ]
          },
          "metadata": {
            "tags": []
          },
          "execution_count": 52
        }
      ]
    },
    {
      "cell_type": "markdown",
      "metadata": {
        "id": "bb077be4"
      },
      "source": [
        "## powsimp"
      ],
      "id": "bb077be4"
    },
    {
      "cell_type": "code",
      "metadata": {
        "id": "13d8fb25",
        "outputId": "5c0a46e7-4f1d-4fad-dd41-1da8df9d408e"
      },
      "source": [
        "expr = x**2 * x**3\n",
        "expr"
      ],
      "id": "13d8fb25",
      "execution_count": null,
      "outputs": [
        {
          "output_type": "execute_result",
          "data": {
            "text/latex": "$\\displaystyle x^{5}$",
            "text/plain": [
              "x**5"
            ]
          },
          "metadata": {
            "tags": []
          },
          "execution_count": 53
        }
      ]
    },
    {
      "cell_type": "code",
      "metadata": {
        "id": "7394cb17",
        "outputId": "6d809fd8-f9d3-4344-def2-18b220462355"
      },
      "source": [
        "expr = x**3 * x**a\n",
        "expr"
      ],
      "id": "7394cb17",
      "execution_count": null,
      "outputs": [
        {
          "output_type": "execute_result",
          "data": {
            "text/latex": "$\\displaystyle x^{3} x^{a}$",
            "text/plain": [
              "x**3*x**a"
            ]
          },
          "metadata": {
            "tags": []
          },
          "execution_count": 54
        }
      ]
    },
    {
      "cell_type": "code",
      "metadata": {
        "id": "81593157",
        "outputId": "f255072b-c7be-4946-ae8f-aac5d45caf50"
      },
      "source": [
        "powsimp(expr)"
      ],
      "id": "81593157",
      "execution_count": null,
      "outputs": [
        {
          "output_type": "execute_result",
          "data": {
            "text/latex": "$\\displaystyle x^{a + 3}$",
            "text/plain": [
              "x**(a + 3)"
            ]
          },
          "metadata": {
            "tags": []
          },
          "execution_count": 55
        }
      ]
    },
    {
      "cell_type": "code",
      "metadata": {
        "id": "c608daa7",
        "outputId": "17999a9a-0a59-43ca-cd7f-943869a1af64"
      },
      "source": [
        "expand_power_exp(y**(x-y))"
      ],
      "id": "c608daa7",
      "execution_count": null,
      "outputs": [
        {
          "output_type": "execute_result",
          "data": {
            "text/latex": "$\\displaystyle y^{x} y^{- y}$",
            "text/plain": [
              "y**x*y**(-y)"
            ]
          },
          "metadata": {
            "tags": []
          },
          "execution_count": 60
        }
      ]
    },
    {
      "cell_type": "markdown",
      "metadata": {
        "id": "5b4066ac"
      },
      "source": [
        "## log "
      ],
      "id": "5b4066ac"
    },
    {
      "cell_type": "code",
      "metadata": {
        "id": "25efb7b1",
        "outputId": "4d753a83-3f09-4feb-d4ad-d45282872b0b"
      },
      "source": [
        "ln(x)"
      ],
      "id": "25efb7b1",
      "execution_count": null,
      "outputs": [
        {
          "output_type": "execute_result",
          "data": {
            "text/latex": "$\\displaystyle \\log{\\left(x \\right)}$",
            "text/plain": [
              "log(x)"
            ]
          },
          "metadata": {
            "tags": []
          },
          "execution_count": 61
        }
      ]
    },
    {
      "cell_type": "code",
      "metadata": {
        "id": "bbfbbc78",
        "outputId": "81a08671-7f55-41d3-95df-ebdbf323c7fc"
      },
      "source": [
        "log(y)"
      ],
      "id": "bbfbbc78",
      "execution_count": null,
      "outputs": [
        {
          "output_type": "execute_result",
          "data": {
            "text/latex": "$\\displaystyle \\log{\\left(y \\right)}$",
            "text/plain": [
              "log(y)"
            ]
          },
          "metadata": {
            "tags": []
          },
          "execution_count": 62
        }
      ]
    },
    {
      "cell_type": "markdown",
      "metadata": {
        "id": "a3af8144"
      },
      "source": [
        "## factorial"
      ],
      "id": "a3af8144"
    },
    {
      "cell_type": "code",
      "metadata": {
        "id": "d35a4817",
        "outputId": "943d6732-6e4d-4111-e54d-eef2c3dbb568"
      },
      "source": [
        "factorial(factorial(0)+factorial(0)+factorial(0)+factorial(0)+factorial(0))"
      ],
      "id": "d35a4817",
      "execution_count": null,
      "outputs": [
        {
          "output_type": "execute_result",
          "data": {
            "text/latex": "$\\displaystyle 120$",
            "text/plain": [
              "120"
            ]
          },
          "metadata": {
            "tags": []
          },
          "execution_count": 65
        }
      ]
    },
    {
      "cell_type": "code",
      "metadata": {
        "id": "75f35d26",
        "outputId": "78e9f7a5-b8c2-4e08-986d-06a896b0e9dc"
      },
      "source": [
        "Eq(factorial(x), factorial(x))"
      ],
      "id": "75f35d26",
      "execution_count": null,
      "outputs": [
        {
          "output_type": "execute_result",
          "data": {
            "text/latex": "$\\displaystyle \\text{True}$",
            "text/plain": [
              "True"
            ]
          },
          "metadata": {
            "tags": []
          },
          "execution_count": 68
        }
      ]
    },
    {
      "cell_type": "markdown",
      "metadata": {
        "id": "00d32af6"
      },
      "source": [
        "## rational"
      ],
      "id": "00d32af6"
    },
    {
      "cell_type": "code",
      "metadata": {
        "id": "014ead49",
        "outputId": "07e5590a-207d-4596-eb17-cfb798a43c98"
      },
      "source": [
        "Rational(1,2)"
      ],
      "id": "014ead49",
      "execution_count": null,
      "outputs": [
        {
          "output_type": "execute_result",
          "data": {
            "text/latex": "$\\displaystyle \\frac{1}{2}$",
            "text/plain": [
              "1/2"
            ]
          },
          "metadata": {
            "tags": []
          },
          "execution_count": 72
        }
      ]
    },
    {
      "cell_type": "code",
      "metadata": {
        "id": "fb1d7fd8",
        "outputId": "7cb7014f-2c48-4bf9-c893-3b4840381ebb"
      },
      "source": [
        "sympify('p/q')"
      ],
      "id": "fb1d7fd8",
      "execution_count": null,
      "outputs": [
        {
          "output_type": "execute_result",
          "data": {
            "text/latex": "$\\displaystyle \\frac{p}{q}$",
            "text/plain": [
              "p/q"
            ]
          },
          "metadata": {
            "tags": []
          },
          "execution_count": 73
        }
      ]
    },
    {
      "cell_type": "code",
      "metadata": {
        "id": "dc21d842",
        "outputId": "10e60335-deb6-48e3-c76b-a806eb0a987b"
      },
      "source": [
        "Eq(sympify('7/3 + 3/4', evaluate= False), sympify('7/3 + 3/4'), evaluate = False)"
      ],
      "id": "dc21d842",
      "execution_count": null,
      "outputs": [
        {
          "output_type": "execute_result",
          "data": {
            "text/latex": "$\\displaystyle \\frac{3}{4} + \\frac{7}{3} = \\frac{37}{12}$",
            "text/plain": [
              "Eq(3/4 + 7/3, 37/12)"
            ]
          },
          "metadata": {
            "tags": []
          },
          "execution_count": 79
        }
      ]
    },
    {
      "cell_type": "code",
      "metadata": {
        "id": "45fdb6ff"
      },
      "source": [
        "a  = tan(theta)/ (1 - cot(theta))"
      ],
      "id": "45fdb6ff",
      "execution_count": null,
      "outputs": []
    },
    {
      "cell_type": "code",
      "metadata": {
        "id": "197663c6"
      },
      "source": [
        "b = cot(theta) / (1 - tan(theta))"
      ],
      "id": "197663c6",
      "execution_count": null,
      "outputs": []
    },
    {
      "cell_type": "code",
      "metadata": {
        "id": "f98f2be8",
        "outputId": "1a25ee34-88e9-40d3-ec77-df64cbfa44f3"
      },
      "source": [
        "a + b"
      ],
      "id": "f98f2be8",
      "execution_count": null,
      "outputs": [
        {
          "output_type": "execute_result",
          "data": {
            "text/latex": "$\\displaystyle \\frac{\\tan{\\left(\\theta \\right)}}{1 - \\cot{\\left(\\theta \\right)}} + \\frac{\\cot{\\left(\\theta \\right)}}{1 - \\tan{\\left(\\theta \\right)}}$",
            "text/plain": [
              "tan(theta)/(1 - cot(theta)) + cot(theta)/(1 - tan(theta))"
            ]
          },
          "metadata": {
            "tags": []
          },
          "execution_count": 91
        }
      ]
    },
    {
      "cell_type": "code",
      "metadata": {
        "id": "767da1e5",
        "outputId": "969822f3-a199-4cc1-f432-61b27ddad5b7"
      },
      "source": [
        "Eq(a+b, 1 + tan(theta)+ cot(theta))"
      ],
      "id": "767da1e5",
      "execution_count": null,
      "outputs": [
        {
          "output_type": "execute_result",
          "data": {
            "text/latex": "$\\displaystyle \\frac{\\tan{\\left(\\theta \\right)}}{1 - \\cot{\\left(\\theta \\right)}} + \\frac{\\cot{\\left(\\theta \\right)}}{1 - \\tan{\\left(\\theta \\right)}} = \\tan{\\left(\\theta \\right)} + \\cot{\\left(\\theta \\right)} + 1$",
            "text/plain": [
              "Eq(tan(theta)/(1 - cot(theta)) + cot(theta)/(1 - tan(theta)), tan(theta) + cot(theta) + 1)"
            ]
          },
          "metadata": {
            "tags": []
          },
          "execution_count": 92
        }
      ]
    },
    {
      "cell_type": "code",
      "metadata": {
        "id": "0ee15453",
        "outputId": "a3950db6-3609-4a31-a028-aca62fe35dbb"
      },
      "source": [
        "Eq(trigsimp(a+b), 1 + tan(theta)+ cot(theta))"
      ],
      "id": "0ee15453",
      "execution_count": null,
      "outputs": [
        {
          "output_type": "execute_result",
          "data": {
            "text/latex": "$\\displaystyle \\tan{\\left(\\theta \\right)} + 1 + \\frac{1}{\\tan{\\left(\\theta \\right)}} = \\tan{\\left(\\theta \\right)} + \\cot{\\left(\\theta \\right)} + 1$",
            "text/plain": [
              "Eq(tan(theta) + 1 + 1/tan(theta), tan(theta) + cot(theta) + 1)"
            ]
          },
          "metadata": {
            "tags": []
          },
          "execution_count": 94
        }
      ]
    },
    {
      "cell_type": "code",
      "metadata": {
        "id": "84e4be6e",
        "outputId": "485ec5a9-1294-468c-b11d-c0bb47c0d9c9"
      },
      "source": [
        "expr = (1/sin(theta)**2 + 1/cos(theta)**2)\n",
        "expr"
      ],
      "id": "84e4be6e",
      "execution_count": null,
      "outputs": [
        {
          "output_type": "execute_result",
          "data": {
            "text/latex": "$\\displaystyle \\frac{1}{\\cos^{2}{\\left(\\theta \\right)}} + \\frac{1}{\\sin^{2}{\\left(\\theta \\right)}}$",
            "text/plain": [
              "cos(theta)**(-2) + sin(theta)**(-2)"
            ]
          },
          "metadata": {
            "tags": []
          },
          "execution_count": 106
        }
      ]
    },
    {
      "cell_type": "code",
      "metadata": {
        "id": "fcb7511c",
        "outputId": "912a5e38-eb8f-4766-c3b6-852fe0ff3979"
      },
      "source": [
        "factor(expr)"
      ],
      "id": "fcb7511c",
      "execution_count": null,
      "outputs": [
        {
          "output_type": "execute_result",
          "data": {
            "text/latex": "$\\displaystyle \\frac{\\sin^{2}{\\left(\\theta \\right)} + \\cos^{2}{\\left(\\theta \\right)}}{\\sin^{2}{\\left(\\theta \\right)} \\cos^{2}{\\left(\\theta \\right)}}$",
            "text/plain": [
              "(sin(theta)**2 + cos(theta)**2)/(sin(theta)**2*cos(theta)**2)"
            ]
          },
          "metadata": {
            "tags": []
          },
          "execution_count": 111
        }
      ]
    },
    {
      "cell_type": "code",
      "metadata": {
        "id": "009248ae",
        "outputId": "e5795641-b735-49f6-a930-6138afacacb4"
      },
      "source": [
        "(trigsimp(expr))"
      ],
      "id": "009248ae",
      "execution_count": null,
      "outputs": [
        {
          "output_type": "execute_result",
          "data": {
            "text/latex": "$\\displaystyle 2 \\sqrt{2} \\sqrt{- \\frac{1}{\\cos{\\left(4 \\theta \\right)} - 1}}$",
            "text/plain": [
              "2*sqrt(2)*sqrt(-1/(cos(4*theta) - 1))"
            ]
          },
          "metadata": {
            "tags": []
          },
          "execution_count": 105
        }
      ]
    },
    {
      "cell_type": "markdown",
      "metadata": {
        "id": "26e4bc95"
      },
      "source": [
        "## Calculus"
      ],
      "id": "26e4bc95"
    },
    {
      "cell_type": "code",
      "metadata": {
        "id": "6c8deed0",
        "outputId": "9a5a430b-4a16-4755-9132-e9804bb4f35d"
      },
      "source": [
        "root(root(x,5),3)"
      ],
      "id": "6c8deed0",
      "execution_count": null,
      "outputs": [
        {
          "output_type": "execute_result",
          "data": {
            "text/latex": "$\\displaystyle \\sqrt[15]{x}$",
            "text/plain": [
              "x**(1/15)"
            ]
          },
          "metadata": {
            "tags": []
          },
          "execution_count": 116
        }
      ]
    },
    {
      "cell_type": "code",
      "metadata": {
        "id": "8cbd45b7",
        "outputId": "a0fbffe0-f555-402e-b5fb-457773f2837c"
      },
      "source": [
        "expr = (x**2 + 4*x + 6)**5\n",
        "expr"
      ],
      "id": "8cbd45b7",
      "execution_count": null,
      "outputs": [
        {
          "output_type": "execute_result",
          "data": {
            "text/latex": "$\\displaystyle \\left(x^{2} + 4 x + 6\\right)^{5}$",
            "text/plain": [
              "(x**2 + 4*x + 6)**5"
            ]
          },
          "metadata": {
            "tags": []
          },
          "execution_count": 118
        }
      ]
    },
    {
      "cell_type": "markdown",
      "metadata": {
        "id": "8e694bb7"
      },
      "source": [
        "### Diffrential"
      ],
      "id": "8e694bb7"
    },
    {
      "cell_type": "code",
      "metadata": {
        "id": "b9b016d2",
        "outputId": "bfcc8fe6-ea5b-4250-ff58-ce589a9d1603"
      },
      "source": [
        "Eq(Derivative(expr, x), factor(diff(expr, x)))"
      ],
      "id": "b9b016d2",
      "execution_count": null,
      "outputs": [
        {
          "output_type": "execute_result",
          "data": {
            "text/latex": "$\\displaystyle \\frac{d}{d x} \\left(x^{2} + 4 x + 6\\right)^{5} = 10 \\left(x + 2\\right) \\left(x^{2} + 4 x + 6\\right)^{4}$",
            "text/plain": [
              "Eq(Derivative((x**2 + 4*x + 6)**5, x), 10*(x + 2)*(x**2 + 4*x + 6)**4)"
            ]
          },
          "metadata": {
            "tags": []
          },
          "execution_count": 121
        }
      ]
    },
    {
      "cell_type": "code",
      "metadata": {
        "id": "62618a7e",
        "outputId": "74c31018-21c8-4158-f919-83fc433deb0a"
      },
      "source": [
        "Eq(Derivative(tan(3*x),x), factor(diff(tan(3*x),x)))"
      ],
      "id": "62618a7e",
      "execution_count": null,
      "outputs": [
        {
          "output_type": "execute_result",
          "data": {
            "text/latex": "$\\displaystyle \\frac{d}{d x} \\tan{\\left(3 x \\right)} = 3 \\left(\\tan^{2}{\\left(3 x \\right)} + 1\\right)$",
            "text/plain": [
              "Eq(Derivative(tan(3*x), x), 3*(tan(3*x)**2 + 1))"
            ]
          },
          "metadata": {
            "tags": []
          },
          "execution_count": 125
        }
      ]
    },
    {
      "cell_type": "markdown",
      "metadata": {
        "id": "4af005ec"
      },
      "source": [
        "## Interagation"
      ],
      "id": "4af005ec"
    },
    {
      "cell_type": "code",
      "metadata": {
        "id": "1509b9bc",
        "outputId": "adad39e1-a806-4d27-83d2-604ed3b8973e"
      },
      "source": [
        "expr= sin(x)**3\n",
        "expr"
      ],
      "id": "1509b9bc",
      "execution_count": null,
      "outputs": [
        {
          "output_type": "execute_result",
          "data": {
            "text/latex": "$\\displaystyle \\sin^{3}{\\left(x \\right)}$",
            "text/plain": [
              "sin(x)**3"
            ]
          },
          "metadata": {
            "tags": []
          },
          "execution_count": 134
        }
      ]
    },
    {
      "cell_type": "code",
      "metadata": {
        "id": "0be41693",
        "outputId": "9de2aa94-cba3-4f36-cd56-f683f83c5ce1"
      },
      "source": [
        "Integral(expr, x)"
      ],
      "id": "0be41693",
      "execution_count": null,
      "outputs": [
        {
          "output_type": "execute_result",
          "data": {
            "text/latex": "$\\displaystyle \\int \\sin^{3}{\\left(x \\right)}\\, dx$",
            "text/plain": [
              "Integral(sin(x)**3, x)"
            ]
          },
          "metadata": {
            "tags": []
          },
          "execution_count": 127
        }
      ]
    },
    {
      "cell_type": "code",
      "metadata": {
        "id": "c472ff64",
        "outputId": "9486b649-6ad7-4964-ef13-80e326fe8b5d"
      },
      "source": [
        "Eq(Integral(expr, x), trigsimp(integrate(expr, x)))"
      ],
      "id": "c472ff64",
      "execution_count": null,
      "outputs": [
        {
          "output_type": "execute_result",
          "data": {
            "text/latex": "$\\displaystyle \\int \\sin^{3}{\\left(x \\right)}\\, dx = \\frac{\\cos^{3}{\\left(x \\right)}}{3} - \\cos{\\left(x \\right)}$",
            "text/plain": [
              "Eq(Integral(sin(x)**3, x), cos(x)**3/3 - cos(x))"
            ]
          },
          "metadata": {
            "tags": []
          },
          "execution_count": 136
        }
      ]
    },
    {
      "cell_type": "code",
      "metadata": {
        "id": "6887e02d",
        "outputId": "22ac8a71-723e-4a6d-9301-7f59453d8277"
      },
      "source": [
        "expr = -3*cos(x)/ 4\n",
        "simplify(expr + cos(3*x)/ 12)"
      ],
      "id": "6887e02d",
      "execution_count": null,
      "outputs": [
        {
          "output_type": "execute_result",
          "data": {
            "text/latex": "$\\displaystyle - \\frac{3 \\cos{\\left(x \\right)}}{4} + \\frac{\\cos{\\left(3 x \\right)}}{12}$",
            "text/plain": [
              "-3*cos(x)/4 + cos(3*x)/12"
            ]
          },
          "metadata": {
            "tags": []
          },
          "execution_count": 137
        }
      ]
    },
    {
      "cell_type": "code",
      "metadata": {
        "id": "9639a87e",
        "outputId": "30171e66-5d3e-4283-b734-f30632039224"
      },
      "source": [
        "Integral(exp(-x))"
      ],
      "id": "9639a87e",
      "execution_count": null,
      "outputs": [
        {
          "output_type": "execute_result",
          "data": {
            "text/latex": "$\\displaystyle \\int e^{- x}\\, dx$",
            "text/plain": [
              "Integral(exp(-x), x)"
            ]
          },
          "metadata": {
            "tags": []
          },
          "execution_count": 139
        }
      ]
    },
    {
      "cell_type": "code",
      "metadata": {
        "id": "ecf7dc44",
        "outputId": "f60e831d-7ef8-482a-d3e3-b02439a19025"
      },
      "source": [
        "Eq(Integral(exp(-x), (x, 0, oo)), integrate(exp(-x), (x, 0, oo)))"
      ],
      "id": "ecf7dc44",
      "execution_count": null,
      "outputs": [
        {
          "output_type": "execute_result",
          "data": {
            "text/latex": "$\\displaystyle \\int\\limits_{0}^{\\infty} e^{- x}\\, dx = 1$",
            "text/plain": [
              "Eq(Integral(exp(-x), (x, 0, oo)), 1)"
            ]
          },
          "metadata": {
            "tags": []
          },
          "execution_count": 144
        }
      ]
    },
    {
      "cell_type": "code",
      "metadata": {
        "id": "89a991cb",
        "outputId": "f0c20c66-4551-400b-abf1-d27e05c0f0c0"
      },
      "source": [
        "ex = sin(x)**2 \n",
        "ex"
      ],
      "id": "89a991cb",
      "execution_count": null,
      "outputs": [
        {
          "output_type": "execute_result",
          "data": {
            "text/latex": "$\\displaystyle \\sin^{2}{\\left(x \\right)}$",
            "text/plain": [
              "sin(x)**2"
            ]
          },
          "metadata": {
            "tags": []
          },
          "execution_count": 146
        }
      ]
    },
    {
      "cell_type": "code",
      "metadata": {
        "id": "9e35d51a",
        "outputId": "d6dc10ae-8022-4803-c136-d9899b5f3270"
      },
      "source": [
        "integrate(ex)"
      ],
      "id": "9e35d51a",
      "execution_count": null,
      "outputs": [
        {
          "output_type": "execute_result",
          "data": {
            "text/latex": "$\\displaystyle \\frac{x}{2} - \\frac{\\sin{\\left(x \\right)} \\cos{\\left(x \\right)}}{2}$",
            "text/plain": [
              "x/2 - sin(x)*cos(x)/2"
            ]
          },
          "metadata": {
            "tags": []
          },
          "execution_count": 148
        }
      ]
    },
    {
      "cell_type": "markdown",
      "metadata": {
        "id": "3023b648"
      },
      "source": [
        "## Limits"
      ],
      "id": "3023b648"
    },
    {
      "cell_type": "code",
      "metadata": {
        "id": "e245445f",
        "outputId": "3b1cf14e-6d82-4b5c-e997-e8363e734a89"
      },
      "source": [
        "limit(1/x, x, 0,'+')"
      ],
      "id": "e245445f",
      "execution_count": null,
      "outputs": [
        {
          "output_type": "execute_result",
          "data": {
            "text/latex": "$\\displaystyle \\infty$",
            "text/plain": [
              "oo"
            ]
          },
          "metadata": {
            "tags": []
          },
          "execution_count": 155
        }
      ]
    },
    {
      "cell_type": "code",
      "metadata": {
        "id": "e5f695d3",
        "outputId": "f5fd7561-5196-4733-fe38-754981a1e8ba"
      },
      "source": [
        "Eq(Limit(1/y, y, 0), limit(1/y, y, 0))"
      ],
      "id": "e5f695d3",
      "execution_count": null,
      "outputs": [
        {
          "output_type": "execute_result",
          "data": {
            "text/latex": "$\\displaystyle \\lim_{y \\to 0^+} \\frac{1}{y} = \\infty$",
            "text/plain": [
              "Eq(Limit(1/y, y, 0), oo)"
            ]
          },
          "metadata": {
            "tags": []
          },
          "execution_count": 160
        }
      ]
    }
  ]
}